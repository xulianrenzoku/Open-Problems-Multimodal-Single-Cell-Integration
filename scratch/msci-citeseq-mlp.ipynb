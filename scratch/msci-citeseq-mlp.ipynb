{
 "cells": [
  {
   "cell_type": "code",
   "execution_count": 1,
   "id": "69bac77f",
   "metadata": {
    "_cell_guid": "b1076dfc-b9ad-4769-8c92-a6c4dae69d19",
    "_uuid": "8f2839f25d086af736a60e9eeb907d3b93b6e0e5",
    "execution": {
     "iopub.execute_input": "2022-11-03T15:26:13.630996Z",
     "iopub.status.busy": "2022-11-03T15:26:13.630539Z",
     "iopub.status.idle": "2022-11-03T15:26:13.717606Z",
     "shell.execute_reply": "2022-11-03T15:26:13.716457Z"
    },
    "papermill": {
     "duration": 0.105664,
     "end_time": "2022-11-03T15:26:13.720557",
     "exception": false,
     "start_time": "2022-11-03T15:26:13.614893",
     "status": "completed"
    },
    "tags": []
   },
   "outputs": [],
   "source": [
    "import os\n",
    "import os.path\n",
    "import random\n",
    "import gc\n",
    "import numpy as np\n",
    "import pandas as pd\n",
    "import scipy.sparse\n",
    "from tqdm import tqdm"
   ]
  },
  {
   "cell_type": "code",
   "execution_count": 2,
   "id": "864a40f5",
   "metadata": {
    "execution": {
     "iopub.execute_input": "2022-11-03T15:26:13.749339Z",
     "iopub.status.busy": "2022-11-03T15:26:13.748536Z",
     "iopub.status.idle": "2022-11-03T15:26:13.753560Z",
     "shell.execute_reply": "2022-11-03T15:26:13.752431Z"
    },
    "papermill": {
     "duration": 0.023095,
     "end_time": "2022-11-03T15:26:13.756183",
     "exception": false,
     "start_time": "2022-11-03T15:26:13.733088",
     "status": "completed"
    },
    "tags": []
   },
   "outputs": [],
   "source": [
    "import warnings \n",
    "warnings.filterwarnings('ignore')"
   ]
  },
  {
   "cell_type": "code",
   "execution_count": 3,
   "id": "db5c18ff",
   "metadata": {
    "execution": {
     "iopub.execute_input": "2022-11-03T15:26:13.783287Z",
     "iopub.status.busy": "2022-11-03T15:26:13.782329Z",
     "iopub.status.idle": "2022-11-03T15:26:14.656491Z",
     "shell.execute_reply": "2022-11-03T15:26:14.655366Z"
    },
    "papermill": {
     "duration": 0.89057,
     "end_time": "2022-11-03T15:26:14.659208",
     "exception": false,
     "start_time": "2022-11-03T15:26:13.768638",
     "status": "completed"
    },
    "tags": []
   },
   "outputs": [],
   "source": [
    "import seaborn as sns\n",
    "import matplotlib\n",
    "import matplotlib.pyplot as plt\n",
    "from IPython.core.pylabtools import figsize"
   ]
  },
  {
   "cell_type": "code",
   "execution_count": 4,
   "id": "98d2dc96",
   "metadata": {
    "execution": {
     "iopub.execute_input": "2022-11-03T15:26:14.686113Z",
     "iopub.status.busy": "2022-11-03T15:26:14.685068Z",
     "iopub.status.idle": "2022-11-03T15:26:14.690793Z",
     "shell.execute_reply": "2022-11-03T15:26:14.689713Z"
    },
    "papermill": {
     "duration": 0.021606,
     "end_time": "2022-11-03T15:26:14.693238",
     "exception": false,
     "start_time": "2022-11-03T15:26:14.671632",
     "status": "completed"
    },
    "tags": []
   },
   "outputs": [],
   "source": [
    "sns.set()"
   ]
  },
  {
   "cell_type": "code",
   "execution_count": 5,
   "id": "f62878b5",
   "metadata": {
    "execution": {
     "iopub.execute_input": "2022-11-03T15:26:14.719685Z",
     "iopub.status.busy": "2022-11-03T15:26:14.719280Z",
     "iopub.status.idle": "2022-11-03T15:26:14.725169Z",
     "shell.execute_reply": "2022-11-03T15:26:14.724073Z"
    },
    "papermill": {
     "duration": 0.022006,
     "end_time": "2022-11-03T15:26:14.727652",
     "exception": false,
     "start_time": "2022-11-03T15:26:14.705646",
     "status": "completed"
    },
    "tags": []
   },
   "outputs": [],
   "source": [
    "import pickle\n",
    "\n",
    "def dump_pickle(file, filename):\n",
    "    outfile = open(filename, 'wb')\n",
    "    pickle.dump(file, outfile)\n",
    "    outfile.close()\n",
    "\n",
    "def load_pickle(filename):\n",
    "    infile = open(filename, 'rb')\n",
    "    file = pickle.load(infile)\n",
    "    infile.close()\n",
    "    return file"
   ]
  },
  {
   "cell_type": "code",
   "execution_count": 6,
   "id": "95f266ca",
   "metadata": {
    "execution": {
     "iopub.execute_input": "2022-11-03T15:26:14.754485Z",
     "iopub.status.busy": "2022-11-03T15:26:14.754070Z",
     "iopub.status.idle": "2022-11-03T15:26:15.795156Z",
     "shell.execute_reply": "2022-11-03T15:26:15.793779Z"
    },
    "papermill": {
     "duration": 1.057127,
     "end_time": "2022-11-03T15:26:15.797605",
     "exception": false,
     "start_time": "2022-11-03T15:26:14.740478",
     "status": "completed"
    },
    "tags": []
   },
   "outputs": [
    {
     "name": "stdout",
     "output_type": "stream",
     "text": [
      "total 27G\r\n",
      "-rw-r--r-- 1 nobody nogroup 2.3G Sep  7 19:38 evaluation_ids.csv\r\n",
      "-rw-r--r-- 1 nobody nogroup 9.4M Sep  7 19:37 metadata.csv\r\n",
      "-rw-r--r-- 1 nobody nogroup 230K Sep  7 19:37 metadata_cite_day_2_donor_27678.csv\r\n",
      "-rw-r--r-- 1 nobody nogroup 805M Sep  7 19:37 sample_submission.csv\r\n",
      "-rw-r--r-- 1 nobody nogroup 1.6G Sep  7 19:38 test_cite_inputs.h5\r\n",
      "-rw-r--r-- 1 nobody nogroup 294M Sep  7 19:37 test_cite_inputs_day_2_donor_27678.h5\r\n",
      "-rw-r--r-- 1 nobody nogroup 6.1G Sep  7 19:39 test_multi_inputs.h5\r\n",
      "-rw-r--r-- 1 nobody nogroup 2.4G Sep  7 19:38 train_cite_inputs.h5\r\n",
      "-rw-r--r-- 1 nobody nogroup  37M Sep  7 19:37 train_cite_targets.h5\r\n",
      "-rw-r--r-- 1 nobody nogroup  11G Sep  7 19:40 train_multi_inputs.h5\r\n",
      "-rw-r--r-- 1 nobody nogroup 3.0G Sep  7 19:38 train_multi_targets.h5\r\n"
     ]
    }
   ],
   "source": [
    "DATA_DIR = '../input/open-problems-multimodal'\n",
    "%ls $DATA_DIR -lh"
   ]
  },
  {
   "cell_type": "markdown",
   "id": "4df77480",
   "metadata": {
    "execution": {
     "iopub.execute_input": "2022-10-24T09:53:23.30961Z",
     "iopub.status.busy": "2022-10-24T09:53:23.309238Z",
     "iopub.status.idle": "2022-10-24T09:53:23.315117Z",
     "shell.execute_reply": "2022-10-24T09:53:23.313565Z",
     "shell.execute_reply.started": "2022-10-24T09:53:23.309583Z"
    },
    "papermill": {
     "duration": 0.012209,
     "end_time": "2022-11-03T15:26:15.822381",
     "exception": false,
     "start_time": "2022-11-03T15:26:15.810172",
     "status": "completed"
    },
    "tags": []
   },
   "source": [
    "## Read Data"
   ]
  },
  {
   "cell_type": "code",
   "execution_count": 7,
   "id": "58b1fc10",
   "metadata": {
    "execution": {
     "iopub.execute_input": "2022-11-03T15:26:15.849912Z",
     "iopub.status.busy": "2022-11-03T15:26:15.849176Z",
     "iopub.status.idle": "2022-11-03T15:27:08.478783Z",
     "shell.execute_reply": "2022-11-03T15:27:08.477548Z"
    },
    "papermill": {
     "duration": 52.658248,
     "end_time": "2022-11-03T15:27:08.493013",
     "exception": false,
     "start_time": "2022-11-03T15:26:15.834765",
     "status": "completed"
    },
    "tags": []
   },
   "outputs": [
    {
     "name": "stdout",
     "output_type": "stream",
     "text": [
      "CPU times: user 28.1 s, sys: 5.29 s, total: 33.4 s\n",
      "Wall time: 52.6 s\n"
     ]
    }
   ],
   "source": [
    "%%time\n",
    "train_inp = pd.read_hdf(f'{DATA_DIR}/train_cite_inputs.h5')\n",
    "train_inp_cols = train_inp.columns"
   ]
  },
  {
   "cell_type": "code",
   "execution_count": 8,
   "id": "e5bf0e9b",
   "metadata": {
    "execution": {
     "iopub.execute_input": "2022-11-03T15:27:08.520277Z",
     "iopub.status.busy": "2022-11-03T15:27:08.519516Z",
     "iopub.status.idle": "2022-11-03T15:27:43.485344Z",
     "shell.execute_reply": "2022-11-03T15:27:43.484019Z"
    },
    "papermill": {
     "duration": 34.995309,
     "end_time": "2022-11-03T15:27:43.500644",
     "exception": false,
     "start_time": "2022-11-03T15:27:08.505335",
     "status": "completed"
    },
    "tags": []
   },
   "outputs": [
    {
     "name": "stdout",
     "output_type": "stream",
     "text": [
      "CPU times: user 19 s, sys: 2.96 s, total: 21.9 s\n",
      "Wall time: 35 s\n"
     ]
    }
   ],
   "source": [
    "%%time\n",
    "test_inp = pd.read_hdf(f'{DATA_DIR}/test_cite_inputs.h5')"
   ]
  },
  {
   "cell_type": "code",
   "execution_count": 9,
   "id": "3e4c8881",
   "metadata": {
    "execution": {
     "iopub.execute_input": "2022-11-03T15:27:43.528708Z",
     "iopub.status.busy": "2022-11-03T15:27:43.527594Z",
     "iopub.status.idle": "2022-11-03T15:27:44.150555Z",
     "shell.execute_reply": "2022-11-03T15:27:44.149038Z"
    },
    "papermill": {
     "duration": 0.639517,
     "end_time": "2022-11-03T15:27:44.153373",
     "exception": false,
     "start_time": "2022-11-03T15:27:43.513856",
     "status": "completed"
    },
    "tags": []
   },
   "outputs": [
    {
     "name": "stdout",
     "output_type": "stream",
     "text": [
      "CPU times: user 176 ms, sys: 39.7 ms, total: 216 ms\n",
      "Wall time: 615 ms\n"
     ]
    }
   ],
   "source": [
    "%%time\n",
    "train_tar = pd.read_hdf(f'{DATA_DIR}/train_cite_targets.h5')\n",
    "train_tar_cols = train_tar.columns"
   ]
  },
  {
   "cell_type": "markdown",
   "id": "804cb224",
   "metadata": {
    "papermill": {
     "duration": 0.012991,
     "end_time": "2022-11-03T15:27:44.179295",
     "exception": false,
     "start_time": "2022-11-03T15:27:44.166304",
     "status": "completed"
    },
    "tags": []
   },
   "source": [
    "## Data Preprocessing"
   ]
  },
  {
   "cell_type": "markdown",
   "id": "d82c3ada",
   "metadata": {
    "papermill": {
     "duration": 0.012591,
     "end_time": "2022-11-03T15:27:44.204685",
     "exception": false,
     "start_time": "2022-11-03T15:27:44.192094",
     "status": "completed"
    },
    "tags": []
   },
   "source": [
    "Find columns with all zeroes"
   ]
  },
  {
   "cell_type": "code",
   "execution_count": 10,
   "id": "36e93b6f",
   "metadata": {
    "execution": {
     "iopub.execute_input": "2022-11-03T15:27:44.232734Z",
     "iopub.status.busy": "2022-11-03T15:27:44.232318Z",
     "iopub.status.idle": "2022-11-03T15:28:24.098799Z",
     "shell.execute_reply": "2022-11-03T15:28:24.097271Z"
    },
    "papermill": {
     "duration": 39.88428,
     "end_time": "2022-11-03T15:28:24.102059",
     "exception": false,
     "start_time": "2022-11-03T15:27:44.217779",
     "status": "completed"
    },
    "tags": []
   },
   "outputs": [
    {
     "name": "stdout",
     "output_type": "stream",
     "text": [
      "0\n",
      "1000\n",
      "2000\n",
      "3000\n",
      "4000\n",
      "5000\n",
      "6000\n",
      "7000\n",
      "8000\n",
      "9000\n",
      "10000\n",
      "11000\n",
      "12000\n",
      "13000\n",
      "14000\n",
      "15000\n",
      "16000\n",
      "17000\n",
      "18000\n",
      "19000\n",
      "20000\n",
      "21000\n",
      "22000\n",
      "Number of columns with zero values only (Train or Test): 1194\n",
      "CPU times: user 39.7 s, sys: 151 ms, total: 39.9 s\n",
      "Wall time: 39.9 s\n"
     ]
    }
   ],
   "source": [
    "%%time\n",
    "zero_cols = []\n",
    "for idx, col in enumerate(train_inp_cols, 0):\n",
    "    if idx % 1000 == 0:\n",
    "        print(idx)\n",
    "    if len(train_inp[col].unique()) == 1 or len(test_inp[col].unique()) == 1:\n",
    "        zero_cols.append(col)\n",
    "print('Number of columns with zero values only (Train or Test):', \n",
    "      len(zero_cols))"
   ]
  },
  {
   "cell_type": "code",
   "execution_count": 11,
   "id": "dc184a98",
   "metadata": {
    "execution": {
     "iopub.execute_input": "2022-11-03T15:28:24.133202Z",
     "iopub.status.busy": "2022-11-03T15:28:24.132259Z",
     "iopub.status.idle": "2022-11-03T15:28:27.329917Z",
     "shell.execute_reply": "2022-11-03T15:28:27.328502Z"
    },
    "papermill": {
     "duration": 3.215379,
     "end_time": "2022-11-03T15:28:27.332294",
     "exception": false,
     "start_time": "2022-11-03T15:28:24.116915",
     "status": "completed"
    },
    "tags": []
   },
   "outputs": [
    {
     "name": "stdout",
     "output_type": "stream",
     "text": [
      "CPU times: user 1.24 s, sys: 1.96 s, total: 3.2 s\n",
      "Wall time: 3.19 s\n"
     ]
    },
    {
     "data": {
      "text/plain": [
       "((70988, 20856), (48663, 20856))"
      ]
     },
     "execution_count": 11,
     "metadata": {},
     "output_type": "execute_result"
    }
   ],
   "source": [
    "%%time\n",
    "train_inp = train_inp.drop(zero_cols, axis=1)\n",
    "train_inp_cols = train_inp.columns\n",
    "test_inp = test_inp.drop(zero_cols, axis=1)\n",
    "train_inp.shape, test_inp.shape"
   ]
  },
  {
   "cell_type": "code",
   "execution_count": 12,
   "id": "ebac1ff2",
   "metadata": {
    "execution": {
     "iopub.execute_input": "2022-11-03T15:28:27.363117Z",
     "iopub.status.busy": "2022-11-03T15:28:27.362043Z",
     "iopub.status.idle": "2022-11-03T15:28:27.367100Z",
     "shell.execute_reply": "2022-11-03T15:28:27.366008Z"
    },
    "papermill": {
     "duration": 0.022578,
     "end_time": "2022-11-03T15:28:27.369314",
     "exception": false,
     "start_time": "2022-11-03T15:28:27.346736",
     "status": "completed"
    },
    "tags": []
   },
   "outputs": [],
   "source": [
    "# %%time\n",
    "# np.min(train_inp.min().unique()), np.max(train_inp.max().unique())"
   ]
  },
  {
   "cell_type": "code",
   "execution_count": 13,
   "id": "5687cc0a",
   "metadata": {
    "execution": {
     "iopub.execute_input": "2022-11-03T15:28:27.399649Z",
     "iopub.status.busy": "2022-11-03T15:28:27.398692Z",
     "iopub.status.idle": "2022-11-03T15:28:27.534492Z",
     "shell.execute_reply": "2022-11-03T15:28:27.533498Z"
    },
    "papermill": {
     "duration": 0.153688,
     "end_time": "2022-11-03T15:28:27.537122",
     "exception": false,
     "start_time": "2022-11-03T15:28:27.383434",
     "status": "completed"
    },
    "tags": []
   },
   "outputs": [],
   "source": [
    "from sklearn.preprocessing import StandardScaler, Normalizer"
   ]
  },
  {
   "cell_type": "code",
   "execution_count": 14,
   "id": "bb97ceff",
   "metadata": {
    "execution": {
     "iopub.execute_input": "2022-11-03T15:28:27.568061Z",
     "iopub.status.busy": "2022-11-03T15:28:27.567124Z",
     "iopub.status.idle": "2022-11-03T15:28:54.634147Z",
     "shell.execute_reply": "2022-11-03T15:28:54.632865Z"
    },
    "papermill": {
     "duration": 27.08526,
     "end_time": "2022-11-03T15:28:54.636827",
     "exception": false,
     "start_time": "2022-11-03T15:28:27.551567",
     "status": "completed"
    },
    "tags": []
   },
   "outputs": [],
   "source": [
    "sc = StandardScaler()\n",
    "train_inp = sc.fit_transform(train_inp)\n",
    "test_inp = sc.transform(test_inp)"
   ]
  },
  {
   "cell_type": "code",
   "execution_count": 15,
   "id": "2c8b9620",
   "metadata": {
    "execution": {
     "iopub.execute_input": "2022-11-03T15:28:54.667650Z",
     "iopub.status.busy": "2022-11-03T15:28:54.667210Z",
     "iopub.status.idle": "2022-11-03T15:28:54.783671Z",
     "shell.execute_reply": "2022-11-03T15:28:54.782813Z"
    },
    "papermill": {
     "duration": 0.133974,
     "end_time": "2022-11-03T15:28:54.785735",
     "exception": false,
     "start_time": "2022-11-03T15:28:54.651761",
     "status": "completed"
    },
    "tags": []
   },
   "outputs": [
    {
     "data": {
      "text/plain": [
       "42"
      ]
     },
     "execution_count": 15,
     "metadata": {},
     "output_type": "execute_result"
    }
   ],
   "source": [
    "del sc\n",
    "gc.collect()"
   ]
  },
  {
   "cell_type": "code",
   "execution_count": 16,
   "id": "626ceea4",
   "metadata": {
    "execution": {
     "iopub.execute_input": "2022-11-03T15:28:54.816844Z",
     "iopub.status.busy": "2022-11-03T15:28:54.816171Z",
     "iopub.status.idle": "2022-11-03T15:28:55.865808Z",
     "shell.execute_reply": "2022-11-03T15:28:55.864123Z"
    },
    "papermill": {
     "duration": 1.068935,
     "end_time": "2022-11-03T15:28:55.869199",
     "exception": false,
     "start_time": "2022-11-03T15:28:54.800264",
     "status": "completed"
    },
    "tags": []
   },
   "outputs": [],
   "source": [
    "%mkdir ../tmp"
   ]
  },
  {
   "cell_type": "code",
   "execution_count": 17,
   "id": "e6e74a89",
   "metadata": {
    "execution": {
     "iopub.execute_input": "2022-11-03T15:28:55.901284Z",
     "iopub.status.busy": "2022-11-03T15:28:55.900587Z",
     "iopub.status.idle": "2022-11-03T15:29:05.203419Z",
     "shell.execute_reply": "2022-11-03T15:29:05.202465Z"
    },
    "papermill": {
     "duration": 9.321769,
     "end_time": "2022-11-03T15:29:05.205872",
     "exception": false,
     "start_time": "2022-11-03T15:28:55.884103",
     "status": "completed"
    },
    "tags": []
   },
   "outputs": [
    {
     "data": {
      "text/plain": [
       "42"
      ]
     },
     "execution_count": 17,
     "metadata": {},
     "output_type": "execute_result"
    }
   ],
   "source": [
    "dump_pickle(test_inp, '../tmp/test_inp')\n",
    "del test_inp\n",
    "gc.collect()"
   ]
  },
  {
   "cell_type": "code",
   "execution_count": 18,
   "id": "5ab5dfcd",
   "metadata": {
    "execution": {
     "iopub.execute_input": "2022-11-03T15:29:05.236991Z",
     "iopub.status.busy": "2022-11-03T15:29:05.236243Z",
     "iopub.status.idle": "2022-11-03T15:29:05.243607Z",
     "shell.execute_reply": "2022-11-03T15:29:05.242735Z"
    },
    "papermill": {
     "duration": 0.025079,
     "end_time": "2022-11-03T15:29:05.245592",
     "exception": false,
     "start_time": "2022-11-03T15:29:05.220513",
     "status": "completed"
    },
    "tags": []
   },
   "outputs": [],
   "source": [
    "train_tar = train_tar.values"
   ]
  },
  {
   "cell_type": "markdown",
   "id": "fab625a2",
   "metadata": {
    "papermill": {
     "duration": 0.014011,
     "end_time": "2022-11-03T15:29:05.273859",
     "exception": false,
     "start_time": "2022-11-03T15:29:05.259848",
     "status": "completed"
    },
    "tags": []
   },
   "source": [
    "## Modeling"
   ]
  },
  {
   "cell_type": "code",
   "execution_count": 19,
   "id": "18a39cb2",
   "metadata": {
    "execution": {
     "iopub.execute_input": "2022-11-03T15:29:05.304295Z",
     "iopub.status.busy": "2022-11-03T15:29:05.303845Z",
     "iopub.status.idle": "2022-11-03T15:29:07.310629Z",
     "shell.execute_reply": "2022-11-03T15:29:07.309217Z"
    },
    "papermill": {
     "duration": 2.025137,
     "end_time": "2022-11-03T15:29:07.313347",
     "exception": false,
     "start_time": "2022-11-03T15:29:05.288210",
     "status": "completed"
    },
    "tags": []
   },
   "outputs": [],
   "source": [
    "import torch\n",
    "import torch.nn as nn\n",
    "import torch.nn.functional as F\n",
    "import torch.optim as optim\n",
    "from torchvision import datasets, transforms\n",
    "from torch.utils.data import DataLoader, TensorDataset, random_split"
   ]
  },
  {
   "cell_type": "code",
   "execution_count": 20,
   "id": "59788068",
   "metadata": {
    "execution": {
     "iopub.execute_input": "2022-11-03T15:29:07.344961Z",
     "iopub.status.busy": "2022-11-03T15:29:07.344254Z",
     "iopub.status.idle": "2022-11-03T15:29:07.349162Z",
     "shell.execute_reply": "2022-11-03T15:29:07.348081Z"
    },
    "papermill": {
     "duration": 0.023478,
     "end_time": "2022-11-03T15:29:07.351305",
     "exception": false,
     "start_time": "2022-11-03T15:29:07.327827",
     "status": "completed"
    },
    "tags": []
   },
   "outputs": [],
   "source": [
    "# torch.manual_seed(42)\n",
    "# torch.backends.cudnn.deterministic = True"
   ]
  },
  {
   "cell_type": "code",
   "execution_count": 21,
   "id": "24347d1b",
   "metadata": {
    "execution": {
     "iopub.execute_input": "2022-11-03T15:29:07.381806Z",
     "iopub.status.busy": "2022-11-03T15:29:07.381397Z",
     "iopub.status.idle": "2022-11-03T15:29:07.387482Z",
     "shell.execute_reply": "2022-11-03T15:29:07.386427Z"
    },
    "papermill": {
     "duration": 0.02433,
     "end_time": "2022-11-03T15:29:07.389971",
     "exception": false,
     "start_time": "2022-11-03T15:29:07.365641",
     "status": "completed"
    },
    "tags": []
   },
   "outputs": [
    {
     "name": "stdout",
     "output_type": "stream",
     "text": [
      "CPU times: user 29 µs, sys: 6 µs, total: 35 µs\n",
      "Wall time: 39.3 µs\n"
     ]
    }
   ],
   "source": [
    "%%time\n",
    "train_inp = torch.from_numpy(train_inp)\n",
    "train_tar = torch.from_numpy(train_tar)"
   ]
  },
  {
   "cell_type": "code",
   "execution_count": 22,
   "id": "656bd269",
   "metadata": {
    "execution": {
     "iopub.execute_input": "2022-11-03T15:29:07.422522Z",
     "iopub.status.busy": "2022-11-03T15:29:07.421346Z",
     "iopub.status.idle": "2022-11-03T15:29:07.436264Z",
     "shell.execute_reply": "2022-11-03T15:29:07.435322Z"
    },
    "papermill": {
     "duration": 0.033827,
     "end_time": "2022-11-03T15:29:07.438771",
     "exception": false,
     "start_time": "2022-11-03T15:29:07.404944",
     "status": "completed"
    },
    "tags": []
   },
   "outputs": [],
   "source": [
    "full_ds = TensorDataset(train_inp, train_tar)\n",
    "train_sz = 56800\n",
    "val_sz = len(full_ds) - train_sz\n",
    "train_ds, val_ds = random_split(full_ds, \n",
    "                                [train_sz, val_sz],\n",
    "                                generator=torch.Generator().manual_seed(42))"
   ]
  },
  {
   "cell_type": "code",
   "execution_count": 23,
   "id": "05a19695",
   "metadata": {
    "execution": {
     "iopub.execute_input": "2022-11-03T15:29:07.469053Z",
     "iopub.status.busy": "2022-11-03T15:29:07.468600Z",
     "iopub.status.idle": "2022-11-03T15:29:07.474578Z",
     "shell.execute_reply": "2022-11-03T15:29:07.473353Z"
    },
    "papermill": {
     "duration": 0.023682,
     "end_time": "2022-11-03T15:29:07.476855",
     "exception": false,
     "start_time": "2022-11-03T15:29:07.453173",
     "status": "completed"
    },
    "tags": []
   },
   "outputs": [],
   "source": [
    "batch_size = 512\n",
    "train_loader = DataLoader(train_ds, batch_size=batch_size, shuffle=True)\n",
    "val_loader = DataLoader(val_ds, batch_size=batch_size, shuffle=False)"
   ]
  },
  {
   "cell_type": "code",
   "execution_count": 24,
   "id": "1fc63080",
   "metadata": {
    "execution": {
     "iopub.execute_input": "2022-11-03T15:29:07.507991Z",
     "iopub.status.busy": "2022-11-03T15:29:07.507281Z",
     "iopub.status.idle": "2022-11-03T15:29:07.518600Z",
     "shell.execute_reply": "2022-11-03T15:29:07.517312Z"
    },
    "papermill": {
     "duration": 0.029355,
     "end_time": "2022-11-03T15:29:07.521047",
     "exception": false,
     "start_time": "2022-11-03T15:29:07.491692",
     "status": "completed"
    },
    "tags": []
   },
   "outputs": [],
   "source": [
    "class Net(nn.Module):\n",
    "    def __init__(self):\n",
    "        \"\"\"In the constructor we instantiate two nn.Linear modules and assign them as\n",
    "        member variables (self).\n",
    "        \"\"\"\n",
    "        super(Net, self).__init__()\n",
    "        self.linear1 = nn.Linear(20856, 128)\n",
    "        self.bn1 = nn.BatchNorm1d(128)\n",
    "        self.linear2 = nn.Linear(128, 128)\n",
    "        self.bn2 = nn.BatchNorm1d(128)\n",
    "        self.linear3 = nn.Linear(128, 128)\n",
    "        self.bn3 = nn.BatchNorm1d(128)\n",
    "        self.linear4 = nn.Linear(128, 140)\n",
    "\n",
    "    def forward(self, x):\n",
    "        \"\"\"\n",
    "        In the forward function we accept a Tensor of input data and we must return\n",
    "        a Tensor of output data. We can use Modules defined in the constructor as\n",
    "        well as arbitrary operators on Tensors.\n",
    "        \"\"\"\n",
    "        x = self.linear1(x)\n",
    "        x = self.bn1(x)\n",
    "        x = F.relu(x)\n",
    "        x = self.linear2(x)\n",
    "        x = self.bn2(x)\n",
    "        x = F.relu(x)\n",
    "        x = self.linear3(x)\n",
    "        x = self.bn3(x)\n",
    "        x = F.relu(x)\n",
    "        x = self.linear4(x)\n",
    "        return x"
   ]
  },
  {
   "cell_type": "code",
   "execution_count": 25,
   "id": "69e929ce",
   "metadata": {
    "execution": {
     "iopub.execute_input": "2022-11-03T15:29:07.551749Z",
     "iopub.status.busy": "2022-11-03T15:29:07.551377Z",
     "iopub.status.idle": "2022-11-03T15:29:07.555752Z",
     "shell.execute_reply": "2022-11-03T15:29:07.554644Z"
    },
    "papermill": {
     "duration": 0.022503,
     "end_time": "2022-11-03T15:29:07.557996",
     "exception": false,
     "start_time": "2022-11-03T15:29:07.535493",
     "status": "completed"
    },
    "tags": []
   },
   "outputs": [],
   "source": [
    "# preds = net(x)\n",
    "# vpreds = preds - torch.mean(preds)\n",
    "# vy = y - torch.mean(y)\n",
    "# loss = torch.sum(vpreds * vy) / \\\n",
    "#        (torch.sqrt(torch.sum(vpreds ** 2)) *\n",
    "#         torch.sqrt(torch.sum(vy ** 2)))\n",
    "# loss"
   ]
  },
  {
   "cell_type": "code",
   "execution_count": 26,
   "id": "b8bc32d1",
   "metadata": {
    "execution": {
     "iopub.execute_input": "2022-11-03T15:29:07.588310Z",
     "iopub.status.busy": "2022-11-03T15:29:07.587870Z",
     "iopub.status.idle": "2022-11-03T15:29:07.596075Z",
     "shell.execute_reply": "2022-11-03T15:29:07.594947Z"
    },
    "papermill": {
     "duration": 0.025892,
     "end_time": "2022-11-03T15:29:07.598228",
     "exception": false,
     "start_time": "2022-11-03T15:29:07.572336",
     "status": "completed"
    },
    "tags": []
   },
   "outputs": [],
   "source": [
    "def train_model(train_loader, model, optimizer):\n",
    "    \n",
    "    model.train()\n",
    "    sum_corr = 0.0 # sum_loss = 0.0\n",
    "    total = 0\n",
    "    \n",
    "    for i, (x, y) in enumerate(train_loader):\n",
    "        batch = x.shape[0]\n",
    "        \n",
    "        preds = model(x)\n",
    "        vpreds = preds - torch.mean(preds)\n",
    "        vy = y - torch.mean(y)\n",
    "        corr = torch.sum(vpreds * vy) / \\\n",
    "               (torch.sqrt(torch.sum(vpreds ** 2)) *\n",
    "                torch.sqrt(torch.sum(vy ** 2)))\n",
    "        loss = -corr\n",
    "        \n",
    "        optimizer.zero_grad()\n",
    "        loss.backward()\n",
    "        \n",
    "        optimizer.step()\n",
    "        \n",
    "        total += batch\n",
    "        sum_corr += batch * corr\n",
    "    \n",
    "    train_corr = sum_corr/total \n",
    "    return train_corr"
   ]
  },
  {
   "cell_type": "code",
   "execution_count": 27,
   "id": "2982e16f",
   "metadata": {
    "execution": {
     "iopub.execute_input": "2022-11-03T15:29:07.628707Z",
     "iopub.status.busy": "2022-11-03T15:29:07.628325Z",
     "iopub.status.idle": "2022-11-03T15:29:07.635234Z",
     "shell.execute_reply": "2022-11-03T15:29:07.634402Z"
    },
    "papermill": {
     "duration": 0.024577,
     "end_time": "2022-11-03T15:29:07.637192",
     "exception": false,
     "start_time": "2022-11-03T15:29:07.612615",
     "status": "completed"
    },
    "tags": []
   },
   "outputs": [],
   "source": [
    "def model_eval(model, val_loader):\n",
    "    model.eval()\n",
    "    sum_corr = 0.0 # sum_loss = 0.0\n",
    "    total = 0\n",
    "    \n",
    "    for i, (x, y) in enumerate(val_loader):\n",
    "        batch = x.shape[0]\n",
    "        \n",
    "        preds = model(x)\n",
    "        vpreds = preds - torch.mean(preds)\n",
    "        vy = y - torch.mean(y)\n",
    "        corr = torch.sum(vpreds * vy) / \\\n",
    "               (torch.sqrt(torch.sum(vpreds ** 2)) *\n",
    "                torch.sqrt(torch.sum(vy ** 2)))\n",
    "        loss = -corr\n",
    "        \n",
    "        total += batch\n",
    "        sum_corr += batch * corr\n",
    "        \n",
    "    val_corr = sum_corr/total\n",
    "    return val_corr"
   ]
  },
  {
   "cell_type": "code",
   "execution_count": 28,
   "id": "0d20fa1f",
   "metadata": {
    "execution": {
     "iopub.execute_input": "2022-11-03T15:29:07.667664Z",
     "iopub.status.busy": "2022-11-03T15:29:07.667298Z",
     "iopub.status.idle": "2022-11-03T15:29:07.672619Z",
     "shell.execute_reply": "2022-11-03T15:29:07.671443Z"
    },
    "papermill": {
     "duration": 0.022926,
     "end_time": "2022-11-03T15:29:07.674624",
     "exception": false,
     "start_time": "2022-11-03T15:29:07.651698",
     "status": "completed"
    },
    "tags": []
   },
   "outputs": [],
   "source": [
    "# res = []\n",
    "# lrs = [0.01, 0.001, 0.0001, 0.00001]\n",
    "# wds = [0.1, 0.01]\n",
    "# epochs = 25\n",
    "\n",
    "# for learning_rate in lrs:\n",
    "#     for weight_decay in wds:\n",
    "#         print('------')\n",
    "#         print(f'learning rate: {learning_rate}')\n",
    "#         print(f'weight decay: {weight_decay}')\n",
    "#         print()\n",
    "        \n",
    "#         net = Net()\n",
    "#         optimizer = optim.Adam(net.parameters(),\n",
    "#                     lr=learning_rate,\n",
    "#                     weight_decay=weight_decay)\n",
    "        \n",
    "#         train_corrs = []\n",
    "#         val_corrs = []\n",
    "        \n",
    "#         for i in range(epochs):\n",
    "#             print('epoch', i)\n",
    "#             train_corr = -(train_model(train_loader, net, optimizer))\n",
    "#             train_corrs.append(float(train_corr.detach().numpy()))\n",
    "#             print('train corr:', train_corr)\n",
    "#             val_corr = -(model_eval(net, val_loader))\n",
    "#             val_corrs.append(float(val_corr.detach().numpy()))\n",
    "#             print('val corr:', val_corr)\n",
    "#             print()\n",
    "        \n",
    "#         res.append([train_corrs, val_corrs, \n",
    "#                     learning_rate, weight_decay])   \n",
    "        \n",
    "# del net, train_corrs, val_corrs\n",
    "# gc.collect()"
   ]
  },
  {
   "cell_type": "code",
   "execution_count": 29,
   "id": "9e5696d7",
   "metadata": {
    "execution": {
     "iopub.execute_input": "2022-11-03T15:29:07.705749Z",
     "iopub.status.busy": "2022-11-03T15:29:07.705074Z",
     "iopub.status.idle": "2022-11-03T15:29:07.711275Z",
     "shell.execute_reply": "2022-11-03T15:29:07.710378Z"
    },
    "papermill": {
     "duration": 0.024171,
     "end_time": "2022-11-03T15:29:07.713304",
     "exception": false,
     "start_time": "2022-11-03T15:29:07.689133",
     "status": "completed"
    },
    "tags": []
   },
   "outputs": [],
   "source": [
    "# figsize(12, 8)\n",
    "# for i in range(8):\n",
    "#     train_corrs, val_corrs, learning_rate, weight_decay = res[i]\n",
    "#     print('------')\n",
    "#     print(f'learning rate: {learning_rate}')\n",
    "#     print(f'weight decay: {weight_decay}')\n",
    "#     print(f'best score on val set: {np.max(val_corrs):.4f}')\n",
    "#     print()\n",
    "    \n",
    "#     plt.subplot(4, 2, i+1)\n",
    "#     plt.scatter(list(range(epochs)), \n",
    "#                 train_corrs, \n",
    "#                 label='training corr')\n",
    "#     plt.plot(list(range(epochs)), \n",
    "#              train_corrs)\n",
    "#     plt.scatter(list(range(epochs)), \n",
    "#                 val_corrs, \n",
    "#                 label='val corr')\n",
    "#     plt.plot(list(range(epochs)), \n",
    "#              val_corrs)\n",
    "#     plt.legend(loc='lower right')\n",
    "#     plt.title(f'lr = {learning_rate} | wd = {weight_decay}')\n",
    "#     plt.ylim(0.7, 1)\n",
    "# plt.tight_layout()\n",
    "\n",
    "# del train_corrs, val_corrs\n",
    "# gc.collect()"
   ]
  },
  {
   "cell_type": "code",
   "execution_count": 30,
   "id": "3ceed66e",
   "metadata": {
    "execution": {
     "iopub.execute_input": "2022-11-03T15:29:07.744117Z",
     "iopub.status.busy": "2022-11-03T15:29:07.743356Z",
     "iopub.status.idle": "2022-11-03T15:29:07.778162Z",
     "shell.execute_reply": "2022-11-03T15:29:07.777182Z"
    },
    "papermill": {
     "duration": 0.05314,
     "end_time": "2022-11-03T15:29:07.780765",
     "exception": false,
     "start_time": "2022-11-03T15:29:07.727625",
     "status": "completed"
    },
    "tags": []
   },
   "outputs": [],
   "source": [
    "net = Net()\n",
    "learning_rate = 0.001\n",
    "weight_decay = 0.01 \n",
    "optimizer = optim.Adam(net\n",
    "                       .parameters(),\n",
    "                       lr=learning_rate,\n",
    "                       weight_decay=weight_decay)"
   ]
  },
  {
   "cell_type": "code",
   "execution_count": 31,
   "id": "97485cd1",
   "metadata": {
    "execution": {
     "iopub.execute_input": "2022-11-03T15:29:07.811615Z",
     "iopub.status.busy": "2022-11-03T15:29:07.811038Z",
     "iopub.status.idle": "2022-11-03T15:40:55.945387Z",
     "shell.execute_reply": "2022-11-03T15:40:55.944057Z"
    },
    "papermill": {
     "duration": 708.153504,
     "end_time": "2022-11-03T15:40:55.948765",
     "exception": false,
     "start_time": "2022-11-03T15:29:07.795261",
     "status": "completed"
    },
    "tags": []
   },
   "outputs": [
    {
     "name": "stdout",
     "output_type": "stream",
     "text": [
      "epoch 0\n",
      "train corr: 0.8043\n",
      "val corr: 0.8726\n",
      "\n",
      "epoch 1\n",
      "train corr: 0.8767\n",
      "val corr: 0.8734\n",
      "\n",
      "epoch 2\n",
      "train corr: 0.8784\n",
      "val corr: 0.8778\n",
      "\n",
      "epoch 3\n",
      "train corr: 0.8798\n",
      "val corr: 0.8781\n",
      "\n",
      "epoch 4\n",
      "train corr: 0.8799\n",
      "val corr: 0.8755\n",
      "\n",
      "epoch 5\n",
      "train corr: 0.8812\n",
      "val corr: 0.8785\n",
      "\n",
      "epoch 6\n",
      "train corr: 0.8811\n",
      "val corr: 0.8786\n",
      "\n",
      "epoch 7\n",
      "train corr: 0.8818\n",
      "val corr: 0.8798\n",
      "\n",
      "epoch 8\n",
      "train corr: 0.8822\n",
      "val corr: 0.8800\n",
      "\n",
      "epoch 9\n",
      "train corr: 0.8828\n",
      "val corr: 0.8796\n",
      "\n",
      "epoch 10\n",
      "train corr: 0.8835\n",
      "val corr: 0.8806\n",
      "\n",
      "epoch 11\n",
      "train corr: 0.8842\n",
      "val corr: 0.8795\n",
      "\n",
      "epoch 12\n",
      "train corr: 0.8846\n",
      "val corr: 0.8814\n",
      "\n",
      "epoch 13\n",
      "train corr: 0.8851\n",
      "val corr: 0.8812\n",
      "\n",
      "epoch 14\n",
      "train corr: 0.8853\n",
      "val corr: 0.8846\n",
      "\n",
      "epoch 15\n",
      "train corr: 0.8855\n",
      "val corr: 0.8825\n",
      "\n",
      "epoch 16\n",
      "train corr: 0.8857\n",
      "val corr: 0.8818\n",
      "\n",
      "epoch 17\n",
      "train corr: 0.8859\n",
      "val corr: 0.8835\n",
      "\n",
      "epoch 18\n",
      "train corr: 0.8863\n",
      "val corr: 0.8827\n",
      "\n",
      "epoch 19\n",
      "train corr: 0.8860\n",
      "val corr: 0.8813\n",
      "\n",
      "epoch 20\n",
      "train corr: 0.8866\n",
      "val corr: 0.8823\n",
      "\n",
      "**Early Stoppage** We are stopping at epoch 20...\n",
      "Best epoch: epoch 14\n",
      "Best val correlation:  0.8823\n",
      "CPU times: user 13min 31s, sys: 1min 17s, total: 14min 49s\n",
      "Wall time: 11min 48s\n"
     ]
    }
   ],
   "source": [
    "%%time\n",
    "epochs = 100\n",
    "train_corrs = []\n",
    "val_corrs = []\n",
    "best_val_corr = 0.0\n",
    "best_epoch = 0\n",
    "\n",
    "for epoch in range(epochs):\n",
    "    # train\n",
    "    print('epoch', epoch)\n",
    "    train_corr = train_model(train_loader, net, optimizer)\n",
    "    train_corr = float(train_corr.detach().numpy())\n",
    "    train_corrs.append(train_corr)\n",
    "    print(f'train corr: {train_corr:.4f}')\n",
    "    \n",
    "    # val\n",
    "    val_corr = model_eval(net, val_loader)\n",
    "    val_corr = float(val_corr.detach().numpy())\n",
    "    val_corrs.append(val_corr)\n",
    "    print(f'val corr: {val_corr:.4f}')\n",
    "    print()\n",
    "    \n",
    "    # early stoppage\n",
    "    if epoch - best_epoch > 5:\n",
    "        if val_corr < best_val_corr:\n",
    "            print(f'**Early Stoppage** We are stopping at epoch {epoch}...')\n",
    "            print(f'Best epoch: epoch {best_epoch}')\n",
    "            print(f'Best val correlation: {val_corr: .4f}')\n",
    "            break\n",
    "            \n",
    "    # update\n",
    "    if val_corr > best_val_corr:\n",
    "        best_val_corr = max([best_val_corr, val_corr])\n",
    "        best_epoch = epoch\n",
    "#         print(epoch, best_epoch, best_val_corr)\n",
    "#         print()"
   ]
  },
  {
   "cell_type": "code",
   "execution_count": 32,
   "id": "cf76e0d8",
   "metadata": {
    "execution": {
     "iopub.execute_input": "2022-11-03T15:40:55.986818Z",
     "iopub.status.busy": "2022-11-03T15:40:55.985631Z",
     "iopub.status.idle": "2022-11-03T15:40:55.990853Z",
     "shell.execute_reply": "2022-11-03T15:40:55.989719Z"
    },
    "papermill": {
     "duration": 0.026945,
     "end_time": "2022-11-03T15:40:55.993370",
     "exception": false,
     "start_time": "2022-11-03T15:40:55.966425",
     "status": "completed"
    },
    "tags": []
   },
   "outputs": [],
   "source": [
    "# figsize(8, 8)\n",
    "# plt.scatter(list(range(epochs)), train_corrs, label='training corr')\n",
    "# plt.plot(list(range(epochs)), train_corrs)\n",
    "# plt.scatter(list(range(epochs)), val_corrs, label='val corr')\n",
    "# plt.plot(list(range(epochs)), val_corrs)\n",
    "# plt.legend(loc='lower right')\n",
    "# plt.title(f'lr = {learning_rate} | wd = {weight_decay}')\n",
    "# plt.ylim(0, 1)"
   ]
  },
  {
   "cell_type": "code",
   "execution_count": 33,
   "id": "e8e28373",
   "metadata": {
    "execution": {
     "iopub.execute_input": "2022-11-03T15:40:56.029594Z",
     "iopub.status.busy": "2022-11-03T15:40:56.029203Z",
     "iopub.status.idle": "2022-11-03T15:40:56.034183Z",
     "shell.execute_reply": "2022-11-03T15:40:56.032975Z"
    },
    "papermill": {
     "duration": 0.026132,
     "end_time": "2022-11-03T15:40:56.036711",
     "exception": false,
     "start_time": "2022-11-03T15:40:56.010579",
     "status": "completed"
    },
    "tags": []
   },
   "outputs": [],
   "source": [
    "# train_inp[:1]"
   ]
  },
  {
   "cell_type": "code",
   "execution_count": 34,
   "id": "3b942a0b",
   "metadata": {
    "execution": {
     "iopub.execute_input": "2022-11-03T15:40:56.073649Z",
     "iopub.status.busy": "2022-11-03T15:40:56.073245Z",
     "iopub.status.idle": "2022-11-03T15:40:56.077389Z",
     "shell.execute_reply": "2022-11-03T15:40:56.076393Z"
    },
    "papermill": {
     "duration": 0.025345,
     "end_time": "2022-11-03T15:40:56.079571",
     "exception": false,
     "start_time": "2022-11-03T15:40:56.054226",
     "status": "completed"
    },
    "tags": []
   },
   "outputs": [],
   "source": [
    "# with torch.no_grad():\n",
    "#     net.eval()\n",
    "#     train_tar_preds = net(train_inp[:5]).detach().numpy().flatten()"
   ]
  },
  {
   "cell_type": "code",
   "execution_count": 35,
   "id": "a6bb8482",
   "metadata": {
    "execution": {
     "iopub.execute_input": "2022-11-03T15:40:56.116872Z",
     "iopub.status.busy": "2022-11-03T15:40:56.115862Z",
     "iopub.status.idle": "2022-11-03T15:40:56.120234Z",
     "shell.execute_reply": "2022-11-03T15:40:56.119346Z"
    },
    "papermill": {
     "duration": 0.0255,
     "end_time": "2022-11-03T15:40:56.122516",
     "exception": false,
     "start_time": "2022-11-03T15:40:56.097016",
     "status": "completed"
    },
    "tags": []
   },
   "outputs": [],
   "source": [
    "# np.corrcoef(train_tar_preds, train_tar[:5].detach().numpy().flatten())"
   ]
  },
  {
   "cell_type": "code",
   "execution_count": 36,
   "id": "cb2ea10d",
   "metadata": {
    "execution": {
     "iopub.execute_input": "2022-11-03T15:40:56.158795Z",
     "iopub.status.busy": "2022-11-03T15:40:56.158406Z",
     "iopub.status.idle": "2022-11-03T15:40:56.297290Z",
     "shell.execute_reply": "2022-11-03T15:40:56.296117Z"
    },
    "papermill": {
     "duration": 0.160079,
     "end_time": "2022-11-03T15:40:56.299884",
     "exception": false,
     "start_time": "2022-11-03T15:40:56.139805",
     "status": "completed"
    },
    "tags": []
   },
   "outputs": [
    {
     "data": {
      "text/plain": [
       "105"
      ]
     },
     "execution_count": 36,
     "metadata": {},
     "output_type": "execute_result"
    }
   ],
   "source": [
    "del train_inp, train_tar, full_ds\n",
    "gc.collect()"
   ]
  },
  {
   "cell_type": "markdown",
   "id": "fac8591c",
   "metadata": {
    "papermill": {
     "duration": 0.017562,
     "end_time": "2022-11-03T15:40:56.334940",
     "exception": false,
     "start_time": "2022-11-03T15:40:56.317378",
     "status": "completed"
    },
    "tags": []
   },
   "source": [
    "## Prediction"
   ]
  },
  {
   "cell_type": "code",
   "execution_count": 37,
   "id": "ea8a6492",
   "metadata": {
    "execution": {
     "iopub.execute_input": "2022-11-03T15:40:56.370928Z",
     "iopub.status.busy": "2022-11-03T15:40:56.370540Z",
     "iopub.status.idle": "2022-11-03T15:41:05.524699Z",
     "shell.execute_reply": "2022-11-03T15:41:05.523315Z"
    },
    "papermill": {
     "duration": 9.175996,
     "end_time": "2022-11-03T15:41:05.528033",
     "exception": false,
     "start_time": "2022-11-03T15:40:56.352037",
     "status": "completed"
    },
    "tags": []
   },
   "outputs": [
    {
     "name": "stdout",
     "output_type": "stream",
     "text": [
      "CPU times: user 1.47 s, sys: 7.7 s, total: 9.17 s\n",
      "Wall time: 9.15 s\n"
     ]
    }
   ],
   "source": [
    "%%time\n",
    "test_inp = load_pickle('../tmp/test_inp')\n",
    "test_inp = torch.from_numpy(test_inp)"
   ]
  },
  {
   "cell_type": "code",
   "execution_count": 38,
   "id": "22fbc910",
   "metadata": {
    "execution": {
     "iopub.execute_input": "2022-11-03T15:41:05.566253Z",
     "iopub.status.busy": "2022-11-03T15:41:05.565822Z",
     "iopub.status.idle": "2022-11-03T15:41:07.836786Z",
     "shell.execute_reply": "2022-11-03T15:41:07.835845Z"
    },
    "papermill": {
     "duration": 2.292753,
     "end_time": "2022-11-03T15:41:07.839368",
     "exception": false,
     "start_time": "2022-11-03T15:41:05.546615",
     "status": "completed"
    },
    "tags": []
   },
   "outputs": [],
   "source": [
    "with torch.no_grad():\n",
    "    net.eval()\n",
    "    test_tar_preds = net(test_inp).detach().numpy()"
   ]
  },
  {
   "cell_type": "code",
   "execution_count": 39,
   "id": "a4a1e898",
   "metadata": {
    "execution": {
     "iopub.execute_input": "2022-11-03T15:41:07.875946Z",
     "iopub.status.busy": "2022-11-03T15:41:07.875527Z",
     "iopub.status.idle": "2022-11-03T15:41:08.186434Z",
     "shell.execute_reply": "2022-11-03T15:41:08.185411Z"
    },
    "papermill": {
     "duration": 0.331813,
     "end_time": "2022-11-03T15:41:08.188628",
     "exception": false,
     "start_time": "2022-11-03T15:41:07.856815",
     "status": "completed"
    },
    "tags": []
   },
   "outputs": [
    {
     "data": {
      "text/plain": [
       "63"
      ]
     },
     "execution_count": 39,
     "metadata": {},
     "output_type": "execute_result"
    }
   ],
   "source": [
    "del test_inp\n",
    "gc.collect()"
   ]
  },
  {
   "cell_type": "markdown",
   "id": "040b40c4",
   "metadata": {
    "papermill": {
     "duration": 0.017499,
     "end_time": "2022-11-03T15:41:08.223548",
     "exception": false,
     "start_time": "2022-11-03T15:41:08.206049",
     "status": "completed"
    },
    "tags": []
   },
   "source": [
    "## Creating Submission"
   ]
  },
  {
   "cell_type": "code",
   "execution_count": 40,
   "id": "aee42948",
   "metadata": {
    "execution": {
     "iopub.execute_input": "2022-11-03T15:41:08.260326Z",
     "iopub.status.busy": "2022-11-03T15:41:08.259545Z",
     "iopub.status.idle": "2022-11-03T15:41:09.364747Z",
     "shell.execute_reply": "2022-11-03T15:41:09.363133Z"
    },
    "papermill": {
     "duration": 1.126776,
     "end_time": "2022-11-03T15:41:09.367660",
     "exception": false,
     "start_time": "2022-11-03T15:41:08.240884",
     "status": "completed"
    },
    "tags": []
   },
   "outputs": [
    {
     "name": "stdout",
     "output_type": "stream",
     "text": [
      "total 7.1G\r\n",
      "-rw-r--r-- 1 nobody nogroup  25K Oct 25 08:09 __notebook__.ipynb\r\n",
      "-rw-r--r-- 1 nobody nogroup  25K Oct 25 08:09 __output__.json\r\n",
      "-rw-r--r-- 1 nobody nogroup 293K Oct 25 08:09 __results__.html\r\n",
      "-rw-r--r-- 1 nobody nogroup    0 Oct 25 08:09 custom.css\r\n",
      "-rw-r--r-- 1 nobody nogroup 359M Oct 25 08:09 evaluation_ids.parquet\r\n",
      "-rw-r--r-- 1 nobody nogroup 3.8M Oct 25 08:09 metadata.parquet\r\n",
      "-rw-r--r-- 1 nobody nogroup 108K Oct 25 08:09 metadata_cite_day_2_donor_27678.parquet\r\n",
      "-rw-r--r-- 1 nobody nogroup 252M Oct 25 08:09 sample_submission.parquet\r\n",
      "-rw-r--r-- 1 nobody nogroup 856K Oct 25 08:09 test_cite_inputs_day_2_donor_27678_idx.npz\r\n",
      "-rw-r--r-- 1 nobody nogroup  78M Oct 25 08:09 test_cite_inputs_day_2_donor_27678_val.sparse.npz\r\n",
      "-rw-r--r-- 1 nobody nogroup 1.8M Oct 25 08:09 test_cite_inputs_idx.npz\r\n",
      "-rw-r--r-- 1 nobody nogroup 488M Oct 25 08:09 test_cite_inputs_val.sparse.npz\r\n",
      "-rw-r--r-- 1 nobody nogroup 8.4M Oct 25 08:09 test_multi_inputs_idx.npz\r\n",
      "-rw-r--r-- 1 nobody nogroup 1.7G Oct 25 08:09 test_multi_inputs_val.sparse.npz\r\n",
      "-rw-r--r-- 1 nobody nogroup 2.2M Oct 25 08:09 train_cite_inputs_idx.npz\r\n",
      "-rw-r--r-- 1 nobody nogroup 712M Oct 25 08:09 train_cite_inputs_val.sparse.npz\r\n",
      "-rw-r--r-- 1 nobody nogroup 1.5M Oct 25 08:09 train_cite_targets_idx.npz\r\n",
      "-rw-r--r-- 1 nobody nogroup  36M Oct 25 08:09 train_cite_targets_val.sparse.npz\r\n",
      "-rw-r--r-- 1 nobody nogroup 9.5M Oct 25 08:09 train_multi_inputs_idx.npz\r\n",
      "-rw-r--r-- 1 nobody nogroup 2.8G Oct 25 08:10 train_multi_inputs_val.sparse.npz\r\n",
      "-rw-r--r-- 1 nobody nogroup 2.8M Oct 25 08:09 train_multi_targets_idx.npz\r\n",
      "-rw-r--r-- 1 nobody nogroup 824M Oct 25 08:09 train_multi_targets_val.sparse.npz\r\n"
     ]
    }
   ],
   "source": [
    "DATA_DIR = '../input/msci-h5-sparse-transform'\n",
    "%ls $DATA_DIR -lh"
   ]
  },
  {
   "cell_type": "code",
   "execution_count": 41,
   "id": "daa89e16",
   "metadata": {
    "execution": {
     "iopub.execute_input": "2022-11-03T15:41:09.406188Z",
     "iopub.status.busy": "2022-11-03T15:41:09.404837Z",
     "iopub.status.idle": "2022-11-03T15:41:09.511236Z",
     "shell.execute_reply": "2022-11-03T15:41:09.509831Z"
    },
    "papermill": {
     "duration": 0.128562,
     "end_time": "2022-11-03T15:41:09.514160",
     "exception": false,
     "start_time": "2022-11-03T15:41:09.385598",
     "status": "completed"
    },
    "tags": []
   },
   "outputs": [
    {
     "data": {
      "text/plain": [
       "((140,), (48663,), (48663, 140))"
      ]
     },
     "execution_count": 41,
     "metadata": {},
     "output_type": "execute_result"
    }
   ],
   "source": [
    "test_tar_cols = np.load(f'{DATA_DIR}/train_cite_targets_idx.npz',\n",
    "                        allow_pickle=True)['columns']\n",
    "test_tar_idx = np.load(f'{DATA_DIR}/test_cite_inputs_idx.npz',\n",
    "                       allow_pickle=True)['index']\n",
    "test_tar_cols.shape, test_tar_idx.shape, test_tar_preds.shape"
   ]
  },
  {
   "cell_type": "code",
   "execution_count": 42,
   "id": "2e7e6c8b",
   "metadata": {
    "execution": {
     "iopub.execute_input": "2022-11-03T15:41:09.551988Z",
     "iopub.status.busy": "2022-11-03T15:41:09.551613Z",
     "iopub.status.idle": "2022-11-03T15:41:50.536545Z",
     "shell.execute_reply": "2022-11-03T15:41:50.534641Z"
    },
    "papermill": {
     "duration": 41.030166,
     "end_time": "2022-11-03T15:41:50.562687",
     "exception": false,
     "start_time": "2022-11-03T15:41:09.532521",
     "status": "completed"
    },
    "tags": []
   },
   "outputs": [
    {
     "name": "stdout",
     "output_type": "stream",
     "text": [
      "Start Eval...\n",
      "CPU times: user 34.5 s, sys: 10.8 s, total: 45.4 s\n",
      "Wall time: 41 s\n"
     ]
    }
   ],
   "source": [
    "%%time\n",
    "print('Start Eval...')\n",
    "eval_ids = pd.read_parquet(f'{DATA_DIR}/evaluation_ids.parquet')\n",
    "eval_ids.cell_id = eval_ids.cell_id.astype(pd.CategoricalDtype())\n",
    "eval_ids.gene_id = eval_ids.gene_id.astype(pd.CategoricalDtype())"
   ]
  },
  {
   "cell_type": "code",
   "execution_count": 43,
   "id": "2931a1d4",
   "metadata": {
    "execution": {
     "iopub.execute_input": "2022-11-03T15:41:50.602831Z",
     "iopub.status.busy": "2022-11-03T15:41:50.602321Z",
     "iopub.status.idle": "2022-11-03T15:42:19.352783Z",
     "shell.execute_reply": "2022-11-03T15:42:19.351573Z"
    },
    "papermill": {
     "duration": 28.773642,
     "end_time": "2022-11-03T15:42:19.355524",
     "exception": false,
     "start_time": "2022-11-03T15:41:50.581882",
     "status": "completed"
    },
    "tags": []
   },
   "outputs": [
    {
     "name": "stdout",
     "output_type": "stream",
     "text": [
      "CPU times: user 21.3 s, sys: 7.17 s, total: 28.5 s\n",
      "Wall time: 28.5 s\n"
     ]
    },
    {
     "data": {
      "text/plain": [
       "row_id    cell_id       gene_id        \n",
       "0         c2150f55becb  CD86              NaN\n",
       "1         c2150f55becb  CD274             NaN\n",
       "2         c2150f55becb  CD270             NaN\n",
       "3         c2150f55becb  CD155             NaN\n",
       "4         c2150f55becb  CD112             NaN\n",
       "                                           ..\n",
       "65744175  2c53aa67933d  ENSG00000134419   NaN\n",
       "65744176  2c53aa67933d  ENSG00000186862   NaN\n",
       "65744177  2c53aa67933d  ENSG00000170959   NaN\n",
       "65744178  2c53aa67933d  ENSG00000107874   NaN\n",
       "65744179  2c53aa67933d  ENSG00000166012   NaN\n",
       "Name: target, Length: 65744180, dtype: float32"
      ]
     },
     "execution_count": 43,
     "metadata": {},
     "output_type": "execute_result"
    }
   ],
   "source": [
    "%%time\n",
    "sub = pd.Series(name='target',\n",
    "                index=pd.MultiIndex.from_frame(eval_ids), \n",
    "                dtype=np.float32)\n",
    "sub"
   ]
  },
  {
   "cell_type": "code",
   "execution_count": 44,
   "id": "d621700f",
   "metadata": {
    "execution": {
     "iopub.execute_input": "2022-11-03T15:42:19.394411Z",
     "iopub.status.busy": "2022-11-03T15:42:19.393449Z",
     "iopub.status.idle": "2022-11-03T15:42:19.414182Z",
     "shell.execute_reply": "2022-11-03T15:42:19.412987Z"
    },
    "papermill": {
     "duration": 0.043129,
     "end_time": "2022-11-03T15:42:19.416901",
     "exception": false,
     "start_time": "2022-11-03T15:42:19.373772",
     "status": "completed"
    },
    "tags": []
   },
   "outputs": [],
   "source": [
    "cell_id_dict = {cell_id: idx \n",
    "                for idx, cell_id in enumerate(test_tar_idx, 0)}\n",
    "gene_id_dict = {gene_id: idx \n",
    "                for idx, gene_id in enumerate(test_tar_cols, 0)}"
   ]
  },
  {
   "cell_type": "code",
   "execution_count": 45,
   "id": "e6b15e9c",
   "metadata": {
    "execution": {
     "iopub.execute_input": "2022-11-03T15:42:19.454947Z",
     "iopub.status.busy": "2022-11-03T15:42:19.454557Z",
     "iopub.status.idle": "2022-11-03T15:42:21.703540Z",
     "shell.execute_reply": "2022-11-03T15:42:21.702105Z"
    },
    "papermill": {
     "duration": 2.271672,
     "end_time": "2022-11-03T15:42:21.706576",
     "exception": false,
     "start_time": "2022-11-03T15:42:19.434904",
     "status": "completed"
    },
    "tags": []
   },
   "outputs": [],
   "source": [
    "eid_cid_idx = eval_ids['cell_id']\\\n",
    "              .apply(lambda x: cell_id_dict.get(x, -1))\n",
    "eid_gid_idx = eval_ids['gene_id']\\\n",
    "              .apply(lambda x: gene_id_dict.get(x, -1))\n",
    "valid_cite_rows = (eid_cid_idx != -1) & (eid_gid_idx != -1)"
   ]
  },
  {
   "cell_type": "code",
   "execution_count": 46,
   "id": "8b6eb60a",
   "metadata": {
    "execution": {
     "iopub.execute_input": "2022-11-03T15:42:21.744332Z",
     "iopub.status.busy": "2022-11-03T15:42:21.743865Z",
     "iopub.status.idle": "2022-11-03T15:42:22.211336Z",
     "shell.execute_reply": "2022-11-03T15:42:22.209627Z"
    },
    "papermill": {
     "duration": 0.489968,
     "end_time": "2022-11-03T15:42:22.214588",
     "exception": false,
     "start_time": "2022-11-03T15:42:21.724620",
     "status": "completed"
    },
    "tags": []
   },
   "outputs": [
    {
     "name": "stdout",
     "output_type": "stream",
     "text": [
      "CPU times: user 326 ms, sys: 135 ms, total: 462 ms\n",
      "Wall time: 461 ms\n"
     ]
    }
   ],
   "source": [
    "%%time\n",
    "sub.iloc[valid_cite_rows] = test_tar_preds\\\n",
    "                             [eid_cid_idx[valid_cite_rows].to_numpy(),\n",
    "                              eid_gid_idx[valid_cite_rows].to_numpy()]"
   ]
  },
  {
   "cell_type": "code",
   "execution_count": 47,
   "id": "d7fa63e7",
   "metadata": {
    "execution": {
     "iopub.execute_input": "2022-11-03T15:42:22.252668Z",
     "iopub.status.busy": "2022-11-03T15:42:22.252273Z",
     "iopub.status.idle": "2022-11-03T15:42:22.510492Z",
     "shell.execute_reply": "2022-11-03T15:42:22.509231Z"
    },
    "papermill": {
     "duration": 0.280146,
     "end_time": "2022-11-03T15:42:22.513027",
     "exception": false,
     "start_time": "2022-11-03T15:42:22.232881",
     "status": "completed"
    },
    "tags": []
   },
   "outputs": [
    {
     "data": {
      "text/plain": [
       "97"
      ]
     },
     "execution_count": 47,
     "metadata": {},
     "output_type": "execute_result"
    }
   ],
   "source": [
    "del eval_ids, test_tar_idx, test_tar_cols\n",
    "del eid_cid_idx, eid_gid_idx, valid_cite_rows\n",
    "gc.collect()"
   ]
  },
  {
   "cell_type": "code",
   "execution_count": 48,
   "id": "cecbcf2b",
   "metadata": {
    "execution": {
     "iopub.execute_input": "2022-11-03T15:42:22.551891Z",
     "iopub.status.busy": "2022-11-03T15:42:22.551481Z",
     "iopub.status.idle": "2022-11-03T15:43:59.632477Z",
     "shell.execute_reply": "2022-11-03T15:43:59.631209Z"
    },
    "papermill": {
     "duration": 97.103825,
     "end_time": "2022-11-03T15:43:59.635790",
     "exception": false,
     "start_time": "2022-11-03T15:42:22.531965",
     "status": "completed"
    },
    "tags": []
   },
   "outputs": [],
   "source": [
    "sub = pd.DataFrame(sub).fillna(0).reset_index()\n",
    "sub.drop(['cell_id', 'gene_id'], axis=1)\\\n",
    "   .to_csv('cite_sub.csv', index=False)"
   ]
  },
  {
   "cell_type": "code",
   "execution_count": 49,
   "id": "d10f6c63",
   "metadata": {
    "execution": {
     "iopub.execute_input": "2022-11-03T15:43:59.674929Z",
     "iopub.status.busy": "2022-11-03T15:43:59.674492Z",
     "iopub.status.idle": "2022-11-03T15:43:59.692197Z",
     "shell.execute_reply": "2022-11-03T15:43:59.691123Z"
    },
    "papermill": {
     "duration": 0.040168,
     "end_time": "2022-11-03T15:43:59.695001",
     "exception": false,
     "start_time": "2022-11-03T15:43:59.654833",
     "status": "completed"
    },
    "tags": []
   },
   "outputs": [
    {
     "data": {
      "text/html": [
       "<div>\n",
       "<style scoped>\n",
       "    .dataframe tbody tr th:only-of-type {\n",
       "        vertical-align: middle;\n",
       "    }\n",
       "\n",
       "    .dataframe tbody tr th {\n",
       "        vertical-align: top;\n",
       "    }\n",
       "\n",
       "    .dataframe thead th {\n",
       "        text-align: right;\n",
       "    }\n",
       "</style>\n",
       "<table border=\"1\" class=\"dataframe\">\n",
       "  <thead>\n",
       "    <tr style=\"text-align: right;\">\n",
       "      <th></th>\n",
       "      <th>row_id</th>\n",
       "      <th>cell_id</th>\n",
       "      <th>gene_id</th>\n",
       "      <th>target</th>\n",
       "    </tr>\n",
       "  </thead>\n",
       "  <tbody>\n",
       "    <tr>\n",
       "      <th>0</th>\n",
       "      <td>0</td>\n",
       "      <td>c2150f55becb</td>\n",
       "      <td>CD86</td>\n",
       "      <td>0.000612</td>\n",
       "    </tr>\n",
       "    <tr>\n",
       "      <th>1</th>\n",
       "      <td>1</td>\n",
       "      <td>c2150f55becb</td>\n",
       "      <td>CD274</td>\n",
       "      <td>0.000597</td>\n",
       "    </tr>\n",
       "    <tr>\n",
       "      <th>2</th>\n",
       "      <td>2</td>\n",
       "      <td>c2150f55becb</td>\n",
       "      <td>CD270</td>\n",
       "      <td>0.001682</td>\n",
       "    </tr>\n",
       "    <tr>\n",
       "      <th>3</th>\n",
       "      <td>3</td>\n",
       "      <td>c2150f55becb</td>\n",
       "      <td>CD155</td>\n",
       "      <td>0.007873</td>\n",
       "    </tr>\n",
       "    <tr>\n",
       "      <th>4</th>\n",
       "      <td>4</td>\n",
       "      <td>c2150f55becb</td>\n",
       "      <td>CD112</td>\n",
       "      <td>0.008253</td>\n",
       "    </tr>\n",
       "  </tbody>\n",
       "</table>\n",
       "</div>"
      ],
      "text/plain": [
       "   row_id       cell_id gene_id    target\n",
       "0       0  c2150f55becb    CD86  0.000612\n",
       "1       1  c2150f55becb   CD274  0.000597\n",
       "2       2  c2150f55becb   CD270  0.001682\n",
       "3       3  c2150f55becb   CD155  0.007873\n",
       "4       4  c2150f55becb   CD112  0.008253"
      ]
     },
     "execution_count": 49,
     "metadata": {},
     "output_type": "execute_result"
    }
   ],
   "source": [
    "sub.head()"
   ]
  }
 ],
 "metadata": {
  "kernelspec": {
   "display_name": "Python 3",
   "language": "python",
   "name": "python3"
  },
  "language_info": {
   "codemirror_mode": {
    "name": "ipython",
    "version": 3
   },
   "file_extension": ".py",
   "mimetype": "text/x-python",
   "name": "python",
   "nbconvert_exporter": "python",
   "pygments_lexer": "ipython3",
   "version": "3.7.12"
  },
  "papermill": {
   "default_parameters": {},
   "duration": 1075.887322,
   "end_time": "2022-11-03T15:44:01.142788",
   "environment_variables": {},
   "exception": null,
   "input_path": "__notebook__.ipynb",
   "output_path": "__notebook__.ipynb",
   "parameters": {},
   "start_time": "2022-11-03T15:26:05.255466",
   "version": "2.3.4"
  }
 },
 "nbformat": 4,
 "nbformat_minor": 5
}
