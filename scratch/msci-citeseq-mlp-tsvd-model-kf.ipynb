{
 "cells": [
  {
   "cell_type": "code",
   "execution_count": 1,
   "id": "d143c8f7",
   "metadata": {
    "_cell_guid": "b1076dfc-b9ad-4769-8c92-a6c4dae69d19",
    "_uuid": "8f2839f25d086af736a60e9eeb907d3b93b6e0e5",
    "execution": {
     "iopub.execute_input": "2022-11-14T19:00:18.646330Z",
     "iopub.status.busy": "2022-11-14T19:00:18.645651Z",
     "iopub.status.idle": "2022-11-14T19:00:18.764550Z",
     "shell.execute_reply": "2022-11-14T19:00:18.763248Z"
    },
    "papermill": {
     "duration": 0.141038,
     "end_time": "2022-11-14T19:00:18.767494",
     "exception": false,
     "start_time": "2022-11-14T19:00:18.626456",
     "status": "completed"
    },
    "tags": []
   },
   "outputs": [],
   "source": [
    "import os\n",
    "import os.path\n",
    "import gc\n",
    "import itertools\n",
    "import numpy as np\n",
    "import pandas as pd\n",
    "import scipy.sparse\n",
    "from tqdm import tqdm"
   ]
  },
  {
   "cell_type": "code",
   "execution_count": 2,
   "id": "d24834b6",
   "metadata": {
    "execution": {
     "iopub.execute_input": "2022-11-14T19:00:18.803498Z",
     "iopub.status.busy": "2022-11-14T19:00:18.802954Z",
     "iopub.status.idle": "2022-11-14T19:00:18.810430Z",
     "shell.execute_reply": "2022-11-14T19:00:18.808649Z"
    },
    "papermill": {
     "duration": 0.03106,
     "end_time": "2022-11-14T19:00:18.813224",
     "exception": false,
     "start_time": "2022-11-14T19:00:18.782164",
     "status": "completed"
    },
    "tags": []
   },
   "outputs": [],
   "source": [
    "import warnings \n",
    "warnings.filterwarnings('ignore')"
   ]
  },
  {
   "cell_type": "code",
   "execution_count": 3,
   "id": "e1b300df",
   "metadata": {
    "execution": {
     "iopub.execute_input": "2022-11-14T19:00:18.850937Z",
     "iopub.status.busy": "2022-11-14T19:00:18.850101Z",
     "iopub.status.idle": "2022-11-14T19:00:19.918632Z",
     "shell.execute_reply": "2022-11-14T19:00:19.917377Z"
    },
    "papermill": {
     "duration": 1.093576,
     "end_time": "2022-11-14T19:00:19.921604",
     "exception": false,
     "start_time": "2022-11-14T19:00:18.828028",
     "status": "completed"
    },
    "tags": []
   },
   "outputs": [],
   "source": [
    "import seaborn as sns\n",
    "import matplotlib\n",
    "import matplotlib.pyplot as plt\n",
    "from IPython.core.pylabtools import figsize"
   ]
  },
  {
   "cell_type": "code",
   "execution_count": 4,
   "id": "46e949ed",
   "metadata": {
    "execution": {
     "iopub.execute_input": "2022-11-14T19:00:19.951983Z",
     "iopub.status.busy": "2022-11-14T19:00:19.951545Z",
     "iopub.status.idle": "2022-11-14T19:00:19.958283Z",
     "shell.execute_reply": "2022-11-14T19:00:19.956850Z"
    },
    "papermill": {
     "duration": 0.024802,
     "end_time": "2022-11-14T19:00:19.960848",
     "exception": false,
     "start_time": "2022-11-14T19:00:19.936046",
     "status": "completed"
    },
    "tags": []
   },
   "outputs": [],
   "source": [
    "sns.set()"
   ]
  },
  {
   "cell_type": "code",
   "execution_count": 5,
   "id": "61df56d6",
   "metadata": {
    "execution": {
     "iopub.execute_input": "2022-11-14T19:00:19.989836Z",
     "iopub.status.busy": "2022-11-14T19:00:19.989194Z",
     "iopub.status.idle": "2022-11-14T19:00:19.995578Z",
     "shell.execute_reply": "2022-11-14T19:00:19.994713Z"
    },
    "papermill": {
     "duration": 0.02358,
     "end_time": "2022-11-14T19:00:19.997894",
     "exception": false,
     "start_time": "2022-11-14T19:00:19.974314",
     "status": "completed"
    },
    "tags": []
   },
   "outputs": [],
   "source": [
    "import pickle\n",
    "\n",
    "def dump_pickle(file, filename):\n",
    "    outfile = open(filename, 'wb')\n",
    "    pickle.dump(file, outfile)\n",
    "    outfile.close()\n",
    "\n",
    "def load_pickle(filename):\n",
    "    infile = open(filename, 'rb')\n",
    "    file = pickle.load(infile)\n",
    "    infile.close()\n",
    "    return file"
   ]
  },
  {
   "cell_type": "markdown",
   "id": "0a01ba94",
   "metadata": {
    "papermill": {
     "duration": 0.013632,
     "end_time": "2022-11-14T19:00:20.026074",
     "exception": false,
     "start_time": "2022-11-14T19:00:20.012442",
     "status": "completed"
    },
    "tags": []
   },
   "source": [
    "## Read Data"
   ]
  },
  {
   "cell_type": "code",
   "execution_count": 6,
   "id": "a3c4ed66",
   "metadata": {
    "execution": {
     "iopub.execute_input": "2022-11-14T19:00:20.055559Z",
     "iopub.status.busy": "2022-11-14T19:00:20.054864Z",
     "iopub.status.idle": "2022-11-14T19:00:21.027652Z",
     "shell.execute_reply": "2022-11-14T19:00:21.025630Z"
    },
    "papermill": {
     "duration": 0.990952,
     "end_time": "2022-11-14T19:00:21.030498",
     "exception": false,
     "start_time": "2022-11-14T19:00:20.039546",
     "status": "completed"
    },
    "tags": []
   },
   "outputs": [
    {
     "name": "stdout",
     "output_type": "stream",
     "text": [
      "CPU times: user 222 ms, sys: 104 ms, total: 326 ms\n",
      "Wall time: 962 ms\n"
     ]
    }
   ],
   "source": [
    "%%time\n",
    "DATA_DIR = '../input/open-problems-multimodal'\n",
    "train_tar = pd.read_hdf(f'{DATA_DIR}/train_cite_targets.h5')\n",
    "train_tar_cols = train_tar.columns"
   ]
  },
  {
   "cell_type": "code",
   "execution_count": 7,
   "id": "9619cc70",
   "metadata": {
    "execution": {
     "iopub.execute_input": "2022-11-14T19:00:21.060066Z",
     "iopub.status.busy": "2022-11-14T19:00:21.059188Z",
     "iopub.status.idle": "2022-11-14T19:00:21.066481Z",
     "shell.execute_reply": "2022-11-14T19:00:21.065268Z"
    },
    "papermill": {
     "duration": 0.024545,
     "end_time": "2022-11-14T19:00:21.068976",
     "exception": false,
     "start_time": "2022-11-14T19:00:21.044431",
     "status": "completed"
    },
    "tags": []
   },
   "outputs": [],
   "source": [
    "train_tar = train_tar.values"
   ]
  },
  {
   "cell_type": "code",
   "execution_count": 8,
   "id": "d38355d4",
   "metadata": {
    "execution": {
     "iopub.execute_input": "2022-11-14T19:00:21.098401Z",
     "iopub.status.busy": "2022-11-14T19:00:21.098017Z",
     "iopub.status.idle": "2022-11-14T19:00:23.110610Z",
     "shell.execute_reply": "2022-11-14T19:00:23.109103Z"
    },
    "papermill": {
     "duration": 2.030601,
     "end_time": "2022-11-14T19:00:23.113702",
     "exception": false,
     "start_time": "2022-11-14T19:00:21.083101",
     "status": "completed"
    },
    "tags": []
   },
   "outputs": [
    {
     "name": "stdout",
     "output_type": "stream",
     "text": [
      "CPU times: user 84.5 ms, sys: 411 ms, total: 496 ms\n",
      "Wall time: 2.01 s\n"
     ]
    }
   ],
   "source": [
    "%%time\n",
    "DATA_DIR = '../input/msci-citeseq-mlp-tsvd'\n",
    "train_inp = load_pickle(f'{DATA_DIR}/train_inp')"
   ]
  },
  {
   "cell_type": "markdown",
   "id": "f3e0be4c",
   "metadata": {
    "papermill": {
     "duration": 0.014205,
     "end_time": "2022-11-14T19:00:23.142077",
     "exception": false,
     "start_time": "2022-11-14T19:00:23.127872",
     "status": "completed"
    },
    "tags": []
   },
   "source": [
    "## Assign Folds"
   ]
  },
  {
   "cell_type": "code",
   "execution_count": 9,
   "id": "d5385ed4",
   "metadata": {
    "execution": {
     "iopub.execute_input": "2022-11-14T19:00:23.171757Z",
     "iopub.status.busy": "2022-11-14T19:00:23.171342Z",
     "iopub.status.idle": "2022-11-14T19:00:23.176321Z",
     "shell.execute_reply": "2022-11-14T19:00:23.175085Z"
    },
    "papermill": {
     "duration": 0.022912,
     "end_time": "2022-11-14T19:00:23.178671",
     "exception": false,
     "start_time": "2022-11-14T19:00:23.155759",
     "status": "completed"
    },
    "tags": []
   },
   "outputs": [],
   "source": [
    "donor_info = train_inp[:, -1]"
   ]
  },
  {
   "cell_type": "code",
   "execution_count": 10,
   "id": "0f2b8164",
   "metadata": {
    "execution": {
     "iopub.execute_input": "2022-11-14T19:00:23.208404Z",
     "iopub.status.busy": "2022-11-14T19:00:23.207761Z",
     "iopub.status.idle": "2022-11-14T19:00:23.286335Z",
     "shell.execute_reply": "2022-11-14T19:00:23.284972Z"
    },
    "papermill": {
     "duration": 0.096566,
     "end_time": "2022-11-14T19:00:23.289083",
     "exception": false,
     "start_time": "2022-11-14T19:00:23.192517",
     "status": "completed"
    },
    "tags": []
   },
   "outputs": [],
   "source": [
    "donors = list(set(donor_info))\n",
    "donor_idx_dict = {donor: [idx for idx in range(len(donor_info))\n",
    "                          if donor_info[idx] == donor] \n",
    "                  for donor in donors}"
   ]
  },
  {
   "cell_type": "code",
   "execution_count": 11,
   "id": "703fa3d1",
   "metadata": {
    "execution": {
     "iopub.execute_input": "2022-11-14T19:00:23.318876Z",
     "iopub.status.busy": "2022-11-14T19:00:23.318432Z",
     "iopub.status.idle": "2022-11-14T19:00:23.461256Z",
     "shell.execute_reply": "2022-11-14T19:00:23.459976Z"
    },
    "papermill": {
     "duration": 0.160969,
     "end_time": "2022-11-14T19:00:23.464242",
     "exception": false,
     "start_time": "2022-11-14T19:00:23.303273",
     "status": "completed"
    },
    "tags": []
   },
   "outputs": [],
   "source": [
    "folds = {donor: {'inp': train_inp[donor_idx_dict[donor], :-1],\n",
    "                 'tar': train_tar[donor_idx_dict[donor], :]}\n",
    "         for donor in donors}"
   ]
  },
  {
   "cell_type": "code",
   "execution_count": 12,
   "id": "e137f17b",
   "metadata": {
    "execution": {
     "iopub.execute_input": "2022-11-14T19:00:23.494554Z",
     "iopub.status.busy": "2022-11-14T19:00:23.494098Z",
     "iopub.status.idle": "2022-11-14T19:00:23.498878Z",
     "shell.execute_reply": "2022-11-14T19:00:23.497791Z"
    },
    "papermill": {
     "duration": 0.022859,
     "end_time": "2022-11-14T19:00:23.501471",
     "exception": false,
     "start_time": "2022-11-14T19:00:23.478612",
     "status": "completed"
    },
    "tags": []
   },
   "outputs": [],
   "source": [
    "# del train_inp, train_tar\n",
    "# gc.collect()"
   ]
  },
  {
   "cell_type": "code",
   "execution_count": 13,
   "id": "dbad77b7",
   "metadata": {
    "execution": {
     "iopub.execute_input": "2022-11-14T19:00:23.531055Z",
     "iopub.status.busy": "2022-11-14T19:00:23.530132Z",
     "iopub.status.idle": "2022-11-14T19:00:23.536513Z",
     "shell.execute_reply": "2022-11-14T19:00:23.535382Z"
    },
    "papermill": {
     "duration": 0.024514,
     "end_time": "2022-11-14T19:00:23.539763",
     "exception": false,
     "start_time": "2022-11-14T19:00:23.515249",
     "status": "completed"
    },
    "tags": []
   },
   "outputs": [
    {
     "name": "stdout",
     "output_type": "stream",
     "text": [
      "13176.0 (22199, 656) (22199, 140)\n",
      "31800.0 (24803, 656) (24803, 140)\n",
      "32606.0 (23986, 656) (23986, 140)\n"
     ]
    }
   ],
   "source": [
    "for donor in donors:\n",
    "    print(donor, folds[donor]['inp'].shape, folds[donor]['tar'].shape)"
   ]
  },
  {
   "cell_type": "markdown",
   "id": "4e2d4248",
   "metadata": {
    "papermill": {
     "duration": 0.013468,
     "end_time": "2022-11-14T19:00:23.568049",
     "exception": false,
     "start_time": "2022-11-14T19:00:23.554581",
     "status": "completed"
    },
    "tags": []
   },
   "source": [
    "## Modeling"
   ]
  },
  {
   "cell_type": "code",
   "execution_count": 14,
   "id": "f9eb085e",
   "metadata": {
    "execution": {
     "iopub.execute_input": "2022-11-14T19:00:23.597186Z",
     "iopub.status.busy": "2022-11-14T19:00:23.596748Z",
     "iopub.status.idle": "2022-11-14T19:00:25.264102Z",
     "shell.execute_reply": "2022-11-14T19:00:25.262832Z"
    },
    "papermill": {
     "duration": 1.6851,
     "end_time": "2022-11-14T19:00:25.266880",
     "exception": false,
     "start_time": "2022-11-14T19:00:23.581780",
     "status": "completed"
    },
    "tags": []
   },
   "outputs": [],
   "source": [
    "import torch\n",
    "import torch.nn as nn\n",
    "import torch.nn.functional as F\n",
    "import torch.optim as optim\n",
    "from torch.utils.data import DataLoader, TensorDataset, random_split"
   ]
  },
  {
   "cell_type": "markdown",
   "id": "7b0f00d4",
   "metadata": {
    "papermill": {
     "duration": 0.013243,
     "end_time": "2022-11-14T19:00:25.293924",
     "exception": false,
     "start_time": "2022-11-14T19:00:25.280681",
     "status": "completed"
    },
    "tags": []
   },
   "source": [
    "### Dataset & DataLoader"
   ]
  },
  {
   "cell_type": "code",
   "execution_count": 15,
   "id": "e8dfcbf0",
   "metadata": {
    "execution": {
     "iopub.execute_input": "2022-11-14T19:00:25.323625Z",
     "iopub.status.busy": "2022-11-14T19:00:25.322993Z",
     "iopub.status.idle": "2022-11-14T19:00:25.329082Z",
     "shell.execute_reply": "2022-11-14T19:00:25.327700Z"
    },
    "papermill": {
     "duration": 0.024143,
     "end_time": "2022-11-14T19:00:25.331650",
     "exception": false,
     "start_time": "2022-11-14T19:00:25.307507",
     "status": "completed"
    },
    "tags": []
   },
   "outputs": [],
   "source": [
    "c1 = [[13176.0, 31800.0], 32606.0]\n",
    "c2 = [[13176.0, 32606.0], 31800.0]\n",
    "c3 = [[32606.0, 31800.0], 13176.0]"
   ]
  },
  {
   "cell_type": "code",
   "execution_count": 16,
   "id": "545a9045",
   "metadata": {
    "execution": {
     "iopub.execute_input": "2022-11-14T19:00:25.360708Z",
     "iopub.status.busy": "2022-11-14T19:00:25.360325Z",
     "iopub.status.idle": "2022-11-14T19:00:25.369275Z",
     "shell.execute_reply": "2022-11-14T19:00:25.368281Z"
    },
    "papermill": {
     "duration": 0.026158,
     "end_time": "2022-11-14T19:00:25.371513",
     "exception": false,
     "start_time": "2022-11-14T19:00:25.345355",
     "status": "completed"
    },
    "tags": []
   },
   "outputs": [],
   "source": [
    "def set_up_dataloader(c, folds=folds):\n",
    "    train_folds, val_fold = c\n",
    "    \n",
    "    # Train\n",
    "    train_inp = torch.from_numpy(np.vstack([folds[donor]['inp']\n",
    "                                            for donor in train_folds]))\n",
    "    train_tar = torch.from_numpy(np.vstack([folds[donor]['tar']\n",
    "                                            for donor in train_folds]))\n",
    "    train_ds = TensorDataset(train_inp, train_tar)\n",
    "    \n",
    "    # Val\n",
    "    val_inp = torch.from_numpy(folds[val_fold]['inp'])\n",
    "    val_tar = torch.from_numpy(folds[val_fold]['tar'])\n",
    "    val_ds = TensorDataset(val_inp, val_tar)\n",
    "    \n",
    "    # Set up dataloader\n",
    "    batch_size = 512\n",
    "    train_loader = DataLoader(train_ds, \n",
    "                              batch_size=batch_size, \n",
    "                              shuffle=True)\n",
    "    val_loader = DataLoader(val_ds, \n",
    "                            batch_size=batch_size, \n",
    "                            shuffle=False)\n",
    "    \n",
    "    return train_loader, val_loader"
   ]
  },
  {
   "cell_type": "markdown",
   "id": "5635fecb",
   "metadata": {
    "papermill": {
     "duration": 0.013262,
     "end_time": "2022-11-14T19:00:25.398468",
     "exception": false,
     "start_time": "2022-11-14T19:00:25.385206",
     "status": "completed"
    },
    "tags": []
   },
   "source": [
    "### Define NN"
   ]
  },
  {
   "cell_type": "code",
   "execution_count": 17,
   "id": "6dd35365",
   "metadata": {
    "execution": {
     "iopub.execute_input": "2022-11-14T19:00:25.427981Z",
     "iopub.status.busy": "2022-11-14T19:00:25.427330Z",
     "iopub.status.idle": "2022-11-14T19:00:25.436413Z",
     "shell.execute_reply": "2022-11-14T19:00:25.435418Z"
    },
    "papermill": {
     "duration": 0.02682,
     "end_time": "2022-11-14T19:00:25.438847",
     "exception": false,
     "start_time": "2022-11-14T19:00:25.412027",
     "status": "completed"
    },
    "tags": []
   },
   "outputs": [],
   "source": [
    "class Net(nn.Module):\n",
    "    def __init__(self):\n",
    "        \"\"\"In the constructor we instantiate two nn.Linear modules and assign them as\n",
    "        member variables (self).\n",
    "        \"\"\"\n",
    "        super(Net, self).__init__()\n",
    "#         self.linear1 = nn.Linear(663, 128*2)\n",
    "        self.linear1 = nn.Linear(656, 128*4)\n",
    "        self.selu1 = nn.SELU(128*4)\n",
    "        self.linear2 = nn.Linear(128*4, 128*4)\n",
    "        self.selu2 = nn.SELU(128*4)\n",
    "        self.linear3 = nn.Linear(128*4, 128*4)\n",
    "        self.selu3 = nn.SELU(128*4)\n",
    "        self.linear4 = nn.Linear(128*4, 140)\n",
    "\n",
    "    def forward(self, x):\n",
    "        \"\"\"\n",
    "        In the forward function we accept a Tensor of input data and we must return\n",
    "        a Tensor of output data. We can use Modules defined in the constructor as\n",
    "        well as arbitrary operators on Tensors.\n",
    "        \"\"\"\n",
    "        x = self.linear1(x)\n",
    "        x = self.selu1(x)\n",
    "        x = self.linear2(x)\n",
    "        x = self.selu2(x)\n",
    "        x = self.linear3(x)\n",
    "        x = self.selu3(x)\n",
    "        x = self.linear4(x)\n",
    "        return x"
   ]
  },
  {
   "cell_type": "markdown",
   "id": "fb47d4a8",
   "metadata": {
    "papermill": {
     "duration": 0.013289,
     "end_time": "2022-11-14T19:00:25.465788",
     "exception": false,
     "start_time": "2022-11-14T19:00:25.452499",
     "status": "completed"
    },
    "tags": []
   },
   "source": [
    "### Find LR"
   ]
  },
  {
   "cell_type": "code",
   "execution_count": 18,
   "id": "1e27e8e2",
   "metadata": {
    "execution": {
     "iopub.execute_input": "2022-11-14T19:00:25.495604Z",
     "iopub.status.busy": "2022-11-14T19:00:25.494967Z",
     "iopub.status.idle": "2022-11-14T19:00:25.505921Z",
     "shell.execute_reply": "2022-11-14T19:00:25.505025Z"
    },
    "papermill": {
     "duration": 0.028604,
     "end_time": "2022-11-14T19:00:25.508374",
     "exception": false,
     "start_time": "2022-11-14T19:00:25.479770",
     "status": "completed"
    },
    "tags": []
   },
   "outputs": [],
   "source": [
    "def find_lr(model, train_loader, optimizer,\n",
    "            init_val=1e-8, final_val=10.0, beta=0.98):\n",
    "    # https://sgugger.github.io/how-do-you-find-a-good-learning-rate.html#how-do-you-find-a-good-learning-rate\n",
    "    \n",
    "    num = len(train_loader)\n",
    "    mult = (final_val / init_val) ** (1 / num)\n",
    "    lr = init_val\n",
    "    optimizer.param_groups[0]['lr'] = lr\n",
    "    \n",
    "    avg_loss = 0\n",
    "    best_loss = 0\n",
    "    batch_num = 0\n",
    "    smoothed_losses = []\n",
    "    raw_losses = []\n",
    "    log_lrs = []\n",
    "    \n",
    "    for i, (x, y) in enumerate(train_loader):\n",
    "        batch_num+=1\n",
    "        batch = x.shape[0]\n",
    "        \n",
    "        optimizer.zero_grad()\n",
    "        \n",
    "        # Prediction\n",
    "        preds = model(x)\n",
    "        vpreds = preds - torch.mean(preds)\n",
    "        vy = y - torch.mean(y)\n",
    "        corr = torch.sum(vpreds * vy) / \\\n",
    "               (torch.sqrt(torch.sum(vpreds ** 2)) *\n",
    "                torch.sqrt(torch.sum(vy ** 2)))\n",
    "        loss = -corr\n",
    "        loss_cpu = float(loss.detach().numpy())\n",
    "        \n",
    "        # Compute the smoothed loss\n",
    "        avg_loss = beta * avg_loss + (1 - beta) * loss_cpu\n",
    "        smoothed_loss = avg_loss / (1 - beta ** batch_num)\n",
    "        \n",
    "        if smoothed_loss < best_loss or batch_num==1:\n",
    "            best_loss = smoothed_loss\n",
    "            \n",
    "        raw_losses.append(loss_cpu)\n",
    "        smoothed_losses.append(smoothed_loss)\n",
    "        log_lrs.append(np.log10(lr))\n",
    "        \n",
    "        loss.backward()\n",
    "        optimizer.step()\n",
    "        \n",
    "        # Update the lr for the next batch\n",
    "        lr*=mult\n",
    "        optimizer.param_groups[0]['lr'] = lr\n",
    "    return log_lrs, raw_losses, smoothed_losses"
   ]
  },
  {
   "cell_type": "code",
   "execution_count": 19,
   "id": "c25bfc79",
   "metadata": {
    "execution": {
     "iopub.execute_input": "2022-11-14T19:00:25.538759Z",
     "iopub.status.busy": "2022-11-14T19:00:25.537858Z",
     "iopub.status.idle": "2022-11-14T19:00:25.547481Z",
     "shell.execute_reply": "2022-11-14T19:00:25.546175Z"
    },
    "papermill": {
     "duration": 0.027752,
     "end_time": "2022-11-14T19:00:25.550203",
     "exception": false,
     "start_time": "2022-11-14T19:00:25.522451",
     "status": "completed"
    },
    "tags": []
   },
   "outputs": [],
   "source": [
    "def find_lr_for_one_comb(c, folds=folds):\n",
    "    # Set up dataloader\n",
    "    train_loader, val_loader = set_up_dataloader(c, folds=folds)\n",
    "    \n",
    "    weight_decays = [0.01, 0.001, 0.0001, 0.00001]\n",
    "    res = {}\n",
    "\n",
    "    for weight_decay in weight_decays:\n",
    "        net = Net()\n",
    "        optimizer = optim.Adam(net.parameters(), \n",
    "                               weight_decay=weight_decay)\n",
    "        log_lrs, raw_losses, smoothed_losses = find_lr(net, \n",
    "                                                       train_loader, \n",
    "                                                       optimizer)\n",
    "\n",
    "        # Find steepest gradient according to fast.ai\n",
    "        # https://fastai1.fast.ai/callbacks.lr_finder.html\n",
    "        gradients = np.gradient(raw_losses)\n",
    "        min_gradient = gradients.min()\n",
    "        for i in range(len(raw_losses)):\n",
    "            if gradients[i] == min_gradient:\n",
    "                print(f'weight decay: {weight_decay}')\n",
    "                print(f'learning rate w/ steepest gradient {log_lrs[i]:.4f}')\n",
    "                print()\n",
    "                break\n",
    "\n",
    "        res[weight_decay] = {\n",
    "            'log lrs': log_lrs,\n",
    "            'raw losses': raw_losses,\n",
    "            'smoothed losses': smoothed_losses\n",
    "        }\n",
    "        \n",
    "    return res"
   ]
  },
  {
   "cell_type": "code",
   "execution_count": 20,
   "id": "fdfc9f4c",
   "metadata": {
    "execution": {
     "iopub.execute_input": "2022-11-14T19:00:25.579626Z",
     "iopub.status.busy": "2022-11-14T19:00:25.579170Z",
     "iopub.status.idle": "2022-11-14T19:00:25.587621Z",
     "shell.execute_reply": "2022-11-14T19:00:25.586297Z"
    },
    "papermill": {
     "duration": 0.026164,
     "end_time": "2022-11-14T19:00:25.590039",
     "exception": false,
     "start_time": "2022-11-14T19:00:25.563875",
     "status": "completed"
    },
    "tags": []
   },
   "outputs": [],
   "source": [
    "def plot_find_lr(res, cutoff):\n",
    "    weight_decays = [0.01, 0.001, 0.0001, 0.00001]\n",
    "    \n",
    "    plt.subplot(2, 1, 1)\n",
    "    for weight_decay in weight_decays:\n",
    "        plt.plot(res[weight_decay]['log lrs'], \n",
    "                 res[weight_decay]['raw losses'],\n",
    "                 label=f'wd={weight_decay}')\n",
    "    plt.vlines(cutoff, -0.9, 0.1, linestyles='--', colors='black')\n",
    "    plt.legend()\n",
    "    plt.title('raw losses')\n",
    "\n",
    "    plt.subplot(2, 1, 2)\n",
    "    for weight_decay in weight_decays:\n",
    "        plt.plot(res[weight_decay]['log lrs'], \n",
    "                 res[weight_decay]['smoothed losses'],\n",
    "                 label=weight_decay)\n",
    "    plt.legend()\n",
    "    plt.title('smoothed losses')\n",
    "\n",
    "    plt.tight_layout()"
   ]
  },
  {
   "cell_type": "markdown",
   "id": "4caf50c5",
   "metadata": {
    "papermill": {
     "duration": 0.013274,
     "end_time": "2022-11-14T19:00:25.617622",
     "exception": false,
     "start_time": "2022-11-14T19:00:25.604348",
     "status": "completed"
    },
    "tags": []
   },
   "source": [
    "#### Comb 1 "
   ]
  },
  {
   "cell_type": "code",
   "execution_count": 21,
   "id": "bb0ede50",
   "metadata": {
    "execution": {
     "iopub.execute_input": "2022-11-14T19:00:25.646663Z",
     "iopub.status.busy": "2022-11-14T19:00:25.646241Z",
     "iopub.status.idle": "2022-11-14T19:00:37.833071Z",
     "shell.execute_reply": "2022-11-14T19:00:37.831274Z"
    },
    "papermill": {
     "duration": 12.204829,
     "end_time": "2022-11-14T19:00:37.836038",
     "exception": false,
     "start_time": "2022-11-14T19:00:25.631209",
     "status": "completed"
    },
    "tags": []
   },
   "outputs": [
    {
     "name": "stdout",
     "output_type": "stream",
     "text": [
      "Find LR for Comb 1...\n",
      "weight decay: 0.01\n",
      "learning rate w/ steepest gradient 0.9022\n",
      "\n",
      "weight decay: 0.001\n",
      "learning rate w/ steepest gradient -3.4022\n",
      "\n",
      "weight decay: 0.0001\n",
      "learning rate w/ steepest gradient -3.3043\n",
      "\n",
      "weight decay: 1e-05\n",
      "learning rate w/ steepest gradient -3.3043\n",
      "\n"
     ]
    }
   ],
   "source": [
    "print('Find LR for Comb 1...')\n",
    "res1 = find_lr_for_one_comb(c1)"
   ]
  },
  {
   "cell_type": "code",
   "execution_count": 22,
   "id": "e1357637",
   "metadata": {
    "execution": {
     "iopub.execute_input": "2022-11-14T19:00:37.866860Z",
     "iopub.status.busy": "2022-11-14T19:00:37.866465Z",
     "iopub.status.idle": "2022-11-14T19:00:38.581108Z",
     "shell.execute_reply": "2022-11-14T19:00:38.580109Z"
    },
    "papermill": {
     "duration": 0.732766,
     "end_time": "2022-11-14T19:00:38.583679",
     "exception": false,
     "start_time": "2022-11-14T19:00:37.850913",
     "status": "completed"
    },
    "tags": []
   },
   "outputs": [
    {
     "data": {
      "image/png": "[encoded data removed]",
      "text/plain": [
       "<Figure size 576x576 with 2 Axes>"
      ]
     },
     "metadata": {},
     "output_type": "display_data"
    }
   ],
   "source": [
    "figsize(8, 8)\n",
    "plot_find_lr(res1, -2.8)"
   ]
  },
  {
   "cell_type": "markdown",
   "id": "62805525",
   "metadata": {
    "papermill": {
     "duration": 0.015071,
     "end_time": "2022-11-14T19:00:38.614527",
     "exception": false,
     "start_time": "2022-11-14T19:00:38.599456",
     "status": "completed"
    },
    "tags": []
   },
   "source": [
    "#### Comb 2"
   ]
  },
  {
   "cell_type": "code",
   "execution_count": 23,
   "id": "6ce05b7d",
   "metadata": {
    "execution": {
     "iopub.execute_input": "2022-11-14T19:00:38.649621Z",
     "iopub.status.busy": "2022-11-14T19:00:38.648781Z",
     "iopub.status.idle": "2022-11-14T19:00:50.112606Z",
     "shell.execute_reply": "2022-11-14T19:00:50.111425Z"
    },
    "papermill": {
     "duration": 11.486102,
     "end_time": "2022-11-14T19:00:50.116068",
     "exception": false,
     "start_time": "2022-11-14T19:00:38.629966",
     "status": "completed"
    },
    "tags": []
   },
   "outputs": [
    {
     "name": "stdout",
     "output_type": "stream",
     "text": [
      "Find LR for Comb 2...\n",
      "weight decay: 0.01\n",
      "learning rate w/ steepest gradient 0.7033\n",
      "\n",
      "weight decay: 0.001\n",
      "learning rate w/ steepest gradient 0.6044\n",
      "\n",
      "weight decay: 0.0001\n",
      "learning rate w/ steepest gradient -3.3516\n",
      "\n",
      "weight decay: 1e-05\n",
      "learning rate w/ steepest gradient -3.3516\n",
      "\n"
     ]
    }
   ],
   "source": [
    "print('Find LR for Comb 2...')\n",
    "res2 = find_lr_for_one_comb(c2)"
   ]
  },
  {
   "cell_type": "code",
   "execution_count": 24,
   "id": "83e84328",
   "metadata": {
    "execution": {
     "iopub.execute_input": "2022-11-14T19:00:50.151555Z",
     "iopub.status.busy": "2022-11-14T19:00:50.151152Z",
     "iopub.status.idle": "2022-11-14T19:00:50.798781Z",
     "shell.execute_reply": "2022-11-14T19:00:50.797424Z"
    },
    "papermill": {
     "duration": 0.668353,
     "end_time": "2022-11-14T19:00:50.802061",
     "exception": false,
     "start_time": "2022-11-14T19:00:50.133708",
     "status": "completed"
    },
    "tags": []
   },
   "outputs": [
    {
     "data": {
      "image/png": "[encoded data removed]",
      "text/plain": [
       "<Figure size 576x576 with 2 Axes>"
      ]
     },
     "metadata": {},
     "output_type": "display_data"
    }
   ],
   "source": [
    "figsize(8, 8)\n",
    "plot_find_lr(res2, -2.8)"
   ]
  },
  {
   "cell_type": "markdown",
   "id": "8300d493",
   "metadata": {
    "papermill": {
     "duration": 0.016868,
     "end_time": "2022-11-14T19:00:50.835914",
     "exception": false,
     "start_time": "2022-11-14T19:00:50.819046",
     "status": "completed"
    },
    "tags": []
   },
   "source": [
    "#### Comb 3"
   ]
  },
  {
   "cell_type": "code",
   "execution_count": 25,
   "id": "82263645",
   "metadata": {
    "execution": {
     "iopub.execute_input": "2022-11-14T19:00:50.871146Z",
     "iopub.status.busy": "2022-11-14T19:00:50.870718Z",
     "iopub.status.idle": "2022-11-14T19:01:02.802917Z",
     "shell.execute_reply": "2022-11-14T19:01:02.801958Z"
    },
    "papermill": {
     "duration": 11.955625,
     "end_time": "2022-11-14T19:01:02.808266",
     "exception": false,
     "start_time": "2022-11-14T19:00:50.852641",
     "status": "completed"
    },
    "tags": []
   },
   "outputs": [
    {
     "name": "stdout",
     "output_type": "stream",
     "text": [
      "Find LR for Comb 3...\n",
      "weight decay: 0.01\n",
      "learning rate w/ steepest gradient 0.9063\n",
      "\n",
      "weight decay: 0.001\n",
      "learning rate w/ steepest gradient -3.3125\n",
      "\n",
      "weight decay: 0.0001\n",
      "learning rate w/ steepest gradient 0.7188\n",
      "\n",
      "weight decay: 1e-05\n",
      "learning rate w/ steepest gradient -3.4062\n",
      "\n"
     ]
    }
   ],
   "source": [
    "print('Find LR for Comb 3...')\n",
    "res3 = find_lr_for_one_comb(c3)"
   ]
  },
  {
   "cell_type": "code",
   "execution_count": 26,
   "id": "384d1b08",
   "metadata": {
    "execution": {
     "iopub.execute_input": "2022-11-14T19:01:02.846046Z",
     "iopub.status.busy": "2022-11-14T19:01:02.845482Z",
     "iopub.status.idle": "2022-11-14T19:01:03.559643Z",
     "shell.execute_reply": "2022-11-14T19:01:03.558568Z"
    },
    "papermill": {
     "duration": 0.735335,
     "end_time": "2022-11-14T19:01:03.562322",
     "exception": false,
     "start_time": "2022-11-14T19:01:02.826987",
     "status": "completed"
    },
    "tags": []
   },
   "outputs": [
    {
     "data": {
      "image/png": "[encoded data removed]",
      "text/plain": [
       "<Figure size 576x576 with 2 Axes>"
      ]
     },
     "metadata": {},
     "output_type": "display_data"
    }
   ],
   "source": [
    "figsize(8, 8)\n",
    "plot_find_lr(res3, -2.8)"
   ]
  },
  {
   "cell_type": "markdown",
   "id": "69ae8c87",
   "metadata": {
    "papermill": {
     "duration": 0.019077,
     "end_time": "2022-11-14T19:01:03.600179",
     "exception": false,
     "start_time": "2022-11-14T19:01:03.581102",
     "status": "completed"
    },
    "tags": []
   },
   "source": [
    "### Train"
   ]
  },
  {
   "cell_type": "code",
   "execution_count": 27,
   "id": "0e4ba197",
   "metadata": {
    "execution": {
     "iopub.execute_input": "2022-11-14T19:01:03.642095Z",
     "iopub.status.busy": "2022-11-14T19:01:03.641060Z",
     "iopub.status.idle": "2022-11-14T19:01:03.652251Z",
     "shell.execute_reply": "2022-11-14T19:01:03.650872Z"
    },
    "papermill": {
     "duration": 0.035321,
     "end_time": "2022-11-14T19:01:03.655264",
     "exception": false,
     "start_time": "2022-11-14T19:01:03.619943",
     "status": "completed"
    },
    "tags": []
   },
   "outputs": [],
   "source": [
    "def train_model(train_loader, model, optimizer, scheduler):\n",
    "    \n",
    "    model.train()\n",
    "    sum_corr = 0.0 # sum_loss = 0.0\n",
    "    total = 0\n",
    "    lrs = []\n",
    "    \n",
    "    for i, (x, y) in enumerate(train_loader):\n",
    "        batch = x.shape[0]\n",
    "        \n",
    "        preds = model(x)\n",
    "        vpreds = preds - torch.mean(preds)\n",
    "        vy = y - torch.mean(y)\n",
    "        corr = torch.sum(vpreds * vy) / \\\n",
    "               (torch.sqrt(torch.sum(vpreds ** 2)) *\n",
    "                torch.sqrt(torch.sum(vy ** 2)))\n",
    "        loss = -corr\n",
    "        \n",
    "        optimizer.zero_grad()\n",
    "        loss.backward()\n",
    "        \n",
    "        optimizer.step()\n",
    "        lrs.append(optimizer.param_groups[0]['lr'])\n",
    "        scheduler.step()\n",
    "        \n",
    "        total += batch\n",
    "        sum_corr += batch * corr\n",
    "    \n",
    "    train_corr = sum_corr/total \n",
    "    return train_corr, lrs"
   ]
  },
  {
   "cell_type": "code",
   "execution_count": 28,
   "id": "d8798244",
   "metadata": {
    "execution": {
     "iopub.execute_input": "2022-11-14T19:01:03.694468Z",
     "iopub.status.busy": "2022-11-14T19:01:03.693593Z",
     "iopub.status.idle": "2022-11-14T19:01:03.702152Z",
     "shell.execute_reply": "2022-11-14T19:01:03.701052Z"
    },
    "papermill": {
     "duration": 0.031668,
     "end_time": "2022-11-14T19:01:03.705112",
     "exception": false,
     "start_time": "2022-11-14T19:01:03.673444",
     "status": "completed"
    },
    "tags": []
   },
   "outputs": [],
   "source": [
    "def model_eval(model, val_loader):\n",
    "    model.eval()\n",
    "    sum_corr = 0.0 # sum_loss = 0.0\n",
    "    total = 0\n",
    "    \n",
    "    for i, (x, y) in enumerate(val_loader):\n",
    "        batch = x.shape[0]\n",
    "        \n",
    "        preds = model(x)\n",
    "        vpreds = preds - torch.mean(preds)\n",
    "        vy = y - torch.mean(y)\n",
    "        corr = torch.sum(vpreds * vy) / \\\n",
    "               (torch.sqrt(torch.sum(vpreds ** 2)) *\n",
    "                torch.sqrt(torch.sum(vy ** 2)))\n",
    "        loss = -corr\n",
    "        \n",
    "        total += batch\n",
    "        sum_corr += batch * corr\n",
    "        \n",
    "    val_corr = sum_corr/total\n",
    "    return val_corr"
   ]
  },
  {
   "cell_type": "code",
   "execution_count": 29,
   "id": "2c5d624f",
   "metadata": {
    "execution": {
     "iopub.execute_input": "2022-11-14T19:01:03.747771Z",
     "iopub.status.busy": "2022-11-14T19:01:03.746964Z",
     "iopub.status.idle": "2022-11-14T19:01:03.757432Z",
     "shell.execute_reply": "2022-11-14T19:01:03.756212Z"
    },
    "papermill": {
     "duration": 0.036622,
     "end_time": "2022-11-14T19:01:03.760233",
     "exception": false,
     "start_time": "2022-11-14T19:01:03.723611",
     "status": "completed"
    },
    "tags": []
   },
   "outputs": [],
   "source": [
    "def train_one_comb(c, max_lr, weight_decay, epochs,\n",
    "                   folds=folds):\n",
    "    # Set up dataloader\n",
    "    train_loader, val_loader = set_up_dataloader(c, folds=folds)\n",
    "    \n",
    "    # Set up model\n",
    "    net = Net()\n",
    "\n",
    "    # Set up optimizer & scheduler\n",
    "    optimizer = optim.Adam(net.parameters(),\n",
    "                           weight_decay=weight_decay)\n",
    "    scheduler = torch.optim.lr_scheduler\\\n",
    "                     .OneCycleLR(optimizer, \n",
    "                                 max_lr=max_lr,\n",
    "                                 steps_per_epoch=len(train_loader),\n",
    "                                 epochs=epochs)\n",
    "    \n",
    "    # Train\n",
    "    train_corrs = []\n",
    "    val_corrs = []\n",
    "    num_epochs_run = 0\n",
    "    lrs = []\n",
    "\n",
    "    for epoch in range(epochs):\n",
    "        num_epochs_run += 1\n",
    "\n",
    "        # train\n",
    "        print('epoch', epoch)\n",
    "        train_corr, epoch_lrs = train_model(train_loader, net, optimizer, scheduler)\n",
    "        train_corr = float(train_corr.detach().numpy())\n",
    "        train_corrs.append(train_corr)\n",
    "        lrs.append(epoch_lrs)\n",
    "        print(f'train corr: {train_corr:.4f}')\n",
    "\n",
    "        # val\n",
    "        val_corr = model_eval(net, val_loader)\n",
    "        val_corr = float(val_corr.detach().numpy())\n",
    "        val_corrs.append(val_corr)\n",
    "        print(f'val corr: {val_corr:.4f}')\n",
    "        print()\n",
    "        \n",
    "    return net, lrs"
   ]
  },
  {
   "cell_type": "code",
   "execution_count": 30,
   "id": "8adf8a4b",
   "metadata": {
    "execution": {
     "iopub.execute_input": "2022-11-14T19:01:03.798779Z",
     "iopub.status.busy": "2022-11-14T19:01:03.798365Z",
     "iopub.status.idle": "2022-11-14T19:02:15.371908Z",
     "shell.execute_reply": "2022-11-14T19:02:15.371069Z"
    },
    "papermill": {
     "duration": 71.596039,
     "end_time": "2022-11-14T19:02:15.374594",
     "exception": false,
     "start_time": "2022-11-14T19:01:03.778555",
     "status": "completed"
    },
    "tags": []
   },
   "outputs": [
    {
     "name": "stdout",
     "output_type": "stream",
     "text": [
      "epoch 0\n",
      "train corr: 0.6501\n",
      "val corr: 0.8103\n",
      "\n",
      "epoch 1\n",
      "train corr: 0.8605\n",
      "val corr: 0.8550\n",
      "\n",
      "epoch 2\n",
      "train corr: 0.8762\n",
      "val corr: 0.8630\n",
      "\n",
      "epoch 3\n",
      "train corr: 0.8784\n",
      "val corr: 0.8657\n",
      "\n",
      "epoch 4\n",
      "train corr: 0.8778\n",
      "val corr: 0.8651\n",
      "\n",
      "epoch 5\n",
      "train corr: 0.8773\n",
      "val corr: 0.8671\n",
      "\n",
      "epoch 6\n",
      "train corr: 0.8782\n",
      "val corr: 0.8663\n",
      "\n",
      "epoch 7\n",
      "train corr: 0.8792\n",
      "val corr: 0.8676\n",
      "\n",
      "epoch 8\n",
      "train corr: 0.8803\n",
      "val corr: 0.8704\n",
      "\n",
      "epoch 9\n",
      "train corr: 0.8812\n",
      "val corr: 0.8698\n",
      "\n",
      "epoch 10\n",
      "train corr: 0.8826\n",
      "val corr: 0.8710\n",
      "\n",
      "epoch 11\n",
      "train corr: 0.8838\n",
      "val corr: 0.8724\n",
      "\n",
      "epoch 12\n",
      "train corr: 0.8851\n",
      "val corr: 0.8740\n",
      "\n",
      "epoch 13\n",
      "train corr: 0.8869\n",
      "val corr: 0.8750\n",
      "\n",
      "epoch 14\n",
      "train corr: 0.8888\n",
      "val corr: 0.8784\n",
      "\n",
      "epoch 15\n",
      "train corr: 0.8903\n",
      "val corr: 0.8793\n",
      "\n",
      "epoch 16\n",
      "train corr: 0.8921\n",
      "val corr: 0.8796\n",
      "\n",
      "epoch 17\n",
      "train corr: 0.8938\n",
      "val corr: 0.8807\n",
      "\n",
      "epoch 18\n",
      "train corr: 0.8954\n",
      "val corr: 0.8810\n",
      "\n",
      "epoch 19\n",
      "train corr: 0.8962\n",
      "val corr: 0.8812\n",
      "\n"
     ]
    }
   ],
   "source": [
    "net1, lrs1 = train_one_comb(c1, \n",
    "                            max_lr=0.002, \n",
    "                            weight_decay=0.001, \n",
    "                            epochs=20)"
   ]
  },
  {
   "cell_type": "code",
   "execution_count": 31,
   "id": "dfc081b0",
   "metadata": {
    "execution": {
     "iopub.execute_input": "2022-11-14T19:02:15.420155Z",
     "iopub.status.busy": "2022-11-14T19:02:15.419120Z",
     "iopub.status.idle": "2022-11-14T19:03:25.681962Z",
     "shell.execute_reply": "2022-11-14T19:03:25.679979Z"
    },
    "papermill": {
     "duration": 70.287736,
     "end_time": "2022-11-14T19:03:25.684678",
     "exception": false,
     "start_time": "2022-11-14T19:02:15.396942",
     "status": "completed"
    },
    "tags": []
   },
   "outputs": [
    {
     "name": "stdout",
     "output_type": "stream",
     "text": [
      "epoch 0\n",
      "train corr: 0.6483\n",
      "val corr: 0.7984\n",
      "\n",
      "epoch 1\n",
      "train corr: 0.8608\n",
      "val corr: 0.8457\n",
      "\n",
      "epoch 2\n",
      "train corr: 0.8769\n",
      "val corr: 0.8591\n",
      "\n",
      "epoch 3\n",
      "train corr: 0.8791\n",
      "val corr: 0.8581\n",
      "\n",
      "epoch 4\n",
      "train corr: 0.8790\n",
      "val corr: 0.8573\n",
      "\n",
      "epoch 5\n",
      "train corr: 0.8790\n",
      "val corr: 0.8580\n",
      "\n",
      "epoch 6\n",
      "train corr: 0.8803\n",
      "val corr: 0.8572\n",
      "\n",
      "epoch 7\n",
      "train corr: 0.8809\n",
      "val corr: 0.8642\n",
      "\n",
      "epoch 8\n",
      "train corr: 0.8820\n",
      "val corr: 0.8658\n",
      "\n",
      "epoch 9\n",
      "train corr: 0.8827\n",
      "val corr: 0.8666\n",
      "\n",
      "epoch 10\n",
      "train corr: 0.8846\n",
      "val corr: 0.8685\n",
      "\n",
      "epoch 11\n",
      "train corr: 0.8857\n",
      "val corr: 0.8693\n",
      "\n",
      "epoch 12\n",
      "train corr: 0.8873\n",
      "val corr: 0.8701\n",
      "\n",
      "epoch 13\n",
      "train corr: 0.8888\n",
      "val corr: 0.8727\n",
      "\n",
      "epoch 14\n",
      "train corr: 0.8905\n",
      "val corr: 0.8719\n",
      "\n",
      "epoch 15\n",
      "train corr: 0.8921\n",
      "val corr: 0.8758\n",
      "\n",
      "epoch 16\n",
      "train corr: 0.8940\n",
      "val corr: 0.8755\n",
      "\n",
      "epoch 17\n",
      "train corr: 0.8956\n",
      "val corr: 0.8766\n",
      "\n",
      "epoch 18\n",
      "train corr: 0.8971\n",
      "val corr: 0.8777\n",
      "\n",
      "epoch 19\n",
      "train corr: 0.8979\n",
      "val corr: 0.8776\n",
      "\n"
     ]
    }
   ],
   "source": [
    "net2, lrs2 = train_one_comb(c2, \n",
    "                            max_lr=0.002, \n",
    "                            weight_decay=0.001, \n",
    "                            epochs=20)"
   ]
  },
  {
   "cell_type": "code",
   "execution_count": 32,
   "id": "5c793f52",
   "metadata": {
    "execution": {
     "iopub.execute_input": "2022-11-14T19:03:25.733940Z",
     "iopub.status.busy": "2022-11-14T19:03:25.733499Z",
     "iopub.status.idle": "2022-11-14T19:04:38.616520Z",
     "shell.execute_reply": "2022-11-14T19:04:38.614457Z"
    },
    "papermill": {
     "duration": 72.911634,
     "end_time": "2022-11-14T19:04:38.620608",
     "exception": false,
     "start_time": "2022-11-14T19:03:25.708974",
     "status": "completed"
    },
    "tags": []
   },
   "outputs": [
    {
     "name": "stdout",
     "output_type": "stream",
     "text": [
      "epoch 0\n",
      "train corr: 0.6599\n",
      "val corr: 0.8038\n",
      "\n",
      "epoch 1\n",
      "train corr: 0.8601\n",
      "val corr: 0.8508\n",
      "\n",
      "epoch 2\n",
      "train corr: 0.8759\n",
      "val corr: 0.8644\n",
      "\n",
      "epoch 3\n",
      "train corr: 0.8770\n",
      "val corr: 0.8623\n",
      "\n",
      "epoch 4\n",
      "train corr: 0.8775\n",
      "val corr: 0.8626\n",
      "\n",
      "epoch 5\n",
      "train corr: 0.8767\n",
      "val corr: 0.8672\n",
      "\n",
      "epoch 6\n",
      "train corr: 0.8775\n",
      "val corr: 0.8665\n",
      "\n",
      "epoch 7\n",
      "train corr: 0.8781\n",
      "val corr: 0.8688\n",
      "\n",
      "epoch 8\n",
      "train corr: 0.8796\n",
      "val corr: 0.8695\n",
      "\n",
      "epoch 9\n",
      "train corr: 0.8806\n",
      "val corr: 0.8694\n",
      "\n",
      "epoch 10\n",
      "train corr: 0.8817\n",
      "val corr: 0.8711\n",
      "\n",
      "epoch 11\n",
      "train corr: 0.8831\n",
      "val corr: 0.8734\n",
      "\n",
      "epoch 12\n",
      "train corr: 0.8848\n",
      "val corr: 0.8747\n",
      "\n",
      "epoch 13\n",
      "train corr: 0.8861\n",
      "val corr: 0.8756\n",
      "\n",
      "epoch 14\n",
      "train corr: 0.8877\n",
      "val corr: 0.8767\n",
      "\n",
      "epoch 15\n",
      "train corr: 0.8891\n",
      "val corr: 0.8788\n",
      "\n",
      "epoch 16\n",
      "train corr: 0.8909\n",
      "val corr: 0.8793\n",
      "\n",
      "epoch 17\n",
      "train corr: 0.8924\n",
      "val corr: 0.8796\n",
      "\n",
      "epoch 18\n",
      "train corr: 0.8936\n",
      "val corr: 0.8803\n",
      "\n",
      "epoch 19\n",
      "train corr: 0.8943\n",
      "val corr: 0.8800\n",
      "\n"
     ]
    }
   ],
   "source": [
    "net3, lrs3 = train_one_comb(c3, \n",
    "                            max_lr=0.002, \n",
    "                            weight_decay=0.001, \n",
    "                            epochs=20)"
   ]
  },
  {
   "cell_type": "markdown",
   "id": "3c4857ed",
   "metadata": {
    "papermill": {
     "duration": 0.025597,
     "end_time": "2022-11-14T19:04:38.673705",
     "exception": false,
     "start_time": "2022-11-14T19:04:38.648108",
     "status": "completed"
    },
    "tags": []
   },
   "source": [
    "## Find Out CV Score"
   ]
  },
  {
   "cell_type": "code",
   "execution_count": 33,
   "id": "0ceb2caa",
   "metadata": {
    "execution": {
     "iopub.execute_input": "2022-11-14T19:04:38.726248Z",
     "iopub.status.busy": "2022-11-14T19:04:38.725799Z",
     "iopub.status.idle": "2022-11-14T19:04:38.733141Z",
     "shell.execute_reply": "2022-11-14T19:04:38.731917Z"
    },
    "papermill": {
     "duration": 0.036717,
     "end_time": "2022-11-14T19:04:38.735623",
     "exception": false,
     "start_time": "2022-11-14T19:04:38.698906",
     "status": "completed"
    },
    "tags": []
   },
   "outputs": [],
   "source": [
    "def correlation_score(y_true, y_pred):\n",
    "    \"\"\"Scores the predictions according to the competition rules. \n",
    "    It is assumed that the predictions are not constant.\n",
    "    Returns the average of each sample's Pearson correlation coefficient\"\"\"\n",
    "    if type(y_true) == pd.DataFrame: y_true = y_true.values\n",
    "    if type(y_pred) == pd.DataFrame: y_pred = y_pred.values\n",
    "    if y_true.shape != y_pred.shape: raise ValueError(\"Shapes are different.\")\n",
    "    corrsum = 0\n",
    "    for i in range(len(y_true)):\n",
    "        corrsum += np.corrcoef(y_true[i], y_pred[i])[1, 0]\n",
    "    return corrsum / len(y_true)"
   ]
  },
  {
   "cell_type": "code",
   "execution_count": 34,
   "id": "393c19a5",
   "metadata": {
    "execution": {
     "iopub.execute_input": "2022-11-14T19:04:38.789556Z",
     "iopub.status.busy": "2022-11-14T19:04:38.788375Z",
     "iopub.status.idle": "2022-11-14T19:04:39.153470Z",
     "shell.execute_reply": "2022-11-14T19:04:39.152078Z"
    },
    "papermill": {
     "duration": 0.394781,
     "end_time": "2022-11-14T19:04:39.156466",
     "exception": false,
     "start_time": "2022-11-14T19:04:38.761685",
     "status": "completed"
    },
    "tags": []
   },
   "outputs": [
    {
     "name": "stdout",
     "output_type": "stream",
     "text": [
      "CPU times: user 64.4 ms, sys: 291 ms, total: 355 ms\n",
      "Wall time: 356 ms\n"
     ]
    }
   ],
   "source": [
    "%%time\n",
    "DATA_DIR = '../input/msci-citeseq-mlp-tsvd'\n",
    "train_inp = load_pickle(f'{DATA_DIR}/train_inp')[:, :-1]\n",
    "train_inp = torch.from_numpy(train_inp)"
   ]
  },
  {
   "cell_type": "code",
   "execution_count": 35,
   "id": "6b19bc74",
   "metadata": {
    "execution": {
     "iopub.execute_input": "2022-11-14T19:04:39.210255Z",
     "iopub.status.busy": "2022-11-14T19:04:39.209451Z",
     "iopub.status.idle": "2022-11-14T19:04:43.177088Z",
     "shell.execute_reply": "2022-11-14T19:04:43.175821Z"
    },
    "papermill": {
     "duration": 3.997357,
     "end_time": "2022-11-14T19:04:43.179613",
     "exception": false,
     "start_time": "2022-11-14T19:04:39.182256",
     "status": "completed"
    },
    "tags": []
   },
   "outputs": [
    {
     "name": "stdout",
     "output_type": "stream",
     "text": [
      "CPU times: user 7.04 s, sys: 870 ms, total: 7.91 s\n",
      "Wall time: 3.96 s\n"
     ]
    }
   ],
   "source": [
    "%%time\n",
    "with torch.no_grad():\n",
    "    net1.eval()\n",
    "    train_preds1 = net1(train_inp).detach().numpy()\n",
    "    \n",
    "    net2.eval()\n",
    "    train_preds2 = net2(train_inp).detach().numpy()\n",
    "    \n",
    "    net3.eval()\n",
    "    train_preds3 = net3(train_inp).detach().numpy()"
   ]
  },
  {
   "cell_type": "code",
   "execution_count": 36,
   "id": "ae396e65",
   "metadata": {
    "execution": {
     "iopub.execute_input": "2022-11-14T19:04:43.232747Z",
     "iopub.status.busy": "2022-11-14T19:04:43.231985Z",
     "iopub.status.idle": "2022-11-14T19:04:43.269690Z",
     "shell.execute_reply": "2022-11-14T19:04:43.268441Z"
    },
    "papermill": {
     "duration": 0.067931,
     "end_time": "2022-11-14T19:04:43.272893",
     "exception": false,
     "start_time": "2022-11-14T19:04:43.204962",
     "status": "completed"
    },
    "tags": []
   },
   "outputs": [
    {
     "data": {
      "text/plain": [
       "(70988, 140)"
      ]
     },
     "execution_count": 36,
     "metadata": {},
     "output_type": "execute_result"
    }
   ],
   "source": [
    "train_tar_preds = (train_preds1 + train_preds2 + train_preds3) / 3\n",
    "train_tar_preds.shape"
   ]
  },
  {
   "cell_type": "code",
   "execution_count": 37,
   "id": "aa1d61c4",
   "metadata": {
    "execution": {
     "iopub.execute_input": "2022-11-14T19:04:43.326732Z",
     "iopub.status.busy": "2022-11-14T19:04:43.325764Z",
     "iopub.status.idle": "2022-11-14T19:04:50.682624Z",
     "shell.execute_reply": "2022-11-14T19:04:50.681323Z"
    },
    "papermill": {
     "duration": 7.387048,
     "end_time": "2022-11-14T19:04:50.685562",
     "exception": false,
     "start_time": "2022-11-14T19:04:43.298514",
     "status": "completed"
    },
    "tags": []
   },
   "outputs": [
    {
     "data": {
      "text/plain": [
       "0.8992210276820716"
      ]
     },
     "execution_count": 37,
     "metadata": {},
     "output_type": "execute_result"
    }
   ],
   "source": [
    "correlation_score(train_tar, train_tar_preds)"
   ]
  },
  {
   "cell_type": "code",
   "execution_count": 38,
   "id": "98bbbaf8",
   "metadata": {
    "execution": {
     "iopub.execute_input": "2022-11-14T19:04:50.743430Z",
     "iopub.status.busy": "2022-11-14T19:04:50.742311Z",
     "iopub.status.idle": "2022-11-14T19:04:50.891887Z",
     "shell.execute_reply": "2022-11-14T19:04:50.890728Z"
    },
    "papermill": {
     "duration": 0.181537,
     "end_time": "2022-11-14T19:04:50.894773",
     "exception": false,
     "start_time": "2022-11-14T19:04:50.713236",
     "status": "completed"
    },
    "tags": []
   },
   "outputs": [
    {
     "data": {
      "text/plain": [
       "169"
      ]
     },
     "execution_count": 38,
     "metadata": {},
     "output_type": "execute_result"
    }
   ],
   "source": [
    "del train_inp, train_tar, train_tar_preds\n",
    "gc.collect()"
   ]
  },
  {
   "cell_type": "markdown",
   "id": "4620c9c7",
   "metadata": {
    "papermill": {
     "duration": 0.026679,
     "end_time": "2022-11-14T19:04:50.948989",
     "exception": false,
     "start_time": "2022-11-14T19:04:50.922310",
     "status": "completed"
    },
    "tags": []
   },
   "source": [
    "## Prediction"
   ]
  },
  {
   "cell_type": "code",
   "execution_count": 39,
   "id": "e1397f0d",
   "metadata": {
    "execution": {
     "iopub.execute_input": "2022-11-14T19:04:51.005788Z",
     "iopub.status.busy": "2022-11-14T19:04:51.004760Z",
     "iopub.status.idle": "2022-11-14T19:04:52.630706Z",
     "shell.execute_reply": "2022-11-14T19:04:52.629303Z"
    },
    "papermill": {
     "duration": 1.65743,
     "end_time": "2022-11-14T19:04:52.633473",
     "exception": false,
     "start_time": "2022-11-14T19:04:50.976043",
     "status": "completed"
    },
    "tags": []
   },
   "outputs": [
    {
     "name": "stdout",
     "output_type": "stream",
     "text": [
      "CPU times: user 52.1 ms, sys: 189 ms, total: 241 ms\n",
      "Wall time: 1.62 s\n"
     ]
    }
   ],
   "source": [
    "%%time\n",
    "DATA_DIR = '../input/msci-citeseq-mlp-tsvd'\n",
    "test_inp = load_pickle(f'{DATA_DIR}/test_inp')[:, :-1]\n",
    "test_inp = torch.from_numpy(test_inp)"
   ]
  },
  {
   "cell_type": "code",
   "execution_count": 40,
   "id": "b5690415",
   "metadata": {
    "execution": {
     "iopub.execute_input": "2022-11-14T19:04:52.692982Z",
     "iopub.status.busy": "2022-11-14T19:04:52.692291Z",
     "iopub.status.idle": "2022-11-14T19:04:55.417806Z",
     "shell.execute_reply": "2022-11-14T19:04:55.415493Z"
    },
    "papermill": {
     "duration": 2.758052,
     "end_time": "2022-11-14T19:04:55.421226",
     "exception": false,
     "start_time": "2022-11-14T19:04:52.663174",
     "status": "completed"
    },
    "tags": []
   },
   "outputs": [
    {
     "name": "stdout",
     "output_type": "stream",
     "text": [
      "CPU times: user 4.87 s, sys: 564 ms, total: 5.43 s\n",
      "Wall time: 2.72 s\n"
     ]
    }
   ],
   "source": [
    "%%time\n",
    "with torch.no_grad():\n",
    "    net1.eval()\n",
    "    test_preds1 = net1(test_inp).detach().numpy()\n",
    "    \n",
    "    net2.eval()\n",
    "    test_preds2 = net2(test_inp).detach().numpy()\n",
    "    \n",
    "    net3.eval()\n",
    "    test_preds3 = net3(test_inp).detach().numpy()"
   ]
  },
  {
   "cell_type": "code",
   "execution_count": 41,
   "id": "d4dbeb6d",
   "metadata": {
    "execution": {
     "iopub.execute_input": "2022-11-14T19:04:55.476627Z",
     "iopub.status.busy": "2022-11-14T19:04:55.476222Z",
     "iopub.status.idle": "2022-11-14T19:04:55.501363Z",
     "shell.execute_reply": "2022-11-14T19:04:55.500119Z"
    },
    "papermill": {
     "duration": 0.055719,
     "end_time": "2022-11-14T19:04:55.503956",
     "exception": false,
     "start_time": "2022-11-14T19:04:55.448237",
     "status": "completed"
    },
    "tags": []
   },
   "outputs": [
    {
     "data": {
      "text/plain": [
       "(48663, 140)"
      ]
     },
     "execution_count": 41,
     "metadata": {},
     "output_type": "execute_result"
    }
   ],
   "source": [
    "test_tar_preds = (test_preds1 + test_preds2 + test_preds3) / 3\n",
    "test_tar_preds.shape"
   ]
  },
  {
   "cell_type": "code",
   "execution_count": 42,
   "id": "63ed6248",
   "metadata": {
    "execution": {
     "iopub.execute_input": "2022-11-14T19:04:55.558415Z",
     "iopub.status.busy": "2022-11-14T19:04:55.557677Z",
     "iopub.status.idle": "2022-11-14T19:04:55.713220Z",
     "shell.execute_reply": "2022-11-14T19:04:55.711698Z"
    },
    "papermill": {
     "duration": 0.186445,
     "end_time": "2022-11-14T19:04:55.716713",
     "exception": false,
     "start_time": "2022-11-14T19:04:55.530268",
     "status": "completed"
    },
    "tags": []
   },
   "outputs": [
    {
     "data": {
      "text/plain": [
       "84"
      ]
     },
     "execution_count": 42,
     "metadata": {},
     "output_type": "execute_result"
    }
   ],
   "source": [
    "del test_inp\n",
    "gc.collect()"
   ]
  },
  {
   "cell_type": "markdown",
   "id": "42832278",
   "metadata": {
    "papermill": {
     "duration": 0.028,
     "end_time": "2022-11-14T19:04:55.780766",
     "exception": false,
     "start_time": "2022-11-14T19:04:55.752766",
     "status": "completed"
    },
    "tags": []
   },
   "source": [
    "## Creating Submission"
   ]
  },
  {
   "cell_type": "code",
   "execution_count": 43,
   "id": "f794dc1a",
   "metadata": {
    "execution": {
     "iopub.execute_input": "2022-11-14T19:04:55.834778Z",
     "iopub.status.busy": "2022-11-14T19:04:55.834099Z",
     "iopub.status.idle": "2022-11-14T19:04:56.955938Z",
     "shell.execute_reply": "2022-11-14T19:04:56.954450Z"
    },
    "papermill": {
     "duration": 1.152107,
     "end_time": "2022-11-14T19:04:56.958894",
     "exception": false,
     "start_time": "2022-11-14T19:04:55.806787",
     "status": "completed"
    },
    "tags": []
   },
   "outputs": [
    {
     "name": "stdout",
     "output_type": "stream",
     "text": [
      "total 7.1G\r\n",
      "-rw-r--r-- 1 nobody nogroup  25K Nov 14 16:09 __notebook__.ipynb\r\n",
      "-rw-r--r-- 1 nobody nogroup  25K Nov 14 16:09 __output__.json\r\n",
      "-rw-r--r-- 1 nobody nogroup 293K Nov 14 16:09 __results__.html\r\n",
      "-rw-r--r-- 1 nobody nogroup    0 Nov 14 16:09 custom.css\r\n",
      "-rw-r--r-- 1 nobody nogroup 359M Nov 14 16:09 evaluation_ids.parquet\r\n",
      "-rw-r--r-- 1 nobody nogroup 3.8M Nov 14 16:09 metadata.parquet\r\n",
      "-rw-r--r-- 1 nobody nogroup 108K Nov 14 16:09 metadata_cite_day_2_donor_27678.parquet\r\n",
      "-rw-r--r-- 1 nobody nogroup 252M Nov 14 16:09 sample_submission.parquet\r\n",
      "-rw-r--r-- 1 nobody nogroup 856K Nov 14 16:09 test_cite_inputs_day_2_donor_27678_idx.npz\r\n",
      "-rw-r--r-- 1 nobody nogroup  78M Nov 14 16:09 test_cite_inputs_day_2_donor_27678_val.sparse.npz\r\n",
      "-rw-r--r-- 1 nobody nogroup 1.8M Nov 14 16:09 test_cite_inputs_idx.npz\r\n",
      "-rw-r--r-- 1 nobody nogroup 488M Nov 14 16:09 test_cite_inputs_val.sparse.npz\r\n",
      "-rw-r--r-- 1 nobody nogroup 8.4M Nov 14 16:09 test_multi_inputs_idx.npz\r\n",
      "-rw-r--r-- 1 nobody nogroup 1.7G Nov 14 16:10 test_multi_inputs_val.sparse.npz\r\n",
      "-rw-r--r-- 1 nobody nogroup 2.2M Nov 14 16:09 train_cite_inputs_idx.npz\r\n",
      "-rw-r--r-- 1 nobody nogroup 712M Nov 14 16:09 train_cite_inputs_val.sparse.npz\r\n",
      "-rw-r--r-- 1 nobody nogroup 1.5M Nov 14 16:09 train_cite_targets_idx.npz\r\n",
      "-rw-r--r-- 1 nobody nogroup  36M Nov 14 16:09 train_cite_targets_val.sparse.npz\r\n",
      "-rw-r--r-- 1 nobody nogroup 9.5M Nov 14 16:09 train_multi_inputs_idx.npz\r\n",
      "-rw-r--r-- 1 nobody nogroup 2.8G Nov 14 16:10 train_multi_inputs_val.sparse.npz\r\n",
      "-rw-r--r-- 1 nobody nogroup 2.8M Nov 14 16:09 train_multi_targets_idx.npz\r\n",
      "-rw-r--r-- 1 nobody nogroup 824M Nov 14 16:10 train_multi_targets_val.sparse.npz\r\n"
     ]
    }
   ],
   "source": [
    "DATA_DIR = '../input/msci-h5-sparse-transform'\n",
    "%ls $DATA_DIR -lh"
   ]
  },
  {
   "cell_type": "code",
   "execution_count": 44,
   "id": "781a3679",
   "metadata": {
    "execution": {
     "iopub.execute_input": "2022-11-14T19:04:57.014274Z",
     "iopub.status.busy": "2022-11-14T19:04:57.013792Z",
     "iopub.status.idle": "2022-11-14T19:04:57.084189Z",
     "shell.execute_reply": "2022-11-14T19:04:57.082803Z"
    },
    "papermill": {
     "duration": 0.101489,
     "end_time": "2022-11-14T19:04:57.086635",
     "exception": false,
     "start_time": "2022-11-14T19:04:56.985146",
     "status": "completed"
    },
    "tags": []
   },
   "outputs": [
    {
     "data": {
      "text/plain": [
       "((140,), (48663,), (48663, 140))"
      ]
     },
     "execution_count": 44,
     "metadata": {},
     "output_type": "execute_result"
    }
   ],
   "source": [
    "test_tar_cols = np.load(f'{DATA_DIR}/train_cite_targets_idx.npz',\n",
    "                        allow_pickle=True)['columns']\n",
    "test_tar_idx = np.load(f'{DATA_DIR}/test_cite_inputs_idx.npz',\n",
    "                       allow_pickle=True)['index']\n",
    "test_tar_cols.shape, test_tar_idx.shape, test_tar_preds.shape"
   ]
  },
  {
   "cell_type": "code",
   "execution_count": 45,
   "id": "6d6212e6",
   "metadata": {
    "execution": {
     "iopub.execute_input": "2022-11-14T19:04:57.141612Z",
     "iopub.status.busy": "2022-11-14T19:04:57.141171Z",
     "iopub.status.idle": "2022-11-14T19:05:31.125218Z",
     "shell.execute_reply": "2022-11-14T19:05:31.124019Z"
    },
    "papermill": {
     "duration": 34.039999,
     "end_time": "2022-11-14T19:05:31.153238",
     "exception": false,
     "start_time": "2022-11-14T19:04:57.113239",
     "status": "completed"
    },
    "tags": []
   },
   "outputs": [
    {
     "name": "stdout",
     "output_type": "stream",
     "text": [
      "Start Eval...\n",
      "CPU times: user 28.8 s, sys: 9.87 s, total: 38.7 s\n",
      "Wall time: 34 s\n"
     ]
    }
   ],
   "source": [
    "%%time\n",
    "print('Start Eval...')\n",
    "eval_ids = pd.read_parquet(f'{DATA_DIR}/evaluation_ids.parquet')\n",
    "eval_ids.cell_id = eval_ids.cell_id.astype(pd.CategoricalDtype())\n",
    "eval_ids.gene_id = eval_ids.gene_id.astype(pd.CategoricalDtype())"
   ]
  },
  {
   "cell_type": "code",
   "execution_count": 46,
   "id": "9aa23a2d",
   "metadata": {
    "execution": {
     "iopub.execute_input": "2022-11-14T19:05:31.210119Z",
     "iopub.status.busy": "2022-11-14T19:05:31.209403Z",
     "iopub.status.idle": "2022-11-14T19:05:54.017533Z",
     "shell.execute_reply": "2022-11-14T19:05:54.016269Z"
    },
    "papermill": {
     "duration": 22.839469,
     "end_time": "2022-11-14T19:05:54.020199",
     "exception": false,
     "start_time": "2022-11-14T19:05:31.180730",
     "status": "completed"
    },
    "tags": []
   },
   "outputs": [
    {
     "name": "stdout",
     "output_type": "stream",
     "text": [
      "CPU times: user 19.1 s, sys: 3.51 s, total: 22.6 s\n",
      "Wall time: 22.6 s\n"
     ]
    },
    {
     "data": {
      "text/plain": [
       "row_id    cell_id       gene_id        \n",
       "0         c2150f55becb  CD86              NaN\n",
       "1         c2150f55becb  CD274             NaN\n",
       "2         c2150f55becb  CD270             NaN\n",
       "3         c2150f55becb  CD155             NaN\n",
       "4         c2150f55becb  CD112             NaN\n",
       "                                           ..\n",
       "65744175  2c53aa67933d  ENSG00000134419   NaN\n",
       "65744176  2c53aa67933d  ENSG00000186862   NaN\n",
       "65744177  2c53aa67933d  ENSG00000170959   NaN\n",
       "65744178  2c53aa67933d  ENSG00000107874   NaN\n",
       "65744179  2c53aa67933d  ENSG00000166012   NaN\n",
       "Name: target, Length: 65744180, dtype: float32"
      ]
     },
     "execution_count": 46,
     "metadata": {},
     "output_type": "execute_result"
    }
   ],
   "source": [
    "%%time\n",
    "sub = pd.Series(name='target',\n",
    "                index=pd.MultiIndex.from_frame(eval_ids), \n",
    "                dtype=np.float32)\n",
    "sub"
   ]
  },
  {
   "cell_type": "code",
   "execution_count": 47,
   "id": "0375044a",
   "metadata": {
    "execution": {
     "iopub.execute_input": "2022-11-14T19:05:54.078880Z",
     "iopub.status.busy": "2022-11-14T19:05:54.077600Z",
     "iopub.status.idle": "2022-11-14T19:05:54.097735Z",
     "shell.execute_reply": "2022-11-14T19:05:54.096768Z"
    },
    "papermill": {
     "duration": 0.052052,
     "end_time": "2022-11-14T19:05:54.100304",
     "exception": false,
     "start_time": "2022-11-14T19:05:54.048252",
     "status": "completed"
    },
    "tags": []
   },
   "outputs": [],
   "source": [
    "cell_id_dict = {cell_id: idx \n",
    "                for idx, cell_id in enumerate(test_tar_idx, 0)}\n",
    "gene_id_dict = {gene_id: idx \n",
    "                for idx, gene_id in enumerate(test_tar_cols, 0)}"
   ]
  },
  {
   "cell_type": "code",
   "execution_count": 48,
   "id": "56a8d254",
   "metadata": {
    "execution": {
     "iopub.execute_input": "2022-11-14T19:05:54.155823Z",
     "iopub.status.busy": "2022-11-14T19:05:54.155139Z",
     "iopub.status.idle": "2022-11-14T19:05:56.259508Z",
     "shell.execute_reply": "2022-11-14T19:05:56.258543Z"
    },
    "papermill": {
     "duration": 2.13543,
     "end_time": "2022-11-14T19:05:56.262075",
     "exception": false,
     "start_time": "2022-11-14T19:05:54.126645",
     "status": "completed"
    },
    "tags": []
   },
   "outputs": [],
   "source": [
    "eid_cid_idx = eval_ids['cell_id']\\\n",
    "              .apply(lambda x: cell_id_dict.get(x, -1))\n",
    "eid_gid_idx = eval_ids['gene_id']\\\n",
    "              .apply(lambda x: gene_id_dict.get(x, -1))\n",
    "valid_cite_rows = (eid_cid_idx != -1) & (eid_gid_idx != -1)"
   ]
  },
  {
   "cell_type": "code",
   "execution_count": 49,
   "id": "3080e1fe",
   "metadata": {
    "execution": {
     "iopub.execute_input": "2022-11-14T19:05:56.318170Z",
     "iopub.status.busy": "2022-11-14T19:05:56.317532Z",
     "iopub.status.idle": "2022-11-14T19:05:56.768151Z",
     "shell.execute_reply": "2022-11-14T19:05:56.766503Z"
    },
    "papermill": {
     "duration": 0.482196,
     "end_time": "2022-11-14T19:05:56.771078",
     "exception": false,
     "start_time": "2022-11-14T19:05:56.288882",
     "status": "completed"
    },
    "tags": []
   },
   "outputs": [
    {
     "name": "stdout",
     "output_type": "stream",
     "text": [
      "CPU times: user 275 ms, sys: 168 ms, total: 443 ms\n",
      "Wall time: 443 ms\n"
     ]
    }
   ],
   "source": [
    "%%time\n",
    "sub.iloc[valid_cite_rows] = test_tar_preds\\\n",
    "                             [eid_cid_idx[valid_cite_rows].to_numpy(),\n",
    "                              eid_gid_idx[valid_cite_rows].to_numpy()]"
   ]
  },
  {
   "cell_type": "code",
   "execution_count": 50,
   "id": "08693d6f",
   "metadata": {
    "execution": {
     "iopub.execute_input": "2022-11-14T19:05:56.826954Z",
     "iopub.status.busy": "2022-11-14T19:05:56.826514Z",
     "iopub.status.idle": "2022-11-14T19:05:57.016230Z",
     "shell.execute_reply": "2022-11-14T19:05:57.015219Z"
    },
    "papermill": {
     "duration": 0.220676,
     "end_time": "2022-11-14T19:05:57.018612",
     "exception": false,
     "start_time": "2022-11-14T19:05:56.797936",
     "status": "completed"
    },
    "tags": []
   },
   "outputs": [
    {
     "data": {
      "text/plain": [
       "97"
      ]
     },
     "execution_count": 50,
     "metadata": {},
     "output_type": "execute_result"
    }
   ],
   "source": [
    "del eval_ids, test_tar_idx, test_tar_cols\n",
    "del eid_cid_idx, eid_gid_idx, valid_cite_rows\n",
    "gc.collect() "
   ]
  },
  {
   "cell_type": "code",
   "execution_count": 51,
   "id": "6f506a07",
   "metadata": {
    "execution": {
     "iopub.execute_input": "2022-11-14T19:05:57.085912Z",
     "iopub.status.busy": "2022-11-14T19:05:57.085405Z",
     "iopub.status.idle": "2022-11-14T19:07:33.216344Z",
     "shell.execute_reply": "2022-11-14T19:07:33.215160Z"
    },
    "papermill": {
     "duration": 96.17282,
     "end_time": "2022-11-14T19:07:33.219027",
     "exception": false,
     "start_time": "2022-11-14T19:05:57.046207",
     "status": "completed"
    },
    "tags": []
   },
   "outputs": [],
   "source": [
    "sub = pd.DataFrame(sub).fillna(0).reset_index()\n",
    "sub.drop(['cell_id', 'gene_id'], axis=1)\\\n",
    "   .to_csv('cite_sub.csv', index=False)"
   ]
  },
  {
   "cell_type": "code",
   "execution_count": 52,
   "id": "62522c89",
   "metadata": {
    "execution": {
     "iopub.execute_input": "2022-11-14T19:07:33.275265Z",
     "iopub.status.busy": "2022-11-14T19:07:33.274235Z",
     "iopub.status.idle": "2022-11-14T19:07:33.290658Z",
     "shell.execute_reply": "2022-11-14T19:07:33.289533Z"
    },
    "papermill": {
     "duration": 0.046956,
     "end_time": "2022-11-14T19:07:33.293140",
     "exception": false,
     "start_time": "2022-11-14T19:07:33.246184",
     "status": "completed"
    },
    "tags": []
   },
   "outputs": [
    {
     "data": {
      "text/html": [
       "<div>\n",
       "<style scoped>\n",
       "    .dataframe tbody tr th:only-of-type {\n",
       "        vertical-align: middle;\n",
       "    }\n",
       "\n",
       "    .dataframe tbody tr th {\n",
       "        vertical-align: top;\n",
       "    }\n",
       "\n",
       "    .dataframe thead th {\n",
       "        text-align: right;\n",
       "    }\n",
       "</style>\n",
       "<table border=\"1\" class=\"dataframe\">\n",
       "  <thead>\n",
       "    <tr style=\"text-align: right;\">\n",
       "      <th></th>\n",
       "      <th>row_id</th>\n",
       "      <th>cell_id</th>\n",
       "      <th>gene_id</th>\n",
       "      <th>target</th>\n",
       "    </tr>\n",
       "  </thead>\n",
       "  <tbody>\n",
       "    <tr>\n",
       "      <th>0</th>\n",
       "      <td>0</td>\n",
       "      <td>c2150f55becb</td>\n",
       "      <td>CD86</td>\n",
       "      <td>-0.021298</td>\n",
       "    </tr>\n",
       "    <tr>\n",
       "      <th>1</th>\n",
       "      <td>1</td>\n",
       "      <td>c2150f55becb</td>\n",
       "      <td>CD274</td>\n",
       "      <td>-0.021433</td>\n",
       "    </tr>\n",
       "    <tr>\n",
       "      <th>2</th>\n",
       "      <td>2</td>\n",
       "      <td>c2150f55becb</td>\n",
       "      <td>CD270</td>\n",
       "      <td>-0.019008</td>\n",
       "    </tr>\n",
       "    <tr>\n",
       "      <th>3</th>\n",
       "      <td>3</td>\n",
       "      <td>c2150f55becb</td>\n",
       "      <td>CD155</td>\n",
       "      <td>0.009059</td>\n",
       "    </tr>\n",
       "    <tr>\n",
       "      <th>4</th>\n",
       "      <td>4</td>\n",
       "      <td>c2150f55becb</td>\n",
       "      <td>CD112</td>\n",
       "      <td>0.013141</td>\n",
       "    </tr>\n",
       "  </tbody>\n",
       "</table>\n",
       "</div>"
      ],
      "text/plain": [
       "   row_id       cell_id gene_id    target\n",
       "0       0  c2150f55becb    CD86 -0.021298\n",
       "1       1  c2150f55becb   CD274 -0.021433\n",
       "2       2  c2150f55becb   CD270 -0.019008\n",
       "3       3  c2150f55becb   CD155  0.009059\n",
       "4       4  c2150f55becb   CD112  0.013141"
      ]
     },
     "execution_count": 52,
     "metadata": {},
     "output_type": "execute_result"
    }
   ],
   "source": [
    "sub.head()"
   ]
  }
 ],
 "metadata": {
  "kernelspec": {
   "display_name": "Python 3",
   "language": "python",
   "name": "python3"
  },
  "language_info": {
   "codemirror_mode": {
    "name": "ipython",
    "version": 3
   },
   "file_extension": ".py",
   "mimetype": "text/x-python",
   "name": "python",
   "nbconvert_exporter": "python",
   "pygments_lexer": "ipython3",
   "version": "3.7.12"
  },
  "papermill": {
   "default_parameters": {},
   "duration": 444.913649,
   "end_time": "2022-11-14T19:07:34.545767",
   "environment_variables": {},
   "exception": null,
   "input_path": "__notebook__.ipynb",
   "output_path": "__notebook__.ipynb",
   "parameters": {},
   "start_time": "2022-11-14T19:00:09.632118",
   "version": "2.3.4"
  }
 },
 "nbformat": 4,
 "nbformat_minor": 5
}
