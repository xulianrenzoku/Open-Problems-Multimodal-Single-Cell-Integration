{
 "cells": [
  {
   "cell_type": "code",
   "execution_count": 1,
   "id": "2888488b",
   "metadata": {
    "_cell_guid": "b1076dfc-b9ad-4769-8c92-a6c4dae69d19",
    "_uuid": "8f2839f25d086af736a60e9eeb907d3b93b6e0e5",
    "execution": {
     "iopub.execute_input": "2022-11-06T19:08:45.576404Z",
     "iopub.status.busy": "2022-11-06T19:08:45.575049Z",
     "iopub.status.idle": "2022-11-06T19:08:45.715173Z",
     "shell.execute_reply": "2022-11-06T19:08:45.713472Z"
    },
    "papermill": {
     "duration": 0.154342,
     "end_time": "2022-11-06T19:08:45.718489",
     "exception": false,
     "start_time": "2022-11-06T19:08:45.564147",
     "status": "completed"
    },
    "tags": []
   },
   "outputs": [],
   "source": [
    "import os\n",
    "import os.path\n",
    "import random\n",
    "import gc\n",
    "import numpy as np\n",
    "import pandas as pd\n",
    "import scipy.sparse\n",
    "from tqdm import tqdm"
   ]
  },
  {
   "cell_type": "code",
   "execution_count": 2,
   "id": "82f0e77a",
   "metadata": {
    "execution": {
     "iopub.execute_input": "2022-11-06T19:08:45.736293Z",
     "iopub.status.busy": "2022-11-06T19:08:45.735805Z",
     "iopub.status.idle": "2022-11-06T19:08:45.741284Z",
     "shell.execute_reply": "2022-11-06T19:08:45.739800Z"
    },
    "papermill": {
     "duration": 0.017477,
     "end_time": "2022-11-06T19:08:45.743892",
     "exception": false,
     "start_time": "2022-11-06T19:08:45.726415",
     "status": "completed"
    },
    "tags": []
   },
   "outputs": [],
   "source": [
    "import warnings \n",
    "warnings.filterwarnings('ignore')"
   ]
  },
  {
   "cell_type": "markdown",
   "id": "02aac8f9",
   "metadata": {
    "papermill": {
     "duration": 0.00745,
     "end_time": "2022-11-06T19:08:45.758819",
     "exception": false,
     "start_time": "2022-11-06T19:08:45.751369",
     "status": "completed"
    },
    "tags": []
   },
   "source": [
    "## Load Model"
   ]
  },
  {
   "cell_type": "code",
   "execution_count": 3,
   "id": "f7bcb20b",
   "metadata": {
    "execution": {
     "iopub.execute_input": "2022-11-06T19:08:45.775109Z",
     "iopub.status.busy": "2022-11-06T19:08:45.774439Z",
     "iopub.status.idle": "2022-11-06T19:08:47.994803Z",
     "shell.execute_reply": "2022-11-06T19:08:47.993687Z"
    },
    "papermill": {
     "duration": 2.231478,
     "end_time": "2022-11-06T19:08:47.997592",
     "exception": false,
     "start_time": "2022-11-06T19:08:45.766114",
     "status": "completed"
    },
    "tags": []
   },
   "outputs": [],
   "source": [
    "import torch\n",
    "import torch.nn as nn\n",
    "import torch.nn.functional as F\n",
    "import torch.optim as optim\n",
    "from torch.utils.data import DataLoader, TensorDataset, Dataset, random_split"
   ]
  },
  {
   "cell_type": "code",
   "execution_count": 4,
   "id": "a2a32523",
   "metadata": {
    "execution": {
     "iopub.execute_input": "2022-11-06T19:08:48.013946Z",
     "iopub.status.busy": "2022-11-06T19:08:48.012665Z",
     "iopub.status.idle": "2022-11-06T19:08:49.135000Z",
     "shell.execute_reply": "2022-11-06T19:08:49.133285Z"
    },
    "papermill": {
     "duration": 1.133474,
     "end_time": "2022-11-06T19:08:49.138101",
     "exception": false,
     "start_time": "2022-11-06T19:08:48.004627",
     "status": "completed"
    },
    "tags": []
   },
   "outputs": [
    {
     "name": "stdout",
     "output_type": "stream",
     "text": [
      "total 124M\r\n",
      "-rw-r--r-- 1 nobody nogroup  72K Nov  6 19:06 __notebook__.ipynb\r\n",
      "-rw-r--r-- 1 nobody nogroup  33K Nov  6 19:06 __output__.json\r\n",
      "-rw-r--r-- 1 nobody nogroup 330K Nov  6 19:06 __results__.html\r\n",
      "drwxr-xr-x 2 nobody nogroup    0 Nov  6 19:06 \u001b[0m\u001b[01;34m__results___files\u001b[0m/\r\n",
      "-rw-r--r-- 1 nobody nogroup    0 Nov  6 19:06 custom.css\r\n",
      "-rw-r--r-- 1 nobody nogroup 124M Nov  6 19:06 mlp_multi.pt\r\n"
     ]
    }
   ],
   "source": [
    "DATA_DIR = '../input/msci-multi-mlp-sparse'\n",
    "%ls $DATA_DIR -lh"
   ]
  },
  {
   "cell_type": "code",
   "execution_count": 5,
   "id": "4cec2b2b",
   "metadata": {
    "execution": {
     "iopub.execute_input": "2022-11-06T19:08:49.157435Z",
     "iopub.status.busy": "2022-11-06T19:08:49.156973Z",
     "iopub.status.idle": "2022-11-06T19:08:49.168358Z",
     "shell.execute_reply": "2022-11-06T19:08:49.167124Z"
    },
    "papermill": {
     "duration": 0.023826,
     "end_time": "2022-11-06T19:08:49.171223",
     "exception": false,
     "start_time": "2022-11-06T19:08:49.147397",
     "status": "completed"
    },
    "tags": []
   },
   "outputs": [],
   "source": [
    "class Net(nn.Module):\n",
    "    def __init__(self):\n",
    "        \"\"\"In the constructor we instantiate two nn.Linear modules and assign them as\n",
    "        member variables (self).\n",
    "        \"\"\"\n",
    "        super(Net, self).__init__()\n",
    "        self.linear1 = nn.Linear(228942, 128)\n",
    "        self.bn1 = nn.BatchNorm1d(128)\n",
    "        self.linear2 = nn.Linear(128, 128)\n",
    "        self.bn2 = nn.BatchNorm1d(128)\n",
    "        self.linear3 = nn.Linear(128, 128)\n",
    "        self.bn3 = nn.BatchNorm1d(128)\n",
    "        self.linear4 = nn.Linear(128, 23418)\n",
    "        \n",
    "    def forward(self, x):\n",
    "        \"\"\"\n",
    "        In the forward function we accept a Tensor of input data and we must return\n",
    "        a Tensor of output data. We can use Modules defined in the constructor as\n",
    "        well as arbitrary operators on Tensors.\n",
    "        \"\"\"\n",
    "        x = self.linear1(x)\n",
    "        x = self.bn1(x)\n",
    "        x = F.relu(x)\n",
    "        x = self.linear2(x)\n",
    "        x = self.bn2(x)\n",
    "        x = F.relu(x)\n",
    "        x = self.linear3(x)\n",
    "        x = self.bn3(x)\n",
    "        x = F.relu(x)\n",
    "        x = self.linear4(x)\n",
    "        x = F.relu(x)\n",
    "\n",
    "        return x"
   ]
  },
  {
   "cell_type": "code",
   "execution_count": 6,
   "id": "d56c6f52",
   "metadata": {
    "execution": {
     "iopub.execute_input": "2022-11-06T19:08:49.188391Z",
     "iopub.status.busy": "2022-11-06T19:08:49.187941Z",
     "iopub.status.idle": "2022-11-06T19:08:51.919641Z",
     "shell.execute_reply": "2022-11-06T19:08:51.918032Z"
    },
    "papermill": {
     "duration": 2.745154,
     "end_time": "2022-11-06T19:08:51.923965",
     "exception": false,
     "start_time": "2022-11-06T19:08:49.178811",
     "status": "completed"
    },
    "tags": []
   },
   "outputs": [],
   "source": [
    "net = torch.load(f'{DATA_DIR}/mlp_multi.pt',\n",
    "                 map_location=torch.device('cpu'))"
   ]
  },
  {
   "cell_type": "markdown",
   "id": "294a5590",
   "metadata": {
    "papermill": {
     "duration": 0.007448,
     "end_time": "2022-11-06T19:08:51.941753",
     "exception": false,
     "start_time": "2022-11-06T19:08:51.934305",
     "status": "completed"
    },
    "tags": []
   },
   "source": [
    "## Prediction"
   ]
  },
  {
   "cell_type": "code",
   "execution_count": 7,
   "id": "50623a50",
   "metadata": {
    "execution": {
     "iopub.execute_input": "2022-11-06T19:08:51.958472Z",
     "iopub.status.busy": "2022-11-06T19:08:51.958055Z",
     "iopub.status.idle": "2022-11-06T19:08:53.069753Z",
     "shell.execute_reply": "2022-11-06T19:08:53.068373Z"
    },
    "papermill": {
     "duration": 1.123195,
     "end_time": "2022-11-06T19:08:53.072873",
     "exception": false,
     "start_time": "2022-11-06T19:08:51.949678",
     "status": "completed"
    },
    "tags": []
   },
   "outputs": [
    {
     "name": "stdout",
     "output_type": "stream",
     "text": [
      "total 7.1G\r\n",
      "-rw-r--r-- 1 nobody nogroup  25K Nov  6 19:06 __notebook__.ipynb\r\n",
      "-rw-r--r-- 1 nobody nogroup  25K Nov  6 19:06 __output__.json\r\n",
      "-rw-r--r-- 1 nobody nogroup 293K Nov  6 19:06 __results__.html\r\n",
      "-rw-r--r-- 1 nobody nogroup    0 Nov  6 19:06 custom.css\r\n",
      "-rw-r--r-- 1 nobody nogroup 359M Nov  6 19:07 evaluation_ids.parquet\r\n",
      "-rw-r--r-- 1 nobody nogroup 3.8M Nov  6 19:06 metadata.parquet\r\n",
      "-rw-r--r-- 1 nobody nogroup 108K Nov  6 19:06 metadata_cite_day_2_donor_27678.parquet\r\n",
      "-rw-r--r-- 1 nobody nogroup 252M Nov  6 19:06 sample_submission.parquet\r\n",
      "-rw-r--r-- 1 nobody nogroup 856K Nov  6 19:06 test_cite_inputs_day_2_donor_27678_idx.npz\r\n",
      "-rw-r--r-- 1 nobody nogroup  78M Nov  6 19:06 test_cite_inputs_day_2_donor_27678_val.sparse.npz\r\n",
      "-rw-r--r-- 1 nobody nogroup 1.8M Nov  6 19:06 test_cite_inputs_idx.npz\r\n",
      "-rw-r--r-- 1 nobody nogroup 488M Nov  6 19:07 test_cite_inputs_val.sparse.npz\r\n",
      "-rw-r--r-- 1 nobody nogroup 8.4M Nov  6 19:06 test_multi_inputs_idx.npz\r\n",
      "-rw-r--r-- 1 nobody nogroup 1.7G Nov  6 19:08 test_multi_inputs_val.sparse.npz\r\n",
      "-rw-r--r-- 1 nobody nogroup 2.2M Nov  6 19:06 train_cite_inputs_idx.npz\r\n",
      "-rw-r--r-- 1 nobody nogroup 712M Nov  6 19:07 train_cite_inputs_val.sparse.npz\r\n",
      "-rw-r--r-- 1 nobody nogroup 1.5M Nov  6 19:06 train_cite_targets_idx.npz\r\n",
      "-rw-r--r-- 1 nobody nogroup  36M Nov  6 19:06 train_cite_targets_val.sparse.npz\r\n",
      "-rw-r--r-- 1 nobody nogroup 9.5M Nov  6 19:06 train_multi_inputs_idx.npz\r\n",
      "-rw-r--r-- 1 nobody nogroup 2.8G Nov  6 19:08 train_multi_inputs_val.sparse.npz\r\n",
      "-rw-r--r-- 1 nobody nogroup 2.8M Nov  6 19:06 train_multi_targets_idx.npz\r\n",
      "-rw-r--r-- 1 nobody nogroup 824M Nov  6 19:07 train_multi_targets_val.sparse.npz\r\n"
     ]
    }
   ],
   "source": [
    "DATA_DIR = '../input/msci-h5-sparse-transform'\n",
    "%ls $DATA_DIR -lh"
   ]
  },
  {
   "cell_type": "code",
   "execution_count": 8,
   "id": "26815483",
   "metadata": {
    "execution": {
     "iopub.execute_input": "2022-11-06T19:08:53.090013Z",
     "iopub.status.busy": "2022-11-06T19:08:53.089517Z",
     "iopub.status.idle": "2022-11-06T19:09:30.492322Z",
     "shell.execute_reply": "2022-11-06T19:09:30.490559Z"
    },
    "papermill": {
     "duration": 37.423199,
     "end_time": "2022-11-06T19:09:30.503450",
     "exception": false,
     "start_time": "2022-11-06T19:08:53.080251",
     "status": "completed"
    },
    "tags": []
   },
   "outputs": [
    {
     "name": "stdout",
     "output_type": "stream",
     "text": [
      "CPU times: user 21 s, sys: 2.49 s, total: 23.5 s\n",
      "Wall time: 37.4 s\n"
     ]
    },
    {
     "data": {
      "text/plain": [
       "(55935, 228942)"
      ]
     },
     "execution_count": 8,
     "metadata": {},
     "output_type": "execute_result"
    }
   ],
   "source": [
    "%%time\n",
    "test_inp = scipy.sparse.load_npz(f'{DATA_DIR}/test_multi_inputs_val.sparse.npz')\n",
    "test_inp.shape"
   ]
  },
  {
   "cell_type": "code",
   "execution_count": 9,
   "id": "ee7d0405",
   "metadata": {
    "execution": {
     "iopub.execute_input": "2022-11-06T19:09:30.520096Z",
     "iopub.status.busy": "2022-11-06T19:09:30.519585Z",
     "iopub.status.idle": "2022-11-06T19:09:30.526969Z",
     "shell.execute_reply": "2022-11-06T19:09:30.525637Z"
    },
    "papermill": {
     "duration": 0.018466,
     "end_time": "2022-11-06T19:09:30.529331",
     "exception": false,
     "start_time": "2022-11-06T19:09:30.510865",
     "status": "completed"
    },
    "tags": []
   },
   "outputs": [],
   "source": [
    "class SparsePredDataset(TensorDataset):\n",
    "    # https://discuss.pytorch.org/t/dataloader-loads-data-very-slow-on-sparse-tensor/117391/2\n",
    "    def __init__(self, inputs):\n",
    "        self.inputs = inputs\n",
    "    \n",
    "    def __getitem__(self, index):\n",
    "        return self.inputs[index]\n",
    "    \n",
    "    def __len__(self):\n",
    "        return self.inputs.shape[0]"
   ]
  },
  {
   "cell_type": "code",
   "execution_count": 10,
   "id": "a0e7263e",
   "metadata": {
    "execution": {
     "iopub.execute_input": "2022-11-06T19:09:30.545323Z",
     "iopub.status.busy": "2022-11-06T19:09:30.544876Z",
     "iopub.status.idle": "2022-11-06T19:09:30.554105Z",
     "shell.execute_reply": "2022-11-06T19:09:30.552790Z"
    },
    "papermill": {
     "duration": 0.020256,
     "end_time": "2022-11-06T19:09:30.556622",
     "exception": false,
     "start_time": "2022-11-06T19:09:30.536366",
     "status": "completed"
    },
    "tags": []
   },
   "outputs": [],
   "source": [
    "def sparse_coo_to_tensor(coo):\n",
    "    values = coo.data\n",
    "    indices = np.vstack((coo.row, coo.col))\n",
    "    shape = coo.shape\n",
    "    \n",
    "    i = torch.LongTensor(indices)\n",
    "    v = torch.FloatTensor(values)\n",
    "    s = torch.Size(shape)\n",
    "    \n",
    "    return torch.sparse.FloatTensor(i, v, s)\n",
    "\n",
    "def sparse_batch_collate_pred(batch):\n",
    "    return sparse_coo_to_tensor(scipy.sparse.vstack(batch).tocoo())"
   ]
  },
  {
   "cell_type": "code",
   "execution_count": 11,
   "id": "29ee8cb3",
   "metadata": {
    "execution": {
     "iopub.execute_input": "2022-11-06T19:09:30.572683Z",
     "iopub.status.busy": "2022-11-06T19:09:30.572274Z",
     "iopub.status.idle": "2022-11-06T19:09:30.578845Z",
     "shell.execute_reply": "2022-11-06T19:09:30.577506Z"
    },
    "papermill": {
     "duration": 0.017857,
     "end_time": "2022-11-06T19:09:30.581621",
     "exception": false,
     "start_time": "2022-11-06T19:09:30.563764",
     "status": "completed"
    },
    "tags": []
   },
   "outputs": [],
   "source": [
    "batch_size = 1024\n",
    "test_ds = SparsePredDataset(test_inp)\n",
    "test_loader = DataLoader(test_ds, \n",
    "                         batch_size=batch_size, \n",
    "                         shuffle=False,\n",
    "                         collate_fn=sparse_batch_collate_pred)"
   ]
  },
  {
   "cell_type": "code",
   "execution_count": 12,
   "id": "00900968",
   "metadata": {
    "execution": {
     "iopub.execute_input": "2022-11-06T19:09:30.599655Z",
     "iopub.status.busy": "2022-11-06T19:09:30.598457Z",
     "iopub.status.idle": "2022-11-06T19:18:27.129930Z",
     "shell.execute_reply": "2022-11-06T19:18:27.128671Z"
    },
    "papermill": {
     "duration": 536.551584,
     "end_time": "2022-11-06T19:18:27.140777",
     "exception": false,
     "start_time": "2022-11-06T19:09:30.589193",
     "status": "completed"
    },
    "tags": []
   },
   "outputs": [
    {
     "name": "stdout",
     "output_type": "stream",
     "text": [
      "CPU times: user 10min 6s, sys: 9.78 s, total: 10min 16s\n",
      "Wall time: 8min 56s\n"
     ]
    }
   ],
   "source": [
    "%%time\n",
    "with torch.no_grad():\n",
    "    net.eval()\n",
    "    test_tar_preds = []\n",
    "    \n",
    "    for i, x in enumerate(test_loader):\n",
    "#         x = x.to(device)\n",
    "        batch_preds = net(x).detach().numpy()\n",
    "        test_tar_preds.append(batch_preds)"
   ]
  },
  {
   "cell_type": "code",
   "execution_count": 13,
   "id": "651e2f87",
   "metadata": {
    "execution": {
     "iopub.execute_input": "2022-11-06T19:18:27.158057Z",
     "iopub.status.busy": "2022-11-06T19:18:27.157309Z",
     "iopub.status.idle": "2022-11-06T19:18:30.445148Z",
     "shell.execute_reply": "2022-11-06T19:18:30.443499Z"
    },
    "papermill": {
     "duration": 3.300548,
     "end_time": "2022-11-06T19:18:30.449011",
     "exception": false,
     "start_time": "2022-11-06T19:18:27.148463",
     "status": "completed"
    },
    "tags": []
   },
   "outputs": [
    {
     "data": {
      "text/plain": [
       "(55935, 23418)"
      ]
     },
     "execution_count": 13,
     "metadata": {},
     "output_type": "execute_result"
    }
   ],
   "source": [
    "test_tar_preds = np.vstack(test_tar_preds)\n",
    "test_tar_preds.shape"
   ]
  },
  {
   "cell_type": "code",
   "execution_count": 14,
   "id": "205ab315",
   "metadata": {
    "execution": {
     "iopub.execute_input": "2022-11-06T19:18:30.469022Z",
     "iopub.status.busy": "2022-11-06T19:18:30.467506Z",
     "iopub.status.idle": "2022-11-06T19:18:30.664716Z",
     "shell.execute_reply": "2022-11-06T19:18:30.663402Z"
    },
    "papermill": {
     "duration": 0.211625,
     "end_time": "2022-11-06T19:18:30.668107",
     "exception": false,
     "start_time": "2022-11-06T19:18:30.456482",
     "status": "completed"
    },
    "tags": []
   },
   "outputs": [
    {
     "data": {
      "text/plain": [
       "42"
      ]
     },
     "execution_count": 14,
     "metadata": {},
     "output_type": "execute_result"
    }
   ],
   "source": [
    "del test_inp, test_ds, test_loader\n",
    "gc.collect()"
   ]
  },
  {
   "cell_type": "markdown",
   "id": "887656f1",
   "metadata": {
    "papermill": {
     "duration": 0.00793,
     "end_time": "2022-11-06T19:18:30.684436",
     "exception": false,
     "start_time": "2022-11-06T19:18:30.676506",
     "status": "completed"
    },
    "tags": []
   },
   "source": [
    "## Creating Submission"
   ]
  },
  {
   "cell_type": "code",
   "execution_count": 15,
   "id": "c49bbf43",
   "metadata": {
    "execution": {
     "iopub.execute_input": "2022-11-06T19:18:30.703203Z",
     "iopub.status.busy": "2022-11-06T19:18:30.701594Z",
     "iopub.status.idle": "2022-11-06T19:18:30.856055Z",
     "shell.execute_reply": "2022-11-06T19:18:30.854165Z"
    },
    "papermill": {
     "duration": 0.166597,
     "end_time": "2022-11-06T19:18:30.858881",
     "exception": false,
     "start_time": "2022-11-06T19:18:30.692284",
     "status": "completed"
    },
    "tags": []
   },
   "outputs": [
    {
     "data": {
      "text/plain": [
       "((23418,), (55935,), (55935, 23418))"
      ]
     },
     "execution_count": 15,
     "metadata": {},
     "output_type": "execute_result"
    }
   ],
   "source": [
    "test_tar_cols = np.load(f'{DATA_DIR}/train_multi_targets_idx.npz',\n",
    "                        allow_pickle=True)['columns']\n",
    "test_tar_idx = np.load(f'{DATA_DIR}/test_multi_inputs_idx.npz',\n",
    "                       allow_pickle=True)['index']\n",
    "test_tar_cols.shape, test_tar_idx.shape, test_tar_preds.shape"
   ]
  },
  {
   "cell_type": "code",
   "execution_count": 16,
   "id": "15b5c9eb",
   "metadata": {
    "execution": {
     "iopub.execute_input": "2022-11-06T19:18:30.876032Z",
     "iopub.status.busy": "2022-11-06T19:18:30.875573Z",
     "iopub.status.idle": "2022-11-06T19:19:20.694662Z",
     "shell.execute_reply": "2022-11-06T19:19:20.692615Z"
    },
    "papermill": {
     "duration": 49.844544,
     "end_time": "2022-11-06T19:19:20.711208",
     "exception": false,
     "start_time": "2022-11-06T19:18:30.866664",
     "status": "completed"
    },
    "tags": []
   },
   "outputs": [
    {
     "name": "stdout",
     "output_type": "stream",
     "text": [
      "Start Eval...\n",
      "CPU times: user 39.9 s, sys: 21.2 s, total: 1min 1s\n",
      "Wall time: 49.8 s\n"
     ]
    }
   ],
   "source": [
    "%%time\n",
    "print('Start Eval...')\n",
    "eval_ids = pd.read_parquet(f'{DATA_DIR}/evaluation_ids.parquet')\n",
    "eval_ids.cell_id = eval_ids.cell_id.astype(pd.CategoricalDtype())\n",
    "eval_ids.gene_id = eval_ids.gene_id.astype(pd.CategoricalDtype())"
   ]
  },
  {
   "cell_type": "code",
   "execution_count": 17,
   "id": "ba4f8dff",
   "metadata": {
    "execution": {
     "iopub.execute_input": "2022-11-06T19:19:20.731127Z",
     "iopub.status.busy": "2022-11-06T19:19:20.730620Z",
     "iopub.status.idle": "2022-11-06T19:19:51.604424Z",
     "shell.execute_reply": "2022-11-06T19:19:51.603156Z"
    },
    "papermill": {
     "duration": 30.888122,
     "end_time": "2022-11-06T19:19:51.607637",
     "exception": false,
     "start_time": "2022-11-06T19:19:20.719515",
     "status": "completed"
    },
    "tags": []
   },
   "outputs": [
    {
     "name": "stdout",
     "output_type": "stream",
     "text": [
      "CPU times: user 23.5 s, sys: 7.04 s, total: 30.5 s\n",
      "Wall time: 30.6 s\n"
     ]
    },
    {
     "data": {
      "text/plain": [
       "row_id    cell_id       gene_id        \n",
       "0         c2150f55becb  CD86              NaN\n",
       "1         c2150f55becb  CD274             NaN\n",
       "2         c2150f55becb  CD270             NaN\n",
       "3         c2150f55becb  CD155             NaN\n",
       "4         c2150f55becb  CD112             NaN\n",
       "                                           ..\n",
       "65744175  2c53aa67933d  ENSG00000134419   NaN\n",
       "65744176  2c53aa67933d  ENSG00000186862   NaN\n",
       "65744177  2c53aa67933d  ENSG00000170959   NaN\n",
       "65744178  2c53aa67933d  ENSG00000107874   NaN\n",
       "65744179  2c53aa67933d  ENSG00000166012   NaN\n",
       "Name: target, Length: 65744180, dtype: float32"
      ]
     },
     "execution_count": 17,
     "metadata": {},
     "output_type": "execute_result"
    }
   ],
   "source": [
    "%%time\n",
    "sub = pd.Series(name='target',\n",
    "                index=pd.MultiIndex.from_frame(eval_ids), \n",
    "                dtype=np.float32)\n",
    "sub"
   ]
  },
  {
   "cell_type": "code",
   "execution_count": 18,
   "id": "a33f208e",
   "metadata": {
    "execution": {
     "iopub.execute_input": "2022-11-06T19:19:51.626186Z",
     "iopub.status.busy": "2022-11-06T19:19:51.625722Z",
     "iopub.status.idle": "2022-11-06T19:19:51.666137Z",
     "shell.execute_reply": "2022-11-06T19:19:51.664192Z"
    },
    "papermill": {
     "duration": 0.053885,
     "end_time": "2022-11-06T19:19:51.670088",
     "exception": false,
     "start_time": "2022-11-06T19:19:51.616203",
     "status": "completed"
    },
    "tags": []
   },
   "outputs": [],
   "source": [
    "cell_id_dict = {cell_id: idx \n",
    "                for idx, cell_id in enumerate(test_tar_idx, 0)}\n",
    "gene_id_dict = {gene_id: idx \n",
    "                for idx, gene_id in enumerate(test_tar_cols, 0)}"
   ]
  },
  {
   "cell_type": "code",
   "execution_count": 19,
   "id": "fb4e5b8f",
   "metadata": {
    "execution": {
     "iopub.execute_input": "2022-11-06T19:19:51.689402Z",
     "iopub.status.busy": "2022-11-06T19:19:51.688951Z",
     "iopub.status.idle": "2022-11-06T19:19:53.949106Z",
     "shell.execute_reply": "2022-11-06T19:19:53.947658Z"
    },
    "papermill": {
     "duration": 2.274308,
     "end_time": "2022-11-06T19:19:53.953084",
     "exception": false,
     "start_time": "2022-11-06T19:19:51.678776",
     "status": "completed"
    },
    "tags": []
   },
   "outputs": [],
   "source": [
    "eid_cid_idx = eval_ids['cell_id']\\\n",
    "              .apply(lambda x: cell_id_dict.get(x, -1))\n",
    "eid_gid_idx = eval_ids['gene_id']\\\n",
    "              .apply(lambda x: gene_id_dict.get(x, -1))\n",
    "valid_multi_rows = (eid_cid_idx != -1) & (eid_gid_idx != -1)"
   ]
  },
  {
   "cell_type": "code",
   "execution_count": 20,
   "id": "42b6fe7a",
   "metadata": {
    "execution": {
     "iopub.execute_input": "2022-11-06T19:19:53.971645Z",
     "iopub.status.busy": "2022-11-06T19:19:53.970755Z",
     "iopub.status.idle": "2022-11-06T19:19:57.228964Z",
     "shell.execute_reply": "2022-11-06T19:19:57.227664Z"
    },
    "papermill": {
     "duration": 3.270903,
     "end_time": "2022-11-06T19:19:57.231892",
     "exception": false,
     "start_time": "2022-11-06T19:19:53.960989",
     "status": "completed"
    },
    "tags": []
   },
   "outputs": [
    {
     "name": "stdout",
     "output_type": "stream",
     "text": [
      "CPU times: user 1.74 s, sys: 1.5 s, total: 3.24 s\n",
      "Wall time: 3.25 s\n"
     ]
    }
   ],
   "source": [
    "%%time\n",
    "sub.iloc[valid_multi_rows] = test_tar_preds\\\n",
    "                             [eid_cid_idx[valid_multi_rows].to_numpy(),\n",
    "                              eid_gid_idx[valid_multi_rows].to_numpy()]"
   ]
  },
  {
   "cell_type": "code",
   "execution_count": 21,
   "id": "ba902c30",
   "metadata": {
    "execution": {
     "iopub.execute_input": "2022-11-06T19:19:57.249858Z",
     "iopub.status.busy": "2022-11-06T19:19:57.248925Z",
     "iopub.status.idle": "2022-11-06T19:19:57.486037Z",
     "shell.execute_reply": "2022-11-06T19:19:57.485059Z"
    },
    "papermill": {
     "duration": 0.249321,
     "end_time": "2022-11-06T19:19:57.489070",
     "exception": false,
     "start_time": "2022-11-06T19:19:57.239749",
     "status": "completed"
    },
    "tags": []
   },
   "outputs": [
    {
     "data": {
      "text/plain": [
       "42"
      ]
     },
     "execution_count": 21,
     "metadata": {},
     "output_type": "execute_result"
    }
   ],
   "source": [
    "del eval_ids, test_tar_idx, test_tar_cols\n",
    "del eid_cid_idx, eid_gid_idx, valid_multi_rows\n",
    "gc.collect()"
   ]
  },
  {
   "cell_type": "code",
   "execution_count": 22,
   "id": "096c8db6",
   "metadata": {
    "execution": {
     "iopub.execute_input": "2022-11-06T19:19:57.508091Z",
     "iopub.status.busy": "2022-11-06T19:19:57.507575Z",
     "iopub.status.idle": "2022-11-06T19:21:55.226750Z",
     "shell.execute_reply": "2022-11-06T19:21:55.225336Z"
    },
    "papermill": {
     "duration": 117.732375,
     "end_time": "2022-11-06T19:21:55.230174",
     "exception": false,
     "start_time": "2022-11-06T19:19:57.497799",
     "status": "completed"
    },
    "tags": []
   },
   "outputs": [],
   "source": [
    "sub = pd.DataFrame(sub).fillna(0).reset_index()\n",
    "sub.drop(['cell_id', 'gene_id'], axis=1)\\\n",
    "   .to_csv('multi_sub.csv', index=False)"
   ]
  },
  {
   "cell_type": "code",
   "execution_count": 23,
   "id": "30f6a8ff",
   "metadata": {
    "execution": {
     "iopub.execute_input": "2022-11-06T19:21:55.248688Z",
     "iopub.status.busy": "2022-11-06T19:21:55.248244Z",
     "iopub.status.idle": "2022-11-06T19:21:55.266558Z",
     "shell.execute_reply": "2022-11-06T19:21:55.265317Z"
    },
    "papermill": {
     "duration": 0.030326,
     "end_time": "2022-11-06T19:21:55.269267",
     "exception": false,
     "start_time": "2022-11-06T19:21:55.238941",
     "status": "completed"
    },
    "tags": []
   },
   "outputs": [
    {
     "data": {
      "text/html": [
       "<div>\n",
       "<style scoped>\n",
       "    .dataframe tbody tr th:only-of-type {\n",
       "        vertical-align: middle;\n",
       "    }\n",
       "\n",
       "    .dataframe tbody tr th {\n",
       "        vertical-align: top;\n",
       "    }\n",
       "\n",
       "    .dataframe thead th {\n",
       "        text-align: right;\n",
       "    }\n",
       "</style>\n",
       "<table border=\"1\" class=\"dataframe\">\n",
       "  <thead>\n",
       "    <tr style=\"text-align: right;\">\n",
       "      <th></th>\n",
       "      <th>row_id</th>\n",
       "      <th>cell_id</th>\n",
       "      <th>gene_id</th>\n",
       "      <th>target</th>\n",
       "    </tr>\n",
       "  </thead>\n",
       "  <tbody>\n",
       "    <tr>\n",
       "      <th>65744175</th>\n",
       "      <td>65744175</td>\n",
       "      <td>2c53aa67933d</td>\n",
       "      <td>ENSG00000134419</td>\n",
       "      <td>0.028947</td>\n",
       "    </tr>\n",
       "    <tr>\n",
       "      <th>65744176</th>\n",
       "      <td>65744176</td>\n",
       "      <td>2c53aa67933d</td>\n",
       "      <td>ENSG00000186862</td>\n",
       "      <td>0.000000</td>\n",
       "    </tr>\n",
       "    <tr>\n",
       "      <th>65744177</th>\n",
       "      <td>65744177</td>\n",
       "      <td>2c53aa67933d</td>\n",
       "      <td>ENSG00000170959</td>\n",
       "      <td>0.000000</td>\n",
       "    </tr>\n",
       "    <tr>\n",
       "      <th>65744178</th>\n",
       "      <td>65744178</td>\n",
       "      <td>2c53aa67933d</td>\n",
       "      <td>ENSG00000107874</td>\n",
       "      <td>0.005447</td>\n",
       "    </tr>\n",
       "    <tr>\n",
       "      <th>65744179</th>\n",
       "      <td>65744179</td>\n",
       "      <td>2c53aa67933d</td>\n",
       "      <td>ENSG00000166012</td>\n",
       "      <td>0.027957</td>\n",
       "    </tr>\n",
       "  </tbody>\n",
       "</table>\n",
       "</div>"
      ],
      "text/plain": [
       "            row_id       cell_id          gene_id    target\n",
       "65744175  65744175  2c53aa67933d  ENSG00000134419  0.028947\n",
       "65744176  65744176  2c53aa67933d  ENSG00000186862  0.000000\n",
       "65744177  65744177  2c53aa67933d  ENSG00000170959  0.000000\n",
       "65744178  65744178  2c53aa67933d  ENSG00000107874  0.005447\n",
       "65744179  65744179  2c53aa67933d  ENSG00000166012  0.027957"
      ]
     },
     "execution_count": 23,
     "metadata": {},
     "output_type": "execute_result"
    }
   ],
   "source": [
    "sub.tail()"
   ]
  },
  {
   "cell_type": "code",
   "execution_count": null,
   "id": "f4afecea",
   "metadata": {
    "papermill": {
     "duration": 0.007936,
     "end_time": "2022-11-06T19:21:55.286326",
     "exception": false,
     "start_time": "2022-11-06T19:21:55.278390",
     "status": "completed"
    },
    "tags": []
   },
   "outputs": [],
   "source": []
  }
 ],
 "metadata": {
  "kernelspec": {
   "display_name": "Python 3",
   "language": "python",
   "name": "python3"
  },
  "language_info": {
   "codemirror_mode": {
    "name": "ipython",
    "version": 3
   },
   "file_extension": ".py",
   "mimetype": "text/x-python",
   "name": "python",
   "nbconvert_exporter": "python",
   "pygments_lexer": "ipython3",
   "version": "3.7.12"
  },
  "papermill": {
   "default_parameters": {},
   "duration": 801.399191,
   "end_time": "2022-11-06T19:21:56.624520",
   "environment_variables": {},
   "exception": null,
   "input_path": "__notebook__.ipynb",
   "output_path": "__notebook__.ipynb",
   "parameters": {},
   "start_time": "2022-11-06T19:08:35.225329",
   "version": "2.3.4"
  }
 },
 "nbformat": 4,
 "nbformat_minor": 5
}
