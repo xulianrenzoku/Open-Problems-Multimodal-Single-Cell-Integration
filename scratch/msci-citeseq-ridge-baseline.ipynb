{
 "cells": [
  {
   "cell_type": "code",
   "execution_count": 1,
   "id": "b8cffb86",
   "metadata": {
    "_cell_guid": "b1076dfc-b9ad-4769-8c92-a6c4dae69d19",
    "_uuid": "8f2839f25d086af736a60e9eeb907d3b93b6e0e5",
    "execution": {
     "iopub.execute_input": "2022-10-26T15:47:29.914027Z",
     "iopub.status.busy": "2022-10-26T15:47:29.913556Z",
     "iopub.status.idle": "2022-10-26T15:47:30.019141Z",
     "shell.execute_reply": "2022-10-26T15:47:30.017871Z"
    },
    "papermill": {
     "duration": 0.120611,
     "end_time": "2022-10-26T15:47:30.022241",
     "exception": false,
     "start_time": "2022-10-26T15:47:29.901630",
     "status": "completed"
    },
    "tags": []
   },
   "outputs": [],
   "source": [
    "import os\n",
    "import os.path\n",
    "import gc\n",
    "import numpy as np\n",
    "import pandas as pd\n",
    "import scipy.sparse\n",
    "from tqdm import tqdm"
   ]
  },
  {
   "cell_type": "code",
   "execution_count": 2,
   "id": "3bafdb3c",
   "metadata": {
    "execution": {
     "iopub.execute_input": "2022-10-26T15:47:30.046161Z",
     "iopub.status.busy": "2022-10-26T15:47:30.044542Z",
     "iopub.status.idle": "2022-10-26T15:47:30.051061Z",
     "shell.execute_reply": "2022-10-26T15:47:30.049755Z"
    },
    "papermill": {
     "duration": 0.022336,
     "end_time": "2022-10-26T15:47:30.054591",
     "exception": false,
     "start_time": "2022-10-26T15:47:30.032255",
     "status": "completed"
    },
    "tags": []
   },
   "outputs": [],
   "source": [
    "import warnings \n",
    "warnings.filterwarnings('ignore')"
   ]
  },
  {
   "cell_type": "code",
   "execution_count": 3,
   "id": "7c28d190",
   "metadata": {
    "execution": {
     "iopub.execute_input": "2022-10-26T15:47:30.078163Z",
     "iopub.status.busy": "2022-10-26T15:47:30.077224Z",
     "iopub.status.idle": "2022-10-26T15:47:30.085470Z",
     "shell.execute_reply": "2022-10-26T15:47:30.084155Z"
    },
    "papermill": {
     "duration": 0.02229,
     "end_time": "2022-10-26T15:47:30.088273",
     "exception": false,
     "start_time": "2022-10-26T15:47:30.065983",
     "status": "completed"
    },
    "tags": []
   },
   "outputs": [],
   "source": [
    "import pickle\n",
    "\n",
    "def dump_pickle(file, filename):\n",
    "    outfile = open(filename, 'wb')\n",
    "    pickle.dump(file, outfile)\n",
    "    outfile.close()\n",
    "\n",
    "def load_pickle(filename):\n",
    "    infile = open(filename, 'rb')\n",
    "    file = pickle.load(infile)\n",
    "    infile.close()\n",
    "    return file"
   ]
  },
  {
   "cell_type": "code",
   "execution_count": 4,
   "id": "2379eee4",
   "metadata": {
    "execution": {
     "iopub.execute_input": "2022-10-26T15:47:30.113544Z",
     "iopub.status.busy": "2022-10-26T15:47:30.112569Z",
     "iopub.status.idle": "2022-10-26T15:47:31.229988Z",
     "shell.execute_reply": "2022-10-26T15:47:31.228400Z"
    },
    "papermill": {
     "duration": 1.131278,
     "end_time": "2022-10-26T15:47:31.232677",
     "exception": false,
     "start_time": "2022-10-26T15:47:30.101399",
     "status": "completed"
    },
    "tags": []
   },
   "outputs": [
    {
     "name": "stdout",
     "output_type": "stream",
     "text": [
      "total 7.1G\r\n",
      "-rw-r--r-- 1 nobody nogroup  25K Oct 26 15:46 __notebook__.ipynb\r\n",
      "-rw-r--r-- 1 nobody nogroup  25K Oct 26 15:46 __output__.json\r\n",
      "-rw-r--r-- 1 nobody nogroup 293K Oct 26 15:46 __results__.html\r\n",
      "-rw-r--r-- 1 nobody nogroup    0 Oct 26 15:46 custom.css\r\n",
      "-rw-r--r-- 1 nobody nogroup 359M Oct 26 15:46 evaluation_ids.parquet\r\n",
      "-rw-r--r-- 1 nobody nogroup 3.8M Oct 26 15:46 metadata.parquet\r\n",
      "-rw-r--r-- 1 nobody nogroup 108K Oct 26 15:46 metadata_cite_day_2_donor_27678.parquet\r\n",
      "-rw-r--r-- 1 nobody nogroup 252M Oct 26 15:46 sample_submission.parquet\r\n",
      "-rw-r--r-- 1 nobody nogroup 856K Oct 26 15:46 test_cite_inputs_day_2_donor_27678_idx.npz\r\n",
      "-rw-r--r-- 1 nobody nogroup  78M Oct 26 15:46 test_cite_inputs_day_2_donor_27678_val.sparse.npz\r\n",
      "-rw-r--r-- 1 nobody nogroup 1.8M Oct 26 15:46 test_cite_inputs_idx.npz\r\n",
      "-rw-r--r-- 1 nobody nogroup 488M Oct 26 15:46 test_cite_inputs_val.sparse.npz\r\n",
      "-rw-r--r-- 1 nobody nogroup 8.4M Oct 26 15:46 test_multi_inputs_idx.npz\r\n",
      "-rw-r--r-- 1 nobody nogroup 1.7G Oct 26 15:47 test_multi_inputs_val.sparse.npz\r\n",
      "-rw-r--r-- 1 nobody nogroup 2.2M Oct 26 15:46 train_cite_inputs_idx.npz\r\n",
      "-rw-r--r-- 1 nobody nogroup 712M Oct 26 15:46 train_cite_inputs_val.sparse.npz\r\n",
      "-rw-r--r-- 1 nobody nogroup 1.5M Oct 26 15:46 train_cite_targets_idx.npz\r\n",
      "-rw-r--r-- 1 nobody nogroup  36M Oct 26 15:46 train_cite_targets_val.sparse.npz\r\n",
      "-rw-r--r-- 1 nobody nogroup 9.5M Oct 26 15:46 train_multi_inputs_idx.npz\r\n",
      "-rw-r--r-- 1 nobody nogroup 2.8G Oct 26 15:47 train_multi_inputs_val.sparse.npz\r\n",
      "-rw-r--r-- 1 nobody nogroup 2.8M Oct 26 15:46 train_multi_targets_idx.npz\r\n",
      "-rw-r--r-- 1 nobody nogroup 824M Oct 26 15:46 train_multi_targets_val.sparse.npz\r\n"
     ]
    }
   ],
   "source": [
    "DATA_DIR = '../input/msci-h5-sparse-transform'\n",
    "%ls $DATA_DIR -lh"
   ]
  },
  {
   "cell_type": "markdown",
   "id": "5a7c903e",
   "metadata": {
    "execution": {
     "iopub.execute_input": "2022-10-24T09:53:23.309610Z",
     "iopub.status.busy": "2022-10-24T09:53:23.309238Z",
     "iopub.status.idle": "2022-10-24T09:53:23.315117Z",
     "shell.execute_reply": "2022-10-24T09:53:23.313565Z",
     "shell.execute_reply.started": "2022-10-24T09:53:23.309583Z"
    },
    "papermill": {
     "duration": 0.007931,
     "end_time": "2022-10-26T15:47:31.249390",
     "exception": false,
     "start_time": "2022-10-26T15:47:31.241459",
     "status": "completed"
    },
    "tags": []
   },
   "source": [
    "## Read Data"
   ]
  },
  {
   "cell_type": "code",
   "execution_count": 5,
   "id": "6a9642b4",
   "metadata": {
    "execution": {
     "iopub.execute_input": "2022-10-26T15:47:31.270361Z",
     "iopub.status.busy": "2022-10-26T15:47:31.268956Z",
     "iopub.status.idle": "2022-10-26T15:47:52.386645Z",
     "shell.execute_reply": "2022-10-26T15:47:52.385764Z"
    },
    "papermill": {
     "duration": 21.129551,
     "end_time": "2022-10-26T15:47:52.388700",
     "exception": false,
     "start_time": "2022-10-26T15:47:31.259149",
     "status": "completed"
    },
    "tags": []
   },
   "outputs": [
    {
     "name": "stdout",
     "output_type": "stream",
     "text": [
      "CPU times: user 13.9 s, sys: 1.58 s, total: 15.4 s\n",
      "Wall time: 21.1 s\n"
     ]
    },
    {
     "data": {
      "text/plain": [
       "(70988, 22050)"
      ]
     },
     "execution_count": 5,
     "metadata": {},
     "output_type": "execute_result"
    }
   ],
   "source": [
    "%%time\n",
    "train_inp_val_path = f'{DATA_DIR}/train_cite_inputs_val.sparse.npz'\n",
    "train_inp_val = scipy.sparse.load_npz(train_inp_val_path)\n",
    "train_inp_val.shape"
   ]
  },
  {
   "cell_type": "code",
   "execution_count": 6,
   "id": "eee545a0",
   "metadata": {
    "execution": {
     "iopub.execute_input": "2022-10-26T15:47:52.407781Z",
     "iopub.status.busy": "2022-10-26T15:47:52.407376Z",
     "iopub.status.idle": "2022-10-26T15:47:53.500844Z",
     "shell.execute_reply": "2022-10-26T15:47:53.499318Z"
    },
    "papermill": {
     "duration": 1.10609,
     "end_time": "2022-10-26T15:47:53.503487",
     "exception": false,
     "start_time": "2022-10-26T15:47:52.397397",
     "status": "completed"
    },
    "tags": []
   },
   "outputs": [
    {
     "name": "stdout",
     "output_type": "stream",
     "text": [
      "CPU times: user 363 ms, sys: 56.2 ms, total: 420 ms\n",
      "Wall time: 1.08 s\n"
     ]
    },
    {
     "data": {
      "text/plain": [
       "(70988, 140)"
      ]
     },
     "execution_count": 6,
     "metadata": {},
     "output_type": "execute_result"
    }
   ],
   "source": [
    "%%time\n",
    "train_tar_val_path = f'{DATA_DIR}/train_cite_targets_val.sparse.npz'\n",
    "train_tar_val = scipy.sparse.load_npz(train_tar_val_path)\n",
    "train_tar_val.shape"
   ]
  },
  {
   "cell_type": "markdown",
   "id": "34514e87",
   "metadata": {
    "execution": {
     "iopub.execute_input": "2022-10-24T09:49:30.588719Z",
     "iopub.status.busy": "2022-10-24T09:49:30.588310Z",
     "iopub.status.idle": "2022-10-24T09:49:30.987503Z",
     "shell.execute_reply": "2022-10-24T09:49:30.986295Z",
     "shell.execute_reply.started": "2022-10-24T09:49:30.588691Z"
    },
    "papermill": {
     "duration": 0.008272,
     "end_time": "2022-10-26T15:47:53.520422",
     "exception": false,
     "start_time": "2022-10-26T15:47:53.512150",
     "status": "completed"
    },
    "tags": []
   },
   "source": [
    "## Dimension Reduction"
   ]
  },
  {
   "cell_type": "code",
   "execution_count": 7,
   "id": "ba23ec4d",
   "metadata": {
    "execution": {
     "iopub.execute_input": "2022-10-26T15:47:53.539195Z",
     "iopub.status.busy": "2022-10-26T15:47:53.538738Z",
     "iopub.status.idle": "2022-10-26T15:47:54.768318Z",
     "shell.execute_reply": "2022-10-26T15:47:54.767285Z"
    },
    "papermill": {
     "duration": 1.241988,
     "end_time": "2022-10-26T15:47:54.770902",
     "exception": false,
     "start_time": "2022-10-26T15:47:53.528914",
     "status": "completed"
    },
    "tags": []
   },
   "outputs": [],
   "source": [
    "from sklearn.decomposition import PCA, TruncatedSVD"
   ]
  },
  {
   "cell_type": "code",
   "execution_count": 8,
   "id": "9aa68ecf",
   "metadata": {
    "execution": {
     "iopub.execute_input": "2022-10-26T15:47:54.790777Z",
     "iopub.status.busy": "2022-10-26T15:47:54.789609Z",
     "iopub.status.idle": "2022-10-26T15:50:18.139698Z",
     "shell.execute_reply": "2022-10-26T15:50:18.138398Z"
    },
    "papermill": {
     "duration": 143.371271,
     "end_time": "2022-10-26T15:50:18.151031",
     "exception": false,
     "start_time": "2022-10-26T15:47:54.779760",
     "status": "completed"
    },
    "tags": []
   },
   "outputs": [
    {
     "name": "stdout",
     "output_type": "stream",
     "text": [
      "Sum of Explained Variance:  0.12513325\n",
      "CPU times: user 2min 25s, sys: 3.47 s, total: 2min 28s\n",
      "Wall time: 2min 23s\n"
     ]
    },
    {
     "data": {
      "text/plain": [
       "21"
      ]
     },
     "execution_count": 8,
     "metadata": {},
     "output_type": "execute_result"
    }
   ],
   "source": [
    "%%time\n",
    "## Baseline\n",
    "train_inp_tsvd = TruncatedSVD(n_components=64, \n",
    "                              random_state=42)\n",
    "\n",
    "train_inp_val = train_inp_tsvd.fit_transform(train_inp_val)\n",
    "print('Sum of Explained Variance: ',\n",
    "      np.sum(train_inp_tsvd.explained_variance_ratio_))\n",
    "\n",
    "gc.collect()"
   ]
  },
  {
   "cell_type": "code",
   "execution_count": 9,
   "id": "0adfe0e1",
   "metadata": {
    "execution": {
     "iopub.execute_input": "2022-10-26T15:50:18.170125Z",
     "iopub.status.busy": "2022-10-26T15:50:18.169682Z",
     "iopub.status.idle": "2022-10-26T15:50:18.377930Z",
     "shell.execute_reply": "2022-10-26T15:50:18.376208Z"
    },
    "papermill": {
     "duration": 0.220868,
     "end_time": "2022-10-26T15:50:18.380471",
     "exception": false,
     "start_time": "2022-10-26T15:50:18.159603",
     "status": "completed"
    },
    "tags": []
   },
   "outputs": [
    {
     "name": "stdout",
     "output_type": "stream",
     "text": [
      "CPU times: user 160 ms, sys: 42 ms, total: 202 ms\n",
      "Wall time: 200 ms\n"
     ]
    },
    {
     "data": {
      "text/plain": [
       "21"
      ]
     },
     "execution_count": 9,
     "metadata": {},
     "output_type": "execute_result"
    }
   ],
   "source": [
    "%%time\n",
    "train_tar_val = train_tar_val.todense()\n",
    "gc.collect()"
   ]
  },
  {
   "cell_type": "markdown",
   "id": "2a06ff92",
   "metadata": {
    "papermill": {
     "duration": 0.008951,
     "end_time": "2022-10-26T15:50:18.398264",
     "exception": false,
     "start_time": "2022-10-26T15:50:18.389313",
     "status": "completed"
    },
    "tags": []
   },
   "source": [
    "## Modeling"
   ]
  },
  {
   "cell_type": "markdown",
   "id": "1d4d8397",
   "metadata": {
    "papermill": {
     "duration": 0.008467,
     "end_time": "2022-10-26T15:50:18.415577",
     "exception": false,
     "start_time": "2022-10-26T15:50:18.407110",
     "status": "completed"
    },
    "tags": []
   },
   "source": [
    "### Loss Function"
   ]
  },
  {
   "cell_type": "code",
   "execution_count": 10,
   "id": "f4be5621",
   "metadata": {
    "execution": {
     "iopub.execute_input": "2022-10-26T15:50:18.434985Z",
     "iopub.status.busy": "2022-10-26T15:50:18.434580Z",
     "iopub.status.idle": "2022-10-26T15:50:18.442456Z",
     "shell.execute_reply": "2022-10-26T15:50:18.441083Z"
    },
    "papermill": {
     "duration": 0.020134,
     "end_time": "2022-10-26T15:50:18.444623",
     "exception": false,
     "start_time": "2022-10-26T15:50:18.424489",
     "status": "completed"
    },
    "tags": []
   },
   "outputs": [],
   "source": [
    "def correlation_score(y_true, y_pred):\n",
    "    \"\"\"Scores the predictions according to the competition rules. \n",
    "    It is assumed that the predictions are not constant.\n",
    "    Returns the average of each sample's Pearson correlation coefficient\"\"\"\n",
    "    if type(y_true) == pd.DataFrame: y_true = y_true.values\n",
    "    if type(y_pred) == pd.DataFrame: y_pred = y_pred.values\n",
    "    if y_true.shape != y_pred.shape: raise ValueError(\"Shapes are different.\")\n",
    "    corrsum = 0\n",
    "    for i in range(len(y_true)):\n",
    "        corrsum += np.corrcoef(y_true[i], y_pred[i])[1, 0]\n",
    "    return corrsum / len(y_true)"
   ]
  },
  {
   "cell_type": "markdown",
   "id": "3183dac9",
   "metadata": {
    "papermill": {
     "duration": 0.008626,
     "end_time": "2022-10-26T15:50:18.462304",
     "exception": false,
     "start_time": "2022-10-26T15:50:18.453678",
     "status": "completed"
    },
    "tags": []
   },
   "source": [
    "### Modeling"
   ]
  },
  {
   "cell_type": "code",
   "execution_count": 11,
   "id": "4916e774",
   "metadata": {
    "execution": {
     "iopub.execute_input": "2022-10-26T15:50:18.483448Z",
     "iopub.status.busy": "2022-10-26T15:50:18.483014Z",
     "iopub.status.idle": "2022-10-26T15:50:18.488245Z",
     "shell.execute_reply": "2022-10-26T15:50:18.487082Z"
    },
    "papermill": {
     "duration": 0.017696,
     "end_time": "2022-10-26T15:50:18.490479",
     "exception": false,
     "start_time": "2022-10-26T15:50:18.472783",
     "status": "completed"
    },
    "tags": []
   },
   "outputs": [],
   "source": [
    "from sklearn.linear_model import Ridge\n",
    "from sklearn.model_selection import train_test_split"
   ]
  },
  {
   "cell_type": "code",
   "execution_count": 12,
   "id": "0b4b717a",
   "metadata": {
    "execution": {
     "iopub.execute_input": "2022-10-26T15:50:18.510697Z",
     "iopub.status.busy": "2022-10-26T15:50:18.509920Z",
     "iopub.status.idle": "2022-10-26T15:50:18.545898Z",
     "shell.execute_reply": "2022-10-26T15:50:18.544027Z"
    },
    "papermill": {
     "duration": 0.048676,
     "end_time": "2022-10-26T15:50:18.548340",
     "exception": false,
     "start_time": "2022-10-26T15:50:18.499664",
     "status": "completed"
    },
    "tags": []
   },
   "outputs": [
    {
     "name": "stdout",
     "output_type": "stream",
     "text": [
      "CPU times: user 27.5 ms, sys: 979 µs, total: 28.4 ms\n",
      "Wall time: 28.5 ms\n"
     ]
    }
   ],
   "source": [
    "%%time\n",
    "X_train, X_val, y_train, y_val = train_test_split(train_inp_val,\n",
    "                                                  train_tar_val,\n",
    "                                                  test_size=0.2,\n",
    "                                                  random_state=42)"
   ]
  },
  {
   "cell_type": "code",
   "execution_count": 13,
   "id": "15184d48",
   "metadata": {
    "execution": {
     "iopub.execute_input": "2022-10-26T15:50:18.568420Z",
     "iopub.status.busy": "2022-10-26T15:50:18.567766Z",
     "iopub.status.idle": "2022-10-26T15:50:18.687987Z",
     "shell.execute_reply": "2022-10-26T15:50:18.686709Z"
    },
    "papermill": {
     "duration": 0.133194,
     "end_time": "2022-10-26T15:50:18.690564",
     "exception": false,
     "start_time": "2022-10-26T15:50:18.557370",
     "status": "completed"
    },
    "tags": []
   },
   "outputs": [
    {
     "data": {
      "text/plain": [
       "84"
      ]
     },
     "execution_count": 13,
     "metadata": {},
     "output_type": "execute_result"
    }
   ],
   "source": [
    "del train_inp_val, train_tar_val\n",
    "gc.collect()"
   ]
  },
  {
   "cell_type": "code",
   "execution_count": 14,
   "id": "3bc2af2b",
   "metadata": {
    "execution": {
     "iopub.execute_input": "2022-10-26T15:50:18.710474Z",
     "iopub.status.busy": "2022-10-26T15:50:18.710073Z",
     "iopub.status.idle": "2022-10-26T15:50:18.799466Z",
     "shell.execute_reply": "2022-10-26T15:50:18.797761Z"
    },
    "papermill": {
     "duration": 0.104261,
     "end_time": "2022-10-26T15:50:18.803837",
     "exception": false,
     "start_time": "2022-10-26T15:50:18.699576",
     "status": "completed"
    },
    "tags": []
   },
   "outputs": [
    {
     "name": "stdout",
     "output_type": "stream",
     "text": [
      "CPU times: user 130 ms, sys: 34.1 ms, total: 165 ms\n",
      "Wall time: 74.6 ms\n"
     ]
    },
    {
     "data": {
      "text/plain": [
       "Ridge(copy_X=False, random_state=42)"
      ]
     },
     "execution_count": 14,
     "metadata": {},
     "output_type": "execute_result"
    }
   ],
   "source": [
    "%%time\n",
    "ridge = Ridge(copy_X=False, random_state=42)\n",
    "ridge.fit(X_train, y_train)"
   ]
  },
  {
   "cell_type": "code",
   "execution_count": 15,
   "id": "c3cfc105",
   "metadata": {
    "execution": {
     "iopub.execute_input": "2022-10-26T15:50:18.912135Z",
     "iopub.status.busy": "2022-10-26T15:50:18.911094Z",
     "iopub.status.idle": "2022-10-26T15:50:25.162186Z",
     "shell.execute_reply": "2022-10-26T15:50:25.160877Z"
    },
    "papermill": {
     "duration": 6.284008,
     "end_time": "2022-10-26T15:50:25.164619",
     "exception": false,
     "start_time": "2022-10-26T15:50:18.880611",
     "status": "completed"
    },
    "tags": []
   },
   "outputs": [
    {
     "name": "stdout",
     "output_type": "stream",
     "text": [
      "CPU times: user 6.41 s, sys: 237 ms, total: 6.65 s\n",
      "Wall time: 6.24 s\n"
     ]
    },
    {
     "data": {
      "text/plain": [
       "0.20340553575278125"
      ]
     },
     "execution_count": 15,
     "metadata": {},
     "output_type": "execute_result"
    }
   ],
   "source": [
    "%%time\n",
    "correlation_score(y_train, ridge.predict(X_train))"
   ]
  },
  {
   "cell_type": "code",
   "execution_count": 16,
   "id": "6a714af2",
   "metadata": {
    "execution": {
     "iopub.execute_input": "2022-10-26T15:50:25.185038Z",
     "iopub.status.busy": "2022-10-26T15:50:25.184628Z",
     "iopub.status.idle": "2022-10-26T15:50:26.796733Z",
     "shell.execute_reply": "2022-10-26T15:50:26.795390Z"
    },
    "papermill": {
     "duration": 1.626037,
     "end_time": "2022-10-26T15:50:26.799877",
     "exception": false,
     "start_time": "2022-10-26T15:50:25.173840",
     "status": "completed"
    },
    "tags": []
   },
   "outputs": [
    {
     "name": "stdout",
     "output_type": "stream",
     "text": [
      "CPU times: user 1.75 s, sys: 224 ms, total: 1.98 s\n",
      "Wall time: 1.6 s\n"
     ]
    },
    {
     "data": {
      "text/plain": [
       "0.8903543005715396"
      ]
     },
     "execution_count": 16,
     "metadata": {},
     "output_type": "execute_result"
    }
   ],
   "source": [
    "%%time\n",
    "correlation_score(y_val, ridge.predict(X_val))"
   ]
  },
  {
   "cell_type": "code",
   "execution_count": 17,
   "id": "05636c41",
   "metadata": {
    "execution": {
     "iopub.execute_input": "2022-10-26T15:50:26.821826Z",
     "iopub.status.busy": "2022-10-26T15:50:26.821442Z",
     "iopub.status.idle": "2022-10-26T15:50:26.941899Z",
     "shell.execute_reply": "2022-10-26T15:50:26.940537Z"
    },
    "papermill": {
     "duration": 0.134396,
     "end_time": "2022-10-26T15:50:26.944363",
     "exception": false,
     "start_time": "2022-10-26T15:50:26.809967",
     "status": "completed"
    },
    "tags": []
   },
   "outputs": [
    {
     "data": {
      "text/plain": [
       "84"
      ]
     },
     "execution_count": 17,
     "metadata": {},
     "output_type": "execute_result"
    }
   ],
   "source": [
    "del X_train, X_val, y_train, y_val\n",
    "gc.collect()"
   ]
  },
  {
   "cell_type": "markdown",
   "id": "8797fd55",
   "metadata": {
    "papermill": {
     "duration": 0.010321,
     "end_time": "2022-10-26T15:50:26.965427",
     "exception": false,
     "start_time": "2022-10-26T15:50:26.955106",
     "status": "completed"
    },
    "tags": []
   },
   "source": [
    "## Prediction "
   ]
  },
  {
   "cell_type": "code",
   "execution_count": 18,
   "id": "22d69bb3",
   "metadata": {
    "execution": {
     "iopub.execute_input": "2022-10-26T15:50:26.987554Z",
     "iopub.status.busy": "2022-10-26T15:50:26.987167Z",
     "iopub.status.idle": "2022-10-26T15:50:41.038964Z",
     "shell.execute_reply": "2022-10-26T15:50:41.037513Z"
    },
    "papermill": {
     "duration": 14.065881,
     "end_time": "2022-10-26T15:50:41.041615",
     "exception": false,
     "start_time": "2022-10-26T15:50:26.975734",
     "status": "completed"
    },
    "tags": []
   },
   "outputs": [
    {
     "name": "stdout",
     "output_type": "stream",
     "text": [
      "CPU times: user 9.56 s, sys: 658 ms, total: 10.2 s\n",
      "Wall time: 14 s\n"
     ]
    },
    {
     "data": {
      "text/plain": [
       "(48663, 22050)"
      ]
     },
     "execution_count": 18,
     "metadata": {},
     "output_type": "execute_result"
    }
   ],
   "source": [
    "%%time\n",
    "test_inp_val_path = f'{DATA_DIR}/test_cite_inputs_val.sparse.npz'\n",
    "test_inp_val = scipy.sparse.load_npz(test_inp_val_path)\n",
    "test_inp_val.shape"
   ]
  },
  {
   "cell_type": "code",
   "execution_count": 19,
   "id": "26092502",
   "metadata": {
    "execution": {
     "iopub.execute_input": "2022-10-26T15:50:41.064318Z",
     "iopub.status.busy": "2022-10-26T15:50:41.063062Z",
     "iopub.status.idle": "2022-10-26T15:50:46.835528Z",
     "shell.execute_reply": "2022-10-26T15:50:46.834191Z"
    },
    "papermill": {
     "duration": 5.786398,
     "end_time": "2022-10-26T15:50:46.838166",
     "exception": false,
     "start_time": "2022-10-26T15:50:41.051768",
     "status": "completed"
    },
    "tags": []
   },
   "outputs": [
    {
     "name": "stdout",
     "output_type": "stream",
     "text": [
      "CPU times: user 5.75 s, sys: 5.04 ms, total: 5.76 s\n",
      "Wall time: 5.76 s\n"
     ]
    },
    {
     "data": {
      "text/plain": [
       "(48663, 64)"
      ]
     },
     "execution_count": 19,
     "metadata": {},
     "output_type": "execute_result"
    }
   ],
   "source": [
    "%%time\n",
    "test_inp_val = train_inp_tsvd.transform(test_inp_val)\n",
    "test_inp_val.shape"
   ]
  },
  {
   "cell_type": "code",
   "execution_count": 20,
   "id": "9b64bb38",
   "metadata": {
    "execution": {
     "iopub.execute_input": "2022-10-26T15:50:46.860077Z",
     "iopub.status.busy": "2022-10-26T15:50:46.859671Z",
     "iopub.status.idle": "2022-10-26T15:50:47.059095Z",
     "shell.execute_reply": "2022-10-26T15:50:47.057345Z"
    },
    "papermill": {
     "duration": 0.213901,
     "end_time": "2022-10-26T15:50:47.062286",
     "exception": false,
     "start_time": "2022-10-26T15:50:46.848385",
     "status": "completed"
    },
    "tags": []
   },
   "outputs": [
    {
     "name": "stdout",
     "output_type": "stream",
     "text": [
      "CPU times: user 388 ms, sys: 212 ms, total: 600 ms\n",
      "Wall time: 191 ms\n"
     ]
    },
    {
     "data": {
      "text/plain": [
       "103"
      ]
     },
     "execution_count": 20,
     "metadata": {},
     "output_type": "execute_result"
    }
   ],
   "source": [
    "%%time\n",
    "test_tar_preds = ridge.predict(test_inp_val)\n",
    "del test_inp_val\n",
    "gc.collect()"
   ]
  },
  {
   "cell_type": "markdown",
   "id": "4c1f5a5a",
   "metadata": {
    "papermill": {
     "duration": 0.009708,
     "end_time": "2022-10-26T15:50:47.082435",
     "exception": false,
     "start_time": "2022-10-26T15:50:47.072727",
     "status": "completed"
    },
    "tags": []
   },
   "source": [
    "## Creating Submission"
   ]
  },
  {
   "cell_type": "markdown",
   "id": "e482f26a",
   "metadata": {
    "papermill": {
     "duration": 0.009728,
     "end_time": "2022-10-26T15:50:47.102376",
     "exception": false,
     "start_time": "2022-10-26T15:50:47.092648",
     "status": "completed"
    },
    "tags": []
   },
   "source": [
    "### Original Dataset"
   ]
  },
  {
   "cell_type": "code",
   "execution_count": 21,
   "id": "b889ecf6",
   "metadata": {
    "execution": {
     "iopub.execute_input": "2022-10-26T15:50:47.124713Z",
     "iopub.status.busy": "2022-10-26T15:50:47.124333Z",
     "iopub.status.idle": "2022-10-26T15:50:47.210416Z",
     "shell.execute_reply": "2022-10-26T15:50:47.209265Z"
    },
    "papermill": {
     "duration": 0.100106,
     "end_time": "2022-10-26T15:50:47.213040",
     "exception": false,
     "start_time": "2022-10-26T15:50:47.112934",
     "status": "completed"
    },
    "tags": []
   },
   "outputs": [
    {
     "data": {
      "text/plain": [
       "((140,), (48663,), (48663, 140))"
      ]
     },
     "execution_count": 21,
     "metadata": {},
     "output_type": "execute_result"
    }
   ],
   "source": [
    "test_tar_cols = np.load(f'{DATA_DIR}/train_cite_targets_idx.npz',\n",
    "                        allow_pickle=True)['columns']\n",
    "test_tar_idx = np.load(f'{DATA_DIR}/test_cite_inputs_idx.npz',\n",
    "                       allow_pickle=True)['index']\n",
    "test_tar_cols.shape, test_tar_idx.shape, test_tar_preds.shape"
   ]
  },
  {
   "cell_type": "code",
   "execution_count": 22,
   "id": "9ea0e96d",
   "metadata": {
    "execution": {
     "iopub.execute_input": "2022-10-26T15:50:47.236287Z",
     "iopub.status.busy": "2022-10-26T15:50:47.235577Z",
     "iopub.status.idle": "2022-10-26T15:50:47.240036Z",
     "shell.execute_reply": "2022-10-26T15:50:47.239218Z"
    },
    "papermill": {
     "duration": 0.018446,
     "end_time": "2022-10-26T15:50:47.242250",
     "exception": false,
     "start_time": "2022-10-26T15:50:47.223804",
     "status": "completed"
    },
    "tags": []
   },
   "outputs": [],
   "source": [
    "TMP_DIR = '../tmp'"
   ]
  },
  {
   "cell_type": "code",
   "execution_count": 23,
   "id": "9838f09c",
   "metadata": {
    "execution": {
     "iopub.execute_input": "2022-10-26T15:50:47.264815Z",
     "iopub.status.busy": "2022-10-26T15:50:47.264132Z",
     "iopub.status.idle": "2022-10-26T15:50:48.363133Z",
     "shell.execute_reply": "2022-10-26T15:50:48.361167Z"
    },
    "papermill": {
     "duration": 1.113319,
     "end_time": "2022-10-26T15:50:48.365868",
     "exception": false,
     "start_time": "2022-10-26T15:50:47.252549",
     "status": "completed"
    },
    "tags": []
   },
   "outputs": [],
   "source": [
    "%mkdir ../tmp"
   ]
  },
  {
   "cell_type": "code",
   "execution_count": 24,
   "id": "7708e06a",
   "metadata": {
    "execution": {
     "iopub.execute_input": "2022-10-26T15:50:48.388694Z",
     "iopub.status.busy": "2022-10-26T15:50:48.388247Z",
     "iopub.status.idle": "2022-10-26T15:50:51.230761Z",
     "shell.execute_reply": "2022-10-26T15:50:51.229330Z"
    },
    "papermill": {
     "duration": 2.856921,
     "end_time": "2022-10-26T15:50:51.233260",
     "exception": false,
     "start_time": "2022-10-26T15:50:48.376339",
     "status": "completed"
    },
    "tags": []
   },
   "outputs": [
    {
     "name": "stdout",
     "output_type": "stream",
     "text": [
      "CPU times: user 2.58 s, sys: 246 ms, total: 2.83 s\n",
      "Wall time: 2.84 s\n"
     ]
    }
   ],
   "source": [
    "%%time\n",
    "test_preds = {cell_id: {gene_id: test_tar_preds[i][j]\n",
    "                       for j, gene_id in enumerate(test_tar_cols, 0)}\n",
    "              for i, cell_id in enumerate(test_tar_idx, 0)}\n"
   ]
  },
  {
   "cell_type": "code",
   "execution_count": 25,
   "id": "c1e5166e",
   "metadata": {
    "execution": {
     "iopub.execute_input": "2022-10-26T15:50:51.256344Z",
     "iopub.status.busy": "2022-10-26T15:50:51.255929Z",
     "iopub.status.idle": "2022-10-26T15:50:51.407892Z",
     "shell.execute_reply": "2022-10-26T15:50:51.406791Z"
    },
    "papermill": {
     "duration": 0.167156,
     "end_time": "2022-10-26T15:50:51.411134",
     "exception": false,
     "start_time": "2022-10-26T15:50:51.243978",
     "status": "completed"
    },
    "tags": []
   },
   "outputs": [
    {
     "data": {
      "text/plain": [
       "21"
      ]
     },
     "execution_count": 25,
     "metadata": {},
     "output_type": "execute_result"
    }
   ],
   "source": [
    "del test_tar_cols, test_tar_idx, test_tar_preds\n",
    "gc.collect()"
   ]
  },
  {
   "cell_type": "code",
   "execution_count": 26,
   "id": "cd3d0531",
   "metadata": {
    "execution": {
     "iopub.execute_input": "2022-10-26T15:50:51.434027Z",
     "iopub.status.busy": "2022-10-26T15:50:51.433621Z",
     "iopub.status.idle": "2022-10-26T15:51:05.981836Z",
     "shell.execute_reply": "2022-10-26T15:51:05.979728Z"
    },
    "papermill": {
     "duration": 14.564199,
     "end_time": "2022-10-26T15:51:05.985826",
     "exception": false,
     "start_time": "2022-10-26T15:50:51.421627",
     "status": "completed"
    },
    "tags": []
   },
   "outputs": [
    {
     "name": "stdout",
     "output_type": "stream",
     "text": [
      "CPU times: user 13.3 s, sys: 5.9 s, total: 19.2 s\n",
      "Wall time: 14.5 s\n"
     ]
    },
    {
     "data": {
      "text/html": [
       "<div>\n",
       "<style scoped>\n",
       "    .dataframe tbody tr th:only-of-type {\n",
       "        vertical-align: middle;\n",
       "    }\n",
       "\n",
       "    .dataframe tbody tr th {\n",
       "        vertical-align: top;\n",
       "    }\n",
       "\n",
       "    .dataframe thead th {\n",
       "        text-align: right;\n",
       "    }\n",
       "</style>\n",
       "<table border=\"1\" class=\"dataframe\">\n",
       "  <thead>\n",
       "    <tr style=\"text-align: right;\">\n",
       "      <th></th>\n",
       "      <th>row_id</th>\n",
       "      <th>cell_id</th>\n",
       "      <th>gene_id</th>\n",
       "    </tr>\n",
       "  </thead>\n",
       "  <tbody>\n",
       "    <tr>\n",
       "      <th>0</th>\n",
       "      <td>0</td>\n",
       "      <td>c2150f55becb</td>\n",
       "      <td>CD86</td>\n",
       "    </tr>\n",
       "    <tr>\n",
       "      <th>1</th>\n",
       "      <td>1</td>\n",
       "      <td>c2150f55becb</td>\n",
       "      <td>CD274</td>\n",
       "    </tr>\n",
       "    <tr>\n",
       "      <th>2</th>\n",
       "      <td>2</td>\n",
       "      <td>c2150f55becb</td>\n",
       "      <td>CD270</td>\n",
       "    </tr>\n",
       "    <tr>\n",
       "      <th>3</th>\n",
       "      <td>3</td>\n",
       "      <td>c2150f55becb</td>\n",
       "      <td>CD155</td>\n",
       "    </tr>\n",
       "    <tr>\n",
       "      <th>4</th>\n",
       "      <td>4</td>\n",
       "      <td>c2150f55becb</td>\n",
       "      <td>CD112</td>\n",
       "    </tr>\n",
       "  </tbody>\n",
       "</table>\n",
       "</div>"
      ],
      "text/plain": [
       "   row_id       cell_id gene_id\n",
       "0       0  c2150f55becb    CD86\n",
       "1       1  c2150f55becb   CD274\n",
       "2       2  c2150f55becb   CD270\n",
       "3       3  c2150f55becb   CD155\n",
       "4       4  c2150f55becb   CD112"
      ]
     },
     "execution_count": 26,
     "metadata": {},
     "output_type": "execute_result"
    }
   ],
   "source": [
    "%%time\n",
    "eval_ids = pd.read_parquet(f'{DATA_DIR}/evaluation_ids.parquet')\n",
    "eval_ids.head()"
   ]
  },
  {
   "cell_type": "code",
   "execution_count": 27,
   "id": "a0c5bf80",
   "metadata": {
    "execution": {
     "iopub.execute_input": "2022-10-26T15:51:06.010574Z",
     "iopub.status.busy": "2022-10-26T15:51:06.009889Z",
     "iopub.status.idle": "2022-10-26T16:03:44.955642Z",
     "shell.execute_reply": "2022-10-26T16:03:44.954399Z"
    },
    "papermill": {
     "duration": 758.971872,
     "end_time": "2022-10-26T16:03:44.968952",
     "exception": false,
     "start_time": "2022-10-26T15:51:05.997080",
     "status": "completed"
    },
    "tags": []
   },
   "outputs": [
    {
     "name": "stdout",
     "output_type": "stream",
     "text": [
      "CPU times: user 12min 24s, sys: 14.6 s, total: 12min 39s\n",
      "Wall time: 12min 38s\n"
     ]
    }
   ],
   "source": [
    "%%time\n",
    "eval_ids['target'] = eval_ids.apply(lambda x: test_preds[x['cell_id']][x['gene_id']]\n",
    "                                    if x['cell_id'] in test_preds.keys() else 0,\n",
    "                                    axis=1)"
   ]
  },
  {
   "cell_type": "code",
   "execution_count": 28,
   "id": "c5e3ffba",
   "metadata": {
    "execution": {
     "iopub.execute_input": "2022-10-26T16:03:44.992264Z",
     "iopub.status.busy": "2022-10-26T16:03:44.991845Z",
     "iopub.status.idle": "2022-10-26T16:05:20.535490Z",
     "shell.execute_reply": "2022-10-26T16:05:20.532894Z"
    },
    "papermill": {
     "duration": 95.561683,
     "end_time": "2022-10-26T16:05:20.541169",
     "exception": false,
     "start_time": "2022-10-26T16:03:44.979486",
     "status": "completed"
    },
    "tags": []
   },
   "outputs": [],
   "source": [
    "eval_ids.drop(['cell_id', 'gene_id'], axis=1)\\\n",
    "        .to_csv('cite_sub.csv', index=False)"
   ]
  }
 ],
 "metadata": {
  "kernelspec": {
   "display_name": "Python 3",
   "language": "python",
   "name": "python3"
  },
  "language_info": {
   "codemirror_mode": {
    "name": "ipython",
    "version": 3
   },
   "file_extension": ".py",
   "mimetype": "text/x-python",
   "name": "python",
   "nbconvert_exporter": "python",
   "pygments_lexer": "ipython3",
   "version": "3.7.12"
  },
  "papermill": {
   "default_parameters": {},
   "duration": 1081.435469,
   "end_time": "2022-10-26T16:05:22.491992",
   "environment_variables": {},
   "exception": null,
   "input_path": "__notebook__.ipynb",
   "output_path": "__notebook__.ipynb",
   "parameters": {},
   "start_time": "2022-10-26T15:47:21.056523",
   "version": "2.3.4"
  }
 },
 "nbformat": 4,
 "nbformat_minor": 5
}
