{
 "cells": [
  {
   "cell_type": "code",
   "execution_count": 1,
   "id": "d99f01e9",
   "metadata": {
    "_cell_guid": "b1076dfc-b9ad-4769-8c92-a6c4dae69d19",
    "_uuid": "8f2839f25d086af736a60e9eeb907d3b93b6e0e5",
    "execution": {
     "iopub.execute_input": "2022-10-27T12:03:33.297962Z",
     "iopub.status.busy": "2022-10-27T12:03:33.297468Z",
     "iopub.status.idle": "2022-10-27T12:03:33.401536Z",
     "shell.execute_reply": "2022-10-27T12:03:33.400096Z"
    },
    "papermill": {
     "duration": 0.125877,
     "end_time": "2022-10-27T12:03:33.406295",
     "exception": false,
     "start_time": "2022-10-27T12:03:33.280418",
     "status": "completed"
    },
    "tags": []
   },
   "outputs": [],
   "source": [
    "import os\n",
    "import os.path\n",
    "import gc\n",
    "import numpy as np\n",
    "import pandas as pd\n",
    "import scipy.sparse\n",
    "from tqdm import tqdm"
   ]
  },
  {
   "cell_type": "code",
   "execution_count": 2,
   "id": "ca4fe1a1",
   "metadata": {
    "execution": {
     "iopub.execute_input": "2022-10-27T12:03:33.439349Z",
     "iopub.status.busy": "2022-10-27T12:03:33.438757Z",
     "iopub.status.idle": "2022-10-27T12:03:33.445141Z",
     "shell.execute_reply": "2022-10-27T12:03:33.443978Z"
    },
    "papermill": {
     "duration": 0.029035,
     "end_time": "2022-10-27T12:03:33.448245",
     "exception": false,
     "start_time": "2022-10-27T12:03:33.419210",
     "status": "completed"
    },
    "tags": []
   },
   "outputs": [],
   "source": [
    "import warnings \n",
    "warnings.filterwarnings('ignore')"
   ]
  },
  {
   "cell_type": "code",
   "execution_count": 3,
   "id": "60b5742f",
   "metadata": {
    "execution": {
     "iopub.execute_input": "2022-10-27T12:03:33.481242Z",
     "iopub.status.busy": "2022-10-27T12:03:33.480831Z",
     "iopub.status.idle": "2022-10-27T12:03:33.487486Z",
     "shell.execute_reply": "2022-10-27T12:03:33.486357Z"
    },
    "papermill": {
     "duration": 0.026022,
     "end_time": "2022-10-27T12:03:33.490021",
     "exception": false,
     "start_time": "2022-10-27T12:03:33.463999",
     "status": "completed"
    },
    "tags": []
   },
   "outputs": [],
   "source": [
    "import pickle\n",
    "\n",
    "def dump_pickle(file, filename):\n",
    "    outfile = open(filename, 'wb')\n",
    "    pickle.dump(file, outfile)\n",
    "    outfile.close()\n",
    "\n",
    "def load_pickle(filename):\n",
    "    infile = open(filename, 'rb')\n",
    "    file = pickle.load(infile)\n",
    "    infile.close()\n",
    "    return file"
   ]
  },
  {
   "cell_type": "code",
   "execution_count": 4,
   "id": "c34fddb3",
   "metadata": {
    "execution": {
     "iopub.execute_input": "2022-10-27T12:03:33.514101Z",
     "iopub.status.busy": "2022-10-27T12:03:33.512875Z",
     "iopub.status.idle": "2022-10-27T12:03:34.620178Z",
     "shell.execute_reply": "2022-10-27T12:03:34.618924Z"
    },
    "papermill": {
     "duration": 1.121372,
     "end_time": "2022-10-27T12:03:34.622966",
     "exception": false,
     "start_time": "2022-10-27T12:03:33.501594",
     "status": "completed"
    },
    "tags": []
   },
   "outputs": [
    {
     "name": "stdout",
     "output_type": "stream",
     "text": [
      "total 27G\r\n",
      "-rw-r--r-- 1 nobody nogroup 2.3G Sep  7 19:44 evaluation_ids.csv\r\n",
      "-rw-r--r-- 1 nobody nogroup 9.4M Sep  7 19:43 metadata.csv\r\n",
      "-rw-r--r-- 1 nobody nogroup 230K Sep  7 19:43 metadata_cite_day_2_donor_27678.csv\r\n",
      "-rw-r--r-- 1 nobody nogroup 805M Sep  7 19:43 sample_submission.csv\r\n",
      "-rw-r--r-- 1 nobody nogroup 1.6G Sep  7 19:44 test_cite_inputs.h5\r\n",
      "-rw-r--r-- 1 nobody nogroup 294M Sep  7 19:43 test_cite_inputs_day_2_donor_27678.h5\r\n",
      "-rw-r--r-- 1 nobody nogroup 6.1G Sep  7 19:45 test_multi_inputs.h5\r\n",
      "-rw-r--r-- 1 nobody nogroup 2.4G Sep  7 19:44 train_cite_inputs.h5\r\n",
      "-rw-r--r-- 1 nobody nogroup  37M Sep  7 19:43 train_cite_targets.h5\r\n",
      "-rw-r--r-- 1 nobody nogroup  11G Sep  7 19:46 train_multi_inputs.h5\r\n",
      "-rw-r--r-- 1 nobody nogroup 3.0G Sep  7 19:45 train_multi_targets.h5\r\n"
     ]
    }
   ],
   "source": [
    "DATA_DIR = '../input/open-problems-multimodal'\n",
    "%ls $DATA_DIR -lh"
   ]
  },
  {
   "cell_type": "markdown",
   "id": "266dfa71",
   "metadata": {
    "execution": {
     "iopub.execute_input": "2022-10-24T09:53:23.309610Z",
     "iopub.status.busy": "2022-10-24T09:53:23.309238Z",
     "iopub.status.idle": "2022-10-24T09:53:23.315117Z",
     "shell.execute_reply": "2022-10-24T09:53:23.313565Z",
     "shell.execute_reply.started": "2022-10-24T09:53:23.309583Z"
    },
    "papermill": {
     "duration": 0.009864,
     "end_time": "2022-10-27T12:03:34.642857",
     "exception": false,
     "start_time": "2022-10-27T12:03:34.632993",
     "status": "completed"
    },
    "tags": []
   },
   "source": [
    "## Read Data"
   ]
  },
  {
   "cell_type": "code",
   "execution_count": 5,
   "id": "1c14b562",
   "metadata": {
    "execution": {
     "iopub.execute_input": "2022-10-27T12:03:34.665723Z",
     "iopub.status.busy": "2022-10-27T12:03:34.664902Z",
     "iopub.status.idle": "2022-10-27T12:04:33.216110Z",
     "shell.execute_reply": "2022-10-27T12:04:33.214509Z"
    },
    "papermill": {
     "duration": 58.576224,
     "end_time": "2022-10-27T12:04:33.229031",
     "exception": false,
     "start_time": "2022-10-27T12:03:34.652807",
     "status": "completed"
    },
    "tags": []
   },
   "outputs": [
    {
     "name": "stdout",
     "output_type": "stream",
     "text": [
      "CPU times: user 30.7 s, sys: 7.85 s, total: 38.5 s\n",
      "Wall time: 58.5 s\n"
     ]
    }
   ],
   "source": [
    "%%time\n",
    "train_inp = pd.read_hdf(f'{DATA_DIR}/train_cite_inputs.h5')\n",
    "train_inp_cols = train_inp.columns"
   ]
  },
  {
   "cell_type": "code",
   "execution_count": 6,
   "id": "94814ba0",
   "metadata": {
    "execution": {
     "iopub.execute_input": "2022-10-27T12:04:33.252175Z",
     "iopub.status.busy": "2022-10-27T12:04:33.251710Z",
     "iopub.status.idle": "2022-10-27T12:05:13.944884Z",
     "shell.execute_reply": "2022-10-27T12:05:13.942649Z"
    },
    "papermill": {
     "duration": 40.723026,
     "end_time": "2022-10-27T12:05:13.962831",
     "exception": false,
     "start_time": "2022-10-27T12:04:33.239805",
     "status": "completed"
    },
    "tags": []
   },
   "outputs": [
    {
     "name": "stdout",
     "output_type": "stream",
     "text": [
      "CPU times: user 21.4 s, sys: 4.6 s, total: 26 s\n",
      "Wall time: 40.7 s\n"
     ]
    }
   ],
   "source": [
    "%%time\n",
    "test_inp = pd.read_hdf(f'{DATA_DIR}/test_cite_inputs.h5')"
   ]
  },
  {
   "cell_type": "code",
   "execution_count": 7,
   "id": "4bdc93ed",
   "metadata": {
    "execution": {
     "iopub.execute_input": "2022-10-27T12:05:13.988290Z",
     "iopub.status.busy": "2022-10-27T12:05:13.987560Z",
     "iopub.status.idle": "2022-10-27T12:05:14.703635Z",
     "shell.execute_reply": "2022-10-27T12:05:14.702646Z"
    },
    "papermill": {
     "duration": 0.733672,
     "end_time": "2022-10-27T12:05:14.706569",
     "exception": false,
     "start_time": "2022-10-27T12:05:13.972897",
     "status": "completed"
    },
    "tags": []
   },
   "outputs": [
    {
     "name": "stdout",
     "output_type": "stream",
     "text": [
      "CPU times: user 233 ms, sys: 81.8 ms, total: 315 ms\n",
      "Wall time: 702 ms\n"
     ]
    }
   ],
   "source": [
    "%%time\n",
    "train_tar = pd.read_hdf(f'{DATA_DIR}/train_cite_targets.h5')\n",
    "train_tar_cols = train_tar.columns"
   ]
  },
  {
   "cell_type": "markdown",
   "id": "dffdf914",
   "metadata": {
    "papermill": {
     "duration": 0.010821,
     "end_time": "2022-10-27T12:05:14.728701",
     "exception": false,
     "start_time": "2022-10-27T12:05:14.717880",
     "status": "completed"
    },
    "tags": []
   },
   "source": [
    "Find columns with all zeroes"
   ]
  },
  {
   "cell_type": "code",
   "execution_count": 8,
   "id": "fe42ccc7",
   "metadata": {
    "execution": {
     "iopub.execute_input": "2022-10-27T12:05:14.754530Z",
     "iopub.status.busy": "2022-10-27T12:05:14.754073Z",
     "iopub.status.idle": "2022-10-27T12:05:56.426101Z",
     "shell.execute_reply": "2022-10-27T12:05:56.424431Z"
    },
    "papermill": {
     "duration": 41.688023,
     "end_time": "2022-10-27T12:05:56.428912",
     "exception": false,
     "start_time": "2022-10-27T12:05:14.740889",
     "status": "completed"
    },
    "tags": []
   },
   "outputs": [
    {
     "name": "stdout",
     "output_type": "stream",
     "text": [
      "0\n",
      "1000\n",
      "2000\n",
      "3000\n",
      "4000\n",
      "5000\n",
      "6000\n",
      "7000\n",
      "8000\n",
      "9000\n",
      "10000\n",
      "11000\n",
      "12000\n",
      "13000\n",
      "14000\n",
      "15000\n",
      "16000\n",
      "17000\n",
      "18000\n",
      "19000\n",
      "20000\n",
      "21000\n",
      "22000\n",
      "Number of columns with zero values only (Train or Test): 1194\n",
      "CPU times: user 41.2 s, sys: 418 ms, total: 41.7 s\n",
      "Wall time: 41.7 s\n"
     ]
    }
   ],
   "source": [
    "%%time\n",
    "zero_cols = []\n",
    "for idx, col in enumerate(train_inp_cols, 0):\n",
    "    if idx % 1000 == 0:\n",
    "        print(idx)\n",
    "    if len(train_inp[col].unique()) == 1 or len(test_inp[col].unique()) == 1:\n",
    "        zero_cols.append(col)\n",
    "print('Number of columns with zero values only (Train or Test):', \n",
    "      len(zero_cols))"
   ]
  },
  {
   "cell_type": "code",
   "execution_count": 9,
   "id": "4c2aa32c",
   "metadata": {
    "execution": {
     "iopub.execute_input": "2022-10-27T12:05:56.454421Z",
     "iopub.status.busy": "2022-10-27T12:05:56.453939Z",
     "iopub.status.idle": "2022-10-27T12:06:01.301656Z",
     "shell.execute_reply": "2022-10-27T12:06:01.300407Z"
    },
    "papermill": {
     "duration": 4.864858,
     "end_time": "2022-10-27T12:06:01.305181",
     "exception": false,
     "start_time": "2022-10-27T12:05:56.440323",
     "status": "completed"
    },
    "tags": []
   },
   "outputs": [
    {
     "name": "stdout",
     "output_type": "stream",
     "text": [
      "CPU times: user 1.67 s, sys: 3.19 s, total: 4.87 s\n",
      "Wall time: 4.84 s\n"
     ]
    },
    {
     "data": {
      "text/plain": [
       "((70988, 20856), (48663, 20856))"
      ]
     },
     "execution_count": 9,
     "metadata": {},
     "output_type": "execute_result"
    }
   ],
   "source": [
    "%%time\n",
    "train_inp = train_inp.drop(zero_cols, axis=1)\n",
    "train_inp_cols = train_inp.columns\n",
    "test_inp = test_inp.drop(zero_cols, axis=1)\n",
    "train_inp.shape, test_inp.shape"
   ]
  },
  {
   "cell_type": "markdown",
   "id": "b4f170b3",
   "metadata": {
    "papermill": {
     "duration": 0.011539,
     "end_time": "2022-10-27T12:06:01.328472",
     "exception": false,
     "start_time": "2022-10-27T12:06:01.316933",
     "status": "completed"
    },
    "tags": []
   },
   "source": [
    "## Dimension Reduction"
   ]
  },
  {
   "cell_type": "markdown",
   "id": "13846dc1",
   "metadata": {
    "papermill": {
     "duration": 0.011476,
     "end_time": "2022-10-27T12:06:01.351697",
     "exception": false,
     "start_time": "2022-10-27T12:06:01.340221",
     "status": "completed"
    },
    "tags": []
   },
   "source": [
    "Find features in target columns that are related to input columns due to identical names"
   ]
  },
  {
   "cell_type": "code",
   "execution_count": 10,
   "id": "f3492a5e",
   "metadata": {
    "execution": {
     "iopub.execute_input": "2022-10-27T12:06:01.377842Z",
     "iopub.status.busy": "2022-10-27T12:06:01.377087Z",
     "iopub.status.idle": "2022-10-27T12:06:01.939491Z",
     "shell.execute_reply": "2022-10-27T12:06:01.937884Z"
    },
    "papermill": {
     "duration": 0.579017,
     "end_time": "2022-10-27T12:06:01.942354",
     "exception": false,
     "start_time": "2022-10-27T12:06:01.363337",
     "status": "completed"
    },
    "tags": []
   },
   "outputs": [
    {
     "name": "stdout",
     "output_type": "stream",
     "text": [
      "Number of target columns shown in training columns: 144\n",
      "CPU times: user 553 ms, sys: 0 ns, total: 553 ms\n",
      "Wall time: 554 ms\n"
     ]
    }
   ],
   "source": [
    "%%time\n",
    "same_name_cols = []\n",
    "for tar_col in train_tar_cols:\n",
    "    for inp_col in train_inp_cols:\n",
    "        if tar_col in inp_col:\n",
    "            same_name_cols.append(inp_col)\n",
    "print('Number of target columns shown in training columns:', \n",
    "      len(same_name_cols))"
   ]
  },
  {
   "cell_type": "markdown",
   "id": "436211fb",
   "metadata": {
    "papermill": {
     "duration": 0.011457,
     "end_time": "2022-10-27T12:06:01.965786",
     "exception": false,
     "start_time": "2022-10-27T12:06:01.954329",
     "status": "completed"
    },
    "tags": []
   },
   "source": [
    "Keep identical name columns and transform the rest to sparse matrices"
   ]
  },
  {
   "cell_type": "code",
   "execution_count": 11,
   "id": "12a40eb5",
   "metadata": {
    "execution": {
     "iopub.execute_input": "2022-10-27T12:06:01.992413Z",
     "iopub.status.busy": "2022-10-27T12:06:01.992000Z",
     "iopub.status.idle": "2022-10-27T12:06:02.032528Z",
     "shell.execute_reply": "2022-10-27T12:06:02.030917Z"
    },
    "papermill": {
     "duration": 0.05702,
     "end_time": "2022-10-27T12:06:02.035469",
     "exception": false,
     "start_time": "2022-10-27T12:06:01.978449",
     "status": "completed"
    },
    "tags": []
   },
   "outputs": [],
   "source": [
    "train_inp_sn = train_inp[same_name_cols].values\n",
    "test_inp_sn = test_inp[same_name_cols].values"
   ]
  },
  {
   "cell_type": "code",
   "execution_count": 12,
   "id": "94fa5d02",
   "metadata": {
    "execution": {
     "iopub.execute_input": "2022-10-27T12:06:02.061287Z",
     "iopub.status.busy": "2022-10-27T12:06:02.060879Z",
     "iopub.status.idle": "2022-10-27T12:07:30.957165Z",
     "shell.execute_reply": "2022-10-27T12:07:30.955776Z"
    },
    "papermill": {
     "duration": 88.922806,
     "end_time": "2022-10-27T12:07:30.970084",
     "exception": false,
     "start_time": "2022-10-27T12:06:02.047278",
     "status": "completed"
    },
    "tags": []
   },
   "outputs": [
    {
     "data": {
      "text/plain": [
       "63"
      ]
     },
     "execution_count": 12,
     "metadata": {},
     "output_type": "execute_result"
    }
   ],
   "source": [
    "train_inp = scipy.sparse.csr_matrix(train_inp.values)\n",
    "test_inp = scipy.sparse.csr_matrix(test_inp.values)\n",
    "gc.collect()"
   ]
  },
  {
   "cell_type": "markdown",
   "id": "bf44b91f",
   "metadata": {
    "papermill": {
     "duration": 0.011695,
     "end_time": "2022-10-27T12:07:30.994027",
     "exception": false,
     "start_time": "2022-10-27T12:07:30.982332",
     "status": "completed"
    },
    "tags": []
   },
   "source": [
    "Reduce dimension"
   ]
  },
  {
   "cell_type": "code",
   "execution_count": 13,
   "id": "2a15b5ae",
   "metadata": {
    "execution": {
     "iopub.execute_input": "2022-10-27T12:07:31.019827Z",
     "iopub.status.busy": "2022-10-27T12:07:31.019264Z",
     "iopub.status.idle": "2022-10-27T12:07:32.154612Z",
     "shell.execute_reply": "2022-10-27T12:07:32.153043Z"
    },
    "papermill": {
     "duration": 1.151759,
     "end_time": "2022-10-27T12:07:32.157590",
     "exception": false,
     "start_time": "2022-10-27T12:07:31.005831",
     "status": "completed"
    },
    "tags": []
   },
   "outputs": [],
   "source": [
    "from sklearn.decomposition import PCA, TruncatedSVD"
   ]
  },
  {
   "cell_type": "code",
   "execution_count": 14,
   "id": "6a0aaef3",
   "metadata": {
    "execution": {
     "iopub.execute_input": "2022-10-27T12:07:32.183646Z",
     "iopub.status.busy": "2022-10-27T12:07:32.183107Z",
     "iopub.status.idle": "2022-10-27T12:33:19.257512Z",
     "shell.execute_reply": "2022-10-27T12:33:19.256315Z"
    },
    "papermill": {
     "duration": 1547.106479,
     "end_time": "2022-10-27T12:33:19.275839",
     "exception": false,
     "start_time": "2022-10-27T12:07:32.169360",
     "status": "completed"
    },
    "tags": []
   },
   "outputs": [
    {
     "name": "stdout",
     "output_type": "stream",
     "text": [
      "Sum of Explained Variance:  0.19551416\n",
      "CPU times: user 25min 55s, sys: 15.2 s, total: 26min 11s\n",
      "Wall time: 25min 47s\n"
     ]
    },
    {
     "data": {
      "text/plain": [
       "21"
      ]
     },
     "execution_count": 14,
     "metadata": {},
     "output_type": "execute_result"
    }
   ],
   "source": [
    "%%time\n",
    "## Baseline\n",
    "train_inp_tsvd = TruncatedSVD(n_components=512, \n",
    "                              random_state=42)\n",
    "\n",
    "train_inp = train_inp_tsvd.fit_transform(train_inp)\n",
    "print('Sum of Explained Variance: ',\n",
    "      np.sum(train_inp_tsvd.explained_variance_ratio_))\n",
    "train_inp = np.hstack([train_inp, train_inp_sn])\n",
    "del train_inp_sn\n",
    "gc.collect()"
   ]
  },
  {
   "cell_type": "code",
   "execution_count": 15,
   "id": "1456b89c",
   "metadata": {
    "execution": {
     "iopub.execute_input": "2022-10-27T12:33:19.304958Z",
     "iopub.status.busy": "2022-10-27T12:33:19.304488Z",
     "iopub.status.idle": "2022-10-27T12:34:16.185092Z",
     "shell.execute_reply": "2022-10-27T12:34:16.184028Z"
    },
    "papermill": {
     "duration": 56.909664,
     "end_time": "2022-10-27T12:34:16.199103",
     "exception": false,
     "start_time": "2022-10-27T12:33:19.289439",
     "status": "completed"
    },
    "tags": []
   },
   "outputs": [
    {
     "data": {
      "text/plain": [
       "21"
      ]
     },
     "execution_count": 15,
     "metadata": {},
     "output_type": "execute_result"
    }
   ],
   "source": [
    "test_inp = train_inp_tsvd.transform(test_inp)\n",
    "test_inp = np.hstack([test_inp, test_inp_sn])\n",
    "del test_inp_sn\n",
    "gc.collect()"
   ]
  },
  {
   "cell_type": "markdown",
   "id": "abafdd14",
   "metadata": {
    "papermill": {
     "duration": 0.011726,
     "end_time": "2022-10-27T12:34:16.222859",
     "exception": false,
     "start_time": "2022-10-27T12:34:16.211133",
     "status": "completed"
    },
    "tags": []
   },
   "source": [
    "## Modeling"
   ]
  },
  {
   "cell_type": "markdown",
   "id": "784b782a",
   "metadata": {
    "papermill": {
     "duration": 0.011645,
     "end_time": "2022-10-27T12:34:16.246460",
     "exception": false,
     "start_time": "2022-10-27T12:34:16.234815",
     "status": "completed"
    },
    "tags": []
   },
   "source": [
    "### Loss Function"
   ]
  },
  {
   "cell_type": "code",
   "execution_count": 16,
   "id": "b0698483",
   "metadata": {
    "execution": {
     "iopub.execute_input": "2022-10-27T12:34:16.272553Z",
     "iopub.status.busy": "2022-10-27T12:34:16.272120Z",
     "iopub.status.idle": "2022-10-27T12:34:16.280048Z",
     "shell.execute_reply": "2022-10-27T12:34:16.278910Z"
    },
    "papermill": {
     "duration": 0.023653,
     "end_time": "2022-10-27T12:34:16.282263",
     "exception": false,
     "start_time": "2022-10-27T12:34:16.258610",
     "status": "completed"
    },
    "tags": []
   },
   "outputs": [],
   "source": [
    "def correlation_score(y_true, y_pred):\n",
    "    \"\"\"Scores the predictions according to the competition rules. \n",
    "    It is assumed that the predictions are not constant.\n",
    "    Returns the average of each sample's Pearson correlation coefficient\"\"\"\n",
    "    if type(y_true) == pd.DataFrame: y_true = y_true.values\n",
    "    if type(y_pred) == pd.DataFrame: y_pred = y_pred.values\n",
    "    if y_true.shape != y_pred.shape: raise ValueError(\"Shapes are different.\")\n",
    "    corrsum = 0\n",
    "    for i in range(len(y_true)):\n",
    "        corrsum += np.corrcoef(y_true[i], y_pred[i])[1, 0]\n",
    "    return corrsum / len(y_true)"
   ]
  },
  {
   "cell_type": "markdown",
   "id": "02f1b838",
   "metadata": {
    "papermill": {
     "duration": 0.011754,
     "end_time": "2022-10-27T12:34:16.306120",
     "exception": false,
     "start_time": "2022-10-27T12:34:16.294366",
     "status": "completed"
    },
    "tags": []
   },
   "source": [
    "### Modeling"
   ]
  },
  {
   "cell_type": "code",
   "execution_count": 17,
   "id": "e149cf11",
   "metadata": {
    "execution": {
     "iopub.execute_input": "2022-10-27T12:34:16.333035Z",
     "iopub.status.busy": "2022-10-27T12:34:16.332619Z",
     "iopub.status.idle": "2022-10-27T12:34:16.337486Z",
     "shell.execute_reply": "2022-10-27T12:34:16.336541Z"
    },
    "papermill": {
     "duration": 0.020447,
     "end_time": "2022-10-27T12:34:16.339543",
     "exception": false,
     "start_time": "2022-10-27T12:34:16.319096",
     "status": "completed"
    },
    "tags": []
   },
   "outputs": [],
   "source": [
    "from sklearn.linear_model import Ridge\n",
    "from sklearn.model_selection import train_test_split"
   ]
  },
  {
   "cell_type": "code",
   "execution_count": 18,
   "id": "9d5b35b6",
   "metadata": {
    "execution": {
     "iopub.execute_input": "2022-10-27T12:34:16.365828Z",
     "iopub.status.busy": "2022-10-27T12:34:16.365194Z",
     "iopub.status.idle": "2022-10-27T12:34:16.515403Z",
     "shell.execute_reply": "2022-10-27T12:34:16.514163Z"
    },
    "papermill": {
     "duration": 0.16617,
     "end_time": "2022-10-27T12:34:16.517867",
     "exception": false,
     "start_time": "2022-10-27T12:34:16.351697",
     "status": "completed"
    },
    "tags": []
   },
   "outputs": [
    {
     "name": "stdout",
     "output_type": "stream",
     "text": [
      "CPU times: user 104 ms, sys: 38 ms, total: 142 ms\n",
      "Wall time: 144 ms\n"
     ]
    }
   ],
   "source": [
    "%%time\n",
    "X_train, X_val, y_train, y_val = train_test_split(train_inp,\n",
    "                                                  train_tar,\n",
    "                                                  test_size=0.2,\n",
    "                                                  random_state=42)"
   ]
  },
  {
   "cell_type": "code",
   "execution_count": 19,
   "id": "316851b2",
   "metadata": {
    "execution": {
     "iopub.execute_input": "2022-10-27T12:34:16.546750Z",
     "iopub.status.busy": "2022-10-27T12:34:16.544320Z",
     "iopub.status.idle": "2022-10-27T12:34:16.676020Z",
     "shell.execute_reply": "2022-10-27T12:34:16.674772Z"
    },
    "papermill": {
     "duration": 0.148339,
     "end_time": "2022-10-27T12:34:16.678883",
     "exception": false,
     "start_time": "2022-10-27T12:34:16.530544",
     "status": "completed"
    },
    "tags": []
   },
   "outputs": [
    {
     "data": {
      "text/plain": [
       "84"
      ]
     },
     "execution_count": 19,
     "metadata": {},
     "output_type": "execute_result"
    }
   ],
   "source": [
    "del train_inp, train_tar\n",
    "gc.collect()"
   ]
  },
  {
   "cell_type": "code",
   "execution_count": 20,
   "id": "42e51278",
   "metadata": {
    "execution": {
     "iopub.execute_input": "2022-10-27T12:34:16.705414Z",
     "iopub.status.busy": "2022-10-27T12:34:16.704994Z",
     "iopub.status.idle": "2022-10-27T12:34:17.245505Z",
     "shell.execute_reply": "2022-10-27T12:34:17.243720Z"
    },
    "papermill": {
     "duration": 0.558428,
     "end_time": "2022-10-27T12:34:17.249736",
     "exception": false,
     "start_time": "2022-10-27T12:34:16.691308",
     "status": "completed"
    },
    "tags": []
   },
   "outputs": [
    {
     "name": "stdout",
     "output_type": "stream",
     "text": [
      "CPU times: user 1.53 s, sys: 175 ms, total: 1.71 s\n",
      "Wall time: 522 ms\n"
     ]
    },
    {
     "data": {
      "text/plain": [
       "Ridge(copy_X=False, random_state=42)"
      ]
     },
     "execution_count": 20,
     "metadata": {},
     "output_type": "execute_result"
    }
   ],
   "source": [
    "%%time\n",
    "ridge = Ridge(copy_X=False, random_state=42)\n",
    "ridge.fit(X_train, y_train)"
   ]
  },
  {
   "cell_type": "code",
   "execution_count": 21,
   "id": "985f5254",
   "metadata": {
    "execution": {
     "iopub.execute_input": "2022-10-27T12:34:17.359702Z",
     "iopub.status.busy": "2022-10-27T12:34:17.359274Z",
     "iopub.status.idle": "2022-10-27T12:34:23.536561Z",
     "shell.execute_reply": "2022-10-27T12:34:23.535117Z"
    },
    "papermill": {
     "duration": 6.217161,
     "end_time": "2022-10-27T12:34:23.539258",
     "exception": false,
     "start_time": "2022-10-27T12:34:17.322097",
     "status": "completed"
    },
    "tags": []
   },
   "outputs": [
    {
     "name": "stdout",
     "output_type": "stream",
     "text": [
      "CPU times: user 6.64 s, sys: 236 ms, total: 6.87 s\n",
      "Wall time: 6.17 s\n"
     ]
    },
    {
     "data": {
      "text/plain": [
       "0.22166283035863046"
      ]
     },
     "execution_count": 21,
     "metadata": {},
     "output_type": "execute_result"
    }
   ],
   "source": [
    "%%time\n",
    "correlation_score(y_train, ridge.predict(X_train))"
   ]
  },
  {
   "cell_type": "code",
   "execution_count": 22,
   "id": "b58339dd",
   "metadata": {
    "execution": {
     "iopub.execute_input": "2022-10-27T12:34:23.567246Z",
     "iopub.status.busy": "2022-10-27T12:34:23.566786Z",
     "iopub.status.idle": "2022-10-27T12:34:25.128891Z",
     "shell.execute_reply": "2022-10-27T12:34:25.127697Z"
    },
    "papermill": {
     "duration": 1.578507,
     "end_time": "2022-10-27T12:34:25.131304",
     "exception": false,
     "start_time": "2022-10-27T12:34:23.552797",
     "status": "completed"
    },
    "tags": []
   },
   "outputs": [
    {
     "name": "stdout",
     "output_type": "stream",
     "text": [
      "CPU times: user 1.79 s, sys: 207 ms, total: 2 s\n",
      "Wall time: 1.55 s\n"
     ]
    },
    {
     "data": {
      "text/plain": [
       "0.8928016074163969"
      ]
     },
     "execution_count": 22,
     "metadata": {},
     "output_type": "execute_result"
    }
   ],
   "source": [
    "%%time\n",
    "correlation_score(y_val, ridge.predict(X_val))"
   ]
  },
  {
   "cell_type": "code",
   "execution_count": 23,
   "id": "fa28c115",
   "metadata": {
    "execution": {
     "iopub.execute_input": "2022-10-27T12:34:25.159557Z",
     "iopub.status.busy": "2022-10-27T12:34:25.159120Z",
     "iopub.status.idle": "2022-10-27T12:34:25.289357Z",
     "shell.execute_reply": "2022-10-27T12:34:25.288511Z"
    },
    "papermill": {
     "duration": 0.14754,
     "end_time": "2022-10-27T12:34:25.291692",
     "exception": false,
     "start_time": "2022-10-27T12:34:25.144152",
     "status": "completed"
    },
    "tags": []
   },
   "outputs": [
    {
     "data": {
      "text/plain": [
       "84"
      ]
     },
     "execution_count": 23,
     "metadata": {},
     "output_type": "execute_result"
    }
   ],
   "source": [
    "del X_train, X_val, y_train, y_val\n",
    "gc.collect()"
   ]
  },
  {
   "cell_type": "markdown",
   "id": "f4fbe231",
   "metadata": {
    "papermill": {
     "duration": 0.012377,
     "end_time": "2022-10-27T12:34:25.316816",
     "exception": false,
     "start_time": "2022-10-27T12:34:25.304439",
     "status": "completed"
    },
    "tags": []
   },
   "source": [
    "## Prediction "
   ]
  },
  {
   "cell_type": "code",
   "execution_count": 24,
   "id": "0c54dfdc",
   "metadata": {
    "execution": {
     "iopub.execute_input": "2022-10-27T12:34:25.345379Z",
     "iopub.status.busy": "2022-10-27T12:34:25.344988Z",
     "iopub.status.idle": "2022-10-27T12:34:25.497497Z",
     "shell.execute_reply": "2022-10-27T12:34:25.495956Z"
    },
    "papermill": {
     "duration": 0.171717,
     "end_time": "2022-10-27T12:34:25.501763",
     "exception": false,
     "start_time": "2022-10-27T12:34:25.330046",
     "status": "completed"
    },
    "tags": []
   },
   "outputs": [
    {
     "name": "stdout",
     "output_type": "stream",
     "text": [
      "CPU times: user 436 ms, sys: 44.9 ms, total: 481 ms\n",
      "Wall time: 142 ms\n"
     ]
    },
    {
     "data": {
      "text/plain": [
       "(48663, 140)"
      ]
     },
     "execution_count": 24,
     "metadata": {},
     "output_type": "execute_result"
    }
   ],
   "source": [
    "%%time\n",
    "test_tar_preds = ridge.predict(test_inp)\n",
    "test_tar_preds.shape"
   ]
  },
  {
   "cell_type": "code",
   "execution_count": 25,
   "id": "07b1943b",
   "metadata": {
    "execution": {
     "iopub.execute_input": "2022-10-27T12:34:25.571530Z",
     "iopub.status.busy": "2022-10-27T12:34:25.570839Z",
     "iopub.status.idle": "2022-10-27T12:34:25.703855Z",
     "shell.execute_reply": "2022-10-27T12:34:25.702844Z"
    },
    "papermill": {
     "duration": 0.17094,
     "end_time": "2022-10-27T12:34:25.706254",
     "exception": false,
     "start_time": "2022-10-27T12:34:25.535314",
     "status": "completed"
    },
    "tags": []
   },
   "outputs": [
    {
     "data": {
      "text/plain": [
       "42"
      ]
     },
     "execution_count": 25,
     "metadata": {},
     "output_type": "execute_result"
    }
   ],
   "source": [
    "del test_inp\n",
    "gc.collect()"
   ]
  },
  {
   "cell_type": "markdown",
   "id": "f7b7b419",
   "metadata": {
    "papermill": {
     "duration": 0.013842,
     "end_time": "2022-10-27T12:34:25.733551",
     "exception": false,
     "start_time": "2022-10-27T12:34:25.719709",
     "status": "completed"
    },
    "tags": []
   },
   "source": [
    "## Creating Submission"
   ]
  },
  {
   "cell_type": "code",
   "execution_count": 26,
   "id": "eb3f6a63",
   "metadata": {
    "execution": {
     "iopub.execute_input": "2022-10-27T12:34:25.762621Z",
     "iopub.status.busy": "2022-10-27T12:34:25.761804Z",
     "iopub.status.idle": "2022-10-27T12:34:26.933251Z",
     "shell.execute_reply": "2022-10-27T12:34:26.931958Z"
    },
    "papermill": {
     "duration": 1.188673,
     "end_time": "2022-10-27T12:34:26.935805",
     "exception": false,
     "start_time": "2022-10-27T12:34:25.747132",
     "status": "completed"
    },
    "tags": []
   },
   "outputs": [
    {
     "name": "stdout",
     "output_type": "stream",
     "text": [
      "total 7.1G\r\n",
      "-rw-r--r-- 1 nobody nogroup  25K Oct 25 09:30 __notebook__.ipynb\r\n",
      "-rw-r--r-- 1 nobody nogroup  25K Oct 25 09:30 __output__.json\r\n",
      "-rw-r--r-- 1 nobody nogroup 293K Oct 25 09:30 __results__.html\r\n",
      "-rw-r--r-- 1 nobody nogroup    0 Oct 25 09:30 custom.css\r\n",
      "-rw-r--r-- 1 nobody nogroup 359M Oct 25 09:30 evaluation_ids.parquet\r\n",
      "-rw-r--r-- 1 nobody nogroup 3.8M Oct 25 09:30 metadata.parquet\r\n",
      "-rw-r--r-- 1 nobody nogroup 108K Oct 25 09:30 metadata_cite_day_2_donor_27678.parquet\r\n",
      "-rw-r--r-- 1 nobody nogroup 252M Oct 25 09:30 sample_submission.parquet\r\n",
      "-rw-r--r-- 1 nobody nogroup 856K Oct 25 09:30 test_cite_inputs_day_2_donor_27678_idx.npz\r\n",
      "-rw-r--r-- 1 nobody nogroup  78M Oct 25 09:30 test_cite_inputs_day_2_donor_27678_val.sparse.npz\r\n",
      "-rw-r--r-- 1 nobody nogroup 1.8M Oct 25 09:30 test_cite_inputs_idx.npz\r\n",
      "-rw-r--r-- 1 nobody nogroup 488M Oct 25 09:31 test_cite_inputs_val.sparse.npz\r\n",
      "-rw-r--r-- 1 nobody nogroup 8.4M Oct 25 09:30 test_multi_inputs_idx.npz\r\n",
      "-rw-r--r-- 1 nobody nogroup 1.7G Oct 25 09:31 test_multi_inputs_val.sparse.npz\r\n",
      "-rw-r--r-- 1 nobody nogroup 2.2M Oct 25 09:30 train_cite_inputs_idx.npz\r\n",
      "-rw-r--r-- 1 nobody nogroup 712M Oct 25 09:31 train_cite_inputs_val.sparse.npz\r\n",
      "-rw-r--r-- 1 nobody nogroup 1.5M Oct 25 09:30 train_cite_targets_idx.npz\r\n",
      "-rw-r--r-- 1 nobody nogroup  36M Oct 25 09:30 train_cite_targets_val.sparse.npz\r\n",
      "-rw-r--r-- 1 nobody nogroup 9.5M Oct 25 09:30 train_multi_inputs_idx.npz\r\n",
      "-rw-r--r-- 1 nobody nogroup 2.8G Oct 25 09:31 train_multi_inputs_val.sparse.npz\r\n",
      "-rw-r--r-- 1 nobody nogroup 2.8M Oct 25 09:30 train_multi_targets_idx.npz\r\n",
      "-rw-r--r-- 1 nobody nogroup 824M Oct 25 09:31 train_multi_targets_val.sparse.npz\r\n"
     ]
    }
   ],
   "source": [
    "DATA_DIR = '../input/msci-h5-sparse-transform'\n",
    "%ls $DATA_DIR -lh"
   ]
  },
  {
   "cell_type": "code",
   "execution_count": 27,
   "id": "60a1a0a1",
   "metadata": {
    "execution": {
     "iopub.execute_input": "2022-10-27T12:34:26.965147Z",
     "iopub.status.busy": "2022-10-27T12:34:26.964629Z",
     "iopub.status.idle": "2022-10-27T12:34:27.041574Z",
     "shell.execute_reply": "2022-10-27T12:34:27.040064Z"
    },
    "papermill": {
     "duration": 0.094835,
     "end_time": "2022-10-27T12:34:27.044229",
     "exception": false,
     "start_time": "2022-10-27T12:34:26.949394",
     "status": "completed"
    },
    "tags": []
   },
   "outputs": [
    {
     "data": {
      "text/plain": [
       "((140,), (48663,), (48663, 140))"
      ]
     },
     "execution_count": 27,
     "metadata": {},
     "output_type": "execute_result"
    }
   ],
   "source": [
    "test_tar_cols = np.load(f'{DATA_DIR}/train_cite_targets_idx.npz',\n",
    "                        allow_pickle=True)['columns']\n",
    "test_tar_idx = np.load(f'{DATA_DIR}/test_cite_inputs_idx.npz',\n",
    "                       allow_pickle=True)['index']\n",
    "test_tar_cols.shape, test_tar_idx.shape, test_tar_preds.shape"
   ]
  },
  {
   "cell_type": "code",
   "execution_count": 28,
   "id": "6b2a120f",
   "metadata": {
    "execution": {
     "iopub.execute_input": "2022-10-27T12:34:27.072545Z",
     "iopub.status.busy": "2022-10-27T12:34:27.072123Z",
     "iopub.status.idle": "2022-10-27T12:35:03.125499Z",
     "shell.execute_reply": "2022-10-27T12:35:03.124454Z"
    },
    "papermill": {
     "duration": 36.078639,
     "end_time": "2022-10-27T12:35:03.136397",
     "exception": false,
     "start_time": "2022-10-27T12:34:27.057758",
     "status": "completed"
    },
    "tags": []
   },
   "outputs": [
    {
     "name": "stdout",
     "output_type": "stream",
     "text": [
      "Start Eval...\n",
      "CPU times: user 29.6 s, sys: 13.5 s, total: 43.1 s\n",
      "Wall time: 36 s\n"
     ]
    }
   ],
   "source": [
    "%%time\n",
    "print('Start Eval...')\n",
    "eval_ids = pd.read_parquet(f'{DATA_DIR}/evaluation_ids.parquet')\n",
    "eval_ids.cell_id = eval_ids.cell_id.astype(pd.CategoricalDtype())\n",
    "eval_ids.gene_id = eval_ids.gene_id.astype(pd.CategoricalDtype())"
   ]
  },
  {
   "cell_type": "code",
   "execution_count": 29,
   "id": "195dd513",
   "metadata": {
    "execution": {
     "iopub.execute_input": "2022-10-27T12:35:03.165328Z",
     "iopub.status.busy": "2022-10-27T12:35:03.164398Z",
     "iopub.status.idle": "2022-10-27T12:35:29.317064Z",
     "shell.execute_reply": "2022-10-27T12:35:29.315398Z"
    },
    "papermill": {
     "duration": 26.170073,
     "end_time": "2022-10-27T12:35:29.319690",
     "exception": false,
     "start_time": "2022-10-27T12:35:03.149617",
     "status": "completed"
    },
    "tags": []
   },
   "outputs": [
    {
     "name": "stdout",
     "output_type": "stream",
     "text": [
      "CPU times: user 22.3 s, sys: 3.65 s, total: 25.9 s\n",
      "Wall time: 25.9 s\n"
     ]
    },
    {
     "data": {
      "text/plain": [
       "row_id    cell_id       gene_id        \n",
       "0         c2150f55becb  CD86              NaN\n",
       "1         c2150f55becb  CD274             NaN\n",
       "2         c2150f55becb  CD270             NaN\n",
       "3         c2150f55becb  CD155             NaN\n",
       "4         c2150f55becb  CD112             NaN\n",
       "                                           ..\n",
       "65744175  2c53aa67933d  ENSG00000134419   NaN\n",
       "65744176  2c53aa67933d  ENSG00000186862   NaN\n",
       "65744177  2c53aa67933d  ENSG00000170959   NaN\n",
       "65744178  2c53aa67933d  ENSG00000107874   NaN\n",
       "65744179  2c53aa67933d  ENSG00000166012   NaN\n",
       "Name: target, Length: 65744180, dtype: float32"
      ]
     },
     "execution_count": 29,
     "metadata": {},
     "output_type": "execute_result"
    }
   ],
   "source": [
    "%%time\n",
    "sub = pd.Series(name='target',\n",
    "                index=pd.MultiIndex.from_frame(eval_ids), \n",
    "                dtype=np.float32)\n",
    "sub"
   ]
  },
  {
   "cell_type": "code",
   "execution_count": 30,
   "id": "403e7f9c",
   "metadata": {
    "execution": {
     "iopub.execute_input": "2022-10-27T12:35:29.349657Z",
     "iopub.status.busy": "2022-10-27T12:35:29.348566Z",
     "iopub.status.idle": "2022-10-27T12:35:29.367699Z",
     "shell.execute_reply": "2022-10-27T12:35:29.366286Z"
    },
    "papermill": {
     "duration": 0.037686,
     "end_time": "2022-10-27T12:35:29.370837",
     "exception": false,
     "start_time": "2022-10-27T12:35:29.333151",
     "status": "completed"
    },
    "tags": []
   },
   "outputs": [],
   "source": [
    "cell_id_dict = {cell_id: idx \n",
    "                for idx, cell_id in enumerate(test_tar_idx, 0)}\n",
    "gene_id_dict = {gene_id: idx \n",
    "                for idx, gene_id in enumerate(test_tar_cols, 0)}"
   ]
  },
  {
   "cell_type": "code",
   "execution_count": 31,
   "id": "2cf3ee15",
   "metadata": {
    "execution": {
     "iopub.execute_input": "2022-10-27T12:35:29.400799Z",
     "iopub.status.busy": "2022-10-27T12:35:29.400337Z",
     "iopub.status.idle": "2022-10-27T12:35:33.313259Z",
     "shell.execute_reply": "2022-10-27T12:35:33.309183Z"
    },
    "papermill": {
     "duration": 3.936883,
     "end_time": "2022-10-27T12:35:33.321717",
     "exception": false,
     "start_time": "2022-10-27T12:35:29.384834",
     "status": "completed"
    },
    "tags": []
   },
   "outputs": [],
   "source": [
    "eid_cid_idx = eval_ids['cell_id']\\\n",
    "              .apply(lambda x: cell_id_dict.get(x, -1))\n",
    "eid_gid_idx = eval_ids['gene_id']\\\n",
    "              .apply(lambda x: gene_id_dict.get(x, -1))\n",
    "valid_cite_rows = (eid_cid_idx != -1) & (eid_gid_idx != -1)"
   ]
  },
  {
   "cell_type": "code",
   "execution_count": 32,
   "id": "92066907",
   "metadata": {
    "execution": {
     "iopub.execute_input": "2022-10-27T12:35:33.353719Z",
     "iopub.status.busy": "2022-10-27T12:35:33.352741Z",
     "iopub.status.idle": "2022-10-27T12:35:33.973398Z",
     "shell.execute_reply": "2022-10-27T12:35:33.972021Z"
    },
    "papermill": {
     "duration": 0.63833,
     "end_time": "2022-10-27T12:35:33.976016",
     "exception": false,
     "start_time": "2022-10-27T12:35:33.337686",
     "status": "completed"
    },
    "tags": []
   },
   "outputs": [
    {
     "name": "stdout",
     "output_type": "stream",
     "text": [
      "CPU times: user 383 ms, sys: 230 ms, total: 613 ms\n",
      "Wall time: 613 ms\n"
     ]
    }
   ],
   "source": [
    "%%time\n",
    "sub.iloc[valid_cite_rows] = test_tar_preds\\\n",
    "                             [eid_cid_idx[valid_cite_rows].to_numpy(),\n",
    "                              eid_gid_idx[valid_cite_rows].to_numpy()]"
   ]
  },
  {
   "cell_type": "code",
   "execution_count": 33,
   "id": "ec7d1e7f",
   "metadata": {
    "execution": {
     "iopub.execute_input": "2022-10-27T12:35:34.006365Z",
     "iopub.status.busy": "2022-10-27T12:35:34.005573Z",
     "iopub.status.idle": "2022-10-27T12:35:34.200455Z",
     "shell.execute_reply": "2022-10-27T12:35:34.198984Z"
    },
    "papermill": {
     "duration": 0.21248,
     "end_time": "2022-10-27T12:35:34.202914",
     "exception": false,
     "start_time": "2022-10-27T12:35:33.990434",
     "status": "completed"
    },
    "tags": []
   },
   "outputs": [
    {
     "data": {
      "text/plain": [
       "97"
      ]
     },
     "execution_count": 33,
     "metadata": {},
     "output_type": "execute_result"
    }
   ],
   "source": [
    "del eval_ids, test_tar_idx, test_tar_cols\n",
    "del eid_cid_idx, eid_gid_idx, valid_cite_rows\n",
    "gc.collect()"
   ]
  },
  {
   "cell_type": "code",
   "execution_count": 34,
   "id": "1f01b019",
   "metadata": {
    "execution": {
     "iopub.execute_input": "2022-10-27T12:35:34.233401Z",
     "iopub.status.busy": "2022-10-27T12:35:34.232052Z",
     "iopub.status.idle": "2022-10-27T12:37:11.984533Z",
     "shell.execute_reply": "2022-10-27T12:37:11.983278Z"
    },
    "papermill": {
     "duration": 97.770524,
     "end_time": "2022-10-27T12:37:11.987396",
     "exception": false,
     "start_time": "2022-10-27T12:35:34.216872",
     "status": "completed"
    },
    "tags": []
   },
   "outputs": [],
   "source": [
    "sub = pd.DataFrame(sub).fillna(0).reset_index()\n",
    "sub.drop(['cell_id', 'gene_id'], axis=1)\\\n",
    "   .to_csv('cite_sub.csv', index=False)"
   ]
  }
 ],
 "metadata": {
  "kernelspec": {
   "display_name": "Python 3",
   "language": "python",
   "name": "python3"
  },
  "language_info": {
   "codemirror_mode": {
    "name": "ipython",
    "version": 3
   },
   "file_extension": ".py",
   "mimetype": "text/x-python",
   "name": "python",
   "nbconvert_exporter": "python",
   "pygments_lexer": "ipython3",
   "version": "3.7.12"
  },
  "papermill": {
   "default_parameters": {},
   "duration": 2029.135085,
   "end_time": "2022-10-27T12:37:13.132567",
   "environment_variables": {},
   "exception": null,
   "input_path": "__notebook__.ipynb",
   "output_path": "__notebook__.ipynb",
   "parameters": {},
   "start_time": "2022-10-27T12:03:23.997482",
   "version": "2.3.4"
  }
 },
 "nbformat": 4,
 "nbformat_minor": 5
}
