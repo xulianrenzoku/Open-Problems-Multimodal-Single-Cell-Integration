{
 "cells": [
  {
   "cell_type": "code",
   "execution_count": 1,
   "id": "062a315e",
   "metadata": {
    "_cell_guid": "b1076dfc-b9ad-4769-8c92-a6c4dae69d19",
    "_uuid": "8f2839f25d086af736a60e9eeb907d3b93b6e0e5",
    "execution": {
     "iopub.execute_input": "2022-11-08T13:46:00.835219Z",
     "iopub.status.busy": "2022-11-08T13:46:00.834319Z",
     "iopub.status.idle": "2022-11-08T13:46:00.950813Z",
     "shell.execute_reply": "2022-11-08T13:46:00.949371Z"
    },
    "papermill": {
     "duration": 0.129921,
     "end_time": "2022-11-08T13:46:00.954068",
     "exception": false,
     "start_time": "2022-11-08T13:46:00.824147",
     "status": "completed"
    },
    "tags": []
   },
   "outputs": [],
   "source": [
    "import os\n",
    "import os.path\n",
    "import random\n",
    "import gc\n",
    "import numpy as np\n",
    "import pandas as pd\n",
    "import scipy.sparse\n",
    "from tqdm import tqdm"
   ]
  },
  {
   "cell_type": "code",
   "execution_count": 2,
   "id": "47835220",
   "metadata": {
    "execution": {
     "iopub.execute_input": "2022-11-08T13:46:00.971732Z",
     "iopub.status.busy": "2022-11-08T13:46:00.971041Z",
     "iopub.status.idle": "2022-11-08T13:46:00.976560Z",
     "shell.execute_reply": "2022-11-08T13:46:00.975367Z"
    },
    "papermill": {
     "duration": 0.016345,
     "end_time": "2022-11-08T13:46:00.978960",
     "exception": false,
     "start_time": "2022-11-08T13:46:00.962615",
     "status": "completed"
    },
    "tags": []
   },
   "outputs": [],
   "source": [
    "import warnings \n",
    "warnings.filterwarnings('ignore')"
   ]
  },
  {
   "cell_type": "markdown",
   "id": "3dd91f0c",
   "metadata": {
    "papermill": {
     "duration": 0.006206,
     "end_time": "2022-11-08T13:46:00.991888",
     "exception": false,
     "start_time": "2022-11-08T13:46:00.985682",
     "status": "completed"
    },
    "tags": []
   },
   "source": [
    "## Load Model"
   ]
  },
  {
   "cell_type": "code",
   "execution_count": 3,
   "id": "cf02fb26",
   "metadata": {
    "execution": {
     "iopub.execute_input": "2022-11-08T13:46:01.007640Z",
     "iopub.status.busy": "2022-11-08T13:46:01.006764Z",
     "iopub.status.idle": "2022-11-08T13:46:03.266498Z",
     "shell.execute_reply": "2022-11-08T13:46:03.265117Z"
    },
    "papermill": {
     "duration": 2.271402,
     "end_time": "2022-11-08T13:46:03.269769",
     "exception": false,
     "start_time": "2022-11-08T13:46:00.998367",
     "status": "completed"
    },
    "tags": []
   },
   "outputs": [],
   "source": [
    "import torch\n",
    "import torch.nn as nn\n",
    "import torch.nn.functional as F\n",
    "import torch.optim as optim\n",
    "from torch.utils.data import DataLoader, TensorDataset, Dataset, random_split"
   ]
  },
  {
   "cell_type": "code",
   "execution_count": 4,
   "id": "f4ebf9ed",
   "metadata": {
    "execution": {
     "iopub.execute_input": "2022-11-08T13:46:03.285741Z",
     "iopub.status.busy": "2022-11-08T13:46:03.284999Z",
     "iopub.status.idle": "2022-11-08T13:46:04.393374Z",
     "shell.execute_reply": "2022-11-08T13:46:04.391950Z"
    },
    "papermill": {
     "duration": 1.119818,
     "end_time": "2022-11-08T13:46:04.396432",
     "exception": false,
     "start_time": "2022-11-08T13:46:03.276614",
     "status": "completed"
    },
    "tags": []
   },
   "outputs": [
    {
     "name": "stdout",
     "output_type": "stream",
     "text": [
      "total 496M\r\n",
      "-rw-r--r-- 1 nobody nogroup 183K Nov  8 13:45 __notebook__.ipynb\r\n",
      "-rw-r--r-- 1 nobody nogroup  21K Nov  8 13:45 __output__.json\r\n",
      "-rw-r--r-- 1 nobody nogroup 350K Nov  8 13:45 __results__.html\r\n",
      "drwxr-xr-x 2 nobody nogroup    0 Nov  8 13:45 \u001b[0m\u001b[01;34m__results___files\u001b[0m/\r\n",
      "-rw-r--r-- 1 nobody nogroup    0 Nov  8 13:45 custom.css\r\n",
      "-rw-r--r-- 1 nobody nogroup 496M Nov  8 13:45 mlp_multi.pt\r\n"
     ]
    }
   ],
   "source": [
    "DATA_DIR = '../input/msci-multi-mlp-sparse-lrs'\n",
    "%ls $DATA_DIR -lh"
   ]
  },
  {
   "cell_type": "code",
   "execution_count": 5,
   "id": "ff88cd59",
   "metadata": {
    "execution": {
     "iopub.execute_input": "2022-11-08T13:46:04.413441Z",
     "iopub.status.busy": "2022-11-08T13:46:04.412117Z",
     "iopub.status.idle": "2022-11-08T13:46:04.424562Z",
     "shell.execute_reply": "2022-11-08T13:46:04.423140Z"
    },
    "papermill": {
     "duration": 0.023788,
     "end_time": "2022-11-08T13:46:04.427223",
     "exception": false,
     "start_time": "2022-11-08T13:46:04.403435",
     "status": "completed"
    },
    "tags": []
   },
   "outputs": [],
   "source": [
    "class Net(nn.Module):\n",
    "    def __init__(self):\n",
    "        \"\"\"In the constructor we instantiate two nn.Linear modules and assign them as\n",
    "        member variables (self).\n",
    "        \"\"\"\n",
    "        super(Net, self).__init__()\n",
    "        self.linear1 = nn.Linear(228942, 128*4)\n",
    "        self.bn1 = nn.BatchNorm1d(128*4)\n",
    "        self.linear2 = nn.Linear(128*4, 128*4)\n",
    "        self.bn2 = nn.BatchNorm1d(128*4)\n",
    "        self.linear3 = nn.Linear(128*4, 128*4)\n",
    "        self.bn3 = nn.BatchNorm1d(128*4)\n",
    "        self.linear4 = nn.Linear(128*4, 23418)\n",
    "        \n",
    "    def forward(self, x):\n",
    "        \"\"\"\n",
    "        In the forward function we accept a Tensor of input data and we must return\n",
    "        a Tensor of output data. We can use Modules defined in the constructor as\n",
    "        well as arbitrary operators on Tensors.\n",
    "        \"\"\"\n",
    "        x = self.linear1(x)\n",
    "        x = self.bn1(x)\n",
    "        x = F.relu(x)\n",
    "        x = self.linear2(x)\n",
    "        x = self.bn2(x)\n",
    "        x = F.relu(x)\n",
    "        x = self.linear3(x)\n",
    "        x = self.bn3(x)\n",
    "        x = F.relu(x)\n",
    "        x = self.linear4(x)\n",
    "        x = F.relu(x)\n",
    "\n",
    "        return x"
   ]
  },
  {
   "cell_type": "code",
   "execution_count": 6,
   "id": "1238004e",
   "metadata": {
    "execution": {
     "iopub.execute_input": "2022-11-08T13:46:04.443085Z",
     "iopub.status.busy": "2022-11-08T13:46:04.442598Z",
     "iopub.status.idle": "2022-11-08T13:46:10.386661Z",
     "shell.execute_reply": "2022-11-08T13:46:10.385261Z"
    },
    "papermill": {
     "duration": 5.955934,
     "end_time": "2022-11-08T13:46:10.390055",
     "exception": false,
     "start_time": "2022-11-08T13:46:04.434121",
     "status": "completed"
    },
    "tags": []
   },
   "outputs": [],
   "source": [
    "net = torch.load(f'{DATA_DIR}/mlp_multi.pt',\n",
    "                 map_location=torch.device('cpu'))"
   ]
  },
  {
   "cell_type": "markdown",
   "id": "24d4017a",
   "metadata": {
    "papermill": {
     "duration": 0.006435,
     "end_time": "2022-11-08T13:46:10.405576",
     "exception": false,
     "start_time": "2022-11-08T13:46:10.399141",
     "status": "completed"
    },
    "tags": []
   },
   "source": [
    "## Prediction"
   ]
  },
  {
   "cell_type": "code",
   "execution_count": 7,
   "id": "9b698032",
   "metadata": {
    "execution": {
     "iopub.execute_input": "2022-11-08T13:46:10.421792Z",
     "iopub.status.busy": "2022-11-08T13:46:10.420690Z",
     "iopub.status.idle": "2022-11-08T13:46:11.533805Z",
     "shell.execute_reply": "2022-11-08T13:46:11.532482Z"
    },
    "papermill": {
     "duration": 1.124615,
     "end_time": "2022-11-08T13:46:11.537025",
     "exception": false,
     "start_time": "2022-11-08T13:46:10.412410",
     "status": "completed"
    },
    "tags": []
   },
   "outputs": [
    {
     "name": "stdout",
     "output_type": "stream",
     "text": [
      "total 7.1G\r\n",
      "-rw-r--r-- 1 nobody nogroup  25K Nov  6 19:06 __notebook__.ipynb\r\n",
      "-rw-r--r-- 1 nobody nogroup  25K Nov  6 19:06 __output__.json\r\n",
      "-rw-r--r-- 1 nobody nogroup 293K Nov  6 19:06 __results__.html\r\n",
      "-rw-r--r-- 1 nobody nogroup    0 Nov  6 19:06 custom.css\r\n",
      "-rw-r--r-- 1 nobody nogroup 359M Nov  6 19:07 evaluation_ids.parquet\r\n",
      "-rw-r--r-- 1 nobody nogroup 3.8M Nov  6 19:06 metadata.parquet\r\n",
      "-rw-r--r-- 1 nobody nogroup 108K Nov  6 19:06 metadata_cite_day_2_donor_27678.parquet\r\n",
      "-rw-r--r-- 1 nobody nogroup 252M Nov  6 19:06 sample_submission.parquet\r\n",
      "-rw-r--r-- 1 nobody nogroup 856K Nov  6 19:06 test_cite_inputs_day_2_donor_27678_idx.npz\r\n",
      "-rw-r--r-- 1 nobody nogroup  78M Nov  6 19:06 test_cite_inputs_day_2_donor_27678_val.sparse.npz\r\n",
      "-rw-r--r-- 1 nobody nogroup 1.8M Nov  6 19:06 test_cite_inputs_idx.npz\r\n",
      "-rw-r--r-- 1 nobody nogroup 488M Nov  6 19:07 test_cite_inputs_val.sparse.npz\r\n",
      "-rw-r--r-- 1 nobody nogroup 8.4M Nov  6 19:06 test_multi_inputs_idx.npz\r\n",
      "-rw-r--r-- 1 nobody nogroup 1.7G Nov  6 19:08 test_multi_inputs_val.sparse.npz\r\n",
      "-rw-r--r-- 1 nobody nogroup 2.2M Nov  6 19:06 train_cite_inputs_idx.npz\r\n",
      "-rw-r--r-- 1 nobody nogroup 712M Nov  6 19:07 train_cite_inputs_val.sparse.npz\r\n",
      "-rw-r--r-- 1 nobody nogroup 1.5M Nov  6 19:06 train_cite_targets_idx.npz\r\n",
      "-rw-r--r-- 1 nobody nogroup  36M Nov  6 19:06 train_cite_targets_val.sparse.npz\r\n",
      "-rw-r--r-- 1 nobody nogroup 9.5M Nov  6 19:06 train_multi_inputs_idx.npz\r\n",
      "-rw-r--r-- 1 nobody nogroup 2.8G Nov  6 19:08 train_multi_inputs_val.sparse.npz\r\n",
      "-rw-r--r-- 1 nobody nogroup 2.8M Nov  6 19:06 train_multi_targets_idx.npz\r\n",
      "-rw-r--r-- 1 nobody nogroup 824M Nov  6 19:07 train_multi_targets_val.sparse.npz\r\n"
     ]
    }
   ],
   "source": [
    "DATA_DIR = '../input/msci-h5-sparse-transform'\n",
    "%ls $DATA_DIR -lh"
   ]
  },
  {
   "cell_type": "code",
   "execution_count": 8,
   "id": "5b54bbb6",
   "metadata": {
    "execution": {
     "iopub.execute_input": "2022-11-08T13:46:11.552919Z",
     "iopub.status.busy": "2022-11-08T13:46:11.552402Z",
     "iopub.status.idle": "2022-11-08T13:46:53.227845Z",
     "shell.execute_reply": "2022-11-08T13:46:53.226601Z"
    },
    "papermill": {
     "duration": 41.6937,
     "end_time": "2022-11-08T13:46:53.237682",
     "exception": false,
     "start_time": "2022-11-08T13:46:11.543982",
     "status": "completed"
    },
    "tags": []
   },
   "outputs": [
    {
     "name": "stdout",
     "output_type": "stream",
     "text": [
      "CPU times: user 20.7 s, sys: 3.69 s, total: 24.4 s\n",
      "Wall time: 41.7 s\n"
     ]
    },
    {
     "data": {
      "text/plain": [
       "(55935, 228942)"
      ]
     },
     "execution_count": 8,
     "metadata": {},
     "output_type": "execute_result"
    }
   ],
   "source": [
    "%%time\n",
    "test_inp = scipy.sparse.load_npz(f'{DATA_DIR}/test_multi_inputs_val.sparse.npz')\n",
    "test_inp.shape"
   ]
  },
  {
   "cell_type": "code",
   "execution_count": 9,
   "id": "83a422c0",
   "metadata": {
    "execution": {
     "iopub.execute_input": "2022-11-08T13:46:53.255576Z",
     "iopub.status.busy": "2022-11-08T13:46:53.255089Z",
     "iopub.status.idle": "2022-11-08T13:46:53.261501Z",
     "shell.execute_reply": "2022-11-08T13:46:53.260351Z"
    },
    "papermill": {
     "duration": 0.018334,
     "end_time": "2022-11-08T13:46:53.263921",
     "exception": false,
     "start_time": "2022-11-08T13:46:53.245587",
     "status": "completed"
    },
    "tags": []
   },
   "outputs": [],
   "source": [
    "class SparsePredDataset(TensorDataset):\n",
    "    # https://discuss.pytorch.org/t/dataloader-loads-data-very-slow-on-sparse-tensor/117391/2\n",
    "    def __init__(self, inputs):\n",
    "        self.inputs = inputs\n",
    "    \n",
    "    def __getitem__(self, index):\n",
    "        return self.inputs[index]\n",
    "    \n",
    "    def __len__(self):\n",
    "        return self.inputs.shape[0]"
   ]
  },
  {
   "cell_type": "code",
   "execution_count": 10,
   "id": "8263fab1",
   "metadata": {
    "execution": {
     "iopub.execute_input": "2022-11-08T13:46:53.280197Z",
     "iopub.status.busy": "2022-11-08T13:46:53.279714Z",
     "iopub.status.idle": "2022-11-08T13:46:53.286950Z",
     "shell.execute_reply": "2022-11-08T13:46:53.286027Z"
    },
    "papermill": {
     "duration": 0.018193,
     "end_time": "2022-11-08T13:46:53.289142",
     "exception": false,
     "start_time": "2022-11-08T13:46:53.270949",
     "status": "completed"
    },
    "tags": []
   },
   "outputs": [],
   "source": [
    "def sparse_coo_to_tensor(coo):\n",
    "    values = coo.data\n",
    "    indices = np.vstack((coo.row, coo.col))\n",
    "    shape = coo.shape\n",
    "    \n",
    "    i = torch.LongTensor(indices)\n",
    "    v = torch.FloatTensor(values)\n",
    "    s = torch.Size(shape)\n",
    "    \n",
    "    return torch.sparse.FloatTensor(i, v, s)\n",
    "\n",
    "def sparse_batch_collate_pred(batch):\n",
    "    return sparse_coo_to_tensor(scipy.sparse.vstack(batch).tocoo())"
   ]
  },
  {
   "cell_type": "code",
   "execution_count": 11,
   "id": "6a1cf02c",
   "metadata": {
    "execution": {
     "iopub.execute_input": "2022-11-08T13:46:53.306288Z",
     "iopub.status.busy": "2022-11-08T13:46:53.304859Z",
     "iopub.status.idle": "2022-11-08T13:46:53.311959Z",
     "shell.execute_reply": "2022-11-08T13:46:53.310646Z"
    },
    "papermill": {
     "duration": 0.018883,
     "end_time": "2022-11-08T13:46:53.315054",
     "exception": false,
     "start_time": "2022-11-08T13:46:53.296171",
     "status": "completed"
    },
    "tags": []
   },
   "outputs": [],
   "source": [
    "batch_size = 1024\n",
    "test_ds = SparsePredDataset(test_inp)\n",
    "test_loader = DataLoader(test_ds, \n",
    "                         batch_size=batch_size, \n",
    "                         shuffle=False,\n",
    "                         collate_fn=sparse_batch_collate_pred)"
   ]
  },
  {
   "cell_type": "code",
   "execution_count": 12,
   "id": "d38287ca",
   "metadata": {
    "execution": {
     "iopub.execute_input": "2022-11-08T13:46:53.332704Z",
     "iopub.status.busy": "2022-11-08T13:46:53.332224Z",
     "iopub.status.idle": "2022-11-08T14:36:07.652125Z",
     "shell.execute_reply": "2022-11-08T14:36:07.650664Z"
    },
    "papermill": {
     "duration": 2954.339306,
     "end_time": "2022-11-08T14:36:07.662340",
     "exception": false,
     "start_time": "2022-11-08T13:46:53.323034",
     "status": "completed"
    },
    "tags": []
   },
   "outputs": [
    {
     "name": "stdout",
     "output_type": "stream",
     "text": [
      "CPU times: user 58min 15s, sys: 11.6 s, total: 58min 26s\n",
      "Wall time: 49min 14s\n"
     ]
    }
   ],
   "source": [
    "%%time\n",
    "with torch.no_grad():\n",
    "    net.eval()\n",
    "    test_tar_preds = []\n",
    "    \n",
    "    for i, x in enumerate(test_loader):\n",
    "#         x = x.to(device)\n",
    "        batch_preds = net(x).detach().numpy()\n",
    "        test_tar_preds.append(batch_preds)"
   ]
  },
  {
   "cell_type": "code",
   "execution_count": 13,
   "id": "0084d381",
   "metadata": {
    "execution": {
     "iopub.execute_input": "2022-11-08T14:36:07.679053Z",
     "iopub.status.busy": "2022-11-08T14:36:07.678586Z",
     "iopub.status.idle": "2022-11-08T14:36:11.164581Z",
     "shell.execute_reply": "2022-11-08T14:36:11.163194Z"
    },
    "papermill": {
     "duration": 3.504083,
     "end_time": "2022-11-08T14:36:11.173462",
     "exception": false,
     "start_time": "2022-11-08T14:36:07.669379",
     "status": "completed"
    },
    "tags": []
   },
   "outputs": [
    {
     "data": {
      "text/plain": [
       "(55935, 23418)"
      ]
     },
     "execution_count": 13,
     "metadata": {},
     "output_type": "execute_result"
    }
   ],
   "source": [
    "test_tar_preds = np.vstack(test_tar_preds)\n",
    "test_tar_preds.shape"
   ]
  },
  {
   "cell_type": "code",
   "execution_count": 14,
   "id": "44014163",
   "metadata": {
    "execution": {
     "iopub.execute_input": "2022-11-08T14:36:11.201156Z",
     "iopub.status.busy": "2022-11-08T14:36:11.197246Z",
     "iopub.status.idle": "2022-11-08T14:36:11.950903Z",
     "shell.execute_reply": "2022-11-08T14:36:11.949693Z"
    },
    "papermill": {
     "duration": 0.769722,
     "end_time": "2022-11-08T14:36:11.954151",
     "exception": false,
     "start_time": "2022-11-08T14:36:11.184429",
     "status": "completed"
    },
    "tags": []
   },
   "outputs": [
    {
     "data": {
      "text/plain": [
       "42"
      ]
     },
     "execution_count": 14,
     "metadata": {},
     "output_type": "execute_result"
    }
   ],
   "source": [
    "del test_inp, test_ds, test_loader\n",
    "gc.collect()"
   ]
  },
  {
   "cell_type": "markdown",
   "id": "43d5fa5b",
   "metadata": {
    "papermill": {
     "duration": 0.008221,
     "end_time": "2022-11-08T14:36:11.971373",
     "exception": false,
     "start_time": "2022-11-08T14:36:11.963152",
     "status": "completed"
    },
    "tags": []
   },
   "source": [
    "## Creating Submission"
   ]
  },
  {
   "cell_type": "code",
   "execution_count": 15,
   "id": "3deee394",
   "metadata": {
    "execution": {
     "iopub.execute_input": "2022-11-08T14:36:11.991366Z",
     "iopub.status.busy": "2022-11-08T14:36:11.990872Z",
     "iopub.status.idle": "2022-11-08T14:36:12.305479Z",
     "shell.execute_reply": "2022-11-08T14:36:12.301003Z"
    },
    "papermill": {
     "duration": 0.332731,
     "end_time": "2022-11-08T14:36:12.313485",
     "exception": false,
     "start_time": "2022-11-08T14:36:11.980754",
     "status": "completed"
    },
    "tags": []
   },
   "outputs": [
    {
     "data": {
      "text/plain": [
       "((23418,), (55935,), (55935, 23418))"
      ]
     },
     "execution_count": 15,
     "metadata": {},
     "output_type": "execute_result"
    }
   ],
   "source": [
    "test_tar_cols = np.load(f'{DATA_DIR}/train_multi_targets_idx.npz',\n",
    "                        allow_pickle=True)['columns']\n",
    "test_tar_idx = np.load(f'{DATA_DIR}/test_multi_inputs_idx.npz',\n",
    "                       allow_pickle=True)['index']\n",
    "test_tar_cols.shape, test_tar_idx.shape, test_tar_preds.shape"
   ]
  },
  {
   "cell_type": "code",
   "execution_count": 16,
   "id": "d6abb7e9",
   "metadata": {
    "execution": {
     "iopub.execute_input": "2022-11-08T14:36:12.352478Z",
     "iopub.status.busy": "2022-11-08T14:36:12.351352Z",
     "iopub.status.idle": "2022-11-08T14:37:00.952988Z",
     "shell.execute_reply": "2022-11-08T14:37:00.951720Z"
    },
    "papermill": {
     "duration": 48.627708,
     "end_time": "2022-11-08T14:37:00.963177",
     "exception": false,
     "start_time": "2022-11-08T14:36:12.335469",
     "status": "completed"
    },
    "tags": []
   },
   "outputs": [
    {
     "name": "stdout",
     "output_type": "stream",
     "text": [
      "Start Eval...\n",
      "CPU times: user 37.7 s, sys: 25.3 s, total: 1min 3s\n",
      "Wall time: 48.6 s\n"
     ]
    }
   ],
   "source": [
    "%%time\n",
    "print('Start Eval...')\n",
    "eval_ids = pd.read_parquet(f'{DATA_DIR}/evaluation_ids.parquet')\n",
    "eval_ids.cell_id = eval_ids.cell_id.astype(pd.CategoricalDtype())\n",
    "eval_ids.gene_id = eval_ids.gene_id.astype(pd.CategoricalDtype())"
   ]
  },
  {
   "cell_type": "code",
   "execution_count": 17,
   "id": "ea5f34e2",
   "metadata": {
    "execution": {
     "iopub.execute_input": "2022-11-08T14:37:00.980139Z",
     "iopub.status.busy": "2022-11-08T14:37:00.979254Z",
     "iopub.status.idle": "2022-11-08T14:37:28.269712Z",
     "shell.execute_reply": "2022-11-08T14:37:28.267968Z"
    },
    "papermill": {
     "duration": 27.302267,
     "end_time": "2022-11-08T14:37:28.272674",
     "exception": false,
     "start_time": "2022-11-08T14:37:00.970407",
     "status": "completed"
    },
    "tags": []
   },
   "outputs": [
    {
     "name": "stdout",
     "output_type": "stream",
     "text": [
      "CPU times: user 20.7 s, sys: 6.31 s, total: 27 s\n",
      "Wall time: 27.1 s\n"
     ]
    },
    {
     "data": {
      "text/plain": [
       "row_id    cell_id       gene_id        \n",
       "0         c2150f55becb  CD86              NaN\n",
       "1         c2150f55becb  CD274             NaN\n",
       "2         c2150f55becb  CD270             NaN\n",
       "3         c2150f55becb  CD155             NaN\n",
       "4         c2150f55becb  CD112             NaN\n",
       "                                           ..\n",
       "65744175  2c53aa67933d  ENSG00000134419   NaN\n",
       "65744176  2c53aa67933d  ENSG00000186862   NaN\n",
       "65744177  2c53aa67933d  ENSG00000170959   NaN\n",
       "65744178  2c53aa67933d  ENSG00000107874   NaN\n",
       "65744179  2c53aa67933d  ENSG00000166012   NaN\n",
       "Name: target, Length: 65744180, dtype: float32"
      ]
     },
     "execution_count": 17,
     "metadata": {},
     "output_type": "execute_result"
    }
   ],
   "source": [
    "%%time\n",
    "sub = pd.Series(name='target',\n",
    "                index=pd.MultiIndex.from_frame(eval_ids), \n",
    "                dtype=np.float32)\n",
    "sub"
   ]
  },
  {
   "cell_type": "code",
   "execution_count": 18,
   "id": "601b1131",
   "metadata": {
    "execution": {
     "iopub.execute_input": "2022-11-08T14:37:28.291199Z",
     "iopub.status.busy": "2022-11-08T14:37:28.290711Z",
     "iopub.status.idle": "2022-11-08T14:37:28.317388Z",
     "shell.execute_reply": "2022-11-08T14:37:28.316108Z"
    },
    "papermill": {
     "duration": 0.039644,
     "end_time": "2022-11-08T14:37:28.320620",
     "exception": false,
     "start_time": "2022-11-08T14:37:28.280976",
     "status": "completed"
    },
    "tags": []
   },
   "outputs": [],
   "source": [
    "cell_id_dict = {cell_id: idx \n",
    "                for idx, cell_id in enumerate(test_tar_idx, 0)}\n",
    "gene_id_dict = {gene_id: idx \n",
    "                for idx, gene_id in enumerate(test_tar_cols, 0)}"
   ]
  },
  {
   "cell_type": "code",
   "execution_count": 19,
   "id": "b6325f5a",
   "metadata": {
    "execution": {
     "iopub.execute_input": "2022-11-08T14:37:28.340602Z",
     "iopub.status.busy": "2022-11-08T14:37:28.339225Z",
     "iopub.status.idle": "2022-11-08T14:37:30.691268Z",
     "shell.execute_reply": "2022-11-08T14:37:30.689899Z"
    },
    "papermill": {
     "duration": 2.3657,
     "end_time": "2022-11-08T14:37:30.695040",
     "exception": false,
     "start_time": "2022-11-08T14:37:28.329340",
     "status": "completed"
    },
    "tags": []
   },
   "outputs": [],
   "source": [
    "eid_cid_idx = eval_ids['cell_id']\\\n",
    "              .apply(lambda x: cell_id_dict.get(x, -1))\n",
    "eid_gid_idx = eval_ids['gene_id']\\\n",
    "              .apply(lambda x: gene_id_dict.get(x, -1))\n",
    "valid_multi_rows = (eid_cid_idx != -1) & (eid_gid_idx != -1)"
   ]
  },
  {
   "cell_type": "code",
   "execution_count": 20,
   "id": "4b35d2f5",
   "metadata": {
    "execution": {
     "iopub.execute_input": "2022-11-08T14:37:30.715690Z",
     "iopub.status.busy": "2022-11-08T14:37:30.715188Z",
     "iopub.status.idle": "2022-11-08T14:37:33.756644Z",
     "shell.execute_reply": "2022-11-08T14:37:33.755347Z"
    },
    "papermill": {
     "duration": 3.054508,
     "end_time": "2022-11-08T14:37:33.759733",
     "exception": false,
     "start_time": "2022-11-08T14:37:30.705225",
     "status": "completed"
    },
    "tags": []
   },
   "outputs": [
    {
     "name": "stdout",
     "output_type": "stream",
     "text": [
      "CPU times: user 1.71 s, sys: 1.32 s, total: 3.03 s\n",
      "Wall time: 3.03 s\n"
     ]
    }
   ],
   "source": [
    "%%time\n",
    "sub.iloc[valid_multi_rows] = test_tar_preds\\\n",
    "                             [eid_cid_idx[valid_multi_rows].to_numpy(),\n",
    "                              eid_gid_idx[valid_multi_rows].to_numpy()]"
   ]
  },
  {
   "cell_type": "code",
   "execution_count": 21,
   "id": "86c2f2ae",
   "metadata": {
    "execution": {
     "iopub.execute_input": "2022-11-08T14:37:33.778674Z",
     "iopub.status.busy": "2022-11-08T14:37:33.778156Z",
     "iopub.status.idle": "2022-11-08T14:37:33.951114Z",
     "shell.execute_reply": "2022-11-08T14:37:33.949857Z"
    },
    "papermill": {
     "duration": 0.186316,
     "end_time": "2022-11-08T14:37:33.954150",
     "exception": false,
     "start_time": "2022-11-08T14:37:33.767834",
     "status": "completed"
    },
    "tags": []
   },
   "outputs": [
    {
     "data": {
      "text/plain": [
       "21"
      ]
     },
     "execution_count": 21,
     "metadata": {},
     "output_type": "execute_result"
    }
   ],
   "source": [
    "del eval_ids, test_tar_idx, test_tar_cols\n",
    "del eid_cid_idx, eid_gid_idx, valid_multi_rows\n",
    "gc.collect()"
   ]
  },
  {
   "cell_type": "code",
   "execution_count": 22,
   "id": "a85c5cf6",
   "metadata": {
    "execution": {
     "iopub.execute_input": "2022-11-08T14:37:33.972880Z",
     "iopub.status.busy": "2022-11-08T14:37:33.972358Z",
     "iopub.status.idle": "2022-11-08T14:39:21.994649Z",
     "shell.execute_reply": "2022-11-08T14:39:21.993078Z"
    },
    "papermill": {
     "duration": 108.035432,
     "end_time": "2022-11-08T14:39:21.998090",
     "exception": false,
     "start_time": "2022-11-08T14:37:33.962658",
     "status": "completed"
    },
    "tags": []
   },
   "outputs": [],
   "source": [
    "sub = pd.DataFrame(sub).fillna(0).reset_index()\n",
    "sub.drop(['cell_id', 'gene_id'], axis=1)\\\n",
    "   .to_csv('multi_sub.csv', index=False)"
   ]
  },
  {
   "cell_type": "code",
   "execution_count": 23,
   "id": "34bf242d",
   "metadata": {
    "execution": {
     "iopub.execute_input": "2022-11-08T14:39:22.016714Z",
     "iopub.status.busy": "2022-11-08T14:39:22.016210Z",
     "iopub.status.idle": "2022-11-08T14:39:22.037246Z",
     "shell.execute_reply": "2022-11-08T14:39:22.036276Z"
    },
    "papermill": {
     "duration": 0.03336,
     "end_time": "2022-11-08T14:39:22.039969",
     "exception": false,
     "start_time": "2022-11-08T14:39:22.006609",
     "status": "completed"
    },
    "tags": []
   },
   "outputs": [
    {
     "data": {
      "text/html": [
       "<div>\n",
       "<style scoped>\n",
       "    .dataframe tbody tr th:only-of-type {\n",
       "        vertical-align: middle;\n",
       "    }\n",
       "\n",
       "    .dataframe tbody tr th {\n",
       "        vertical-align: top;\n",
       "    }\n",
       "\n",
       "    .dataframe thead th {\n",
       "        text-align: right;\n",
       "    }\n",
       "</style>\n",
       "<table border=\"1\" class=\"dataframe\">\n",
       "  <thead>\n",
       "    <tr style=\"text-align: right;\">\n",
       "      <th></th>\n",
       "      <th>row_id</th>\n",
       "      <th>cell_id</th>\n",
       "      <th>gene_id</th>\n",
       "      <th>target</th>\n",
       "    </tr>\n",
       "  </thead>\n",
       "  <tbody>\n",
       "    <tr>\n",
       "      <th>65744175</th>\n",
       "      <td>65744175</td>\n",
       "      <td>2c53aa67933d</td>\n",
       "      <td>ENSG00000134419</td>\n",
       "      <td>0.038290</td>\n",
       "    </tr>\n",
       "    <tr>\n",
       "      <th>65744176</th>\n",
       "      <td>65744176</td>\n",
       "      <td>2c53aa67933d</td>\n",
       "      <td>ENSG00000186862</td>\n",
       "      <td>0.000000</td>\n",
       "    </tr>\n",
       "    <tr>\n",
       "      <th>65744177</th>\n",
       "      <td>65744177</td>\n",
       "      <td>2c53aa67933d</td>\n",
       "      <td>ENSG00000170959</td>\n",
       "      <td>0.000000</td>\n",
       "    </tr>\n",
       "    <tr>\n",
       "      <th>65744178</th>\n",
       "      <td>65744178</td>\n",
       "      <td>2c53aa67933d</td>\n",
       "      <td>ENSG00000107874</td>\n",
       "      <td>0.005641</td>\n",
       "    </tr>\n",
       "    <tr>\n",
       "      <th>65744179</th>\n",
       "      <td>65744179</td>\n",
       "      <td>2c53aa67933d</td>\n",
       "      <td>ENSG00000166012</td>\n",
       "      <td>0.039573</td>\n",
       "    </tr>\n",
       "  </tbody>\n",
       "</table>\n",
       "</div>"
      ],
      "text/plain": [
       "            row_id       cell_id          gene_id    target\n",
       "65744175  65744175  2c53aa67933d  ENSG00000134419  0.038290\n",
       "65744176  65744176  2c53aa67933d  ENSG00000186862  0.000000\n",
       "65744177  65744177  2c53aa67933d  ENSG00000170959  0.000000\n",
       "65744178  65744178  2c53aa67933d  ENSG00000107874  0.005641\n",
       "65744179  65744179  2c53aa67933d  ENSG00000166012  0.039573"
      ]
     },
     "execution_count": 23,
     "metadata": {},
     "output_type": "execute_result"
    }
   ],
   "source": [
    "sub.tail()"
   ]
  },
  {
   "cell_type": "code",
   "execution_count": null,
   "id": "d60c2f10",
   "metadata": {
    "papermill": {
     "duration": 0.00803,
     "end_time": "2022-11-08T14:39:22.056593",
     "exception": false,
     "start_time": "2022-11-08T14:39:22.048563",
     "status": "completed"
    },
    "tags": []
   },
   "outputs": [],
   "source": []
  }
 ],
 "metadata": {
  "kernelspec": {
   "display_name": "Python 3",
   "language": "python",
   "name": "python3"
  },
  "language_info": {
   "codemirror_mode": {
    "name": "ipython",
    "version": 3
   },
   "file_extension": ".py",
   "mimetype": "text/x-python",
   "name": "python",
   "nbconvert_exporter": "python",
   "pygments_lexer": "ipython3",
   "version": "3.7.12"
  },
  "papermill": {
   "default_parameters": {},
   "duration": 3211.688832,
   "end_time": "2022-11-08T14:39:23.399580",
   "environment_variables": {},
   "exception": null,
   "input_path": "__notebook__.ipynb",
   "output_path": "__notebook__.ipynb",
   "parameters": {},
   "start_time": "2022-11-08T13:45:51.710748",
   "version": "2.3.4"
  }
 },
 "nbformat": 4,
 "nbformat_minor": 5
}
