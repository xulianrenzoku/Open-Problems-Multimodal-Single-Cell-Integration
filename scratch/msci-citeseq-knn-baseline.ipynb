{
 "cells": [
  {
   "cell_type": "code",
   "execution_count": 1,
   "id": "77286b08",
   "metadata": {
    "_cell_guid": "b1076dfc-b9ad-4769-8c92-a6c4dae69d19",
    "_uuid": "8f2839f25d086af736a60e9eeb907d3b93b6e0e5",
    "execution": {
     "iopub.execute_input": "2022-10-24T12:14:25.534669Z",
     "iopub.status.busy": "2022-10-24T12:14:25.534173Z",
     "iopub.status.idle": "2022-10-24T12:14:25.543784Z",
     "shell.execute_reply": "2022-10-24T12:14:25.542958Z"
    },
    "papermill": {
     "duration": 0.018714,
     "end_time": "2022-10-24T12:14:25.546163",
     "exception": false,
     "start_time": "2022-10-24T12:14:25.527449",
     "status": "completed"
    },
    "tags": []
   },
   "outputs": [],
   "source": [
    "import os\n",
    "import gc\n",
    "import numpy as np\n",
    "import pandas as pd\n",
    "from tqdm import tqdm"
   ]
  },
  {
   "cell_type": "code",
   "execution_count": 2,
   "id": "f0ecb8de",
   "metadata": {
    "execution": {
     "iopub.execute_input": "2022-10-24T12:14:25.555851Z",
     "iopub.status.busy": "2022-10-24T12:14:25.555440Z",
     "iopub.status.idle": "2022-10-24T12:14:25.559461Z",
     "shell.execute_reply": "2022-10-24T12:14:25.558661Z"
    },
    "papermill": {
     "duration": 0.011339,
     "end_time": "2022-10-24T12:14:25.561578",
     "exception": false,
     "start_time": "2022-10-24T12:14:25.550239",
     "status": "completed"
    },
    "tags": []
   },
   "outputs": [],
   "source": [
    "import warnings \n",
    "warnings.filterwarnings('ignore')"
   ]
  },
  {
   "cell_type": "code",
   "execution_count": 3,
   "id": "b8155b6b",
   "metadata": {
    "execution": {
     "iopub.execute_input": "2022-10-24T12:14:25.570872Z",
     "iopub.status.busy": "2022-10-24T12:14:25.570262Z",
     "iopub.status.idle": "2022-10-24T12:14:26.663831Z",
     "shell.execute_reply": "2022-10-24T12:14:26.662787Z"
    },
    "papermill": {
     "duration": 1.100875,
     "end_time": "2022-10-24T12:14:26.666214",
     "exception": false,
     "start_time": "2022-10-24T12:14:25.565339",
     "status": "completed"
    },
    "tags": []
   },
   "outputs": [
    {
     "name": "stdout",
     "output_type": "stream",
     "text": [
      "evaluation_ids.csv                     test_multi_inputs.h5\r\n",
      "metadata.csv                           train_cite_inputs.h5\r\n",
      "metadata_cite_day_2_donor_27678.csv    train_cite_targets.h5\r\n",
      "sample_submission.csv                  train_multi_inputs.h5\r\n",
      "test_cite_inputs.h5                    train_multi_targets.h5\r\n",
      "test_cite_inputs_day_2_donor_27678.h5\r\n"
     ]
    }
   ],
   "source": [
    "DATA_DIR = '../input/open-problems-multimodal'\n",
    "%ls $DATA_DIR"
   ]
  },
  {
   "cell_type": "code",
   "execution_count": 4,
   "id": "9d40ec8a",
   "metadata": {
    "execution": {
     "iopub.execute_input": "2022-10-24T12:14:26.676348Z",
     "iopub.status.busy": "2022-10-24T12:14:26.675527Z",
     "iopub.status.idle": "2022-10-24T12:14:26.680527Z",
     "shell.execute_reply": "2022-10-24T12:14:26.679770Z"
    },
    "papermill": {
     "duration": 0.012269,
     "end_time": "2022-10-24T12:14:26.682481",
     "exception": false,
     "start_time": "2022-10-24T12:14:26.670212",
     "status": "completed"
    },
    "tags": []
   },
   "outputs": [],
   "source": [
    "# train_cite_100 = pd.read_hdf(f'{DATA_DIR}/train_cite_inputs.h5',\n",
    "#                              stop=100)\n",
    "# print(train_cite_100.shape)\n",
    "# train_cite_100.head()"
   ]
  },
  {
   "cell_type": "code",
   "execution_count": 5,
   "id": "ac6bb378",
   "metadata": {
    "execution": {
     "iopub.execute_input": "2022-10-24T12:14:26.692517Z",
     "iopub.status.busy": "2022-10-24T12:14:26.691569Z",
     "iopub.status.idle": "2022-10-24T12:14:26.696488Z",
     "shell.execute_reply": "2022-10-24T12:14:26.695353Z"
    },
    "papermill": {
     "duration": 0.012484,
     "end_time": "2022-10-24T12:14:26.699030",
     "exception": false,
     "start_time": "2022-10-24T12:14:26.686546",
     "status": "completed"
    },
    "tags": []
   },
   "outputs": [],
   "source": [
    "# train_cite_targets_100 = pd.read_hdf(f'{DATA_DIR}/train_cite_targets.h5',\n",
    "#                                      stop=100)\n",
    "# print(train_cite_targets_100.shape)\n",
    "# train_cite_targets_100.head()"
   ]
  },
  {
   "cell_type": "code",
   "execution_count": 6,
   "id": "c30a1b02",
   "metadata": {
    "execution": {
     "iopub.execute_input": "2022-10-24T12:14:26.708527Z",
     "iopub.status.busy": "2022-10-24T12:14:26.708160Z",
     "iopub.status.idle": "2022-10-24T12:14:27.778926Z",
     "shell.execute_reply": "2022-10-24T12:14:27.777607Z"
    },
    "papermill": {
     "duration": 1.078516,
     "end_time": "2022-10-24T12:14:27.781673",
     "exception": false,
     "start_time": "2022-10-24T12:14:26.703157",
     "status": "completed"
    },
    "tags": []
   },
   "outputs": [],
   "source": [
    "from sklearn.neighbors import KNeighborsRegressor"
   ]
  },
  {
   "cell_type": "code",
   "execution_count": 7,
   "id": "0d3d82cb",
   "metadata": {
    "execution": {
     "iopub.execute_input": "2022-10-24T12:14:27.791255Z",
     "iopub.status.busy": "2022-10-24T12:14:27.790880Z",
     "iopub.status.idle": "2022-10-24T12:14:27.795366Z",
     "shell.execute_reply": "2022-10-24T12:14:27.794283Z"
    },
    "papermill": {
     "duration": 0.012036,
     "end_time": "2022-10-24T12:14:27.797767",
     "exception": false,
     "start_time": "2022-10-24T12:14:27.785731",
     "status": "completed"
    },
    "tags": []
   },
   "outputs": [],
   "source": [
    "# stop = 100\n",
    "# train_X = pd.read_hdf(f'{DATA_DIR}/train_cite_inputs.h5',\n",
    "#                       stop=stop)\n",
    "# train_y = pd.read_hdf(f'{DATA_DIR}/train_cite_targets.h5',\n",
    "#                       stop=stop)"
   ]
  },
  {
   "cell_type": "code",
   "execution_count": 8,
   "id": "58513944",
   "metadata": {
    "execution": {
     "iopub.execute_input": "2022-10-24T12:14:27.807074Z",
     "iopub.status.busy": "2022-10-24T12:14:27.806711Z",
     "iopub.status.idle": "2022-10-24T12:15:19.496853Z",
     "shell.execute_reply": "2022-10-24T12:15:19.495865Z"
    },
    "papermill": {
     "duration": 51.698159,
     "end_time": "2022-10-24T12:15:19.499868",
     "exception": false,
     "start_time": "2022-10-24T12:14:27.801709",
     "status": "completed"
    },
    "tags": []
   },
   "outputs": [],
   "source": [
    "train_X = pd.read_hdf(f'{DATA_DIR}/train_cite_inputs.h5')\n",
    "train_y = pd.read_hdf(f'{DATA_DIR}/train_cite_targets.h5')"
   ]
  },
  {
   "cell_type": "code",
   "execution_count": 9,
   "id": "9ab502eb",
   "metadata": {
    "execution": {
     "iopub.execute_input": "2022-10-24T12:15:19.509728Z",
     "iopub.status.busy": "2022-10-24T12:15:19.509296Z",
     "iopub.status.idle": "2022-10-24T13:21:16.352332Z",
     "shell.execute_reply": "2022-10-24T13:21:16.350742Z"
    },
    "papermill": {
     "duration": 3956.865789,
     "end_time": "2022-10-24T13:21:16.369744",
     "exception": false,
     "start_time": "2022-10-24T12:15:19.503955",
     "status": "completed"
    },
    "tags": []
   },
   "outputs": [
    {
     "name": "stdout",
     "output_type": "stream",
     "text": [
      "Start fitting...\n",
      "Preds done.\n"
     ]
    },
    {
     "data": {
      "text/plain": [
       "17"
      ]
     },
     "execution_count": 9,
     "metadata": {},
     "output_type": "execute_result"
    }
   ],
   "source": [
    "print('Start fitting...')\n",
    "neigh = KNeighborsRegressor(n_neighbors=9)\n",
    "neigh.fit(train_X, train_y) \n",
    "preds = pd.DataFrame(neigh.predict(train_X))\n",
    "print('Preds done.')\n",
    "\n",
    "del train_X\n",
    "gc.collect()"
   ]
  },
  {
   "cell_type": "code",
   "execution_count": 10,
   "id": "2a160212",
   "metadata": {
    "execution": {
     "iopub.execute_input": "2022-10-24T13:21:16.381632Z",
     "iopub.status.busy": "2022-10-24T13:21:16.381188Z",
     "iopub.status.idle": "2022-10-24T13:21:16.440361Z",
     "shell.execute_reply": "2022-10-24T13:21:16.439060Z"
    },
    "papermill": {
     "duration": 0.06885,
     "end_time": "2022-10-24T13:21:16.443383",
     "exception": false,
     "start_time": "2022-10-24T13:21:16.374533",
     "status": "completed"
    },
    "tags": []
   },
   "outputs": [
    {
     "data": {
      "text/html": [
       "<div>\n",
       "<style scoped>\n",
       "    .dataframe tbody tr th:only-of-type {\n",
       "        vertical-align: middle;\n",
       "    }\n",
       "\n",
       "    .dataframe tbody tr th {\n",
       "        vertical-align: top;\n",
       "    }\n",
       "\n",
       "    .dataframe thead th {\n",
       "        text-align: right;\n",
       "    }\n",
       "</style>\n",
       "<table border=\"1\" class=\"dataframe\">\n",
       "  <thead>\n",
       "    <tr style=\"text-align: right;\">\n",
       "      <th></th>\n",
       "      <th>0</th>\n",
       "      <th>1</th>\n",
       "      <th>2</th>\n",
       "      <th>3</th>\n",
       "      <th>4</th>\n",
       "      <th>5</th>\n",
       "      <th>6</th>\n",
       "      <th>7</th>\n",
       "      <th>8</th>\n",
       "      <th>9</th>\n",
       "      <th>...</th>\n",
       "      <th>130</th>\n",
       "      <th>131</th>\n",
       "      <th>132</th>\n",
       "      <th>133</th>\n",
       "      <th>134</th>\n",
       "      <th>135</th>\n",
       "      <th>136</th>\n",
       "      <th>137</th>\n",
       "      <th>138</th>\n",
       "      <th>139</th>\n",
       "    </tr>\n",
       "  </thead>\n",
       "  <tbody>\n",
       "    <tr>\n",
       "      <th>0</th>\n",
       "      <td>0.501590</td>\n",
       "      <td>0.592784</td>\n",
       "      <td>0.926268</td>\n",
       "      <td>7.035001</td>\n",
       "      <td>6.863322</td>\n",
       "      <td>10.758928</td>\n",
       "      <td>9.520944</td>\n",
       "      <td>0.120384</td>\n",
       "      <td>0.969066</td>\n",
       "      <td>0.751912</td>\n",
       "      <td>...</td>\n",
       "      <td>0.459036</td>\n",
       "      <td>9.137736</td>\n",
       "      <td>0.809656</td>\n",
       "      <td>0.634390</td>\n",
       "      <td>0.072032</td>\n",
       "      <td>0.952109</td>\n",
       "      <td>3.839581</td>\n",
       "      <td>1.127186</td>\n",
       "      <td>2.926292</td>\n",
       "      <td>3.679075</td>\n",
       "    </tr>\n",
       "    <tr>\n",
       "      <th>1</th>\n",
       "      <td>0.958790</td>\n",
       "      <td>1.405730</td>\n",
       "      <td>1.334131</td>\n",
       "      <td>7.441905</td>\n",
       "      <td>6.999786</td>\n",
       "      <td>8.817806</td>\n",
       "      <td>9.467522</td>\n",
       "      <td>0.373423</td>\n",
       "      <td>0.837616</td>\n",
       "      <td>0.540694</td>\n",
       "      <td>...</td>\n",
       "      <td>0.369932</td>\n",
       "      <td>7.832520</td>\n",
       "      <td>0.433625</td>\n",
       "      <td>0.744496</td>\n",
       "      <td>0.394710</td>\n",
       "      <td>0.688417</td>\n",
       "      <td>3.402646</td>\n",
       "      <td>1.203001</td>\n",
       "      <td>3.080286</td>\n",
       "      <td>3.996535</td>\n",
       "    </tr>\n",
       "    <tr>\n",
       "      <th>2</th>\n",
       "      <td>0.417785</td>\n",
       "      <td>-0.050910</td>\n",
       "      <td>1.252796</td>\n",
       "      <td>4.462741</td>\n",
       "      <td>1.756896</td>\n",
       "      <td>7.131264</td>\n",
       "      <td>0.589949</td>\n",
       "      <td>0.780313</td>\n",
       "      <td>1.271102</td>\n",
       "      <td>0.016522</td>\n",
       "      <td>...</td>\n",
       "      <td>-0.445187</td>\n",
       "      <td>10.229585</td>\n",
       "      <td>1.991204</td>\n",
       "      <td>-0.075326</td>\n",
       "      <td>0.149838</td>\n",
       "      <td>0.929843</td>\n",
       "      <td>11.078556</td>\n",
       "      <td>0.154774</td>\n",
       "      <td>8.644727</td>\n",
       "      <td>3.692451</td>\n",
       "    </tr>\n",
       "    <tr>\n",
       "      <th>3</th>\n",
       "      <td>0.330948</td>\n",
       "      <td>-0.127473</td>\n",
       "      <td>0.832534</td>\n",
       "      <td>8.020531</td>\n",
       "      <td>6.640536</td>\n",
       "      <td>7.939573</td>\n",
       "      <td>17.675957</td>\n",
       "      <td>0.319240</td>\n",
       "      <td>0.700787</td>\n",
       "      <td>0.286209</td>\n",
       "      <td>...</td>\n",
       "      <td>0.254778</td>\n",
       "      <td>12.946860</td>\n",
       "      <td>0.522995</td>\n",
       "      <td>0.352635</td>\n",
       "      <td>-0.320252</td>\n",
       "      <td>0.835332</td>\n",
       "      <td>4.036196</td>\n",
       "      <td>1.833424</td>\n",
       "      <td>2.905849</td>\n",
       "      <td>3.375916</td>\n",
       "    </tr>\n",
       "    <tr>\n",
       "      <th>4</th>\n",
       "      <td>-0.248242</td>\n",
       "      <td>0.231249</td>\n",
       "      <td>0.757520</td>\n",
       "      <td>4.434628</td>\n",
       "      <td>3.497111</td>\n",
       "      <td>3.299439</td>\n",
       "      <td>-0.464640</td>\n",
       "      <td>0.304140</td>\n",
       "      <td>1.273222</td>\n",
       "      <td>0.413587</td>\n",
       "      <td>...</td>\n",
       "      <td>0.162029</td>\n",
       "      <td>7.030951</td>\n",
       "      <td>1.453715</td>\n",
       "      <td>-0.538925</td>\n",
       "      <td>-0.097509</td>\n",
       "      <td>0.718961</td>\n",
       "      <td>5.416647</td>\n",
       "      <td>-0.189498</td>\n",
       "      <td>8.569936</td>\n",
       "      <td>2.987624</td>\n",
       "    </tr>\n",
       "    <tr>\n",
       "      <th>...</th>\n",
       "      <td>...</td>\n",
       "      <td>...</td>\n",
       "      <td>...</td>\n",
       "      <td>...</td>\n",
       "      <td>...</td>\n",
       "      <td>...</td>\n",
       "      <td>...</td>\n",
       "      <td>...</td>\n",
       "      <td>...</td>\n",
       "      <td>...</td>\n",
       "      <td>...</td>\n",
       "      <td>...</td>\n",
       "      <td>...</td>\n",
       "      <td>...</td>\n",
       "      <td>...</td>\n",
       "      <td>...</td>\n",
       "      <td>...</td>\n",
       "      <td>...</td>\n",
       "      <td>...</td>\n",
       "      <td>...</td>\n",
       "      <td>...</td>\n",
       "    </tr>\n",
       "    <tr>\n",
       "      <th>70983</th>\n",
       "      <td>0.690879</td>\n",
       "      <td>0.499906</td>\n",
       "      <td>1.105918</td>\n",
       "      <td>5.842779</td>\n",
       "      <td>5.078206</td>\n",
       "      <td>8.485558</td>\n",
       "      <td>4.777509</td>\n",
       "      <td>-0.015348</td>\n",
       "      <td>0.715943</td>\n",
       "      <td>0.988136</td>\n",
       "      <td>...</td>\n",
       "      <td>0.150863</td>\n",
       "      <td>5.349822</td>\n",
       "      <td>0.539604</td>\n",
       "      <td>0.542639</td>\n",
       "      <td>0.142409</td>\n",
       "      <td>0.449744</td>\n",
       "      <td>4.009626</td>\n",
       "      <td>0.241022</td>\n",
       "      <td>2.099614</td>\n",
       "      <td>2.747022</td>\n",
       "    </tr>\n",
       "    <tr>\n",
       "      <th>70984</th>\n",
       "      <td>0.379059</td>\n",
       "      <td>1.277066</td>\n",
       "      <td>0.966305</td>\n",
       "      <td>5.780710</td>\n",
       "      <td>3.506581</td>\n",
       "      <td>6.215055</td>\n",
       "      <td>0.942005</td>\n",
       "      <td>0.345512</td>\n",
       "      <td>1.580637</td>\n",
       "      <td>0.216365</td>\n",
       "      <td>...</td>\n",
       "      <td>-0.212659</td>\n",
       "      <td>10.831044</td>\n",
       "      <td>2.410206</td>\n",
       "      <td>-0.096162</td>\n",
       "      <td>1.498787</td>\n",
       "      <td>0.728317</td>\n",
       "      <td>9.377787</td>\n",
       "      <td>-0.175441</td>\n",
       "      <td>8.788961</td>\n",
       "      <td>4.502172</td>\n",
       "    </tr>\n",
       "    <tr>\n",
       "      <th>70985</th>\n",
       "      <td>1.102599</td>\n",
       "      <td>0.746885</td>\n",
       "      <td>1.116761</td>\n",
       "      <td>4.744185</td>\n",
       "      <td>2.011682</td>\n",
       "      <td>5.748077</td>\n",
       "      <td>-0.067041</td>\n",
       "      <td>1.013290</td>\n",
       "      <td>1.317243</td>\n",
       "      <td>0.547468</td>\n",
       "      <td>...</td>\n",
       "      <td>-0.199638</td>\n",
       "      <td>8.007670</td>\n",
       "      <td>1.629465</td>\n",
       "      <td>0.107766</td>\n",
       "      <td>-0.277394</td>\n",
       "      <td>0.721376</td>\n",
       "      <td>8.859822</td>\n",
       "      <td>0.522583</td>\n",
       "      <td>8.492593</td>\n",
       "      <td>4.363985</td>\n",
       "    </tr>\n",
       "    <tr>\n",
       "      <th>70986</th>\n",
       "      <td>0.568294</td>\n",
       "      <td>0.157402</td>\n",
       "      <td>0.385556</td>\n",
       "      <td>6.717841</td>\n",
       "      <td>4.812807</td>\n",
       "      <td>10.070558</td>\n",
       "      <td>7.745582</td>\n",
       "      <td>0.287320</td>\n",
       "      <td>0.327400</td>\n",
       "      <td>0.487685</td>\n",
       "      <td>...</td>\n",
       "      <td>0.617756</td>\n",
       "      <td>12.563210</td>\n",
       "      <td>1.263593</td>\n",
       "      <td>0.255341</td>\n",
       "      <td>0.127508</td>\n",
       "      <td>0.883548</td>\n",
       "      <td>4.665799</td>\n",
       "      <td>1.398921</td>\n",
       "      <td>3.578389</td>\n",
       "      <td>3.719772</td>\n",
       "    </tr>\n",
       "    <tr>\n",
       "      <th>70987</th>\n",
       "      <td>0.036521</td>\n",
       "      <td>1.322931</td>\n",
       "      <td>1.379141</td>\n",
       "      <td>6.034078</td>\n",
       "      <td>2.183525</td>\n",
       "      <td>4.785147</td>\n",
       "      <td>-0.109063</td>\n",
       "      <td>0.928061</td>\n",
       "      <td>1.173111</td>\n",
       "      <td>0.154689</td>\n",
       "      <td>...</td>\n",
       "      <td>0.318932</td>\n",
       "      <td>8.090210</td>\n",
       "      <td>2.202399</td>\n",
       "      <td>0.138922</td>\n",
       "      <td>-0.035456</td>\n",
       "      <td>0.980125</td>\n",
       "      <td>7.573858</td>\n",
       "      <td>0.352293</td>\n",
       "      <td>7.981020</td>\n",
       "      <td>4.318554</td>\n",
       "    </tr>\n",
       "  </tbody>\n",
       "</table>\n",
       "<p>70988 rows × 140 columns</p>\n",
       "</div>"
      ],
      "text/plain": [
       "            0         1         2         3         4          5          6    \\\n",
       "0      0.501590  0.592784  0.926268  7.035001  6.863322  10.758928   9.520944   \n",
       "1      0.958790  1.405730  1.334131  7.441905  6.999786   8.817806   9.467522   \n",
       "2      0.417785 -0.050910  1.252796  4.462741  1.756896   7.131264   0.589949   \n",
       "3      0.330948 -0.127473  0.832534  8.020531  6.640536   7.939573  17.675957   \n",
       "4     -0.248242  0.231249  0.757520  4.434628  3.497111   3.299439  -0.464640   \n",
       "...         ...       ...       ...       ...       ...        ...        ...   \n",
       "70983  0.690879  0.499906  1.105918  5.842779  5.078206   8.485558   4.777509   \n",
       "70984  0.379059  1.277066  0.966305  5.780710  3.506581   6.215055   0.942005   \n",
       "70985  1.102599  0.746885  1.116761  4.744185  2.011682   5.748077  -0.067041   \n",
       "70986  0.568294  0.157402  0.385556  6.717841  4.812807  10.070558   7.745582   \n",
       "70987  0.036521  1.322931  1.379141  6.034078  2.183525   4.785147  -0.109063   \n",
       "\n",
       "            7         8         9    ...       130        131       132  \\\n",
       "0      0.120384  0.969066  0.751912  ...  0.459036   9.137736  0.809656   \n",
       "1      0.373423  0.837616  0.540694  ...  0.369932   7.832520  0.433625   \n",
       "2      0.780313  1.271102  0.016522  ... -0.445187  10.229585  1.991204   \n",
       "3      0.319240  0.700787  0.286209  ...  0.254778  12.946860  0.522995   \n",
       "4      0.304140  1.273222  0.413587  ...  0.162029   7.030951  1.453715   \n",
       "...         ...       ...       ...  ...       ...        ...       ...   \n",
       "70983 -0.015348  0.715943  0.988136  ...  0.150863   5.349822  0.539604   \n",
       "70984  0.345512  1.580637  0.216365  ... -0.212659  10.831044  2.410206   \n",
       "70985  1.013290  1.317243  0.547468  ... -0.199638   8.007670  1.629465   \n",
       "70986  0.287320  0.327400  0.487685  ...  0.617756  12.563210  1.263593   \n",
       "70987  0.928061  1.173111  0.154689  ...  0.318932   8.090210  2.202399   \n",
       "\n",
       "            133       134       135        136       137       138       139  \n",
       "0      0.634390  0.072032  0.952109   3.839581  1.127186  2.926292  3.679075  \n",
       "1      0.744496  0.394710  0.688417   3.402646  1.203001  3.080286  3.996535  \n",
       "2     -0.075326  0.149838  0.929843  11.078556  0.154774  8.644727  3.692451  \n",
       "3      0.352635 -0.320252  0.835332   4.036196  1.833424  2.905849  3.375916  \n",
       "4     -0.538925 -0.097509  0.718961   5.416647 -0.189498  8.569936  2.987624  \n",
       "...         ...       ...       ...        ...       ...       ...       ...  \n",
       "70983  0.542639  0.142409  0.449744   4.009626  0.241022  2.099614  2.747022  \n",
       "70984 -0.096162  1.498787  0.728317   9.377787 -0.175441  8.788961  4.502172  \n",
       "70985  0.107766 -0.277394  0.721376   8.859822  0.522583  8.492593  4.363985  \n",
       "70986  0.255341  0.127508  0.883548   4.665799  1.398921  3.578389  3.719772  \n",
       "70987  0.138922 -0.035456  0.980125   7.573858  0.352293  7.981020  4.318554  \n",
       "\n",
       "[70988 rows x 140 columns]"
      ]
     },
     "execution_count": 10,
     "metadata": {},
     "output_type": "execute_result"
    }
   ],
   "source": [
    "preds"
   ]
  },
  {
   "cell_type": "code",
   "execution_count": 11,
   "id": "d2c2b68e",
   "metadata": {
    "execution": {
     "iopub.execute_input": "2022-10-24T13:21:16.457366Z",
     "iopub.status.busy": "2022-10-24T13:21:16.456423Z",
     "iopub.status.idle": "2022-10-24T13:21:16.462456Z",
     "shell.execute_reply": "2022-10-24T13:21:16.461484Z"
    },
    "papermill": {
     "duration": 0.016666,
     "end_time": "2022-10-24T13:21:16.465238",
     "exception": false,
     "start_time": "2022-10-24T13:21:16.448572",
     "status": "completed"
    },
    "tags": []
   },
   "outputs": [],
   "source": [
    "from scipy.stats import pearsonr"
   ]
  },
  {
   "cell_type": "code",
   "execution_count": 12,
   "id": "af2273c9",
   "metadata": {
    "execution": {
     "iopub.execute_input": "2022-10-24T13:21:16.478340Z",
     "iopub.status.busy": "2022-10-24T13:21:16.477204Z",
     "iopub.status.idle": "2022-10-24T13:21:16.927286Z",
     "shell.execute_reply": "2022-10-24T13:21:16.925658Z"
    },
    "papermill": {
     "duration": 0.461707,
     "end_time": "2022-10-24T13:21:16.932117",
     "exception": false,
     "start_time": "2022-10-24T13:21:16.470410",
     "status": "completed"
    },
    "tags": []
   },
   "outputs": [
    {
     "name": "stdout",
     "output_type": "stream",
     "text": [
      "baseline: 0.8626628169461823\n"
     ]
    }
   ],
   "source": [
    "lhs = np.array(np.matrix(train_y).flatten())[0]\n",
    "rhs = np.array(np.matrix(preds).flatten())[0]\n",
    "print('baseline:', pearsonr(lhs, rhs)[0])"
   ]
  },
  {
   "cell_type": "code",
   "execution_count": null,
   "id": "dc810e9b",
   "metadata": {
    "papermill": {
     "duration": 0.011658,
     "end_time": "2022-10-24T13:21:16.956421",
     "exception": false,
     "start_time": "2022-10-24T13:21:16.944763",
     "status": "completed"
    },
    "tags": []
   },
   "outputs": [],
   "source": []
  }
 ],
 "metadata": {
  "kernelspec": {
   "display_name": "Python 3",
   "language": "python",
   "name": "python3"
  },
  "language_info": {
   "codemirror_mode": {
    "name": "ipython",
    "version": 3
   },
   "file_extension": ".py",
   "mimetype": "text/x-python",
   "name": "python",
   "nbconvert_exporter": "python",
   "pygments_lexer": "ipython3",
   "version": "3.7.12"
  },
  "papermill": {
   "default_parameters": {},
   "duration": 4020.73682,
   "end_time": "2022-10-24T13:21:18.018634",
   "environment_variables": {},
   "exception": null,
   "input_path": "__notebook__.ipynb",
   "output_path": "__notebook__.ipynb",
   "parameters": {},
   "start_time": "2022-10-24T12:14:17.281814",
   "version": "2.3.4"
  }
 },
 "nbformat": 4,
 "nbformat_minor": 5
}
