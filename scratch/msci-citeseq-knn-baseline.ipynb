{
 "cells": [
  {
   "cell_type": "code",
   "execution_count": 1,
   "id": "7ba87ca0",
   "metadata": {
    "_cell_guid": "b1076dfc-b9ad-4769-8c92-a6c4dae69d19",
    "_uuid": "8f2839f25d086af736a60e9eeb907d3b93b6e0e5",
    "execution": {
     "iopub.execute_input": "2022-10-26T18:01:47.257374Z",
     "iopub.status.busy": "2022-10-26T18:01:47.256435Z",
     "iopub.status.idle": "2022-10-26T18:01:47.348365Z",
     "shell.execute_reply": "2022-10-26T18:01:47.347288Z"
    },
    "papermill": {
     "duration": 0.103006,
     "end_time": "2022-10-26T18:01:47.351303",
     "exception": false,
     "start_time": "2022-10-26T18:01:47.248297",
     "status": "completed"
    },
    "tags": []
   },
   "outputs": [],
   "source": [
    "import os\n",
    "import os.path\n",
    "import gc\n",
    "import numpy as np\n",
    "import pandas as pd\n",
    "import scipy.sparse\n",
    "from tqdm import tqdm"
   ]
  },
  {
   "cell_type": "code",
   "execution_count": 2,
   "id": "3f562a52",
   "metadata": {
    "execution": {
     "iopub.execute_input": "2022-10-26T18:01:47.364932Z",
     "iopub.status.busy": "2022-10-26T18:01:47.363994Z",
     "iopub.status.idle": "2022-10-26T18:01:47.368605Z",
     "shell.execute_reply": "2022-10-26T18:01:47.367821Z"
    },
    "papermill": {
     "duration": 0.013307,
     "end_time": "2022-10-26T18:01:47.370471",
     "exception": false,
     "start_time": "2022-10-26T18:01:47.357164",
     "status": "completed"
    },
    "tags": []
   },
   "outputs": [],
   "source": [
    "import warnings \n",
    "warnings.filterwarnings('ignore')"
   ]
  },
  {
   "cell_type": "code",
   "execution_count": 3,
   "id": "ff73aa3b",
   "metadata": {
    "execution": {
     "iopub.execute_input": "2022-10-26T18:01:47.383481Z",
     "iopub.status.busy": "2022-10-26T18:01:47.382974Z",
     "iopub.status.idle": "2022-10-26T18:01:47.388115Z",
     "shell.execute_reply": "2022-10-26T18:01:47.387476Z"
    },
    "papermill": {
     "duration": 0.013643,
     "end_time": "2022-10-26T18:01:47.389955",
     "exception": false,
     "start_time": "2022-10-26T18:01:47.376312",
     "status": "completed"
    },
    "tags": []
   },
   "outputs": [],
   "source": [
    "import pickle\n",
    "\n",
    "def dump_pickle(file, filename):\n",
    "    outfile = open(filename, 'wb')\n",
    "    pickle.dump(file, outfile)\n",
    "    outfile.close()\n",
    "\n",
    "def load_pickle(filename):\n",
    "    infile = open(filename, 'rb')\n",
    "    file = pickle.load(infile)\n",
    "    infile.close()\n",
    "    return file"
   ]
  },
  {
   "cell_type": "code",
   "execution_count": 4,
   "id": "2896b32e",
   "metadata": {
    "execution": {
     "iopub.execute_input": "2022-10-26T18:01:47.402649Z",
     "iopub.status.busy": "2022-10-26T18:01:47.402145Z",
     "iopub.status.idle": "2022-10-26T18:01:47.681180Z",
     "shell.execute_reply": "2022-10-26T18:01:47.679932Z"
    },
    "papermill": {
     "duration": 0.288003,
     "end_time": "2022-10-26T18:01:47.683529",
     "exception": false,
     "start_time": "2022-10-26T18:01:47.395526",
     "status": "completed"
    },
    "tags": []
   },
   "outputs": [
    {
     "name": "stdout",
     "output_type": "stream",
     "text": [
      "total 27G\r\n",
      "-rw-r--r-- 1 nobody nogroup 2.3G Sep  7 19:51 evaluation_ids.csv\r\n",
      "-rw-r--r-- 1 nobody nogroup 9.4M Sep  7 19:50 metadata.csv\r\n",
      "-rw-r--r-- 1 nobody nogroup 230K Sep  7 19:50 metadata_cite_day_2_donor_27678.csv\r\n",
      "-rw-r--r-- 1 nobody nogroup 805M Sep  7 19:50 sample_submission.csv\r\n",
      "-rw-r--r-- 1 nobody nogroup 1.6G Sep  7 19:51 test_cite_inputs.h5\r\n",
      "-rw-r--r-- 1 nobody nogroup 294M Sep  7 19:50 test_cite_inputs_day_2_donor_27678.h5\r\n",
      "-rw-r--r-- 1 nobody nogroup 6.1G Sep  7 19:52 test_multi_inputs.h5\r\n",
      "-rw-r--r-- 1 nobody nogroup 2.4G Sep  7 19:51 train_cite_inputs.h5\r\n",
      "-rw-r--r-- 1 nobody nogroup  37M Sep  7 19:50 train_cite_targets.h5\r\n",
      "-rw-r--r-- 1 nobody nogroup  11G Sep  7 19:52 train_multi_inputs.h5\r\n",
      "-rw-r--r-- 1 nobody nogroup 3.0G Sep  7 19:51 train_multi_targets.h5\r\n"
     ]
    }
   ],
   "source": [
    "DATA_DIR = '../input/open-problems-multimodal'\n",
    "%ls $DATA_DIR -lh"
   ]
  },
  {
   "cell_type": "markdown",
   "id": "ddc50026",
   "metadata": {
    "execution": {
     "iopub.execute_input": "2022-10-24T09:53:23.309610Z",
     "iopub.status.busy": "2022-10-24T09:53:23.309238Z",
     "iopub.status.idle": "2022-10-24T09:53:23.315117Z",
     "shell.execute_reply": "2022-10-24T09:53:23.313565Z",
     "shell.execute_reply.started": "2022-10-24T09:53:23.309583Z"
    },
    "papermill": {
     "duration": 0.005205,
     "end_time": "2022-10-26T18:01:47.694830",
     "exception": false,
     "start_time": "2022-10-26T18:01:47.689625",
     "status": "completed"
    },
    "tags": []
   },
   "source": [
    "## Read Data"
   ]
  },
  {
   "cell_type": "code",
   "execution_count": 5,
   "id": "0de83928",
   "metadata": {
    "execution": {
     "iopub.execute_input": "2022-10-26T18:01:47.707375Z",
     "iopub.status.busy": "2022-10-26T18:01:47.706992Z",
     "iopub.status.idle": "2022-10-26T18:02:30.491567Z",
     "shell.execute_reply": "2022-10-26T18:02:30.489630Z"
    },
    "papermill": {
     "duration": 42.797249,
     "end_time": "2022-10-26T18:02:30.497504",
     "exception": false,
     "start_time": "2022-10-26T18:01:47.700255",
     "status": "completed"
    },
    "tags": []
   },
   "outputs": [
    {
     "name": "stdout",
     "output_type": "stream",
     "text": [
      "CPU times: user 18.2 s, sys: 2.93 s, total: 21.1 s\n",
      "Wall time: 42.8 s\n"
     ]
    }
   ],
   "source": [
    "%%time\n",
    "train_inp = pd.read_hdf(f'{DATA_DIR}/train_cite_inputs.h5')"
   ]
  },
  {
   "cell_type": "code",
   "execution_count": 6,
   "id": "a5546493",
   "metadata": {
    "execution": {
     "iopub.execute_input": "2022-10-26T18:02:30.510567Z",
     "iopub.status.busy": "2022-10-26T18:02:30.510207Z",
     "iopub.status.idle": "2022-10-26T18:02:31.101805Z",
     "shell.execute_reply": "2022-10-26T18:02:31.101152Z"
    },
    "papermill": {
     "duration": 0.600976,
     "end_time": "2022-10-26T18:02:31.104230",
     "exception": false,
     "start_time": "2022-10-26T18:02:30.503254",
     "status": "completed"
    },
    "tags": []
   },
   "outputs": [
    {
     "name": "stdout",
     "output_type": "stream",
     "text": [
      "CPU times: user 143 ms, sys: 28.4 ms, total: 172 ms\n",
      "Wall time: 587 ms\n"
     ]
    }
   ],
   "source": [
    "%%time\n",
    "train_tar = pd.read_hdf(f'{DATA_DIR}/train_cite_targets.h5')\n",
    "train_tar_cols = train_tar.columns"
   ]
  },
  {
   "cell_type": "markdown",
   "id": "8c09b4a9",
   "metadata": {
    "papermill": {
     "duration": 0.005425,
     "end_time": "2022-10-26T18:02:31.115595",
     "exception": false,
     "start_time": "2022-10-26T18:02:31.110170",
     "status": "completed"
    },
    "tags": []
   },
   "source": [
    "## Modeling"
   ]
  },
  {
   "cell_type": "markdown",
   "id": "c7e959c5",
   "metadata": {
    "papermill": {
     "duration": 0.005492,
     "end_time": "2022-10-26T18:02:31.126768",
     "exception": false,
     "start_time": "2022-10-26T18:02:31.121276",
     "status": "completed"
    },
    "tags": []
   },
   "source": [
    "### Loss Function"
   ]
  },
  {
   "cell_type": "code",
   "execution_count": 7,
   "id": "ac5556df",
   "metadata": {
    "execution": {
     "iopub.execute_input": "2022-10-26T18:02:31.140249Z",
     "iopub.status.busy": "2022-10-26T18:02:31.139596Z",
     "iopub.status.idle": "2022-10-26T18:02:31.146200Z",
     "shell.execute_reply": "2022-10-26T18:02:31.145437Z"
    },
    "papermill": {
     "duration": 0.01602,
     "end_time": "2022-10-26T18:02:31.148480",
     "exception": false,
     "start_time": "2022-10-26T18:02:31.132460",
     "status": "completed"
    },
    "tags": []
   },
   "outputs": [],
   "source": [
    "def correlation_score(y_true, y_pred):\n",
    "    \"\"\"Scores the predictions according to the competition rules. \n",
    "    It is assumed that the predictions are not constant.\n",
    "    Returns the average of each sample's Pearson correlation coefficient\"\"\"\n",
    "    if type(y_true) == pd.DataFrame: y_true = y_true.values\n",
    "    if type(y_pred) == pd.DataFrame: y_pred = y_pred.values\n",
    "    if y_true.shape != y_pred.shape: raise ValueError(\"Shapes are different.\")\n",
    "    corrsum = 0\n",
    "    for i in range(len(y_true)):\n",
    "        corrsum += np.corrcoef(y_true[i], y_pred[i])[1, 0]\n",
    "    return corrsum / len(y_true)"
   ]
  },
  {
   "cell_type": "markdown",
   "id": "01408e4b",
   "metadata": {
    "papermill": {
     "duration": 0.005724,
     "end_time": "2022-10-26T18:02:31.160200",
     "exception": false,
     "start_time": "2022-10-26T18:02:31.154476",
     "status": "completed"
    },
    "tags": []
   },
   "source": [
    "### Modeling"
   ]
  },
  {
   "cell_type": "code",
   "execution_count": 8,
   "id": "5a137361",
   "metadata": {
    "execution": {
     "iopub.execute_input": "2022-10-26T18:02:31.173660Z",
     "iopub.status.busy": "2022-10-26T18:02:31.173103Z",
     "iopub.status.idle": "2022-10-26T18:02:32.311006Z",
     "shell.execute_reply": "2022-10-26T18:02:32.310144Z"
    },
    "papermill": {
     "duration": 1.147267,
     "end_time": "2022-10-26T18:02:32.313385",
     "exception": false,
     "start_time": "2022-10-26T18:02:31.166118",
     "status": "completed"
    },
    "tags": []
   },
   "outputs": [],
   "source": [
    "from sklearn.neighbors import KNeighborsRegressor\n",
    "from sklearn.model_selection import train_test_split"
   ]
  },
  {
   "cell_type": "code",
   "execution_count": 9,
   "id": "5c1535f8",
   "metadata": {
    "execution": {
     "iopub.execute_input": "2022-10-26T18:02:32.327972Z",
     "iopub.status.busy": "2022-10-26T18:02:32.326420Z",
     "iopub.status.idle": "2022-10-26T18:02:39.815054Z",
     "shell.execute_reply": "2022-10-26T18:02:39.813685Z"
    },
    "papermill": {
     "duration": 7.497881,
     "end_time": "2022-10-26T18:02:39.817219",
     "exception": false,
     "start_time": "2022-10-26T18:02:32.319338",
     "status": "completed"
    },
    "tags": []
   },
   "outputs": [
    {
     "name": "stdout",
     "output_type": "stream",
     "text": [
      "CPU times: user 6.97 s, sys: 566 ms, total: 7.53 s\n",
      "Wall time: 7.48 s\n"
     ]
    }
   ],
   "source": [
    "%%time\n",
    "X_train, X_val, y_train, y_val = train_test_split(train_inp,\n",
    "                                                  train_tar,\n",
    "                                                  test_size=0.2,\n",
    "                                                  random_state=42)"
   ]
  },
  {
   "cell_type": "code",
   "execution_count": 10,
   "id": "a95bf425",
   "metadata": {
    "execution": {
     "iopub.execute_input": "2022-10-26T18:02:39.830599Z",
     "iopub.status.busy": "2022-10-26T18:02:39.830197Z",
     "iopub.status.idle": "2022-10-26T18:02:39.959560Z",
     "shell.execute_reply": "2022-10-26T18:02:39.958336Z"
    },
    "papermill": {
     "duration": 0.138401,
     "end_time": "2022-10-26T18:02:39.961622",
     "exception": false,
     "start_time": "2022-10-26T18:02:39.823221",
     "status": "completed"
    },
    "tags": []
   },
   "outputs": [
    {
     "data": {
      "text/plain": [
       "42"
      ]
     },
     "execution_count": 10,
     "metadata": {},
     "output_type": "execute_result"
    }
   ],
   "source": [
    "del train_inp, train_tar\n",
    "gc.collect()"
   ]
  },
  {
   "cell_type": "code",
   "execution_count": 11,
   "id": "8179a4fe",
   "metadata": {
    "execution": {
     "iopub.execute_input": "2022-10-26T18:02:39.975314Z",
     "iopub.status.busy": "2022-10-26T18:02:39.974952Z",
     "iopub.status.idle": "2022-10-26T18:02:40.732236Z",
     "shell.execute_reply": "2022-10-26T18:02:40.730322Z"
    },
    "papermill": {
     "duration": 0.767126,
     "end_time": "2022-10-26T18:02:40.734866",
     "exception": false,
     "start_time": "2022-10-26T18:02:39.967740",
     "status": "completed"
    },
    "tags": []
   },
   "outputs": [
    {
     "name": "stdout",
     "output_type": "stream",
     "text": [
      "CPU times: user 746 ms, sys: 0 ns, total: 746 ms\n",
      "Wall time: 746 ms\n"
     ]
    },
    {
     "data": {
      "text/plain": [
       "KNeighborsRegressor(n_neighbors=9)"
      ]
     },
     "execution_count": 11,
     "metadata": {},
     "output_type": "execute_result"
    }
   ],
   "source": [
    "%%time\n",
    "knn = KNeighborsRegressor(n_neighbors=9)\n",
    "knn.fit(X_train, y_train)"
   ]
  },
  {
   "cell_type": "code",
   "execution_count": 12,
   "id": "b804f3ef",
   "metadata": {
    "execution": {
     "iopub.execute_input": "2022-10-26T18:02:40.749394Z",
     "iopub.status.busy": "2022-10-26T18:02:40.749085Z",
     "iopub.status.idle": "2022-10-26T18:32:47.379652Z",
     "shell.execute_reply": "2022-10-26T18:32:47.378230Z"
    },
    "papermill": {
     "duration": 1806.649372,
     "end_time": "2022-10-26T18:32:47.391028",
     "exception": false,
     "start_time": "2022-10-26T18:02:40.741656",
     "status": "completed"
    },
    "tags": []
   },
   "outputs": [
    {
     "name": "stdout",
     "output_type": "stream",
     "text": [
      "CPU times: user 1h 49min 38s, sys: 5min 1s, total: 1h 54min 39s\n",
      "Wall time: 30min 6s\n"
     ]
    },
    {
     "data": {
      "text/plain": [
       "0.8829513861350354"
      ]
     },
     "execution_count": 12,
     "metadata": {},
     "output_type": "execute_result"
    }
   ],
   "source": [
    "%%time\n",
    "correlation_score(y_train, knn.predict(X_train))"
   ]
  },
  {
   "cell_type": "code",
   "execution_count": 13,
   "id": "f5903418",
   "metadata": {
    "execution": {
     "iopub.execute_input": "2022-10-26T18:32:47.406235Z",
     "iopub.status.busy": "2022-10-26T18:32:47.405812Z",
     "iopub.status.idle": "2022-10-26T18:40:20.729557Z",
     "shell.execute_reply": "2022-10-26T18:40:20.728011Z"
    },
    "papermill": {
     "duration": 453.340181,
     "end_time": "2022-10-26T18:40:20.737515",
     "exception": false,
     "start_time": "2022-10-26T18:32:47.397334",
     "status": "completed"
    },
    "tags": []
   },
   "outputs": [
    {
     "name": "stdout",
     "output_type": "stream",
     "text": [
      "CPU times: user 27min 30s, sys: 1min 16s, total: 28min 47s\n",
      "Wall time: 7min 33s\n"
     ]
    },
    {
     "data": {
      "text/plain": [
       "0.8604450560781888"
      ]
     },
     "execution_count": 13,
     "metadata": {},
     "output_type": "execute_result"
    }
   ],
   "source": [
    "%%time\n",
    "correlation_score(y_val, knn.predict(X_val))"
   ]
  },
  {
   "cell_type": "code",
   "execution_count": 14,
   "id": "fe9cfd27",
   "metadata": {
    "execution": {
     "iopub.execute_input": "2022-10-26T18:40:20.752468Z",
     "iopub.status.busy": "2022-10-26T18:40:20.751770Z",
     "iopub.status.idle": "2022-10-26T18:40:20.959942Z",
     "shell.execute_reply": "2022-10-26T18:40:20.958412Z"
    },
    "papermill": {
     "duration": 0.219134,
     "end_time": "2022-10-26T18:40:20.963269",
     "exception": false,
     "start_time": "2022-10-26T18:40:20.744135",
     "status": "completed"
    },
    "tags": []
   },
   "outputs": [
    {
     "data": {
      "text/plain": [
       "21"
      ]
     },
     "execution_count": 14,
     "metadata": {},
     "output_type": "execute_result"
    }
   ],
   "source": [
    "del X_train, X_val, y_train, y_val\n",
    "gc.collect()"
   ]
  },
  {
   "cell_type": "markdown",
   "id": "52e7fb32",
   "metadata": {
    "papermill": {
     "duration": 0.006231,
     "end_time": "2022-10-26T18:40:20.976430",
     "exception": false,
     "start_time": "2022-10-26T18:40:20.970199",
     "status": "completed"
    },
    "tags": []
   },
   "source": [
    "## Prediction "
   ]
  },
  {
   "cell_type": "code",
   "execution_count": 15,
   "id": "90a1fc77",
   "metadata": {
    "execution": {
     "iopub.execute_input": "2022-10-26T18:40:20.996034Z",
     "iopub.status.busy": "2022-10-26T18:40:20.995467Z",
     "iopub.status.idle": "2022-10-26T18:40:50.436971Z",
     "shell.execute_reply": "2022-10-26T18:40:50.435264Z"
    },
    "papermill": {
     "duration": 29.455098,
     "end_time": "2022-10-26T18:40:50.440096",
     "exception": false,
     "start_time": "2022-10-26T18:40:20.984998",
     "status": "completed"
    },
    "tags": []
   },
   "outputs": [
    {
     "name": "stdout",
     "output_type": "stream",
     "text": [
      "CPU times: user 12.8 s, sys: 1.84 s, total: 14.6 s\n",
      "Wall time: 29.4 s\n"
     ]
    }
   ],
   "source": [
    "%%time\n",
    "test_inp = pd.read_hdf(f'{DATA_DIR}/test_cite_inputs.h5')\n",
    "test_inp_idx = test_inp.index"
   ]
  },
  {
   "cell_type": "code",
   "execution_count": 16,
   "id": "05a32cb9",
   "metadata": {
    "execution": {
     "iopub.execute_input": "2022-10-26T18:40:50.456457Z",
     "iopub.status.busy": "2022-10-26T18:40:50.455245Z",
     "iopub.status.idle": "2022-10-26T19:06:36.116416Z",
     "shell.execute_reply": "2022-10-26T19:06:36.114452Z"
    },
    "papermill": {
     "duration": 1545.676689,
     "end_time": "2022-10-26T19:06:36.123750",
     "exception": false,
     "start_time": "2022-10-26T18:40:50.447061",
     "status": "completed"
    },
    "tags": []
   },
   "outputs": [
    {
     "name": "stdout",
     "output_type": "stream",
     "text": [
      "CPU times: user 1h 33min 59s, sys: 4min 12s, total: 1h 38min 12s\n",
      "Wall time: 25min 45s\n"
     ]
    },
    {
     "data": {
      "text/plain": [
       "(48663, 140)"
      ]
     },
     "execution_count": 16,
     "metadata": {},
     "output_type": "execute_result"
    }
   ],
   "source": [
    "%%time\n",
    "test_tar_preds = knn.predict(test_inp)\n",
    "test_tar_preds.shape"
   ]
  },
  {
   "cell_type": "code",
   "execution_count": 17,
   "id": "feac387c",
   "metadata": {
    "execution": {
     "iopub.execute_input": "2022-10-26T19:06:36.138951Z",
     "iopub.status.busy": "2022-10-26T19:06:36.138452Z",
     "iopub.status.idle": "2022-10-26T19:06:36.281632Z",
     "shell.execute_reply": "2022-10-26T19:06:36.280092Z"
    },
    "papermill": {
     "duration": 0.154358,
     "end_time": "2022-10-26T19:06:36.284728",
     "exception": false,
     "start_time": "2022-10-26T19:06:36.130370",
     "status": "completed"
    },
    "tags": []
   },
   "outputs": [
    {
     "data": {
      "text/plain": [
       "121"
      ]
     },
     "execution_count": 17,
     "metadata": {},
     "output_type": "execute_result"
    }
   ],
   "source": [
    "del test_inp\n",
    "gc.collect()"
   ]
  },
  {
   "cell_type": "markdown",
   "id": "709b45dd",
   "metadata": {
    "papermill": {
     "duration": 0.007066,
     "end_time": "2022-10-26T19:06:36.299214",
     "exception": false,
     "start_time": "2022-10-26T19:06:36.292148",
     "status": "completed"
    },
    "tags": []
   },
   "source": [
    "## Creating Submission"
   ]
  },
  {
   "cell_type": "code",
   "execution_count": 18,
   "id": "265f813e",
   "metadata": {
    "execution": {
     "iopub.execute_input": "2022-10-26T19:06:36.316006Z",
     "iopub.status.busy": "2022-10-26T19:06:36.315582Z",
     "iopub.status.idle": "2022-10-26T19:06:39.401116Z",
     "shell.execute_reply": "2022-10-26T19:06:39.398987Z"
    },
    "papermill": {
     "duration": 3.097872,
     "end_time": "2022-10-26T19:06:39.404230",
     "exception": false,
     "start_time": "2022-10-26T19:06:36.306358",
     "status": "completed"
    },
    "tags": []
   },
   "outputs": [
    {
     "name": "stdout",
     "output_type": "stream",
     "text": [
      "CPU times: user 2.64 s, sys: 440 ms, total: 3.08 s\n",
      "Wall time: 3.08 s\n"
     ]
    }
   ],
   "source": [
    "%%time\n",
    "test_preds = {cell_id: {gene_id: test_tar_preds[i][j]\n",
    "                       for j, gene_id in enumerate(train_tar_cols, 0)}\n",
    "              for i, cell_id in enumerate(test_inp_idx, 0)}"
   ]
  },
  {
   "cell_type": "code",
   "execution_count": 19,
   "id": "a6614815",
   "metadata": {
    "execution": {
     "iopub.execute_input": "2022-10-26T19:06:39.423845Z",
     "iopub.status.busy": "2022-10-26T19:06:39.422288Z",
     "iopub.status.idle": "2022-10-26T19:06:39.566352Z",
     "shell.execute_reply": "2022-10-26T19:06:39.565451Z"
    },
    "papermill": {
     "duration": 0.156082,
     "end_time": "2022-10-26T19:06:39.568202",
     "exception": false,
     "start_time": "2022-10-26T19:06:39.412120",
     "status": "completed"
    },
    "tags": []
   },
   "outputs": [
    {
     "data": {
      "text/plain": [
       "21"
      ]
     },
     "execution_count": 19,
     "metadata": {},
     "output_type": "execute_result"
    }
   ],
   "source": [
    "del test_tar_preds\n",
    "gc.collect()"
   ]
  },
  {
   "cell_type": "code",
   "execution_count": 20,
   "id": "c21031f8",
   "metadata": {
    "execution": {
     "iopub.execute_input": "2022-10-26T19:06:39.584512Z",
     "iopub.status.busy": "2022-10-26T19:06:39.583879Z",
     "iopub.status.idle": "2022-10-26T19:06:51.096154Z",
     "shell.execute_reply": "2022-10-26T19:06:51.094792Z"
    },
    "papermill": {
     "duration": 11.522565,
     "end_time": "2022-10-26T19:06:51.098022",
     "exception": false,
     "start_time": "2022-10-26T19:06:39.575457",
     "status": "completed"
    },
    "tags": []
   },
   "outputs": [
    {
     "name": "stdout",
     "output_type": "stream",
     "text": [
      "CPU times: user 10.3 s, sys: 3.2 s, total: 13.5 s\n",
      "Wall time: 11.5 s\n"
     ]
    },
    {
     "data": {
      "text/html": [
       "<div>\n",
       "<style scoped>\n",
       "    .dataframe tbody tr th:only-of-type {\n",
       "        vertical-align: middle;\n",
       "    }\n",
       "\n",
       "    .dataframe tbody tr th {\n",
       "        vertical-align: top;\n",
       "    }\n",
       "\n",
       "    .dataframe thead th {\n",
       "        text-align: right;\n",
       "    }\n",
       "</style>\n",
       "<table border=\"1\" class=\"dataframe\">\n",
       "  <thead>\n",
       "    <tr style=\"text-align: right;\">\n",
       "      <th></th>\n",
       "      <th>row_id</th>\n",
       "      <th>cell_id</th>\n",
       "      <th>gene_id</th>\n",
       "    </tr>\n",
       "  </thead>\n",
       "  <tbody>\n",
       "    <tr>\n",
       "      <th>0</th>\n",
       "      <td>0</td>\n",
       "      <td>c2150f55becb</td>\n",
       "      <td>CD86</td>\n",
       "    </tr>\n",
       "    <tr>\n",
       "      <th>1</th>\n",
       "      <td>1</td>\n",
       "      <td>c2150f55becb</td>\n",
       "      <td>CD274</td>\n",
       "    </tr>\n",
       "    <tr>\n",
       "      <th>2</th>\n",
       "      <td>2</td>\n",
       "      <td>c2150f55becb</td>\n",
       "      <td>CD270</td>\n",
       "    </tr>\n",
       "    <tr>\n",
       "      <th>3</th>\n",
       "      <td>3</td>\n",
       "      <td>c2150f55becb</td>\n",
       "      <td>CD155</td>\n",
       "    </tr>\n",
       "    <tr>\n",
       "      <th>4</th>\n",
       "      <td>4</td>\n",
       "      <td>c2150f55becb</td>\n",
       "      <td>CD112</td>\n",
       "    </tr>\n",
       "  </tbody>\n",
       "</table>\n",
       "</div>"
      ],
      "text/plain": [
       "   row_id       cell_id gene_id\n",
       "0       0  c2150f55becb    CD86\n",
       "1       1  c2150f55becb   CD274\n",
       "2       2  c2150f55becb   CD270\n",
       "3       3  c2150f55becb   CD155\n",
       "4       4  c2150f55becb   CD112"
      ]
     },
     "execution_count": 20,
     "metadata": {},
     "output_type": "execute_result"
    }
   ],
   "source": [
    "%%time\n",
    "eval_ids = pd.read_parquet(f'../input/msci-h5-sparse-transform/evaluation_ids.parquet')\n",
    "eval_ids.head()"
   ]
  },
  {
   "cell_type": "code",
   "execution_count": 21,
   "id": "48de9e95",
   "metadata": {
    "execution": {
     "iopub.execute_input": "2022-10-26T19:06:51.115331Z",
     "iopub.status.busy": "2022-10-26T19:06:51.114884Z",
     "iopub.status.idle": "2022-10-26T19:18:17.792888Z",
     "shell.execute_reply": "2022-10-26T19:18:17.790018Z"
    },
    "papermill": {
     "duration": 686.708647,
     "end_time": "2022-10-26T19:18:17.814332",
     "exception": false,
     "start_time": "2022-10-26T19:06:51.105685",
     "status": "completed"
    },
    "tags": []
   },
   "outputs": [
    {
     "name": "stdout",
     "output_type": "stream",
     "text": [
      "CPU times: user 11min 19s, sys: 7.1 s, total: 11min 26s\n",
      "Wall time: 11min 26s\n"
     ]
    }
   ],
   "source": [
    "%%time\n",
    "eval_ids['target'] = eval_ids.apply(lambda x: test_preds[x['cell_id']][x['gene_id']]\n",
    "                                    if x['cell_id'] in test_preds.keys() else 0,\n",
    "                                    axis=1)"
   ]
  },
  {
   "cell_type": "code",
   "execution_count": 22,
   "id": "90439552",
   "metadata": {
    "execution": {
     "iopub.execute_input": "2022-10-26T19:18:17.855369Z",
     "iopub.status.busy": "2022-10-26T19:18:17.854950Z",
     "iopub.status.idle": "2022-10-26T19:19:32.708993Z",
     "shell.execute_reply": "2022-10-26T19:19:32.707805Z"
    },
    "papermill": {
     "duration": 74.879067,
     "end_time": "2022-10-26T19:19:32.711622",
     "exception": false,
     "start_time": "2022-10-26T19:18:17.832555",
     "status": "completed"
    },
    "tags": []
   },
   "outputs": [],
   "source": [
    "eval_ids.drop(['cell_id', 'gene_id'], axis=1)\\\n",
    "        .to_csv('cite_sub.csv', index=False)"
   ]
  }
 ],
 "metadata": {
  "kernelspec": {
   "display_name": "Python 3",
   "language": "python",
   "name": "python3"
  },
  "language_info": {
   "codemirror_mode": {
    "name": "ipython",
    "version": 3
   },
   "file_extension": ".py",
   "mimetype": "text/x-python",
   "name": "python",
   "nbconvert_exporter": "python",
   "pygments_lexer": "ipython3",
   "version": "3.7.12"
  },
  "papermill": {
   "default_parameters": {},
   "duration": 4674.879387,
   "end_time": "2022-10-26T19:19:34.562452",
   "environment_variables": {},
   "exception": null,
   "input_path": "__notebook__.ipynb",
   "output_path": "__notebook__.ipynb",
   "parameters": {},
   "start_time": "2022-10-26T18:01:39.683065",
   "version": "2.3.4"
  }
 },
 "nbformat": 4,
 "nbformat_minor": 5
}
