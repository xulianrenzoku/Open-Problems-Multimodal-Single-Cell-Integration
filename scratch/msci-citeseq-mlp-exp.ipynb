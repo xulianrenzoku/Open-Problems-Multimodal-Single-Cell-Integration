{
 "cells": [
  {
   "cell_type": "code",
   "execution_count": 1,
   "id": "0f4e6b78",
   "metadata": {
    "_cell_guid": "b1076dfc-b9ad-4769-8c92-a6c4dae69d19",
    "_uuid": "8f2839f25d086af736a60e9eeb907d3b93b6e0e5",
    "execution": {
     "iopub.execute_input": "2022-11-02T12:44:54.704904Z",
     "iopub.status.busy": "2022-11-02T12:44:54.703411Z",
     "iopub.status.idle": "2022-11-02T12:44:54.813240Z",
     "shell.execute_reply": "2022-11-02T12:44:54.811735Z"
    },
    "papermill": {
     "duration": 0.127375,
     "end_time": "2022-11-02T12:44:54.816317",
     "exception": false,
     "start_time": "2022-11-02T12:44:54.688942",
     "status": "completed"
    },
    "tags": []
   },
   "outputs": [],
   "source": [
    "import os\n",
    "import os.path\n",
    "import random\n",
    "import gc\n",
    "import numpy as np\n",
    "import pandas as pd\n",
    "import scipy.sparse\n",
    "from tqdm import tqdm"
   ]
  },
  {
   "cell_type": "code",
   "execution_count": 2,
   "id": "c61c6d38",
   "metadata": {
    "execution": {
     "iopub.execute_input": "2022-11-02T12:44:54.844087Z",
     "iopub.status.busy": "2022-11-02T12:44:54.843626Z",
     "iopub.status.idle": "2022-11-02T12:44:54.849115Z",
     "shell.execute_reply": "2022-11-02T12:44:54.847935Z"
    },
    "papermill": {
     "duration": 0.023107,
     "end_time": "2022-11-02T12:44:54.851583",
     "exception": false,
     "start_time": "2022-11-02T12:44:54.828476",
     "status": "completed"
    },
    "tags": []
   },
   "outputs": [],
   "source": [
    "import warnings \n",
    "warnings.filterwarnings('ignore')"
   ]
  },
  {
   "cell_type": "code",
   "execution_count": 3,
   "id": "d48e0885",
   "metadata": {
    "execution": {
     "iopub.execute_input": "2022-11-02T12:44:54.876666Z",
     "iopub.status.busy": "2022-11-02T12:44:54.876227Z",
     "iopub.status.idle": "2022-11-02T12:44:56.021710Z",
     "shell.execute_reply": "2022-11-02T12:44:56.020886Z"
    },
    "papermill": {
     "duration": 1.161468,
     "end_time": "2022-11-02T12:44:56.024722",
     "exception": false,
     "start_time": "2022-11-02T12:44:54.863254",
     "status": "completed"
    },
    "tags": []
   },
   "outputs": [],
   "source": [
    "import seaborn as sns\n",
    "import matplotlib\n",
    "import matplotlib.pyplot as plt\n",
    "from IPython.core.pylabtools import figsize"
   ]
  },
  {
   "cell_type": "code",
   "execution_count": 4,
   "id": "61723b02",
   "metadata": {
    "execution": {
     "iopub.execute_input": "2022-11-02T12:44:56.056628Z",
     "iopub.status.busy": "2022-11-02T12:44:56.055485Z",
     "iopub.status.idle": "2022-11-02T12:44:56.062993Z",
     "shell.execute_reply": "2022-11-02T12:44:56.061567Z"
    },
    "papermill": {
     "duration": 0.028252,
     "end_time": "2022-11-02T12:44:56.066564",
     "exception": false,
     "start_time": "2022-11-02T12:44:56.038312",
     "status": "completed"
    },
    "tags": []
   },
   "outputs": [],
   "source": [
    "sns.set()"
   ]
  },
  {
   "cell_type": "code",
   "execution_count": 5,
   "id": "cdd4149a",
   "metadata": {
    "execution": {
     "iopub.execute_input": "2022-11-02T12:44:56.095682Z",
     "iopub.status.busy": "2022-11-02T12:44:56.093971Z",
     "iopub.status.idle": "2022-11-02T12:44:56.103527Z",
     "shell.execute_reply": "2022-11-02T12:44:56.102609Z"
    },
    "papermill": {
     "duration": 0.028021,
     "end_time": "2022-11-02T12:44:56.106363",
     "exception": false,
     "start_time": "2022-11-02T12:44:56.078342",
     "status": "completed"
    },
    "tags": []
   },
   "outputs": [],
   "source": [
    "import pickle\n",
    "\n",
    "def dump_pickle(file, filename):\n",
    "    outfile = open(filename, 'wb')\n",
    "    pickle.dump(file, outfile)\n",
    "    outfile.close()\n",
    "\n",
    "def load_pickle(filename):\n",
    "    infile = open(filename, 'rb')\n",
    "    file = pickle.load(infile)\n",
    "    infile.close()\n",
    "    return file"
   ]
  },
  {
   "cell_type": "code",
   "execution_count": 6,
   "id": "f100acdc",
   "metadata": {
    "execution": {
     "iopub.execute_input": "2022-11-02T12:44:56.132198Z",
     "iopub.status.busy": "2022-11-02T12:44:56.131775Z",
     "iopub.status.idle": "2022-11-02T12:44:57.250724Z",
     "shell.execute_reply": "2022-11-02T12:44:57.248956Z"
    },
    "papermill": {
     "duration": 1.13533,
     "end_time": "2022-11-02T12:44:57.254054",
     "exception": false,
     "start_time": "2022-11-02T12:44:56.118724",
     "status": "completed"
    },
    "tags": []
   },
   "outputs": [
    {
     "name": "stdout",
     "output_type": "stream",
     "text": [
      "total 27G\r\n",
      "-rw-r--r-- 1 nobody nogroup 2.3G Sep  7 19:44 evaluation_ids.csv\r\n",
      "-rw-r--r-- 1 nobody nogroup 9.4M Sep  7 19:43 metadata.csv\r\n",
      "-rw-r--r-- 1 nobody nogroup 230K Sep  7 19:43 metadata_cite_day_2_donor_27678.csv\r\n",
      "-rw-r--r-- 1 nobody nogroup 805M Sep  7 19:43 sample_submission.csv\r\n",
      "-rw-r--r-- 1 nobody nogroup 1.6G Sep  7 19:44 test_cite_inputs.h5\r\n",
      "-rw-r--r-- 1 nobody nogroup 294M Sep  7 19:43 test_cite_inputs_day_2_donor_27678.h5\r\n",
      "-rw-r--r-- 1 nobody nogroup 6.1G Sep  7 19:45 test_multi_inputs.h5\r\n",
      "-rw-r--r-- 1 nobody nogroup 2.4G Sep  7 19:44 train_cite_inputs.h5\r\n",
      "-rw-r--r-- 1 nobody nogroup  37M Sep  7 19:43 train_cite_targets.h5\r\n",
      "-rw-r--r-- 1 nobody nogroup  11G Sep  7 19:46 train_multi_inputs.h5\r\n",
      "-rw-r--r-- 1 nobody nogroup 3.0G Sep  7 19:45 train_multi_targets.h5\r\n"
     ]
    }
   ],
   "source": [
    "DATA_DIR = '../input/open-problems-multimodal'\n",
    "%ls $DATA_DIR -lh"
   ]
  },
  {
   "cell_type": "markdown",
   "id": "eab54d10",
   "metadata": {
    "execution": {
     "iopub.execute_input": "2022-10-24T09:53:23.30961Z",
     "iopub.status.busy": "2022-10-24T09:53:23.309238Z",
     "iopub.status.idle": "2022-10-24T09:53:23.315117Z",
     "shell.execute_reply": "2022-10-24T09:53:23.313565Z",
     "shell.execute_reply.started": "2022-10-24T09:53:23.309583Z"
    },
    "papermill": {
     "duration": 0.011044,
     "end_time": "2022-11-02T12:44:57.276651",
     "exception": false,
     "start_time": "2022-11-02T12:44:57.265607",
     "status": "completed"
    },
    "tags": []
   },
   "source": [
    "## Read Data"
   ]
  },
  {
   "cell_type": "code",
   "execution_count": 7,
   "id": "b2eb61d5",
   "metadata": {
    "execution": {
     "iopub.execute_input": "2022-11-02T12:44:57.302975Z",
     "iopub.status.busy": "2022-11-02T12:44:57.301762Z",
     "iopub.status.idle": "2022-11-02T12:45:52.576511Z",
     "shell.execute_reply": "2022-11-02T12:45:52.575413Z"
    },
    "papermill": {
     "duration": 55.301046,
     "end_time": "2022-11-02T12:45:52.589655",
     "exception": false,
     "start_time": "2022-11-02T12:44:57.288609",
     "status": "completed"
    },
    "tags": []
   },
   "outputs": [
    {
     "name": "stdout",
     "output_type": "stream",
     "text": [
      "CPU times: user 29.2 s, sys: 5.9 s, total: 35.1 s\n",
      "Wall time: 55.3 s\n"
     ]
    }
   ],
   "source": [
    "%%time\n",
    "train_inp = pd.read_hdf(f'{DATA_DIR}/train_cite_inputs.h5')\n",
    "train_inp_cols = train_inp.columns"
   ]
  },
  {
   "cell_type": "code",
   "execution_count": 8,
   "id": "b19cd0ea",
   "metadata": {
    "execution": {
     "iopub.execute_input": "2022-11-02T12:45:52.614557Z",
     "iopub.status.busy": "2022-11-02T12:45:52.613436Z",
     "iopub.status.idle": "2022-11-02T12:46:29.224445Z",
     "shell.execute_reply": "2022-11-02T12:46:29.223036Z"
    },
    "papermill": {
     "duration": 36.636602,
     "end_time": "2022-11-02T12:46:29.237513",
     "exception": false,
     "start_time": "2022-11-02T12:45:52.600911",
     "status": "completed"
    },
    "tags": []
   },
   "outputs": [
    {
     "name": "stdout",
     "output_type": "stream",
     "text": [
      "CPU times: user 19.5 s, sys: 3.32 s, total: 22.8 s\n",
      "Wall time: 36.6 s\n"
     ]
    }
   ],
   "source": [
    "%%time\n",
    "test_inp = pd.read_hdf(f'{DATA_DIR}/test_cite_inputs.h5')"
   ]
  },
  {
   "cell_type": "code",
   "execution_count": 9,
   "id": "0ddb5f8f",
   "metadata": {
    "execution": {
     "iopub.execute_input": "2022-11-02T12:46:29.263384Z",
     "iopub.status.busy": "2022-11-02T12:46:29.262950Z",
     "iopub.status.idle": "2022-11-02T12:46:29.938145Z",
     "shell.execute_reply": "2022-11-02T12:46:29.936793Z"
    },
    "papermill": {
     "duration": 0.691542,
     "end_time": "2022-11-02T12:46:29.941076",
     "exception": false,
     "start_time": "2022-11-02T12:46:29.249534",
     "status": "completed"
    },
    "tags": []
   },
   "outputs": [
    {
     "name": "stdout",
     "output_type": "stream",
     "text": [
      "CPU times: user 187 ms, sys: 48.6 ms, total: 235 ms\n",
      "Wall time: 669 ms\n"
     ]
    }
   ],
   "source": [
    "%%time\n",
    "train_tar = pd.read_hdf(f'{DATA_DIR}/train_cite_targets.h5')\n",
    "train_tar_cols = train_tar.columns"
   ]
  },
  {
   "cell_type": "markdown",
   "id": "e1b59099",
   "metadata": {
    "papermill": {
     "duration": 0.011121,
     "end_time": "2022-11-02T12:46:29.963591",
     "exception": false,
     "start_time": "2022-11-02T12:46:29.952470",
     "status": "completed"
    },
    "tags": []
   },
   "source": [
    "## Data Preprocessing"
   ]
  },
  {
   "cell_type": "markdown",
   "id": "55ab9b1d",
   "metadata": {
    "papermill": {
     "duration": 0.011024,
     "end_time": "2022-11-02T12:46:29.986024",
     "exception": false,
     "start_time": "2022-11-02T12:46:29.975000",
     "status": "completed"
    },
    "tags": []
   },
   "source": [
    "Find columns with all zeroes"
   ]
  },
  {
   "cell_type": "code",
   "execution_count": 10,
   "id": "7a74b1d9",
   "metadata": {
    "execution": {
     "iopub.execute_input": "2022-11-02T12:46:30.011103Z",
     "iopub.status.busy": "2022-11-02T12:46:30.010664Z",
     "iopub.status.idle": "2022-11-02T12:47:11.918335Z",
     "shell.execute_reply": "2022-11-02T12:47:11.916503Z"
    },
    "papermill": {
     "duration": 41.924127,
     "end_time": "2022-11-02T12:47:11.921425",
     "exception": false,
     "start_time": "2022-11-02T12:46:29.997298",
     "status": "completed"
    },
    "tags": []
   },
   "outputs": [
    {
     "name": "stdout",
     "output_type": "stream",
     "text": [
      "0\n",
      "1000\n",
      "2000\n",
      "3000\n",
      "4000\n",
      "5000\n",
      "6000\n",
      "7000\n",
      "8000\n",
      "9000\n",
      "10000\n",
      "11000\n",
      "12000\n",
      "13000\n",
      "14000\n",
      "15000\n",
      "16000\n",
      "17000\n",
      "18000\n",
      "19000\n",
      "20000\n",
      "21000\n",
      "22000\n",
      "Number of columns with zero values only (Train or Test): 1194\n",
      "CPU times: user 41.6 s, sys: 214 ms, total: 41.8 s\n",
      "Wall time: 41.9 s\n"
     ]
    }
   ],
   "source": [
    "%%time\n",
    "zero_cols = []\n",
    "for idx, col in enumerate(train_inp_cols, 0):\n",
    "    if idx % 1000 == 0:\n",
    "        print(idx)\n",
    "    if len(train_inp[col].unique()) == 1 or len(test_inp[col].unique()) == 1:\n",
    "        zero_cols.append(col)\n",
    "print('Number of columns with zero values only (Train or Test):', \n",
    "      len(zero_cols))"
   ]
  },
  {
   "cell_type": "code",
   "execution_count": 11,
   "id": "bb9b3f23",
   "metadata": {
    "execution": {
     "iopub.execute_input": "2022-11-02T12:47:11.950296Z",
     "iopub.status.busy": "2022-11-02T12:47:11.949801Z",
     "iopub.status.idle": "2022-11-02T12:47:15.419412Z",
     "shell.execute_reply": "2022-11-02T12:47:15.418202Z"
    },
    "papermill": {
     "duration": 3.487702,
     "end_time": "2022-11-02T12:47:15.421977",
     "exception": false,
     "start_time": "2022-11-02T12:47:11.934275",
     "status": "completed"
    },
    "tags": []
   },
   "outputs": [
    {
     "name": "stdout",
     "output_type": "stream",
     "text": [
      "CPU times: user 1.44 s, sys: 2.03 s, total: 3.46 s\n",
      "Wall time: 3.46 s\n"
     ]
    },
    {
     "data": {
      "text/plain": [
       "((70988, 20856), (48663, 20856))"
      ]
     },
     "execution_count": 11,
     "metadata": {},
     "output_type": "execute_result"
    }
   ],
   "source": [
    "%%time\n",
    "train_inp = train_inp.drop(zero_cols, axis=1)\n",
    "train_inp_cols = train_inp.columns\n",
    "test_inp = test_inp.drop(zero_cols, axis=1)\n",
    "train_inp.shape, test_inp.shape"
   ]
  },
  {
   "cell_type": "code",
   "execution_count": 12,
   "id": "35bb1a09",
   "metadata": {
    "execution": {
     "iopub.execute_input": "2022-11-02T12:47:15.450579Z",
     "iopub.status.busy": "2022-11-02T12:47:15.450163Z",
     "iopub.status.idle": "2022-11-02T12:47:15.454996Z",
     "shell.execute_reply": "2022-11-02T12:47:15.453786Z"
    },
    "papermill": {
     "duration": 0.022088,
     "end_time": "2022-11-02T12:47:15.457279",
     "exception": false,
     "start_time": "2022-11-02T12:47:15.435191",
     "status": "completed"
    },
    "tags": []
   },
   "outputs": [],
   "source": [
    "# %%time\n",
    "# np.min(train_inp.min().unique()), np.max(train_inp.max().unique())"
   ]
  },
  {
   "cell_type": "code",
   "execution_count": 13,
   "id": "3d3d89b9",
   "metadata": {
    "execution": {
     "iopub.execute_input": "2022-11-02T12:47:15.485634Z",
     "iopub.status.busy": "2022-11-02T12:47:15.485190Z",
     "iopub.status.idle": "2022-11-02T12:47:15.671661Z",
     "shell.execute_reply": "2022-11-02T12:47:15.670355Z"
    },
    "papermill": {
     "duration": 0.20368,
     "end_time": "2022-11-02T12:47:15.674626",
     "exception": false,
     "start_time": "2022-11-02T12:47:15.470946",
     "status": "completed"
    },
    "tags": []
   },
   "outputs": [],
   "source": [
    "from sklearn.preprocessing import StandardScaler, Normalizer"
   ]
  },
  {
   "cell_type": "code",
   "execution_count": 14,
   "id": "500f2d63",
   "metadata": {
    "execution": {
     "iopub.execute_input": "2022-11-02T12:47:15.703745Z",
     "iopub.status.busy": "2022-11-02T12:47:15.703030Z",
     "iopub.status.idle": "2022-11-02T12:47:43.951269Z",
     "shell.execute_reply": "2022-11-02T12:47:43.949681Z"
    },
    "papermill": {
     "duration": 28.266781,
     "end_time": "2022-11-02T12:47:43.954719",
     "exception": false,
     "start_time": "2022-11-02T12:47:15.687938",
     "status": "completed"
    },
    "tags": []
   },
   "outputs": [],
   "source": [
    "sc = StandardScaler()\n",
    "train_inp = sc.fit_transform(train_inp)\n",
    "test_inp = sc.transform(test_inp)"
   ]
  },
  {
   "cell_type": "code",
   "execution_count": 15,
   "id": "236b65bb",
   "metadata": {
    "execution": {
     "iopub.execute_input": "2022-11-02T12:47:43.986048Z",
     "iopub.status.busy": "2022-11-02T12:47:43.984736Z",
     "iopub.status.idle": "2022-11-02T12:47:44.114014Z",
     "shell.execute_reply": "2022-11-02T12:47:44.112869Z"
    },
    "papermill": {
     "duration": 0.148216,
     "end_time": "2022-11-02T12:47:44.116641",
     "exception": false,
     "start_time": "2022-11-02T12:47:43.968425",
     "status": "completed"
    },
    "tags": []
   },
   "outputs": [
    {
     "data": {
      "text/plain": [
       "42"
      ]
     },
     "execution_count": 15,
     "metadata": {},
     "output_type": "execute_result"
    }
   ],
   "source": [
    "del sc\n",
    "gc.collect()"
   ]
  },
  {
   "cell_type": "code",
   "execution_count": 16,
   "id": "56aa8a10",
   "metadata": {
    "execution": {
     "iopub.execute_input": "2022-11-02T12:47:44.146056Z",
     "iopub.status.busy": "2022-11-02T12:47:44.145602Z",
     "iopub.status.idle": "2022-11-02T12:47:45.263096Z",
     "shell.execute_reply": "2022-11-02T12:47:45.261339Z"
    },
    "papermill": {
     "duration": 1.136036,
     "end_time": "2022-11-02T12:47:45.266104",
     "exception": false,
     "start_time": "2022-11-02T12:47:44.130068",
     "status": "completed"
    },
    "tags": []
   },
   "outputs": [],
   "source": [
    "%mkdir ../tmp"
   ]
  },
  {
   "cell_type": "code",
   "execution_count": 17,
   "id": "01f83bb2",
   "metadata": {
    "execution": {
     "iopub.execute_input": "2022-11-02T12:47:45.295436Z",
     "iopub.status.busy": "2022-11-02T12:47:45.295021Z",
     "iopub.status.idle": "2022-11-02T12:47:55.542166Z",
     "shell.execute_reply": "2022-11-02T12:47:55.540869Z"
    },
    "papermill": {
     "duration": 10.265902,
     "end_time": "2022-11-02T12:47:55.545205",
     "exception": false,
     "start_time": "2022-11-02T12:47:45.279303",
     "status": "completed"
    },
    "tags": []
   },
   "outputs": [
    {
     "data": {
      "text/plain": [
       "42"
      ]
     },
     "execution_count": 17,
     "metadata": {},
     "output_type": "execute_result"
    }
   ],
   "source": [
    "dump_pickle(test_inp, '../tmp/test_inp')\n",
    "del test_inp\n",
    "gc.collect()"
   ]
  },
  {
   "cell_type": "code",
   "execution_count": 18,
   "id": "a35233fe",
   "metadata": {
    "execution": {
     "iopub.execute_input": "2022-11-02T12:47:55.573780Z",
     "iopub.status.busy": "2022-11-02T12:47:55.573388Z",
     "iopub.status.idle": "2022-11-02T12:47:55.582253Z",
     "shell.execute_reply": "2022-11-02T12:47:55.580776Z"
    },
    "papermill": {
     "duration": 0.026299,
     "end_time": "2022-11-02T12:47:55.585026",
     "exception": false,
     "start_time": "2022-11-02T12:47:55.558727",
     "status": "completed"
    },
    "tags": []
   },
   "outputs": [],
   "source": [
    "train_tar = train_tar.values"
   ]
  },
  {
   "cell_type": "markdown",
   "id": "79fccb70",
   "metadata": {
    "papermill": {
     "duration": 0.013022,
     "end_time": "2022-11-02T12:47:55.612112",
     "exception": false,
     "start_time": "2022-11-02T12:47:55.599090",
     "status": "completed"
    },
    "tags": []
   },
   "source": [
    "## Modeling"
   ]
  },
  {
   "cell_type": "code",
   "execution_count": 19,
   "id": "338ee79d",
   "metadata": {
    "execution": {
     "iopub.execute_input": "2022-11-02T12:47:55.640746Z",
     "iopub.status.busy": "2022-11-02T12:47:55.640335Z",
     "iopub.status.idle": "2022-11-02T12:47:57.967747Z",
     "shell.execute_reply": "2022-11-02T12:47:57.966469Z"
    },
    "papermill": {
     "duration": 2.344844,
     "end_time": "2022-11-02T12:47:57.970407",
     "exception": false,
     "start_time": "2022-11-02T12:47:55.625563",
     "status": "completed"
    },
    "tags": []
   },
   "outputs": [],
   "source": [
    "import torch\n",
    "import torch.nn as nn\n",
    "import torch.nn.functional as F\n",
    "import torch.optim as optim\n",
    "from torchvision import datasets, transforms\n",
    "from torch.utils.data import DataLoader, TensorDataset, random_split"
   ]
  },
  {
   "cell_type": "code",
   "execution_count": 20,
   "id": "9bb9c07f",
   "metadata": {
    "execution": {
     "iopub.execute_input": "2022-11-02T12:47:58.001052Z",
     "iopub.status.busy": "2022-11-02T12:47:57.999390Z",
     "iopub.status.idle": "2022-11-02T12:47:58.006159Z",
     "shell.execute_reply": "2022-11-02T12:47:58.005319Z"
    },
    "papermill": {
     "duration": 0.024456,
     "end_time": "2022-11-02T12:47:58.008460",
     "exception": false,
     "start_time": "2022-11-02T12:47:57.984004",
     "status": "completed"
    },
    "tags": []
   },
   "outputs": [],
   "source": [
    "# torch.manual_seed(42)\n",
    "# torch.backends.cudnn.deterministic = True"
   ]
  },
  {
   "cell_type": "code",
   "execution_count": 21,
   "id": "fccfbc16",
   "metadata": {
    "execution": {
     "iopub.execute_input": "2022-11-02T12:47:58.038782Z",
     "iopub.status.busy": "2022-11-02T12:47:58.037974Z",
     "iopub.status.idle": "2022-11-02T12:47:58.047289Z",
     "shell.execute_reply": "2022-11-02T12:47:58.045907Z"
    },
    "papermill": {
     "duration": 0.02783,
     "end_time": "2022-11-02T12:47:58.050420",
     "exception": false,
     "start_time": "2022-11-02T12:47:58.022590",
     "status": "completed"
    },
    "tags": []
   },
   "outputs": [
    {
     "name": "stdout",
     "output_type": "stream",
     "text": [
      "CPU times: user 60 µs, sys: 12 µs, total: 72 µs\n",
      "Wall time: 77 µs\n"
     ]
    }
   ],
   "source": [
    "%%time\n",
    "train_inp = torch.from_numpy(train_inp)\n",
    "train_tar = torch.from_numpy(train_tar)"
   ]
  },
  {
   "cell_type": "code",
   "execution_count": 22,
   "id": "1c68675a",
   "metadata": {
    "execution": {
     "iopub.execute_input": "2022-11-02T12:47:58.081088Z",
     "iopub.status.busy": "2022-11-02T12:47:58.080222Z",
     "iopub.status.idle": "2022-11-02T12:47:58.096669Z",
     "shell.execute_reply": "2022-11-02T12:47:58.095670Z"
    },
    "papermill": {
     "duration": 0.034992,
     "end_time": "2022-11-02T12:47:58.099464",
     "exception": false,
     "start_time": "2022-11-02T12:47:58.064472",
     "status": "completed"
    },
    "tags": []
   },
   "outputs": [],
   "source": [
    "full_ds = TensorDataset(train_inp, train_tar)\n",
    "train_sz = 56800\n",
    "val_sz = len(full_ds) - train_sz\n",
    "train_ds, val_ds = random_split(full_ds, \n",
    "                                [train_sz, val_sz],\n",
    "                                generator=torch.Generator().manual_seed(42))"
   ]
  },
  {
   "cell_type": "code",
   "execution_count": 23,
   "id": "c2385cb6",
   "metadata": {
    "execution": {
     "iopub.execute_input": "2022-11-02T12:47:58.129747Z",
     "iopub.status.busy": "2022-11-02T12:47:58.129342Z",
     "iopub.status.idle": "2022-11-02T12:47:58.136150Z",
     "shell.execute_reply": "2022-11-02T12:47:58.134594Z"
    },
    "papermill": {
     "duration": 0.024241,
     "end_time": "2022-11-02T12:47:58.138684",
     "exception": false,
     "start_time": "2022-11-02T12:47:58.114443",
     "status": "completed"
    },
    "tags": []
   },
   "outputs": [],
   "source": [
    "batch_size = 512\n",
    "train_loader = DataLoader(train_ds, batch_size=batch_size, shuffle=True)\n",
    "val_loader = DataLoader(val_ds, batch_size=batch_size, shuffle=False)"
   ]
  },
  {
   "cell_type": "code",
   "execution_count": 24,
   "id": "d3de1f26",
   "metadata": {
    "execution": {
     "iopub.execute_input": "2022-11-02T12:47:58.170024Z",
     "iopub.status.busy": "2022-11-02T12:47:58.168970Z",
     "iopub.status.idle": "2022-11-02T12:47:58.182687Z",
     "shell.execute_reply": "2022-11-02T12:47:58.181409Z"
    },
    "papermill": {
     "duration": 0.034098,
     "end_time": "2022-11-02T12:47:58.186753",
     "exception": false,
     "start_time": "2022-11-02T12:47:58.152655",
     "status": "completed"
    },
    "tags": []
   },
   "outputs": [],
   "source": [
    "class Net(nn.Module):\n",
    "    def __init__(self):\n",
    "        \"\"\"In the constructor we instantiate two nn.Linear modules and assign them as\n",
    "        member variables (self).\n",
    "        \"\"\"\n",
    "        super(Net, self).__init__()\n",
    "        self.linear1 = nn.Linear(20856, 128)\n",
    "        self.bn1 = nn.BatchNorm1d(128)\n",
    "        self.linear2 = nn.Linear(128, 128)\n",
    "        self.bn2 = nn.BatchNorm1d(128)\n",
    "        self.linear3 = nn.Linear(128, 128)\n",
    "        self.bn3 = nn.BatchNorm1d(128)\n",
    "        self.linear4 = nn.Linear(128, 140)\n",
    "\n",
    "    def forward(self, x):\n",
    "        \"\"\"\n",
    "        In the forward function we accept a Tensor of input data and we must return\n",
    "        a Tensor of output data. We can use Modules defined in the constructor as\n",
    "        well as arbitrary operators on Tensors.\n",
    "        \"\"\"\n",
    "        x = self.linear1(x)\n",
    "        x = self.bn1(x)\n",
    "        x = F.relu(x)\n",
    "        x = self.linear2(x)\n",
    "        x = self.bn2(x)\n",
    "        x = F.relu(x)\n",
    "        x = self.linear3(x)\n",
    "        x = self.bn3(x)\n",
    "        x = F.relu(x)\n",
    "        x = self.linear4(x)\n",
    "        return x"
   ]
  },
  {
   "cell_type": "code",
   "execution_count": 25,
   "id": "3bcf4e22",
   "metadata": {
    "execution": {
     "iopub.execute_input": "2022-11-02T12:47:58.228430Z",
     "iopub.status.busy": "2022-11-02T12:47:58.227578Z",
     "iopub.status.idle": "2022-11-02T12:47:58.232124Z",
     "shell.execute_reply": "2022-11-02T12:47:58.231165Z"
    },
    "papermill": {
     "duration": 0.03269,
     "end_time": "2022-11-02T12:47:58.235872",
     "exception": false,
     "start_time": "2022-11-02T12:47:58.203182",
     "status": "completed"
    },
    "tags": []
   },
   "outputs": [],
   "source": [
    "# preds = net(x)\n",
    "# vpreds = preds - torch.mean(preds)\n",
    "# vy = y - torch.mean(y)\n",
    "# loss = torch.sum(vpreds * vy) / \\\n",
    "#        (torch.sqrt(torch.sum(vpreds ** 2)) *\n",
    "#         torch.sqrt(torch.sum(vy ** 2)))\n",
    "# loss"
   ]
  },
  {
   "cell_type": "code",
   "execution_count": 26,
   "id": "51a21acd",
   "metadata": {
    "execution": {
     "iopub.execute_input": "2022-11-02T12:47:58.270444Z",
     "iopub.status.busy": "2022-11-02T12:47:58.269277Z",
     "iopub.status.idle": "2022-11-02T12:47:58.279566Z",
     "shell.execute_reply": "2022-11-02T12:47:58.278462Z"
    },
    "papermill": {
     "duration": 0.028819,
     "end_time": "2022-11-02T12:47:58.283503",
     "exception": false,
     "start_time": "2022-11-02T12:47:58.254684",
     "status": "completed"
    },
    "tags": []
   },
   "outputs": [],
   "source": [
    "def train_model(train_loader, model, optimizer):\n",
    "    \n",
    "    model.train()\n",
    "    sum_loss = 0.0\n",
    "    total = 0\n",
    "    \n",
    "    for i, (x, y) in enumerate(train_loader):\n",
    "        batch = x.shape[0]\n",
    "        \n",
    "        preds = model(x)\n",
    "        vpreds = preds - torch.mean(preds)\n",
    "        vy = y - torch.mean(y)\n",
    "        loss = torch.sum(vpreds * vy) / \\\n",
    "               (torch.sqrt(torch.sum(vpreds ** 2)) *\n",
    "                torch.sqrt(torch.sum(vy ** 2)))\n",
    "        \n",
    "        optimizer.zero_grad()\n",
    "        loss.backward()\n",
    "        \n",
    "        optimizer.step()\n",
    "        \n",
    "        total += batch\n",
    "        sum_loss += batch * loss\n",
    "    \n",
    "    train_loss = sum_loss/total\n",
    "    return train_loss"
   ]
  },
  {
   "cell_type": "code",
   "execution_count": 27,
   "id": "48ac5902",
   "metadata": {
    "execution": {
     "iopub.execute_input": "2022-11-02T12:47:58.327120Z",
     "iopub.status.busy": "2022-11-02T12:47:58.325907Z",
     "iopub.status.idle": "2022-11-02T12:47:58.341066Z",
     "shell.execute_reply": "2022-11-02T12:47:58.339511Z"
    },
    "papermill": {
     "duration": 0.045851,
     "end_time": "2022-11-02T12:47:58.343983",
     "exception": false,
     "start_time": "2022-11-02T12:47:58.298132",
     "status": "completed"
    },
    "tags": []
   },
   "outputs": [],
   "source": [
    "def model_eval(model, val_loader):\n",
    "    model.eval()\n",
    "    sum_loss = 0.0\n",
    "    total = 0\n",
    "    \n",
    "    for i, (x, y) in enumerate(val_loader):\n",
    "        batch = x.shape[0]\n",
    "        \n",
    "        preds = model(x)\n",
    "        vpreds = preds - torch.mean(preds)\n",
    "        vy = y - torch.mean(y)\n",
    "        loss = torch.sum(vpreds * vy) / \\\n",
    "               (torch.sqrt(torch.sum(vpreds ** 2)) *\n",
    "                torch.sqrt(torch.sum(vy ** 2)))\n",
    "        \n",
    "        total += batch\n",
    "        sum_loss += batch * loss\n",
    "        \n",
    "    val_loss = sum_loss/total\n",
    "    return val_loss"
   ]
  },
  {
   "cell_type": "code",
   "execution_count": 28,
   "id": "6e8b5656",
   "metadata": {
    "execution": {
     "iopub.execute_input": "2022-11-02T12:47:58.374492Z",
     "iopub.status.busy": "2022-11-02T12:47:58.373281Z",
     "iopub.status.idle": "2022-11-02T17:55:01.371413Z",
     "shell.execute_reply": "2022-11-02T17:55:01.369541Z"
    },
    "papermill": {
     "duration": 18423.017059,
     "end_time": "2022-11-02T17:55:01.374480",
     "exception": false,
     "start_time": "2022-11-02T12:47:58.357421",
     "status": "completed"
    },
    "tags": []
   },
   "outputs": [
    {
     "name": "stdout",
     "output_type": "stream",
     "text": [
      "------\n",
      "learning rate: 0.01\n",
      "weight decay: 0.1\n",
      "\n",
      "epoch 0\n",
      "train corr: tensor(0.7889, grad_fn=<NegBackward0>)\n",
      "val corr: tensor(0.7935, grad_fn=<NegBackward0>)\n",
      "\n",
      "epoch 1\n",
      "train corr: tensor(0.8077, grad_fn=<NegBackward0>)\n",
      "val corr: tensor(0.7461, grad_fn=<NegBackward0>)\n",
      "\n",
      "epoch 2\n",
      "train corr: tensor(0.8019, grad_fn=<NegBackward0>)\n",
      "val corr: tensor(0.7912, grad_fn=<NegBackward0>)\n",
      "\n",
      "epoch 3\n",
      "train corr: tensor(0.8073, grad_fn=<NegBackward0>)\n",
      "val corr: tensor(0.7844, grad_fn=<NegBackward0>)\n",
      "\n",
      "epoch 4\n",
      "train corr: tensor(0.8032, grad_fn=<NegBackward0>)\n",
      "val corr: tensor(0.7766, grad_fn=<NegBackward0>)\n",
      "\n",
      "epoch 5\n",
      "train corr: tensor(0.8066, grad_fn=<NegBackward0>)\n",
      "val corr: tensor(0.7733, grad_fn=<NegBackward0>)\n",
      "\n",
      "epoch 6\n",
      "train corr: tensor(0.8077, grad_fn=<NegBackward0>)\n",
      "val corr: tensor(0.7859, grad_fn=<NegBackward0>)\n",
      "\n",
      "epoch 7\n",
      "train corr: tensor(0.8086, grad_fn=<NegBackward0>)\n",
      "val corr: tensor(0.7906, grad_fn=<NegBackward0>)\n",
      "\n",
      "epoch 8\n",
      "train corr: tensor(0.8057, grad_fn=<NegBackward0>)\n",
      "val corr: tensor(0.7934, grad_fn=<NegBackward0>)\n",
      "\n",
      "epoch 9\n",
      "train corr: tensor(0.8105, grad_fn=<NegBackward0>)\n",
      "val corr: tensor(0.8061, grad_fn=<NegBackward0>)\n",
      "\n",
      "epoch 10\n",
      "train corr: tensor(0.8123, grad_fn=<NegBackward0>)\n",
      "val corr: tensor(0.8136, grad_fn=<NegBackward0>)\n",
      "\n",
      "epoch 11\n",
      "train corr: tensor(0.8135, grad_fn=<NegBackward0>)\n",
      "val corr: tensor(0.7636, grad_fn=<NegBackward0>)\n",
      "\n",
      "epoch 12\n",
      "train corr: tensor(0.8034, grad_fn=<NegBackward0>)\n",
      "val corr: tensor(0.8059, grad_fn=<NegBackward0>)\n",
      "\n",
      "epoch 13\n",
      "train corr: tensor(0.8068, grad_fn=<NegBackward0>)\n",
      "val corr: tensor(0.7949, grad_fn=<NegBackward0>)\n",
      "\n",
      "epoch 14\n",
      "train corr: tensor(0.8061, grad_fn=<NegBackward0>)\n",
      "val corr: tensor(0.7631, grad_fn=<NegBackward0>)\n",
      "\n",
      "epoch 15\n",
      "train corr: tensor(0.8016, grad_fn=<NegBackward0>)\n",
      "val corr: tensor(0.7930, grad_fn=<NegBackward0>)\n",
      "\n",
      "epoch 16\n",
      "train corr: tensor(0.8075, grad_fn=<NegBackward0>)\n",
      "val corr: tensor(0.8085, grad_fn=<NegBackward0>)\n",
      "\n",
      "epoch 17\n",
      "train corr: tensor(0.8107, grad_fn=<NegBackward0>)\n",
      "val corr: tensor(0.8116, grad_fn=<NegBackward0>)\n",
      "\n",
      "epoch 18\n",
      "train corr: tensor(0.8096, grad_fn=<NegBackward0>)\n",
      "val corr: tensor(0.8086, grad_fn=<NegBackward0>)\n",
      "\n",
      "epoch 19\n",
      "train corr: tensor(0.8112, grad_fn=<NegBackward0>)\n",
      "val corr: tensor(0.7866, grad_fn=<NegBackward0>)\n",
      "\n",
      "epoch 20\n",
      "train corr: tensor(0.8104, grad_fn=<NegBackward0>)\n",
      "val corr: tensor(0.7989, grad_fn=<NegBackward0>)\n",
      "\n",
      "epoch 21\n",
      "train corr: tensor(0.8086, grad_fn=<NegBackward0>)\n",
      "val corr: tensor(0.7805, grad_fn=<NegBackward0>)\n",
      "\n",
      "epoch 22\n",
      "train corr: tensor(0.8126, grad_fn=<NegBackward0>)\n",
      "val corr: tensor(0.8063, grad_fn=<NegBackward0>)\n",
      "\n",
      "epoch 23\n",
      "train corr: tensor(0.8134, grad_fn=<NegBackward0>)\n",
      "val corr: tensor(0.8077, grad_fn=<NegBackward0>)\n",
      "\n",
      "epoch 24\n",
      "train corr: tensor(0.8122, grad_fn=<NegBackward0>)\n",
      "val corr: tensor(0.8047, grad_fn=<NegBackward0>)\n",
      "\n",
      "------\n",
      "learning rate: 0.01\n",
      "weight decay: 0.01\n",
      "\n",
      "epoch 0\n",
      "train corr: tensor(0.8255, grad_fn=<NegBackward0>)\n",
      "val corr: tensor(0.8403, grad_fn=<NegBackward0>)\n",
      "\n",
      "epoch 1\n",
      "train corr: tensor(0.8492, grad_fn=<NegBackward0>)\n",
      "val corr: tensor(0.8397, grad_fn=<NegBackward0>)\n",
      "\n",
      "epoch 2\n",
      "train corr: tensor(0.8539, grad_fn=<NegBackward0>)\n",
      "val corr: tensor(0.8496, grad_fn=<NegBackward0>)\n",
      "\n",
      "epoch 3\n",
      "train corr: tensor(0.8562, grad_fn=<NegBackward0>)\n",
      "val corr: tensor(0.8531, grad_fn=<NegBackward0>)\n",
      "\n",
      "epoch 4\n",
      "train corr: tensor(0.8588, grad_fn=<NegBackward0>)\n",
      "val corr: tensor(0.8335, grad_fn=<NegBackward0>)\n",
      "\n",
      "epoch 5\n",
      "train corr: tensor(0.8590, grad_fn=<NegBackward0>)\n",
      "val corr: tensor(0.8560, grad_fn=<NegBackward0>)\n",
      "\n",
      "epoch 6\n",
      "train corr: tensor(0.8592, grad_fn=<NegBackward0>)\n",
      "val corr: tensor(0.8542, grad_fn=<NegBackward0>)\n",
      "\n",
      "epoch 7\n",
      "train corr: tensor(0.8598, grad_fn=<NegBackward0>)\n",
      "val corr: tensor(0.8546, grad_fn=<NegBackward0>)\n",
      "\n",
      "epoch 8\n",
      "train corr: tensor(0.8601, grad_fn=<NegBackward0>)\n",
      "val corr: tensor(0.8527, grad_fn=<NegBackward0>)\n",
      "\n",
      "epoch 9\n",
      "train corr: tensor(0.8601, grad_fn=<NegBackward0>)\n",
      "val corr: tensor(0.8540, grad_fn=<NegBackward0>)\n",
      "\n",
      "epoch 10\n",
      "train corr: tensor(0.8605, grad_fn=<NegBackward0>)\n",
      "val corr: tensor(0.8508, grad_fn=<NegBackward0>)\n",
      "\n",
      "epoch 11\n",
      "train corr: tensor(0.8607, grad_fn=<NegBackward0>)\n",
      "val corr: tensor(0.8587, grad_fn=<NegBackward0>)\n",
      "\n",
      "epoch 12\n",
      "train corr: tensor(0.8600, grad_fn=<NegBackward0>)\n",
      "val corr: tensor(0.8532, grad_fn=<NegBackward0>)\n",
      "\n",
      "epoch 13\n",
      "train corr: tensor(0.8610, grad_fn=<NegBackward0>)\n",
      "val corr: tensor(0.8478, grad_fn=<NegBackward0>)\n",
      "\n",
      "epoch 14\n",
      "train corr: tensor(0.8604, grad_fn=<NegBackward0>)\n",
      "val corr: tensor(0.8538, grad_fn=<NegBackward0>)\n",
      "\n",
      "epoch 15\n",
      "train corr: tensor(0.8609, grad_fn=<NegBackward0>)\n",
      "val corr: tensor(0.8566, grad_fn=<NegBackward0>)\n",
      "\n",
      "epoch 16\n",
      "train corr: tensor(0.8615, grad_fn=<NegBackward0>)\n",
      "val corr: tensor(0.8581, grad_fn=<NegBackward0>)\n",
      "\n",
      "epoch 17\n",
      "train corr: tensor(0.8609, grad_fn=<NegBackward0>)\n",
      "val corr: tensor(0.8512, grad_fn=<NegBackward0>)\n",
      "\n",
      "epoch 18\n",
      "train corr: tensor(0.8608, grad_fn=<NegBackward0>)\n",
      "val corr: tensor(0.8490, grad_fn=<NegBackward0>)\n",
      "\n",
      "epoch 19\n",
      "train corr: tensor(0.8609, grad_fn=<NegBackward0>)\n",
      "val corr: tensor(0.8569, grad_fn=<NegBackward0>)\n",
      "\n",
      "epoch 20\n",
      "train corr: tensor(0.8612, grad_fn=<NegBackward0>)\n",
      "val corr: tensor(0.8604, grad_fn=<NegBackward0>)\n",
      "\n",
      "epoch 21\n",
      "train corr: tensor(0.8604, grad_fn=<NegBackward0>)\n",
      "val corr: tensor(0.8494, grad_fn=<NegBackward0>)\n",
      "\n",
      "epoch 22\n",
      "train corr: tensor(0.8608, grad_fn=<NegBackward0>)\n",
      "val corr: tensor(0.8522, grad_fn=<NegBackward0>)\n",
      "\n",
      "epoch 23\n",
      "train corr: tensor(0.8603, grad_fn=<NegBackward0>)\n",
      "val corr: tensor(0.8558, grad_fn=<NegBackward0>)\n",
      "\n",
      "epoch 24\n",
      "train corr: tensor(0.8608, grad_fn=<NegBackward0>)\n",
      "val corr: tensor(0.8546, grad_fn=<NegBackward0>)\n",
      "\n",
      "------\n",
      "learning rate: 0.001\n",
      "weight decay: 0.1\n",
      "\n",
      "epoch 0\n",
      "train corr: tensor(0.7868, grad_fn=<NegBackward0>)\n",
      "val corr: tensor(0.8474, grad_fn=<NegBackward0>)\n",
      "\n",
      "epoch 1\n",
      "train corr: tensor(0.8644, grad_fn=<NegBackward0>)\n",
      "val corr: tensor(0.8635, grad_fn=<NegBackward0>)\n",
      "\n",
      "epoch 2\n",
      "train corr: tensor(0.8657, grad_fn=<NegBackward0>)\n",
      "val corr: tensor(0.8660, grad_fn=<NegBackward0>)\n",
      "\n",
      "epoch 3\n",
      "train corr: tensor(0.8654, grad_fn=<NegBackward0>)\n",
      "val corr: tensor(0.8624, grad_fn=<NegBackward0>)\n",
      "\n",
      "epoch 4\n",
      "train corr: tensor(0.8666, grad_fn=<NegBackward0>)\n",
      "val corr: tensor(0.8607, grad_fn=<NegBackward0>)\n",
      "\n",
      "epoch 5\n",
      "train corr: tensor(0.8664, grad_fn=<NegBackward0>)\n",
      "val corr: tensor(0.8613, grad_fn=<NegBackward0>)\n",
      "\n",
      "epoch 6\n",
      "train corr: tensor(0.8670, grad_fn=<NegBackward0>)\n",
      "val corr: tensor(0.8652, grad_fn=<NegBackward0>)\n",
      "\n",
      "epoch 7\n",
      "train corr: tensor(0.8676, grad_fn=<NegBackward0>)\n",
      "val corr: tensor(0.8653, grad_fn=<NegBackward0>)\n",
      "\n",
      "epoch 8\n",
      "train corr: tensor(0.8678, grad_fn=<NegBackward0>)\n",
      "val corr: tensor(0.8667, grad_fn=<NegBackward0>)\n",
      "\n",
      "epoch 9\n",
      "train corr: tensor(0.8681, grad_fn=<NegBackward0>)\n",
      "val corr: tensor(0.8699, grad_fn=<NegBackward0>)\n",
      "\n",
      "epoch 10\n",
      "train corr: tensor(0.8685, grad_fn=<NegBackward0>)\n",
      "val corr: tensor(0.8665, grad_fn=<NegBackward0>)\n",
      "\n",
      "epoch 11\n",
      "train corr: tensor(0.8688, grad_fn=<NegBackward0>)\n",
      "val corr: tensor(0.8656, grad_fn=<NegBackward0>)\n",
      "\n",
      "epoch 12\n",
      "train corr: tensor(0.8694, grad_fn=<NegBackward0>)\n",
      "val corr: tensor(0.8649, grad_fn=<NegBackward0>)\n",
      "\n",
      "epoch 13\n",
      "train corr: tensor(0.8693, grad_fn=<NegBackward0>)\n",
      "val corr: tensor(0.8682, grad_fn=<NegBackward0>)\n",
      "\n",
      "epoch 14\n",
      "train corr: tensor(0.8689, grad_fn=<NegBackward0>)\n",
      "val corr: tensor(0.8676, grad_fn=<NegBackward0>)\n",
      "\n",
      "epoch 15\n",
      "train corr: tensor(0.8681, grad_fn=<NegBackward0>)\n",
      "val corr: tensor(0.8696, grad_fn=<NegBackward0>)\n",
      "\n",
      "epoch 16\n",
      "train corr: tensor(0.8684, grad_fn=<NegBackward0>)\n",
      "val corr: tensor(0.8659, grad_fn=<NegBackward0>)\n",
      "\n",
      "epoch 17\n",
      "train corr: tensor(0.8674, grad_fn=<NegBackward0>)\n",
      "val corr: tensor(0.8674, grad_fn=<NegBackward0>)\n",
      "\n",
      "epoch 18\n",
      "train corr: tensor(0.8677, grad_fn=<NegBackward0>)\n",
      "val corr: tensor(0.8672, grad_fn=<NegBackward0>)\n",
      "\n",
      "epoch 19\n",
      "train corr: tensor(0.8682, grad_fn=<NegBackward0>)\n",
      "val corr: tensor(0.8673, grad_fn=<NegBackward0>)\n",
      "\n",
      "epoch 20\n",
      "train corr: tensor(0.8687, grad_fn=<NegBackward0>)\n",
      "val corr: tensor(0.8679, grad_fn=<NegBackward0>)\n",
      "\n",
      "epoch 21\n",
      "train corr: tensor(0.8687, grad_fn=<NegBackward0>)\n",
      "val corr: tensor(0.8682, grad_fn=<NegBackward0>)\n",
      "\n",
      "epoch 22\n",
      "train corr: tensor(0.8691, grad_fn=<NegBackward0>)\n",
      "val corr: tensor(0.8688, grad_fn=<NegBackward0>)\n",
      "\n",
      "epoch 23\n",
      "train corr: tensor(0.8693, grad_fn=<NegBackward0>)\n",
      "val corr: tensor(0.8679, grad_fn=<NegBackward0>)\n",
      "\n",
      "epoch 24\n",
      "train corr: tensor(0.8695, grad_fn=<NegBackward0>)\n",
      "val corr: tensor(0.8672, grad_fn=<NegBackward0>)\n",
      "\n",
      "------\n",
      "learning rate: 0.001\n",
      "weight decay: 0.01\n",
      "\n",
      "epoch 0\n",
      "train corr: tensor(0.8062, grad_fn=<NegBackward0>)\n",
      "val corr: tensor(0.8712, grad_fn=<NegBackward0>)\n",
      "\n",
      "epoch 1\n",
      "train corr: tensor(0.8768, grad_fn=<NegBackward0>)\n",
      "val corr: tensor(0.8760, grad_fn=<NegBackward0>)\n",
      "\n",
      "epoch 2\n",
      "train corr: tensor(0.8789, grad_fn=<NegBackward0>)\n",
      "val corr: tensor(0.8772, grad_fn=<NegBackward0>)\n",
      "\n",
      "epoch 3\n",
      "train corr: tensor(0.8791, grad_fn=<NegBackward0>)\n",
      "val corr: tensor(0.8760, grad_fn=<NegBackward0>)\n",
      "\n",
      "epoch 4\n",
      "train corr: tensor(0.8801, grad_fn=<NegBackward0>)\n",
      "val corr: tensor(0.8769, grad_fn=<NegBackward0>)\n",
      "\n",
      "epoch 5\n",
      "train corr: tensor(0.8811, grad_fn=<NegBackward0>)\n",
      "val corr: tensor(0.8780, grad_fn=<NegBackward0>)\n",
      "\n",
      "epoch 6\n",
      "train corr: tensor(0.8814, grad_fn=<NegBackward0>)\n",
      "val corr: tensor(0.8803, grad_fn=<NegBackward0>)\n",
      "\n",
      "epoch 7\n",
      "train corr: tensor(0.8823, grad_fn=<NegBackward0>)\n",
      "val corr: tensor(0.8810, grad_fn=<NegBackward0>)\n",
      "\n",
      "epoch 8\n",
      "train corr: tensor(0.8828, grad_fn=<NegBackward0>)\n",
      "val corr: tensor(0.8783, grad_fn=<NegBackward0>)\n",
      "\n",
      "epoch 9\n",
      "train corr: tensor(0.8833, grad_fn=<NegBackward0>)\n",
      "val corr: tensor(0.8778, grad_fn=<NegBackward0>)\n",
      "\n",
      "epoch 10\n",
      "train corr: tensor(0.8838, grad_fn=<NegBackward0>)\n",
      "val corr: tensor(0.8802, grad_fn=<NegBackward0>)\n",
      "\n",
      "epoch 11\n",
      "train corr: tensor(0.8845, grad_fn=<NegBackward0>)\n",
      "val corr: tensor(0.8811, grad_fn=<NegBackward0>)\n",
      "\n",
      "epoch 12\n",
      "train corr: tensor(0.8848, grad_fn=<NegBackward0>)\n",
      "val corr: tensor(0.8827, grad_fn=<NegBackward0>)\n",
      "\n",
      "epoch 13\n",
      "train corr: tensor(0.8852, grad_fn=<NegBackward0>)\n",
      "val corr: tensor(0.8826, grad_fn=<NegBackward0>)\n",
      "\n",
      "epoch 14\n",
      "train corr: tensor(0.8854, grad_fn=<NegBackward0>)\n",
      "val corr: tensor(0.8813, grad_fn=<NegBackward0>)\n",
      "\n",
      "epoch 15\n",
      "train corr: tensor(0.8860, grad_fn=<NegBackward0>)\n",
      "val corr: tensor(0.8819, grad_fn=<NegBackward0>)\n",
      "\n",
      "epoch 16\n",
      "train corr: tensor(0.8859, grad_fn=<NegBackward0>)\n",
      "val corr: tensor(0.8835, grad_fn=<NegBackward0>)\n",
      "\n",
      "epoch 17\n",
      "train corr: tensor(0.8859, grad_fn=<NegBackward0>)\n",
      "val corr: tensor(0.8834, grad_fn=<NegBackward0>)\n",
      "\n",
      "epoch 18\n",
      "train corr: tensor(0.8863, grad_fn=<NegBackward0>)\n",
      "val corr: tensor(0.8815, grad_fn=<NegBackward0>)\n",
      "\n",
      "epoch 19\n",
      "train corr: tensor(0.8865, grad_fn=<NegBackward0>)\n",
      "val corr: tensor(0.8829, grad_fn=<NegBackward0>)\n",
      "\n",
      "epoch 20\n",
      "train corr: tensor(0.8866, grad_fn=<NegBackward0>)\n",
      "val corr: tensor(0.8830, grad_fn=<NegBackward0>)\n",
      "\n",
      "epoch 21\n",
      "train corr: tensor(0.8871, grad_fn=<NegBackward0>)\n",
      "val corr: tensor(0.8845, grad_fn=<NegBackward0>)\n",
      "\n",
      "epoch 22\n",
      "train corr: tensor(0.8873, grad_fn=<NegBackward0>)\n",
      "val corr: tensor(0.8819, grad_fn=<NegBackward0>)\n",
      "\n",
      "epoch 23\n",
      "train corr: tensor(0.8873, grad_fn=<NegBackward0>)\n",
      "val corr: tensor(0.8844, grad_fn=<NegBackward0>)\n",
      "\n",
      "epoch 24\n",
      "train corr: tensor(0.8875, grad_fn=<NegBackward0>)\n",
      "val corr: tensor(0.8818, grad_fn=<NegBackward0>)\n",
      "\n",
      "------\n",
      "learning rate: 0.0001\n",
      "weight decay: 0.1\n",
      "\n",
      "epoch 0\n",
      "train corr: tensor(0.4025, grad_fn=<NegBackward0>)\n",
      "val corr: tensor(0.6848, grad_fn=<NegBackward0>)\n",
      "\n",
      "epoch 1\n",
      "train corr: tensor(0.7771, grad_fn=<NegBackward0>)\n",
      "val corr: tensor(0.8140, grad_fn=<NegBackward0>)\n",
      "\n",
      "epoch 2\n",
      "train corr: tensor(0.8389, grad_fn=<NegBackward0>)\n",
      "val corr: tensor(0.8378, grad_fn=<NegBackward0>)\n",
      "\n",
      "epoch 3\n",
      "train corr: tensor(0.8577, grad_fn=<NegBackward0>)\n",
      "val corr: tensor(0.8518, grad_fn=<NegBackward0>)\n",
      "\n",
      "epoch 4\n",
      "train corr: tensor(0.8687, grad_fn=<NegBackward0>)\n",
      "val corr: tensor(0.8610, grad_fn=<NegBackward0>)\n",
      "\n",
      "epoch 5\n",
      "train corr: tensor(0.8764, grad_fn=<NegBackward0>)\n",
      "val corr: tensor(0.8677, grad_fn=<NegBackward0>)\n",
      "\n",
      "epoch 6\n",
      "train corr: tensor(0.8821, grad_fn=<NegBackward0>)\n",
      "val corr: tensor(0.8720, grad_fn=<NegBackward0>)\n",
      "\n",
      "epoch 7\n",
      "train corr: tensor(0.8866, grad_fn=<NegBackward0>)\n",
      "val corr: tensor(0.8760, grad_fn=<NegBackward0>)\n",
      "\n",
      "epoch 8\n",
      "train corr: tensor(0.8901, grad_fn=<NegBackward0>)\n",
      "val corr: tensor(0.8782, grad_fn=<NegBackward0>)\n",
      "\n",
      "epoch 9\n",
      "train corr: tensor(0.8931, grad_fn=<NegBackward0>)\n",
      "val corr: tensor(0.8813, grad_fn=<NegBackward0>)\n",
      "\n",
      "epoch 10\n",
      "train corr: tensor(0.8953, grad_fn=<NegBackward0>)\n",
      "val corr: tensor(0.8814, grad_fn=<NegBackward0>)\n",
      "\n",
      "epoch 11\n",
      "train corr: tensor(0.8968, grad_fn=<NegBackward0>)\n",
      "val corr: tensor(0.8840, grad_fn=<NegBackward0>)\n",
      "\n",
      "epoch 12\n",
      "train corr: tensor(0.8983, grad_fn=<NegBackward0>)\n",
      "val corr: tensor(0.8836, grad_fn=<NegBackward0>)\n",
      "\n",
      "epoch 13\n",
      "train corr: tensor(0.8990, grad_fn=<NegBackward0>)\n",
      "val corr: tensor(0.8818, grad_fn=<NegBackward0>)\n",
      "\n",
      "epoch 14\n",
      "train corr: tensor(0.8998, grad_fn=<NegBackward0>)\n",
      "val corr: tensor(0.8837, grad_fn=<NegBackward0>)\n",
      "\n",
      "epoch 15\n",
      "train corr: tensor(0.9004, grad_fn=<NegBackward0>)\n",
      "val corr: tensor(0.8829, grad_fn=<NegBackward0>)\n",
      "\n",
      "epoch 16\n",
      "train corr: tensor(0.9013, grad_fn=<NegBackward0>)\n",
      "val corr: tensor(0.8830, grad_fn=<NegBackward0>)\n",
      "\n",
      "epoch 17\n",
      "train corr: tensor(0.9020, grad_fn=<NegBackward0>)\n",
      "val corr: tensor(0.8824, grad_fn=<NegBackward0>)\n",
      "\n",
      "epoch 18\n",
      "train corr: tensor(0.9021, grad_fn=<NegBackward0>)\n",
      "val corr: tensor(0.8827, grad_fn=<NegBackward0>)\n",
      "\n",
      "epoch 19\n",
      "train corr: tensor(0.9027, grad_fn=<NegBackward0>)\n",
      "val corr: tensor(0.8843, grad_fn=<NegBackward0>)\n",
      "\n",
      "epoch 20\n",
      "train corr: tensor(0.9030, grad_fn=<NegBackward0>)\n",
      "val corr: tensor(0.8837, grad_fn=<NegBackward0>)\n",
      "\n",
      "epoch 21\n",
      "train corr: tensor(0.9034, grad_fn=<NegBackward0>)\n",
      "val corr: tensor(0.8837, grad_fn=<NegBackward0>)\n",
      "\n",
      "epoch 22\n",
      "train corr: tensor(0.9038, grad_fn=<NegBackward0>)\n",
      "val corr: tensor(0.8818, grad_fn=<NegBackward0>)\n",
      "\n",
      "epoch 23\n",
      "train corr: tensor(0.9041, grad_fn=<NegBackward0>)\n",
      "val corr: tensor(0.8831, grad_fn=<NegBackward0>)\n",
      "\n",
      "epoch 24\n",
      "train corr: tensor(0.9045, grad_fn=<NegBackward0>)\n",
      "val corr: tensor(0.8835, grad_fn=<NegBackward0>)\n",
      "\n",
      "------\n",
      "learning rate: 0.0001\n",
      "weight decay: 0.01\n",
      "\n",
      "epoch 0\n",
      "train corr: tensor(0.4888, grad_fn=<NegBackward0>)\n",
      "val corr: tensor(0.7485, grad_fn=<NegBackward0>)\n",
      "\n",
      "epoch 1\n",
      "train corr: tensor(0.8191, grad_fn=<NegBackward0>)\n",
      "val corr: tensor(0.8430, grad_fn=<NegBackward0>)\n",
      "\n",
      "epoch 2\n",
      "train corr: tensor(0.8660, grad_fn=<NegBackward0>)\n",
      "val corr: tensor(0.8583, grad_fn=<NegBackward0>)\n",
      "\n",
      "epoch 3\n",
      "train corr: tensor(0.8844, grad_fn=<NegBackward0>)\n",
      "val corr: tensor(0.8630, grad_fn=<NegBackward0>)\n",
      "\n",
      "epoch 4\n",
      "train corr: tensor(0.8950, grad_fn=<NegBackward0>)\n",
      "val corr: tensor(0.8658, grad_fn=<NegBackward0>)\n",
      "\n",
      "epoch 5\n",
      "train corr: tensor(0.9021, grad_fn=<NegBackward0>)\n",
      "val corr: tensor(0.8675, grad_fn=<NegBackward0>)\n",
      "\n",
      "epoch 6\n",
      "train corr: tensor(0.9074, grad_fn=<NegBackward0>)\n",
      "val corr: tensor(0.8694, grad_fn=<NegBackward0>)\n",
      "\n",
      "epoch 7\n",
      "train corr: tensor(0.9113, grad_fn=<NegBackward0>)\n",
      "val corr: tensor(0.8700, grad_fn=<NegBackward0>)\n",
      "\n",
      "epoch 8\n",
      "train corr: tensor(0.9144, grad_fn=<NegBackward0>)\n",
      "val corr: tensor(0.8711, grad_fn=<NegBackward0>)\n",
      "\n",
      "epoch 9\n",
      "train corr: tensor(0.9177, grad_fn=<NegBackward0>)\n",
      "val corr: tensor(0.8722, grad_fn=<NegBackward0>)\n",
      "\n",
      "epoch 10\n",
      "train corr: tensor(0.9199, grad_fn=<NegBackward0>)\n",
      "val corr: tensor(0.8719, grad_fn=<NegBackward0>)\n",
      "\n",
      "epoch 11\n",
      "train corr: tensor(0.9215, grad_fn=<NegBackward0>)\n",
      "val corr: tensor(0.8739, grad_fn=<NegBackward0>)\n",
      "\n",
      "epoch 12\n",
      "train corr: tensor(0.9236, grad_fn=<NegBackward0>)\n",
      "val corr: tensor(0.8717, grad_fn=<NegBackward0>)\n",
      "\n",
      "epoch 13\n",
      "train corr: tensor(0.9250, grad_fn=<NegBackward0>)\n",
      "val corr: tensor(0.8725, grad_fn=<NegBackward0>)\n",
      "\n",
      "epoch 14\n",
      "train corr: tensor(0.9263, grad_fn=<NegBackward0>)\n",
      "val corr: tensor(0.8731, grad_fn=<NegBackward0>)\n",
      "\n",
      "epoch 15\n",
      "train corr: tensor(0.9277, grad_fn=<NegBackward0>)\n",
      "val corr: tensor(0.8723, grad_fn=<NegBackward0>)\n",
      "\n",
      "epoch 16\n",
      "train corr: tensor(0.9283, grad_fn=<NegBackward0>)\n",
      "val corr: tensor(0.8727, grad_fn=<NegBackward0>)\n",
      "\n",
      "epoch 17\n",
      "train corr: tensor(0.9295, grad_fn=<NegBackward0>)\n",
      "val corr: tensor(0.8731, grad_fn=<NegBackward0>)\n",
      "\n",
      "epoch 18\n",
      "train corr: tensor(0.9301, grad_fn=<NegBackward0>)\n",
      "val corr: tensor(0.8719, grad_fn=<NegBackward0>)\n",
      "\n",
      "epoch 19\n",
      "train corr: tensor(0.9309, grad_fn=<NegBackward0>)\n",
      "val corr: tensor(0.8721, grad_fn=<NegBackward0>)\n",
      "\n",
      "epoch 20\n",
      "train corr: tensor(0.9313, grad_fn=<NegBackward0>)\n",
      "val corr: tensor(0.8729, grad_fn=<NegBackward0>)\n",
      "\n",
      "epoch 21\n",
      "train corr: tensor(0.9320, grad_fn=<NegBackward0>)\n",
      "val corr: tensor(0.8726, grad_fn=<NegBackward0>)\n",
      "\n",
      "epoch 22\n",
      "train corr: tensor(0.9326, grad_fn=<NegBackward0>)\n",
      "val corr: tensor(0.8724, grad_fn=<NegBackward0>)\n",
      "\n",
      "epoch 23\n",
      "train corr: tensor(0.9330, grad_fn=<NegBackward0>)\n",
      "val corr: tensor(0.8726, grad_fn=<NegBackward0>)\n",
      "\n",
      "epoch 24\n",
      "train corr: tensor(0.9332, grad_fn=<NegBackward0>)\n",
      "val corr: tensor(0.8730, grad_fn=<NegBackward0>)\n",
      "\n",
      "------\n",
      "learning rate: 1e-05\n",
      "weight decay: 0.1\n",
      "\n",
      "epoch 0\n",
      "train corr: tensor(0.0905, grad_fn=<NegBackward0>)\n",
      "val corr: tensor(0.1437, grad_fn=<NegBackward0>)\n",
      "\n",
      "epoch 1\n",
      "train corr: tensor(0.1857, grad_fn=<NegBackward0>)\n",
      "val corr: tensor(0.2203, grad_fn=<NegBackward0>)\n",
      "\n",
      "epoch 2\n",
      "train corr: tensor(0.2628, grad_fn=<NegBackward0>)\n",
      "val corr: tensor(0.2931, grad_fn=<NegBackward0>)\n",
      "\n",
      "epoch 3\n",
      "train corr: tensor(0.3363, grad_fn=<NegBackward0>)\n",
      "val corr: tensor(0.3593, grad_fn=<NegBackward0>)\n",
      "\n",
      "epoch 4\n",
      "train corr: tensor(0.4082, grad_fn=<NegBackward0>)\n",
      "val corr: tensor(0.4259, grad_fn=<NegBackward0>)\n",
      "\n",
      "epoch 5\n",
      "train corr: tensor(0.4772, grad_fn=<NegBackward0>)\n",
      "val corr: tensor(0.4850, grad_fn=<NegBackward0>)\n",
      "\n",
      "epoch 6\n",
      "train corr: tensor(0.5409, grad_fn=<NegBackward0>)\n",
      "val corr: tensor(0.5373, grad_fn=<NegBackward0>)\n",
      "\n",
      "epoch 7\n",
      "train corr: tensor(0.5978, grad_fn=<NegBackward0>)\n",
      "val corr: tensor(0.5835, grad_fn=<NegBackward0>)\n",
      "\n",
      "epoch 8\n",
      "train corr: tensor(0.6470, grad_fn=<NegBackward0>)\n",
      "val corr: tensor(0.6181, grad_fn=<NegBackward0>)\n",
      "\n",
      "epoch 9\n",
      "train corr: tensor(0.6884, grad_fn=<NegBackward0>)\n",
      "val corr: tensor(0.6459, grad_fn=<NegBackward0>)\n",
      "\n",
      "epoch 10\n",
      "train corr: tensor(0.7228, grad_fn=<NegBackward0>)\n",
      "val corr: tensor(0.6693, grad_fn=<NegBackward0>)\n",
      "\n",
      "epoch 11\n",
      "train corr: tensor(0.7505, grad_fn=<NegBackward0>)\n",
      "val corr: tensor(0.6842, grad_fn=<NegBackward0>)\n",
      "\n",
      "epoch 12\n",
      "train corr: tensor(0.7729, grad_fn=<NegBackward0>)\n",
      "val corr: tensor(0.6975, grad_fn=<NegBackward0>)\n",
      "\n",
      "epoch 13\n",
      "train corr: tensor(0.7904, grad_fn=<NegBackward0>)\n",
      "val corr: tensor(0.7104, grad_fn=<NegBackward0>)\n",
      "\n",
      "epoch 14\n",
      "train corr: tensor(0.8040, grad_fn=<NegBackward0>)\n",
      "val corr: tensor(0.7200, grad_fn=<NegBackward0>)\n",
      "\n",
      "epoch 15\n",
      "train corr: tensor(0.8155, grad_fn=<NegBackward0>)\n",
      "val corr: tensor(0.7297, grad_fn=<NegBackward0>)\n",
      "\n",
      "epoch 16\n",
      "train corr: tensor(0.8254, grad_fn=<NegBackward0>)\n",
      "val corr: tensor(0.7378, grad_fn=<NegBackward0>)\n",
      "\n",
      "epoch 17\n",
      "train corr: tensor(0.8339, grad_fn=<NegBackward0>)\n",
      "val corr: tensor(0.7456, grad_fn=<NegBackward0>)\n",
      "\n",
      "epoch 18\n",
      "train corr: tensor(0.8417, grad_fn=<NegBackward0>)\n",
      "val corr: tensor(0.7524, grad_fn=<NegBackward0>)\n",
      "\n",
      "epoch 19\n",
      "train corr: tensor(0.8479, grad_fn=<NegBackward0>)\n",
      "val corr: tensor(0.7575, grad_fn=<NegBackward0>)\n",
      "\n",
      "epoch 20\n",
      "train corr: tensor(0.8533, grad_fn=<NegBackward0>)\n",
      "val corr: tensor(0.7629, grad_fn=<NegBackward0>)\n",
      "\n",
      "epoch 21\n",
      "train corr: tensor(0.8584, grad_fn=<NegBackward0>)\n",
      "val corr: tensor(0.7679, grad_fn=<NegBackward0>)\n",
      "\n",
      "epoch 22\n",
      "train corr: tensor(0.8630, grad_fn=<NegBackward0>)\n",
      "val corr: tensor(0.7717, grad_fn=<NegBackward0>)\n",
      "\n",
      "epoch 23\n",
      "train corr: tensor(0.8664, grad_fn=<NegBackward0>)\n",
      "val corr: tensor(0.7749, grad_fn=<NegBackward0>)\n",
      "\n",
      "epoch 24\n",
      "train corr: tensor(0.8703, grad_fn=<NegBackward0>)\n",
      "val corr: tensor(0.7785, grad_fn=<NegBackward0>)\n",
      "\n",
      "------\n",
      "learning rate: 1e-05\n",
      "weight decay: 0.01\n",
      "\n",
      "epoch 0\n",
      "train corr: tensor(0.0395, grad_fn=<NegBackward0>)\n",
      "val corr: tensor(0.1163, grad_fn=<NegBackward0>)\n",
      "\n",
      "epoch 1\n",
      "train corr: tensor(0.1772, grad_fn=<NegBackward0>)\n",
      "val corr: tensor(0.2302, grad_fn=<NegBackward0>)\n",
      "\n",
      "epoch 2\n",
      "train corr: tensor(0.2858, grad_fn=<NegBackward0>)\n",
      "val corr: tensor(0.3288, grad_fn=<NegBackward0>)\n",
      "\n",
      "epoch 3\n",
      "train corr: tensor(0.3808, grad_fn=<NegBackward0>)\n",
      "val corr: tensor(0.4133, grad_fn=<NegBackward0>)\n",
      "\n",
      "epoch 4\n",
      "train corr: tensor(0.4642, grad_fn=<NegBackward0>)\n",
      "val corr: tensor(0.4908, grad_fn=<NegBackward0>)\n",
      "\n",
      "epoch 5\n",
      "train corr: tensor(0.5368, grad_fn=<NegBackward0>)\n",
      "val corr: tensor(0.5556, grad_fn=<NegBackward0>)\n",
      "\n",
      "epoch 6\n",
      "train corr: tensor(0.5991, grad_fn=<NegBackward0>)\n",
      "val corr: tensor(0.6111, grad_fn=<NegBackward0>)\n",
      "\n",
      "epoch 7\n",
      "train corr: tensor(0.6517, grad_fn=<NegBackward0>)\n",
      "val corr: tensor(0.6581, grad_fn=<NegBackward0>)\n",
      "\n",
      "epoch 8\n",
      "train corr: tensor(0.6950, grad_fn=<NegBackward0>)\n",
      "val corr: tensor(0.6960, grad_fn=<NegBackward0>)\n",
      "\n",
      "epoch 9\n",
      "train corr: tensor(0.7298, grad_fn=<NegBackward0>)\n",
      "val corr: tensor(0.7281, grad_fn=<NegBackward0>)\n",
      "\n",
      "epoch 10\n",
      "train corr: tensor(0.7578, grad_fn=<NegBackward0>)\n",
      "val corr: tensor(0.7506, grad_fn=<NegBackward0>)\n",
      "\n",
      "epoch 11\n",
      "train corr: tensor(0.7800, grad_fn=<NegBackward0>)\n",
      "val corr: tensor(0.7703, grad_fn=<NegBackward0>)\n",
      "\n",
      "epoch 12\n",
      "train corr: tensor(0.7975, grad_fn=<NegBackward0>)\n",
      "val corr: tensor(0.7845, grad_fn=<NegBackward0>)\n",
      "\n",
      "epoch 13\n",
      "train corr: tensor(0.8117, grad_fn=<NegBackward0>)\n",
      "val corr: tensor(0.7957, grad_fn=<NegBackward0>)\n",
      "\n",
      "epoch 14\n",
      "train corr: tensor(0.8231, grad_fn=<NegBackward0>)\n",
      "val corr: tensor(0.8051, grad_fn=<NegBackward0>)\n",
      "\n",
      "epoch 15\n",
      "train corr: tensor(0.8330, grad_fn=<NegBackward0>)\n",
      "val corr: tensor(0.8133, grad_fn=<NegBackward0>)\n",
      "\n",
      "epoch 16\n",
      "train corr: tensor(0.8412, grad_fn=<NegBackward0>)\n",
      "val corr: tensor(0.8191, grad_fn=<NegBackward0>)\n",
      "\n",
      "epoch 17\n",
      "train corr: tensor(0.8481, grad_fn=<NegBackward0>)\n",
      "val corr: tensor(0.8240, grad_fn=<NegBackward0>)\n",
      "\n",
      "epoch 18\n",
      "train corr: tensor(0.8544, grad_fn=<NegBackward0>)\n",
      "val corr: tensor(0.8275, grad_fn=<NegBackward0>)\n",
      "\n",
      "epoch 19\n",
      "train corr: tensor(0.8602, grad_fn=<NegBackward0>)\n",
      "val corr: tensor(0.8313, grad_fn=<NegBackward0>)\n",
      "\n",
      "epoch 20\n",
      "train corr: tensor(0.8654, grad_fn=<NegBackward0>)\n",
      "val corr: tensor(0.8332, grad_fn=<NegBackward0>)\n",
      "\n",
      "epoch 21\n",
      "train corr: tensor(0.8703, grad_fn=<NegBackward0>)\n",
      "val corr: tensor(0.8349, grad_fn=<NegBackward0>)\n",
      "\n",
      "epoch 22\n",
      "train corr: tensor(0.8747, grad_fn=<NegBackward0>)\n",
      "val corr: tensor(0.8359, grad_fn=<NegBackward0>)\n",
      "\n",
      "epoch 23\n",
      "train corr: tensor(0.8790, grad_fn=<NegBackward0>)\n",
      "val corr: tensor(0.8373, grad_fn=<NegBackward0>)\n",
      "\n",
      "epoch 24\n",
      "train corr: tensor(0.8830, grad_fn=<NegBackward0>)\n",
      "val corr: tensor(0.8380, grad_fn=<NegBackward0>)\n",
      "\n"
     ]
    },
    {
     "data": {
      "text/plain": [
       "0"
      ]
     },
     "execution_count": 28,
     "metadata": {},
     "output_type": "execute_result"
    }
   ],
   "source": [
    "res = []\n",
    "lrs = [0.01, 0.001, 0.0001, 0.00001]\n",
    "wds = [0.1, 0.01]\n",
    "epochs = 25\n",
    "\n",
    "for learning_rate in lrs:\n",
    "    for weight_decay in wds:\n",
    "        print('------')\n",
    "        print(f'learning rate: {learning_rate}')\n",
    "        print(f'weight decay: {weight_decay}')\n",
    "        print()\n",
    "        \n",
    "        net = Net()\n",
    "        optimizer = optim.Adam(net.parameters(),\n",
    "                    lr=learning_rate,\n",
    "                    weight_decay=weight_decay)\n",
    "        \n",
    "        train_corrs = []\n",
    "        val_corrs = []\n",
    "        \n",
    "        for i in range(epochs):\n",
    "            print('epoch', i)\n",
    "            train_corr = -(train_model(train_loader, net, optimizer))\n",
    "            train_corrs.append(float(train_corr.detach().numpy()))\n",
    "            print('train corr:', train_corr)\n",
    "            val_corr = -(model_eval(net, val_loader))\n",
    "            val_corrs.append(float(val_corr.detach().numpy()))\n",
    "            print('val corr:', val_corr)\n",
    "            print()\n",
    "        \n",
    "        res.append([train_corrs, val_corrs, \n",
    "                    learning_rate, weight_decay])   \n",
    "        \n",
    "del net, train_corrs, val_corrs\n",
    "gc.collect()"
   ]
  },
  {
   "cell_type": "code",
   "execution_count": 29,
   "id": "b819b052",
   "metadata": {
    "execution": {
     "iopub.execute_input": "2022-11-02T17:55:01.454366Z",
     "iopub.status.busy": "2022-11-02T17:55:01.453559Z",
     "iopub.status.idle": "2022-11-02T17:55:03.936830Z",
     "shell.execute_reply": "2022-11-02T17:55:03.935353Z"
    },
    "papermill": {
     "duration": 2.526293,
     "end_time": "2022-11-02T17:55:03.939463",
     "exception": false,
     "start_time": "2022-11-02T17:55:01.413170",
     "status": "completed"
    },
    "tags": []
   },
   "outputs": [
    {
     "name": "stdout",
     "output_type": "stream",
     "text": [
      "------\n",
      "learning rate: 0.01\n",
      "weight decay: 0.1\n",
      "best score on val set: 0.8136\n",
      "\n",
      "------\n",
      "learning rate: 0.01\n",
      "weight decay: 0.01\n",
      "best score on val set: 0.8604\n",
      "\n",
      "------\n",
      "learning rate: 0.001\n",
      "weight decay: 0.1\n",
      "best score on val set: 0.8699\n",
      "\n",
      "------\n",
      "learning rate: 0.001\n",
      "weight decay: 0.01\n",
      "best score on val set: 0.8845\n",
      "\n",
      "------\n",
      "learning rate: 0.0001\n",
      "weight decay: 0.1\n",
      "best score on val set: 0.8843\n",
      "\n",
      "------\n",
      "learning rate: 0.0001\n",
      "weight decay: 0.01\n",
      "best score on val set: 0.8739\n",
      "\n",
      "------\n",
      "learning rate: 1e-05\n",
      "weight decay: 0.1\n",
      "best score on val set: 0.7785\n",
      "\n",
      "------\n",
      "learning rate: 1e-05\n",
      "weight decay: 0.01\n",
      "best score on val set: 0.8380\n",
      "\n"
     ]
    },
    {
     "data": {
      "text/plain": [
       "170"
      ]
     },
     "execution_count": 29,
     "metadata": {},
     "output_type": "execute_result"
    },
    {
     "data": {
      "image/png": "[encoded data removed]",
      "text/plain": [
       "<Figure size 864x576 with 8 Axes>"
      ]
     },
     "metadata": {},
     "output_type": "display_data"
    }
   ],
   "source": [
    "figsize(12, 8)\n",
    "for i in range(8):\n",
    "    train_corrs, val_corrs, learning_rate, weight_decay = res[i]\n",
    "    print('------')\n",
    "    print(f'learning rate: {learning_rate}')\n",
    "    print(f'weight decay: {weight_decay}')\n",
    "    print(f'best score on val set: {np.max(val_corrs):.4f}')\n",
    "    print()\n",
    "    \n",
    "    plt.subplot(4, 2, i+1)\n",
    "    plt.scatter(list(range(epochs)), \n",
    "                train_corrs, \n",
    "                label='training corr')\n",
    "    plt.plot(list(range(epochs)), \n",
    "             train_corrs)\n",
    "    plt.scatter(list(range(epochs)), \n",
    "                val_corrs, \n",
    "                label='val corr')\n",
    "    plt.plot(list(range(epochs)), \n",
    "             val_corrs)\n",
    "    plt.legend(loc='lower right')\n",
    "    plt.title(f'lr = {learning_rate} | wd = {weight_decay}')\n",
    "    plt.ylim(0.7, 1)\n",
    "plt.tight_layout()\n",
    "\n",
    "del train_corrs, val_corrs\n",
    "gc.collect()"
   ]
  },
  {
   "cell_type": "code",
   "execution_count": 30,
   "id": "23383cb8",
   "metadata": {
    "execution": {
     "iopub.execute_input": "2022-11-02T17:55:04.024870Z",
     "iopub.status.busy": "2022-11-02T17:55:04.024419Z",
     "iopub.status.idle": "2022-11-02T17:55:04.029499Z",
     "shell.execute_reply": "2022-11-02T17:55:04.028341Z"
    },
    "papermill": {
     "duration": 0.050754,
     "end_time": "2022-11-02T17:55:04.031674",
     "exception": false,
     "start_time": "2022-11-02T17:55:03.980920",
     "status": "completed"
    },
    "tags": []
   },
   "outputs": [],
   "source": [
    "# net = Net()\n",
    "# learning_rate = 0.00001\n",
    "# weight_decay = 0.01 \n",
    "# optimizer = optim.Adam(net.parameters(),\n",
    "#                        lr=learning_rate,\n",
    "#                        weight_decay=weight_decay)"
   ]
  },
  {
   "cell_type": "code",
   "execution_count": 31,
   "id": "f8e1db84",
   "metadata": {
    "execution": {
     "iopub.execute_input": "2022-11-02T17:55:04.115895Z",
     "iopub.status.busy": "2022-11-02T17:55:04.115410Z",
     "iopub.status.idle": "2022-11-02T17:55:04.121022Z",
     "shell.execute_reply": "2022-11-02T17:55:04.119717Z"
    },
    "papermill": {
     "duration": 0.0502,
     "end_time": "2022-11-02T17:55:04.123341",
     "exception": false,
     "start_time": "2022-11-02T17:55:04.073141",
     "status": "completed"
    },
    "tags": []
   },
   "outputs": [],
   "source": [
    "# %%time\n",
    "# epochs = 10\n",
    "# train_corrs = []\n",
    "# val_corrs = []\n",
    "\n",
    "# for i in range(epochs):\n",
    "#     print('epoch', i)\n",
    "#     train_corr = -(train_model(train_loader, net, optimizer))\n",
    "#     train_corrs.append(float(train_corr.detach().numpy()))\n",
    "#     print('train corr:', train_corr)\n",
    "#     val_corr = -(model_eval(net, val_loader))\n",
    "#     val_corrs.append(float(val_corr.detach().numpy()))\n",
    "#     print('val corr:', val_corr)\n",
    "#     print()"
   ]
  },
  {
   "cell_type": "code",
   "execution_count": 32,
   "id": "8782487a",
   "metadata": {
    "execution": {
     "iopub.execute_input": "2022-11-02T17:55:04.205381Z",
     "iopub.status.busy": "2022-11-02T17:55:04.204782Z",
     "iopub.status.idle": "2022-11-02T17:55:04.210528Z",
     "shell.execute_reply": "2022-11-02T17:55:04.209369Z"
    },
    "papermill": {
     "duration": 0.048932,
     "end_time": "2022-11-02T17:55:04.212693",
     "exception": false,
     "start_time": "2022-11-02T17:55:04.163761",
     "status": "completed"
    },
    "tags": []
   },
   "outputs": [],
   "source": [
    "# figsize(8, 8)\n",
    "# plt.scatter(list(range(epochs)), train_corrs, label='training corr')\n",
    "# plt.plot(list(range(epochs)), train_corrs)\n",
    "# plt.scatter(list(range(epochs)), val_corrs, label='val corr')\n",
    "# plt.plot(list(range(epochs)), val_corrs)\n",
    "# plt.legend(loc='lower right')\n",
    "# plt.title(f'lr = {learning_rate} | wd = {weight_decay}')\n",
    "# plt.ylim(0, 1)"
   ]
  },
  {
   "cell_type": "code",
   "execution_count": 33,
   "id": "9850e97d",
   "metadata": {
    "execution": {
     "iopub.execute_input": "2022-11-02T17:55:04.293930Z",
     "iopub.status.busy": "2022-11-02T17:55:04.293538Z",
     "iopub.status.idle": "2022-11-02T17:55:04.298107Z",
     "shell.execute_reply": "2022-11-02T17:55:04.297088Z"
    },
    "papermill": {
     "duration": 0.04815,
     "end_time": "2022-11-02T17:55:04.300281",
     "exception": false,
     "start_time": "2022-11-02T17:55:04.252131",
     "status": "completed"
    },
    "tags": []
   },
   "outputs": [],
   "source": [
    "# train_inp[:5]"
   ]
  },
  {
   "cell_type": "code",
   "execution_count": 34,
   "id": "e112af50",
   "metadata": {
    "execution": {
     "iopub.execute_input": "2022-11-02T17:55:04.385946Z",
     "iopub.status.busy": "2022-11-02T17:55:04.384599Z",
     "iopub.status.idle": "2022-11-02T17:55:04.389487Z",
     "shell.execute_reply": "2022-11-02T17:55:04.388559Z"
    },
    "papermill": {
     "duration": 0.049326,
     "end_time": "2022-11-02T17:55:04.391720",
     "exception": false,
     "start_time": "2022-11-02T17:55:04.342394",
     "status": "completed"
    },
    "tags": []
   },
   "outputs": [],
   "source": [
    "# with torch.no_grad():\n",
    "#     net.eval()\n",
    "#     train_tar_preds = net(train_inp[0]).detach().numpy()"
   ]
  },
  {
   "cell_type": "code",
   "execution_count": 35,
   "id": "586d7f8c",
   "metadata": {
    "execution": {
     "iopub.execute_input": "2022-11-02T17:55:04.477786Z",
     "iopub.status.busy": "2022-11-02T17:55:04.477371Z",
     "iopub.status.idle": "2022-11-02T17:55:04.483083Z",
     "shell.execute_reply": "2022-11-02T17:55:04.480916Z"
    },
    "papermill": {
     "duration": 0.052396,
     "end_time": "2022-11-02T17:55:04.485719",
     "exception": false,
     "start_time": "2022-11-02T17:55:04.433323",
     "status": "completed"
    },
    "tags": []
   },
   "outputs": [],
   "source": [
    "# np.corrcoef(train_tar_preds, train_tar[0])"
   ]
  },
  {
   "cell_type": "code",
   "execution_count": 36,
   "id": "4edd183d",
   "metadata": {
    "execution": {
     "iopub.execute_input": "2022-11-02T17:55:04.572518Z",
     "iopub.status.busy": "2022-11-02T17:55:04.572126Z",
     "iopub.status.idle": "2022-11-02T17:55:04.732588Z",
     "shell.execute_reply": "2022-11-02T17:55:04.731595Z"
    },
    "papermill": {
     "duration": 0.206081,
     "end_time": "2022-11-02T17:55:04.734768",
     "exception": false,
     "start_time": "2022-11-02T17:55:04.528687",
     "status": "completed"
    },
    "tags": []
   },
   "outputs": [
    {
     "data": {
      "text/plain": [
       "24590"
      ]
     },
     "execution_count": 36,
     "metadata": {},
     "output_type": "execute_result"
    }
   ],
   "source": [
    "del train_inp, train_tar, full_ds\n",
    "gc.collect()"
   ]
  },
  {
   "cell_type": "markdown",
   "id": "83d98719",
   "metadata": {
    "papermill": {
     "duration": 0.040633,
     "end_time": "2022-11-02T17:55:04.816202",
     "exception": false,
     "start_time": "2022-11-02T17:55:04.775569",
     "status": "completed"
    },
    "tags": []
   },
   "source": [
    "## Prediction"
   ]
  },
  {
   "cell_type": "code",
   "execution_count": 37,
   "id": "49ab07b8",
   "metadata": {
    "execution": {
     "iopub.execute_input": "2022-11-02T17:55:04.901770Z",
     "iopub.status.busy": "2022-11-02T17:55:04.901371Z",
     "iopub.status.idle": "2022-11-02T17:55:04.906293Z",
     "shell.execute_reply": "2022-11-02T17:55:04.905088Z"
    },
    "papermill": {
     "duration": 0.050373,
     "end_time": "2022-11-02T17:55:04.908631",
     "exception": false,
     "start_time": "2022-11-02T17:55:04.858258",
     "status": "completed"
    },
    "tags": []
   },
   "outputs": [],
   "source": [
    "# %%time\n",
    "# test_inp = load_pickle('../tmp/test_inp')\n",
    "# test_inp = torch.from_numpy(test_inp)"
   ]
  },
  {
   "cell_type": "code",
   "execution_count": 38,
   "id": "9a6501af",
   "metadata": {
    "execution": {
     "iopub.execute_input": "2022-11-02T17:55:04.989407Z",
     "iopub.status.busy": "2022-11-02T17:55:04.989011Z",
     "iopub.status.idle": "2022-11-02T17:55:04.993696Z",
     "shell.execute_reply": "2022-11-02T17:55:04.992521Z"
    },
    "papermill": {
     "duration": 0.0479,
     "end_time": "2022-11-02T17:55:04.996291",
     "exception": false,
     "start_time": "2022-11-02T17:55:04.948391",
     "status": "completed"
    },
    "tags": []
   },
   "outputs": [],
   "source": [
    "# with torch.no_grad():\n",
    "#     net.eval()\n",
    "#     test_tar_preds = net(test_inp).detach().numpy()"
   ]
  },
  {
   "cell_type": "code",
   "execution_count": 39,
   "id": "ceee5fe4",
   "metadata": {
    "execution": {
     "iopub.execute_input": "2022-11-02T17:55:05.083772Z",
     "iopub.status.busy": "2022-11-02T17:55:05.083379Z",
     "iopub.status.idle": "2022-11-02T17:55:05.089159Z",
     "shell.execute_reply": "2022-11-02T17:55:05.087924Z"
    },
    "papermill": {
     "duration": 0.052764,
     "end_time": "2022-11-02T17:55:05.091634",
     "exception": false,
     "start_time": "2022-11-02T17:55:05.038870",
     "status": "completed"
    },
    "tags": []
   },
   "outputs": [],
   "source": [
    "# del test_inp\n",
    "# gc.collect()"
   ]
  },
  {
   "cell_type": "markdown",
   "id": "80a172e4",
   "metadata": {
    "papermill": {
     "duration": 0.041047,
     "end_time": "2022-11-02T17:55:05.175510",
     "exception": false,
     "start_time": "2022-11-02T17:55:05.134463",
     "status": "completed"
    },
    "tags": []
   },
   "source": [
    "## Creating Submission"
   ]
  },
  {
   "cell_type": "code",
   "execution_count": 40,
   "id": "0890b901",
   "metadata": {
    "execution": {
     "iopub.execute_input": "2022-11-02T17:55:05.260111Z",
     "iopub.status.busy": "2022-11-02T17:55:05.259643Z",
     "iopub.status.idle": "2022-11-02T17:55:05.263950Z",
     "shell.execute_reply": "2022-11-02T17:55:05.262888Z"
    },
    "papermill": {
     "duration": 0.050688,
     "end_time": "2022-11-02T17:55:05.266495",
     "exception": false,
     "start_time": "2022-11-02T17:55:05.215807",
     "status": "completed"
    },
    "tags": []
   },
   "outputs": [],
   "source": [
    "# DATA_DIR = '../input/msci-h5-sparse-transform'\n",
    "# %ls $DATA_DIR -lh"
   ]
  },
  {
   "cell_type": "code",
   "execution_count": 41,
   "id": "e06461d4",
   "metadata": {
    "execution": {
     "iopub.execute_input": "2022-11-02T17:55:05.352464Z",
     "iopub.status.busy": "2022-11-02T17:55:05.351172Z",
     "iopub.status.idle": "2022-11-02T17:55:05.357358Z",
     "shell.execute_reply": "2022-11-02T17:55:05.356071Z"
    },
    "papermill": {
     "duration": 0.052006,
     "end_time": "2022-11-02T17:55:05.360014",
     "exception": false,
     "start_time": "2022-11-02T17:55:05.308008",
     "status": "completed"
    },
    "tags": []
   },
   "outputs": [],
   "source": [
    "# test_tar_cols = np.load(f'{DATA_DIR}/train_cite_targets_idx.npz',\n",
    "#                         allow_pickle=True)['columns']\n",
    "# test_tar_idx = np.load(f'{DATA_DIR}/test_cite_inputs_idx.npz',\n",
    "#                        allow_pickle=True)['index']\n",
    "# test_tar_cols.shape, test_tar_idx.shape, test_tar_preds.shape"
   ]
  },
  {
   "cell_type": "code",
   "execution_count": 42,
   "id": "59391ce0",
   "metadata": {
    "execution": {
     "iopub.execute_input": "2022-11-02T17:55:05.446169Z",
     "iopub.status.busy": "2022-11-02T17:55:05.445702Z",
     "iopub.status.idle": "2022-11-02T17:55:05.450808Z",
     "shell.execute_reply": "2022-11-02T17:55:05.449560Z"
    },
    "papermill": {
     "duration": 0.050516,
     "end_time": "2022-11-02T17:55:05.453278",
     "exception": false,
     "start_time": "2022-11-02T17:55:05.402762",
     "status": "completed"
    },
    "tags": []
   },
   "outputs": [],
   "source": [
    "# %%time\n",
    "# print('Start Eval...')\n",
    "# eval_ids = pd.read_parquet(f'{DATA_DIR}/evaluation_ids.parquet')\n",
    "# eval_ids.cell_id = eval_ids.cell_id.astype(pd.CategoricalDtype())\n",
    "# eval_ids.gene_id = eval_ids.gene_id.astype(pd.CategoricalDtype())"
   ]
  },
  {
   "cell_type": "code",
   "execution_count": 43,
   "id": "4af09095",
   "metadata": {
    "execution": {
     "iopub.execute_input": "2022-11-02T17:55:05.539832Z",
     "iopub.status.busy": "2022-11-02T17:55:05.539437Z",
     "iopub.status.idle": "2022-11-02T17:55:05.544182Z",
     "shell.execute_reply": "2022-11-02T17:55:05.542898Z"
    },
    "papermill": {
     "duration": 0.050662,
     "end_time": "2022-11-02T17:55:05.546565",
     "exception": false,
     "start_time": "2022-11-02T17:55:05.495903",
     "status": "completed"
    },
    "tags": []
   },
   "outputs": [],
   "source": [
    "# %%time\n",
    "# sub = pd.Series(name='target',\n",
    "#                 index=pd.MultiIndex.from_frame(eval_ids), \n",
    "#                 dtype=np.float32)\n",
    "# sub"
   ]
  },
  {
   "cell_type": "code",
   "execution_count": 44,
   "id": "f2076afb",
   "metadata": {
    "execution": {
     "iopub.execute_input": "2022-11-02T17:55:05.631907Z",
     "iopub.status.busy": "2022-11-02T17:55:05.630614Z",
     "iopub.status.idle": "2022-11-02T17:55:05.635312Z",
     "shell.execute_reply": "2022-11-02T17:55:05.634503Z"
    },
    "papermill": {
     "duration": 0.049431,
     "end_time": "2022-11-02T17:55:05.637479",
     "exception": false,
     "start_time": "2022-11-02T17:55:05.588048",
     "status": "completed"
    },
    "tags": []
   },
   "outputs": [],
   "source": [
    "# cell_id_dict = {cell_id: idx \n",
    "#                 for idx, cell_id in enumerate(test_tar_idx, 0)}\n",
    "# gene_id_dict = {gene_id: idx \n",
    "#                 for idx, gene_id in enumerate(test_tar_cols, 0)}"
   ]
  },
  {
   "cell_type": "code",
   "execution_count": 45,
   "id": "12db6838",
   "metadata": {
    "execution": {
     "iopub.execute_input": "2022-11-02T17:55:05.722008Z",
     "iopub.status.busy": "2022-11-02T17:55:05.721063Z",
     "iopub.status.idle": "2022-11-02T17:55:05.726822Z",
     "shell.execute_reply": "2022-11-02T17:55:05.725472Z"
    },
    "papermill": {
     "duration": 0.05053,
     "end_time": "2022-11-02T17:55:05.729152",
     "exception": false,
     "start_time": "2022-11-02T17:55:05.678622",
     "status": "completed"
    },
    "tags": []
   },
   "outputs": [],
   "source": [
    "# eid_cid_idx = eval_ids['cell_id']\\\n",
    "#               .apply(lambda x: cell_id_dict.get(x, -1))\n",
    "# eid_gid_idx = eval_ids['gene_id']\\\n",
    "#               .apply(lambda x: gene_id_dict.get(x, -1))\n",
    "# valid_cite_rows = (eid_cid_idx != -1) & (eid_gid_idx != -1)"
   ]
  },
  {
   "cell_type": "code",
   "execution_count": 46,
   "id": "282522aa",
   "metadata": {
    "execution": {
     "iopub.execute_input": "2022-11-02T17:55:05.817006Z",
     "iopub.status.busy": "2022-11-02T17:55:05.815665Z",
     "iopub.status.idle": "2022-11-02T17:55:05.820599Z",
     "shell.execute_reply": "2022-11-02T17:55:05.819658Z"
    },
    "papermill": {
     "duration": 0.051236,
     "end_time": "2022-11-02T17:55:05.822902",
     "exception": false,
     "start_time": "2022-11-02T17:55:05.771666",
     "status": "completed"
    },
    "tags": []
   },
   "outputs": [],
   "source": [
    "# %%time\n",
    "# sub.iloc[valid_cite_rows] = test_tar_preds\\\n",
    "#                              [eid_cid_idx[valid_cite_rows].to_numpy(),\n",
    "#                               eid_gid_idx[valid_cite_rows].to_numpy()]"
   ]
  },
  {
   "cell_type": "code",
   "execution_count": 47,
   "id": "03d159be",
   "metadata": {
    "execution": {
     "iopub.execute_input": "2022-11-02T17:55:05.906100Z",
     "iopub.status.busy": "2022-11-02T17:55:05.905639Z",
     "iopub.status.idle": "2022-11-02T17:55:05.910544Z",
     "shell.execute_reply": "2022-11-02T17:55:05.909402Z"
    },
    "papermill": {
     "duration": 0.049415,
     "end_time": "2022-11-02T17:55:05.912956",
     "exception": false,
     "start_time": "2022-11-02T17:55:05.863541",
     "status": "completed"
    },
    "tags": []
   },
   "outputs": [],
   "source": [
    "# del eval_ids, test_tar_idx, test_tar_cols\n",
    "# del eid_cid_idx, eid_gid_idx, valid_cite_rows\n",
    "# gc.collect()"
   ]
  },
  {
   "cell_type": "code",
   "execution_count": 48,
   "id": "134767ad",
   "metadata": {
    "execution": {
     "iopub.execute_input": "2022-11-02T17:55:05.996428Z",
     "iopub.status.busy": "2022-11-02T17:55:05.995373Z",
     "iopub.status.idle": "2022-11-02T17:55:06.000457Z",
     "shell.execute_reply": "2022-11-02T17:55:05.999671Z"
    },
    "papermill": {
     "duration": 0.04922,
     "end_time": "2022-11-02T17:55:06.002726",
     "exception": false,
     "start_time": "2022-11-02T17:55:05.953506",
     "status": "completed"
    },
    "tags": []
   },
   "outputs": [],
   "source": [
    "# sub = pd.DataFrame(sub).fillna(0).reset_index()\n",
    "# sub.drop(['cell_id', 'gene_id'], axis=1)\\\n",
    "#    .to_csv('cite_sub.csv', index=False)"
   ]
  },
  {
   "cell_type": "code",
   "execution_count": 49,
   "id": "9df52644",
   "metadata": {
    "execution": {
     "iopub.execute_input": "2022-11-02T17:55:06.086681Z",
     "iopub.status.busy": "2022-11-02T17:55:06.086298Z",
     "iopub.status.idle": "2022-11-02T17:55:06.090870Z",
     "shell.execute_reply": "2022-11-02T17:55:06.089567Z"
    },
    "papermill": {
     "duration": 0.049913,
     "end_time": "2022-11-02T17:55:06.093159",
     "exception": false,
     "start_time": "2022-11-02T17:55:06.043246",
     "status": "completed"
    },
    "tags": []
   },
   "outputs": [],
   "source": [
    "# sub.head()"
   ]
  }
 ],
 "metadata": {
  "kernelspec": {
   "display_name": "Python 3",
   "language": "python",
   "name": "python3"
  },
  "language_info": {
   "codemirror_mode": {
    "name": "ipython",
    "version": 3
   },
   "file_extension": ".py",
   "mimetype": "text/x-python",
   "name": "python",
   "nbconvert_exporter": "python",
   "pygments_lexer": "ipython3",
   "version": "3.7.12"
  },
  "papermill": {
   "default_parameters": {},
   "duration": 18622.66833,
   "end_time": "2022-11-02T17:55:07.792995",
   "environment_variables": {},
   "exception": null,
   "input_path": "__notebook__.ipynb",
   "output_path": "__notebook__.ipynb",
   "parameters": {},
   "start_time": "2022-11-02T12:44:45.124665",
   "version": "2.3.4"
  }
 },
 "nbformat": 4,
 "nbformat_minor": 5
}
