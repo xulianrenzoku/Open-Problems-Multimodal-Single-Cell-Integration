{
 "cells": [
  {
   "cell_type": "code",
   "execution_count": 1,
   "id": "30cbffd2",
   "metadata": {
    "_cell_guid": "b1076dfc-b9ad-4769-8c92-a6c4dae69d19",
    "_uuid": "8f2839f25d086af736a60e9eeb907d3b93b6e0e5",
    "execution": {
     "iopub.execute_input": "2022-10-31T11:31:08.911687Z",
     "iopub.status.busy": "2022-10-31T11:31:08.911008Z",
     "iopub.status.idle": "2022-10-31T11:31:09.040668Z",
     "shell.execute_reply": "2022-10-31T11:31:09.039385Z"
    },
    "papermill": {
     "duration": 0.152337,
     "end_time": "2022-10-31T11:31:09.045012",
     "exception": false,
     "start_time": "2022-10-31T11:31:08.892675",
     "status": "completed"
    },
    "tags": []
   },
   "outputs": [],
   "source": [
    "import os\n",
    "import os.path\n",
    "import gc\n",
    "import numpy as np\n",
    "import pandas as pd\n",
    "import scipy.sparse\n",
    "from tqdm import tqdm"
   ]
  },
  {
   "cell_type": "code",
   "execution_count": 2,
   "id": "d7528752",
   "metadata": {
    "execution": {
     "iopub.execute_input": "2022-10-31T11:31:09.083839Z",
     "iopub.status.busy": "2022-10-31T11:31:09.083083Z",
     "iopub.status.idle": "2022-10-31T11:31:09.088654Z",
     "shell.execute_reply": "2022-10-31T11:31:09.087442Z"
    },
    "papermill": {
     "duration": 0.027054,
     "end_time": "2022-10-31T11:31:09.091357",
     "exception": false,
     "start_time": "2022-10-31T11:31:09.064303",
     "status": "completed"
    },
    "tags": []
   },
   "outputs": [],
   "source": [
    "import warnings \n",
    "warnings.filterwarnings('ignore')"
   ]
  },
  {
   "cell_type": "code",
   "execution_count": 3,
   "id": "007e8b18",
   "metadata": {
    "execution": {
     "iopub.execute_input": "2022-10-31T11:31:09.122271Z",
     "iopub.status.busy": "2022-10-31T11:31:09.121155Z",
     "iopub.status.idle": "2022-10-31T11:31:09.130920Z",
     "shell.execute_reply": "2022-10-31T11:31:09.128471Z"
    },
    "papermill": {
     "duration": 0.02831,
     "end_time": "2022-10-31T11:31:09.134192",
     "exception": false,
     "start_time": "2022-10-31T11:31:09.105882",
     "status": "completed"
    },
    "tags": []
   },
   "outputs": [],
   "source": [
    "import pickle\n",
    "\n",
    "def dump_pickle(file, filename):\n",
    "    outfile = open(filename, 'wb')\n",
    "    pickle.dump(file, outfile)\n",
    "    outfile.close()\n",
    "\n",
    "def load_pickle(filename):\n",
    "    infile = open(filename, 'rb')\n",
    "    file = pickle.load(infile)\n",
    "    infile.close()\n",
    "    return file"
   ]
  },
  {
   "cell_type": "code",
   "execution_count": 4,
   "id": "0e4c5850",
   "metadata": {
    "execution": {
     "iopub.execute_input": "2022-10-31T11:31:09.174253Z",
     "iopub.status.busy": "2022-10-31T11:31:09.173445Z",
     "iopub.status.idle": "2022-10-31T11:31:10.286046Z",
     "shell.execute_reply": "2022-10-31T11:31:10.284743Z"
    },
    "papermill": {
     "duration": 1.135785,
     "end_time": "2022-10-31T11:31:10.288852",
     "exception": false,
     "start_time": "2022-10-31T11:31:09.153067",
     "status": "completed"
    },
    "tags": []
   },
   "outputs": [
    {
     "name": "stdout",
     "output_type": "stream",
     "text": [
      "total 27G\r\n",
      "-rw-r--r-- 1 nobody nogroup 2.3G Sep  7 19:51 evaluation_ids.csv\r\n",
      "-rw-r--r-- 1 nobody nogroup 9.4M Sep  7 19:50 metadata.csv\r\n",
      "-rw-r--r-- 1 nobody nogroup 230K Sep  7 19:50 metadata_cite_day_2_donor_27678.csv\r\n",
      "-rw-r--r-- 1 nobody nogroup 805M Sep  7 19:50 sample_submission.csv\r\n",
      "-rw-r--r-- 1 nobody nogroup 1.6G Sep  7 19:51 test_cite_inputs.h5\r\n",
      "-rw-r--r-- 1 nobody nogroup 294M Sep  7 19:50 test_cite_inputs_day_2_donor_27678.h5\r\n",
      "-rw-r--r-- 1 nobody nogroup 6.1G Sep  7 19:52 test_multi_inputs.h5\r\n",
      "-rw-r--r-- 1 nobody nogroup 2.4G Sep  7 19:51 train_cite_inputs.h5\r\n",
      "-rw-r--r-- 1 nobody nogroup  37M Sep  7 19:50 train_cite_targets.h5\r\n",
      "-rw-r--r-- 1 nobody nogroup  11G Sep  7 19:52 train_multi_inputs.h5\r\n",
      "-rw-r--r-- 1 nobody nogroup 3.0G Sep  7 19:51 train_multi_targets.h5\r\n"
     ]
    }
   ],
   "source": [
    "DATA_DIR = '../input/open-problems-multimodal'\n",
    "%ls $DATA_DIR -lh"
   ]
  },
  {
   "cell_type": "markdown",
   "id": "72f712de",
   "metadata": {
    "execution": {
     "iopub.execute_input": "2022-10-24T09:53:23.30961Z",
     "iopub.status.busy": "2022-10-24T09:53:23.309238Z",
     "iopub.status.idle": "2022-10-24T09:53:23.315117Z",
     "shell.execute_reply": "2022-10-24T09:53:23.313565Z",
     "shell.execute_reply.started": "2022-10-24T09:53:23.309583Z"
    },
    "papermill": {
     "duration": 0.013494,
     "end_time": "2022-10-31T11:31:10.316027",
     "exception": false,
     "start_time": "2022-10-31T11:31:10.302533",
     "status": "completed"
    },
    "tags": []
   },
   "source": [
    "## Read Data"
   ]
  },
  {
   "cell_type": "code",
   "execution_count": 5,
   "id": "af51ec40",
   "metadata": {
    "execution": {
     "iopub.execute_input": "2022-10-31T11:31:10.347166Z",
     "iopub.status.busy": "2022-10-31T11:31:10.346294Z",
     "iopub.status.idle": "2022-10-31T11:32:03.187968Z",
     "shell.execute_reply": "2022-10-31T11:32:03.186761Z"
    },
    "papermill": {
     "duration": 52.874147,
     "end_time": "2022-10-31T11:32:03.204558",
     "exception": false,
     "start_time": "2022-10-31T11:31:10.330411",
     "status": "completed"
    },
    "tags": []
   },
   "outputs": [
    {
     "name": "stdout",
     "output_type": "stream",
     "text": [
      "CPU times: user 28.6 s, sys: 5.7 s, total: 34.3 s\n",
      "Wall time: 52.8 s\n"
     ]
    }
   ],
   "source": [
    "%%time\n",
    "train_inp = pd.read_hdf(f'{DATA_DIR}/train_cite_inputs.h5')\n",
    "train_inp_cols = train_inp.columns"
   ]
  },
  {
   "cell_type": "code",
   "execution_count": 6,
   "id": "e9db1f3d",
   "metadata": {
    "execution": {
     "iopub.execute_input": "2022-10-31T11:32:03.235856Z",
     "iopub.status.busy": "2022-10-31T11:32:03.235393Z",
     "iopub.status.idle": "2022-10-31T11:32:41.546551Z",
     "shell.execute_reply": "2022-10-31T11:32:41.544759Z"
    },
    "papermill": {
     "duration": 38.348271,
     "end_time": "2022-10-31T11:32:41.568041",
     "exception": false,
     "start_time": "2022-10-31T11:32:03.219770",
     "status": "completed"
    },
    "tags": []
   },
   "outputs": [
    {
     "name": "stdout",
     "output_type": "stream",
     "text": [
      "CPU times: user 20.4 s, sys: 3.66 s, total: 24.1 s\n",
      "Wall time: 38.3 s\n"
     ]
    }
   ],
   "source": [
    "%%time\n",
    "test_inp = pd.read_hdf(f'{DATA_DIR}/test_cite_inputs.h5')"
   ]
  },
  {
   "cell_type": "code",
   "execution_count": 7,
   "id": "be736ff8",
   "metadata": {
    "execution": {
     "iopub.execute_input": "2022-10-31T11:32:41.599428Z",
     "iopub.status.busy": "2022-10-31T11:32:41.598153Z",
     "iopub.status.idle": "2022-10-31T11:32:42.323610Z",
     "shell.execute_reply": "2022-10-31T11:32:42.322020Z"
    },
    "papermill": {
     "duration": 0.744419,
     "end_time": "2022-10-31T11:32:42.326286",
     "exception": false,
     "start_time": "2022-10-31T11:32:41.581867",
     "status": "completed"
    },
    "tags": []
   },
   "outputs": [
    {
     "name": "stdout",
     "output_type": "stream",
     "text": [
      "CPU times: user 178 ms, sys: 50.2 ms, total: 229 ms\n",
      "Wall time: 714 ms\n"
     ]
    }
   ],
   "source": [
    "%%time\n",
    "train_tar = pd.read_hdf(f'{DATA_DIR}/train_cite_targets.h5')\n",
    "train_tar_cols = train_tar.columns"
   ]
  },
  {
   "cell_type": "markdown",
   "id": "04e23113",
   "metadata": {
    "papermill": {
     "duration": 0.013824,
     "end_time": "2022-10-31T11:32:42.354234",
     "exception": false,
     "start_time": "2022-10-31T11:32:42.340410",
     "status": "completed"
    },
    "tags": []
   },
   "source": [
    "## Feature Engineering"
   ]
  },
  {
   "cell_type": "markdown",
   "id": "d9c32ee2",
   "metadata": {
    "papermill": {
     "duration": 0.013824,
     "end_time": "2022-10-31T11:32:42.382181",
     "exception": false,
     "start_time": "2022-10-31T11:32:42.368357",
     "status": "completed"
    },
    "tags": []
   },
   "source": [
    "### Remove Featues"
   ]
  },
  {
   "cell_type": "markdown",
   "id": "214d027b",
   "metadata": {
    "papermill": {
     "duration": 0.013649,
     "end_time": "2022-10-31T11:32:42.409891",
     "exception": false,
     "start_time": "2022-10-31T11:32:42.396242",
     "status": "completed"
    },
    "tags": []
   },
   "source": [
    "Find and remove columns with all zeroes"
   ]
  },
  {
   "cell_type": "code",
   "execution_count": 8,
   "id": "0c8bbc44",
   "metadata": {
    "execution": {
     "iopub.execute_input": "2022-10-31T11:32:42.439363Z",
     "iopub.status.busy": "2022-10-31T11:32:42.438942Z",
     "iopub.status.idle": "2022-10-31T11:33:23.480378Z",
     "shell.execute_reply": "2022-10-31T11:33:23.478720Z"
    },
    "papermill": {
     "duration": 41.059169,
     "end_time": "2022-10-31T11:33:23.482926",
     "exception": false,
     "start_time": "2022-10-31T11:32:42.423757",
     "status": "completed"
    },
    "tags": []
   },
   "outputs": [
    {
     "name": "stdout",
     "output_type": "stream",
     "text": [
      "0\n",
      "1000\n",
      "2000\n",
      "3000\n",
      "4000\n",
      "5000\n",
      "6000\n",
      "7000\n",
      "8000\n",
      "9000\n",
      "10000\n",
      "11000\n",
      "12000\n",
      "13000\n",
      "14000\n",
      "15000\n",
      "16000\n",
      "17000\n",
      "18000\n",
      "19000\n",
      "20000\n",
      "21000\n",
      "22000\n",
      "Number of columns with zero values only (Train or Test): 1194\n",
      "CPU times: user 40.6 s, sys: 422 ms, total: 41 s\n",
      "Wall time: 41 s\n"
     ]
    }
   ],
   "source": [
    "%%time\n",
    "zero_cols = []\n",
    "for idx, col in enumerate(train_inp_cols, 0):\n",
    "    if idx % 1000 == 0:\n",
    "        print(idx)\n",
    "    if len(train_inp[col].unique()) == 1 or len(test_inp[col].unique()) == 1:\n",
    "        zero_cols.append(col)\n",
    "print('Number of columns with zero values only (Train or Test):', \n",
    "      len(zero_cols))"
   ]
  },
  {
   "cell_type": "code",
   "execution_count": 9,
   "id": "35072dbe",
   "metadata": {
    "execution": {
     "iopub.execute_input": "2022-10-31T11:33:23.517543Z",
     "iopub.status.busy": "2022-10-31T11:33:23.517123Z",
     "iopub.status.idle": "2022-10-31T11:33:26.779302Z",
     "shell.execute_reply": "2022-10-31T11:33:26.777884Z"
    },
    "papermill": {
     "duration": 3.282725,
     "end_time": "2022-10-31T11:33:26.782140",
     "exception": false,
     "start_time": "2022-10-31T11:33:23.499415",
     "status": "completed"
    },
    "tags": []
   },
   "outputs": [
    {
     "name": "stdout",
     "output_type": "stream",
     "text": [
      "CPU times: user 1.29 s, sys: 1.98 s, total: 3.27 s\n",
      "Wall time: 3.25 s\n"
     ]
    },
    {
     "data": {
      "text/plain": [
       "((70988, 20856), (48663, 20856))"
      ]
     },
     "execution_count": 9,
     "metadata": {},
     "output_type": "execute_result"
    }
   ],
   "source": [
    "%%time\n",
    "train_inp = train_inp.drop(zero_cols, axis=1)\n",
    "train_inp_cols = train_inp.columns\n",
    "test_inp = test_inp.drop(zero_cols, axis=1)\n",
    "train_inp.shape, test_inp.shape"
   ]
  },
  {
   "cell_type": "markdown",
   "id": "569bff4c",
   "metadata": {
    "papermill": {
     "duration": 0.01513,
     "end_time": "2022-10-31T11:33:26.812796",
     "exception": false,
     "start_time": "2022-10-31T11:33:26.797666",
     "status": "completed"
    },
    "tags": []
   },
   "source": [
    "### Introduce Metadata"
   ]
  },
  {
   "cell_type": "code",
   "execution_count": 10,
   "id": "0797a87f",
   "metadata": {
    "execution": {
     "iopub.execute_input": "2022-10-31T11:33:26.846200Z",
     "iopub.status.busy": "2022-10-31T11:33:26.845760Z",
     "iopub.status.idle": "2022-10-31T11:33:27.973332Z",
     "shell.execute_reply": "2022-10-31T11:33:27.971726Z"
    },
    "papermill": {
     "duration": 1.147795,
     "end_time": "2022-10-31T11:33:27.976238",
     "exception": false,
     "start_time": "2022-10-31T11:33:26.828443",
     "status": "completed"
    },
    "tags": []
   },
   "outputs": [
    {
     "name": "stdout",
     "output_type": "stream",
     "text": [
      "total 7.1G\r\n",
      "-rw-r--r-- 1 nobody nogroup  25K Oct 26 15:46 __notebook__.ipynb\r\n",
      "-rw-r--r-- 1 nobody nogroup  25K Oct 26 15:46 __output__.json\r\n",
      "-rw-r--r-- 1 nobody nogroup 293K Oct 26 15:46 __results__.html\r\n",
      "-rw-r--r-- 1 nobody nogroup    0 Oct 26 15:46 custom.css\r\n",
      "-rw-r--r-- 1 nobody nogroup 359M Oct 26 15:46 evaluation_ids.parquet\r\n",
      "-rw-r--r-- 1 nobody nogroup 3.8M Oct 26 15:46 metadata.parquet\r\n",
      "-rw-r--r-- 1 nobody nogroup 108K Oct 26 15:46 metadata_cite_day_2_donor_27678.parquet\r\n",
      "-rw-r--r-- 1 nobody nogroup 252M Oct 26 15:46 sample_submission.parquet\r\n",
      "-rw-r--r-- 1 nobody nogroup 856K Oct 26 15:46 test_cite_inputs_day_2_donor_27678_idx.npz\r\n",
      "-rw-r--r-- 1 nobody nogroup  78M Oct 26 15:46 test_cite_inputs_day_2_donor_27678_val.sparse.npz\r\n",
      "-rw-r--r-- 1 nobody nogroup 1.8M Oct 26 15:46 test_cite_inputs_idx.npz\r\n",
      "-rw-r--r-- 1 nobody nogroup 488M Oct 26 15:46 test_cite_inputs_val.sparse.npz\r\n",
      "-rw-r--r-- 1 nobody nogroup 8.4M Oct 26 15:46 test_multi_inputs_idx.npz\r\n",
      "-rw-r--r-- 1 nobody nogroup 1.7G Oct 26 15:47 test_multi_inputs_val.sparse.npz\r\n",
      "-rw-r--r-- 1 nobody nogroup 2.2M Oct 26 15:46 train_cite_inputs_idx.npz\r\n",
      "-rw-r--r-- 1 nobody nogroup 712M Oct 26 15:46 train_cite_inputs_val.sparse.npz\r\n",
      "-rw-r--r-- 1 nobody nogroup 1.5M Oct 26 15:46 train_cite_targets_idx.npz\r\n",
      "-rw-r--r-- 1 nobody nogroup  36M Oct 26 15:46 train_cite_targets_val.sparse.npz\r\n",
      "-rw-r--r-- 1 nobody nogroup 9.5M Oct 26 15:46 train_multi_inputs_idx.npz\r\n",
      "-rw-r--r-- 1 nobody nogroup 2.8G Oct 26 15:47 train_multi_inputs_val.sparse.npz\r\n",
      "-rw-r--r-- 1 nobody nogroup 2.8M Oct 26 15:46 train_multi_targets_idx.npz\r\n",
      "-rw-r--r-- 1 nobody nogroup 824M Oct 26 15:46 train_multi_targets_val.sparse.npz\r\n"
     ]
    }
   ],
   "source": [
    "DATA_DIR = '../input/msci-h5-sparse-transform'\n",
    "%ls $DATA_DIR -lh"
   ]
  },
  {
   "cell_type": "code",
   "execution_count": 11,
   "id": "f2ef3666",
   "metadata": {
    "execution": {
     "iopub.execute_input": "2022-10-31T11:33:28.010320Z",
     "iopub.status.busy": "2022-10-31T11:33:28.009896Z",
     "iopub.status.idle": "2022-10-31T11:33:28.534680Z",
     "shell.execute_reply": "2022-10-31T11:33:28.533252Z"
    },
    "papermill": {
     "duration": 0.546333,
     "end_time": "2022-10-31T11:33:28.538408",
     "exception": false,
     "start_time": "2022-10-31T11:33:27.992075",
     "status": "completed"
    },
    "tags": []
   },
   "outputs": [
    {
     "name": "stdout",
     "output_type": "stream",
     "text": [
      "(119651, 5)\n",
      "CPU times: user 211 ms, sys: 109 ms, total: 320 ms\n",
      "Wall time: 505 ms\n"
     ]
    },
    {
     "data": {
      "text/html": [
       "<div>\n",
       "<style scoped>\n",
       "    .dataframe tbody tr th:only-of-type {\n",
       "        vertical-align: middle;\n",
       "    }\n",
       "\n",
       "    .dataframe tbody tr th {\n",
       "        vertical-align: top;\n",
       "    }\n",
       "\n",
       "    .dataframe thead th {\n",
       "        text-align: right;\n",
       "    }\n",
       "</style>\n",
       "<table border=\"1\" class=\"dataframe\">\n",
       "  <thead>\n",
       "    <tr style=\"text-align: right;\">\n",
       "      <th></th>\n",
       "      <th>cell_id</th>\n",
       "      <th>day</th>\n",
       "      <th>donor</th>\n",
       "      <th>cell_type</th>\n",
       "      <th>technology</th>\n",
       "    </tr>\n",
       "  </thead>\n",
       "  <tbody>\n",
       "    <tr>\n",
       "      <th>0</th>\n",
       "      <td>c2150f55becb</td>\n",
       "      <td>2</td>\n",
       "      <td>27678</td>\n",
       "      <td>HSC</td>\n",
       "      <td>citeseq</td>\n",
       "    </tr>\n",
       "    <tr>\n",
       "      <th>1</th>\n",
       "      <td>65b7edf8a4da</td>\n",
       "      <td>2</td>\n",
       "      <td>27678</td>\n",
       "      <td>HSC</td>\n",
       "      <td>citeseq</td>\n",
       "    </tr>\n",
       "    <tr>\n",
       "      <th>2</th>\n",
       "      <td>c1b26cb1057b</td>\n",
       "      <td>2</td>\n",
       "      <td>27678</td>\n",
       "      <td>EryP</td>\n",
       "      <td>citeseq</td>\n",
       "    </tr>\n",
       "    <tr>\n",
       "      <th>3</th>\n",
       "      <td>917168fa6f83</td>\n",
       "      <td>2</td>\n",
       "      <td>27678</td>\n",
       "      <td>NeuP</td>\n",
       "      <td>citeseq</td>\n",
       "    </tr>\n",
       "    <tr>\n",
       "      <th>4</th>\n",
       "      <td>2b29feeca86d</td>\n",
       "      <td>2</td>\n",
       "      <td>27678</td>\n",
       "      <td>EryP</td>\n",
       "      <td>citeseq</td>\n",
       "    </tr>\n",
       "  </tbody>\n",
       "</table>\n",
       "</div>"
      ],
      "text/plain": [
       "        cell_id  day  donor cell_type technology\n",
       "0  c2150f55becb    2  27678       HSC    citeseq\n",
       "1  65b7edf8a4da    2  27678       HSC    citeseq\n",
       "2  c1b26cb1057b    2  27678      EryP    citeseq\n",
       "3  917168fa6f83    2  27678      NeuP    citeseq\n",
       "4  2b29feeca86d    2  27678      EryP    citeseq"
      ]
     },
     "execution_count": 11,
     "metadata": {},
     "output_type": "execute_result"
    }
   ],
   "source": [
    "%%time\n",
    "meta_data = pd.read_parquet(f'{DATA_DIR}/metadata.parquet')\n",
    "meta_data_cite = meta_data[meta_data['technology'] == 'citeseq']\n",
    "print(meta_data_cite.shape)\n",
    "meta_data.head()"
   ]
  },
  {
   "cell_type": "code",
   "execution_count": 12,
   "id": "3547c44f",
   "metadata": {
    "execution": {
     "iopub.execute_input": "2022-10-31T11:33:28.572573Z",
     "iopub.status.busy": "2022-10-31T11:33:28.572172Z",
     "iopub.status.idle": "2022-10-31T11:33:28.711498Z",
     "shell.execute_reply": "2022-10-31T11:33:28.710572Z"
    },
    "papermill": {
     "duration": 0.159062,
     "end_time": "2022-10-31T11:33:28.713703",
     "exception": false,
     "start_time": "2022-10-31T11:33:28.554641",
     "status": "completed"
    },
    "tags": []
   },
   "outputs": [
    {
     "data": {
      "text/plain": [
       "21"
      ]
     },
     "execution_count": 12,
     "metadata": {},
     "output_type": "execute_result"
    }
   ],
   "source": [
    "del meta_data\n",
    "gc.collect()"
   ]
  },
  {
   "cell_type": "code",
   "execution_count": 13,
   "id": "ef2750c2",
   "metadata": {
    "execution": {
     "iopub.execute_input": "2022-10-31T11:33:28.747946Z",
     "iopub.status.busy": "2022-10-31T11:33:28.747194Z",
     "iopub.status.idle": "2022-10-31T11:33:29.664191Z",
     "shell.execute_reply": "2022-10-31T11:33:29.662954Z"
    },
    "papermill": {
     "duration": 0.937402,
     "end_time": "2022-10-31T11:33:29.667135",
     "exception": false,
     "start_time": "2022-10-31T11:33:28.729733",
     "status": "completed"
    },
    "tags": []
   },
   "outputs": [],
   "source": [
    "from sklearn.preprocessing import OneHotEncoder"
   ]
  },
  {
   "cell_type": "code",
   "execution_count": 14,
   "id": "237880f1",
   "metadata": {
    "execution": {
     "iopub.execute_input": "2022-10-31T11:33:29.705319Z",
     "iopub.status.busy": "2022-10-31T11:33:29.704923Z",
     "iopub.status.idle": "2022-10-31T11:33:29.797354Z",
     "shell.execute_reply": "2022-10-31T11:33:29.796464Z"
    },
    "papermill": {
     "duration": 0.11228,
     "end_time": "2022-10-31T11:33:29.799766",
     "exception": false,
     "start_time": "2022-10-31T11:33:29.687486",
     "status": "completed"
    },
    "tags": []
   },
   "outputs": [
    {
     "data": {
      "text/html": [
       "<div>\n",
       "<style scoped>\n",
       "    .dataframe tbody tr th:only-of-type {\n",
       "        vertical-align: middle;\n",
       "    }\n",
       "\n",
       "    .dataframe tbody tr th {\n",
       "        vertical-align: top;\n",
       "    }\n",
       "\n",
       "    .dataframe thead th {\n",
       "        text-align: right;\n",
       "    }\n",
       "</style>\n",
       "<table border=\"1\" class=\"dataframe\">\n",
       "  <thead>\n",
       "    <tr style=\"text-align: right;\">\n",
       "      <th></th>\n",
       "      <th>cell_id</th>\n",
       "      <th>day</th>\n",
       "      <th>donor</th>\n",
       "      <th>cell_type</th>\n",
       "      <th>technology</th>\n",
       "      <th>x0_BP</th>\n",
       "      <th>x0_EryP</th>\n",
       "      <th>x0_HSC</th>\n",
       "      <th>x0_MasP</th>\n",
       "      <th>x0_MkP</th>\n",
       "      <th>x0_MoP</th>\n",
       "      <th>x0_NeuP</th>\n",
       "    </tr>\n",
       "  </thead>\n",
       "  <tbody>\n",
       "    <tr>\n",
       "      <th>0</th>\n",
       "      <td>c2150f55becb</td>\n",
       "      <td>2</td>\n",
       "      <td>27678</td>\n",
       "      <td>HSC</td>\n",
       "      <td>citeseq</td>\n",
       "      <td>0.0</td>\n",
       "      <td>0.0</td>\n",
       "      <td>1.0</td>\n",
       "      <td>0.0</td>\n",
       "      <td>0.0</td>\n",
       "      <td>0.0</td>\n",
       "      <td>0.0</td>\n",
       "    </tr>\n",
       "    <tr>\n",
       "      <th>1</th>\n",
       "      <td>65b7edf8a4da</td>\n",
       "      <td>2</td>\n",
       "      <td>27678</td>\n",
       "      <td>HSC</td>\n",
       "      <td>citeseq</td>\n",
       "      <td>0.0</td>\n",
       "      <td>0.0</td>\n",
       "      <td>1.0</td>\n",
       "      <td>0.0</td>\n",
       "      <td>0.0</td>\n",
       "      <td>0.0</td>\n",
       "      <td>0.0</td>\n",
       "    </tr>\n",
       "    <tr>\n",
       "      <th>2</th>\n",
       "      <td>c1b26cb1057b</td>\n",
       "      <td>2</td>\n",
       "      <td>27678</td>\n",
       "      <td>EryP</td>\n",
       "      <td>citeseq</td>\n",
       "      <td>0.0</td>\n",
       "      <td>1.0</td>\n",
       "      <td>0.0</td>\n",
       "      <td>0.0</td>\n",
       "      <td>0.0</td>\n",
       "      <td>0.0</td>\n",
       "      <td>0.0</td>\n",
       "    </tr>\n",
       "    <tr>\n",
       "      <th>3</th>\n",
       "      <td>917168fa6f83</td>\n",
       "      <td>2</td>\n",
       "      <td>27678</td>\n",
       "      <td>NeuP</td>\n",
       "      <td>citeseq</td>\n",
       "      <td>0.0</td>\n",
       "      <td>0.0</td>\n",
       "      <td>0.0</td>\n",
       "      <td>0.0</td>\n",
       "      <td>0.0</td>\n",
       "      <td>0.0</td>\n",
       "      <td>1.0</td>\n",
       "    </tr>\n",
       "    <tr>\n",
       "      <th>4</th>\n",
       "      <td>2b29feeca86d</td>\n",
       "      <td>2</td>\n",
       "      <td>27678</td>\n",
       "      <td>EryP</td>\n",
       "      <td>citeseq</td>\n",
       "      <td>0.0</td>\n",
       "      <td>1.0</td>\n",
       "      <td>0.0</td>\n",
       "      <td>0.0</td>\n",
       "      <td>0.0</td>\n",
       "      <td>0.0</td>\n",
       "      <td>0.0</td>\n",
       "    </tr>\n",
       "  </tbody>\n",
       "</table>\n",
       "</div>"
      ],
      "text/plain": [
       "        cell_id  day  donor cell_type technology  x0_BP  x0_EryP  x0_HSC  \\\n",
       "0  c2150f55becb    2  27678       HSC    citeseq    0.0      0.0     1.0   \n",
       "1  65b7edf8a4da    2  27678       HSC    citeseq    0.0      0.0     1.0   \n",
       "2  c1b26cb1057b    2  27678      EryP    citeseq    0.0      1.0     0.0   \n",
       "3  917168fa6f83    2  27678      NeuP    citeseq    0.0      0.0     0.0   \n",
       "4  2b29feeca86d    2  27678      EryP    citeseq    0.0      1.0     0.0   \n",
       "\n",
       "   x0_MasP  x0_MkP  x0_MoP  x0_NeuP  \n",
       "0      0.0     0.0     0.0      0.0  \n",
       "1      0.0     0.0     0.0      0.0  \n",
       "2      0.0     0.0     0.0      0.0  \n",
       "3      0.0     0.0     0.0      1.0  \n",
       "4      0.0     0.0     0.0      0.0  "
      ]
     },
     "execution_count": 14,
     "metadata": {},
     "output_type": "execute_result"
    }
   ],
   "source": [
    "cell_type_df = meta_data_cite[['cell_type']].copy()\n",
    "ohe = OneHotEncoder()\n",
    "cell_type_df = ohe.fit_transform(cell_type_df)\n",
    "cell_type_df = pd.DataFrame(cell_type_df.todense(), \n",
    "                            columns=ohe.get_feature_names())\n",
    "meta_data_cite = pd.concat([meta_data_cite, cell_type_df], axis=1)\n",
    "meta_data_cite.head()"
   ]
  },
  {
   "cell_type": "code",
   "execution_count": 15,
   "id": "d0a1bb1b",
   "metadata": {
    "execution": {
     "iopub.execute_input": "2022-10-31T11:33:29.835437Z",
     "iopub.status.busy": "2022-10-31T11:33:29.834332Z",
     "iopub.status.idle": "2022-10-31T11:33:29.958901Z",
     "shell.execute_reply": "2022-10-31T11:33:29.957656Z"
    },
    "papermill": {
     "duration": 0.145104,
     "end_time": "2022-10-31T11:33:29.961592",
     "exception": false,
     "start_time": "2022-10-31T11:33:29.816488",
     "status": "completed"
    },
    "tags": []
   },
   "outputs": [
    {
     "data": {
      "text/plain": [
       "21"
      ]
     },
     "execution_count": 15,
     "metadata": {},
     "output_type": "execute_result"
    }
   ],
   "source": [
    "del cell_type_df\n",
    "gc.collect()"
   ]
  },
  {
   "cell_type": "code",
   "execution_count": 16,
   "id": "e0881d83",
   "metadata": {
    "execution": {
     "iopub.execute_input": "2022-10-31T11:33:29.997876Z",
     "iopub.status.busy": "2022-10-31T11:33:29.997257Z",
     "iopub.status.idle": "2022-10-31T11:33:30.024591Z",
     "shell.execute_reply": "2022-10-31T11:33:30.023649Z"
    },
    "papermill": {
     "duration": 0.048806,
     "end_time": "2022-10-31T11:33:30.027599",
     "exception": false,
     "start_time": "2022-10-31T11:33:29.978793",
     "status": "completed"
    },
    "tags": []
   },
   "outputs": [],
   "source": [
    "meta_data_cite = meta_data_cite.drop(['day', 'donor', \n",
    "                                      'cell_type', 'technology'],\n",
    "                                     axis=1)\n",
    "cell_ids = meta_data_cite['cell_id']\n",
    "meta_data_cite = meta_data_cite.drop('cell_id', axis=1)\n",
    "meta_data_cite.index = cell_ids"
   ]
  },
  {
   "cell_type": "code",
   "execution_count": 17,
   "id": "513af103",
   "metadata": {
    "execution": {
     "iopub.execute_input": "2022-10-31T11:33:30.063318Z",
     "iopub.status.busy": "2022-10-31T11:33:30.062606Z",
     "iopub.status.idle": "2022-10-31T11:33:30.070383Z",
     "shell.execute_reply": "2022-10-31T11:33:30.069268Z"
    },
    "papermill": {
     "duration": 0.02859,
     "end_time": "2022-10-31T11:33:30.072697",
     "exception": false,
     "start_time": "2022-10-31T11:33:30.044107",
     "status": "completed"
    },
    "tags": []
   },
   "outputs": [
    {
     "data": {
      "text/plain": [
       "['x0_BP', 'x0_EryP', 'x0_HSC', 'x0_MasP', 'x0_MkP', 'x0_MoP', 'x0_NeuP']"
      ]
     },
     "execution_count": 17,
     "metadata": {},
     "output_type": "execute_result"
    }
   ],
   "source": [
    "meta_data_cols = [col for col in meta_data_cite.columns\n",
    "                  if col != 'cell_id']\n",
    "meta_data_cols"
   ]
  },
  {
   "cell_type": "code",
   "execution_count": 18,
   "id": "fbc85bc6",
   "metadata": {
    "execution": {
     "iopub.execute_input": "2022-10-31T11:33:30.107736Z",
     "iopub.status.busy": "2022-10-31T11:33:30.106897Z",
     "iopub.status.idle": "2022-10-31T11:33:30.860973Z",
     "shell.execute_reply": "2022-10-31T11:33:30.859650Z"
    },
    "papermill": {
     "duration": 0.774321,
     "end_time": "2022-10-31T11:33:30.863705",
     "exception": false,
     "start_time": "2022-10-31T11:33:30.089384",
     "status": "completed"
    },
    "tags": []
   },
   "outputs": [
    {
     "data": {
      "text/plain": [
       "0"
      ]
     },
     "execution_count": 18,
     "metadata": {},
     "output_type": "execute_result"
    }
   ],
   "source": [
    "meta_data_cite_dict = meta_data_cite.to_dict('index')\n",
    "del meta_data_cite, cell_ids\n",
    "gc.collect()"
   ]
  },
  {
   "cell_type": "code",
   "execution_count": 19,
   "id": "fdf97c97",
   "metadata": {
    "execution": {
     "iopub.execute_input": "2022-10-31T11:33:30.898628Z",
     "iopub.status.busy": "2022-10-31T11:33:30.898237Z",
     "iopub.status.idle": "2022-10-31T11:33:30.905522Z",
     "shell.execute_reply": "2022-10-31T11:33:30.904435Z"
    },
    "papermill": {
     "duration": 0.027515,
     "end_time": "2022-10-31T11:33:30.907950",
     "exception": false,
     "start_time": "2022-10-31T11:33:30.880435",
     "status": "completed"
    },
    "tags": []
   },
   "outputs": [
    {
     "data": {
      "text/plain": [
       "((70988, 20856), (48663, 20856))"
      ]
     },
     "execution_count": 19,
     "metadata": {},
     "output_type": "execute_result"
    }
   ],
   "source": [
    "train_inp.shape, test_inp.shape"
   ]
  },
  {
   "cell_type": "code",
   "execution_count": 20,
   "id": "dad0835e",
   "metadata": {
    "execution": {
     "iopub.execute_input": "2022-10-31T11:33:30.942569Z",
     "iopub.status.busy": "2022-10-31T11:33:30.942168Z",
     "iopub.status.idle": "2022-10-31T11:33:31.643404Z",
     "shell.execute_reply": "2022-10-31T11:33:31.642009Z"
    },
    "papermill": {
     "duration": 0.72201,
     "end_time": "2022-10-31T11:33:31.646318",
     "exception": false,
     "start_time": "2022-10-31T11:33:30.924308",
     "status": "completed"
    },
    "tags": []
   },
   "outputs": [],
   "source": [
    "for col in meta_data_cols:\n",
    "    train_inp[col] = train_inp.index.to_series()\\\n",
    "                              .apply(lambda x: meta_data_cite_dict[x][col])\\\n",
    "                              .astype('float32')\n",
    "    test_inp[col] = test_inp.index.to_series()\\\n",
    "                            .apply(lambda x: meta_data_cite_dict[x][col])\\\n",
    "                            .astype('float32')"
   ]
  },
  {
   "cell_type": "code",
   "execution_count": 21,
   "id": "aaed91d5",
   "metadata": {
    "execution": {
     "iopub.execute_input": "2022-10-31T11:33:31.681517Z",
     "iopub.status.busy": "2022-10-31T11:33:31.681121Z",
     "iopub.status.idle": "2022-10-31T11:33:31.832320Z",
     "shell.execute_reply": "2022-10-31T11:33:31.831039Z"
    },
    "papermill": {
     "duration": 0.171574,
     "end_time": "2022-10-31T11:33:31.834702",
     "exception": false,
     "start_time": "2022-10-31T11:33:31.663128",
     "status": "completed"
    },
    "tags": []
   },
   "outputs": [
    {
     "data": {
      "text/plain": [
       "63"
      ]
     },
     "execution_count": 21,
     "metadata": {},
     "output_type": "execute_result"
    }
   ],
   "source": [
    "del meta_data_cite_dict\n",
    "gc.collect()"
   ]
  },
  {
   "cell_type": "markdown",
   "id": "9a01009d",
   "metadata": {
    "papermill": {
     "duration": 0.01653,
     "end_time": "2022-10-31T11:33:31.868140",
     "exception": false,
     "start_time": "2022-10-31T11:33:31.851610",
     "status": "completed"
    },
    "tags": []
   },
   "source": [
    "### Dimension Reduction"
   ]
  },
  {
   "cell_type": "markdown",
   "id": "4faacdbc",
   "metadata": {
    "papermill": {
     "duration": 0.016296,
     "end_time": "2022-10-31T11:33:31.900986",
     "exception": false,
     "start_time": "2022-10-31T11:33:31.884690",
     "status": "completed"
    },
    "tags": []
   },
   "source": [
    "Find features in target columns that are related to input columns due to identical names"
   ]
  },
  {
   "cell_type": "code",
   "execution_count": 22,
   "id": "3749f5f3",
   "metadata": {
    "execution": {
     "iopub.execute_input": "2022-10-31T11:33:31.936891Z",
     "iopub.status.busy": "2022-10-31T11:33:31.935645Z",
     "iopub.status.idle": "2022-10-31T11:33:32.459148Z",
     "shell.execute_reply": "2022-10-31T11:33:32.458136Z"
    },
    "papermill": {
     "duration": 0.543924,
     "end_time": "2022-10-31T11:33:32.461640",
     "exception": false,
     "start_time": "2022-10-31T11:33:31.917716",
     "status": "completed"
    },
    "tags": []
   },
   "outputs": [
    {
     "name": "stdout",
     "output_type": "stream",
     "text": [
      "Number of target columns shown in training columns: 144\n",
      "CPU times: user 516 ms, sys: 0 ns, total: 516 ms\n",
      "Wall time: 516 ms\n"
     ]
    }
   ],
   "source": [
    "%%time\n",
    "same_name_cols = []\n",
    "for tar_col in train_tar_cols:\n",
    "    for inp_col in train_inp_cols:\n",
    "        if tar_col in inp_col:\n",
    "            same_name_cols.append(inp_col)\n",
    "print('Number of target columns shown in training columns:', \n",
    "      len(same_name_cols))"
   ]
  },
  {
   "cell_type": "markdown",
   "id": "21dbddd5",
   "metadata": {
    "papermill": {
     "duration": 0.016552,
     "end_time": "2022-10-31T11:33:32.495006",
     "exception": false,
     "start_time": "2022-10-31T11:33:32.478454",
     "status": "completed"
    },
    "tags": []
   },
   "source": [
    "Keep identical name columns and transform the rest to sparse matrices"
   ]
  },
  {
   "cell_type": "code",
   "execution_count": 23,
   "id": "34a8b3e2",
   "metadata": {
    "execution": {
     "iopub.execute_input": "2022-10-31T11:33:32.531501Z",
     "iopub.status.busy": "2022-10-31T11:33:32.530769Z",
     "iopub.status.idle": "2022-10-31T11:33:40.963537Z",
     "shell.execute_reply": "2022-10-31T11:33:40.962065Z"
    },
    "papermill": {
     "duration": 8.454372,
     "end_time": "2022-10-31T11:33:40.966418",
     "exception": false,
     "start_time": "2022-10-31T11:33:32.512046",
     "status": "completed"
    },
    "tags": []
   },
   "outputs": [
    {
     "data": {
      "text/plain": [
       "((70988, 144), (48663, 144))"
      ]
     },
     "execution_count": 23,
     "metadata": {},
     "output_type": "execute_result"
    }
   ],
   "source": [
    "train_inp_sn = train_inp[same_name_cols].values\n",
    "test_inp_sn = test_inp[same_name_cols].values\n",
    "train_inp_sn.shape, test_inp_sn.shape"
   ]
  },
  {
   "cell_type": "code",
   "execution_count": 24,
   "id": "0e341c79",
   "metadata": {
    "execution": {
     "iopub.execute_input": "2022-10-31T11:33:41.004314Z",
     "iopub.status.busy": "2022-10-31T11:33:41.002679Z",
     "iopub.status.idle": "2022-10-31T11:33:41.014766Z",
     "shell.execute_reply": "2022-10-31T11:33:41.013434Z"
    },
    "papermill": {
     "duration": 0.033018,
     "end_time": "2022-10-31T11:33:41.017296",
     "exception": false,
     "start_time": "2022-10-31T11:33:40.984278",
     "status": "completed"
    },
    "tags": []
   },
   "outputs": [
    {
     "data": {
      "text/plain": [
       "((70988, 7), (48663, 7))"
      ]
     },
     "execution_count": 24,
     "metadata": {},
     "output_type": "execute_result"
    }
   ],
   "source": [
    "train_inp_ct = train_inp[meta_data_cols].values\n",
    "test_inp_ct = test_inp[meta_data_cols].values\n",
    "train_inp_ct.shape, test_inp_ct.shape"
   ]
  },
  {
   "cell_type": "code",
   "execution_count": 25,
   "id": "7aa9ecf2",
   "metadata": {
    "execution": {
     "iopub.execute_input": "2022-10-31T11:33:41.054610Z",
     "iopub.status.busy": "2022-10-31T11:33:41.053776Z",
     "iopub.status.idle": "2022-10-31T11:35:04.488527Z",
     "shell.execute_reply": "2022-10-31T11:35:04.487332Z"
    },
    "papermill": {
     "duration": 83.473467,
     "end_time": "2022-10-31T11:35:04.507588",
     "exception": false,
     "start_time": "2022-10-31T11:33:41.034121",
     "status": "completed"
    },
    "tags": []
   },
   "outputs": [
    {
     "name": "stdout",
     "output_type": "stream",
     "text": [
      "CPU times: user 1min 15s, sys: 7.46 s, total: 1min 23s\n",
      "Wall time: 1min 23s\n"
     ]
    },
    {
     "data": {
      "text/plain": [
       "84"
      ]
     },
     "execution_count": 25,
     "metadata": {},
     "output_type": "execute_result"
    }
   ],
   "source": [
    "%%time\n",
    "train_inp = train_inp.drop(same_name_cols, axis=1)\\\n",
    "                     .drop(meta_data_cols, axis=1)\n",
    "train_inp = scipy.sparse.csr_matrix(train_inp.values)\n",
    "test_inp = test_inp.drop(same_name_cols, axis=1)\\\n",
    "                   .drop(meta_data_cols, axis=1)\n",
    "test_inp = scipy.sparse.csr_matrix(test_inp.values)\n",
    "gc.collect()"
   ]
  },
  {
   "cell_type": "markdown",
   "id": "1e1cfa3c",
   "metadata": {
    "papermill": {
     "duration": 0.017193,
     "end_time": "2022-10-31T11:35:04.542059",
     "exception": false,
     "start_time": "2022-10-31T11:35:04.524866",
     "status": "completed"
    },
    "tags": []
   },
   "source": [
    "Reduce dimension"
   ]
  },
  {
   "cell_type": "code",
   "execution_count": 26,
   "id": "48006970",
   "metadata": {
    "execution": {
     "iopub.execute_input": "2022-10-31T11:35:04.578565Z",
     "iopub.status.busy": "2022-10-31T11:35:04.578109Z",
     "iopub.status.idle": "2022-10-31T11:35:04.748315Z",
     "shell.execute_reply": "2022-10-31T11:35:04.746920Z"
    },
    "papermill": {
     "duration": 0.191951,
     "end_time": "2022-10-31T11:35:04.751211",
     "exception": false,
     "start_time": "2022-10-31T11:35:04.559260",
     "status": "completed"
    },
    "tags": []
   },
   "outputs": [],
   "source": [
    "from sklearn.decomposition import PCA, TruncatedSVD"
   ]
  },
  {
   "cell_type": "code",
   "execution_count": 27,
   "id": "d621cdd6",
   "metadata": {
    "execution": {
     "iopub.execute_input": "2022-10-31T11:35:04.788747Z",
     "iopub.status.busy": "2022-10-31T11:35:04.787774Z",
     "iopub.status.idle": "2022-10-31T11:56:19.625982Z",
     "shell.execute_reply": "2022-10-31T11:56:19.624600Z"
    },
    "papermill": {
     "duration": 1274.883397,
     "end_time": "2022-10-31T11:56:19.652073",
     "exception": false,
     "start_time": "2022-10-31T11:35:04.768676",
     "status": "completed"
    },
    "tags": []
   },
   "outputs": [
    {
     "name": "stdout",
     "output_type": "stream",
     "text": [
      "Sum of Explained Variance:  0.19528116\n",
      "CPU times: user 21min 25s, sys: 14.1 s, total: 21min 39s\n",
      "Wall time: 21min 14s\n"
     ]
    },
    {
     "data": {
      "text/plain": [
       "21"
      ]
     },
     "execution_count": 27,
     "metadata": {},
     "output_type": "execute_result"
    }
   ],
   "source": [
    "%%time\n",
    "## Baseline\n",
    "train_inp_tsvd = TruncatedSVD(n_components=512, \n",
    "                              random_state=42)\n",
    "\n",
    "train_inp = train_inp_tsvd.fit_transform(train_inp)\n",
    "print('Sum of Explained Variance: ',\n",
    "      np.sum(train_inp_tsvd.explained_variance_ratio_))\n",
    "train_inp = np.hstack([train_inp, train_inp_sn, train_inp_ct])\n",
    "del train_inp_sn\n",
    "# del train_inp_ct\n",
    "gc.collect()"
   ]
  },
  {
   "cell_type": "code",
   "execution_count": 28,
   "id": "524cd5df",
   "metadata": {
    "execution": {
     "iopub.execute_input": "2022-10-31T11:56:19.688773Z",
     "iopub.status.busy": "2022-10-31T11:56:19.688343Z",
     "iopub.status.idle": "2022-10-31T11:57:06.212753Z",
     "shell.execute_reply": "2022-10-31T11:57:06.211392Z"
    },
    "papermill": {
     "duration": 46.564753,
     "end_time": "2022-10-31T11:57:06.234011",
     "exception": false,
     "start_time": "2022-10-31T11:56:19.669258",
     "status": "completed"
    },
    "tags": []
   },
   "outputs": [
    {
     "data": {
      "text/plain": [
       "21"
      ]
     },
     "execution_count": 28,
     "metadata": {},
     "output_type": "execute_result"
    }
   ],
   "source": [
    "test_inp = train_inp_tsvd.transform(test_inp)\n",
    "test_inp = np.hstack([test_inp, test_inp_sn, test_inp_ct])\n",
    "del test_inp_sn\n",
    "# del test_inp_ct\n",
    "gc.collect()"
   ]
  },
  {
   "cell_type": "code",
   "execution_count": 29,
   "id": "27c7a82c",
   "metadata": {
    "execution": {
     "iopub.execute_input": "2022-10-31T11:57:06.271708Z",
     "iopub.status.busy": "2022-10-31T11:57:06.270635Z",
     "iopub.status.idle": "2022-10-31T11:57:06.278277Z",
     "shell.execute_reply": "2022-10-31T11:57:06.277231Z"
    },
    "papermill": {
     "duration": 0.028801,
     "end_time": "2022-10-31T11:57:06.280459",
     "exception": false,
     "start_time": "2022-10-31T11:57:06.251658",
     "status": "completed"
    },
    "tags": []
   },
   "outputs": [
    {
     "data": {
      "text/plain": [
       "((70988, 663), (48663, 663))"
      ]
     },
     "execution_count": 29,
     "metadata": {},
     "output_type": "execute_result"
    }
   ],
   "source": [
    "train_inp.shape, test_inp.shape"
   ]
  },
  {
   "cell_type": "markdown",
   "id": "24eab7b1",
   "metadata": {
    "papermill": {
     "duration": 0.017661,
     "end_time": "2022-10-31T11:57:06.315649",
     "exception": false,
     "start_time": "2022-10-31T11:57:06.297988",
     "status": "completed"
    },
    "tags": []
   },
   "source": [
    "## Modeling"
   ]
  },
  {
   "cell_type": "markdown",
   "id": "b3ccaa41",
   "metadata": {
    "papermill": {
     "duration": 0.01818,
     "end_time": "2022-10-31T11:57:06.351482",
     "exception": false,
     "start_time": "2022-10-31T11:57:06.333302",
     "status": "completed"
    },
    "tags": []
   },
   "source": [
    "### Loss Function"
   ]
  },
  {
   "cell_type": "code",
   "execution_count": 30,
   "id": "dbddca8c",
   "metadata": {
    "execution": {
     "iopub.execute_input": "2022-10-31T11:57:06.389600Z",
     "iopub.status.busy": "2022-10-31T11:57:06.388672Z",
     "iopub.status.idle": "2022-10-31T11:57:06.396861Z",
     "shell.execute_reply": "2022-10-31T11:57:06.395893Z"
    },
    "papermill": {
     "duration": 0.029983,
     "end_time": "2022-10-31T11:57:06.399290",
     "exception": false,
     "start_time": "2022-10-31T11:57:06.369307",
     "status": "completed"
    },
    "tags": []
   },
   "outputs": [],
   "source": [
    "def correlation_score(y_true, y_pred):\n",
    "    \"\"\"Scores the predictions according to the competition rules. \n",
    "    It is assumed that the predictions are not constant.\n",
    "    Returns the average of each sample's Pearson correlation coefficient\"\"\"\n",
    "    if type(y_true) == pd.DataFrame: y_true = y_true.values\n",
    "    if type(y_pred) == pd.DataFrame: y_pred = y_pred.values\n",
    "    if y_true.shape != y_pred.shape: raise ValueError(\"Shapes are different.\")\n",
    "    corrsum = 0\n",
    "    for i in range(len(y_true)):\n",
    "        corrsum += np.corrcoef(y_true[i], y_pred[i])[1, 0]\n",
    "    return corrsum / len(y_true)"
   ]
  },
  {
   "cell_type": "markdown",
   "id": "d68d3651",
   "metadata": {
    "papermill": {
     "duration": 0.01722,
     "end_time": "2022-10-31T11:57:06.434149",
     "exception": false,
     "start_time": "2022-10-31T11:57:06.416929",
     "status": "completed"
    },
    "tags": []
   },
   "source": [
    "### Modeling"
   ]
  },
  {
   "cell_type": "code",
   "execution_count": 31,
   "id": "92a1a0d0",
   "metadata": {
    "execution": {
     "iopub.execute_input": "2022-10-31T11:57:06.471513Z",
     "iopub.status.busy": "2022-10-31T11:57:06.470851Z",
     "iopub.status.idle": "2022-10-31T11:57:06.515239Z",
     "shell.execute_reply": "2022-10-31T11:57:06.513982Z"
    },
    "papermill": {
     "duration": 0.066276,
     "end_time": "2022-10-31T11:57:06.518005",
     "exception": false,
     "start_time": "2022-10-31T11:57:06.451729",
     "status": "completed"
    },
    "tags": []
   },
   "outputs": [],
   "source": [
    "from sklearn.neighbors import KNeighborsRegressor\n",
    "from sklearn.linear_model import Ridge\n",
    "from sklearn.preprocessing import StandardScaler, Normalizer, MinMaxScaler\n",
    "from sklearn.model_selection import train_test_split"
   ]
  },
  {
   "cell_type": "code",
   "execution_count": 32,
   "id": "0f4d1a94",
   "metadata": {
    "execution": {
     "iopub.execute_input": "2022-10-31T11:57:06.555112Z",
     "iopub.status.busy": "2022-10-31T11:57:06.554688Z",
     "iopub.status.idle": "2022-10-31T11:57:06.701895Z",
     "shell.execute_reply": "2022-10-31T11:57:06.700337Z"
    },
    "papermill": {
     "duration": 0.170038,
     "end_time": "2022-10-31T11:57:06.705793",
     "exception": false,
     "start_time": "2022-10-31T11:57:06.535755",
     "status": "completed"
    },
    "tags": []
   },
   "outputs": [
    {
     "name": "stdout",
     "output_type": "stream",
     "text": [
      "CPU times: user 103 ms, sys: 38 ms, total: 141 ms\n",
      "Wall time: 140 ms\n"
     ]
    }
   ],
   "source": [
    "%%time\n",
    "X_train, X_val, y_train, y_val = train_test_split(train_inp,\n",
    "                                                  train_tar,\n",
    "                                                  test_size=0.2,\n",
    "                                                  random_state=42)"
   ]
  },
  {
   "cell_type": "code",
   "execution_count": 33,
   "id": "1284d144",
   "metadata": {
    "execution": {
     "iopub.execute_input": "2022-10-31T11:57:06.744032Z",
     "iopub.status.busy": "2022-10-31T11:57:06.743534Z",
     "iopub.status.idle": "2022-10-31T11:57:06.872871Z",
     "shell.execute_reply": "2022-10-31T11:57:06.871646Z"
    },
    "papermill": {
     "duration": 0.150998,
     "end_time": "2022-10-31T11:57:06.875266",
     "exception": false,
     "start_time": "2022-10-31T11:57:06.724268",
     "status": "completed"
    },
    "tags": []
   },
   "outputs": [
    {
     "data": {
      "text/plain": [
       "42"
      ]
     },
     "execution_count": 33,
     "metadata": {},
     "output_type": "execute_result"
    }
   ],
   "source": [
    "del train_inp, train_tar\n",
    "gc.collect()"
   ]
  },
  {
   "cell_type": "code",
   "execution_count": 34,
   "id": "b6c262fb",
   "metadata": {
    "execution": {
     "iopub.execute_input": "2022-10-31T11:57:06.913278Z",
     "iopub.status.busy": "2022-10-31T11:57:06.912844Z",
     "iopub.status.idle": "2022-10-31T11:57:07.521466Z",
     "shell.execute_reply": "2022-10-31T11:57:07.520401Z"
    },
    "papermill": {
     "duration": 0.630766,
     "end_time": "2022-10-31T11:57:07.524510",
     "exception": false,
     "start_time": "2022-10-31T11:57:06.893744",
     "status": "completed"
    },
    "tags": []
   },
   "outputs": [],
   "source": [
    "sc = StandardScaler()\n",
    "X_train = sc.fit_transform(X_train)\n",
    "X_val = sc.transform(X_val)"
   ]
  },
  {
   "cell_type": "markdown",
   "id": "3c8639a4",
   "metadata": {
    "papermill": {
     "duration": 0.017176,
     "end_time": "2022-10-31T11:57:07.559577",
     "exception": false,
     "start_time": "2022-10-31T11:57:07.542401",
     "status": "completed"
    },
    "tags": []
   },
   "source": [
    "### KNN"
   ]
  },
  {
   "cell_type": "code",
   "execution_count": 35,
   "id": "d7a75f9d",
   "metadata": {
    "execution": {
     "iopub.execute_input": "2022-10-31T11:57:07.596584Z",
     "iopub.status.busy": "2022-10-31T11:57:07.596184Z",
     "iopub.status.idle": "2022-10-31T11:57:07.601013Z",
     "shell.execute_reply": "2022-10-31T11:57:07.599576Z"
    },
    "papermill": {
     "duration": 0.026334,
     "end_time": "2022-10-31T11:57:07.603430",
     "exception": false,
     "start_time": "2022-10-31T11:57:07.577096",
     "status": "completed"
    },
    "tags": []
   },
   "outputs": [],
   "source": [
    "# %%time\n",
    "# knn = KNeighborsRegressor(n_neighbors=9)\n",
    "# knn.fit(norm.transform(X_train), y_train)"
   ]
  },
  {
   "cell_type": "code",
   "execution_count": 36,
   "id": "d1e831a0",
   "metadata": {
    "execution": {
     "iopub.execute_input": "2022-10-31T11:57:07.641356Z",
     "iopub.status.busy": "2022-10-31T11:57:07.640943Z",
     "iopub.status.idle": "2022-10-31T11:57:07.645603Z",
     "shell.execute_reply": "2022-10-31T11:57:07.644590Z"
    },
    "papermill": {
     "duration": 0.026796,
     "end_time": "2022-10-31T11:57:07.647915",
     "exception": false,
     "start_time": "2022-10-31T11:57:07.621119",
     "status": "completed"
    },
    "tags": []
   },
   "outputs": [],
   "source": [
    "# %%time\n",
    "# # dim=128; w/o cell type; Res: .9080 \n",
    "# # dim=128; w/o cell type; Normalizer; Res: .9080\n",
    "# # dim=128; w/o cell type; Standard Scaler; Res: .8946\n",
    "# # dim=128; w/o cell type; MinMax Scaler; Res: .8885\n",
    "# # dim=128; w/ cell type; Res: .9079\n",
    "\n",
    "# # correlation_score(y_train, knn.predict(X_train))\n",
    "# correlation_score(y_train, knn.predict(norm.transform(X_train)))"
   ]
  },
  {
   "cell_type": "code",
   "execution_count": 37,
   "id": "104adb2b",
   "metadata": {
    "execution": {
     "iopub.execute_input": "2022-10-31T11:57:07.685248Z",
     "iopub.status.busy": "2022-10-31T11:57:07.684833Z",
     "iopub.status.idle": "2022-10-31T11:57:07.689765Z",
     "shell.execute_reply": "2022-10-31T11:57:07.688398Z"
    },
    "papermill": {
     "duration": 0.026388,
     "end_time": "2022-10-31T11:57:07.692054",
     "exception": false,
     "start_time": "2022-10-31T11:57:07.665666",
     "status": "completed"
    },
    "tags": []
   },
   "outputs": [],
   "source": [
    "# %%time\n",
    "# # dim=128; w/o cell type; Res: .8858 \n",
    "# # dim=128; w/o cell type; Normalizer; Res: .8863\n",
    "# # dim=128; w/o cell type; Standard Scaler; Res: .8713\n",
    "# # dim=128; w/o cell type; MinMax Scaler; Res: .8624\n",
    "# # dim=128; w/ cell type; Res: .8857\n",
    "\n",
    "# # correlation_score(y_val, knn.predict(X_val))\n",
    "# correlation_score(y_val, knn.predict(norm.transform(X_val)))"
   ]
  },
  {
   "cell_type": "markdown",
   "id": "f60d74bf",
   "metadata": {
    "papermill": {
     "duration": 0.017335,
     "end_time": "2022-10-31T11:57:07.726971",
     "exception": false,
     "start_time": "2022-10-31T11:57:07.709636",
     "status": "completed"
    },
    "tags": []
   },
   "source": [
    "### Ridge"
   ]
  },
  {
   "cell_type": "code",
   "execution_count": 38,
   "id": "ecdbf07e",
   "metadata": {
    "execution": {
     "iopub.execute_input": "2022-10-31T11:57:07.764739Z",
     "iopub.status.busy": "2022-10-31T11:57:07.764359Z",
     "iopub.status.idle": "2022-10-31T11:57:08.408301Z",
     "shell.execute_reply": "2022-10-31T11:57:08.406466Z"
    },
    "papermill": {
     "duration": 0.668102,
     "end_time": "2022-10-31T11:57:08.412842",
     "exception": false,
     "start_time": "2022-10-31T11:57:07.744740",
     "status": "completed"
    },
    "tags": []
   },
   "outputs": [
    {
     "name": "stdout",
     "output_type": "stream",
     "text": [
      "CPU times: user 1.66 s, sys: 270 ms, total: 1.93 s\n",
      "Wall time: 625 ms\n"
     ]
    },
    {
     "data": {
      "text/plain": [
       "Ridge(random_state=42)"
      ]
     },
     "execution_count": 38,
     "metadata": {},
     "output_type": "execute_result"
    }
   ],
   "source": [
    "%%time\n",
    "ridge = Ridge(random_state=42)\n",
    "ridge.fit(X_train, y_train)"
   ]
  },
  {
   "cell_type": "code",
   "execution_count": 39,
   "id": "5bd30517",
   "metadata": {
    "execution": {
     "iopub.execute_input": "2022-10-31T11:57:08.531602Z",
     "iopub.status.busy": "2022-10-31T11:57:08.531192Z",
     "iopub.status.idle": "2022-10-31T11:57:14.659227Z",
     "shell.execute_reply": "2022-10-31T11:57:14.657971Z"
    },
    "papermill": {
     "duration": 6.151029,
     "end_time": "2022-10-31T11:57:14.661786",
     "exception": false,
     "start_time": "2022-10-31T11:57:08.510757",
     "status": "completed"
    },
    "tags": []
   },
   "outputs": [
    {
     "name": "stdout",
     "output_type": "stream",
     "text": [
      "CPU times: user 6.55 s, sys: 237 ms, total: 6.79 s\n",
      "Wall time: 6.12 s\n"
     ]
    },
    {
     "data": {
      "text/plain": [
       "0.8947031991231116"
      ]
     },
     "execution_count": 39,
     "metadata": {},
     "output_type": "execute_result"
    }
   ],
   "source": [
    "%%time\n",
    "# dim=128; w/ cell type; SC; Res .8933\n",
    "correlation_score(y_train, ridge.predict(X_train))"
   ]
  },
  {
   "cell_type": "code",
   "execution_count": 40,
   "id": "aac96733",
   "metadata": {
    "execution": {
     "iopub.execute_input": "2022-10-31T11:57:14.700694Z",
     "iopub.status.busy": "2022-10-31T11:57:14.700259Z",
     "iopub.status.idle": "2022-10-31T11:57:16.281935Z",
     "shell.execute_reply": "2022-10-31T11:57:16.280144Z"
    },
    "papermill": {
     "duration": 1.603557,
     "end_time": "2022-10-31T11:57:16.284492",
     "exception": false,
     "start_time": "2022-10-31T11:57:14.680935",
     "status": "completed"
    },
    "tags": []
   },
   "outputs": [
    {
     "name": "stdout",
     "output_type": "stream",
     "text": [
      "CPU times: user 1.8 s, sys: 227 ms, total: 2.03 s\n",
      "Wall time: 1.57 s\n"
     ]
    },
    {
     "data": {
      "text/plain": [
       "0.8929819672008326"
      ]
     },
     "execution_count": 40,
     "metadata": {},
     "output_type": "execute_result"
    }
   ],
   "source": [
    "%%time\n",
    "# dim=128; w/ cell type; SC; Res: .8930\n",
    "\n",
    "correlation_score(y_val, ridge.predict(X_val))"
   ]
  },
  {
   "cell_type": "code",
   "execution_count": 41,
   "id": "26f54926",
   "metadata": {
    "execution": {
     "iopub.execute_input": "2022-10-31T11:57:16.324490Z",
     "iopub.status.busy": "2022-10-31T11:57:16.324020Z",
     "iopub.status.idle": "2022-10-31T11:57:16.458377Z",
     "shell.execute_reply": "2022-10-31T11:57:16.457025Z"
    },
    "papermill": {
     "duration": 0.157336,
     "end_time": "2022-10-31T11:57:16.461024",
     "exception": false,
     "start_time": "2022-10-31T11:57:16.303688",
     "status": "completed"
    },
    "tags": []
   },
   "outputs": [
    {
     "data": {
      "text/plain": [
       "168"
      ]
     },
     "execution_count": 41,
     "metadata": {},
     "output_type": "execute_result"
    }
   ],
   "source": [
    "del X_train, X_val, y_train, y_val\n",
    "gc.collect()"
   ]
  },
  {
   "cell_type": "markdown",
   "id": "6c656895",
   "metadata": {
    "papermill": {
     "duration": 0.018027,
     "end_time": "2022-10-31T11:57:16.497663",
     "exception": false,
     "start_time": "2022-10-31T11:57:16.479636",
     "status": "completed"
    },
    "tags": []
   },
   "source": [
    "## Prediction "
   ]
  },
  {
   "cell_type": "code",
   "execution_count": 42,
   "id": "97551c44",
   "metadata": {
    "execution": {
     "iopub.execute_input": "2022-10-31T11:57:16.535658Z",
     "iopub.status.busy": "2022-10-31T11:57:16.535261Z",
     "iopub.status.idle": "2022-10-31T11:57:16.883372Z",
     "shell.execute_reply": "2022-10-31T11:57:16.881677Z"
    },
    "papermill": {
     "duration": 0.372553,
     "end_time": "2022-10-31T11:57:16.888325",
     "exception": false,
     "start_time": "2022-10-31T11:57:16.515772",
     "status": "completed"
    },
    "tags": []
   },
   "outputs": [
    {
     "name": "stdout",
     "output_type": "stream",
     "text": [
      "CPU times: user 613 ms, sys: 82 ms, total: 695 ms\n",
      "Wall time: 337 ms\n"
     ]
    },
    {
     "data": {
      "text/plain": [
       "(48663, 140)"
      ]
     },
     "execution_count": 42,
     "metadata": {},
     "output_type": "execute_result"
    }
   ],
   "source": [
    "%%time\n",
    "test_tar_preds = ridge.predict(sc.transform(test_inp))\n",
    "test_tar_preds.shape"
   ]
  },
  {
   "cell_type": "code",
   "execution_count": 43,
   "id": "ea73a6e8",
   "metadata": {
    "execution": {
     "iopub.execute_input": "2022-10-31T11:57:16.983954Z",
     "iopub.status.busy": "2022-10-31T11:57:16.983498Z",
     "iopub.status.idle": "2022-10-31T11:57:17.113776Z",
     "shell.execute_reply": "2022-10-31T11:57:17.112497Z"
    },
    "papermill": {
     "duration": 0.178169,
     "end_time": "2022-10-31T11:57:17.116571",
     "exception": false,
     "start_time": "2022-10-31T11:57:16.938402",
     "status": "completed"
    },
    "tags": []
   },
   "outputs": [
    {
     "data": {
      "text/plain": [
       "42"
      ]
     },
     "execution_count": 43,
     "metadata": {},
     "output_type": "execute_result"
    }
   ],
   "source": [
    "del test_inp\n",
    "gc.collect()"
   ]
  },
  {
   "cell_type": "markdown",
   "id": "6948fbe5",
   "metadata": {
    "papermill": {
     "duration": 0.019078,
     "end_time": "2022-10-31T11:57:17.154778",
     "exception": false,
     "start_time": "2022-10-31T11:57:17.135700",
     "status": "completed"
    },
    "tags": []
   },
   "source": [
    "## Creating Submission"
   ]
  },
  {
   "cell_type": "code",
   "execution_count": 44,
   "id": "ce4488f5",
   "metadata": {
    "execution": {
     "iopub.execute_input": "2022-10-31T11:57:17.194670Z",
     "iopub.status.busy": "2022-10-31T11:57:17.193909Z",
     "iopub.status.idle": "2022-10-31T11:57:18.327191Z",
     "shell.execute_reply": "2022-10-31T11:57:18.325579Z"
    },
    "papermill": {
     "duration": 1.156654,
     "end_time": "2022-10-31T11:57:18.330557",
     "exception": false,
     "start_time": "2022-10-31T11:57:17.173903",
     "status": "completed"
    },
    "tags": []
   },
   "outputs": [
    {
     "name": "stdout",
     "output_type": "stream",
     "text": [
      "total 7.1G\r\n",
      "-rw-r--r-- 1 nobody nogroup  25K Oct 26 15:46 __notebook__.ipynb\r\n",
      "-rw-r--r-- 1 nobody nogroup  25K Oct 26 15:46 __output__.json\r\n",
      "-rw-r--r-- 1 nobody nogroup 293K Oct 26 15:46 __results__.html\r\n",
      "-rw-r--r-- 1 nobody nogroup    0 Oct 26 15:46 custom.css\r\n",
      "-rw-r--r-- 1 nobody nogroup 359M Oct 26 15:46 evaluation_ids.parquet\r\n",
      "-rw-r--r-- 1 nobody nogroup 3.8M Oct 26 15:46 metadata.parquet\r\n",
      "-rw-r--r-- 1 nobody nogroup 108K Oct 26 15:46 metadata_cite_day_2_donor_27678.parquet\r\n",
      "-rw-r--r-- 1 nobody nogroup 252M Oct 26 15:46 sample_submission.parquet\r\n",
      "-rw-r--r-- 1 nobody nogroup 856K Oct 26 15:46 test_cite_inputs_day_2_donor_27678_idx.npz\r\n",
      "-rw-r--r-- 1 nobody nogroup  78M Oct 26 15:46 test_cite_inputs_day_2_donor_27678_val.sparse.npz\r\n",
      "-rw-r--r-- 1 nobody nogroup 1.8M Oct 26 15:46 test_cite_inputs_idx.npz\r\n",
      "-rw-r--r-- 1 nobody nogroup 488M Oct 26 15:46 test_cite_inputs_val.sparse.npz\r\n",
      "-rw-r--r-- 1 nobody nogroup 8.4M Oct 26 15:46 test_multi_inputs_idx.npz\r\n",
      "-rw-r--r-- 1 nobody nogroup 1.7G Oct 26 15:47 test_multi_inputs_val.sparse.npz\r\n",
      "-rw-r--r-- 1 nobody nogroup 2.2M Oct 26 15:46 train_cite_inputs_idx.npz\r\n",
      "-rw-r--r-- 1 nobody nogroup 712M Oct 26 15:46 train_cite_inputs_val.sparse.npz\r\n",
      "-rw-r--r-- 1 nobody nogroup 1.5M Oct 26 15:46 train_cite_targets_idx.npz\r\n",
      "-rw-r--r-- 1 nobody nogroup  36M Oct 26 15:46 train_cite_targets_val.sparse.npz\r\n",
      "-rw-r--r-- 1 nobody nogroup 9.5M Oct 26 15:46 train_multi_inputs_idx.npz\r\n",
      "-rw-r--r-- 1 nobody nogroup 2.8G Oct 26 15:47 train_multi_inputs_val.sparse.npz\r\n",
      "-rw-r--r-- 1 nobody nogroup 2.8M Oct 26 15:46 train_multi_targets_idx.npz\r\n",
      "-rw-r--r-- 1 nobody nogroup 824M Oct 26 15:46 train_multi_targets_val.sparse.npz\r\n"
     ]
    }
   ],
   "source": [
    "DATA_DIR = '../input/msci-h5-sparse-transform'\n",
    "%ls $DATA_DIR -lh"
   ]
  },
  {
   "cell_type": "code",
   "execution_count": 45,
   "id": "ed540073",
   "metadata": {
    "execution": {
     "iopub.execute_input": "2022-10-31T11:57:18.371497Z",
     "iopub.status.busy": "2022-10-31T11:57:18.371068Z",
     "iopub.status.idle": "2022-10-31T11:57:18.526767Z",
     "shell.execute_reply": "2022-10-31T11:57:18.525650Z"
    },
    "papermill": {
     "duration": 0.179257,
     "end_time": "2022-10-31T11:57:18.529488",
     "exception": false,
     "start_time": "2022-10-31T11:57:18.350231",
     "status": "completed"
    },
    "tags": []
   },
   "outputs": [
    {
     "data": {
      "text/plain": [
       "((140,), (48663,), (48663, 140))"
      ]
     },
     "execution_count": 45,
     "metadata": {},
     "output_type": "execute_result"
    }
   ],
   "source": [
    "test_tar_cols = np.load(f'{DATA_DIR}/train_cite_targets_idx.npz',\n",
    "                        allow_pickle=True)['columns']\n",
    "test_tar_idx = np.load(f'{DATA_DIR}/test_cite_inputs_idx.npz',\n",
    "                       allow_pickle=True)['index']\n",
    "test_tar_cols.shape, test_tar_idx.shape, test_tar_preds.shape"
   ]
  },
  {
   "cell_type": "code",
   "execution_count": 46,
   "id": "20154033",
   "metadata": {
    "execution": {
     "iopub.execute_input": "2022-10-31T11:57:18.570417Z",
     "iopub.status.busy": "2022-10-31T11:57:18.570015Z",
     "iopub.status.idle": "2022-10-31T11:57:53.658351Z",
     "shell.execute_reply": "2022-10-31T11:57:53.656674Z"
    },
    "papermill": {
     "duration": 35.131159,
     "end_time": "2022-10-31T11:57:53.680342",
     "exception": false,
     "start_time": "2022-10-31T11:57:18.549183",
     "status": "completed"
    },
    "tags": []
   },
   "outputs": [
    {
     "name": "stdout",
     "output_type": "stream",
     "text": [
      "Start Eval...\n",
      "CPU times: user 28.8 s, sys: 10.6 s, total: 39.4 s\n",
      "Wall time: 35.1 s\n"
     ]
    }
   ],
   "source": [
    "%%time\n",
    "print('Start Eval...')\n",
    "eval_ids = pd.read_parquet(f'{DATA_DIR}/evaluation_ids.parquet')\n",
    "eval_ids.cell_id = eval_ids.cell_id.astype(pd.CategoricalDtype())\n",
    "eval_ids.gene_id = eval_ids.gene_id.astype(pd.CategoricalDtype())"
   ]
  },
  {
   "cell_type": "code",
   "execution_count": 47,
   "id": "84f8f91e",
   "metadata": {
    "execution": {
     "iopub.execute_input": "2022-10-31T11:57:53.723285Z",
     "iopub.status.busy": "2022-10-31T11:57:53.722773Z",
     "iopub.status.idle": "2022-10-31T11:58:17.132198Z",
     "shell.execute_reply": "2022-10-31T11:58:17.130896Z"
    },
    "papermill": {
     "duration": 23.433295,
     "end_time": "2022-10-31T11:58:17.134925",
     "exception": false,
     "start_time": "2022-10-31T11:57:53.701630",
     "status": "completed"
    },
    "tags": []
   },
   "outputs": [
    {
     "name": "stdout",
     "output_type": "stream",
     "text": [
      "CPU times: user 19.7 s, sys: 3.49 s, total: 23.2 s\n",
      "Wall time: 23.2 s\n"
     ]
    },
    {
     "data": {
      "text/plain": [
       "row_id    cell_id       gene_id        \n",
       "0         c2150f55becb  CD86              NaN\n",
       "1         c2150f55becb  CD274             NaN\n",
       "2         c2150f55becb  CD270             NaN\n",
       "3         c2150f55becb  CD155             NaN\n",
       "4         c2150f55becb  CD112             NaN\n",
       "                                           ..\n",
       "65744175  2c53aa67933d  ENSG00000134419   NaN\n",
       "65744176  2c53aa67933d  ENSG00000186862   NaN\n",
       "65744177  2c53aa67933d  ENSG00000170959   NaN\n",
       "65744178  2c53aa67933d  ENSG00000107874   NaN\n",
       "65744179  2c53aa67933d  ENSG00000166012   NaN\n",
       "Name: target, Length: 65744180, dtype: float32"
      ]
     },
     "execution_count": 47,
     "metadata": {},
     "output_type": "execute_result"
    }
   ],
   "source": [
    "%%time\n",
    "sub = pd.Series(name='target',\n",
    "                index=pd.MultiIndex.from_frame(eval_ids), \n",
    "                dtype=np.float32)\n",
    "sub"
   ]
  },
  {
   "cell_type": "code",
   "execution_count": 48,
   "id": "4168601c",
   "metadata": {
    "execution": {
     "iopub.execute_input": "2022-10-31T11:58:17.175791Z",
     "iopub.status.busy": "2022-10-31T11:58:17.175135Z",
     "iopub.status.idle": "2022-10-31T11:58:17.192347Z",
     "shell.execute_reply": "2022-10-31T11:58:17.191385Z"
    },
    "papermill": {
     "duration": 0.040409,
     "end_time": "2022-10-31T11:58:17.194918",
     "exception": false,
     "start_time": "2022-10-31T11:58:17.154509",
     "status": "completed"
    },
    "tags": []
   },
   "outputs": [],
   "source": [
    "cell_id_dict = {cell_id: idx \n",
    "                for idx, cell_id in enumerate(test_tar_idx, 0)}\n",
    "gene_id_dict = {gene_id: idx \n",
    "                for idx, gene_id in enumerate(test_tar_cols, 0)}"
   ]
  },
  {
   "cell_type": "code",
   "execution_count": 49,
   "id": "d6a36e4c",
   "metadata": {
    "execution": {
     "iopub.execute_input": "2022-10-31T11:58:17.235470Z",
     "iopub.status.busy": "2022-10-31T11:58:17.234799Z",
     "iopub.status.idle": "2022-10-31T11:58:19.364552Z",
     "shell.execute_reply": "2022-10-31T11:58:19.363506Z"
    },
    "papermill": {
     "duration": 2.153291,
     "end_time": "2022-10-31T11:58:19.367366",
     "exception": false,
     "start_time": "2022-10-31T11:58:17.214075",
     "status": "completed"
    },
    "tags": []
   },
   "outputs": [],
   "source": [
    "eid_cid_idx = eval_ids['cell_id']\\\n",
    "              .apply(lambda x: cell_id_dict.get(x, -1))\n",
    "eid_gid_idx = eval_ids['gene_id']\\\n",
    "              .apply(lambda x: gene_id_dict.get(x, -1))\n",
    "valid_cite_rows = (eid_cid_idx != -1) & (eid_gid_idx != -1)"
   ]
  },
  {
   "cell_type": "code",
   "execution_count": 50,
   "id": "9d06bb84",
   "metadata": {
    "execution": {
     "iopub.execute_input": "2022-10-31T11:58:19.408193Z",
     "iopub.status.busy": "2022-10-31T11:58:19.407739Z",
     "iopub.status.idle": "2022-10-31T11:58:19.858186Z",
     "shell.execute_reply": "2022-10-31T11:58:19.856760Z"
    },
    "papermill": {
     "duration": 0.474756,
     "end_time": "2022-10-31T11:58:19.861799",
     "exception": false,
     "start_time": "2022-10-31T11:58:19.387043",
     "status": "completed"
    },
    "tags": []
   },
   "outputs": [
    {
     "name": "stdout",
     "output_type": "stream",
     "text": [
      "CPU times: user 282 ms, sys: 162 ms, total: 444 ms\n",
      "Wall time: 443 ms\n"
     ]
    }
   ],
   "source": [
    "%%time\n",
    "sub.iloc[valid_cite_rows] = test_tar_preds\\\n",
    "                             [eid_cid_idx[valid_cite_rows].to_numpy(),\n",
    "                              eid_gid_idx[valid_cite_rows].to_numpy()]"
   ]
  },
  {
   "cell_type": "code",
   "execution_count": 51,
   "id": "dc3071e3",
   "metadata": {
    "execution": {
     "iopub.execute_input": "2022-10-31T11:58:19.903844Z",
     "iopub.status.busy": "2022-10-31T11:58:19.903401Z",
     "iopub.status.idle": "2022-10-31T11:58:20.074110Z",
     "shell.execute_reply": "2022-10-31T11:58:20.072708Z"
    },
    "papermill": {
     "duration": 0.19422,
     "end_time": "2022-10-31T11:58:20.076888",
     "exception": false,
     "start_time": "2022-10-31T11:58:19.882668",
     "status": "completed"
    },
    "tags": []
   },
   "outputs": [
    {
     "data": {
      "text/plain": [
       "97"
      ]
     },
     "execution_count": 51,
     "metadata": {},
     "output_type": "execute_result"
    }
   ],
   "source": [
    "del eval_ids, test_tar_idx, test_tar_cols\n",
    "del eid_cid_idx, eid_gid_idx, valid_cite_rows\n",
    "gc.collect()"
   ]
  },
  {
   "cell_type": "code",
   "execution_count": 52,
   "id": "261a2219",
   "metadata": {
    "execution": {
     "iopub.execute_input": "2022-10-31T11:58:20.119841Z",
     "iopub.status.busy": "2022-10-31T11:58:20.119084Z",
     "iopub.status.idle": "2022-10-31T11:59:57.092250Z",
     "shell.execute_reply": "2022-10-31T11:59:57.091265Z"
    },
    "papermill": {
     "duration": 97.017623,
     "end_time": "2022-10-31T11:59:57.114962",
     "exception": false,
     "start_time": "2022-10-31T11:58:20.097339",
     "status": "completed"
    },
    "tags": []
   },
   "outputs": [
    {
     "data": {
      "text/html": [
       "<div>\n",
       "<style scoped>\n",
       "    .dataframe tbody tr th:only-of-type {\n",
       "        vertical-align: middle;\n",
       "    }\n",
       "\n",
       "    .dataframe tbody tr th {\n",
       "        vertical-align: top;\n",
       "    }\n",
       "\n",
       "    .dataframe thead th {\n",
       "        text-align: right;\n",
       "    }\n",
       "</style>\n",
       "<table border=\"1\" class=\"dataframe\">\n",
       "  <thead>\n",
       "    <tr style=\"text-align: right;\">\n",
       "      <th></th>\n",
       "      <th>row_id</th>\n",
       "      <th>cell_id</th>\n",
       "      <th>gene_id</th>\n",
       "      <th>target</th>\n",
       "    </tr>\n",
       "  </thead>\n",
       "  <tbody>\n",
       "    <tr>\n",
       "      <th>0</th>\n",
       "      <td>0</td>\n",
       "      <td>c2150f55becb</td>\n",
       "      <td>CD86</td>\n",
       "      <td>0.352822</td>\n",
       "    </tr>\n",
       "    <tr>\n",
       "      <th>1</th>\n",
       "      <td>1</td>\n",
       "      <td>c2150f55becb</td>\n",
       "      <td>CD274</td>\n",
       "      <td>0.506273</td>\n",
       "    </tr>\n",
       "    <tr>\n",
       "      <th>2</th>\n",
       "      <td>2</td>\n",
       "      <td>c2150f55becb</td>\n",
       "      <td>CD270</td>\n",
       "      <td>0.857150</td>\n",
       "    </tr>\n",
       "    <tr>\n",
       "      <th>3</th>\n",
       "      <td>3</td>\n",
       "      <td>c2150f55becb</td>\n",
       "      <td>CD155</td>\n",
       "      <td>4.582359</td>\n",
       "    </tr>\n",
       "    <tr>\n",
       "      <th>4</th>\n",
       "      <td>4</td>\n",
       "      <td>c2150f55becb</td>\n",
       "      <td>CD112</td>\n",
       "      <td>5.479890</td>\n",
       "    </tr>\n",
       "  </tbody>\n",
       "</table>\n",
       "</div>"
      ],
      "text/plain": [
       "   row_id       cell_id gene_id    target\n",
       "0       0  c2150f55becb    CD86  0.352822\n",
       "1       1  c2150f55becb   CD274  0.506273\n",
       "2       2  c2150f55becb   CD270  0.857150\n",
       "3       3  c2150f55becb   CD155  4.582359\n",
       "4       4  c2150f55becb   CD112  5.479890"
      ]
     },
     "execution_count": 52,
     "metadata": {},
     "output_type": "execute_result"
    }
   ],
   "source": [
    "sub = pd.DataFrame(sub).fillna(0).reset_index()\n",
    "sub.drop(['cell_id', 'gene_id'], axis=1)\\\n",
    "   .to_csv('cite_sub.csv', index=False)\n",
    "sub.head()"
   ]
  },
  {
   "cell_type": "code",
   "execution_count": null,
   "id": "4f3a4f1c",
   "metadata": {
    "papermill": {
     "duration": 0.020696,
     "end_time": "2022-10-31T11:59:57.156204",
     "exception": false,
     "start_time": "2022-10-31T11:59:57.135508",
     "status": "completed"
    },
    "tags": []
   },
   "outputs": [],
   "source": []
  }
 ],
 "metadata": {
  "kernelspec": {
   "display_name": "Python 3",
   "language": "python",
   "name": "python3"
  },
  "language_info": {
   "codemirror_mode": {
    "name": "ipython",
    "version": 3
   },
   "file_extension": ".py",
   "mimetype": "text/x-python",
   "name": "python",
   "nbconvert_exporter": "python",
   "pygments_lexer": "ipython3",
   "version": "3.7.12"
  },
  "papermill": {
   "default_parameters": {},
   "duration": 1738.555011,
   "end_time": "2022-10-31T11:59:58.309596",
   "environment_variables": {},
   "exception": null,
   "input_path": "__notebook__.ipynb",
   "output_path": "__notebook__.ipynb",
   "parameters": {},
   "start_time": "2022-10-31T11:30:59.754585",
   "version": "2.3.4"
  }
 },
 "nbformat": 4,
 "nbformat_minor": 5
}
