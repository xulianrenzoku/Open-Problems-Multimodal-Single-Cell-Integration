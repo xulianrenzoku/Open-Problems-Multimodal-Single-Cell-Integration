{
 "cells": [
  {
   "cell_type": "code",
   "execution_count": 1,
   "id": "176159b4",
   "metadata": {
    "_cell_guid": "b1076dfc-b9ad-4769-8c92-a6c4dae69d19",
    "_uuid": "8f2839f25d086af736a60e9eeb907d3b93b6e0e5",
    "execution": {
     "iopub.execute_input": "2022-11-08T12:06:43.228645Z",
     "iopub.status.busy": "2022-11-08T12:06:43.227799Z",
     "iopub.status.idle": "2022-11-08T12:06:43.312806Z",
     "shell.execute_reply": "2022-11-08T12:06:43.311881Z"
    },
    "papermill": {
     "duration": 0.09947,
     "end_time": "2022-11-08T12:06:43.315180",
     "exception": false,
     "start_time": "2022-11-08T12:06:43.215710",
     "status": "completed"
    },
    "tags": []
   },
   "outputs": [],
   "source": [
    "import os\n",
    "import os.path\n",
    "import random\n",
    "import itertools\n",
    "import gc\n",
    "import numpy as np\n",
    "import pandas as pd\n",
    "import scipy.sparse\n",
    "from tqdm import tqdm"
   ]
  },
  {
   "cell_type": "code",
   "execution_count": 2,
   "id": "f1feb8f3",
   "metadata": {
    "execution": {
     "iopub.execute_input": "2022-11-08T12:06:43.337233Z",
     "iopub.status.busy": "2022-11-08T12:06:43.336303Z",
     "iopub.status.idle": "2022-11-08T12:06:43.341240Z",
     "shell.execute_reply": "2022-11-08T12:06:43.340361Z"
    },
    "papermill": {
     "duration": 0.018841,
     "end_time": "2022-11-08T12:06:43.343251",
     "exception": false,
     "start_time": "2022-11-08T12:06:43.324410",
     "status": "completed"
    },
    "tags": []
   },
   "outputs": [],
   "source": [
    "import warnings \n",
    "warnings.filterwarnings('ignore')"
   ]
  },
  {
   "cell_type": "code",
   "execution_count": 3,
   "id": "7ad5f785",
   "metadata": {
    "execution": {
     "iopub.execute_input": "2022-11-08T12:06:43.363342Z",
     "iopub.status.busy": "2022-11-08T12:06:43.362605Z",
     "iopub.status.idle": "2022-11-08T12:06:44.155775Z",
     "shell.execute_reply": "2022-11-08T12:06:44.154682Z"
    },
    "papermill": {
     "duration": 0.805682,
     "end_time": "2022-11-08T12:06:44.158181",
     "exception": false,
     "start_time": "2022-11-08T12:06:43.352499",
     "status": "completed"
    },
    "tags": []
   },
   "outputs": [],
   "source": [
    "import seaborn as sns\n",
    "import matplotlib\n",
    "import matplotlib.pyplot as plt\n",
    "from IPython.core.pylabtools import figsize"
   ]
  },
  {
   "cell_type": "code",
   "execution_count": 4,
   "id": "af0393cf",
   "metadata": {
    "execution": {
     "iopub.execute_input": "2022-11-08T12:06:44.178745Z",
     "iopub.status.busy": "2022-11-08T12:06:44.178155Z",
     "iopub.status.idle": "2022-11-08T12:06:44.183384Z",
     "shell.execute_reply": "2022-11-08T12:06:44.182532Z"
    },
    "papermill": {
     "duration": 0.017048,
     "end_time": "2022-11-08T12:06:44.185350",
     "exception": false,
     "start_time": "2022-11-08T12:06:44.168302",
     "status": "completed"
    },
    "tags": []
   },
   "outputs": [],
   "source": [
    "sns.set()"
   ]
  },
  {
   "cell_type": "code",
   "execution_count": 5,
   "id": "020b7d1b",
   "metadata": {
    "execution": {
     "iopub.execute_input": "2022-11-08T12:06:44.204752Z",
     "iopub.status.busy": "2022-11-08T12:06:44.204451Z",
     "iopub.status.idle": "2022-11-08T12:06:44.209249Z",
     "shell.execute_reply": "2022-11-08T12:06:44.208365Z"
    },
    "papermill": {
     "duration": 0.016959,
     "end_time": "2022-11-08T12:06:44.211214",
     "exception": false,
     "start_time": "2022-11-08T12:06:44.194255",
     "status": "completed"
    },
    "tags": []
   },
   "outputs": [],
   "source": [
    "import pickle\n",
    "\n",
    "def dump_pickle(file, filename):\n",
    "    outfile = open(filename, 'wb')\n",
    "    pickle.dump(file, outfile)\n",
    "    outfile.close()\n",
    "\n",
    "def load_pickle(filename):\n",
    "    infile = open(filename, 'rb')\n",
    "    file = pickle.load(infile)\n",
    "    infile.close()\n",
    "    return file"
   ]
  },
  {
   "cell_type": "markdown",
   "id": "cc1294ba",
   "metadata": {
    "papermill": {
     "duration": 0.008665,
     "end_time": "2022-11-08T12:06:44.228733",
     "exception": false,
     "start_time": "2022-11-08T12:06:44.220068",
     "status": "completed"
    },
    "tags": []
   },
   "source": [
    "## Read Data"
   ]
  },
  {
   "cell_type": "code",
   "execution_count": 6,
   "id": "ad5440b9",
   "metadata": {
    "execution": {
     "iopub.execute_input": "2022-11-08T12:06:44.247870Z",
     "iopub.status.busy": "2022-11-08T12:06:44.247593Z",
     "iopub.status.idle": "2022-11-08T12:06:45.288745Z",
     "shell.execute_reply": "2022-11-08T12:06:45.287502Z"
    },
    "papermill": {
     "duration": 1.054489,
     "end_time": "2022-11-08T12:06:45.292018",
     "exception": false,
     "start_time": "2022-11-08T12:06:44.237529",
     "status": "completed"
    },
    "tags": []
   },
   "outputs": [
    {
     "name": "stdout",
     "output_type": "stream",
     "text": [
      "total 7.1G\r\n",
      "-rw-r--r-- 1 nobody nogroup  25K Oct 25 09:30 __notebook__.ipynb\r\n",
      "-rw-r--r-- 1 nobody nogroup  25K Oct 25 09:30 __output__.json\r\n",
      "-rw-r--r-- 1 nobody nogroup 293K Oct 25 09:30 __results__.html\r\n",
      "-rw-r--r-- 1 nobody nogroup    0 Oct 25 09:30 custom.css\r\n",
      "-rw-r--r-- 1 nobody nogroup 359M Oct 25 09:30 evaluation_ids.parquet\r\n",
      "-rw-r--r-- 1 nobody nogroup 3.8M Oct 25 09:30 metadata.parquet\r\n",
      "-rw-r--r-- 1 nobody nogroup 108K Oct 25 09:30 metadata_cite_day_2_donor_27678.parquet\r\n",
      "-rw-r--r-- 1 nobody nogroup 252M Oct 25 09:30 sample_submission.parquet\r\n",
      "-rw-r--r-- 1 nobody nogroup 856K Oct 25 09:30 test_cite_inputs_day_2_donor_27678_idx.npz\r\n",
      "-rw-r--r-- 1 nobody nogroup  78M Oct 25 09:30 test_cite_inputs_day_2_donor_27678_val.sparse.npz\r\n",
      "-rw-r--r-- 1 nobody nogroup 1.8M Oct 25 09:30 test_cite_inputs_idx.npz\r\n",
      "-rw-r--r-- 1 nobody nogroup 488M Oct 25 09:31 test_cite_inputs_val.sparse.npz\r\n",
      "-rw-r--r-- 1 nobody nogroup 8.4M Oct 25 09:30 test_multi_inputs_idx.npz\r\n",
      "-rw-r--r-- 1 nobody nogroup 1.7G Oct 25 09:31 test_multi_inputs_val.sparse.npz\r\n",
      "-rw-r--r-- 1 nobody nogroup 2.2M Oct 25 09:30 train_cite_inputs_idx.npz\r\n",
      "-rw-r--r-- 1 nobody nogroup 712M Oct 25 09:31 train_cite_inputs_val.sparse.npz\r\n",
      "-rw-r--r-- 1 nobody nogroup 1.5M Oct 25 09:30 train_cite_targets_idx.npz\r\n",
      "-rw-r--r-- 1 nobody nogroup  36M Oct 25 09:30 train_cite_targets_val.sparse.npz\r\n",
      "-rw-r--r-- 1 nobody nogroup 9.5M Oct 25 09:30 train_multi_inputs_idx.npz\r\n",
      "-rw-r--r-- 1 nobody nogroup 2.8G Oct 25 09:31 train_multi_inputs_val.sparse.npz\r\n",
      "-rw-r--r-- 1 nobody nogroup 2.8M Oct 25 09:30 train_multi_targets_idx.npz\r\n",
      "-rw-r--r-- 1 nobody nogroup 824M Oct 25 09:31 train_multi_targets_val.sparse.npz\r\n"
     ]
    }
   ],
   "source": [
    "DATA_DIR = '../input/msci-h5-sparse-transform'\n",
    "%ls $DATA_DIR -lh"
   ]
  },
  {
   "cell_type": "code",
   "execution_count": 7,
   "id": "c513959d",
   "metadata": {
    "execution": {
     "iopub.execute_input": "2022-11-08T12:06:45.322841Z",
     "iopub.status.busy": "2022-11-08T12:06:45.322438Z",
     "iopub.status.idle": "2022-11-08T12:07:40.517247Z",
     "shell.execute_reply": "2022-11-08T12:07:40.516278Z"
    },
    "papermill": {
     "duration": 55.222475,
     "end_time": "2022-11-08T12:07:40.529334",
     "exception": false,
     "start_time": "2022-11-08T12:06:45.306859",
     "status": "completed"
    },
    "tags": []
   },
   "outputs": [
    {
     "name": "stdout",
     "output_type": "stream",
     "text": [
      "CPU times: user 28.7 s, sys: 2.13 s, total: 30.8 s\n",
      "Wall time: 55.2 s\n"
     ]
    },
    {
     "data": {
      "text/plain": [
       "(105942, 228942)"
      ]
     },
     "execution_count": 7,
     "metadata": {},
     "output_type": "execute_result"
    }
   ],
   "source": [
    "%%time\n",
    "train_inp = scipy.sparse.load_npz(f'{DATA_DIR}/train_multi_inputs_val.sparse.npz')\n",
    "train_inp.shape"
   ]
  },
  {
   "cell_type": "code",
   "execution_count": 8,
   "id": "791d0afd",
   "metadata": {
    "execution": {
     "iopub.execute_input": "2022-11-08T12:07:40.549039Z",
     "iopub.status.busy": "2022-11-08T12:07:40.548739Z",
     "iopub.status.idle": "2022-11-08T12:08:02.023613Z",
     "shell.execute_reply": "2022-11-08T12:08:02.022551Z"
    },
    "papermill": {
     "duration": 21.487681,
     "end_time": "2022-11-08T12:08:02.026350",
     "exception": false,
     "start_time": "2022-11-08T12:07:40.538669",
     "status": "completed"
    },
    "tags": []
   },
   "outputs": [
    {
     "name": "stdout",
     "output_type": "stream",
     "text": [
      "CPU times: user 12.5 s, sys: 2.01 s, total: 14.5 s\n",
      "Wall time: 21.5 s\n"
     ]
    },
    {
     "data": {
      "text/plain": [
       "(105942, 23418)"
      ]
     },
     "execution_count": 8,
     "metadata": {},
     "output_type": "execute_result"
    }
   ],
   "source": [
    "%%time\n",
    "train_tar = scipy.sparse.load_npz(f'{DATA_DIR}/train_multi_targets_val.sparse.npz')\n",
    "train_tar.shape"
   ]
  },
  {
   "cell_type": "markdown",
   "id": "ec04c9f9",
   "metadata": {
    "papermill": {
     "duration": 0.013416,
     "end_time": "2022-11-08T12:08:02.055438",
     "exception": false,
     "start_time": "2022-11-08T12:08:02.042022",
     "status": "completed"
    },
    "tags": []
   },
   "source": [
    "## Modeling"
   ]
  },
  {
   "cell_type": "code",
   "execution_count": 9,
   "id": "99af210b",
   "metadata": {
    "execution": {
     "iopub.execute_input": "2022-11-08T12:08:02.083908Z",
     "iopub.status.busy": "2022-11-08T12:08:02.083420Z",
     "iopub.status.idle": "2022-11-08T12:08:03.582525Z",
     "shell.execute_reply": "2022-11-08T12:08:03.581537Z"
    },
    "papermill": {
     "duration": 1.516027,
     "end_time": "2022-11-08T12:08:03.584977",
     "exception": false,
     "start_time": "2022-11-08T12:08:02.068950",
     "status": "completed"
    },
    "tags": []
   },
   "outputs": [],
   "source": [
    "import torch\n",
    "import torch.nn as nn\n",
    "import torch.nn.functional as F\n",
    "import torch.optim as optim\n",
    "from torch.utils.data import DataLoader, TensorDataset, Dataset, random_split"
   ]
  },
  {
   "cell_type": "code",
   "execution_count": 10,
   "id": "5526b6a0",
   "metadata": {
    "execution": {
     "iopub.execute_input": "2022-11-08T12:08:03.606016Z",
     "iopub.status.busy": "2022-11-08T12:08:03.605249Z",
     "iopub.status.idle": "2022-11-08T12:08:03.680436Z",
     "shell.execute_reply": "2022-11-08T12:08:03.679527Z"
    },
    "papermill": {
     "duration": 0.087679,
     "end_time": "2022-11-08T12:08:03.682574",
     "exception": false,
     "start_time": "2022-11-08T12:08:03.594895",
     "status": "completed"
    },
    "tags": []
   },
   "outputs": [
    {
     "data": {
      "text/plain": [
       "device(type='cuda')"
      ]
     },
     "execution_count": 10,
     "metadata": {},
     "output_type": "execute_result"
    }
   ],
   "source": [
    "def get_default_device():\n",
    "    \"\"\"Pick GPU if available, else CPU\"\"\"\n",
    "    if torch.cuda.is_available():\n",
    "        return torch.device('cuda')\n",
    "    else:\n",
    "        return torch.device('cpu')\n",
    "\n",
    "device = get_default_device()\n",
    "device"
   ]
  },
  {
   "cell_type": "markdown",
   "id": "f1a07ecf",
   "metadata": {
    "papermill": {
     "duration": 0.009196,
     "end_time": "2022-11-08T12:08:03.701632",
     "exception": false,
     "start_time": "2022-11-08T12:08:03.692436",
     "status": "completed"
    },
    "tags": []
   },
   "source": [
    "### Dataset & DataLoader"
   ]
  },
  {
   "cell_type": "code",
   "execution_count": 11,
   "id": "ec47692f",
   "metadata": {
    "execution": {
     "iopub.execute_input": "2022-11-08T12:08:03.721996Z",
     "iopub.status.busy": "2022-11-08T12:08:03.721189Z",
     "iopub.status.idle": "2022-11-08T12:08:03.727180Z",
     "shell.execute_reply": "2022-11-08T12:08:03.726312Z"
    },
    "papermill": {
     "duration": 0.018153,
     "end_time": "2022-11-08T12:08:03.729156",
     "exception": false,
     "start_time": "2022-11-08T12:08:03.711003",
     "status": "completed"
    },
    "tags": []
   },
   "outputs": [],
   "source": [
    "class SparseDataset(TensorDataset):\n",
    "    # https://discuss.pytorch.org/t/dataloader-loads-data-very-slow-on-sparse-tensor/117391/2\n",
    "    def __init__(self, inputs, targets):\n",
    "        self.inputs = inputs\n",
    "        self.targets = targets\n",
    "    \n",
    "    def __getitem__(self, index):\n",
    "        return self.inputs[index], self.targets[index]\n",
    "    \n",
    "    def __len__(self):\n",
    "        return self.inputs.shape[0]"
   ]
  },
  {
   "cell_type": "code",
   "execution_count": 12,
   "id": "3ac7eb0e",
   "metadata": {
    "execution": {
     "iopub.execute_input": "2022-11-08T12:08:03.749266Z",
     "iopub.status.busy": "2022-11-08T12:08:03.749004Z",
     "iopub.status.idle": "2022-11-08T12:08:03.754232Z",
     "shell.execute_reply": "2022-11-08T12:08:03.753084Z"
    },
    "papermill": {
     "duration": 0.017883,
     "end_time": "2022-11-08T12:08:03.756644",
     "exception": false,
     "start_time": "2022-11-08T12:08:03.738761",
     "status": "completed"
    },
    "tags": []
   },
   "outputs": [],
   "source": [
    "def sparse_coo_to_tensor(coo):\n",
    "    values = coo.data\n",
    "    indices = np.vstack((coo.row, coo.col))\n",
    "    shape = coo.shape\n",
    "    \n",
    "    i = torch.LongTensor(indices)\n",
    "    v = torch.FloatTensor(values)\n",
    "    s = torch.Size(shape)\n",
    "    \n",
    "    return torch.sparse.FloatTensor(i, v, s)"
   ]
  },
  {
   "cell_type": "code",
   "execution_count": 13,
   "id": "fd3aafda",
   "metadata": {
    "execution": {
     "iopub.execute_input": "2022-11-08T12:08:03.777086Z",
     "iopub.status.busy": "2022-11-08T12:08:03.776829Z",
     "iopub.status.idle": "2022-11-08T12:08:03.781645Z",
     "shell.execute_reply": "2022-11-08T12:08:03.780649Z"
    },
    "papermill": {
     "duration": 0.017335,
     "end_time": "2022-11-08T12:08:03.783869",
     "exception": false,
     "start_time": "2022-11-08T12:08:03.766534",
     "status": "completed"
    },
    "tags": []
   },
   "outputs": [],
   "source": [
    "def sparse_batch_collate(batch):\n",
    "    inputs_batch, targets_batch = zip(*batch)\n",
    "    inputs_batch = sparse_coo_to_tensor(scipy.sparse.vstack(inputs_batch).tocoo())\n",
    "    targets_batch = sparse_coo_to_tensor(scipy.sparse.vstack(targets_batch).tocoo())\n",
    "    return inputs_batch, targets_batch"
   ]
  },
  {
   "cell_type": "code",
   "execution_count": 14,
   "id": "2899cbfe",
   "metadata": {
    "execution": {
     "iopub.execute_input": "2022-11-08T12:08:03.803907Z",
     "iopub.status.busy": "2022-11-08T12:08:03.803532Z",
     "iopub.status.idle": "2022-11-08T12:08:03.817468Z",
     "shell.execute_reply": "2022-11-08T12:08:03.816675Z"
    },
    "papermill": {
     "duration": 0.026237,
     "end_time": "2022-11-08T12:08:03.819394",
     "exception": false,
     "start_time": "2022-11-08T12:08:03.793157",
     "status": "completed"
    },
    "tags": []
   },
   "outputs": [],
   "source": [
    "full_ds = SparseDataset(train_inp, train_tar)\n",
    "train_sz = 84992\n",
    "val_sz = len(full_ds) - train_sz\n",
    "train_ds, val_ds = random_split(full_ds, \n",
    "                                [train_sz, val_sz],\n",
    "                                generator=torch.Generator().manual_seed(42))"
   ]
  },
  {
   "cell_type": "code",
   "execution_count": 15,
   "id": "113374d2",
   "metadata": {
    "execution": {
     "iopub.execute_input": "2022-11-08T12:08:03.839358Z",
     "iopub.status.busy": "2022-11-08T12:08:03.839098Z",
     "iopub.status.idle": "2022-11-08T12:08:03.844084Z",
     "shell.execute_reply": "2022-11-08T12:08:03.843106Z"
    },
    "papermill": {
     "duration": 0.017518,
     "end_time": "2022-11-08T12:08:03.846264",
     "exception": false,
     "start_time": "2022-11-08T12:08:03.828746",
     "status": "completed"
    },
    "tags": []
   },
   "outputs": [],
   "source": [
    "batch_size = 1024\n",
    "train_loader = DataLoader(train_ds, \n",
    "                          batch_size=batch_size, \n",
    "                          shuffle=True,\n",
    "                          collate_fn=sparse_batch_collate)\n",
    "val_loader = DataLoader(val_ds, \n",
    "                        batch_size=batch_size, \n",
    "                        shuffle=False,\n",
    "                        collate_fn=sparse_batch_collate)"
   ]
  },
  {
   "cell_type": "markdown",
   "id": "1b89d92d",
   "metadata": {
    "papermill": {
     "duration": 0.009117,
     "end_time": "2022-11-08T12:08:03.864888",
     "exception": false,
     "start_time": "2022-11-08T12:08:03.855771",
     "status": "completed"
    },
    "tags": []
   },
   "source": [
    "### Define NN"
   ]
  },
  {
   "cell_type": "code",
   "execution_count": 16,
   "id": "e419f10f",
   "metadata": {
    "execution": {
     "iopub.execute_input": "2022-11-08T12:08:03.886238Z",
     "iopub.status.busy": "2022-11-08T12:08:03.885983Z",
     "iopub.status.idle": "2022-11-08T12:08:03.895791Z",
     "shell.execute_reply": "2022-11-08T12:08:03.894889Z"
    },
    "papermill": {
     "duration": 0.021885,
     "end_time": "2022-11-08T12:08:03.897632",
     "exception": false,
     "start_time": "2022-11-08T12:08:03.875747",
     "status": "completed"
    },
    "tags": []
   },
   "outputs": [],
   "source": [
    "class Net(nn.Module):\n",
    "    def __init__(self):\n",
    "        \"\"\"In the constructor we instantiate two nn.Linear modules and assign them as\n",
    "        member variables (self).\n",
    "        \"\"\"\n",
    "        super(Net, self).__init__()\n",
    "        self.linear1 = nn.Linear(228942, 128*4)\n",
    "        self.bn1 = nn.BatchNorm1d(128*4)\n",
    "        self.linear2 = nn.Linear(128*4, 128*4)\n",
    "        self.bn2 = nn.BatchNorm1d(128*4)\n",
    "        self.linear3 = nn.Linear(128*4, 128*4)\n",
    "        self.bn3 = nn.BatchNorm1d(128*4)\n",
    "        self.linear4 = nn.Linear(128*4, 23418)\n",
    "\n",
    "\n",
    "    def forward(self, x):\n",
    "        \"\"\"\n",
    "        In the forward function we accept a Tensor of input data and we must return\n",
    "        a Tensor of output data. We can use Modules defined in the constructor as\n",
    "        well as arbitrary operators on Tensors.\n",
    "        \"\"\"\n",
    "        x = self.linear1(x)\n",
    "        x = self.bn1(x)\n",
    "        x = F.relu(x)\n",
    "        x = self.linear2(x)\n",
    "        x = self.bn2(x)\n",
    "        x = F.relu(x)\n",
    "        x = self.linear3(x)\n",
    "        x = self.bn3(x)\n",
    "        x = F.relu(x)\n",
    "        x = self.linear4(x)\n",
    "        x = F.relu(x)\n",
    "\n",
    "        return x"
   ]
  },
  {
   "cell_type": "markdown",
   "id": "44946de2",
   "metadata": {
    "papermill": {
     "duration": 0.009429,
     "end_time": "2022-11-08T12:08:03.916673",
     "exception": false,
     "start_time": "2022-11-08T12:08:03.907244",
     "status": "completed"
    },
    "tags": []
   },
   "source": [
    "### Find LR"
   ]
  },
  {
   "cell_type": "code",
   "execution_count": 17,
   "id": "c3b30409",
   "metadata": {
    "execution": {
     "iopub.execute_input": "2022-11-08T12:08:03.937339Z",
     "iopub.status.busy": "2022-11-08T12:08:03.936783Z",
     "iopub.status.idle": "2022-11-08T12:08:03.947363Z",
     "shell.execute_reply": "2022-11-08T12:08:03.946534Z"
    },
    "papermill": {
     "duration": 0.023095,
     "end_time": "2022-11-08T12:08:03.949363",
     "exception": false,
     "start_time": "2022-11-08T12:08:03.926268",
     "status": "completed"
    },
    "tags": []
   },
   "outputs": [],
   "source": [
    "def find_lr(model, train_loader, optimizer,\n",
    "            init_val=1e-8, final_val=10.0, beta=0.98):\n",
    "    # https://sgugger.github.io/how-do-you-find-a-good-learning-rate.html#how-do-you-find-a-good-learning-rate\n",
    "    \n",
    "    num = len(train_loader)\n",
    "    mult = (final_val / init_val) ** (1 / num)\n",
    "    lr = init_val\n",
    "    optimizer.param_groups[0]['lr'] = lr\n",
    "    \n",
    "    avg_loss = 0\n",
    "    best_loss = 0\n",
    "    batch_num = 0\n",
    "    smoothed_losses = []\n",
    "    raw_losses = []\n",
    "    log_lrs = []\n",
    "    \n",
    "    for i, (x, y) in enumerate(train_loader):\n",
    "        batch_num+=1\n",
    "        \n",
    "        x = x.to(device)\n",
    "        y = y.to(device)\n",
    "        \n",
    "        batch = x.shape[0]\n",
    "        \n",
    "        # Standardize\n",
    "#         x_means = x.mean()\n",
    "#         x_stds = x.std()\n",
    "#         norm_x = (x - x_means) / x_stds\n",
    "        \n",
    "        optimizer.zero_grad()\n",
    "        \n",
    "        # Prediction\n",
    "        preds = model(x)\n",
    "        vpreds = preds - torch.mean(preds)\n",
    "        y = y.to_dense()\n",
    "        vy = y - torch.mean(y)\n",
    "        corr = torch.sum(vpreds * vy) / \\\n",
    "               (torch.sqrt(torch.sum(vpreds ** 2)) *\n",
    "                torch.sqrt(torch.sum(vy ** 2)))\n",
    "        loss = -corr\n",
    "        loss_cpu = float(loss.to('cpu').detach().numpy())\n",
    "        \n",
    "        # Compute the smoothed loss\n",
    "        avg_loss = beta * avg_loss + (1 - beta) * loss_cpu\n",
    "        smoothed_loss = avg_loss / (1 - beta ** batch_num)\n",
    "        \n",
    "        # Record the best loss\n",
    "        if smoothed_loss < best_loss or batch_num==1:\n",
    "            best_loss = smoothed_loss\n",
    "            \n",
    "        raw_losses.append(loss_cpu)\n",
    "        smoothed_losses.append(smoothed_loss)\n",
    "        log_lrs.append(np.log10(lr))\n",
    "        \n",
    "        loss.backward()\n",
    "        optimizer.step()\n",
    "        \n",
    "        # Update the lr for the next batch\n",
    "        lr*=mult\n",
    "        optimizer.param_groups[0]['lr'] = lr\n",
    "#         print(f'{optimizer.param_groups[0][\"lr\"]:.6f}')\n",
    "    return log_lrs, raw_losses, smoothed_losses"
   ]
  },
  {
   "cell_type": "code",
   "execution_count": 18,
   "id": "fe966a4d",
   "metadata": {
    "execution": {
     "iopub.execute_input": "2022-11-08T12:08:03.969371Z",
     "iopub.status.busy": "2022-11-08T12:08:03.969112Z",
     "iopub.status.idle": "2022-11-08T12:12:50.104909Z",
     "shell.execute_reply": "2022-11-08T12:12:50.099344Z"
    },
    "papermill": {
     "duration": 286.161806,
     "end_time": "2022-11-08T12:12:50.120562",
     "exception": false,
     "start_time": "2022-11-08T12:08:03.958756",
     "status": "completed"
    },
    "tags": []
   },
   "outputs": [
    {
     "name": "stdout",
     "output_type": "stream",
     "text": [
      "weight decay: 0.01\n",
      "learning rate w/ steepest gradient -0.5181\n",
      "\n",
      "weight decay: 0.001\n",
      "learning rate w/ steepest gradient 0.8916\n",
      "\n",
      "weight decay: 0.0001\n",
      "learning rate w/ steepest gradient -3.2289\n",
      "\n",
      "weight decay: 1e-05\n",
      "learning rate w/ steepest gradient -3.2289\n",
      "\n",
      "CPU times: user 4min 11s, sys: 31.5 s, total: 4min 42s\n",
      "Wall time: 4min 46s\n"
     ]
    }
   ],
   "source": [
    "%%time\n",
    "weight_decays = [0.01, 0.001, 0.0001, 0.00001]\n",
    "res = {}\n",
    "\n",
    "for weight_decay in weight_decays:\n",
    "    net = Net().to(device)\n",
    "    optimizer = optim.Adam(net.parameters(), \n",
    "                           weight_decay=weight_decay)\n",
    "    log_lrs, raw_losses, smoothed_losses = find_lr(net, \n",
    "                                                   train_loader, \n",
    "                                                   optimizer)\n",
    "    \n",
    "    # Find steepest gradient according to fast.ai\n",
    "    # https://fastai1.fast.ai/callbacks.lr_finder.html\n",
    "    gradients = np.gradient(raw_losses)\n",
    "    min_gradient = gradients.min()\n",
    "    for i in range(len(raw_losses)):\n",
    "        if gradients[i] == min_gradient:\n",
    "            print(f'weight decay: {weight_decay}')\n",
    "            print(f'learning rate w/ steepest gradient {log_lrs[i]:.4f}')\n",
    "            print()\n",
    "            break\n",
    "    \n",
    "    res[weight_decay] = {\n",
    "        'log lrs': log_lrs,\n",
    "        'raw losses': raw_losses,\n",
    "        'smoothed losses': smoothed_losses\n",
    "    }"
   ]
  },
  {
   "cell_type": "code",
   "execution_count": 19,
   "id": "a34a3774",
   "metadata": {
    "execution": {
     "iopub.execute_input": "2022-11-08T12:12:50.167155Z",
     "iopub.status.busy": "2022-11-08T12:12:50.166757Z",
     "iopub.status.idle": "2022-11-08T12:12:51.017501Z",
     "shell.execute_reply": "2022-11-08T12:12:51.016506Z"
    },
    "papermill": {
     "duration": 0.8795,
     "end_time": "2022-11-08T12:12:51.020218",
     "exception": false,
     "start_time": "2022-11-08T12:12:50.140718",
     "status": "completed"
    },
    "tags": []
   },
   "outputs": [
    {
     "data": {
      "image/png": "[encoded data removed]",
      "text/plain": [
       "<Figure size 576x576 with 2 Axes>"
      ]
     },
     "metadata": {},
     "output_type": "display_data"
    }
   ],
   "source": [
    "figsize(8, 8)\n",
    "\n",
    "plt.subplot(2, 1, 1)\n",
    "for weight_decay in weight_decays:\n",
    "    plt.plot(res[weight_decay]['log lrs'], \n",
    "             res[weight_decay]['raw losses'],\n",
    "             label=f'wd={weight_decay}')\n",
    "plt.legend()\n",
    "plt.title('raw losses')\n",
    "\n",
    "plt.subplot(2, 1, 2)\n",
    "for weight_decay in weight_decays:\n",
    "    plt.plot(res[weight_decay]['log lrs'], \n",
    "             res[weight_decay]['smoothed losses'],\n",
    "             label=f'wd={weight_decay}')\n",
    "plt.legend()\n",
    "plt.title('smoothed losses')\n",
    "\n",
    "plt.tight_layout()"
   ]
  },
  {
   "cell_type": "markdown",
   "id": "03bc49b8",
   "metadata": {
    "papermill": {
     "duration": 0.010428,
     "end_time": "2022-11-08T12:12:51.041408",
     "exception": false,
     "start_time": "2022-11-08T12:12:51.030980",
     "status": "completed"
    },
    "tags": []
   },
   "source": [
    "### Train"
   ]
  },
  {
   "cell_type": "code",
   "execution_count": 20,
   "id": "40259316",
   "metadata": {
    "execution": {
     "iopub.execute_input": "2022-11-08T12:12:51.063570Z",
     "iopub.status.busy": "2022-11-08T12:12:51.063251Z",
     "iopub.status.idle": "2022-11-08T12:12:51.071402Z",
     "shell.execute_reply": "2022-11-08T12:12:51.070273Z"
    },
    "papermill": {
     "duration": 0.021939,
     "end_time": "2022-11-08T12:12:51.073752",
     "exception": false,
     "start_time": "2022-11-08T12:12:51.051813",
     "status": "completed"
    },
    "tags": []
   },
   "outputs": [],
   "source": [
    "def train_model(train_loader, model, optimizer, scheduler):\n",
    "    \n",
    "    model.train()\n",
    "    sum_corr = 0.0 # sum_loss = 0.0\n",
    "    total = 0\n",
    "    lrs = []\n",
    "    \n",
    "    for i, (x, y) in enumerate(train_loader):\n",
    "        x = x.to(device)\n",
    "        y = y.to(device)\\\n",
    "        \n",
    "        batch = x.shape[0]\n",
    "        \n",
    "        # Standardize\n",
    "#         x_means = x.mean()\n",
    "#         x_stds = x.std()\n",
    "#         norm_x = (x - x_means) / x_stds\n",
    "        \n",
    "        # Prediction\n",
    "        preds = model(x)\n",
    "        vpreds = preds - torch.mean(preds)\n",
    "        y = y.to_dense()\n",
    "        vy = y - torch.mean(y)\n",
    "        corr = torch.sum(vpreds * vy) / \\\n",
    "               (torch.sqrt(torch.sum(vpreds ** 2)) *\n",
    "                torch.sqrt(torch.sum(vy ** 2)))\n",
    "        loss = -corr\n",
    "        \n",
    "        # Loss\n",
    "        optimizer.zero_grad()\n",
    "        loss.backward()\n",
    "        \n",
    "        optimizer.step()\n",
    "        lrs.append(optimizer.param_groups[0]['lr'])\n",
    "        scheduler.step()\n",
    "        \n",
    "        total += batch\n",
    "        sum_corr += batch * corr\n",
    "    \n",
    "    train_corr = sum_corr/total \n",
    "    return train_corr, lrs"
   ]
  },
  {
   "cell_type": "code",
   "execution_count": 21,
   "id": "3572a28a",
   "metadata": {
    "execution": {
     "iopub.execute_input": "2022-11-08T12:12:51.096008Z",
     "iopub.status.busy": "2022-11-08T12:12:51.095739Z",
     "iopub.status.idle": "2022-11-08T12:12:51.102662Z",
     "shell.execute_reply": "2022-11-08T12:12:51.101555Z"
    },
    "papermill": {
     "duration": 0.020199,
     "end_time": "2022-11-08T12:12:51.104587",
     "exception": false,
     "start_time": "2022-11-08T12:12:51.084388",
     "status": "completed"
    },
    "tags": []
   },
   "outputs": [],
   "source": [
    "def model_eval(model, val_loader):\n",
    "    model.eval()\n",
    "    sum_corr = 0.0 # sum_loss = 0.0\n",
    "    total = 0\n",
    "    \n",
    "    for i, (x, y) in enumerate(val_loader):\n",
    "        x = x.to(device)\n",
    "        y = y.to(device)\n",
    "        \n",
    "        batch = x.shape[0]\n",
    "        \n",
    "        # Standardize\n",
    "#         x_means = x.mean()\n",
    "#         x_stds = x.std()\n",
    "#         norm_x = (x - x_means) / x_stds\n",
    "        \n",
    "        # Prediction\n",
    "        preds = model(x)\n",
    "        \n",
    "        # Loss\n",
    "        vpreds = preds - torch.mean(preds)\n",
    "        y = y.to_dense()\n",
    "        vy = y - torch.mean(y)\n",
    "        corr = torch.sum(vpreds * vy) / \\\n",
    "               (torch.sqrt(torch.sum(vpreds ** 2)) *\n",
    "                torch.sqrt(torch.sum(vy ** 2)))\n",
    "        loss = -corr\n",
    "        \n",
    "        total += batch\n",
    "        sum_corr += batch * corr\n",
    "        \n",
    "    val_corr = sum_corr/total\n",
    "    return val_corr"
   ]
  },
  {
   "cell_type": "code",
   "execution_count": 22,
   "id": "6f9f5244",
   "metadata": {
    "execution": {
     "iopub.execute_input": "2022-11-08T12:12:51.128338Z",
     "iopub.status.busy": "2022-11-08T12:12:51.126809Z",
     "iopub.status.idle": "2022-11-08T12:12:52.416282Z",
     "shell.execute_reply": "2022-11-08T12:12:52.415326Z"
    },
    "papermill": {
     "duration": 1.303569,
     "end_time": "2022-11-08T12:12:52.418942",
     "exception": false,
     "start_time": "2022-11-08T12:12:51.115373",
     "status": "completed"
    },
    "tags": []
   },
   "outputs": [],
   "source": [
    "net = Net().to(device)\n",
    "max_lr = 0.001\n",
    "weight_decay = 0.0001 \n",
    "epochs = 50\n",
    "\n",
    "optimizer = optim.Adam(net.parameters(),\n",
    "                       weight_decay=weight_decay)\n",
    "scheduler = torch.optim.lr_scheduler.OneCycleLR(optimizer, \n",
    "                                                max_lr=max_lr,\n",
    "                                                steps_per_epoch=len(train_loader),\n",
    "                                                epochs=epochs)"
   ]
  },
  {
   "cell_type": "code",
   "execution_count": 23,
   "id": "133a5dbd",
   "metadata": {
    "execution": {
     "iopub.execute_input": "2022-11-08T12:12:52.441959Z",
     "iopub.status.busy": "2022-11-08T12:12:52.441644Z",
     "iopub.status.idle": "2022-11-08T13:24:05.900851Z",
     "shell.execute_reply": "2022-11-08T13:24:05.899821Z"
    },
    "papermill": {
     "duration": 4273.474336,
     "end_time": "2022-11-08T13:24:05.904217",
     "exception": false,
     "start_time": "2022-11-08T12:12:52.429881",
     "status": "completed"
    },
    "tags": []
   },
   "outputs": [
    {
     "name": "stdout",
     "output_type": "stream",
     "text": [
      "epoch 0\n",
      "train corr: 0.3182\n",
      "val corr: 0.5460\n",
      "\n",
      "epoch 1\n",
      "train corr: 0.6161\n",
      "val corr: 0.6391\n",
      "\n",
      "epoch 2\n",
      "train corr: 0.6527\n",
      "val corr: 0.6501\n",
      "\n",
      "epoch 3\n",
      "train corr: 0.6608\n",
      "val corr: 0.6558\n",
      "\n",
      "epoch 4\n",
      "train corr: 0.6656\n",
      "val corr: 0.6601\n",
      "\n",
      "epoch 5\n",
      "train corr: 0.6707\n",
      "val corr: 0.6630\n",
      "\n",
      "epoch 6\n",
      "train corr: 0.6745\n",
      "val corr: 0.6645\n",
      "\n",
      "epoch 7\n",
      "train corr: 0.6759\n",
      "val corr: 0.6656\n",
      "\n",
      "epoch 8\n",
      "train corr: 0.6764\n",
      "val corr: 0.6663\n",
      "\n",
      "epoch 9\n",
      "train corr: 0.6767\n",
      "val corr: 0.6659\n",
      "\n",
      "epoch 10\n",
      "train corr: 0.6766\n",
      "val corr: 0.6669\n",
      "\n",
      "epoch 11\n",
      "train corr: 0.6764\n",
      "val corr: 0.6673\n",
      "\n",
      "epoch 12\n",
      "train corr: 0.6761\n",
      "val corr: 0.6668\n",
      "\n",
      "epoch 13\n",
      "train corr: 0.6759\n",
      "val corr: 0.6657\n",
      "\n",
      "epoch 14\n",
      "train corr: 0.6758\n",
      "val corr: 0.6670\n",
      "\n",
      "epoch 15\n",
      "train corr: 0.6757\n",
      "val corr: 0.6664\n",
      "\n",
      "epoch 16\n",
      "train corr: 0.6757\n",
      "val corr: 0.6668\n",
      "\n",
      "epoch 17\n",
      "train corr: 0.6757\n",
      "val corr: 0.6671\n",
      "\n",
      "epoch 18\n",
      "train corr: 0.6758\n",
      "val corr: 0.6668\n",
      "\n",
      "epoch 19\n",
      "train corr: 0.6759\n",
      "val corr: 0.6667\n",
      "\n",
      "epoch 20\n",
      "train corr: 0.6761\n",
      "val corr: 0.6679\n",
      "\n",
      "epoch 21\n",
      "train corr: 0.6762\n",
      "val corr: 0.6681\n",
      "\n",
      "epoch 22\n",
      "train corr: 0.6766\n",
      "val corr: 0.6682\n",
      "\n",
      "epoch 23\n",
      "train corr: 0.6769\n",
      "val corr: 0.6672\n",
      "\n",
      "epoch 24\n",
      "train corr: 0.6773\n",
      "val corr: 0.6686\n",
      "\n",
      "epoch 25\n",
      "train corr: 0.6777\n",
      "val corr: 0.6687\n",
      "\n",
      "epoch 26\n",
      "train corr: 0.6782\n",
      "val corr: 0.6694\n",
      "\n",
      "epoch 27\n",
      "train corr: 0.6787\n",
      "val corr: 0.6694\n",
      "\n",
      "epoch 28\n",
      "train corr: 0.6791\n",
      "val corr: 0.6696\n",
      "\n",
      "epoch 29\n",
      "train corr: 0.6796\n",
      "val corr: 0.6701\n",
      "\n",
      "epoch 30\n",
      "train corr: 0.6800\n",
      "val corr: 0.6702\n",
      "\n",
      "epoch 31\n",
      "train corr: 0.6804\n",
      "val corr: 0.6707\n",
      "\n",
      "epoch 32\n",
      "train corr: 0.6809\n",
      "val corr: 0.6706\n",
      "\n",
      "epoch 33\n",
      "train corr: 0.6814\n",
      "val corr: 0.6709\n",
      "\n",
      "epoch 34\n",
      "train corr: 0.6818\n",
      "val corr: 0.6711\n",
      "\n",
      "epoch 35\n",
      "train corr: 0.6823\n",
      "val corr: 0.6714\n",
      "\n",
      "epoch 36\n",
      "train corr: 0.6828\n",
      "val corr: 0.6713\n",
      "\n",
      "epoch 37\n",
      "train corr: 0.6834\n",
      "val corr: 0.6719\n",
      "\n",
      "epoch 38\n",
      "train corr: 0.6839\n",
      "val corr: 0.6720\n",
      "\n",
      "epoch 39\n",
      "train corr: 0.6844\n",
      "val corr: 0.6725\n",
      "\n",
      "epoch 40\n",
      "train corr: 0.6850\n",
      "val corr: 0.6728\n",
      "\n",
      "epoch 41\n",
      "train corr: 0.6857\n",
      "val corr: 0.6730\n",
      "\n",
      "epoch 42\n",
      "train corr: 0.6863\n",
      "val corr: 0.6732\n",
      "\n",
      "epoch 43\n",
      "train corr: 0.6870\n",
      "val corr: 0.6733\n",
      "\n",
      "epoch 44\n",
      "train corr: 0.6877\n",
      "val corr: 0.6733\n",
      "\n",
      "epoch 45\n",
      "train corr: 0.6884\n",
      "val corr: 0.6733\n",
      "\n",
      "epoch 46\n",
      "train corr: 0.6890\n",
      "val corr: 0.6733\n",
      "\n",
      "epoch 47\n",
      "train corr: 0.6895\n",
      "val corr: 0.6733\n",
      "\n",
      "epoch 48\n",
      "train corr: 0.6898\n",
      "val corr: 0.6732\n",
      "\n",
      "epoch 49\n",
      "train corr: 0.6899\n",
      "val corr: 0.6732\n",
      "\n",
      "CPU times: user 1h 3min 14s, sys: 7min 44s, total: 1h 10min 59s\n",
      "Wall time: 1h 11min 13s\n"
     ]
    }
   ],
   "source": [
    "%%time\n",
    "train_corrs = []\n",
    "val_corrs = []\n",
    "best_val_corr = 0.0\n",
    "best_epoch = 0\n",
    "num_epochs_run = 0\n",
    "lrs = []\n",
    "\n",
    "for epoch in range(epochs):\n",
    "    num_epochs_run += 1\n",
    "    \n",
    "    # train\n",
    "    print('epoch', epoch)\n",
    "    train_corr, epoch_lrs = train_model(train_loader, net, optimizer, scheduler)\n",
    "    train_corr = float(train_corr.to('cpu').detach().numpy())\n",
    "    train_corrs.append(train_corr)\n",
    "    lrs.append(epoch_lrs)\n",
    "    print(f'train corr: {train_corr:.4f}')\n",
    "    \n",
    "    # val\n",
    "    val_corr = model_eval(net, val_loader)\n",
    "    val_corr = float(val_corr.to('cpu').detach().numpy())\n",
    "    val_corrs.append(val_corr)\n",
    "    print(f'val corr: {val_corr:.4f}')\n",
    "    print()\n"
   ]
  },
  {
   "cell_type": "code",
   "execution_count": 24,
   "id": "e94713e4",
   "metadata": {
    "execution": {
     "iopub.execute_input": "2022-11-08T13:24:05.953796Z",
     "iopub.status.busy": "2022-11-08T13:24:05.953374Z",
     "iopub.status.idle": "2022-11-08T13:24:06.248679Z",
     "shell.execute_reply": "2022-11-08T13:24:06.247794Z"
    },
    "papermill": {
     "duration": 0.325176,
     "end_time": "2022-11-08T13:24:06.251196",
     "exception": false,
     "start_time": "2022-11-08T13:24:05.926020",
     "status": "completed"
    },
    "tags": []
   },
   "outputs": [
    {
     "data": {
      "text/plain": [
       "[<matplotlib.lines.Line2D at 0x7f71ad85d590>]"
      ]
     },
     "execution_count": 24,
     "metadata": {},
     "output_type": "execute_result"
    },
    {
     "data": {
      "image/png": "[encoded data removed]",
      "text/plain": [
       "<Figure size 576x288 with 1 Axes>"
      ]
     },
     "metadata": {},
     "output_type": "display_data"
    }
   ],
   "source": [
    "figsize(8, 4)\n",
    "plt.plot(list(itertools.chain(*lrs)))"
   ]
  },
  {
   "cell_type": "code",
   "execution_count": 25,
   "id": "88b236e7",
   "metadata": {
    "execution": {
     "iopub.execute_input": "2022-11-08T13:24:06.299180Z",
     "iopub.status.busy": "2022-11-08T13:24:06.298852Z",
     "iopub.status.idle": "2022-11-08T13:24:06.631272Z",
     "shell.execute_reply": "2022-11-08T13:24:06.630377Z"
    },
    "papermill": {
     "duration": 0.358453,
     "end_time": "2022-11-08T13:24:06.633522",
     "exception": false,
     "start_time": "2022-11-08T13:24:06.275069",
     "status": "completed"
    },
    "tags": []
   },
   "outputs": [
    {
     "data": {
      "text/plain": [
       "(0.2, 1.0)"
      ]
     },
     "execution_count": 25,
     "metadata": {},
     "output_type": "execute_result"
    },
    {
     "data": {
      "image/png": "[encoded data removed]",
      "text/plain": [
       "<Figure size 576x288 with 1 Axes>"
      ]
     },
     "metadata": {},
     "output_type": "display_data"
    }
   ],
   "source": [
    "figsize(8, 4)\n",
    "plt.scatter(list(range(epochs)), train_corrs, label='training corr')\n",
    "plt.plot(list(range(epochs)), train_corrs)\n",
    "plt.scatter(list(range(epochs)), val_corrs, label='val corr')\n",
    "plt.plot(list(range(epochs)), val_corrs)\n",
    "plt.legend(loc='lower right')\n",
    "plt.title(f'max learning rate = {max_lr} | wd = {weight_decay}')\n",
    "plt.ylim(0.2, 1)"
   ]
  },
  {
   "cell_type": "code",
   "execution_count": 26,
   "id": "7751f784",
   "metadata": {
    "execution": {
     "iopub.execute_input": "2022-11-08T13:24:06.668161Z",
     "iopub.status.busy": "2022-11-08T13:24:06.667334Z",
     "iopub.status.idle": "2022-11-08T13:24:06.800335Z",
     "shell.execute_reply": "2022-11-08T13:24:06.799447Z"
    },
    "papermill": {
     "duration": 0.152542,
     "end_time": "2022-11-08T13:24:06.802522",
     "exception": false,
     "start_time": "2022-11-08T13:24:06.649980",
     "status": "completed"
    },
    "tags": []
   },
   "outputs": [
    {
     "data": {
      "text/plain": [
       "3575"
      ]
     },
     "execution_count": 26,
     "metadata": {},
     "output_type": "execute_result"
    }
   ],
   "source": [
    "del train_inp, train_tar, full_ds, train_ds, val_ds, train_loader, val_loader\n",
    "gc.collect()"
   ]
  },
  {
   "cell_type": "code",
   "execution_count": 27,
   "id": "d48ced9a",
   "metadata": {
    "execution": {
     "iopub.execute_input": "2022-11-08T13:24:06.837432Z",
     "iopub.status.busy": "2022-11-08T13:24:06.837146Z",
     "iopub.status.idle": "2022-11-08T13:24:08.269827Z",
     "shell.execute_reply": "2022-11-08T13:24:08.268546Z"
    },
    "papermill": {
     "duration": 1.45289,
     "end_time": "2022-11-08T13:24:08.272690",
     "exception": false,
     "start_time": "2022-11-08T13:24:06.819800",
     "status": "completed"
    },
    "tags": []
   },
   "outputs": [
    {
     "name": "stdout",
     "output_type": "stream",
     "text": [
      "CPU times: user 497 ms, sys: 929 ms, total: 1.43 s\n",
      "Wall time: 1.43 s\n"
     ]
    }
   ],
   "source": [
    "%%time\n",
    "torch.save(net, 'mlp_multi.pt')"
   ]
  },
  {
   "cell_type": "markdown",
   "id": "1a750a40",
   "metadata": {
    "papermill": {
     "duration": 0.016227,
     "end_time": "2022-11-08T13:24:08.306124",
     "exception": false,
     "start_time": "2022-11-08T13:24:08.289897",
     "status": "completed"
    },
    "tags": []
   },
   "source": [
    "## Prediction"
   ]
  },
  {
   "cell_type": "code",
   "execution_count": 28,
   "id": "c9754bc1",
   "metadata": {
    "execution": {
     "iopub.execute_input": "2022-11-08T13:24:08.341528Z",
     "iopub.status.busy": "2022-11-08T13:24:08.339947Z",
     "iopub.status.idle": "2022-11-08T13:24:08.344619Z",
     "shell.execute_reply": "2022-11-08T13:24:08.343753Z"
    },
    "papermill": {
     "duration": 0.023709,
     "end_time": "2022-11-08T13:24:08.346581",
     "exception": false,
     "start_time": "2022-11-08T13:24:08.322872",
     "status": "completed"
    },
    "tags": []
   },
   "outputs": [],
   "source": [
    "# %%time\n",
    "# test_inp = scipy.sparse.load_npz(f'{DATA_DIR}/test_multi_inputs_val.sparse.npz')\n",
    "# test_inp.shape"
   ]
  },
  {
   "cell_type": "code",
   "execution_count": 29,
   "id": "277665f4",
   "metadata": {
    "execution": {
     "iopub.execute_input": "2022-11-08T13:24:08.380799Z",
     "iopub.status.busy": "2022-11-08T13:24:08.380019Z",
     "iopub.status.idle": "2022-11-08T13:24:08.384571Z",
     "shell.execute_reply": "2022-11-08T13:24:08.383773Z"
    },
    "papermill": {
     "duration": 0.023517,
     "end_time": "2022-11-08T13:24:08.386459",
     "exception": false,
     "start_time": "2022-11-08T13:24:08.362942",
     "status": "completed"
    },
    "tags": []
   },
   "outputs": [],
   "source": [
    "# class SparsePredDataset(TensorDataset):\n",
    "#     # https://discuss.pytorch.org/t/dataloader-loads-data-very-slow-on-sparse-tensor/117391/2\n",
    "#     def __init__(self, inputs):\n",
    "#         self.inputs = inputs\n",
    "    \n",
    "#     def __getitem__(self, index):\n",
    "#         return self.inputs[index]\n",
    "    \n",
    "#     def __len__(self):\n",
    "#         return self.inputs.shape[0]"
   ]
  },
  {
   "cell_type": "code",
   "execution_count": 30,
   "id": "93a120bf",
   "metadata": {
    "execution": {
     "iopub.execute_input": "2022-11-08T13:24:08.420248Z",
     "iopub.status.busy": "2022-11-08T13:24:08.419638Z",
     "iopub.status.idle": "2022-11-08T13:24:08.423423Z",
     "shell.execute_reply": "2022-11-08T13:24:08.422539Z"
    },
    "papermill": {
     "duration": 0.022652,
     "end_time": "2022-11-08T13:24:08.425343",
     "exception": false,
     "start_time": "2022-11-08T13:24:08.402691",
     "status": "completed"
    },
    "tags": []
   },
   "outputs": [],
   "source": [
    "# def sparse_batch_collate_pred(batch):\n",
    "#     return sparse_coo_to_tensor(scipy.sparse.vstack(batch).tocoo())"
   ]
  },
  {
   "cell_type": "code",
   "execution_count": 31,
   "id": "b29aedf9",
   "metadata": {
    "execution": {
     "iopub.execute_input": "2022-11-08T13:24:08.459324Z",
     "iopub.status.busy": "2022-11-08T13:24:08.458579Z",
     "iopub.status.idle": "2022-11-08T13:24:08.462938Z",
     "shell.execute_reply": "2022-11-08T13:24:08.462104Z"
    },
    "papermill": {
     "duration": 0.023516,
     "end_time": "2022-11-08T13:24:08.464903",
     "exception": false,
     "start_time": "2022-11-08T13:24:08.441387",
     "status": "completed"
    },
    "tags": []
   },
   "outputs": [],
   "source": [
    "# test_ds = SparsePredDataset(test_inp)\n",
    "# test_loader = DataLoader(test_ds, \n",
    "#                          batch_size=batch_size, \n",
    "#                          shuffle=False,\n",
    "#                          collate_fn=sparse_batch_collate_pred)"
   ]
  },
  {
   "cell_type": "code",
   "execution_count": 32,
   "id": "425681ef",
   "metadata": {
    "execution": {
     "iopub.execute_input": "2022-11-08T13:24:08.498675Z",
     "iopub.status.busy": "2022-11-08T13:24:08.498055Z",
     "iopub.status.idle": "2022-11-08T13:24:08.501857Z",
     "shell.execute_reply": "2022-11-08T13:24:08.500978Z"
    },
    "papermill": {
     "duration": 0.022811,
     "end_time": "2022-11-08T13:24:08.503878",
     "exception": false,
     "start_time": "2022-11-08T13:24:08.481067",
     "status": "completed"
    },
    "tags": []
   },
   "outputs": [],
   "source": [
    "# %%time\n",
    "# with torch.no_grad():\n",
    "#     net.eval()\n",
    "#     test_tar_preds = []\n",
    "    \n",
    "#     for i, x in enumerate(test_loader):\n",
    "#         x = x.to(device)\n",
    "#         batch_preds = net(x).to('cpu').detach().numpy()\n",
    "#         test_tar_preds.append(batch_preds)"
   ]
  },
  {
   "cell_type": "code",
   "execution_count": 33,
   "id": "bceede18",
   "metadata": {
    "execution": {
     "iopub.execute_input": "2022-11-08T13:24:08.541048Z",
     "iopub.status.busy": "2022-11-08T13:24:08.540778Z",
     "iopub.status.idle": "2022-11-08T13:24:08.544428Z",
     "shell.execute_reply": "2022-11-08T13:24:08.543541Z"
    },
    "papermill": {
     "duration": 0.022731,
     "end_time": "2022-11-08T13:24:08.546353",
     "exception": false,
     "start_time": "2022-11-08T13:24:08.523622",
     "status": "completed"
    },
    "tags": []
   },
   "outputs": [],
   "source": [
    "# del test_inp, test_ds, test_loader\n",
    "# gc.collect()"
   ]
  },
  {
   "cell_type": "code",
   "execution_count": 34,
   "id": "66f26072",
   "metadata": {
    "execution": {
     "iopub.execute_input": "2022-11-08T13:24:08.579871Z",
     "iopub.status.busy": "2022-11-08T13:24:08.579613Z",
     "iopub.status.idle": "2022-11-08T13:24:08.583253Z",
     "shell.execute_reply": "2022-11-08T13:24:08.582343Z"
    },
    "papermill": {
     "duration": 0.022484,
     "end_time": "2022-11-08T13:24:08.585158",
     "exception": false,
     "start_time": "2022-11-08T13:24:08.562674",
     "status": "completed"
    },
    "tags": []
   },
   "outputs": [],
   "source": [
    "# test_tar_preds = np.vstack(test_tar_preds)\n",
    "# print(test_tar_preds.shape)"
   ]
  },
  {
   "cell_type": "code",
   "execution_count": 35,
   "id": "61f9c86c",
   "metadata": {
    "execution": {
     "iopub.execute_input": "2022-11-08T13:24:08.619197Z",
     "iopub.status.busy": "2022-11-08T13:24:08.618609Z",
     "iopub.status.idle": "2022-11-08T13:24:08.622401Z",
     "shell.execute_reply": "2022-11-08T13:24:08.621508Z"
    },
    "papermill": {
     "duration": 0.023396,
     "end_time": "2022-11-08T13:24:08.624693",
     "exception": false,
     "start_time": "2022-11-08T13:24:08.601297",
     "status": "completed"
    },
    "tags": []
   },
   "outputs": [],
   "source": [
    "# gc.collect()"
   ]
  },
  {
   "cell_type": "code",
   "execution_count": 36,
   "id": "1aa3f011",
   "metadata": {
    "execution": {
     "iopub.execute_input": "2022-11-08T13:24:08.659573Z",
     "iopub.status.busy": "2022-11-08T13:24:08.658202Z",
     "iopub.status.idle": "2022-11-08T13:24:08.662486Z",
     "shell.execute_reply": "2022-11-08T13:24:08.661631Z"
    },
    "papermill": {
     "duration": 0.023215,
     "end_time": "2022-11-08T13:24:08.664358",
     "exception": false,
     "start_time": "2022-11-08T13:24:08.641143",
     "status": "completed"
    },
    "tags": []
   },
   "outputs": [],
   "source": [
    "# dump_pickle(test_tar_preds, 'test_tar_preds')"
   ]
  },
  {
   "cell_type": "markdown",
   "id": "8594e2bd",
   "metadata": {
    "papermill": {
     "duration": 0.016205,
     "end_time": "2022-11-08T13:24:08.696912",
     "exception": false,
     "start_time": "2022-11-08T13:24:08.680707",
     "status": "completed"
    },
    "tags": []
   },
   "source": [
    "## Creating Submission"
   ]
  },
  {
   "cell_type": "code",
   "execution_count": 37,
   "id": "73055aa2",
   "metadata": {
    "execution": {
     "iopub.execute_input": "2022-11-08T13:24:08.731948Z",
     "iopub.status.busy": "2022-11-08T13:24:08.730546Z",
     "iopub.status.idle": "2022-11-08T13:24:08.734868Z",
     "shell.execute_reply": "2022-11-08T13:24:08.733996Z"
    },
    "papermill": {
     "duration": 0.023639,
     "end_time": "2022-11-08T13:24:08.736951",
     "exception": false,
     "start_time": "2022-11-08T13:24:08.713312",
     "status": "completed"
    },
    "tags": []
   },
   "outputs": [],
   "source": [
    "# DATA_DIR = '../input/msci-h5-sparse-transform'\n",
    "# %ls $DATA_DIR -lh"
   ]
  },
  {
   "cell_type": "code",
   "execution_count": 38,
   "id": "2e009b8e",
   "metadata": {
    "execution": {
     "iopub.execute_input": "2022-11-08T13:24:08.771593Z",
     "iopub.status.busy": "2022-11-08T13:24:08.770843Z",
     "iopub.status.idle": "2022-11-08T13:24:08.774781Z",
     "shell.execute_reply": "2022-11-08T13:24:08.773864Z"
    },
    "papermill": {
     "duration": 0.023136,
     "end_time": "2022-11-08T13:24:08.776703",
     "exception": false,
     "start_time": "2022-11-08T13:24:08.753567",
     "status": "completed"
    },
    "tags": []
   },
   "outputs": [],
   "source": [
    "# test_tar_cols = np.load(f'{DATA_DIR}/train_multi_targets_idx.npz',\n",
    "#                         allow_pickle=True)['columns']\n",
    "# test_tar_idx = np.load(f'{DATA_DIR}/test_multi_inputs_idx.npz',\n",
    "#                        allow_pickle=True)['index']\n",
    "# test_tar_cols.shape, test_tar_idx.shape, test_tar_preds.shape"
   ]
  },
  {
   "cell_type": "code",
   "execution_count": 39,
   "id": "1c568c43",
   "metadata": {
    "execution": {
     "iopub.execute_input": "2022-11-08T13:24:08.812090Z",
     "iopub.status.busy": "2022-11-08T13:24:08.810718Z",
     "iopub.status.idle": "2022-11-08T13:24:08.815290Z",
     "shell.execute_reply": "2022-11-08T13:24:08.814459Z"
    },
    "papermill": {
     "duration": 0.0242,
     "end_time": "2022-11-08T13:24:08.817256",
     "exception": false,
     "start_time": "2022-11-08T13:24:08.793056",
     "status": "completed"
    },
    "tags": []
   },
   "outputs": [],
   "source": [
    "# %%time\n",
    "# print('Start Eval...')\n",
    "# eval_ids = pd.read_parquet(f'{DATA_DIR}/evaluation_ids.parquet')\n",
    "# eval_ids.cell_id = eval_ids.cell_id.astype(pd.CategoricalDtype())\n",
    "# eval_ids.gene_id = eval_ids.gene_id.astype(pd.CategoricalDtype())"
   ]
  },
  {
   "cell_type": "code",
   "execution_count": 40,
   "id": "b05266f0",
   "metadata": {
    "execution": {
     "iopub.execute_input": "2022-11-08T13:24:08.852318Z",
     "iopub.status.busy": "2022-11-08T13:24:08.852063Z",
     "iopub.status.idle": "2022-11-08T13:24:08.855744Z",
     "shell.execute_reply": "2022-11-08T13:24:08.854830Z"
    },
    "papermill": {
     "duration": 0.023693,
     "end_time": "2022-11-08T13:24:08.857656",
     "exception": false,
     "start_time": "2022-11-08T13:24:08.833963",
     "status": "completed"
    },
    "tags": []
   },
   "outputs": [],
   "source": [
    "# %%time\n",
    "# sub = pd.Series(name='target',\n",
    "#                 index=pd.MultiIndex.from_frame(eval_ids), \n",
    "#                 dtype=np.float32)\n",
    "# sub"
   ]
  },
  {
   "cell_type": "code",
   "execution_count": 41,
   "id": "e0821b71",
   "metadata": {
    "execution": {
     "iopub.execute_input": "2022-11-08T13:24:08.895089Z",
     "iopub.status.busy": "2022-11-08T13:24:08.894833Z",
     "iopub.status.idle": "2022-11-08T13:24:08.898566Z",
     "shell.execute_reply": "2022-11-08T13:24:08.897637Z"
    },
    "papermill": {
     "duration": 0.026438,
     "end_time": "2022-11-08T13:24:08.900554",
     "exception": false,
     "start_time": "2022-11-08T13:24:08.874116",
     "status": "completed"
    },
    "tags": []
   },
   "outputs": [],
   "source": [
    "# cell_id_dict = {cell_id: idx \n",
    "#                 for idx, cell_id in enumerate(test_tar_idx, 0)}\n",
    "# gene_id_dict = {gene_id: idx \n",
    "#                 for idx, gene_id in enumerate(test_tar_cols, 0)}"
   ]
  },
  {
   "cell_type": "code",
   "execution_count": 42,
   "id": "37374a42",
   "metadata": {
    "execution": {
     "iopub.execute_input": "2022-11-08T13:24:08.936141Z",
     "iopub.status.busy": "2022-11-08T13:24:08.934763Z",
     "iopub.status.idle": "2022-11-08T13:24:08.939151Z",
     "shell.execute_reply": "2022-11-08T13:24:08.938296Z"
    },
    "papermill": {
     "duration": 0.024123,
     "end_time": "2022-11-08T13:24:08.941172",
     "exception": false,
     "start_time": "2022-11-08T13:24:08.917049",
     "status": "completed"
    },
    "tags": []
   },
   "outputs": [],
   "source": [
    "# eid_cid_idx = eval_ids['cell_id']\\\n",
    "#               .apply(lambda x: cell_id_dict.get(x, -1))\n",
    "# eid_gid_idx = eval_ids['gene_id']\\\n",
    "#               .apply(lambda x: gene_id_dict.get(x, -1))\n",
    "# valid_multi_rows = (eid_cid_idx != -1) & (eid_gid_idx != -1)"
   ]
  },
  {
   "cell_type": "code",
   "execution_count": 43,
   "id": "21f1863c",
   "metadata": {
    "execution": {
     "iopub.execute_input": "2022-11-08T13:24:08.976558Z",
     "iopub.status.busy": "2022-11-08T13:24:08.975192Z",
     "iopub.status.idle": "2022-11-08T13:24:08.979356Z",
     "shell.execute_reply": "2022-11-08T13:24:08.978524Z"
    },
    "papermill": {
     "duration": 0.023511,
     "end_time": "2022-11-08T13:24:08.981312",
     "exception": false,
     "start_time": "2022-11-08T13:24:08.957801",
     "status": "completed"
    },
    "tags": []
   },
   "outputs": [],
   "source": [
    "# del eval_ids\n",
    "# gc.collect()"
   ]
  },
  {
   "cell_type": "code",
   "execution_count": 44,
   "id": "69cfbfc7",
   "metadata": {
    "execution": {
     "iopub.execute_input": "2022-11-08T13:24:09.018213Z",
     "iopub.status.busy": "2022-11-08T13:24:09.016841Z",
     "iopub.status.idle": "2022-11-08T13:24:09.021157Z",
     "shell.execute_reply": "2022-11-08T13:24:09.020335Z"
    },
    "papermill": {
     "duration": 0.023733,
     "end_time": "2022-11-08T13:24:09.023172",
     "exception": false,
     "start_time": "2022-11-08T13:24:08.999439",
     "status": "completed"
    },
    "tags": []
   },
   "outputs": [],
   "source": [
    "# %%time\n",
    "# sub.iloc[valid_multi_rows] = test_tar_preds\\\n",
    "#                              [eid_cid_idx[valid_multi_rows].to_numpy(),\n",
    "#                               eid_gid_idx[valid_multi_rows].to_numpy()]"
   ]
  },
  {
   "cell_type": "code",
   "execution_count": 45,
   "id": "4f0480c3",
   "metadata": {
    "execution": {
     "iopub.execute_input": "2022-11-08T13:24:09.057660Z",
     "iopub.status.busy": "2022-11-08T13:24:09.057386Z",
     "iopub.status.idle": "2022-11-08T13:24:09.061021Z",
     "shell.execute_reply": "2022-11-08T13:24:09.060143Z"
    },
    "papermill": {
     "duration": 0.023085,
     "end_time": "2022-11-08T13:24:09.062927",
     "exception": false,
     "start_time": "2022-11-08T13:24:09.039842",
     "status": "completed"
    },
    "tags": []
   },
   "outputs": [],
   "source": [
    "# del test_tar_idx, test_tar_cols\n",
    "# del eid_cid_idx, eid_gid_idx, valid_multi_rows\n",
    "# gc.collect()"
   ]
  },
  {
   "cell_type": "code",
   "execution_count": 46,
   "id": "6d373ac5",
   "metadata": {
    "execution": {
     "iopub.execute_input": "2022-11-08T13:24:09.097889Z",
     "iopub.status.busy": "2022-11-08T13:24:09.097273Z",
     "iopub.status.idle": "2022-11-08T13:24:09.101121Z",
     "shell.execute_reply": "2022-11-08T13:24:09.100207Z"
    },
    "papermill": {
     "duration": 0.023287,
     "end_time": "2022-11-08T13:24:09.103027",
     "exception": false,
     "start_time": "2022-11-08T13:24:09.079740",
     "status": "completed"
    },
    "tags": []
   },
   "outputs": [],
   "source": [
    "# sub = pd.DataFrame(sub).fillna(0).reset_index()\n",
    "# sub.drop(['cell_id', 'gene_id'], axis=1)\\\n",
    "#    .to_csv('multi_sub.csv', index=False)"
   ]
  },
  {
   "cell_type": "code",
   "execution_count": 47,
   "id": "0c9f3b9f",
   "metadata": {
    "execution": {
     "iopub.execute_input": "2022-11-08T13:24:09.137793Z",
     "iopub.status.busy": "2022-11-08T13:24:09.137536Z",
     "iopub.status.idle": "2022-11-08T13:24:09.141361Z",
     "shell.execute_reply": "2022-11-08T13:24:09.140427Z"
    },
    "papermill": {
     "duration": 0.023641,
     "end_time": "2022-11-08T13:24:09.143390",
     "exception": false,
     "start_time": "2022-11-08T13:24:09.119749",
     "status": "completed"
    },
    "tags": []
   },
   "outputs": [],
   "source": [
    "# sub.tail()"
   ]
  },
  {
   "cell_type": "code",
   "execution_count": null,
   "id": "bf9802d4",
   "metadata": {
    "papermill": {
     "duration": 0.016932,
     "end_time": "2022-11-08T13:24:09.177368",
     "exception": false,
     "start_time": "2022-11-08T13:24:09.160436",
     "status": "completed"
    },
    "tags": []
   },
   "outputs": [],
   "source": []
  }
 ],
 "metadata": {
  "kernelspec": {
   "display_name": "Python 3",
   "language": "python",
   "name": "python3"
  },
  "language_info": {
   "codemirror_mode": {
    "name": "ipython",
    "version": 3
   },
   "file_extension": ".py",
   "mimetype": "text/x-python",
   "name": "python",
   "nbconvert_exporter": "python",
   "pygments_lexer": "ipython3",
   "version": "3.7.12"
  },
  "papermill": {
   "default_parameters": {},
   "duration": 4654.990917,
   "end_time": "2022-11-08T13:24:10.421891",
   "environment_variables": {},
   "exception": null,
   "input_path": "__notebook__.ipynb",
   "output_path": "__notebook__.ipynb",
   "parameters": {},
   "start_time": "2022-11-08T12:06:35.430974",
   "version": "2.3.4"
  }
 },
 "nbformat": 4,
 "nbformat_minor": 5
}
