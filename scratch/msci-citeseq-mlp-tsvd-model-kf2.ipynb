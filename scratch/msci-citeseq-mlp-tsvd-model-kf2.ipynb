{
 "cells": [
  {
   "cell_type": "code",
   "execution_count": 1,
   "id": "46c635e1",
   "metadata": {
    "_cell_guid": "b1076dfc-b9ad-4769-8c92-a6c4dae69d19",
    "_uuid": "8f2839f25d086af736a60e9eeb907d3b93b6e0e5",
    "execution": {
     "iopub.execute_input": "2022-11-15T18:03:18.302524Z",
     "iopub.status.busy": "2022-11-15T18:03:18.301860Z",
     "iopub.status.idle": "2022-11-15T18:03:18.422956Z",
     "shell.execute_reply": "2022-11-15T18:03:18.421397Z"
    },
    "papermill": {
     "duration": 0.141103,
     "end_time": "2022-11-15T18:03:18.426091",
     "exception": false,
     "start_time": "2022-11-15T18:03:18.284988",
     "status": "completed"
    },
    "tags": []
   },
   "outputs": [],
   "source": [
    "import os\n",
    "import os.path\n",
    "import gc\n",
    "import itertools\n",
    "import numpy as np\n",
    "import pandas as pd\n",
    "import scipy.sparse\n",
    "from tqdm import tqdm"
   ]
  },
  {
   "cell_type": "code",
   "execution_count": 2,
   "id": "1186116e",
   "metadata": {
    "execution": {
     "iopub.execute_input": "2022-11-15T18:03:18.457489Z",
     "iopub.status.busy": "2022-11-15T18:03:18.457040Z",
     "iopub.status.idle": "2022-11-15T18:03:18.463673Z",
     "shell.execute_reply": "2022-11-15T18:03:18.461819Z"
    },
    "papermill": {
     "duration": 0.026362,
     "end_time": "2022-11-15T18:03:18.466465",
     "exception": false,
     "start_time": "2022-11-15T18:03:18.440103",
     "status": "completed"
    },
    "tags": []
   },
   "outputs": [],
   "source": [
    "import warnings \n",
    "warnings.filterwarnings('ignore')"
   ]
  },
  {
   "cell_type": "code",
   "execution_count": 3,
   "id": "79319e4c",
   "metadata": {
    "execution": {
     "iopub.execute_input": "2022-11-15T18:03:18.494188Z",
     "iopub.status.busy": "2022-11-15T18:03:18.493794Z",
     "iopub.status.idle": "2022-11-15T18:03:19.580469Z",
     "shell.execute_reply": "2022-11-15T18:03:19.579217Z"
    },
    "papermill": {
     "duration": 1.103787,
     "end_time": "2022-11-15T18:03:19.583363",
     "exception": false,
     "start_time": "2022-11-15T18:03:18.479576",
     "status": "completed"
    },
    "tags": []
   },
   "outputs": [],
   "source": [
    "import seaborn as sns\n",
    "import matplotlib\n",
    "import matplotlib.pyplot as plt\n",
    "from IPython.core.pylabtools import figsize"
   ]
  },
  {
   "cell_type": "code",
   "execution_count": 4,
   "id": "68017f5e",
   "metadata": {
    "execution": {
     "iopub.execute_input": "2022-11-15T18:03:19.610634Z",
     "iopub.status.busy": "2022-11-15T18:03:19.610025Z",
     "iopub.status.idle": "2022-11-15T18:03:19.615721Z",
     "shell.execute_reply": "2022-11-15T18:03:19.614905Z"
    },
    "papermill": {
     "duration": 0.022075,
     "end_time": "2022-11-15T18:03:19.618089",
     "exception": false,
     "start_time": "2022-11-15T18:03:19.596014",
     "status": "completed"
    },
    "tags": []
   },
   "outputs": [],
   "source": [
    "sns.set()"
   ]
  },
  {
   "cell_type": "code",
   "execution_count": 5,
   "id": "e4b9a099",
   "metadata": {
    "execution": {
     "iopub.execute_input": "2022-11-15T18:03:19.649775Z",
     "iopub.status.busy": "2022-11-15T18:03:19.649330Z",
     "iopub.status.idle": "2022-11-15T18:03:19.655753Z",
     "shell.execute_reply": "2022-11-15T18:03:19.654541Z"
    },
    "papermill": {
     "duration": 0.023987,
     "end_time": "2022-11-15T18:03:19.658070",
     "exception": false,
     "start_time": "2022-11-15T18:03:19.634083",
     "status": "completed"
    },
    "tags": []
   },
   "outputs": [],
   "source": [
    "import pickle\n",
    "\n",
    "def dump_pickle(file, filename):\n",
    "    outfile = open(filename, 'wb')\n",
    "    pickle.dump(file, outfile)\n",
    "    outfile.close()\n",
    "\n",
    "def load_pickle(filename):\n",
    "    infile = open(filename, 'rb')\n",
    "    file = pickle.load(infile)\n",
    "    infile.close()\n",
    "    return file"
   ]
  },
  {
   "cell_type": "markdown",
   "id": "6abacb45",
   "metadata": {
    "papermill": {
     "duration": 0.012791,
     "end_time": "2022-11-15T18:03:19.684729",
     "exception": false,
     "start_time": "2022-11-15T18:03:19.671938",
     "status": "completed"
    },
    "tags": []
   },
   "source": [
    "## Read Data"
   ]
  },
  {
   "cell_type": "code",
   "execution_count": 6,
   "id": "e01670c8",
   "metadata": {
    "execution": {
     "iopub.execute_input": "2022-11-15T18:03:19.713851Z",
     "iopub.status.busy": "2022-11-15T18:03:19.713333Z",
     "iopub.status.idle": "2022-11-15T18:03:20.562188Z",
     "shell.execute_reply": "2022-11-15T18:03:20.560016Z"
    },
    "papermill": {
     "duration": 0.866701,
     "end_time": "2022-11-15T18:03:20.565030",
     "exception": false,
     "start_time": "2022-11-15T18:03:19.698329",
     "status": "completed"
    },
    "tags": []
   },
   "outputs": [
    {
     "name": "stdout",
     "output_type": "stream",
     "text": [
      "CPU times: user 225 ms, sys: 84.5 ms, total: 309 ms\n",
      "Wall time: 840 ms\n"
     ]
    }
   ],
   "source": [
    "%%time\n",
    "DATA_DIR = '../input/open-problems-multimodal'\n",
    "train_tar = pd.read_hdf(f'{DATA_DIR}/train_cite_targets.h5')\n",
    "train_tar_cols = train_tar.columns"
   ]
  },
  {
   "cell_type": "code",
   "execution_count": 7,
   "id": "fff3ceaf",
   "metadata": {
    "execution": {
     "iopub.execute_input": "2022-11-15T18:03:20.592407Z",
     "iopub.status.busy": "2022-11-15T18:03:20.591967Z",
     "iopub.status.idle": "2022-11-15T18:03:20.598558Z",
     "shell.execute_reply": "2022-11-15T18:03:20.597133Z"
    },
    "papermill": {
     "duration": 0.023462,
     "end_time": "2022-11-15T18:03:20.601347",
     "exception": false,
     "start_time": "2022-11-15T18:03:20.577885",
     "status": "completed"
    },
    "tags": []
   },
   "outputs": [],
   "source": [
    "train_tar = train_tar.values"
   ]
  },
  {
   "cell_type": "code",
   "execution_count": 8,
   "id": "7ba68189",
   "metadata": {
    "execution": {
     "iopub.execute_input": "2022-11-15T18:03:20.629484Z",
     "iopub.status.busy": "2022-11-15T18:03:20.628609Z",
     "iopub.status.idle": "2022-11-15T18:03:20.658572Z",
     "shell.execute_reply": "2022-11-15T18:03:20.657274Z"
    },
    "papermill": {
     "duration": 0.048424,
     "end_time": "2022-11-15T18:03:20.662314",
     "exception": false,
     "start_time": "2022-11-15T18:03:20.613890",
     "status": "completed"
    },
    "tags": []
   },
   "outputs": [],
   "source": [
    "train_tar_cp = train_tar.copy()"
   ]
  },
  {
   "cell_type": "code",
   "execution_count": 9,
   "id": "afc6cc0a",
   "metadata": {
    "execution": {
     "iopub.execute_input": "2022-11-15T18:03:20.691074Z",
     "iopub.status.busy": "2022-11-15T18:03:20.690632Z",
     "iopub.status.idle": "2022-11-15T18:03:20.744090Z",
     "shell.execute_reply": "2022-11-15T18:03:20.742893Z"
    },
    "papermill": {
     "duration": 0.071711,
     "end_time": "2022-11-15T18:03:20.747004",
     "exception": false,
     "start_time": "2022-11-15T18:03:20.675293",
     "status": "completed"
    },
    "tags": []
   },
   "outputs": [
    {
     "data": {
      "text/plain": [
       "(70988, 140)"
      ]
     },
     "execution_count": 9,
     "metadata": {},
     "output_type": "execute_result"
    }
   ],
   "source": [
    "train_tar -= train_tar.mean(axis=1).reshape(-1, 1)\n",
    "train_tar /= train_tar.std(axis=1).reshape(-1, 1)\n",
    "train_tar.shape"
   ]
  },
  {
   "cell_type": "code",
   "execution_count": 10,
   "id": "fd12e282",
   "metadata": {
    "execution": {
     "iopub.execute_input": "2022-11-15T18:03:20.775371Z",
     "iopub.status.busy": "2022-11-15T18:03:20.774618Z",
     "iopub.status.idle": "2022-11-15T18:03:21.200219Z",
     "shell.execute_reply": "2022-11-15T18:03:21.198665Z"
    },
    "papermill": {
     "duration": 0.442801,
     "end_time": "2022-11-15T18:03:21.203122",
     "exception": false,
     "start_time": "2022-11-15T18:03:20.760321",
     "status": "completed"
    },
    "tags": []
   },
   "outputs": [
    {
     "name": "stdout",
     "output_type": "stream",
     "text": [
      "CPU times: user 18.3 ms, sys: 80.7 ms, total: 99 ms\n",
      "Wall time: 419 ms\n"
     ]
    }
   ],
   "source": [
    "%%time\n",
    "DATA_DIR = '../input/msci-citeseq-mlp-tsvd-if'\n",
    "train_inp = load_pickle(f'{DATA_DIR}/train_inp')"
   ]
  },
  {
   "cell_type": "code",
   "execution_count": 11,
   "id": "0978f939",
   "metadata": {
    "execution": {
     "iopub.execute_input": "2022-11-15T18:03:21.232965Z",
     "iopub.status.busy": "2022-11-15T18:03:21.232020Z",
     "iopub.status.idle": "2022-11-15T18:03:21.243719Z",
     "shell.execute_reply": "2022-11-15T18:03:21.242675Z"
    },
    "papermill": {
     "duration": 0.030542,
     "end_time": "2022-11-15T18:03:21.246946",
     "exception": false,
     "start_time": "2022-11-15T18:03:21.216404",
     "status": "completed"
    },
    "tags": []
   },
   "outputs": [
    {
     "data": {
      "text/plain": [
       "(70988, 148)"
      ]
     },
     "execution_count": 11,
     "metadata": {},
     "output_type": "execute_result"
    }
   ],
   "source": [
    "train_inp = train_inp[:, :-1]\n",
    "train_inp.shape"
   ]
  },
  {
   "cell_type": "markdown",
   "id": "920185d2",
   "metadata": {
    "papermill": {
     "duration": 0.018428,
     "end_time": "2022-11-15T18:03:21.283282",
     "exception": false,
     "start_time": "2022-11-15T18:03:21.264854",
     "status": "completed"
    },
    "tags": []
   },
   "source": [
    "## Modeling"
   ]
  },
  {
   "cell_type": "code",
   "execution_count": 12,
   "id": "9d3970d4",
   "metadata": {
    "execution": {
     "iopub.execute_input": "2022-11-15T18:03:21.323796Z",
     "iopub.status.busy": "2022-11-15T18:03:21.322292Z",
     "iopub.status.idle": "2022-11-15T18:03:23.257287Z",
     "shell.execute_reply": "2022-11-15T18:03:23.256120Z"
    },
    "papermill": {
     "duration": 1.95647,
     "end_time": "2022-11-15T18:03:23.260016",
     "exception": false,
     "start_time": "2022-11-15T18:03:21.303546",
     "status": "completed"
    },
    "tags": []
   },
   "outputs": [],
   "source": [
    "import torch\n",
    "import torch.nn as nn\n",
    "import torch.nn.functional as F\n",
    "import torch.optim as optim\n",
    "from torch.utils.data import DataLoader, TensorDataset, random_split\n",
    "from sklearn.model_selection import KFold"
   ]
  },
  {
   "cell_type": "markdown",
   "id": "be262df4",
   "metadata": {
    "papermill": {
     "duration": 0.013022,
     "end_time": "2022-11-15T18:03:23.286571",
     "exception": false,
     "start_time": "2022-11-15T18:03:23.273549",
     "status": "completed"
    },
    "tags": []
   },
   "source": [
    "## Dataset & DataLoader"
   ]
  },
  {
   "cell_type": "code",
   "execution_count": 13,
   "id": "69731b0b",
   "metadata": {
    "execution": {
     "iopub.execute_input": "2022-11-15T18:03:23.316867Z",
     "iopub.status.busy": "2022-11-15T18:03:23.316177Z",
     "iopub.status.idle": "2022-11-15T18:03:23.324473Z",
     "shell.execute_reply": "2022-11-15T18:03:23.322798Z"
    },
    "papermill": {
     "duration": 0.026535,
     "end_time": "2022-11-15T18:03:23.327965",
     "exception": false,
     "start_time": "2022-11-15T18:03:23.301430",
     "status": "completed"
    },
    "tags": []
   },
   "outputs": [
    {
     "data": {
      "text/plain": [
       "5"
      ]
     },
     "execution_count": 13,
     "metadata": {},
     "output_type": "execute_result"
    }
   ],
   "source": [
    "kf = KFold(n_splits=5)\n",
    "kf.get_n_splits(train_inp)"
   ]
  },
  {
   "cell_type": "code",
   "execution_count": 14,
   "id": "39a84592",
   "metadata": {
    "execution": {
     "iopub.execute_input": "2022-11-15T18:03:23.359724Z",
     "iopub.status.busy": "2022-11-15T18:03:23.358269Z",
     "iopub.status.idle": "2022-11-15T18:03:23.371196Z",
     "shell.execute_reply": "2022-11-15T18:03:23.370076Z"
    },
    "papermill": {
     "duration": 0.031584,
     "end_time": "2022-11-15T18:03:23.374181",
     "exception": false,
     "start_time": "2022-11-15T18:03:23.342597",
     "status": "completed"
    },
    "tags": []
   },
   "outputs": [],
   "source": [
    "folds = [[train_index, val_index]\n",
    "         for train_index, val_index in kf.split(train_inp)]"
   ]
  },
  {
   "cell_type": "code",
   "execution_count": 15,
   "id": "4d03c25b",
   "metadata": {
    "execution": {
     "iopub.execute_input": "2022-11-15T18:03:23.405434Z",
     "iopub.status.busy": "2022-11-15T18:03:23.404377Z",
     "iopub.status.idle": "2022-11-15T18:03:23.413034Z",
     "shell.execute_reply": "2022-11-15T18:03:23.411706Z"
    },
    "papermill": {
     "duration": 0.026881,
     "end_time": "2022-11-15T18:03:23.415811",
     "exception": false,
     "start_time": "2022-11-15T18:03:23.388930",
     "status": "completed"
    },
    "tags": []
   },
   "outputs": [],
   "source": [
    "def set_up_data_loader(fold,\n",
    "                       train_inp=train_inp,\n",
    "                       train_tar=train_tar):\n",
    "    train_index, val_index = fold\n",
    "    \n",
    "    # Train\n",
    "    train_ds = TensorDataset(torch.from_numpy(train_inp[train_index]),\n",
    "                             torch.from_numpy(train_tar[train_index]))\n",
    "    \n",
    "    # Val\n",
    "    val_ds = TensorDataset(torch.from_numpy(train_inp[val_index]),\n",
    "                             torch.from_numpy(train_tar[val_index]))\n",
    "    \n",
    "    # Set up dataloader\n",
    "    batch_size = 512\n",
    "    train_loader = DataLoader(train_ds, \n",
    "                              batch_size=batch_size, \n",
    "                              shuffle=True)\n",
    "    val_loader = DataLoader(val_ds, \n",
    "                            batch_size=batch_size, \n",
    "                            shuffle=False)\n",
    "    \n",
    "    return train_loader, val_loader"
   ]
  },
  {
   "cell_type": "markdown",
   "id": "b80c9dfc",
   "metadata": {
    "papermill": {
     "duration": 0.014476,
     "end_time": "2022-11-15T18:03:23.445024",
     "exception": false,
     "start_time": "2022-11-15T18:03:23.430548",
     "status": "completed"
    },
    "tags": []
   },
   "source": [
    "### Define NN"
   ]
  },
  {
   "cell_type": "code",
   "execution_count": 16,
   "id": "f28224f5",
   "metadata": {
    "execution": {
     "iopub.execute_input": "2022-11-15T18:03:23.474136Z",
     "iopub.status.busy": "2022-11-15T18:03:23.473157Z",
     "iopub.status.idle": "2022-11-15T18:03:23.484174Z",
     "shell.execute_reply": "2022-11-15T18:03:23.483100Z"
    },
    "papermill": {
     "duration": 0.028031,
     "end_time": "2022-11-15T18:03:23.486872",
     "exception": false,
     "start_time": "2022-11-15T18:03:23.458841",
     "status": "completed"
    },
    "tags": []
   },
   "outputs": [],
   "source": [
    "class Net(nn.Module):\n",
    "    def __init__(self):\n",
    "        \"\"\"In the constructor we instantiate two nn.Linear modules and assign them as\n",
    "        member variables (self).\n",
    "        \"\"\"\n",
    "        super(Net, self).__init__()\n",
    "#         self.linear1 = nn.Linear(663, 128*2)\n",
    "        self.linear1 = nn.Linear(148, 128*2)\n",
    "        self.selu1 = nn.SELU(128*2)\n",
    "        self.linear2 = nn.Linear(128*2, 128*2)\n",
    "        self.selu2 = nn.SELU(128*2)\n",
    "        self.linear3 = nn.Linear(128*2, 128*2)\n",
    "        self.selu3 = nn.SELU(128*2)\n",
    "        self.linear4 = nn.Linear(128*2, 140)\n",
    "\n",
    "    def forward(self, x):\n",
    "        \"\"\"\n",
    "        In the forward function we accept a Tensor of input data and we must return\n",
    "        a Tensor of output data. We can use Modules defined in the constructor as\n",
    "        well as arbitrary operators on Tensors.\n",
    "        \"\"\"\n",
    "        x = self.linear1(x)\n",
    "        x = self.selu1(x)\n",
    "        x = self.linear2(x)\n",
    "        x = self.selu2(x)\n",
    "        x = self.linear3(x)\n",
    "        x = self.selu3(x)\n",
    "        x = self.linear4(x)\n",
    "        return x"
   ]
  },
  {
   "cell_type": "markdown",
   "id": "2e935e7f",
   "metadata": {
    "papermill": {
     "duration": 0.012557,
     "end_time": "2022-11-15T18:03:23.512386",
     "exception": false,
     "start_time": "2022-11-15T18:03:23.499829",
     "status": "completed"
    },
    "tags": []
   },
   "source": [
    "### Find LR"
   ]
  },
  {
   "cell_type": "code",
   "execution_count": 17,
   "id": "52045dda",
   "metadata": {
    "execution": {
     "iopub.execute_input": "2022-11-15T18:03:23.540986Z",
     "iopub.status.busy": "2022-11-15T18:03:23.540098Z",
     "iopub.status.idle": "2022-11-15T18:03:23.554941Z",
     "shell.execute_reply": "2022-11-15T18:03:23.553378Z"
    },
    "papermill": {
     "duration": 0.032045,
     "end_time": "2022-11-15T18:03:23.557569",
     "exception": false,
     "start_time": "2022-11-15T18:03:23.525524",
     "status": "completed"
    },
    "tags": []
   },
   "outputs": [],
   "source": [
    "def find_lr(model, train_loader, optimizer,\n",
    "            init_val=1e-8, final_val=10.0, beta=0.98):\n",
    "    # https://sgugger.github.io/how-do-you-find-a-good-learning-rate.html#how-do-you-find-a-good-learning-rate\n",
    "    \n",
    "    num = len(train_loader)\n",
    "    mult = (final_val / init_val) ** (1 / num)\n",
    "    lr = init_val\n",
    "    optimizer.param_groups[0]['lr'] = lr\n",
    "    \n",
    "    avg_loss = 0\n",
    "    best_loss = 0\n",
    "    batch_num = 0\n",
    "    smoothed_losses = []\n",
    "    raw_losses = []\n",
    "    log_lrs = []\n",
    "    \n",
    "    for i, (x, y) in enumerate(train_loader):\n",
    "        batch_num+=1\n",
    "        batch = x.shape[0]\n",
    "        \n",
    "        optimizer.zero_grad()\n",
    "        \n",
    "        # Prediction\n",
    "        preds = model(x)\n",
    "        vpreds = preds - torch.mean(preds)\n",
    "        vy = y - torch.mean(y)\n",
    "        corr = torch.sum(vpreds * vy) / \\\n",
    "               (torch.sqrt(torch.sum(vpreds ** 2)) *\n",
    "                torch.sqrt(torch.sum(vy ** 2)))\n",
    "        loss = -corr\n",
    "        loss_cpu = float(loss.detach().numpy())\n",
    "        \n",
    "        # Compute the smoothed loss\n",
    "        avg_loss = beta * avg_loss + (1 - beta) * loss_cpu\n",
    "        smoothed_loss = avg_loss / (1 - beta ** batch_num)\n",
    "        \n",
    "        if smoothed_loss < best_loss or batch_num==1:\n",
    "            best_loss = smoothed_loss\n",
    "            \n",
    "        raw_losses.append(loss_cpu)\n",
    "        smoothed_losses.append(smoothed_loss)\n",
    "        log_lrs.append(np.log10(lr))\n",
    "        \n",
    "        loss.backward()\n",
    "        optimizer.step()\n",
    "        \n",
    "        # Update the lr for the next batch\n",
    "        lr*=mult\n",
    "        optimizer.param_groups[0]['lr'] = lr\n",
    "    return log_lrs, raw_losses, smoothed_losses"
   ]
  },
  {
   "cell_type": "code",
   "execution_count": 18,
   "id": "24f88abb",
   "metadata": {
    "execution": {
     "iopub.execute_input": "2022-11-15T18:03:23.586122Z",
     "iopub.status.busy": "2022-11-15T18:03:23.585650Z",
     "iopub.status.idle": "2022-11-15T18:03:23.595148Z",
     "shell.execute_reply": "2022-11-15T18:03:23.593587Z"
    },
    "papermill": {
     "duration": 0.026776,
     "end_time": "2022-11-15T18:03:23.597560",
     "exception": false,
     "start_time": "2022-11-15T18:03:23.570784",
     "status": "completed"
    },
    "tags": []
   },
   "outputs": [],
   "source": [
    "def find_lr_for_one_fold(fold, \n",
    "                         train_inp=train_inp,\n",
    "                         train_tar=train_tar):\n",
    "    # Set up dataloader\n",
    "    train_loader, val_loader = set_up_data_loader(fold,\n",
    "                                                  train_inp=train_inp,\n",
    "                                                  train_tar=train_tar)\n",
    "    \n",
    "    weight_decays = [0.01, 0.001, 0.0001, 0.00001]\n",
    "    res = {}\n",
    "\n",
    "    for weight_decay in weight_decays:\n",
    "        net = Net()\n",
    "        optimizer = optim.Adam(net.parameters(), \n",
    "                               weight_decay=weight_decay)\n",
    "        log_lrs, raw_losses, smoothed_losses = find_lr(net, \n",
    "                                                       train_loader, \n",
    "                                                       optimizer)\n",
    "\n",
    "        # Find steepest gradient according to fast.ai\n",
    "        # https://fastai1.fast.ai/callbacks.lr_finder.html\n",
    "        gradients = np.gradient(raw_losses)\n",
    "        min_gradient = gradients.min()\n",
    "        for i in range(len(raw_losses)):\n",
    "            if gradients[i] == min_gradient:\n",
    "                print(f'weight decay: {weight_decay}')\n",
    "                print(f'learning rate w/ steepest gradient {log_lrs[i]:.4f}')\n",
    "                print()\n",
    "                break\n",
    "\n",
    "        res[weight_decay] = {\n",
    "            'log lrs': log_lrs,\n",
    "            'raw losses': raw_losses,\n",
    "            'smoothed losses': smoothed_losses\n",
    "        }\n",
    "        \n",
    "    return res"
   ]
  },
  {
   "cell_type": "code",
   "execution_count": 19,
   "id": "61072917",
   "metadata": {
    "execution": {
     "iopub.execute_input": "2022-11-15T18:03:23.626504Z",
     "iopub.status.busy": "2022-11-15T18:03:23.625765Z",
     "iopub.status.idle": "2022-11-15T18:03:23.634670Z",
     "shell.execute_reply": "2022-11-15T18:03:23.633162Z"
    },
    "papermill": {
     "duration": 0.027019,
     "end_time": "2022-11-15T18:03:23.637584",
     "exception": false,
     "start_time": "2022-11-15T18:03:23.610565",
     "status": "completed"
    },
    "tags": []
   },
   "outputs": [],
   "source": [
    "def plot_find_lr(res, cutoff):\n",
    "    weight_decays = [0.01, 0.001, 0.0001, 0.00001]\n",
    "    \n",
    "    plt.subplot(2, 1, 1)\n",
    "    for weight_decay in weight_decays:\n",
    "        plt.plot(res[weight_decay]['log lrs'], \n",
    "                 res[weight_decay]['raw losses'],\n",
    "                 label=f'wd={weight_decay}')\n",
    "    plt.vlines(cutoff, -0.9, 0.1, linestyles='--', colors='black')\n",
    "    plt.legend()\n",
    "    plt.title('raw losses')\n",
    "\n",
    "    plt.subplot(2, 1, 2)\n",
    "    for weight_decay in weight_decays:\n",
    "        plt.plot(res[weight_decay]['log lrs'], \n",
    "                 res[weight_decay]['smoothed losses'],\n",
    "                 label=weight_decay)\n",
    "    plt.legend()\n",
    "    plt.title('smoothed losses')\n",
    "\n",
    "    plt.tight_layout()"
   ]
  },
  {
   "cell_type": "code",
   "execution_count": 20,
   "id": "20bbd70b",
   "metadata": {
    "execution": {
     "iopub.execute_input": "2022-11-15T18:03:23.666877Z",
     "iopub.status.busy": "2022-11-15T18:03:23.666347Z",
     "iopub.status.idle": "2022-11-15T18:03:52.374455Z",
     "shell.execute_reply": "2022-11-15T18:03:52.373103Z"
    },
    "papermill": {
     "duration": 28.725869,
     "end_time": "2022-11-15T18:03:52.377216",
     "exception": false,
     "start_time": "2022-11-15T18:03:23.651347",
     "status": "completed"
    },
    "tags": []
   },
   "outputs": [
    {
     "name": "stdout",
     "output_type": "stream",
     "text": [
      "weight decay: 0.01\n",
      "learning rate w/ steepest gradient -0.7027\n",
      "\n",
      "weight decay: 0.001\n",
      "learning rate w/ steepest gradient -1.5135\n",
      "\n",
      "weight decay: 0.0001\n",
      "learning rate w/ steepest gradient -1.1081\n",
      "\n",
      "weight decay: 1e-05\n",
      "learning rate w/ steepest gradient -1.4324\n",
      "\n",
      "weight decay: 0.01\n",
      "learning rate w/ steepest gradient -0.9459\n",
      "\n",
      "weight decay: 0.001\n",
      "learning rate w/ steepest gradient 0.9189\n",
      "\n",
      "weight decay: 0.0001\n",
      "learning rate w/ steepest gradient -1.3514\n",
      "\n",
      "weight decay: 1e-05\n",
      "learning rate w/ steepest gradient -1.0270\n",
      "\n",
      "weight decay: 0.01\n",
      "learning rate w/ steepest gradient -0.7027\n",
      "\n",
      "weight decay: 0.001\n",
      "learning rate w/ steepest gradient -1.2703\n",
      "\n",
      "weight decay: 0.0001\n",
      "learning rate w/ steepest gradient -1.5135\n",
      "\n",
      "weight decay: 1e-05\n",
      "learning rate w/ steepest gradient -1.1892\n",
      "\n",
      "weight decay: 0.01\n",
      "learning rate w/ steepest gradient -1.1081\n",
      "\n",
      "weight decay: 0.001\n",
      "learning rate w/ steepest gradient -1.1081\n",
      "\n",
      "weight decay: 0.0001\n",
      "learning rate w/ steepest gradient -1.2703\n",
      "\n",
      "weight decay: 1e-05\n",
      "learning rate w/ steepest gradient -1.2703\n",
      "\n",
      "weight decay: 0.01\n",
      "learning rate w/ steepest gradient -0.7838\n",
      "\n",
      "weight decay: 0.001\n",
      "learning rate w/ steepest gradient 0.9189\n",
      "\n",
      "weight decay: 0.0001\n",
      "learning rate w/ steepest gradient -1.2703\n",
      "\n",
      "weight decay: 1e-05\n",
      "learning rate w/ steepest gradient -0.8649\n",
      "\n",
      "CPU times: user 56.1 s, sys: 351 ms, total: 56.4 s\n",
      "Wall time: 28.7 s\n"
     ]
    }
   ],
   "source": [
    "%%time\n",
    "folds_find_lr_res_dict = {i: find_lr_for_one_fold(folds[i])\n",
    "                          for i in range(len(folds))}"
   ]
  },
  {
   "cell_type": "markdown",
   "id": "f30f2ab3",
   "metadata": {
    "execution": {
     "iopub.execute_input": "2022-11-14T17:18:27.692708Z",
     "iopub.status.busy": "2022-11-14T17:18:27.691336Z",
     "iopub.status.idle": "2022-11-14T17:18:28.224586Z",
     "shell.execute_reply": "2022-11-14T17:18:28.223519Z",
     "shell.execute_reply.started": "2022-11-14T17:18:27.692656Z"
    },
    "papermill": {
     "duration": 0.014571,
     "end_time": "2022-11-15T18:03:52.408123",
     "exception": false,
     "start_time": "2022-11-15T18:03:52.393552",
     "status": "completed"
    },
    "tags": []
   },
   "source": [
    "#### Fold 0"
   ]
  },
  {
   "cell_type": "code",
   "execution_count": 21,
   "id": "df284360",
   "metadata": {
    "execution": {
     "iopub.execute_input": "2022-11-15T18:03:52.440953Z",
     "iopub.status.busy": "2022-11-15T18:03:52.439458Z",
     "iopub.status.idle": "2022-11-15T18:03:53.105133Z",
     "shell.execute_reply": "2022-11-15T18:03:53.103782Z"
    },
    "papermill": {
     "duration": 0.685632,
     "end_time": "2022-11-15T18:03:53.108563",
     "exception": false,
     "start_time": "2022-11-15T18:03:52.422931",
     "status": "completed"
    },
    "tags": []
   },
   "outputs": [
    {
     "data": {
      "image/png": "[encoded data removed]",
      "text/plain": [
       "<Figure size 576x576 with 2 Axes>"
      ]
     },
     "metadata": {},
     "output_type": "display_data"
    }
   ],
   "source": [
    "figsize(8, 8)\n",
    "plot_find_lr(folds_find_lr_res_dict[0], -2.7)"
   ]
  },
  {
   "cell_type": "markdown",
   "id": "9aa4fc59",
   "metadata": {
    "papermill": {
     "duration": 0.017056,
     "end_time": "2022-11-15T18:03:53.141216",
     "exception": false,
     "start_time": "2022-11-15T18:03:53.124160",
     "status": "completed"
    },
    "tags": []
   },
   "source": [
    "#### Fold 1"
   ]
  },
  {
   "cell_type": "code",
   "execution_count": 22,
   "id": "228e4546",
   "metadata": {
    "execution": {
     "iopub.execute_input": "2022-11-15T18:03:53.176321Z",
     "iopub.status.busy": "2022-11-15T18:03:53.175563Z",
     "iopub.status.idle": "2022-11-15T18:03:53.880666Z",
     "shell.execute_reply": "2022-11-15T18:03:53.879472Z"
    },
    "papermill": {
     "duration": 0.725821,
     "end_time": "2022-11-15T18:03:53.883605",
     "exception": false,
     "start_time": "2022-11-15T18:03:53.157784",
     "status": "completed"
    },
    "tags": []
   },
   "outputs": [
    {
     "data": {
      "image/png": "[encoded data removed]",
      "text/plain": [
       "<Figure size 576x576 with 2 Axes>"
      ]
     },
     "metadata": {},
     "output_type": "display_data"
    }
   ],
   "source": [
    "figsize(8, 8)\n",
    "plot_find_lr(folds_find_lr_res_dict[1], -2.7)"
   ]
  },
  {
   "cell_type": "markdown",
   "id": "4e1f7f3a",
   "metadata": {
    "papermill": {
     "duration": 0.016593,
     "end_time": "2022-11-15T18:03:53.917071",
     "exception": false,
     "start_time": "2022-11-15T18:03:53.900478",
     "status": "completed"
    },
    "tags": []
   },
   "source": [
    "#### Fold 2"
   ]
  },
  {
   "cell_type": "code",
   "execution_count": 23,
   "id": "8711f0bf",
   "metadata": {
    "execution": {
     "iopub.execute_input": "2022-11-15T18:03:53.953659Z",
     "iopub.status.busy": "2022-11-15T18:03:53.953028Z",
     "iopub.status.idle": "2022-11-15T18:03:54.670942Z",
     "shell.execute_reply": "2022-11-15T18:03:54.669740Z"
    },
    "papermill": {
     "duration": 0.739253,
     "end_time": "2022-11-15T18:03:54.673991",
     "exception": false,
     "start_time": "2022-11-15T18:03:53.934738",
     "status": "completed"
    },
    "tags": []
   },
   "outputs": [
    {
     "data": {
      "image/png": "[encoded data removed]",
      "text/plain": [
       "<Figure size 576x576 with 2 Axes>"
      ]
     },
     "metadata": {},
     "output_type": "display_data"
    }
   ],
   "source": [
    "figsize(8, 8)\n",
    "plot_find_lr(folds_find_lr_res_dict[2], -2.7)"
   ]
  },
  {
   "cell_type": "markdown",
   "id": "0859f0a9",
   "metadata": {
    "papermill": {
     "duration": 0.017684,
     "end_time": "2022-11-15T18:03:54.709844",
     "exception": false,
     "start_time": "2022-11-15T18:03:54.692160",
     "status": "completed"
    },
    "tags": []
   },
   "source": [
    "#### Fold 3"
   ]
  },
  {
   "cell_type": "code",
   "execution_count": 24,
   "id": "28a088b8",
   "metadata": {
    "execution": {
     "iopub.execute_input": "2022-11-15T18:03:54.747740Z",
     "iopub.status.busy": "2022-11-15T18:03:54.747314Z",
     "iopub.status.idle": "2022-11-15T18:03:55.554829Z",
     "shell.execute_reply": "2022-11-15T18:03:55.553548Z"
    },
    "papermill": {
     "duration": 0.829196,
     "end_time": "2022-11-15T18:03:55.557254",
     "exception": false,
     "start_time": "2022-11-15T18:03:54.728058",
     "status": "completed"
    },
    "tags": []
   },
   "outputs": [
    {
     "data": {
      "image/png": "[encoded data removed]",
      "text/plain": [
       "<Figure size 576x576 with 2 Axes>"
      ]
     },
     "metadata": {},
     "output_type": "display_data"
    }
   ],
   "source": [
    "figsize(8, 8)\n",
    "plot_find_lr(folds_find_lr_res_dict[3], -2.7)"
   ]
  },
  {
   "cell_type": "markdown",
   "id": "a6192c09",
   "metadata": {
    "papermill": {
     "duration": 0.019384,
     "end_time": "2022-11-15T18:03:55.596478",
     "exception": false,
     "start_time": "2022-11-15T18:03:55.577094",
     "status": "completed"
    },
    "tags": []
   },
   "source": [
    "#### Fold 4"
   ]
  },
  {
   "cell_type": "code",
   "execution_count": 25,
   "id": "b6183c64",
   "metadata": {
    "execution": {
     "iopub.execute_input": "2022-11-15T18:03:55.637114Z",
     "iopub.status.busy": "2022-11-15T18:03:55.636654Z",
     "iopub.status.idle": "2022-11-15T18:03:56.288792Z",
     "shell.execute_reply": "2022-11-15T18:03:56.287432Z"
    },
    "papermill": {
     "duration": 0.675512,
     "end_time": "2022-11-15T18:03:56.291333",
     "exception": false,
     "start_time": "2022-11-15T18:03:55.615821",
     "status": "completed"
    },
    "tags": []
   },
   "outputs": [
    {
     "data": {
      "image/png": "[encoded data removed]",
      "text/plain": [
       "<Figure size 576x576 with 2 Axes>"
      ]
     },
     "metadata": {},
     "output_type": "display_data"
    }
   ],
   "source": [
    "figsize(8, 8)\n",
    "plot_find_lr(folds_find_lr_res_dict[4], -2.7)"
   ]
  },
  {
   "cell_type": "markdown",
   "id": "fab6de6e",
   "metadata": {
    "papermill": {
     "duration": 0.020197,
     "end_time": "2022-11-15T18:03:56.332500",
     "exception": false,
     "start_time": "2022-11-15T18:03:56.312303",
     "status": "completed"
    },
    "tags": []
   },
   "source": [
    "### Train"
   ]
  },
  {
   "cell_type": "code",
   "execution_count": 26,
   "id": "b02c339b",
   "metadata": {
    "execution": {
     "iopub.execute_input": "2022-11-15T18:03:56.376076Z",
     "iopub.status.busy": "2022-11-15T18:03:56.375665Z",
     "iopub.status.idle": "2022-11-15T18:03:56.385576Z",
     "shell.execute_reply": "2022-11-15T18:03:56.384045Z"
    },
    "papermill": {
     "duration": 0.034998,
     "end_time": "2022-11-15T18:03:56.388354",
     "exception": false,
     "start_time": "2022-11-15T18:03:56.353356",
     "status": "completed"
    },
    "tags": []
   },
   "outputs": [],
   "source": [
    "def train_model(train_loader, model, optimizer, scheduler):\n",
    "    \n",
    "    model.train()\n",
    "    sum_corr = 0.0 # sum_loss = 0.0\n",
    "    total = 0\n",
    "    lrs = []\n",
    "    \n",
    "    for i, (x, y) in enumerate(train_loader):\n",
    "        batch = x.shape[0]\n",
    "        \n",
    "        preds = model(x)\n",
    "        vpreds = preds - torch.mean(preds)\n",
    "        vy = y - torch.mean(y)\n",
    "        corr = torch.sum(vpreds * vy) / \\\n",
    "               (torch.sqrt(torch.sum(vpreds ** 2)) *\n",
    "                torch.sqrt(torch.sum(vy ** 2)))\n",
    "        loss = -corr\n",
    "        \n",
    "        optimizer.zero_grad()\n",
    "        loss.backward()\n",
    "        \n",
    "        optimizer.step()\n",
    "        lrs.append(optimizer.param_groups[0]['lr'])\n",
    "        scheduler.step()\n",
    "        \n",
    "        total += batch\n",
    "        sum_corr += batch * corr\n",
    "    \n",
    "    train_corr = sum_corr/total \n",
    "    return train_corr, lrs"
   ]
  },
  {
   "cell_type": "code",
   "execution_count": 27,
   "id": "c2ec01be",
   "metadata": {
    "execution": {
     "iopub.execute_input": "2022-11-15T18:03:56.432176Z",
     "iopub.status.busy": "2022-11-15T18:03:56.431756Z",
     "iopub.status.idle": "2022-11-15T18:03:56.440179Z",
     "shell.execute_reply": "2022-11-15T18:03:56.438640Z"
    },
    "papermill": {
     "duration": 0.033182,
     "end_time": "2022-11-15T18:03:56.442532",
     "exception": false,
     "start_time": "2022-11-15T18:03:56.409350",
     "status": "completed"
    },
    "tags": []
   },
   "outputs": [],
   "source": [
    "def model_eval(model, val_loader):\n",
    "    model.eval()\n",
    "    sum_corr = 0.0 # sum_loss = 0.0\n",
    "    total = 0\n",
    "    \n",
    "    for i, (x, y) in enumerate(val_loader):\n",
    "        batch = x.shape[0]\n",
    "        \n",
    "        preds = model(x)\n",
    "        vpreds = preds - torch.mean(preds)\n",
    "        vy = y - torch.mean(y)\n",
    "        corr = torch.sum(vpreds * vy) / \\\n",
    "               (torch.sqrt(torch.sum(vpreds ** 2)) *\n",
    "                torch.sqrt(torch.sum(vy ** 2)))\n",
    "        loss = -corr\n",
    "        \n",
    "        total += batch\n",
    "        sum_corr += batch * corr\n",
    "        \n",
    "    val_corr = sum_corr/total\n",
    "    return val_corr"
   ]
  },
  {
   "cell_type": "code",
   "execution_count": 28,
   "id": "0c04c0c3",
   "metadata": {
    "execution": {
     "iopub.execute_input": "2022-11-15T18:03:56.485753Z",
     "iopub.status.busy": "2022-11-15T18:03:56.485324Z",
     "iopub.status.idle": "2022-11-15T18:03:56.496756Z",
     "shell.execute_reply": "2022-11-15T18:03:56.495343Z"
    },
    "papermill": {
     "duration": 0.036413,
     "end_time": "2022-11-15T18:03:56.499412",
     "exception": false,
     "start_time": "2022-11-15T18:03:56.462999",
     "status": "completed"
    },
    "tags": []
   },
   "outputs": [],
   "source": [
    "def train_one_fold(fold, max_lr, weight_decay, epochs,\n",
    "                   train_inp=train_inp, train_tar=train_tar):\n",
    "    # Set up dataloader\n",
    "    train_loader, val_loader = set_up_data_loader(fold,\n",
    "                                                  train_inp=train_inp,\n",
    "                                                  train_tar=train_tar)\n",
    "    \n",
    "    # Set up model\n",
    "    net = Net()\n",
    "\n",
    "    # Set up optimizer & scheduler\n",
    "    optimizer = optim.Adam(net.parameters(),\n",
    "                           weight_decay=weight_decay)\n",
    "    scheduler = torch.optim.lr_scheduler\\\n",
    "                     .OneCycleLR(optimizer, \n",
    "                                 max_lr=max_lr,\n",
    "                                 steps_per_epoch=len(train_loader),\n",
    "                                 epochs=epochs)\n",
    "    \n",
    "    # Train\n",
    "    train_corrs = []\n",
    "    val_corrs = []\n",
    "    num_epochs_run = 0\n",
    "    lrs = []\n",
    "    \n",
    "    for epoch in range(epochs):\n",
    "        num_epochs_run += 1\n",
    "\n",
    "        # train\n",
    "        print('epoch', epoch)\n",
    "        train_corr, epoch_lrs = train_model(train_loader, net, optimizer, scheduler)\n",
    "        train_corr = float(train_corr.detach().numpy())\n",
    "        train_corrs.append(train_corr)\n",
    "        lrs.append(epoch_lrs)\n",
    "        print(f'train corr: {train_corr:.4f}')\n",
    "\n",
    "        # val\n",
    "        val_corr = model_eval(net, val_loader)\n",
    "        val_corr = float(val_corr.detach().numpy())\n",
    "        val_corrs.append(val_corr)\n",
    "        print(f'val corr: {val_corr:.4f}')\n",
    "        print()\n",
    "        \n",
    "    return net, lrs, train_corrs[-1], val_corrs[-1]"
   ]
  },
  {
   "cell_type": "code",
   "execution_count": 29,
   "id": "0d2567dc",
   "metadata": {
    "execution": {
     "iopub.execute_input": "2022-11-15T18:03:56.542418Z",
     "iopub.status.busy": "2022-11-15T18:03:56.542020Z",
     "iopub.status.idle": "2022-11-15T18:03:56.549505Z",
     "shell.execute_reply": "2022-11-15T18:03:56.548350Z"
    },
    "papermill": {
     "duration": 0.032695,
     "end_time": "2022-11-15T18:03:56.552441",
     "exception": false,
     "start_time": "2022-11-15T18:03:56.519746",
     "status": "completed"
    },
    "tags": []
   },
   "outputs": [
    {
     "data": {
      "text/plain": [
       "0.001995262314968879"
      ]
     },
     "execution_count": 29,
     "metadata": {},
     "output_type": "execute_result"
    }
   ],
   "source": [
    "10**(-2.7)"
   ]
  },
  {
   "cell_type": "code",
   "execution_count": 30,
   "id": "c966021f",
   "metadata": {
    "execution": {
     "iopub.execute_input": "2022-11-15T18:03:56.596426Z",
     "iopub.status.busy": "2022-11-15T18:03:56.596045Z",
     "iopub.status.idle": "2022-11-15T18:08:12.891038Z",
     "shell.execute_reply": "2022-11-15T18:08:12.888756Z"
    },
    "papermill": {
     "duration": 256.320204,
     "end_time": "2022-11-15T18:08:12.894046",
     "exception": false,
     "start_time": "2022-11-15T18:03:56.573842",
     "status": "completed"
    },
    "tags": []
   },
   "outputs": [
    {
     "name": "stdout",
     "output_type": "stream",
     "text": [
      "Start training fold 0...\n",
      "\n",
      "epoch 0\n",
      "train corr: 0.6107\n",
      "val corr: 0.8280\n",
      "\n",
      "epoch 1\n",
      "train corr: 0.8733\n",
      "val corr: 0.8801\n",
      "\n",
      "epoch 2\n",
      "train corr: 0.8874\n",
      "val corr: 0.8891\n",
      "\n",
      "epoch 3\n",
      "train corr: 0.8917\n",
      "val corr: 0.8921\n",
      "\n",
      "epoch 4\n",
      "train corr: 0.8934\n",
      "val corr: 0.8938\n",
      "\n",
      "epoch 5\n",
      "train corr: 0.8943\n",
      "val corr: 0.8949\n",
      "\n",
      "epoch 6\n",
      "train corr: 0.8953\n",
      "val corr: 0.8960\n",
      "\n",
      "epoch 7\n",
      "train corr: 0.8965\n",
      "val corr: 0.8968\n",
      "\n",
      "epoch 8\n",
      "train corr: 0.8976\n",
      "val corr: 0.8974\n",
      "\n",
      "epoch 9\n",
      "train corr: 0.8987\n",
      "val corr: 0.8977\n",
      "\n",
      "epoch 10\n",
      "train corr: 0.8994\n",
      "val corr: 0.8985\n",
      "\n",
      "epoch 11\n",
      "train corr: 0.9002\n",
      "val corr: 0.8989\n",
      "\n",
      "epoch 12\n",
      "train corr: 0.9007\n",
      "val corr: 0.8997\n",
      "\n",
      "epoch 13\n",
      "train corr: 0.9013\n",
      "val corr: 0.8999\n",
      "\n",
      "epoch 14\n",
      "train corr: 0.9016\n",
      "val corr: 0.9006\n",
      "\n",
      "epoch 15\n",
      "train corr: 0.9020\n",
      "val corr: 0.9005\n",
      "\n",
      "epoch 16\n",
      "train corr: 0.9024\n",
      "val corr: 0.9003\n",
      "\n",
      "epoch 17\n",
      "train corr: 0.9029\n",
      "val corr: 0.9008\n",
      "\n",
      "epoch 18\n",
      "train corr: 0.9033\n",
      "val corr: 0.9005\n",
      "\n",
      "epoch 19\n",
      "train corr: 0.9035\n",
      "val corr: 0.9009\n",
      "\n",
      "epoch 20\n",
      "train corr: 0.9039\n",
      "val corr: 0.9013\n",
      "\n",
      "epoch 21\n",
      "train corr: 0.9041\n",
      "val corr: 0.9015\n",
      "\n",
      "epoch 22\n",
      "train corr: 0.9045\n",
      "val corr: 0.9015\n",
      "\n",
      "epoch 23\n",
      "train corr: 0.9048\n",
      "val corr: 0.9018\n",
      "\n",
      "epoch 24\n",
      "train corr: 0.9051\n",
      "val corr: 0.9015\n",
      "\n",
      "epoch 25\n",
      "train corr: 0.9053\n",
      "val corr: 0.9020\n",
      "\n",
      "epoch 26\n",
      "train corr: 0.9055\n",
      "val corr: 0.9018\n",
      "\n",
      "epoch 27\n",
      "train corr: 0.9057\n",
      "val corr: 0.9020\n",
      "\n",
      "epoch 28\n",
      "train corr: 0.9058\n",
      "val corr: 0.9021\n",
      "\n",
      "epoch 29\n",
      "train corr: 0.9059\n",
      "val corr: 0.9020\n",
      "\n",
      "Fold 0 done.\n",
      "\n",
      "Start training fold 1...\n",
      "\n",
      "epoch 0\n",
      "train corr: 0.5907\n",
      "val corr: 0.8378\n",
      "\n",
      "epoch 1\n",
      "train corr: 0.8719\n",
      "val corr: 0.8804\n",
      "\n",
      "epoch 2\n",
      "train corr: 0.8871\n",
      "val corr: 0.8891\n",
      "\n",
      "epoch 3\n",
      "train corr: 0.8918\n",
      "val corr: 0.8923\n",
      "\n",
      "epoch 4\n",
      "train corr: 0.8935\n",
      "val corr: 0.8931\n",
      "\n",
      "epoch 5\n",
      "train corr: 0.8944\n",
      "val corr: 0.8941\n",
      "\n",
      "epoch 6\n",
      "train corr: 0.8955\n",
      "val corr: 0.8952\n",
      "\n",
      "epoch 7\n",
      "train corr: 0.8966\n",
      "val corr: 0.8963\n",
      "\n",
      "epoch 8\n",
      "train corr: 0.8978\n",
      "val corr: 0.8969\n",
      "\n",
      "epoch 9\n",
      "train corr: 0.8987\n",
      "val corr: 0.8968\n",
      "\n",
      "epoch 10\n",
      "train corr: 0.8995\n",
      "val corr: 0.8971\n",
      "\n",
      "epoch 11\n",
      "train corr: 0.9002\n",
      "val corr: 0.8987\n",
      "\n",
      "epoch 12\n",
      "train corr: 0.9008\n",
      "val corr: 0.8985\n",
      "\n",
      "epoch 13\n",
      "train corr: 0.9014\n",
      "val corr: 0.8992\n",
      "\n",
      "epoch 14\n",
      "train corr: 0.9018\n",
      "val corr: 0.8993\n",
      "\n",
      "epoch 15\n",
      "train corr: 0.9023\n",
      "val corr: 0.8994\n",
      "\n",
      "epoch 16\n",
      "train corr: 0.9027\n",
      "val corr: 0.9003\n",
      "\n",
      "epoch 17\n",
      "train corr: 0.9030\n",
      "val corr: 0.9005\n",
      "\n",
      "epoch 18\n",
      "train corr: 0.9033\n",
      "val corr: 0.9005\n",
      "\n",
      "epoch 19\n",
      "train corr: 0.9037\n",
      "val corr: 0.9008\n",
      "\n",
      "epoch 20\n",
      "train corr: 0.9040\n",
      "val corr: 0.9004\n",
      "\n",
      "epoch 21\n",
      "train corr: 0.9044\n",
      "val corr: 0.9007\n",
      "\n",
      "epoch 22\n",
      "train corr: 0.9047\n",
      "val corr: 0.9011\n",
      "\n",
      "epoch 23\n",
      "train corr: 0.9050\n",
      "val corr: 0.9013\n",
      "\n",
      "epoch 24\n",
      "train corr: 0.9052\n",
      "val corr: 0.9015\n",
      "\n",
      "epoch 25\n",
      "train corr: 0.9055\n",
      "val corr: 0.9016\n",
      "\n",
      "epoch 26\n",
      "train corr: 0.9057\n",
      "val corr: 0.9016\n",
      "\n",
      "epoch 27\n",
      "train corr: 0.9059\n",
      "val corr: 0.9016\n",
      "\n",
      "epoch 28\n",
      "train corr: 0.9060\n",
      "val corr: 0.9016\n",
      "\n",
      "epoch 29\n",
      "train corr: 0.9061\n",
      "val corr: 0.9017\n",
      "\n",
      "Fold 1 done.\n",
      "\n",
      "Start training fold 2...\n",
      "\n",
      "epoch 0\n",
      "train corr: 0.5971\n",
      "val corr: 0.8408\n",
      "\n",
      "epoch 1\n",
      "train corr: 0.8729\n",
      "val corr: 0.8801\n",
      "\n",
      "epoch 2\n",
      "train corr: 0.8874\n",
      "val corr: 0.8889\n",
      "\n",
      "epoch 3\n",
      "train corr: 0.8921\n",
      "val corr: 0.8920\n",
      "\n",
      "epoch 4\n",
      "train corr: 0.8937\n",
      "val corr: 0.8926\n",
      "\n",
      "epoch 5\n",
      "train corr: 0.8946\n",
      "val corr: 0.8932\n",
      "\n",
      "epoch 6\n",
      "train corr: 0.8954\n",
      "val corr: 0.8945\n",
      "\n",
      "epoch 7\n",
      "train corr: 0.8966\n",
      "val corr: 0.8947\n",
      "\n",
      "epoch 8\n",
      "train corr: 0.8975\n",
      "val corr: 0.8958\n",
      "\n",
      "epoch 9\n",
      "train corr: 0.8987\n",
      "val corr: 0.8974\n",
      "\n",
      "epoch 10\n",
      "train corr: 0.8994\n",
      "val corr: 0.8986\n",
      "\n",
      "epoch 11\n",
      "train corr: 0.9001\n",
      "val corr: 0.8991\n",
      "\n",
      "epoch 12\n",
      "train corr: 0.9007\n",
      "val corr: 0.8994\n",
      "\n",
      "epoch 13\n",
      "train corr: 0.9012\n",
      "val corr: 0.8998\n",
      "\n",
      "epoch 14\n",
      "train corr: 0.9017\n",
      "val corr: 0.9004\n",
      "\n",
      "epoch 15\n",
      "train corr: 0.9020\n",
      "val corr: 0.9007\n",
      "\n",
      "epoch 16\n",
      "train corr: 0.9024\n",
      "val corr: 0.9007\n",
      "\n",
      "epoch 17\n",
      "train corr: 0.9028\n",
      "val corr: 0.9012\n",
      "\n",
      "epoch 18\n",
      "train corr: 0.9032\n",
      "val corr: 0.9010\n",
      "\n",
      "epoch 19\n",
      "train corr: 0.9034\n",
      "val corr: 0.9016\n",
      "\n",
      "epoch 20\n",
      "train corr: 0.9038\n",
      "val corr: 0.9019\n",
      "\n",
      "epoch 21\n",
      "train corr: 0.9042\n",
      "val corr: 0.9019\n",
      "\n",
      "epoch 22\n",
      "train corr: 0.9044\n",
      "val corr: 0.9023\n",
      "\n",
      "epoch 23\n",
      "train corr: 0.9047\n",
      "val corr: 0.9023\n",
      "\n",
      "epoch 24\n",
      "train corr: 0.9050\n",
      "val corr: 0.9024\n",
      "\n",
      "epoch 25\n",
      "train corr: 0.9052\n",
      "val corr: 0.9026\n",
      "\n",
      "epoch 26\n",
      "train corr: 0.9054\n",
      "val corr: 0.9026\n",
      "\n",
      "epoch 27\n",
      "train corr: 0.9056\n",
      "val corr: 0.9027\n",
      "\n",
      "epoch 28\n",
      "train corr: 0.9057\n",
      "val corr: 0.9027\n",
      "\n",
      "epoch 29\n",
      "train corr: 0.9058\n",
      "val corr: 0.9027\n",
      "\n",
      "Fold 2 done.\n",
      "\n",
      "Start training fold 3...\n",
      "\n",
      "epoch 0\n",
      "train corr: 0.6058\n",
      "val corr: 0.8567\n",
      "\n",
      "epoch 1\n",
      "train corr: 0.8730\n",
      "val corr: 0.8864\n",
      "\n",
      "epoch 2\n",
      "train corr: 0.8866\n",
      "val corr: 0.8942\n",
      "\n",
      "epoch 3\n",
      "train corr: 0.8911\n",
      "val corr: 0.8968\n",
      "\n",
      "epoch 4\n",
      "train corr: 0.8927\n",
      "val corr: 0.8977\n",
      "\n",
      "epoch 5\n",
      "train corr: 0.8937\n",
      "val corr: 0.8987\n",
      "\n",
      "epoch 6\n",
      "train corr: 0.8949\n",
      "val corr: 0.8993\n",
      "\n",
      "epoch 7\n",
      "train corr: 0.8962\n",
      "val corr: 0.9003\n",
      "\n",
      "epoch 8\n",
      "train corr: 0.8971\n",
      "val corr: 0.9012\n",
      "\n",
      "epoch 9\n",
      "train corr: 0.8981\n",
      "val corr: 0.9017\n",
      "\n",
      "epoch 10\n",
      "train corr: 0.8989\n",
      "val corr: 0.9018\n",
      "\n",
      "epoch 11\n",
      "train corr: 0.8996\n",
      "val corr: 0.9027\n",
      "\n",
      "epoch 12\n",
      "train corr: 0.9001\n",
      "val corr: 0.9031\n",
      "\n",
      "epoch 13\n",
      "train corr: 0.9007\n",
      "val corr: 0.9036\n",
      "\n",
      "epoch 14\n",
      "train corr: 0.9012\n",
      "val corr: 0.9038\n",
      "\n",
      "epoch 15\n",
      "train corr: 0.9016\n",
      "val corr: 0.9041\n",
      "\n",
      "epoch 16\n",
      "train corr: 0.9020\n",
      "val corr: 0.9045\n",
      "\n",
      "epoch 17\n",
      "train corr: 0.9023\n",
      "val corr: 0.9044\n",
      "\n",
      "epoch 18\n",
      "train corr: 0.9027\n",
      "val corr: 0.9049\n",
      "\n",
      "epoch 19\n",
      "train corr: 0.9030\n",
      "val corr: 0.9047\n",
      "\n",
      "epoch 20\n",
      "train corr: 0.9034\n",
      "val corr: 0.9049\n",
      "\n",
      "epoch 21\n",
      "train corr: 0.9037\n",
      "val corr: 0.9052\n",
      "\n",
      "epoch 22\n",
      "train corr: 0.9040\n",
      "val corr: 0.9053\n",
      "\n",
      "epoch 23\n",
      "train corr: 0.9043\n",
      "val corr: 0.9055\n",
      "\n",
      "epoch 24\n",
      "train corr: 0.9046\n",
      "val corr: 0.9054\n",
      "\n",
      "epoch 25\n",
      "train corr: 0.9048\n",
      "val corr: 0.9056\n",
      "\n",
      "epoch 26\n",
      "train corr: 0.9050\n",
      "val corr: 0.9057\n",
      "\n",
      "epoch 27\n",
      "train corr: 0.9052\n",
      "val corr: 0.9056\n",
      "\n",
      "epoch 28\n",
      "train corr: 0.9053\n",
      "val corr: 0.9057\n",
      "\n",
      "epoch 29\n",
      "train corr: 0.9054\n",
      "val corr: 0.9057\n",
      "\n",
      "Fold 3 done.\n",
      "\n",
      "Start training fold 4...\n",
      "\n",
      "epoch 0\n",
      "train corr: 0.6165\n",
      "val corr: 0.8161\n",
      "\n",
      "epoch 1\n",
      "train corr: 0.8769\n",
      "val corr: 0.8654\n",
      "\n",
      "epoch 2\n",
      "train corr: 0.8911\n",
      "val corr: 0.8743\n",
      "\n",
      "epoch 3\n",
      "train corr: 0.8953\n",
      "val corr: 0.8769\n",
      "\n",
      "epoch 4\n",
      "train corr: 0.8971\n",
      "val corr: 0.8784\n",
      "\n",
      "epoch 5\n",
      "train corr: 0.8981\n",
      "val corr: 0.8798\n",
      "\n",
      "epoch 6\n",
      "train corr: 0.8990\n",
      "val corr: 0.8812\n",
      "\n",
      "epoch 7\n",
      "train corr: 0.9002\n",
      "val corr: 0.8820\n",
      "\n",
      "epoch 8\n",
      "train corr: 0.9011\n",
      "val corr: 0.8833\n",
      "\n",
      "epoch 9\n",
      "train corr: 0.9020\n",
      "val corr: 0.8840\n",
      "\n",
      "epoch 10\n",
      "train corr: 0.9029\n",
      "val corr: 0.8851\n",
      "\n",
      "epoch 11\n",
      "train corr: 0.9036\n",
      "val corr: 0.8853\n",
      "\n",
      "epoch 12\n",
      "train corr: 0.9040\n",
      "val corr: 0.8861\n",
      "\n",
      "epoch 13\n",
      "train corr: 0.9045\n",
      "val corr: 0.8857\n",
      "\n",
      "epoch 14\n",
      "train corr: 0.9050\n",
      "val corr: 0.8868\n",
      "\n",
      "epoch 15\n",
      "train corr: 0.9054\n",
      "val corr: 0.8870\n",
      "\n",
      "epoch 16\n",
      "train corr: 0.9058\n",
      "val corr: 0.8869\n",
      "\n",
      "epoch 17\n",
      "train corr: 0.9061\n",
      "val corr: 0.8878\n",
      "\n",
      "epoch 18\n",
      "train corr: 0.9065\n",
      "val corr: 0.8881\n",
      "\n",
      "epoch 19\n",
      "train corr: 0.9068\n",
      "val corr: 0.8879\n",
      "\n",
      "epoch 20\n",
      "train corr: 0.9071\n",
      "val corr: 0.8884\n",
      "\n",
      "epoch 21\n",
      "train corr: 0.9074\n",
      "val corr: 0.8882\n",
      "\n",
      "epoch 22\n",
      "train corr: 0.9077\n",
      "val corr: 0.8886\n",
      "\n",
      "epoch 23\n",
      "train corr: 0.9080\n",
      "val corr: 0.8885\n",
      "\n",
      "epoch 24\n",
      "train corr: 0.9082\n",
      "val corr: 0.8886\n",
      "\n",
      "epoch 25\n",
      "train corr: 0.9084\n",
      "val corr: 0.8889\n",
      "\n",
      "epoch 26\n",
      "train corr: 0.9086\n",
      "val corr: 0.8890\n",
      "\n",
      "epoch 27\n",
      "train corr: 0.9088\n",
      "val corr: 0.8890\n",
      "\n",
      "epoch 28\n",
      "train corr: 0.9089\n",
      "val corr: 0.8890\n",
      "\n",
      "epoch 29\n",
      "train corr: 0.9090\n",
      "val corr: 0.8890\n",
      "\n",
      "Fold 4 done.\n",
      "\n",
      "CV Score\n",
      "Train Correlation: 0.9064\n",
      "Val Correlation: 0.9002\n",
      "CPU times: user 8min 13s, sys: 12 s, total: 8min 25s\n",
      "Wall time: 4min 16s\n"
     ]
    }
   ],
   "source": [
    "%%time\n",
    "max_lr = 0.002\n",
    "weight_decay = 0.000001\n",
    "epochs = 30\n",
    "train_corrs = []\n",
    "val_corrs = []\n",
    "\n",
    "net_dict = {}\n",
    "\n",
    "for idx in range(len(folds)):\n",
    "    print(f'Start training fold {idx}...')\n",
    "    print()\n",
    "\n",
    "    net, _, train_corr, val_corr = train_one_fold(folds[idx], \n",
    "                                                  max_lr=max_lr, \n",
    "                                                  weight_decay=weight_decay, \n",
    "                                                  epochs=epochs)\n",
    "    \n",
    "    print(f'Fold {idx} done.')\n",
    "    print()\n",
    "    \n",
    "    net_dict[idx] = net\n",
    "    train_corrs.append(train_corr)\n",
    "    val_corrs.append(val_corr)\n",
    "    \n",
    "print('CV Score')\n",
    "print(f'Train Correlation: {np.mean(train_corrs):.4f}')\n",
    "print(f'Val Correlation: {np.mean(val_corrs):.4f}')"
   ]
  },
  {
   "cell_type": "code",
   "execution_count": 31,
   "id": "0aafaa99",
   "metadata": {
    "execution": {
     "iopub.execute_input": "2022-11-15T18:08:12.961923Z",
     "iopub.status.busy": "2022-11-15T18:08:12.961242Z",
     "iopub.status.idle": "2022-11-15T18:08:12.965762Z",
     "shell.execute_reply": "2022-11-15T18:08:12.964970Z"
    },
    "papermill": {
     "duration": 0.040347,
     "end_time": "2022-11-15T18:08:12.967977",
     "exception": false,
     "start_time": "2022-11-15T18:08:12.927630",
     "status": "completed"
    },
    "tags": []
   },
   "outputs": [],
   "source": [
    "# del train_inp, train_tar\n",
    "# gc.collect()"
   ]
  },
  {
   "cell_type": "markdown",
   "id": "9f11efb9",
   "metadata": {
    "papermill": {
     "duration": 0.030291,
     "end_time": "2022-11-15T18:08:13.028513",
     "exception": false,
     "start_time": "2022-11-15T18:08:12.998222",
     "status": "completed"
    },
    "tags": []
   },
   "source": [
    "## CV (In case Y gets standardized)"
   ]
  },
  {
   "cell_type": "code",
   "execution_count": 32,
   "id": "c1465c36",
   "metadata": {
    "execution": {
     "iopub.execute_input": "2022-11-15T18:08:13.091481Z",
     "iopub.status.busy": "2022-11-15T18:08:13.090792Z",
     "iopub.status.idle": "2022-11-15T18:08:13.097549Z",
     "shell.execute_reply": "2022-11-15T18:08:13.096725Z"
    },
    "papermill": {
     "duration": 0.041067,
     "end_time": "2022-11-15T18:08:13.099903",
     "exception": false,
     "start_time": "2022-11-15T18:08:13.058836",
     "status": "completed"
    },
    "tags": []
   },
   "outputs": [],
   "source": [
    "def correlation_score(y_true, y_pred):\n",
    "    if type(y_true) == pd.DataFrame: y_true = y_true.values\n",
    "    if type(y_pred) == pd.DataFrame: y_pred = y_pred.values\n",
    "    corrsum = 0\n",
    "    for i in range(len(y_true)):\n",
    "        corrsum += np.corrcoef(y_true[i], y_pred[i])[1, 0]\n",
    "    return corrsum / len(y_true)"
   ]
  },
  {
   "cell_type": "code",
   "execution_count": 33,
   "id": "a2496db4",
   "metadata": {
    "execution": {
     "iopub.execute_input": "2022-11-15T18:08:13.162884Z",
     "iopub.status.busy": "2022-11-15T18:08:13.162192Z",
     "iopub.status.idle": "2022-11-15T18:08:20.836575Z",
     "shell.execute_reply": "2022-11-15T18:08:20.835053Z"
    },
    "papermill": {
     "duration": 7.709347,
     "end_time": "2022-11-15T18:08:20.839445",
     "exception": false,
     "start_time": "2022-11-15T18:08:13.130098",
     "status": "completed"
    },
    "tags": []
   },
   "outputs": [
    {
     "name": "stdout",
     "output_type": "stream",
     "text": [
      "fold 0: 0.9019\n",
      "fold 1: 0.9015\n",
      "fold 2: 0.9023\n",
      "fold 3: 0.9055\n",
      "fold 4: 0.8887\n",
      "\n",
      "0.8999679441693302\n",
      "CPU times: user 8.05 s, sys: 5.96 ms, total: 8.05 s\n",
      "Wall time: 7.66 s\n"
     ]
    }
   ],
   "source": [
    "%%time\n",
    "cv_corrs = []\n",
    "\n",
    "for i, fold in enumerate(folds):\n",
    "    with torch.no_grad():\n",
    "        net = net_dict[i]\n",
    "        net.eval()\n",
    "        val_set = torch.from_numpy(train_inp[fold[1]])\n",
    "        preds = net(val_set).detach().numpy()\n",
    "        corr = correlation_score(train_tar_cp[fold[1]], preds)\n",
    "        print(f'fold {i}: {corr:.4f}')\n",
    "        cv_corrs.append(corr)\n",
    "\n",
    "print()\n",
    "print(np.mean(cv_corrs))"
   ]
  },
  {
   "cell_type": "markdown",
   "id": "089547f1",
   "metadata": {
    "papermill": {
     "duration": 0.030377,
     "end_time": "2022-11-15T18:08:20.900814",
     "exception": false,
     "start_time": "2022-11-15T18:08:20.870437",
     "status": "completed"
    },
    "tags": []
   },
   "source": [
    "## Prediction"
   ]
  },
  {
   "cell_type": "code",
   "execution_count": 34,
   "id": "3bbaf075",
   "metadata": {
    "execution": {
     "iopub.execute_input": "2022-11-15T18:08:20.967637Z",
     "iopub.status.busy": "2022-11-15T18:08:20.966348Z",
     "iopub.status.idle": "2022-11-15T18:08:21.474392Z",
     "shell.execute_reply": "2022-11-15T18:08:21.473204Z"
    },
    "papermill": {
     "duration": 0.543757,
     "end_time": "2022-11-15T18:08:21.476650",
     "exception": false,
     "start_time": "2022-11-15T18:08:20.932893",
     "status": "completed"
    },
    "tags": []
   },
   "outputs": [
    {
     "name": "stdout",
     "output_type": "stream",
     "text": [
      "CPU times: user 7.96 ms, sys: 18.9 ms, total: 26.9 ms\n",
      "Wall time: 501 ms\n"
     ]
    }
   ],
   "source": [
    "%%time\n",
    "test_inp = load_pickle(f'{DATA_DIR}/test_inp')[:, :-1]\n",
    "test_inp = torch.from_numpy(test_inp)"
   ]
  },
  {
   "cell_type": "code",
   "execution_count": 35,
   "id": "edbef017",
   "metadata": {
    "execution": {
     "iopub.execute_input": "2022-11-15T18:08:21.541939Z",
     "iopub.status.busy": "2022-11-15T18:08:21.541300Z",
     "iopub.status.idle": "2022-11-15T18:08:22.896504Z",
     "shell.execute_reply": "2022-11-15T18:08:22.895134Z"
    },
    "papermill": {
     "duration": 1.390635,
     "end_time": "2022-11-15T18:08:22.899472",
     "exception": false,
     "start_time": "2022-11-15T18:08:21.508837",
     "status": "completed"
    },
    "tags": []
   },
   "outputs": [
    {
     "name": "stdout",
     "output_type": "stream",
     "text": [
      "CPU times: user 2.16 s, sys: 528 ms, total: 2.69 s\n",
      "Wall time: 1.35 s\n"
     ]
    }
   ],
   "source": [
    "%%time\n",
    "test_preds = []\n",
    "with torch.no_grad():\n",
    "    for net in net_dict.values():\n",
    "        net.eval()\n",
    "        test_preds.append(net(test_inp).detach().numpy())"
   ]
  },
  {
   "cell_type": "code",
   "execution_count": 36,
   "id": "695f1076",
   "metadata": {
    "execution": {
     "iopub.execute_input": "2022-11-15T18:08:22.968437Z",
     "iopub.status.busy": "2022-11-15T18:08:22.967658Z",
     "iopub.status.idle": "2022-11-15T18:08:23.086564Z",
     "shell.execute_reply": "2022-11-15T18:08:23.085241Z"
    },
    "papermill": {
     "duration": 0.155402,
     "end_time": "2022-11-15T18:08:23.089336",
     "exception": false,
     "start_time": "2022-11-15T18:08:22.933934",
     "status": "completed"
    },
    "tags": []
   },
   "outputs": [
    {
     "data": {
      "text/plain": [
       "(48663, 140)"
      ]
     },
     "execution_count": 36,
     "metadata": {},
     "output_type": "execute_result"
    }
   ],
   "source": [
    "test_tar_preds = np.sum(test_preds, axis=0) / len(folds)\n",
    "test_tar_preds.shape"
   ]
  },
  {
   "cell_type": "code",
   "execution_count": 37,
   "id": "d7962662",
   "metadata": {
    "execution": {
     "iopub.execute_input": "2022-11-15T18:08:23.154183Z",
     "iopub.status.busy": "2022-11-15T18:08:23.153492Z",
     "iopub.status.idle": "2022-11-15T18:08:23.300188Z",
     "shell.execute_reply": "2022-11-15T18:08:23.298771Z"
    },
    "papermill": {
     "duration": 0.182146,
     "end_time": "2022-11-15T18:08:23.303249",
     "exception": false,
     "start_time": "2022-11-15T18:08:23.121103",
     "status": "completed"
    },
    "tags": []
   },
   "outputs": [
    {
     "data": {
      "text/plain": [
       "190"
      ]
     },
     "execution_count": 37,
     "metadata": {},
     "output_type": "execute_result"
    }
   ],
   "source": [
    "del test_inp\n",
    "gc.collect()"
   ]
  },
  {
   "cell_type": "markdown",
   "id": "f6667faf",
   "metadata": {
    "papermill": {
     "duration": 0.032956,
     "end_time": "2022-11-15T18:08:23.369448",
     "exception": false,
     "start_time": "2022-11-15T18:08:23.336492",
     "status": "completed"
    },
    "tags": []
   },
   "source": [
    "## Creating Submission"
   ]
  },
  {
   "cell_type": "code",
   "execution_count": 38,
   "id": "7e0996e0",
   "metadata": {
    "execution": {
     "iopub.execute_input": "2022-11-15T18:08:23.433708Z",
     "iopub.status.busy": "2022-11-15T18:08:23.433234Z",
     "iopub.status.idle": "2022-11-15T18:08:24.561574Z",
     "shell.execute_reply": "2022-11-15T18:08:24.560251Z"
    },
    "papermill": {
     "duration": 1.163863,
     "end_time": "2022-11-15T18:08:24.564179",
     "exception": false,
     "start_time": "2022-11-15T18:08:23.400316",
     "status": "completed"
    },
    "tags": []
   },
   "outputs": [
    {
     "name": "stdout",
     "output_type": "stream",
     "text": [
      "total 7.1G\r\n",
      "-rw-r--r-- 1 nobody nogroup  25K Nov 14 17:21 __notebook__.ipynb\r\n",
      "-rw-r--r-- 1 nobody nogroup  25K Nov 14 17:21 __output__.json\r\n",
      "-rw-r--r-- 1 nobody nogroup 293K Nov 14 17:21 __results__.html\r\n",
      "-rw-r--r-- 1 nobody nogroup    0 Nov 14 17:21 custom.css\r\n",
      "-rw-r--r-- 1 nobody nogroup 359M Nov 14 17:21 evaluation_ids.parquet\r\n",
      "-rw-r--r-- 1 nobody nogroup 3.8M Nov 14 17:21 metadata.parquet\r\n",
      "-rw-r--r-- 1 nobody nogroup 108K Nov 14 17:21 metadata_cite_day_2_donor_27678.parquet\r\n",
      "-rw-r--r-- 1 nobody nogroup 252M Nov 14 17:21 sample_submission.parquet\r\n",
      "-rw-r--r-- 1 nobody nogroup 856K Nov 14 17:21 test_cite_inputs_day_2_donor_27678_idx.npz\r\n",
      "-rw-r--r-- 1 nobody nogroup  78M Nov 14 17:21 test_cite_inputs_day_2_donor_27678_val.sparse.npz\r\n",
      "-rw-r--r-- 1 nobody nogroup 1.8M Nov 14 17:21 test_cite_inputs_idx.npz\r\n",
      "-rw-r--r-- 1 nobody nogroup 488M Nov 14 17:21 test_cite_inputs_val.sparse.npz\r\n",
      "-rw-r--r-- 1 nobody nogroup 8.4M Nov 14 17:21 test_multi_inputs_idx.npz\r\n",
      "-rw-r--r-- 1 nobody nogroup 1.7G Nov 14 17:22 test_multi_inputs_val.sparse.npz\r\n",
      "-rw-r--r-- 1 nobody nogroup 2.2M Nov 14 17:21 train_cite_inputs_idx.npz\r\n",
      "-rw-r--r-- 1 nobody nogroup 712M Nov 14 17:21 train_cite_inputs_val.sparse.npz\r\n",
      "-rw-r--r-- 1 nobody nogroup 1.5M Nov 14 17:21 train_cite_targets_idx.npz\r\n",
      "-rw-r--r-- 1 nobody nogroup  36M Nov 14 17:21 train_cite_targets_val.sparse.npz\r\n",
      "-rw-r--r-- 1 nobody nogroup 9.5M Nov 14 17:21 train_multi_inputs_idx.npz\r\n",
      "-rw-r--r-- 1 nobody nogroup 2.8G Nov 14 17:23 train_multi_inputs_val.sparse.npz\r\n",
      "-rw-r--r-- 1 nobody nogroup 2.8M Nov 14 17:21 train_multi_targets_idx.npz\r\n",
      "-rw-r--r-- 1 nobody nogroup 824M Nov 14 17:21 train_multi_targets_val.sparse.npz\r\n"
     ]
    }
   ],
   "source": [
    "DATA_DIR = '../input/msci-h5-sparse-transform'\n",
    "%ls $DATA_DIR -lh"
   ]
  },
  {
   "cell_type": "code",
   "execution_count": 39,
   "id": "193abf9a",
   "metadata": {
    "execution": {
     "iopub.execute_input": "2022-11-15T18:08:24.628935Z",
     "iopub.status.busy": "2022-11-15T18:08:24.628255Z",
     "iopub.status.idle": "2022-11-15T18:08:24.726147Z",
     "shell.execute_reply": "2022-11-15T18:08:24.725226Z"
    },
    "papermill": {
     "duration": 0.133035,
     "end_time": "2022-11-15T18:08:24.728524",
     "exception": false,
     "start_time": "2022-11-15T18:08:24.595489",
     "status": "completed"
    },
    "tags": []
   },
   "outputs": [
    {
     "data": {
      "text/plain": [
       "((140,), (48663,), (48663, 140))"
      ]
     },
     "execution_count": 39,
     "metadata": {},
     "output_type": "execute_result"
    }
   ],
   "source": [
    "test_tar_cols = np.load(f'{DATA_DIR}/train_cite_targets_idx.npz',\n",
    "                        allow_pickle=True)['columns']\n",
    "test_tar_idx = np.load(f'{DATA_DIR}/test_cite_inputs_idx.npz',\n",
    "                       allow_pickle=True)['index']\n",
    "test_tar_cols.shape, test_tar_idx.shape, test_tar_preds.shape"
   ]
  },
  {
   "cell_type": "code",
   "execution_count": 40,
   "id": "90786bc0",
   "metadata": {
    "execution": {
     "iopub.execute_input": "2022-11-15T18:08:24.793788Z",
     "iopub.status.busy": "2022-11-15T18:08:24.792985Z",
     "iopub.status.idle": "2022-11-15T18:09:00.912754Z",
     "shell.execute_reply": "2022-11-15T18:09:00.909386Z"
    },
    "papermill": {
     "duration": 36.1867,
     "end_time": "2022-11-15T18:09:00.947172",
     "exception": false,
     "start_time": "2022-11-15T18:08:24.760472",
     "status": "completed"
    },
    "tags": []
   },
   "outputs": [
    {
     "name": "stdout",
     "output_type": "stream",
     "text": [
      "Start Eval...\n",
      "CPU times: user 30.9 s, sys: 10.1 s, total: 41 s\n",
      "Wall time: 36.1 s\n"
     ]
    }
   ],
   "source": [
    "%%time\n",
    "print('Start Eval...')\n",
    "eval_ids = pd.read_parquet(f'{DATA_DIR}/evaluation_ids.parquet')\n",
    "eval_ids.cell_id = eval_ids.cell_id.astype(pd.CategoricalDtype())\n",
    "eval_ids.gene_id = eval_ids.gene_id.astype(pd.CategoricalDtype())"
   ]
  },
  {
   "cell_type": "code",
   "execution_count": 41,
   "id": "636801d8",
   "metadata": {
    "execution": {
     "iopub.execute_input": "2022-11-15T18:09:01.014953Z",
     "iopub.status.busy": "2022-11-15T18:09:01.013843Z",
     "iopub.status.idle": "2022-11-15T18:09:24.400002Z",
     "shell.execute_reply": "2022-11-15T18:09:24.398763Z"
    },
    "papermill": {
     "duration": 23.422936,
     "end_time": "2022-11-15T18:09:24.403022",
     "exception": false,
     "start_time": "2022-11-15T18:09:00.980086",
     "status": "completed"
    },
    "tags": []
   },
   "outputs": [
    {
     "name": "stdout",
     "output_type": "stream",
     "text": [
      "CPU times: user 19.4 s, sys: 3.67 s, total: 23.1 s\n",
      "Wall time: 23.1 s\n"
     ]
    },
    {
     "data": {
      "text/plain": [
       "row_id    cell_id       gene_id        \n",
       "0         c2150f55becb  CD86              NaN\n",
       "1         c2150f55becb  CD274             NaN\n",
       "2         c2150f55becb  CD270             NaN\n",
       "3         c2150f55becb  CD155             NaN\n",
       "4         c2150f55becb  CD112             NaN\n",
       "                                           ..\n",
       "65744175  2c53aa67933d  ENSG00000134419   NaN\n",
       "65744176  2c53aa67933d  ENSG00000186862   NaN\n",
       "65744177  2c53aa67933d  ENSG00000170959   NaN\n",
       "65744178  2c53aa67933d  ENSG00000107874   NaN\n",
       "65744179  2c53aa67933d  ENSG00000166012   NaN\n",
       "Name: target, Length: 65744180, dtype: float32"
      ]
     },
     "execution_count": 41,
     "metadata": {},
     "output_type": "execute_result"
    }
   ],
   "source": [
    "%%time\n",
    "sub = pd.Series(name='target',\n",
    "                index=pd.MultiIndex.from_frame(eval_ids), \n",
    "                dtype=np.float32)\n",
    "sub"
   ]
  },
  {
   "cell_type": "code",
   "execution_count": 42,
   "id": "0178780b",
   "metadata": {
    "execution": {
     "iopub.execute_input": "2022-11-15T18:09:24.476292Z",
     "iopub.status.busy": "2022-11-15T18:09:24.474971Z",
     "iopub.status.idle": "2022-11-15T18:09:24.494153Z",
     "shell.execute_reply": "2022-11-15T18:09:24.492919Z"
    },
    "papermill": {
     "duration": 0.058392,
     "end_time": "2022-11-15T18:09:24.496948",
     "exception": false,
     "start_time": "2022-11-15T18:09:24.438556",
     "status": "completed"
    },
    "tags": []
   },
   "outputs": [],
   "source": [
    "cell_id_dict = {cell_id: idx \n",
    "                for idx, cell_id in enumerate(test_tar_idx, 0)}\n",
    "gene_id_dict = {gene_id: idx \n",
    "                for idx, gene_id in enumerate(test_tar_cols, 0)}"
   ]
  },
  {
   "cell_type": "code",
   "execution_count": 43,
   "id": "4854f530",
   "metadata": {
    "execution": {
     "iopub.execute_input": "2022-11-15T18:09:24.569408Z",
     "iopub.status.busy": "2022-11-15T18:09:24.568568Z",
     "iopub.status.idle": "2022-11-15T18:09:26.723465Z",
     "shell.execute_reply": "2022-11-15T18:09:26.722256Z"
    },
    "papermill": {
     "duration": 2.194458,
     "end_time": "2022-11-15T18:09:26.726334",
     "exception": false,
     "start_time": "2022-11-15T18:09:24.531876",
     "status": "completed"
    },
    "tags": []
   },
   "outputs": [],
   "source": [
    "eid_cid_idx = eval_ids['cell_id']\\\n",
    "              .apply(lambda x: cell_id_dict.get(x, -1))\n",
    "eid_gid_idx = eval_ids['gene_id']\\\n",
    "              .apply(lambda x: gene_id_dict.get(x, -1))\n",
    "valid_cite_rows = (eid_cid_idx != -1) & (eid_gid_idx != -1)"
   ]
  },
  {
   "cell_type": "code",
   "execution_count": 44,
   "id": "6ec16a1c",
   "metadata": {
    "execution": {
     "iopub.execute_input": "2022-11-15T18:09:26.791964Z",
     "iopub.status.busy": "2022-11-15T18:09:26.791549Z",
     "iopub.status.idle": "2022-11-15T18:09:27.267201Z",
     "shell.execute_reply": "2022-11-15T18:09:27.265774Z"
    },
    "papermill": {
     "duration": 0.511764,
     "end_time": "2022-11-15T18:09:27.269878",
     "exception": false,
     "start_time": "2022-11-15T18:09:26.758114",
     "status": "completed"
    },
    "tags": []
   },
   "outputs": [
    {
     "name": "stdout",
     "output_type": "stream",
     "text": [
      "CPU times: user 309 ms, sys: 159 ms, total: 468 ms\n",
      "Wall time: 469 ms\n"
     ]
    }
   ],
   "source": [
    "%%time\n",
    "sub.iloc[valid_cite_rows] = test_tar_preds\\\n",
    "                             [eid_cid_idx[valid_cite_rows].to_numpy(),\n",
    "                              eid_gid_idx[valid_cite_rows].to_numpy()]"
   ]
  },
  {
   "cell_type": "code",
   "execution_count": 45,
   "id": "cc25df51",
   "metadata": {
    "execution": {
     "iopub.execute_input": "2022-11-15T18:09:27.338994Z",
     "iopub.status.busy": "2022-11-15T18:09:27.338250Z",
     "iopub.status.idle": "2022-11-15T18:09:27.524996Z",
     "shell.execute_reply": "2022-11-15T18:09:27.524086Z"
    },
    "papermill": {
     "duration": 0.223801,
     "end_time": "2022-11-15T18:09:27.527422",
     "exception": false,
     "start_time": "2022-11-15T18:09:27.303621",
     "status": "completed"
    },
    "tags": []
   },
   "outputs": [
    {
     "data": {
      "text/plain": [
       "97"
      ]
     },
     "execution_count": 45,
     "metadata": {},
     "output_type": "execute_result"
    }
   ],
   "source": [
    "del eval_ids, test_tar_idx, test_tar_cols\n",
    "del eid_cid_idx, eid_gid_idx, valid_cite_rows\n",
    "gc.collect() "
   ]
  },
  {
   "cell_type": "code",
   "execution_count": 46,
   "id": "8426a508",
   "metadata": {
    "execution": {
     "iopub.execute_input": "2022-11-15T18:09:27.614107Z",
     "iopub.status.busy": "2022-11-15T18:09:27.613699Z",
     "iopub.status.idle": "2022-11-15T18:11:05.574835Z",
     "shell.execute_reply": "2022-11-15T18:11:05.573389Z"
    },
    "papermill": {
     "duration": 98.014697,
     "end_time": "2022-11-15T18:11:05.577780",
     "exception": false,
     "start_time": "2022-11-15T18:09:27.563083",
     "status": "completed"
    },
    "tags": []
   },
   "outputs": [],
   "source": [
    "sub = pd.DataFrame(sub).fillna(0).reset_index()\n",
    "sub.drop(['cell_id', 'gene_id'], axis=1)\\\n",
    "   .to_csv('cite_sub.csv', index=False)"
   ]
  },
  {
   "cell_type": "code",
   "execution_count": 47,
   "id": "c16ea7c7",
   "metadata": {
    "execution": {
     "iopub.execute_input": "2022-11-15T18:11:05.644811Z",
     "iopub.status.busy": "2022-11-15T18:11:05.644340Z",
     "iopub.status.idle": "2022-11-15T18:11:05.662108Z",
     "shell.execute_reply": "2022-11-15T18:11:05.660908Z"
    },
    "papermill": {
     "duration": 0.053692,
     "end_time": "2022-11-15T18:11:05.664489",
     "exception": false,
     "start_time": "2022-11-15T18:11:05.610797",
     "status": "completed"
    },
    "tags": []
   },
   "outputs": [
    {
     "data": {
      "text/html": [
       "<div>\n",
       "<style scoped>\n",
       "    .dataframe tbody tr th:only-of-type {\n",
       "        vertical-align: middle;\n",
       "    }\n",
       "\n",
       "    .dataframe tbody tr th {\n",
       "        vertical-align: top;\n",
       "    }\n",
       "\n",
       "    .dataframe thead th {\n",
       "        text-align: right;\n",
       "    }\n",
       "</style>\n",
       "<table border=\"1\" class=\"dataframe\">\n",
       "  <thead>\n",
       "    <tr style=\"text-align: right;\">\n",
       "      <th></th>\n",
       "      <th>row_id</th>\n",
       "      <th>cell_id</th>\n",
       "      <th>gene_id</th>\n",
       "      <th>target</th>\n",
       "    </tr>\n",
       "  </thead>\n",
       "  <tbody>\n",
       "    <tr>\n",
       "      <th>0</th>\n",
       "      <td>0</td>\n",
       "      <td>c2150f55becb</td>\n",
       "      <td>CD86</td>\n",
       "      <td>-0.904063</td>\n",
       "    </tr>\n",
       "    <tr>\n",
       "      <th>1</th>\n",
       "      <td>1</td>\n",
       "      <td>c2150f55becb</td>\n",
       "      <td>CD274</td>\n",
       "      <td>-0.882663</td>\n",
       "    </tr>\n",
       "    <tr>\n",
       "      <th>2</th>\n",
       "      <td>2</td>\n",
       "      <td>c2150f55becb</td>\n",
       "      <td>CD270</td>\n",
       "      <td>-0.683779</td>\n",
       "    </tr>\n",
       "    <tr>\n",
       "      <th>3</th>\n",
       "      <td>3</td>\n",
       "      <td>c2150f55becb</td>\n",
       "      <td>CD155</td>\n",
       "      <td>1.290424</td>\n",
       "    </tr>\n",
       "    <tr>\n",
       "      <th>4</th>\n",
       "      <td>4</td>\n",
       "      <td>c2150f55becb</td>\n",
       "      <td>CD112</td>\n",
       "      <td>1.934422</td>\n",
       "    </tr>\n",
       "  </tbody>\n",
       "</table>\n",
       "</div>"
      ],
      "text/plain": [
       "   row_id       cell_id gene_id    target\n",
       "0       0  c2150f55becb    CD86 -0.904063\n",
       "1       1  c2150f55becb   CD274 -0.882663\n",
       "2       2  c2150f55becb   CD270 -0.683779\n",
       "3       3  c2150f55becb   CD155  1.290424\n",
       "4       4  c2150f55becb   CD112  1.934422"
      ]
     },
     "execution_count": 47,
     "metadata": {},
     "output_type": "execute_result"
    }
   ],
   "source": [
    "sub.head()"
   ]
  },
  {
   "cell_type": "code",
   "execution_count": null,
   "id": "7641b170",
   "metadata": {
    "papermill": {
     "duration": 0.032098,
     "end_time": "2022-11-15T18:11:05.729713",
     "exception": false,
     "start_time": "2022-11-15T18:11:05.697615",
     "status": "completed"
    },
    "tags": []
   },
   "outputs": [],
   "source": []
  }
 ],
 "metadata": {
  "kernelspec": {
   "display_name": "Python 3",
   "language": "python",
   "name": "python3"
  },
  "language_info": {
   "codemirror_mode": {
    "name": "ipython",
    "version": 3
   },
   "file_extension": ".py",
   "mimetype": "text/x-python",
   "name": "python",
   "nbconvert_exporter": "python",
   "pygments_lexer": "ipython3",
   "version": "3.7.12"
  },
  "papermill": {
   "default_parameters": {},
   "duration": 477.956378,
   "end_time": "2022-11-15T18:11:06.888408",
   "environment_variables": {},
   "exception": null,
   "input_path": "__notebook__.ipynb",
   "output_path": "__notebook__.ipynb",
   "parameters": {},
   "start_time": "2022-11-15T18:03:08.932030",
   "version": "2.3.4"
  }
 },
 "nbformat": 4,
 "nbformat_minor": 5
}
