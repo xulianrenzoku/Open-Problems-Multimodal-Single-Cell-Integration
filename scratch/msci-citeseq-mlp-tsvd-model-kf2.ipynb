{
 "cells": [
  {
   "cell_type": "code",
   "execution_count": 1,
   "id": "f1b92e13",
   "metadata": {
    "_cell_guid": "b1076dfc-b9ad-4769-8c92-a6c4dae69d19",
    "_uuid": "8f2839f25d086af736a60e9eeb907d3b93b6e0e5",
    "execution": {
     "iopub.execute_input": "2022-11-15T13:37:06.152071Z",
     "iopub.status.busy": "2022-11-15T13:37:06.150637Z",
     "iopub.status.idle": "2022-11-15T13:37:06.274191Z",
     "shell.execute_reply": "2022-11-15T13:37:06.272756Z"
    },
    "papermill": {
     "duration": 0.142694,
     "end_time": "2022-11-15T13:37:06.277417",
     "exception": false,
     "start_time": "2022-11-15T13:37:06.134723",
     "status": "completed"
    },
    "tags": []
   },
   "outputs": [],
   "source": [
    "import os\n",
    "import os.path\n",
    "import gc\n",
    "import itertools\n",
    "import numpy as np\n",
    "import pandas as pd\n",
    "import scipy.sparse\n",
    "from tqdm import tqdm"
   ]
  },
  {
   "cell_type": "code",
   "execution_count": 2,
   "id": "6b4a35ba",
   "metadata": {
    "execution": {
     "iopub.execute_input": "2022-11-15T13:37:06.309832Z",
     "iopub.status.busy": "2022-11-15T13:37:06.308501Z",
     "iopub.status.idle": "2022-11-15T13:37:06.314577Z",
     "shell.execute_reply": "2022-11-15T13:37:06.313472Z"
    },
    "papermill": {
     "duration": 0.025507,
     "end_time": "2022-11-15T13:37:06.317186",
     "exception": false,
     "start_time": "2022-11-15T13:37:06.291679",
     "status": "completed"
    },
    "tags": []
   },
   "outputs": [],
   "source": [
    "import warnings \n",
    "warnings.filterwarnings('ignore')"
   ]
  },
  {
   "cell_type": "code",
   "execution_count": 3,
   "id": "924e0577",
   "metadata": {
    "execution": {
     "iopub.execute_input": "2022-11-15T13:37:06.346737Z",
     "iopub.status.busy": "2022-11-15T13:37:06.345767Z",
     "iopub.status.idle": "2022-11-15T13:37:07.478266Z",
     "shell.execute_reply": "2022-11-15T13:37:07.477035Z"
    },
    "papermill": {
     "duration": 1.152097,
     "end_time": "2022-11-15T13:37:07.481229",
     "exception": false,
     "start_time": "2022-11-15T13:37:06.329132",
     "status": "completed"
    },
    "tags": []
   },
   "outputs": [],
   "source": [
    "import seaborn as sns\n",
    "import matplotlib\n",
    "import matplotlib.pyplot as plt\n",
    "from IPython.core.pylabtools import figsize"
   ]
  },
  {
   "cell_type": "code",
   "execution_count": 4,
   "id": "3bfea4b5",
   "metadata": {
    "execution": {
     "iopub.execute_input": "2022-11-15T13:37:07.506594Z",
     "iopub.status.busy": "2022-11-15T13:37:07.506176Z",
     "iopub.status.idle": "2022-11-15T13:37:07.512299Z",
     "shell.execute_reply": "2022-11-15T13:37:07.511187Z"
    },
    "papermill": {
     "duration": 0.021582,
     "end_time": "2022-11-15T13:37:07.514713",
     "exception": false,
     "start_time": "2022-11-15T13:37:07.493131",
     "status": "completed"
    },
    "tags": []
   },
   "outputs": [],
   "source": [
    "sns.set()"
   ]
  },
  {
   "cell_type": "code",
   "execution_count": 5,
   "id": "89316e52",
   "metadata": {
    "execution": {
     "iopub.execute_input": "2022-11-15T13:37:07.540272Z",
     "iopub.status.busy": "2022-11-15T13:37:07.539857Z",
     "iopub.status.idle": "2022-11-15T13:37:07.547119Z",
     "shell.execute_reply": "2022-11-15T13:37:07.545922Z"
    },
    "papermill": {
     "duration": 0.022754,
     "end_time": "2022-11-15T13:37:07.549368",
     "exception": false,
     "start_time": "2022-11-15T13:37:07.526614",
     "status": "completed"
    },
    "tags": []
   },
   "outputs": [],
   "source": [
    "import pickle\n",
    "\n",
    "def dump_pickle(file, filename):\n",
    "    outfile = open(filename, 'wb')\n",
    "    pickle.dump(file, outfile)\n",
    "    outfile.close()\n",
    "\n",
    "def load_pickle(filename):\n",
    "    infile = open(filename, 'rb')\n",
    "    file = pickle.load(infile)\n",
    "    infile.close()\n",
    "    return file"
   ]
  },
  {
   "cell_type": "markdown",
   "id": "b4cc2cae",
   "metadata": {
    "papermill": {
     "duration": 0.012022,
     "end_time": "2022-11-15T13:37:07.573191",
     "exception": false,
     "start_time": "2022-11-15T13:37:07.561169",
     "status": "completed"
    },
    "tags": []
   },
   "source": [
    "## Read Data"
   ]
  },
  {
   "cell_type": "code",
   "execution_count": 6,
   "id": "5a84d8da",
   "metadata": {
    "execution": {
     "iopub.execute_input": "2022-11-15T13:37:07.599889Z",
     "iopub.status.busy": "2022-11-15T13:37:07.598899Z",
     "iopub.status.idle": "2022-11-15T13:37:08.462220Z",
     "shell.execute_reply": "2022-11-15T13:37:08.461178Z"
    },
    "papermill": {
     "duration": 0.879797,
     "end_time": "2022-11-15T13:37:08.465449",
     "exception": false,
     "start_time": "2022-11-15T13:37:07.585652",
     "status": "completed"
    },
    "tags": []
   },
   "outputs": [
    {
     "name": "stdout",
     "output_type": "stream",
     "text": [
      "CPU times: user 218 ms, sys: 102 ms, total: 320 ms\n",
      "Wall time: 855 ms\n"
     ]
    }
   ],
   "source": [
    "%%time\n",
    "DATA_DIR = '../input/open-problems-multimodal'\n",
    "train_tar = pd.read_hdf(f'{DATA_DIR}/train_cite_targets.h5')\n",
    "train_tar_cols = train_tar.columns"
   ]
  },
  {
   "cell_type": "code",
   "execution_count": 7,
   "id": "e4d45b93",
   "metadata": {
    "execution": {
     "iopub.execute_input": "2022-11-15T13:37:08.494292Z",
     "iopub.status.busy": "2022-11-15T13:37:08.493164Z",
     "iopub.status.idle": "2022-11-15T13:37:08.500047Z",
     "shell.execute_reply": "2022-11-15T13:37:08.498769Z"
    },
    "papermill": {
     "duration": 0.023468,
     "end_time": "2022-11-15T13:37:08.502647",
     "exception": false,
     "start_time": "2022-11-15T13:37:08.479179",
     "status": "completed"
    },
    "tags": []
   },
   "outputs": [],
   "source": [
    "train_tar = train_tar.values"
   ]
  },
  {
   "cell_type": "code",
   "execution_count": 8,
   "id": "25c1b0bd",
   "metadata": {
    "execution": {
     "iopub.execute_input": "2022-11-15T13:37:08.528564Z",
     "iopub.status.busy": "2022-11-15T13:37:08.528007Z",
     "iopub.status.idle": "2022-11-15T13:37:08.583809Z",
     "shell.execute_reply": "2022-11-15T13:37:08.582428Z"
    },
    "papermill": {
     "duration": 0.071825,
     "end_time": "2022-11-15T13:37:08.586438",
     "exception": false,
     "start_time": "2022-11-15T13:37:08.514613",
     "status": "completed"
    },
    "tags": []
   },
   "outputs": [
    {
     "data": {
      "text/plain": [
       "(70988, 140)"
      ]
     },
     "execution_count": 8,
     "metadata": {},
     "output_type": "execute_result"
    }
   ],
   "source": [
    "train_tar -= train_tar.mean(axis=1).reshape(-1, 1)\n",
    "train_tar /= train_tar.std(axis=1).reshape(-1, 1)\n",
    "train_tar.shape"
   ]
  },
  {
   "cell_type": "code",
   "execution_count": 9,
   "id": "1a4b0553",
   "metadata": {
    "execution": {
     "iopub.execute_input": "2022-11-15T13:37:08.612635Z",
     "iopub.status.busy": "2022-11-15T13:37:08.612163Z",
     "iopub.status.idle": "2022-11-15T13:37:09.069088Z",
     "shell.execute_reply": "2022-11-15T13:37:09.067845Z"
    },
    "papermill": {
     "duration": 0.473101,
     "end_time": "2022-11-15T13:37:09.071818",
     "exception": false,
     "start_time": "2022-11-15T13:37:08.598717",
     "status": "completed"
    },
    "tags": []
   },
   "outputs": [
    {
     "name": "stdout",
     "output_type": "stream",
     "text": [
      "CPU times: user 21.1 ms, sys: 85.4 ms, total: 107 ms\n",
      "Wall time: 449 ms\n"
     ]
    }
   ],
   "source": [
    "%%time\n",
    "DATA_DIR = '../input/msci-citeseq-mlp-tsvd-if'\n",
    "train_inp = load_pickle(f'{DATA_DIR}/train_inp')"
   ]
  },
  {
   "cell_type": "code",
   "execution_count": 10,
   "id": "767d7b5a",
   "metadata": {
    "execution": {
     "iopub.execute_input": "2022-11-15T13:37:09.098301Z",
     "iopub.status.busy": "2022-11-15T13:37:09.097377Z",
     "iopub.status.idle": "2022-11-15T13:37:09.106323Z",
     "shell.execute_reply": "2022-11-15T13:37:09.105002Z"
    },
    "papermill": {
     "duration": 0.025032,
     "end_time": "2022-11-15T13:37:09.109080",
     "exception": false,
     "start_time": "2022-11-15T13:37:09.084048",
     "status": "completed"
    },
    "tags": []
   },
   "outputs": [
    {
     "data": {
      "text/plain": [
       "(70988, 148)"
      ]
     },
     "execution_count": 10,
     "metadata": {},
     "output_type": "execute_result"
    }
   ],
   "source": [
    "train_inp = train_inp[:, :-1]\n",
    "train_inp.shape"
   ]
  },
  {
   "cell_type": "markdown",
   "id": "7f6f0a55",
   "metadata": {
    "papermill": {
     "duration": 0.012199,
     "end_time": "2022-11-15T13:37:09.133489",
     "exception": false,
     "start_time": "2022-11-15T13:37:09.121290",
     "status": "completed"
    },
    "tags": []
   },
   "source": [
    "## Modeling"
   ]
  },
  {
   "cell_type": "code",
   "execution_count": 11,
   "id": "48eb5fb1",
   "metadata": {
    "execution": {
     "iopub.execute_input": "2022-11-15T13:37:09.160041Z",
     "iopub.status.busy": "2022-11-15T13:37:09.159645Z",
     "iopub.status.idle": "2022-11-15T13:37:11.123016Z",
     "shell.execute_reply": "2022-11-15T13:37:11.122106Z"
    },
    "papermill": {
     "duration": 1.979802,
     "end_time": "2022-11-15T13:37:11.125772",
     "exception": false,
     "start_time": "2022-11-15T13:37:09.145970",
     "status": "completed"
    },
    "tags": []
   },
   "outputs": [],
   "source": [
    "import torch\n",
    "import torch.nn as nn\n",
    "import torch.nn.functional as F\n",
    "import torch.optim as optim\n",
    "from torch.utils.data import DataLoader, TensorDataset, random_split\n",
    "from sklearn.model_selection import KFold"
   ]
  },
  {
   "cell_type": "markdown",
   "id": "c9ff34bd",
   "metadata": {
    "papermill": {
     "duration": 0.012479,
     "end_time": "2022-11-15T13:37:11.151171",
     "exception": false,
     "start_time": "2022-11-15T13:37:11.138692",
     "status": "completed"
    },
    "tags": []
   },
   "source": [
    "## Dataset & DataLoader"
   ]
  },
  {
   "cell_type": "code",
   "execution_count": 12,
   "id": "22a2d77a",
   "metadata": {
    "execution": {
     "iopub.execute_input": "2022-11-15T13:37:11.178855Z",
     "iopub.status.busy": "2022-11-15T13:37:11.177919Z",
     "iopub.status.idle": "2022-11-15T13:37:11.184775Z",
     "shell.execute_reply": "2022-11-15T13:37:11.183548Z"
    },
    "papermill": {
     "duration": 0.023667,
     "end_time": "2022-11-15T13:37:11.187306",
     "exception": false,
     "start_time": "2022-11-15T13:37:11.163639",
     "status": "completed"
    },
    "tags": []
   },
   "outputs": [
    {
     "data": {
      "text/plain": [
       "5"
      ]
     },
     "execution_count": 12,
     "metadata": {},
     "output_type": "execute_result"
    }
   ],
   "source": [
    "kf = KFold(n_splits=5)\n",
    "kf.get_n_splits(train_inp)"
   ]
  },
  {
   "cell_type": "code",
   "execution_count": 13,
   "id": "6fef6155",
   "metadata": {
    "execution": {
     "iopub.execute_input": "2022-11-15T13:37:11.215121Z",
     "iopub.status.busy": "2022-11-15T13:37:11.214699Z",
     "iopub.status.idle": "2022-11-15T13:37:11.225092Z",
     "shell.execute_reply": "2022-11-15T13:37:11.223917Z"
    },
    "papermill": {
     "duration": 0.027276,
     "end_time": "2022-11-15T13:37:11.227557",
     "exception": false,
     "start_time": "2022-11-15T13:37:11.200281",
     "status": "completed"
    },
    "tags": []
   },
   "outputs": [],
   "source": [
    "folds = [[train_index, val_index]\n",
    "         for train_index, val_index in kf.split(train_inp)]"
   ]
  },
  {
   "cell_type": "code",
   "execution_count": 14,
   "id": "53c69fb1",
   "metadata": {
    "execution": {
     "iopub.execute_input": "2022-11-15T13:37:11.254592Z",
     "iopub.status.busy": "2022-11-15T13:37:11.253565Z",
     "iopub.status.idle": "2022-11-15T13:37:11.260866Z",
     "shell.execute_reply": "2022-11-15T13:37:11.259926Z"
    },
    "papermill": {
     "duration": 0.023308,
     "end_time": "2022-11-15T13:37:11.263239",
     "exception": false,
     "start_time": "2022-11-15T13:37:11.239931",
     "status": "completed"
    },
    "tags": []
   },
   "outputs": [],
   "source": [
    "def set_up_data_loader(fold,\n",
    "                       train_inp=train_inp,\n",
    "                       train_tar=train_tar):\n",
    "    train_index, val_index = fold\n",
    "    \n",
    "    # Train\n",
    "    train_ds = TensorDataset(torch.from_numpy(train_inp[train_index]),\n",
    "                             torch.from_numpy(train_tar[train_index]))\n",
    "    \n",
    "    # Val\n",
    "    val_ds = TensorDataset(torch.from_numpy(train_inp[val_index]),\n",
    "                             torch.from_numpy(train_tar[val_index]))\n",
    "    \n",
    "    # Set up dataloader\n",
    "    batch_size = 512\n",
    "    train_loader = DataLoader(train_ds, \n",
    "                              batch_size=batch_size, \n",
    "                              shuffle=True)\n",
    "    val_loader = DataLoader(val_ds, \n",
    "                            batch_size=batch_size, \n",
    "                            shuffle=False)\n",
    "    \n",
    "    return train_loader, val_loader"
   ]
  },
  {
   "cell_type": "markdown",
   "id": "2b056279",
   "metadata": {
    "papermill": {
     "duration": 0.01188,
     "end_time": "2022-11-15T13:37:11.287908",
     "exception": false,
     "start_time": "2022-11-15T13:37:11.276028",
     "status": "completed"
    },
    "tags": []
   },
   "source": [
    "### Define NN"
   ]
  },
  {
   "cell_type": "code",
   "execution_count": 15,
   "id": "970d1aae",
   "metadata": {
    "execution": {
     "iopub.execute_input": "2022-11-15T13:37:11.314777Z",
     "iopub.status.busy": "2022-11-15T13:37:11.313879Z",
     "iopub.status.idle": "2022-11-15T13:37:11.325116Z",
     "shell.execute_reply": "2022-11-15T13:37:11.324021Z"
    },
    "papermill": {
     "duration": 0.027754,
     "end_time": "2022-11-15T13:37:11.327862",
     "exception": false,
     "start_time": "2022-11-15T13:37:11.300108",
     "status": "completed"
    },
    "tags": []
   },
   "outputs": [],
   "source": [
    "class Net(nn.Module):\n",
    "    def __init__(self):\n",
    "        \"\"\"In the constructor we instantiate two nn.Linear modules and assign them as\n",
    "        member variables (self).\n",
    "        \"\"\"\n",
    "        super(Net, self).__init__()\n",
    "#         self.linear1 = nn.Linear(663, 128*2)\n",
    "        self.linear1 = nn.Linear(148, 128*2)\n",
    "        self.selu1 = nn.SELU(128*2)\n",
    "        self.linear2 = nn.Linear(128*2, 128*2)\n",
    "        self.selu2 = nn.SELU(128*2)\n",
    "        self.linear3 = nn.Linear(128*2, 128*2)\n",
    "        self.selu3 = nn.SELU(128*2)\n",
    "        self.linear4 = nn.Linear(128*2, 140)\n",
    "\n",
    "    def forward(self, x):\n",
    "        \"\"\"\n",
    "        In the forward function we accept a Tensor of input data and we must return\n",
    "        a Tensor of output data. We can use Modules defined in the constructor as\n",
    "        well as arbitrary operators on Tensors.\n",
    "        \"\"\"\n",
    "        x = self.linear1(x)\n",
    "        x = self.selu1(x)\n",
    "        x = self.linear2(x)\n",
    "        x = self.selu2(x)\n",
    "        x = self.linear3(x)\n",
    "        x = self.selu3(x)\n",
    "        x = self.linear4(x)\n",
    "        return x"
   ]
  },
  {
   "cell_type": "markdown",
   "id": "a3bda47d",
   "metadata": {
    "papermill": {
     "duration": 0.011816,
     "end_time": "2022-11-15T13:37:11.352066",
     "exception": false,
     "start_time": "2022-11-15T13:37:11.340250",
     "status": "completed"
    },
    "tags": []
   },
   "source": [
    "### Find LR"
   ]
  },
  {
   "cell_type": "code",
   "execution_count": 16,
   "id": "067caec2",
   "metadata": {
    "execution": {
     "iopub.execute_input": "2022-11-15T13:37:11.378982Z",
     "iopub.status.busy": "2022-11-15T13:37:11.377716Z",
     "iopub.status.idle": "2022-11-15T13:37:11.391295Z",
     "shell.execute_reply": "2022-11-15T13:37:11.389899Z"
    },
    "papermill": {
     "duration": 0.029816,
     "end_time": "2022-11-15T13:37:11.393977",
     "exception": false,
     "start_time": "2022-11-15T13:37:11.364161",
     "status": "completed"
    },
    "tags": []
   },
   "outputs": [],
   "source": [
    "def find_lr(model, train_loader, optimizer,\n",
    "            init_val=1e-8, final_val=10.0, beta=0.98):\n",
    "    # https://sgugger.github.io/how-do-you-find-a-good-learning-rate.html#how-do-you-find-a-good-learning-rate\n",
    "    \n",
    "    num = len(train_loader)\n",
    "    mult = (final_val / init_val) ** (1 / num)\n",
    "    lr = init_val\n",
    "    optimizer.param_groups[0]['lr'] = lr\n",
    "    \n",
    "    avg_loss = 0\n",
    "    best_loss = 0\n",
    "    batch_num = 0\n",
    "    smoothed_losses = []\n",
    "    raw_losses = []\n",
    "    log_lrs = []\n",
    "    \n",
    "    for i, (x, y) in enumerate(train_loader):\n",
    "        batch_num+=1\n",
    "        batch = x.shape[0]\n",
    "        \n",
    "        optimizer.zero_grad()\n",
    "        \n",
    "        # Prediction\n",
    "        preds = model(x)\n",
    "        vpreds = preds - torch.mean(preds)\n",
    "        vy = y - torch.mean(y)\n",
    "        corr = torch.sum(vpreds * vy) / \\\n",
    "               (torch.sqrt(torch.sum(vpreds ** 2)) *\n",
    "                torch.sqrt(torch.sum(vy ** 2)))\n",
    "        loss = -corr\n",
    "        loss_cpu = float(loss.detach().numpy())\n",
    "        \n",
    "        # Compute the smoothed loss\n",
    "        avg_loss = beta * avg_loss + (1 - beta) * loss_cpu\n",
    "        smoothed_loss = avg_loss / (1 - beta ** batch_num)\n",
    "        \n",
    "        if smoothed_loss < best_loss or batch_num==1:\n",
    "            best_loss = smoothed_loss\n",
    "            \n",
    "        raw_losses.append(loss_cpu)\n",
    "        smoothed_losses.append(smoothed_loss)\n",
    "        log_lrs.append(np.log10(lr))\n",
    "        \n",
    "        loss.backward()\n",
    "        optimizer.step()\n",
    "        \n",
    "        # Update the lr for the next batch\n",
    "        lr*=mult\n",
    "        optimizer.param_groups[0]['lr'] = lr\n",
    "    return log_lrs, raw_losses, smoothed_losses"
   ]
  },
  {
   "cell_type": "code",
   "execution_count": 17,
   "id": "f70cdac3",
   "metadata": {
    "execution": {
     "iopub.execute_input": "2022-11-15T13:37:11.421664Z",
     "iopub.status.busy": "2022-11-15T13:37:11.420913Z",
     "iopub.status.idle": "2022-11-15T13:37:11.429698Z",
     "shell.execute_reply": "2022-11-15T13:37:11.428696Z"
    },
    "papermill": {
     "duration": 0.02582,
     "end_time": "2022-11-15T13:37:11.432426",
     "exception": false,
     "start_time": "2022-11-15T13:37:11.406606",
     "status": "completed"
    },
    "tags": []
   },
   "outputs": [],
   "source": [
    "def find_lr_for_one_fold(fold, \n",
    "                         train_inp=train_inp,\n",
    "                         train_tar=train_tar):\n",
    "    # Set up dataloader\n",
    "    train_loader, val_loader = set_up_data_loader(fold,\n",
    "                                                  train_inp=train_inp,\n",
    "                                                  train_tar=train_tar)\n",
    "    \n",
    "    weight_decays = [0.01, 0.001, 0.0001, 0.00001]\n",
    "    res = {}\n",
    "\n",
    "    for weight_decay in weight_decays:\n",
    "        net = Net()\n",
    "        optimizer = optim.Adam(net.parameters(), \n",
    "                               weight_decay=weight_decay)\n",
    "        log_lrs, raw_losses, smoothed_losses = find_lr(net, \n",
    "                                                       train_loader, \n",
    "                                                       optimizer)\n",
    "\n",
    "        # Find steepest gradient according to fast.ai\n",
    "        # https://fastai1.fast.ai/callbacks.lr_finder.html\n",
    "        gradients = np.gradient(raw_losses)\n",
    "        min_gradient = gradients.min()\n",
    "        for i in range(len(raw_losses)):\n",
    "            if gradients[i] == min_gradient:\n",
    "                print(f'weight decay: {weight_decay}')\n",
    "                print(f'learning rate w/ steepest gradient {log_lrs[i]:.4f}')\n",
    "                print()\n",
    "                break\n",
    "\n",
    "        res[weight_decay] = {\n",
    "            'log lrs': log_lrs,\n",
    "            'raw losses': raw_losses,\n",
    "            'smoothed losses': smoothed_losses\n",
    "        }\n",
    "        \n",
    "    return res"
   ]
  },
  {
   "cell_type": "code",
   "execution_count": 18,
   "id": "e937997d",
   "metadata": {
    "execution": {
     "iopub.execute_input": "2022-11-15T13:37:11.459012Z",
     "iopub.status.busy": "2022-11-15T13:37:11.458553Z",
     "iopub.status.idle": "2022-11-15T13:37:11.467101Z",
     "shell.execute_reply": "2022-11-15T13:37:11.465870Z"
    },
    "papermill": {
     "duration": 0.024804,
     "end_time": "2022-11-15T13:37:11.469595",
     "exception": false,
     "start_time": "2022-11-15T13:37:11.444791",
     "status": "completed"
    },
    "tags": []
   },
   "outputs": [],
   "source": [
    "def plot_find_lr(res, cutoff):\n",
    "    weight_decays = [0.01, 0.001, 0.0001, 0.00001]\n",
    "    \n",
    "    plt.subplot(2, 1, 1)\n",
    "    for weight_decay in weight_decays:\n",
    "        plt.plot(res[weight_decay]['log lrs'], \n",
    "                 res[weight_decay]['raw losses'],\n",
    "                 label=f'wd={weight_decay}')\n",
    "    plt.vlines(cutoff, -0.9, 0.1, linestyles='--', colors='black')\n",
    "    plt.legend()\n",
    "    plt.title('raw losses')\n",
    "\n",
    "    plt.subplot(2, 1, 2)\n",
    "    for weight_decay in weight_decays:\n",
    "        plt.plot(res[weight_decay]['log lrs'], \n",
    "                 res[weight_decay]['smoothed losses'],\n",
    "                 label=weight_decay)\n",
    "    plt.legend()\n",
    "    plt.title('smoothed losses')\n",
    "\n",
    "    plt.tight_layout()"
   ]
  },
  {
   "cell_type": "code",
   "execution_count": 19,
   "id": "1b34a239",
   "metadata": {
    "execution": {
     "iopub.execute_input": "2022-11-15T13:37:11.496013Z",
     "iopub.status.busy": "2022-11-15T13:37:11.495603Z",
     "iopub.status.idle": "2022-11-15T13:37:40.739239Z",
     "shell.execute_reply": "2022-11-15T13:37:40.737727Z"
    },
    "papermill": {
     "duration": 29.259957,
     "end_time": "2022-11-15T13:37:40.741935",
     "exception": false,
     "start_time": "2022-11-15T13:37:11.481978",
     "status": "completed"
    },
    "tags": []
   },
   "outputs": [
    {
     "name": "stdout",
     "output_type": "stream",
     "text": [
      "weight decay: 0.01\n",
      "learning rate w/ steepest gradient -0.9459\n",
      "\n",
      "weight decay: 0.001\n",
      "learning rate w/ steepest gradient 0.9189\n",
      "\n",
      "weight decay: 0.0001\n",
      "learning rate w/ steepest gradient -1.2703\n",
      "\n",
      "weight decay: 1e-05\n",
      "learning rate w/ steepest gradient -3.2973\n",
      "\n",
      "weight decay: 0.01\n",
      "learning rate w/ steepest gradient -0.6216\n",
      "\n",
      "weight decay: 0.001\n",
      "learning rate w/ steepest gradient -1.4324\n",
      "\n",
      "weight decay: 0.0001\n",
      "learning rate w/ steepest gradient 0.9189\n",
      "\n",
      "weight decay: 1e-05\n",
      "learning rate w/ steepest gradient -1.0270\n",
      "\n",
      "weight decay: 0.01\n",
      "learning rate w/ steepest gradient -1.0270\n",
      "\n",
      "weight decay: 0.001\n",
      "learning rate w/ steepest gradient -1.5135\n",
      "\n",
      "weight decay: 0.0001\n",
      "learning rate w/ steepest gradient -1.3514\n",
      "\n",
      "weight decay: 1e-05\n",
      "learning rate w/ steepest gradient -1.5946\n",
      "\n",
      "weight decay: 0.01\n",
      "learning rate w/ steepest gradient -1.0270\n",
      "\n",
      "weight decay: 0.001\n",
      "learning rate w/ steepest gradient -1.5946\n",
      "\n",
      "weight decay: 0.0001\n",
      "learning rate w/ steepest gradient -1.1081\n",
      "\n",
      "weight decay: 1e-05\n",
      "learning rate w/ steepest gradient -1.1081\n",
      "\n",
      "weight decay: 0.01\n",
      "learning rate w/ steepest gradient -0.8649\n",
      "\n",
      "weight decay: 0.001\n",
      "learning rate w/ steepest gradient -0.8649\n",
      "\n",
      "weight decay: 0.0001\n",
      "learning rate w/ steepest gradient 0.8378\n",
      "\n",
      "weight decay: 1e-05\n",
      "learning rate w/ steepest gradient -1.2703\n",
      "\n",
      "CPU times: user 57 s, sys: 411 ms, total: 57.5 s\n",
      "Wall time: 29.2 s\n"
     ]
    }
   ],
   "source": [
    "%%time\n",
    "folds_find_lr_res_dict = {i: find_lr_for_one_fold(folds[i])\n",
    "                          for i in range(len(folds))}"
   ]
  },
  {
   "cell_type": "markdown",
   "id": "423be749",
   "metadata": {
    "execution": {
     "iopub.execute_input": "2022-11-14T17:18:27.692708Z",
     "iopub.status.busy": "2022-11-14T17:18:27.691336Z",
     "iopub.status.idle": "2022-11-14T17:18:28.224586Z",
     "shell.execute_reply": "2022-11-14T17:18:28.223519Z",
     "shell.execute_reply.started": "2022-11-14T17:18:27.692656Z"
    },
    "papermill": {
     "duration": 0.014435,
     "end_time": "2022-11-15T13:37:40.773749",
     "exception": false,
     "start_time": "2022-11-15T13:37:40.759314",
     "status": "completed"
    },
    "tags": []
   },
   "source": [
    "#### Fold 0"
   ]
  },
  {
   "cell_type": "code",
   "execution_count": 20,
   "id": "d30f1e42",
   "metadata": {
    "execution": {
     "iopub.execute_input": "2022-11-15T13:37:40.803035Z",
     "iopub.status.busy": "2022-11-15T13:37:40.802597Z",
     "iopub.status.idle": "2022-11-15T13:37:41.486809Z",
     "shell.execute_reply": "2022-11-15T13:37:41.485805Z"
    },
    "papermill": {
     "duration": 0.701912,
     "end_time": "2022-11-15T13:37:41.489376",
     "exception": false,
     "start_time": "2022-11-15T13:37:40.787464",
     "status": "completed"
    },
    "tags": []
   },
   "outputs": [
    {
     "data": {
      "image/png": "[encoded data removed]",
      "text/plain": [
       "<Figure size 576x576 with 2 Axes>"
      ]
     },
     "metadata": {},
     "output_type": "display_data"
    }
   ],
   "source": [
    "figsize(8, 8)\n",
    "plot_find_lr(folds_find_lr_res_dict[0], -2.7)"
   ]
  },
  {
   "cell_type": "markdown",
   "id": "114633d9",
   "metadata": {
    "papermill": {
     "duration": 0.014606,
     "end_time": "2022-11-15T13:37:41.521887",
     "exception": false,
     "start_time": "2022-11-15T13:37:41.507281",
     "status": "completed"
    },
    "tags": []
   },
   "source": [
    "#### Fold 1"
   ]
  },
  {
   "cell_type": "code",
   "execution_count": 21,
   "id": "742c5b74",
   "metadata": {
    "execution": {
     "iopub.execute_input": "2022-11-15T13:37:41.554786Z",
     "iopub.status.busy": "2022-11-15T13:37:41.554329Z",
     "iopub.status.idle": "2022-11-15T13:37:42.222464Z",
     "shell.execute_reply": "2022-11-15T13:37:42.221279Z"
    },
    "papermill": {
     "duration": 0.688383,
     "end_time": "2022-11-15T13:37:42.225904",
     "exception": false,
     "start_time": "2022-11-15T13:37:41.537521",
     "status": "completed"
    },
    "tags": []
   },
   "outputs": [
    {
     "data": {
      "image/png": "[encoded data removed]",
      "text/plain": [
       "<Figure size 576x576 with 2 Axes>"
      ]
     },
     "metadata": {},
     "output_type": "display_data"
    }
   ],
   "source": [
    "figsize(8, 8)\n",
    "plot_find_lr(folds_find_lr_res_dict[1], -2.7)"
   ]
  },
  {
   "cell_type": "markdown",
   "id": "569892e1",
   "metadata": {
    "papermill": {
     "duration": 0.016254,
     "end_time": "2022-11-15T13:37:42.259246",
     "exception": false,
     "start_time": "2022-11-15T13:37:42.242992",
     "status": "completed"
    },
    "tags": []
   },
   "source": [
    "#### Fold 2"
   ]
  },
  {
   "cell_type": "code",
   "execution_count": 22,
   "id": "a34be9a9",
   "metadata": {
    "execution": {
     "iopub.execute_input": "2022-11-15T13:37:42.294436Z",
     "iopub.status.busy": "2022-11-15T13:37:42.293296Z",
     "iopub.status.idle": "2022-11-15T13:37:42.942385Z",
     "shell.execute_reply": "2022-11-15T13:37:42.940889Z"
    },
    "papermill": {
     "duration": 0.669367,
     "end_time": "2022-11-15T13:37:42.944946",
     "exception": false,
     "start_time": "2022-11-15T13:37:42.275579",
     "status": "completed"
    },
    "tags": []
   },
   "outputs": [
    {
     "data": {
      "image/png": "[encoded data removed]",
      "text/plain": [
       "<Figure size 576x576 with 2 Axes>"
      ]
     },
     "metadata": {},
     "output_type": "display_data"
    }
   ],
   "source": [
    "figsize(8, 8)\n",
    "plot_find_lr(folds_find_lr_res_dict[2], -2.7)"
   ]
  },
  {
   "cell_type": "markdown",
   "id": "ec4c667a",
   "metadata": {
    "papermill": {
     "duration": 0.017105,
     "end_time": "2022-11-15T13:37:42.980346",
     "exception": false,
     "start_time": "2022-11-15T13:37:42.963241",
     "status": "completed"
    },
    "tags": []
   },
   "source": [
    "#### Fold 3"
   ]
  },
  {
   "cell_type": "code",
   "execution_count": 23,
   "id": "de2b9785",
   "metadata": {
    "execution": {
     "iopub.execute_input": "2022-11-15T13:37:43.017373Z",
     "iopub.status.busy": "2022-11-15T13:37:43.016909Z",
     "iopub.status.idle": "2022-11-15T13:37:43.838949Z",
     "shell.execute_reply": "2022-11-15T13:37:43.837753Z"
    },
    "papermill": {
     "duration": 0.844855,
     "end_time": "2022-11-15T13:37:43.842520",
     "exception": false,
     "start_time": "2022-11-15T13:37:42.997665",
     "status": "completed"
    },
    "tags": []
   },
   "outputs": [
    {
     "data": {
      "image/png": "[encoded data removed]",
      "text/plain": [
       "<Figure size 576x576 with 2 Axes>"
      ]
     },
     "metadata": {},
     "output_type": "display_data"
    }
   ],
   "source": [
    "figsize(8, 8)\n",
    "plot_find_lr(folds_find_lr_res_dict[3], -2.7)"
   ]
  },
  {
   "cell_type": "markdown",
   "id": "d960e836",
   "metadata": {
    "papermill": {
     "duration": 0.018957,
     "end_time": "2022-11-15T13:37:43.880908",
     "exception": false,
     "start_time": "2022-11-15T13:37:43.861951",
     "status": "completed"
    },
    "tags": []
   },
   "source": [
    "#### Fold 4"
   ]
  },
  {
   "cell_type": "code",
   "execution_count": 24,
   "id": "570fdae3",
   "metadata": {
    "execution": {
     "iopub.execute_input": "2022-11-15T13:37:43.921199Z",
     "iopub.status.busy": "2022-11-15T13:37:43.920818Z",
     "iopub.status.idle": "2022-11-15T13:37:44.573121Z",
     "shell.execute_reply": "2022-11-15T13:37:44.571520Z"
    },
    "papermill": {
     "duration": 0.675613,
     "end_time": "2022-11-15T13:37:44.575816",
     "exception": false,
     "start_time": "2022-11-15T13:37:43.900203",
     "status": "completed"
    },
    "tags": []
   },
   "outputs": [
    {
     "data": {
      "image/png": "[encoded data removed]",
      "text/plain": [
       "<Figure size 576x576 with 2 Axes>"
      ]
     },
     "metadata": {},
     "output_type": "display_data"
    }
   ],
   "source": [
    "figsize(8, 8)\n",
    "plot_find_lr(folds_find_lr_res_dict[4], -2.7)"
   ]
  },
  {
   "cell_type": "markdown",
   "id": "403562fc",
   "metadata": {
    "papermill": {
     "duration": 0.019394,
     "end_time": "2022-11-15T13:37:44.615595",
     "exception": false,
     "start_time": "2022-11-15T13:37:44.596201",
     "status": "completed"
    },
    "tags": []
   },
   "source": [
    "### Train"
   ]
  },
  {
   "cell_type": "code",
   "execution_count": 25,
   "id": "0a920420",
   "metadata": {
    "execution": {
     "iopub.execute_input": "2022-11-15T13:37:44.657018Z",
     "iopub.status.busy": "2022-11-15T13:37:44.656577Z",
     "iopub.status.idle": "2022-11-15T13:37:44.666431Z",
     "shell.execute_reply": "2022-11-15T13:37:44.665195Z"
    },
    "papermill": {
     "duration": 0.033534,
     "end_time": "2022-11-15T13:37:44.668964",
     "exception": false,
     "start_time": "2022-11-15T13:37:44.635430",
     "status": "completed"
    },
    "tags": []
   },
   "outputs": [],
   "source": [
    "def train_model(train_loader, model, optimizer, scheduler):\n",
    "    \n",
    "    model.train()\n",
    "    sum_corr = 0.0 # sum_loss = 0.0\n",
    "    total = 0\n",
    "    lrs = []\n",
    "    \n",
    "    for i, (x, y) in enumerate(train_loader):\n",
    "        batch = x.shape[0]\n",
    "        \n",
    "        preds = model(x)\n",
    "        vpreds = preds - torch.mean(preds)\n",
    "        vy = y - torch.mean(y)\n",
    "        corr = torch.sum(vpreds * vy) / \\\n",
    "               (torch.sqrt(torch.sum(vpreds ** 2)) *\n",
    "                torch.sqrt(torch.sum(vy ** 2)))\n",
    "        loss = -corr\n",
    "        \n",
    "        optimizer.zero_grad()\n",
    "        loss.backward()\n",
    "        \n",
    "        optimizer.step()\n",
    "        lrs.append(optimizer.param_groups[0]['lr'])\n",
    "        scheduler.step()\n",
    "        \n",
    "        total += batch\n",
    "        sum_corr += batch * corr\n",
    "    \n",
    "    train_corr = sum_corr/total \n",
    "    return train_corr, lrs"
   ]
  },
  {
   "cell_type": "code",
   "execution_count": 26,
   "id": "607842ca",
   "metadata": {
    "execution": {
     "iopub.execute_input": "2022-11-15T13:37:44.710755Z",
     "iopub.status.busy": "2022-11-15T13:37:44.710256Z",
     "iopub.status.idle": "2022-11-15T13:37:44.718872Z",
     "shell.execute_reply": "2022-11-15T13:37:44.717923Z"
    },
    "papermill": {
     "duration": 0.03204,
     "end_time": "2022-11-15T13:37:44.721100",
     "exception": false,
     "start_time": "2022-11-15T13:37:44.689060",
     "status": "completed"
    },
    "tags": []
   },
   "outputs": [],
   "source": [
    "def model_eval(model, val_loader):\n",
    "    model.eval()\n",
    "    sum_corr = 0.0 # sum_loss = 0.0\n",
    "    total = 0\n",
    "    \n",
    "    for i, (x, y) in enumerate(val_loader):\n",
    "        batch = x.shape[0]\n",
    "        \n",
    "        preds = model(x)\n",
    "        vpreds = preds - torch.mean(preds)\n",
    "        vy = y - torch.mean(y)\n",
    "        corr = torch.sum(vpreds * vy) / \\\n",
    "               (torch.sqrt(torch.sum(vpreds ** 2)) *\n",
    "                torch.sqrt(torch.sum(vy ** 2)))\n",
    "        loss = -corr\n",
    "        \n",
    "        total += batch\n",
    "        sum_corr += batch * corr\n",
    "        \n",
    "    val_corr = sum_corr/total\n",
    "    return val_corr"
   ]
  },
  {
   "cell_type": "code",
   "execution_count": 27,
   "id": "28d2fa7a",
   "metadata": {
    "execution": {
     "iopub.execute_input": "2022-11-15T13:37:44.763782Z",
     "iopub.status.busy": "2022-11-15T13:37:44.762594Z",
     "iopub.status.idle": "2022-11-15T13:37:44.774318Z",
     "shell.execute_reply": "2022-11-15T13:37:44.773039Z"
    },
    "papermill": {
     "duration": 0.035941,
     "end_time": "2022-11-15T13:37:44.776921",
     "exception": false,
     "start_time": "2022-11-15T13:37:44.740980",
     "status": "completed"
    },
    "tags": []
   },
   "outputs": [],
   "source": [
    "def train_one_fold(fold, max_lr, weight_decay, epochs,\n",
    "                   train_inp=train_inp, train_tar=train_tar):\n",
    "    # Set up dataloader\n",
    "    train_loader, val_loader = set_up_data_loader(fold,\n",
    "                                                  train_inp=train_inp,\n",
    "                                                  train_tar=train_tar)\n",
    "    \n",
    "    # Set up model\n",
    "    net = Net()\n",
    "\n",
    "    # Set up optimizer & scheduler\n",
    "    optimizer = optim.Adam(net.parameters(),\n",
    "                           weight_decay=weight_decay)\n",
    "    scheduler = torch.optim.lr_scheduler\\\n",
    "                     .OneCycleLR(optimizer, \n",
    "                                 max_lr=max_lr,\n",
    "                                 steps_per_epoch=len(train_loader),\n",
    "                                 epochs=epochs)\n",
    "    \n",
    "    # Train\n",
    "    train_corrs = []\n",
    "    val_corrs = []\n",
    "    num_epochs_run = 0\n",
    "    lrs = []\n",
    "    \n",
    "    for epoch in range(epochs):\n",
    "        num_epochs_run += 1\n",
    "\n",
    "        # train\n",
    "        print('epoch', epoch)\n",
    "        train_corr, epoch_lrs = train_model(train_loader, net, optimizer, scheduler)\n",
    "        train_corr = float(train_corr.detach().numpy())\n",
    "        train_corrs.append(train_corr)\n",
    "        lrs.append(epoch_lrs)\n",
    "        print(f'train corr: {train_corr:.4f}')\n",
    "\n",
    "        # val\n",
    "        val_corr = model_eval(net, val_loader)\n",
    "        val_corr = float(val_corr.detach().numpy())\n",
    "        val_corrs.append(val_corr)\n",
    "        print(f'val corr: {val_corr:.4f}')\n",
    "        print()\n",
    "        \n",
    "    return net, lrs, train_corrs[-1], val_corrs[-1]"
   ]
  },
  {
   "cell_type": "code",
   "execution_count": 28,
   "id": "0c85e7d1",
   "metadata": {
    "execution": {
     "iopub.execute_input": "2022-11-15T13:37:44.820656Z",
     "iopub.status.busy": "2022-11-15T13:37:44.819610Z",
     "iopub.status.idle": "2022-11-15T13:37:44.826050Z",
     "shell.execute_reply": "2022-11-15T13:37:44.824936Z"
    },
    "papermill": {
     "duration": 0.030864,
     "end_time": "2022-11-15T13:37:44.828315",
     "exception": false,
     "start_time": "2022-11-15T13:37:44.797451",
     "status": "completed"
    },
    "tags": []
   },
   "outputs": [
    {
     "data": {
      "text/plain": [
       "0.001995262314968879"
      ]
     },
     "execution_count": 28,
     "metadata": {},
     "output_type": "execute_result"
    }
   ],
   "source": [
    "10**(-2.7)"
   ]
  },
  {
   "cell_type": "code",
   "execution_count": 29,
   "id": "ad5064d0",
   "metadata": {
    "execution": {
     "iopub.execute_input": "2022-11-15T13:37:44.871466Z",
     "iopub.status.busy": "2022-11-15T13:37:44.870765Z",
     "iopub.status.idle": "2022-11-15T13:41:59.964770Z",
     "shell.execute_reply": "2022-11-15T13:41:59.963351Z"
    },
    "papermill": {
     "duration": 255.118554,
     "end_time": "2022-11-15T13:41:59.967502",
     "exception": false,
     "start_time": "2022-11-15T13:37:44.848948",
     "status": "completed"
    },
    "tags": []
   },
   "outputs": [
    {
     "name": "stdout",
     "output_type": "stream",
     "text": [
      "Start training fold 0...\n",
      "\n",
      "epoch 0\n",
      "train corr: 0.5984\n",
      "val corr: 0.8311\n",
      "\n",
      "epoch 1\n",
      "train corr: 0.8728\n",
      "val corr: 0.8814\n",
      "\n",
      "epoch 2\n",
      "train corr: 0.8873\n",
      "val corr: 0.8895\n",
      "\n",
      "epoch 3\n",
      "train corr: 0.8916\n",
      "val corr: 0.8915\n",
      "\n",
      "epoch 4\n",
      "train corr: 0.8932\n",
      "val corr: 0.8939\n",
      "\n",
      "epoch 5\n",
      "train corr: 0.8944\n",
      "val corr: 0.8949\n",
      "\n",
      "epoch 6\n",
      "train corr: 0.8952\n",
      "val corr: 0.8961\n",
      "\n",
      "epoch 7\n",
      "train corr: 0.8964\n",
      "val corr: 0.8958\n",
      "\n",
      "epoch 8\n",
      "train corr: 0.8975\n",
      "val corr: 0.8972\n",
      "\n",
      "epoch 9\n",
      "train corr: 0.8987\n",
      "val corr: 0.8981\n",
      "\n",
      "epoch 10\n",
      "train corr: 0.8994\n",
      "val corr: 0.8988\n",
      "\n",
      "epoch 11\n",
      "train corr: 0.9000\n",
      "val corr: 0.8982\n",
      "\n",
      "epoch 12\n",
      "train corr: 0.9007\n",
      "val corr: 0.8997\n",
      "\n",
      "epoch 13\n",
      "train corr: 0.9012\n",
      "val corr: 0.8998\n",
      "\n",
      "epoch 14\n",
      "train corr: 0.9017\n",
      "val corr: 0.9006\n",
      "\n",
      "epoch 15\n",
      "train corr: 0.9021\n",
      "val corr: 0.9005\n",
      "\n",
      "epoch 16\n",
      "train corr: 0.9024\n",
      "val corr: 0.9002\n",
      "\n",
      "epoch 17\n",
      "train corr: 0.9028\n",
      "val corr: 0.9006\n",
      "\n",
      "epoch 18\n",
      "train corr: 0.9032\n",
      "val corr: 0.9006\n",
      "\n",
      "epoch 19\n",
      "train corr: 0.9035\n",
      "val corr: 0.9005\n",
      "\n",
      "epoch 20\n",
      "train corr: 0.9039\n",
      "val corr: 0.9014\n",
      "\n",
      "epoch 21\n",
      "train corr: 0.9042\n",
      "val corr: 0.9013\n",
      "\n",
      "epoch 22\n",
      "train corr: 0.9044\n",
      "val corr: 0.9014\n",
      "\n",
      "epoch 23\n",
      "train corr: 0.9048\n",
      "val corr: 0.9013\n",
      "\n",
      "epoch 24\n",
      "train corr: 0.9050\n",
      "val corr: 0.9013\n",
      "\n",
      "epoch 25\n",
      "train corr: 0.9053\n",
      "val corr: 0.9016\n",
      "\n",
      "epoch 26\n",
      "train corr: 0.9055\n",
      "val corr: 0.9016\n",
      "\n",
      "epoch 27\n",
      "train corr: 0.9056\n",
      "val corr: 0.9016\n",
      "\n",
      "epoch 28\n",
      "train corr: 0.9058\n",
      "val corr: 0.9016\n",
      "\n",
      "epoch 29\n",
      "train corr: 0.9058\n",
      "val corr: 0.9016\n",
      "\n",
      "Fold 0 done.\n",
      "\n",
      "Start training fold 1...\n",
      "\n",
      "epoch 0\n",
      "train corr: 0.6070\n",
      "val corr: 0.8401\n",
      "\n",
      "epoch 1\n",
      "train corr: 0.8728\n",
      "val corr: 0.8805\n",
      "\n",
      "epoch 2\n",
      "train corr: 0.8871\n",
      "val corr: 0.8892\n",
      "\n",
      "epoch 3\n",
      "train corr: 0.8918\n",
      "val corr: 0.8923\n",
      "\n",
      "epoch 4\n",
      "train corr: 0.8935\n",
      "val corr: 0.8935\n",
      "\n",
      "epoch 5\n",
      "train corr: 0.8944\n",
      "val corr: 0.8943\n",
      "\n",
      "epoch 6\n",
      "train corr: 0.8956\n",
      "val corr: 0.8952\n",
      "\n",
      "epoch 7\n",
      "train corr: 0.8967\n",
      "val corr: 0.8953\n",
      "\n",
      "epoch 8\n",
      "train corr: 0.8979\n",
      "val corr: 0.8963\n",
      "\n",
      "epoch 9\n",
      "train corr: 0.8988\n",
      "val corr: 0.8975\n",
      "\n",
      "epoch 10\n",
      "train corr: 0.8996\n",
      "val corr: 0.8983\n",
      "\n",
      "epoch 11\n",
      "train corr: 0.9003\n",
      "val corr: 0.8985\n",
      "\n",
      "epoch 12\n",
      "train corr: 0.9009\n",
      "val corr: 0.8991\n",
      "\n",
      "epoch 13\n",
      "train corr: 0.9014\n",
      "val corr: 0.8998\n",
      "\n",
      "epoch 14\n",
      "train corr: 0.9019\n",
      "val corr: 0.8988\n",
      "\n",
      "epoch 15\n",
      "train corr: 0.9023\n",
      "val corr: 0.9004\n",
      "\n",
      "epoch 16\n",
      "train corr: 0.9028\n",
      "val corr: 0.9002\n",
      "\n",
      "epoch 17\n",
      "train corr: 0.9031\n",
      "val corr: 0.9006\n",
      "\n",
      "epoch 18\n",
      "train corr: 0.9035\n",
      "val corr: 0.9004\n",
      "\n",
      "epoch 19\n",
      "train corr: 0.9037\n",
      "val corr: 0.9007\n",
      "\n",
      "epoch 20\n",
      "train corr: 0.9041\n",
      "val corr: 0.9014\n",
      "\n",
      "epoch 21\n",
      "train corr: 0.9045\n",
      "val corr: 0.9013\n",
      "\n",
      "epoch 22\n",
      "train corr: 0.9047\n",
      "val corr: 0.9008\n",
      "\n",
      "epoch 23\n",
      "train corr: 0.9050\n",
      "val corr: 0.9011\n",
      "\n",
      "epoch 24\n",
      "train corr: 0.9053\n",
      "val corr: 0.9016\n",
      "\n",
      "epoch 25\n",
      "train corr: 0.9056\n",
      "val corr: 0.9019\n",
      "\n",
      "epoch 26\n",
      "train corr: 0.9058\n",
      "val corr: 0.9018\n",
      "\n",
      "epoch 27\n",
      "train corr: 0.9059\n",
      "val corr: 0.9019\n",
      "\n",
      "epoch 28\n",
      "train corr: 0.9060\n",
      "val corr: 0.9019\n",
      "\n",
      "epoch 29\n",
      "train corr: 0.9061\n",
      "val corr: 0.9018\n",
      "\n",
      "Fold 1 done.\n",
      "\n",
      "Start training fold 2...\n",
      "\n",
      "epoch 0\n",
      "train corr: 0.6067\n",
      "val corr: 0.8471\n",
      "\n",
      "epoch 1\n",
      "train corr: 0.8737\n",
      "val corr: 0.8807\n",
      "\n",
      "epoch 2\n",
      "train corr: 0.8877\n",
      "val corr: 0.8889\n",
      "\n",
      "epoch 3\n",
      "train corr: 0.8921\n",
      "val corr: 0.8913\n",
      "\n",
      "epoch 4\n",
      "train corr: 0.8938\n",
      "val corr: 0.8927\n",
      "\n",
      "epoch 5\n",
      "train corr: 0.8947\n",
      "val corr: 0.8940\n",
      "\n",
      "epoch 6\n",
      "train corr: 0.8956\n",
      "val corr: 0.8947\n",
      "\n",
      "epoch 7\n",
      "train corr: 0.8968\n",
      "val corr: 0.8962\n",
      "\n",
      "epoch 8\n",
      "train corr: 0.8978\n",
      "val corr: 0.8972\n",
      "\n",
      "epoch 9\n",
      "train corr: 0.8988\n",
      "val corr: 0.8971\n",
      "\n",
      "epoch 10\n",
      "train corr: 0.8995\n",
      "val corr: 0.8990\n",
      "\n",
      "epoch 11\n",
      "train corr: 0.9002\n",
      "val corr: 0.8988\n",
      "\n",
      "epoch 12\n",
      "train corr: 0.9007\n",
      "val corr: 0.8996\n",
      "\n",
      "epoch 13\n",
      "train corr: 0.9013\n",
      "val corr: 0.9001\n",
      "\n",
      "epoch 14\n",
      "train corr: 0.9018\n",
      "val corr: 0.9004\n",
      "\n",
      "epoch 15\n",
      "train corr: 0.9022\n",
      "val corr: 0.9007\n",
      "\n",
      "epoch 16\n",
      "train corr: 0.9025\n",
      "val corr: 0.9011\n",
      "\n",
      "epoch 17\n",
      "train corr: 0.9029\n",
      "val corr: 0.9010\n",
      "\n",
      "epoch 18\n",
      "train corr: 0.9033\n",
      "val corr: 0.9012\n",
      "\n",
      "epoch 19\n",
      "train corr: 0.9036\n",
      "val corr: 0.9015\n",
      "\n",
      "epoch 20\n",
      "train corr: 0.9039\n",
      "val corr: 0.9018\n",
      "\n",
      "epoch 21\n",
      "train corr: 0.9043\n",
      "val corr: 0.9018\n",
      "\n",
      "epoch 22\n",
      "train corr: 0.9045\n",
      "val corr: 0.9023\n",
      "\n",
      "epoch 23\n",
      "train corr: 0.9048\n",
      "val corr: 0.9024\n",
      "\n",
      "epoch 24\n",
      "train corr: 0.9051\n",
      "val corr: 0.9024\n",
      "\n",
      "epoch 25\n",
      "train corr: 0.9053\n",
      "val corr: 0.9024\n",
      "\n",
      "epoch 26\n",
      "train corr: 0.9055\n",
      "val corr: 0.9025\n",
      "\n",
      "epoch 27\n",
      "train corr: 0.9057\n",
      "val corr: 0.9026\n",
      "\n",
      "epoch 28\n",
      "train corr: 0.9058\n",
      "val corr: 0.9027\n",
      "\n",
      "epoch 29\n",
      "train corr: 0.9059\n",
      "val corr: 0.9027\n",
      "\n",
      "Fold 2 done.\n",
      "\n",
      "Start training fold 3...\n",
      "\n",
      "epoch 0\n",
      "train corr: 0.5919\n",
      "val corr: 0.8532\n",
      "\n",
      "epoch 1\n",
      "train corr: 0.8722\n",
      "val corr: 0.8861\n",
      "\n",
      "epoch 2\n",
      "train corr: 0.8864\n",
      "val corr: 0.8940\n",
      "\n",
      "epoch 3\n",
      "train corr: 0.8909\n",
      "val corr: 0.8965\n",
      "\n",
      "epoch 4\n",
      "train corr: 0.8926\n",
      "val corr: 0.8972\n",
      "\n",
      "epoch 5\n",
      "train corr: 0.8936\n",
      "val corr: 0.8975\n",
      "\n",
      "epoch 6\n",
      "train corr: 0.8947\n",
      "val corr: 0.8990\n",
      "\n",
      "epoch 7\n",
      "train corr: 0.8958\n",
      "val corr: 0.8996\n",
      "\n",
      "epoch 8\n",
      "train corr: 0.8969\n",
      "val corr: 0.9010\n",
      "\n",
      "epoch 9\n",
      "train corr: 0.8981\n",
      "val corr: 0.9014\n",
      "\n",
      "epoch 10\n",
      "train corr: 0.8988\n",
      "val corr: 0.9023\n",
      "\n",
      "epoch 11\n",
      "train corr: 0.8995\n",
      "val corr: 0.9030\n",
      "\n",
      "epoch 12\n",
      "train corr: 0.9001\n",
      "val corr: 0.9034\n",
      "\n",
      "epoch 13\n",
      "train corr: 0.9006\n",
      "val corr: 0.9036\n",
      "\n",
      "epoch 14\n",
      "train corr: 0.9011\n",
      "val corr: 0.9038\n",
      "\n",
      "epoch 15\n",
      "train corr: 0.9015\n",
      "val corr: 0.9042\n",
      "\n",
      "epoch 16\n",
      "train corr: 0.9019\n",
      "val corr: 0.9045\n",
      "\n",
      "epoch 17\n",
      "train corr: 0.9022\n",
      "val corr: 0.9047\n",
      "\n",
      "epoch 18\n",
      "train corr: 0.9027\n",
      "val corr: 0.9047\n",
      "\n",
      "epoch 19\n",
      "train corr: 0.9030\n",
      "val corr: 0.9050\n",
      "\n",
      "epoch 20\n",
      "train corr: 0.9033\n",
      "val corr: 0.9049\n",
      "\n",
      "epoch 21\n",
      "train corr: 0.9037\n",
      "val corr: 0.9053\n",
      "\n",
      "epoch 22\n",
      "train corr: 0.9040\n",
      "val corr: 0.9054\n",
      "\n",
      "epoch 23\n",
      "train corr: 0.9043\n",
      "val corr: 0.9053\n",
      "\n",
      "epoch 24\n",
      "train corr: 0.9045\n",
      "val corr: 0.9054\n",
      "\n",
      "epoch 25\n",
      "train corr: 0.9048\n",
      "val corr: 0.9057\n",
      "\n",
      "epoch 26\n",
      "train corr: 0.9050\n",
      "val corr: 0.9057\n",
      "\n",
      "epoch 27\n",
      "train corr: 0.9052\n",
      "val corr: 0.9057\n",
      "\n",
      "epoch 28\n",
      "train corr: 0.9053\n",
      "val corr: 0.9058\n",
      "\n",
      "epoch 29\n",
      "train corr: 0.9054\n",
      "val corr: 0.9058\n",
      "\n",
      "Fold 3 done.\n",
      "\n",
      "Start training fold 4...\n",
      "\n",
      "epoch 0\n",
      "train corr: 0.6145\n",
      "val corr: 0.8242\n",
      "\n",
      "epoch 1\n",
      "train corr: 0.8757\n",
      "val corr: 0.8648\n",
      "\n",
      "epoch 2\n",
      "train corr: 0.8907\n",
      "val corr: 0.8741\n",
      "\n",
      "epoch 3\n",
      "train corr: 0.8953\n",
      "val corr: 0.8772\n",
      "\n",
      "epoch 4\n",
      "train corr: 0.8969\n",
      "val corr: 0.8786\n",
      "\n",
      "epoch 5\n",
      "train corr: 0.8980\n",
      "val corr: 0.8799\n",
      "\n",
      "epoch 6\n",
      "train corr: 0.8990\n",
      "val corr: 0.8809\n",
      "\n",
      "epoch 7\n",
      "train corr: 0.9000\n",
      "val corr: 0.8813\n",
      "\n",
      "epoch 8\n",
      "train corr: 0.9010\n",
      "val corr: 0.8828\n",
      "\n",
      "epoch 9\n",
      "train corr: 0.9018\n",
      "val corr: 0.8840\n",
      "\n",
      "epoch 10\n",
      "train corr: 0.9027\n",
      "val corr: 0.8850\n",
      "\n",
      "epoch 11\n",
      "train corr: 0.9033\n",
      "val corr: 0.8857\n",
      "\n",
      "epoch 12\n",
      "train corr: 0.9040\n",
      "val corr: 0.8860\n",
      "\n",
      "epoch 13\n",
      "train corr: 0.9044\n",
      "val corr: 0.8865\n",
      "\n",
      "epoch 14\n",
      "train corr: 0.9049\n",
      "val corr: 0.8869\n",
      "\n",
      "epoch 15\n",
      "train corr: 0.9052\n",
      "val corr: 0.8874\n",
      "\n",
      "epoch 16\n",
      "train corr: 0.9057\n",
      "val corr: 0.8875\n",
      "\n",
      "epoch 17\n",
      "train corr: 0.9060\n",
      "val corr: 0.8877\n",
      "\n",
      "epoch 18\n",
      "train corr: 0.9063\n",
      "val corr: 0.8874\n",
      "\n",
      "epoch 19\n",
      "train corr: 0.9067\n",
      "val corr: 0.8880\n",
      "\n",
      "epoch 20\n",
      "train corr: 0.9070\n",
      "val corr: 0.8884\n",
      "\n",
      "epoch 21\n",
      "train corr: 0.9073\n",
      "val corr: 0.8883\n",
      "\n",
      "epoch 22\n",
      "train corr: 0.9076\n",
      "val corr: 0.8885\n",
      "\n",
      "epoch 23\n",
      "train corr: 0.9078\n",
      "val corr: 0.8888\n",
      "\n",
      "epoch 24\n",
      "train corr: 0.9081\n",
      "val corr: 0.8889\n",
      "\n",
      "epoch 25\n",
      "train corr: 0.9083\n",
      "val corr: 0.8889\n",
      "\n",
      "epoch 26\n",
      "train corr: 0.9085\n",
      "val corr: 0.8889\n",
      "\n",
      "epoch 27\n",
      "train corr: 0.9087\n",
      "val corr: 0.8892\n",
      "\n",
      "epoch 28\n",
      "train corr: 0.9088\n",
      "val corr: 0.8891\n",
      "\n",
      "epoch 29\n",
      "train corr: 0.9089\n",
      "val corr: 0.8891\n",
      "\n",
      "Fold 4 done.\n",
      "\n",
      "CV Score\n",
      "Train Correlation: 0.9064\n",
      "Val Correlation: 0.9002\n",
      "CPU times: user 8min 11s, sys: 12.4 s, total: 8min 24s\n",
      "Wall time: 4min 15s\n"
     ]
    }
   ],
   "source": [
    "%%time\n",
    "max_lr = 0.002\n",
    "weight_decay = 0.000001\n",
    "epochs = 30\n",
    "train_corrs = []\n",
    "val_corrs = []\n",
    "\n",
    "net_dict = {}\n",
    "\n",
    "for idx in range(len(folds)):\n",
    "    print(f'Start training fold {idx}...')\n",
    "    print()\n",
    "\n",
    "    net, _, train_corr, val_corr = train_one_fold(folds[idx], \n",
    "                                                  max_lr=max_lr, \n",
    "                                                  weight_decay=weight_decay, \n",
    "                                                  epochs=epochs)\n",
    "    \n",
    "    print(f'Fold {idx} done.')\n",
    "    print()\n",
    "    \n",
    "    net_dict[idx] = net\n",
    "    train_corrs.append(train_corr)\n",
    "    val_corrs.append(val_corr)\n",
    "    \n",
    "print('CV Score')\n",
    "print(f'Train Correlation: {np.mean(train_corrs):.4f}')\n",
    "print(f'Val Correlation: {np.mean(val_corrs):.4f}')"
   ]
  },
  {
   "cell_type": "code",
   "execution_count": 30,
   "id": "cc8c158f",
   "metadata": {
    "execution": {
     "iopub.execute_input": "2022-11-15T13:42:00.032972Z",
     "iopub.status.busy": "2022-11-15T13:42:00.032554Z",
     "iopub.status.idle": "2022-11-15T13:42:00.175602Z",
     "shell.execute_reply": "2022-11-15T13:42:00.174641Z"
    },
    "papermill": {
     "duration": 0.178763,
     "end_time": "2022-11-15T13:42:00.178079",
     "exception": false,
     "start_time": "2022-11-15T13:41:59.999316",
     "status": "completed"
    },
    "tags": []
   },
   "outputs": [
    {
     "data": {
      "text/plain": [
       "64"
      ]
     },
     "execution_count": 30,
     "metadata": {},
     "output_type": "execute_result"
    }
   ],
   "source": [
    "del train_inp, train_tar\n",
    "gc.collect()"
   ]
  },
  {
   "cell_type": "markdown",
   "id": "6a5950c2",
   "metadata": {
    "papermill": {
     "duration": 0.031431,
     "end_time": "2022-11-15T13:42:00.240904",
     "exception": false,
     "start_time": "2022-11-15T13:42:00.209473",
     "status": "completed"
    },
    "tags": []
   },
   "source": [
    "## Prediction"
   ]
  },
  {
   "cell_type": "code",
   "execution_count": 31,
   "id": "55f1766c",
   "metadata": {
    "execution": {
     "iopub.execute_input": "2022-11-15T13:42:00.304492Z",
     "iopub.status.busy": "2022-11-15T13:42:00.303841Z",
     "iopub.status.idle": "2022-11-15T13:42:00.706131Z",
     "shell.execute_reply": "2022-11-15T13:42:00.704323Z"
    },
    "papermill": {
     "duration": 0.437713,
     "end_time": "2022-11-15T13:42:00.709128",
     "exception": false,
     "start_time": "2022-11-15T13:42:00.271415",
     "status": "completed"
    },
    "tags": []
   },
   "outputs": [
    {
     "name": "stdout",
     "output_type": "stream",
     "text": [
      "CPU times: user 11.2 ms, sys: 13 ms, total: 24.2 ms\n",
      "Wall time: 394 ms\n"
     ]
    }
   ],
   "source": [
    "%%time\n",
    "test_inp = load_pickle(f'{DATA_DIR}/test_inp')[:, :-1]\n",
    "test_inp = torch.from_numpy(test_inp)"
   ]
  },
  {
   "cell_type": "code",
   "execution_count": 32,
   "id": "505dc189",
   "metadata": {
    "execution": {
     "iopub.execute_input": "2022-11-15T13:42:00.771979Z",
     "iopub.status.busy": "2022-11-15T13:42:00.771489Z",
     "iopub.status.idle": "2022-11-15T13:42:02.048168Z",
     "shell.execute_reply": "2022-11-15T13:42:02.046625Z"
    },
    "papermill": {
     "duration": 1.310846,
     "end_time": "2022-11-15T13:42:02.050834",
     "exception": false,
     "start_time": "2022-11-15T13:42:00.739988",
     "status": "completed"
    },
    "tags": []
   },
   "outputs": [
    {
     "name": "stdout",
     "output_type": "stream",
     "text": [
      "CPU times: user 2.13 s, sys: 404 ms, total: 2.54 s\n",
      "Wall time: 1.27 s\n"
     ]
    }
   ],
   "source": [
    "%%time\n",
    "test_preds = []\n",
    "with torch.no_grad():\n",
    "    for net in net_dict.values():\n",
    "        net.eval()\n",
    "        test_preds.append(net(test_inp).detach().numpy())"
   ]
  },
  {
   "cell_type": "code",
   "execution_count": 33,
   "id": "be7d41fc",
   "metadata": {
    "execution": {
     "iopub.execute_input": "2022-11-15T13:42:02.113397Z",
     "iopub.status.busy": "2022-11-15T13:42:02.113003Z",
     "iopub.status.idle": "2022-11-15T13:42:02.240134Z",
     "shell.execute_reply": "2022-11-15T13:42:02.238793Z"
    },
    "papermill": {
     "duration": 0.161423,
     "end_time": "2022-11-15T13:42:02.242725",
     "exception": false,
     "start_time": "2022-11-15T13:42:02.081302",
     "status": "completed"
    },
    "tags": []
   },
   "outputs": [
    {
     "data": {
      "text/plain": [
       "(48663, 140)"
      ]
     },
     "execution_count": 33,
     "metadata": {},
     "output_type": "execute_result"
    }
   ],
   "source": [
    "test_tar_preds = np.sum(test_preds, axis=0) / len(folds)\n",
    "test_tar_preds.shape"
   ]
  },
  {
   "cell_type": "code",
   "execution_count": 34,
   "id": "a36262c1",
   "metadata": {
    "execution": {
     "iopub.execute_input": "2022-11-15T13:42:02.306368Z",
     "iopub.status.busy": "2022-11-15T13:42:02.305972Z",
     "iopub.status.idle": "2022-11-15T13:42:02.443939Z",
     "shell.execute_reply": "2022-11-15T13:42:02.442702Z"
    },
    "papermill": {
     "duration": 0.17292,
     "end_time": "2022-11-15T13:42:02.446440",
     "exception": false,
     "start_time": "2022-11-15T13:42:02.273520",
     "status": "completed"
    },
    "tags": []
   },
   "outputs": [
    {
     "data": {
      "text/plain": [
       "84"
      ]
     },
     "execution_count": 34,
     "metadata": {},
     "output_type": "execute_result"
    }
   ],
   "source": [
    "del test_inp\n",
    "gc.collect()"
   ]
  },
  {
   "cell_type": "markdown",
   "id": "a7c5f5f9",
   "metadata": {
    "papermill": {
     "duration": 0.030584,
     "end_time": "2022-11-15T13:42:02.508279",
     "exception": false,
     "start_time": "2022-11-15T13:42:02.477695",
     "status": "completed"
    },
    "tags": []
   },
   "source": [
    "## Creating Submission"
   ]
  },
  {
   "cell_type": "code",
   "execution_count": 35,
   "id": "390adce6",
   "metadata": {
    "execution": {
     "iopub.execute_input": "2022-11-15T13:42:02.572650Z",
     "iopub.status.busy": "2022-11-15T13:42:02.572227Z",
     "iopub.status.idle": "2022-11-15T13:42:03.693287Z",
     "shell.execute_reply": "2022-11-15T13:42:03.691920Z"
    },
    "papermill": {
     "duration": 1.156893,
     "end_time": "2022-11-15T13:42:03.696227",
     "exception": false,
     "start_time": "2022-11-15T13:42:02.539334",
     "status": "completed"
    },
    "tags": []
   },
   "outputs": [
    {
     "name": "stdout",
     "output_type": "stream",
     "text": [
      "total 7.1G\r\n",
      "-rw-r--r-- 1 nobody nogroup  25K Nov 14 16:09 __notebook__.ipynb\r\n",
      "-rw-r--r-- 1 nobody nogroup  25K Nov 14 16:09 __output__.json\r\n",
      "-rw-r--r-- 1 nobody nogroup 293K Nov 14 16:09 __results__.html\r\n",
      "-rw-r--r-- 1 nobody nogroup    0 Nov 14 16:09 custom.css\r\n",
      "-rw-r--r-- 1 nobody nogroup 359M Nov 14 16:09 evaluation_ids.parquet\r\n",
      "-rw-r--r-- 1 nobody nogroup 3.8M Nov 14 16:09 metadata.parquet\r\n",
      "-rw-r--r-- 1 nobody nogroup 108K Nov 14 16:09 metadata_cite_day_2_donor_27678.parquet\r\n",
      "-rw-r--r-- 1 nobody nogroup 252M Nov 14 16:09 sample_submission.parquet\r\n",
      "-rw-r--r-- 1 nobody nogroup 856K Nov 14 16:09 test_cite_inputs_day_2_donor_27678_idx.npz\r\n",
      "-rw-r--r-- 1 nobody nogroup  78M Nov 14 16:09 test_cite_inputs_day_2_donor_27678_val.sparse.npz\r\n",
      "-rw-r--r-- 1 nobody nogroup 1.8M Nov 14 16:09 test_cite_inputs_idx.npz\r\n",
      "-rw-r--r-- 1 nobody nogroup 488M Nov 14 16:09 test_cite_inputs_val.sparse.npz\r\n",
      "-rw-r--r-- 1 nobody nogroup 8.4M Nov 14 16:09 test_multi_inputs_idx.npz\r\n",
      "-rw-r--r-- 1 nobody nogroup 1.7G Nov 14 16:10 test_multi_inputs_val.sparse.npz\r\n",
      "-rw-r--r-- 1 nobody nogroup 2.2M Nov 14 16:09 train_cite_inputs_idx.npz\r\n",
      "-rw-r--r-- 1 nobody nogroup 712M Nov 14 16:09 train_cite_inputs_val.sparse.npz\r\n",
      "-rw-r--r-- 1 nobody nogroup 1.5M Nov 14 16:09 train_cite_targets_idx.npz\r\n",
      "-rw-r--r-- 1 nobody nogroup  36M Nov 14 16:09 train_cite_targets_val.sparse.npz\r\n",
      "-rw-r--r-- 1 nobody nogroup 9.5M Nov 14 16:09 train_multi_inputs_idx.npz\r\n",
      "-rw-r--r-- 1 nobody nogroup 2.8G Nov 14 16:10 train_multi_inputs_val.sparse.npz\r\n",
      "-rw-r--r-- 1 nobody nogroup 2.8M Nov 14 16:09 train_multi_targets_idx.npz\r\n",
      "-rw-r--r-- 1 nobody nogroup 824M Nov 14 16:10 train_multi_targets_val.sparse.npz\r\n"
     ]
    }
   ],
   "source": [
    "DATA_DIR = '../input/msci-h5-sparse-transform'\n",
    "%ls $DATA_DIR -lh"
   ]
  },
  {
   "cell_type": "code",
   "execution_count": 36,
   "id": "3245fabe",
   "metadata": {
    "execution": {
     "iopub.execute_input": "2022-11-15T13:42:03.761724Z",
     "iopub.status.busy": "2022-11-15T13:42:03.760414Z",
     "iopub.status.idle": "2022-11-15T13:42:03.843913Z",
     "shell.execute_reply": "2022-11-15T13:42:03.842625Z"
    },
    "papermill": {
     "duration": 0.119279,
     "end_time": "2022-11-15T13:42:03.846509",
     "exception": false,
     "start_time": "2022-11-15T13:42:03.727230",
     "status": "completed"
    },
    "tags": []
   },
   "outputs": [
    {
     "data": {
      "text/plain": [
       "((140,), (48663,), (48663, 140))"
      ]
     },
     "execution_count": 36,
     "metadata": {},
     "output_type": "execute_result"
    }
   ],
   "source": [
    "test_tar_cols = np.load(f'{DATA_DIR}/train_cite_targets_idx.npz',\n",
    "                        allow_pickle=True)['columns']\n",
    "test_tar_idx = np.load(f'{DATA_DIR}/test_cite_inputs_idx.npz',\n",
    "                       allow_pickle=True)['index']\n",
    "test_tar_cols.shape, test_tar_idx.shape, test_tar_preds.shape"
   ]
  },
  {
   "cell_type": "code",
   "execution_count": 37,
   "id": "42b68430",
   "metadata": {
    "execution": {
     "iopub.execute_input": "2022-11-15T13:42:03.914224Z",
     "iopub.status.busy": "2022-11-15T13:42:03.913791Z",
     "iopub.status.idle": "2022-11-15T13:42:39.684115Z",
     "shell.execute_reply": "2022-11-15T13:42:39.682762Z"
    },
    "papermill": {
     "duration": 35.83515,
     "end_time": "2022-11-15T13:42:39.715264",
     "exception": false,
     "start_time": "2022-11-15T13:42:03.880114",
     "status": "completed"
    },
    "tags": []
   },
   "outputs": [
    {
     "name": "stdout",
     "output_type": "stream",
     "text": [
      "Start Eval...\n",
      "CPU times: user 30.1 s, sys: 10.5 s, total: 40.6 s\n",
      "Wall time: 35.8 s\n"
     ]
    }
   ],
   "source": [
    "%%time\n",
    "print('Start Eval...')\n",
    "eval_ids = pd.read_parquet(f'{DATA_DIR}/evaluation_ids.parquet')\n",
    "eval_ids.cell_id = eval_ids.cell_id.astype(pd.CategoricalDtype())\n",
    "eval_ids.gene_id = eval_ids.gene_id.astype(pd.CategoricalDtype())"
   ]
  },
  {
   "cell_type": "code",
   "execution_count": 38,
   "id": "9eaa36d7",
   "metadata": {
    "execution": {
     "iopub.execute_input": "2022-11-15T13:42:39.783592Z",
     "iopub.status.busy": "2022-11-15T13:42:39.782922Z",
     "iopub.status.idle": "2022-11-15T13:43:03.231903Z",
     "shell.execute_reply": "2022-11-15T13:43:03.230668Z"
    },
    "papermill": {
     "duration": 23.486622,
     "end_time": "2022-11-15T13:43:03.234868",
     "exception": false,
     "start_time": "2022-11-15T13:42:39.748246",
     "status": "completed"
    },
    "tags": []
   },
   "outputs": [
    {
     "name": "stdout",
     "output_type": "stream",
     "text": [
      "CPU times: user 19.6 s, sys: 3.63 s, total: 23.2 s\n",
      "Wall time: 23.2 s\n"
     ]
    },
    {
     "data": {
      "text/plain": [
       "row_id    cell_id       gene_id        \n",
       "0         c2150f55becb  CD86              NaN\n",
       "1         c2150f55becb  CD274             NaN\n",
       "2         c2150f55becb  CD270             NaN\n",
       "3         c2150f55becb  CD155             NaN\n",
       "4         c2150f55becb  CD112             NaN\n",
       "                                           ..\n",
       "65744175  2c53aa67933d  ENSG00000134419   NaN\n",
       "65744176  2c53aa67933d  ENSG00000186862   NaN\n",
       "65744177  2c53aa67933d  ENSG00000170959   NaN\n",
       "65744178  2c53aa67933d  ENSG00000107874   NaN\n",
       "65744179  2c53aa67933d  ENSG00000166012   NaN\n",
       "Name: target, Length: 65744180, dtype: float32"
      ]
     },
     "execution_count": 38,
     "metadata": {},
     "output_type": "execute_result"
    }
   ],
   "source": [
    "%%time\n",
    "sub = pd.Series(name='target',\n",
    "                index=pd.MultiIndex.from_frame(eval_ids), \n",
    "                dtype=np.float32)\n",
    "sub"
   ]
  },
  {
   "cell_type": "code",
   "execution_count": 39,
   "id": "3335230d",
   "metadata": {
    "execution": {
     "iopub.execute_input": "2022-11-15T13:43:03.300241Z",
     "iopub.status.busy": "2022-11-15T13:43:03.299232Z",
     "iopub.status.idle": "2022-11-15T13:43:03.317140Z",
     "shell.execute_reply": "2022-11-15T13:43:03.315987Z"
    },
    "papermill": {
     "duration": 0.053708,
     "end_time": "2022-11-15T13:43:03.320184",
     "exception": false,
     "start_time": "2022-11-15T13:43:03.266476",
     "status": "completed"
    },
    "tags": []
   },
   "outputs": [],
   "source": [
    "cell_id_dict = {cell_id: idx \n",
    "                for idx, cell_id in enumerate(test_tar_idx, 0)}\n",
    "gene_id_dict = {gene_id: idx \n",
    "                for idx, gene_id in enumerate(test_tar_cols, 0)}"
   ]
  },
  {
   "cell_type": "code",
   "execution_count": 40,
   "id": "0209c369",
   "metadata": {
    "execution": {
     "iopub.execute_input": "2022-11-15T13:43:03.386251Z",
     "iopub.status.busy": "2022-11-15T13:43:03.385423Z",
     "iopub.status.idle": "2022-11-15T13:43:05.522991Z",
     "shell.execute_reply": "2022-11-15T13:43:05.521833Z"
    },
    "papermill": {
     "duration": 2.17364,
     "end_time": "2022-11-15T13:43:05.526212",
     "exception": false,
     "start_time": "2022-11-15T13:43:03.352572",
     "status": "completed"
    },
    "tags": []
   },
   "outputs": [],
   "source": [
    "eid_cid_idx = eval_ids['cell_id']\\\n",
    "              .apply(lambda x: cell_id_dict.get(x, -1))\n",
    "eid_gid_idx = eval_ids['gene_id']\\\n",
    "              .apply(lambda x: gene_id_dict.get(x, -1))\n",
    "valid_cite_rows = (eid_cid_idx != -1) & (eid_gid_idx != -1)"
   ]
  },
  {
   "cell_type": "code",
   "execution_count": 41,
   "id": "58bf8ce7",
   "metadata": {
    "execution": {
     "iopub.execute_input": "2022-11-15T13:43:05.592341Z",
     "iopub.status.busy": "2022-11-15T13:43:05.591573Z",
     "iopub.status.idle": "2022-11-15T13:43:06.047970Z",
     "shell.execute_reply": "2022-11-15T13:43:06.046609Z"
    },
    "papermill": {
     "duration": 0.493041,
     "end_time": "2022-11-15T13:43:06.050804",
     "exception": false,
     "start_time": "2022-11-15T13:43:05.557763",
     "status": "completed"
    },
    "tags": []
   },
   "outputs": [
    {
     "name": "stdout",
     "output_type": "stream",
     "text": [
      "CPU times: user 288 ms, sys: 160 ms, total: 448 ms\n",
      "Wall time: 449 ms\n"
     ]
    }
   ],
   "source": [
    "%%time\n",
    "sub.iloc[valid_cite_rows] = test_tar_preds\\\n",
    "                             [eid_cid_idx[valid_cite_rows].to_numpy(),\n",
    "                              eid_gid_idx[valid_cite_rows].to_numpy()]"
   ]
  },
  {
   "cell_type": "code",
   "execution_count": 42,
   "id": "c4328a37",
   "metadata": {
    "execution": {
     "iopub.execute_input": "2022-11-15T13:43:06.116449Z",
     "iopub.status.busy": "2022-11-15T13:43:06.116027Z",
     "iopub.status.idle": "2022-11-15T13:43:06.302997Z",
     "shell.execute_reply": "2022-11-15T13:43:06.301060Z"
    },
    "papermill": {
     "duration": 0.222825,
     "end_time": "2022-11-15T13:43:06.305564",
     "exception": false,
     "start_time": "2022-11-15T13:43:06.082739",
     "status": "completed"
    },
    "tags": []
   },
   "outputs": [
    {
     "data": {
      "text/plain": [
       "97"
      ]
     },
     "execution_count": 42,
     "metadata": {},
     "output_type": "execute_result"
    }
   ],
   "source": [
    "del eval_ids, test_tar_idx, test_tar_cols\n",
    "del eid_cid_idx, eid_gid_idx, valid_cite_rows\n",
    "gc.collect() "
   ]
  },
  {
   "cell_type": "code",
   "execution_count": 43,
   "id": "70a56b28",
   "metadata": {
    "execution": {
     "iopub.execute_input": "2022-11-15T13:43:06.383523Z",
     "iopub.status.busy": "2022-11-15T13:43:06.382394Z",
     "iopub.status.idle": "2022-11-15T13:44:42.742620Z",
     "shell.execute_reply": "2022-11-15T13:44:42.741595Z"
    },
    "papermill": {
     "duration": 96.408365,
     "end_time": "2022-11-15T13:44:42.745850",
     "exception": false,
     "start_time": "2022-11-15T13:43:06.337485",
     "status": "completed"
    },
    "tags": []
   },
   "outputs": [],
   "source": [
    "sub = pd.DataFrame(sub).fillna(0).reset_index()\n",
    "sub.drop(['cell_id', 'gene_id'], axis=1)\\\n",
    "   .to_csv('cite_sub.csv', index=False)"
   ]
  },
  {
   "cell_type": "code",
   "execution_count": 44,
   "id": "ca23f879",
   "metadata": {
    "execution": {
     "iopub.execute_input": "2022-11-15T13:44:42.819599Z",
     "iopub.status.busy": "2022-11-15T13:44:42.818922Z",
     "iopub.status.idle": "2022-11-15T13:44:42.836089Z",
     "shell.execute_reply": "2022-11-15T13:44:42.834783Z"
    },
    "papermill": {
     "duration": 0.05416,
     "end_time": "2022-11-15T13:44:42.838495",
     "exception": false,
     "start_time": "2022-11-15T13:44:42.784335",
     "status": "completed"
    },
    "tags": []
   },
   "outputs": [
    {
     "data": {
      "text/html": [
       "<div>\n",
       "<style scoped>\n",
       "    .dataframe tbody tr th:only-of-type {\n",
       "        vertical-align: middle;\n",
       "    }\n",
       "\n",
       "    .dataframe tbody tr th {\n",
       "        vertical-align: top;\n",
       "    }\n",
       "\n",
       "    .dataframe thead th {\n",
       "        text-align: right;\n",
       "    }\n",
       "</style>\n",
       "<table border=\"1\" class=\"dataframe\">\n",
       "  <thead>\n",
       "    <tr style=\"text-align: right;\">\n",
       "      <th></th>\n",
       "      <th>row_id</th>\n",
       "      <th>cell_id</th>\n",
       "      <th>gene_id</th>\n",
       "      <th>target</th>\n",
       "    </tr>\n",
       "  </thead>\n",
       "  <tbody>\n",
       "    <tr>\n",
       "      <th>0</th>\n",
       "      <td>0</td>\n",
       "      <td>c2150f55becb</td>\n",
       "      <td>CD86</td>\n",
       "      <td>-0.916719</td>\n",
       "    </tr>\n",
       "    <tr>\n",
       "      <th>1</th>\n",
       "      <td>1</td>\n",
       "      <td>c2150f55becb</td>\n",
       "      <td>CD274</td>\n",
       "      <td>-0.868232</td>\n",
       "    </tr>\n",
       "    <tr>\n",
       "      <th>2</th>\n",
       "      <td>2</td>\n",
       "      <td>c2150f55becb</td>\n",
       "      <td>CD270</td>\n",
       "      <td>-0.674110</td>\n",
       "    </tr>\n",
       "    <tr>\n",
       "      <th>3</th>\n",
       "      <td>3</td>\n",
       "      <td>c2150f55becb</td>\n",
       "      <td>CD155</td>\n",
       "      <td>1.288434</td>\n",
       "    </tr>\n",
       "    <tr>\n",
       "      <th>4</th>\n",
       "      <td>4</td>\n",
       "      <td>c2150f55becb</td>\n",
       "      <td>CD112</td>\n",
       "      <td>1.902697</td>\n",
       "    </tr>\n",
       "  </tbody>\n",
       "</table>\n",
       "</div>"
      ],
      "text/plain": [
       "   row_id       cell_id gene_id    target\n",
       "0       0  c2150f55becb    CD86 -0.916719\n",
       "1       1  c2150f55becb   CD274 -0.868232\n",
       "2       2  c2150f55becb   CD270 -0.674110\n",
       "3       3  c2150f55becb   CD155  1.288434\n",
       "4       4  c2150f55becb   CD112  1.902697"
      ]
     },
     "execution_count": 44,
     "metadata": {},
     "output_type": "execute_result"
    }
   ],
   "source": [
    "sub.head()"
   ]
  },
  {
   "cell_type": "code",
   "execution_count": null,
   "id": "375770ee",
   "metadata": {
    "papermill": {
     "duration": 0.032611,
     "end_time": "2022-11-15T13:44:42.903505",
     "exception": false,
     "start_time": "2022-11-15T13:44:42.870894",
     "status": "completed"
    },
    "tags": []
   },
   "outputs": [],
   "source": []
  }
 ],
 "metadata": {
  "kernelspec": {
   "display_name": "Python 3",
   "language": "python",
   "name": "python3"
  },
  "language_info": {
   "codemirror_mode": {
    "name": "ipython",
    "version": 3
   },
   "file_extension": ".py",
   "mimetype": "text/x-python",
   "name": "python",
   "nbconvert_exporter": "python",
   "pygments_lexer": "ipython3",
   "version": "3.7.12"
  },
  "papermill": {
   "default_parameters": {},
   "duration": 467.211401,
   "end_time": "2022-11-15T13:44:44.162234",
   "environment_variables": {},
   "exception": null,
   "input_path": "__notebook__.ipynb",
   "output_path": "__notebook__.ipynb",
   "parameters": {},
   "start_time": "2022-11-15T13:36:56.950833",
   "version": "2.3.4"
  }
 },
 "nbformat": 4,
 "nbformat_minor": 5
}
