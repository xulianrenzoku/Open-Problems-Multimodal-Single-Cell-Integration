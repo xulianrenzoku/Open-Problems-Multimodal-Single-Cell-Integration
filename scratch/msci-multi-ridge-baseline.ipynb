{
 "cells": [
  {
   "cell_type": "code",
   "execution_count": 1,
   "id": "9dde1f85",
   "metadata": {
    "_cell_guid": "b1076dfc-b9ad-4769-8c92-a6c4dae69d19",
    "_uuid": "8f2839f25d086af736a60e9eeb907d3b93b6e0e5",
    "execution": {
     "iopub.execute_input": "2022-11-03T17:16:24.182669Z",
     "iopub.status.busy": "2022-11-03T17:16:24.181852Z",
     "iopub.status.idle": "2022-11-03T17:16:24.274759Z",
     "shell.execute_reply": "2022-11-03T17:16:24.273536Z"
    },
    "papermill": {
     "duration": 0.107981,
     "end_time": "2022-11-03T17:16:24.277832",
     "exception": false,
     "start_time": "2022-11-03T17:16:24.169851",
     "status": "completed"
    },
    "tags": []
   },
   "outputs": [],
   "source": [
    "import os\n",
    "import os.path\n",
    "import gc\n",
    "import numpy as np\n",
    "import pandas as pd\n",
    "import scipy.sparse\n",
    "from tqdm import tqdm"
   ]
  },
  {
   "cell_type": "code",
   "execution_count": 2,
   "id": "ba615757",
   "metadata": {
    "execution": {
     "iopub.execute_input": "2022-11-03T17:16:24.297409Z",
     "iopub.status.busy": "2022-11-03T17:16:24.296724Z",
     "iopub.status.idle": "2022-11-03T17:16:24.301447Z",
     "shell.execute_reply": "2022-11-03T17:16:24.300268Z"
    },
    "papermill": {
     "duration": 0.017259,
     "end_time": "2022-11-03T17:16:24.304027",
     "exception": false,
     "start_time": "2022-11-03T17:16:24.286768",
     "status": "completed"
    },
    "tags": []
   },
   "outputs": [],
   "source": [
    "import warnings \n",
    "warnings.filterwarnings('ignore')"
   ]
  },
  {
   "cell_type": "code",
   "execution_count": 3,
   "id": "999ef73c",
   "metadata": {
    "execution": {
     "iopub.execute_input": "2022-11-03T17:16:24.323342Z",
     "iopub.status.busy": "2022-11-03T17:16:24.322939Z",
     "iopub.status.idle": "2022-11-03T17:16:24.329375Z",
     "shell.execute_reply": "2022-11-03T17:16:24.328134Z"
    },
    "papermill": {
     "duration": 0.019034,
     "end_time": "2022-11-03T17:16:24.331684",
     "exception": false,
     "start_time": "2022-11-03T17:16:24.312650",
     "status": "completed"
    },
    "tags": []
   },
   "outputs": [],
   "source": [
    "import pickle\n",
    "\n",
    "def dump_pickle(file, filename):\n",
    "    outfile = open(filename, 'wb')\n",
    "    pickle.dump(file, outfile)\n",
    "    outfile.close()\n",
    "\n",
    "def load_pickle(filename):\n",
    "    infile = open(filename, 'rb')\n",
    "    file = pickle.load(infile)\n",
    "    infile.close()\n",
    "    return file"
   ]
  },
  {
   "cell_type": "code",
   "execution_count": 4,
   "id": "caf74ffb",
   "metadata": {
    "execution": {
     "iopub.execute_input": "2022-11-03T17:16:24.350863Z",
     "iopub.status.busy": "2022-11-03T17:16:24.350478Z",
     "iopub.status.idle": "2022-11-03T17:16:25.442020Z",
     "shell.execute_reply": "2022-11-03T17:16:25.440857Z"
    },
    "papermill": {
     "duration": 1.104628,
     "end_time": "2022-11-03T17:16:25.444849",
     "exception": false,
     "start_time": "2022-11-03T17:16:24.340221",
     "status": "completed"
    },
    "tags": []
   },
   "outputs": [
    {
     "name": "stdout",
     "output_type": "stream",
     "text": [
      "total 27G\r\n",
      "-rw-r--r-- 1 nobody nogroup 2.3G Sep  7 19:44 evaluation_ids.csv\r\n",
      "-rw-r--r-- 1 nobody nogroup 9.4M Sep  7 19:43 metadata.csv\r\n",
      "-rw-r--r-- 1 nobody nogroup 230K Sep  7 19:43 metadata_cite_day_2_donor_27678.csv\r\n",
      "-rw-r--r-- 1 nobody nogroup 805M Sep  7 19:43 sample_submission.csv\r\n",
      "-rw-r--r-- 1 nobody nogroup 1.6G Sep  7 19:44 test_cite_inputs.h5\r\n",
      "-rw-r--r-- 1 nobody nogroup 294M Sep  7 19:43 test_cite_inputs_day_2_donor_27678.h5\r\n",
      "-rw-r--r-- 1 nobody nogroup 6.1G Sep  7 19:45 test_multi_inputs.h5\r\n",
      "-rw-r--r-- 1 nobody nogroup 2.4G Sep  7 19:44 train_cite_inputs.h5\r\n",
      "-rw-r--r-- 1 nobody nogroup  37M Sep  7 19:43 train_cite_targets.h5\r\n",
      "-rw-r--r-- 1 nobody nogroup  11G Sep  7 19:46 train_multi_inputs.h5\r\n",
      "-rw-r--r-- 1 nobody nogroup 3.0G Sep  7 19:45 train_multi_targets.h5\r\n"
     ]
    }
   ],
   "source": [
    "DATA_DIR = '../input/open-problems-multimodal'\n",
    "%ls $DATA_DIR -lh"
   ]
  },
  {
   "cell_type": "code",
   "execution_count": 5,
   "id": "fe5de516",
   "metadata": {
    "execution": {
     "iopub.execute_input": "2022-11-03T17:16:25.464922Z",
     "iopub.status.busy": "2022-11-03T17:16:25.464446Z",
     "iopub.status.idle": "2022-11-03T17:16:26.549869Z",
     "shell.execute_reply": "2022-11-03T17:16:26.548757Z"
    },
    "papermill": {
     "duration": 1.098672,
     "end_time": "2022-11-03T17:16:26.552632",
     "exception": false,
     "start_time": "2022-11-03T17:16:25.453960",
     "status": "completed"
    },
    "tags": []
   },
   "outputs": [
    {
     "name": "stdout",
     "output_type": "stream",
     "text": [
      "total 7.1G\r\n",
      "-rw-r--r-- 1 nobody nogroup  25K Oct 25 09:30 __notebook__.ipynb\r\n",
      "-rw-r--r-- 1 nobody nogroup  25K Oct 25 09:30 __output__.json\r\n",
      "-rw-r--r-- 1 nobody nogroup 293K Oct 25 09:30 __results__.html\r\n",
      "-rw-r--r-- 1 nobody nogroup    0 Oct 25 09:30 custom.css\r\n",
      "-rw-r--r-- 1 nobody nogroup 359M Oct 25 09:30 evaluation_ids.parquet\r\n",
      "-rw-r--r-- 1 nobody nogroup 3.8M Oct 25 09:30 metadata.parquet\r\n",
      "-rw-r--r-- 1 nobody nogroup 108K Oct 25 09:30 metadata_cite_day_2_donor_27678.parquet\r\n",
      "-rw-r--r-- 1 nobody nogroup 252M Oct 25 09:30 sample_submission.parquet\r\n",
      "-rw-r--r-- 1 nobody nogroup 856K Oct 25 09:30 test_cite_inputs_day_2_donor_27678_idx.npz\r\n",
      "-rw-r--r-- 1 nobody nogroup  78M Oct 25 09:30 test_cite_inputs_day_2_donor_27678_val.sparse.npz\r\n",
      "-rw-r--r-- 1 nobody nogroup 1.8M Oct 25 09:30 test_cite_inputs_idx.npz\r\n",
      "-rw-r--r-- 1 nobody nogroup 488M Oct 25 09:31 test_cite_inputs_val.sparse.npz\r\n",
      "-rw-r--r-- 1 nobody nogroup 8.4M Oct 25 09:30 test_multi_inputs_idx.npz\r\n",
      "-rw-r--r-- 1 nobody nogroup 1.7G Oct 25 09:31 test_multi_inputs_val.sparse.npz\r\n",
      "-rw-r--r-- 1 nobody nogroup 2.2M Oct 25 09:30 train_cite_inputs_idx.npz\r\n",
      "-rw-r--r-- 1 nobody nogroup 712M Oct 25 09:31 train_cite_inputs_val.sparse.npz\r\n",
      "-rw-r--r-- 1 nobody nogroup 1.5M Oct 25 09:30 train_cite_targets_idx.npz\r\n",
      "-rw-r--r-- 1 nobody nogroup  36M Oct 25 09:30 train_cite_targets_val.sparse.npz\r\n",
      "-rw-r--r-- 1 nobody nogroup 9.5M Oct 25 09:30 train_multi_inputs_idx.npz\r\n",
      "-rw-r--r-- 1 nobody nogroup 2.8G Oct 25 09:31 train_multi_inputs_val.sparse.npz\r\n",
      "-rw-r--r-- 1 nobody nogroup 2.8M Oct 25 09:30 train_multi_targets_idx.npz\r\n",
      "-rw-r--r-- 1 nobody nogroup 824M Oct 25 09:31 train_multi_targets_val.sparse.npz\r\n"
     ]
    }
   ],
   "source": [
    "DATA_DIR = '../input/msci-h5-sparse-transform'\n",
    "%ls $DATA_DIR -lh"
   ]
  },
  {
   "cell_type": "markdown",
   "id": "c7222b5e",
   "metadata": {
    "papermill": {
     "duration": 0.008393,
     "end_time": "2022-11-03T17:16:26.571655",
     "exception": false,
     "start_time": "2022-11-03T17:16:26.563262",
     "status": "completed"
    },
    "tags": []
   },
   "source": [
    "## Read Data"
   ]
  },
  {
   "cell_type": "code",
   "execution_count": 6,
   "id": "f4c81fbe",
   "metadata": {
    "execution": {
     "iopub.execute_input": "2022-11-03T17:16:26.591660Z",
     "iopub.status.busy": "2022-11-03T17:16:26.590855Z",
     "iopub.status.idle": "2022-11-03T17:17:35.013426Z",
     "shell.execute_reply": "2022-11-03T17:17:35.012058Z"
    },
    "papermill": {
     "duration": 68.441514,
     "end_time": "2022-11-03T17:17:35.021882",
     "exception": false,
     "start_time": "2022-11-03T17:16:26.580368",
     "status": "completed"
    },
    "tags": []
   },
   "outputs": [
    {
     "name": "stdout",
     "output_type": "stream",
     "text": [
      "CPU times: user 35.8 s, sys: 3.31 s, total: 39.1 s\n",
      "Wall time: 1min 8s\n"
     ]
    },
    {
     "data": {
      "text/plain": [
       "(105942, 228942)"
      ]
     },
     "execution_count": 6,
     "metadata": {},
     "output_type": "execute_result"
    }
   ],
   "source": [
    "%%time\n",
    "train_inp_val_path = f'{DATA_DIR}/train_multi_inputs_val.sparse.npz'\n",
    "train_inp_val = scipy.sparse.load_npz(train_inp_val_path)\n",
    "train_inp_val.shape"
   ]
  },
  {
   "cell_type": "code",
   "execution_count": 7,
   "id": "024c975b",
   "metadata": {
    "execution": {
     "iopub.execute_input": "2022-11-03T17:17:35.043821Z",
     "iopub.status.busy": "2022-11-03T17:17:35.043387Z",
     "iopub.status.idle": "2022-11-03T17:18:01.709724Z",
     "shell.execute_reply": "2022-11-03T17:18:01.708271Z"
    },
    "papermill": {
     "duration": 26.680366,
     "end_time": "2022-11-03T17:18:01.712483",
     "exception": false,
     "start_time": "2022-11-03T17:17:35.032117",
     "status": "completed"
    },
    "tags": []
   },
   "outputs": [
    {
     "name": "stdout",
     "output_type": "stream",
     "text": [
      "CPU times: user 16.4 s, sys: 1.62 s, total: 18.1 s\n",
      "Wall time: 26.7 s\n"
     ]
    },
    {
     "data": {
      "text/plain": [
       "(105942, 23418)"
      ]
     },
     "execution_count": 7,
     "metadata": {},
     "output_type": "execute_result"
    }
   ],
   "source": [
    "%%time\n",
    "train_tar_val_path = f'{DATA_DIR}/train_multi_targets_val.sparse.npz'\n",
    "train_tar_val = scipy.sparse.load_npz(train_tar_val_path)\n",
    "train_tar_val.shape"
   ]
  },
  {
   "cell_type": "markdown",
   "id": "bcf9073c",
   "metadata": {
    "papermill": {
     "duration": 0.00885,
     "end_time": "2022-11-03T17:18:01.730599",
     "exception": false,
     "start_time": "2022-11-03T17:18:01.721749",
     "status": "completed"
    },
    "tags": []
   },
   "source": [
    "## Dimension Reduction"
   ]
  },
  {
   "cell_type": "code",
   "execution_count": 8,
   "id": "a0e13d8c",
   "metadata": {
    "execution": {
     "iopub.execute_input": "2022-11-03T17:18:01.751785Z",
     "iopub.status.busy": "2022-11-03T17:18:01.751150Z",
     "iopub.status.idle": "2022-11-03T17:18:02.918284Z",
     "shell.execute_reply": "2022-11-03T17:18:02.917049Z"
    },
    "papermill": {
     "duration": 1.180788,
     "end_time": "2022-11-03T17:18:02.921111",
     "exception": false,
     "start_time": "2022-11-03T17:18:01.740323",
     "status": "completed"
    },
    "tags": []
   },
   "outputs": [],
   "source": [
    "from sklearn.decomposition import PCA, TruncatedSVD"
   ]
  },
  {
   "cell_type": "code",
   "execution_count": 9,
   "id": "122ce65b",
   "metadata": {
    "execution": {
     "iopub.execute_input": "2022-11-03T17:18:02.941636Z",
     "iopub.status.busy": "2022-11-03T17:18:02.941147Z",
     "iopub.status.idle": "2022-11-03T17:18:02.946451Z",
     "shell.execute_reply": "2022-11-03T17:18:02.945213Z"
    },
    "papermill": {
     "duration": 0.01837,
     "end_time": "2022-11-03T17:18:02.948906",
     "exception": false,
     "start_time": "2022-11-03T17:18:02.930536",
     "status": "completed"
    },
    "tags": []
   },
   "outputs": [],
   "source": [
    "# %%time\n",
    "# ## Baseline\n",
    "# ## https://www.kaggle.com/code/fabiencrom/msci-multiome-quickstart-w-sparse-matrices\n",
    "# ## Sum of explained variance ratio = 0.00765151\n",
    "# tsvd = TruncatedSVD(n_components=16, \n",
    "#                     random_state=42)\n",
    "# np.sum(tsvd.fit(train_inp_val).explained_variance_ratio_)\n",
    "# gc.collect()"
   ]
  },
  {
   "cell_type": "code",
   "execution_count": 10,
   "id": "60761155",
   "metadata": {
    "execution": {
     "iopub.execute_input": "2022-11-03T17:18:02.969245Z",
     "iopub.status.busy": "2022-11-03T17:18:02.968459Z",
     "iopub.status.idle": "2022-11-03T18:21:54.045235Z",
     "shell.execute_reply": "2022-11-03T18:21:54.044088Z"
    },
    "papermill": {
     "duration": 3831.100698,
     "end_time": "2022-11-03T18:21:54.058752",
     "exception": false,
     "start_time": "2022-11-03T17:18:02.958054",
     "status": "completed"
    },
    "tags": []
   },
   "outputs": [
    {
     "name": "stdout",
     "output_type": "stream",
     "text": [
      "Sum of Explained Variance:  0.021708932\n",
      "CPU times: user 1h 4min 48s, sys: 36.9 s, total: 1h 5min 25s\n",
      "Wall time: 1h 3min 51s\n"
     ]
    },
    {
     "data": {
      "text/plain": [
       "42"
      ]
     },
     "execution_count": 10,
     "metadata": {},
     "output_type": "execute_result"
    }
   ],
   "source": [
    "%%time\n",
    "## Baseline\n",
    "train_inp_tsvd = TruncatedSVD(n_components=512, \n",
    "                              random_state=42)\n",
    "\n",
    "train_inp_val = train_inp_tsvd.fit_transform(train_inp_val)\n",
    "print('Sum of Explained Variance: ',\n",
    "      np.sum(train_inp_tsvd.explained_variance_ratio_))\n",
    "\n",
    "gc.collect()"
   ]
  },
  {
   "cell_type": "code",
   "execution_count": 11,
   "id": "d6f7e175",
   "metadata": {
    "execution": {
     "iopub.execute_input": "2022-11-03T18:21:54.079843Z",
     "iopub.status.busy": "2022-11-03T18:21:54.079394Z",
     "iopub.status.idle": "2022-11-03T18:22:17.129798Z",
     "shell.execute_reply": "2022-11-03T18:22:17.128329Z"
    },
    "papermill": {
     "duration": 23.064079,
     "end_time": "2022-11-03T18:22:17.132556",
     "exception": false,
     "start_time": "2022-11-03T18:21:54.068477",
     "status": "completed"
    },
    "tags": []
   },
   "outputs": [
    {
     "name": "stdout",
     "output_type": "stream",
     "text": [
      "CPU times: user 11.3 s, sys: 11.7 s, total: 23 s\n",
      "Wall time: 23 s\n"
     ]
    },
    {
     "data": {
      "text/plain": [
       "21"
      ]
     },
     "execution_count": 11,
     "metadata": {},
     "output_type": "execute_result"
    }
   ],
   "source": [
    "%%time\n",
    "train_tar_val = train_tar_val.todense()\n",
    "gc.collect()"
   ]
  },
  {
   "cell_type": "markdown",
   "id": "75c4e98f",
   "metadata": {
    "papermill": {
     "duration": 0.010189,
     "end_time": "2022-11-03T18:22:17.153323",
     "exception": false,
     "start_time": "2022-11-03T18:22:17.143134",
     "status": "completed"
    },
    "tags": []
   },
   "source": [
    "## Modeling"
   ]
  },
  {
   "cell_type": "markdown",
   "id": "a29ed407",
   "metadata": {
    "papermill": {
     "duration": 0.010481,
     "end_time": "2022-11-03T18:22:17.173887",
     "exception": false,
     "start_time": "2022-11-03T18:22:17.163406",
     "status": "completed"
    },
    "tags": []
   },
   "source": [
    "### Loss Function"
   ]
  },
  {
   "cell_type": "code",
   "execution_count": 12,
   "id": "1e42122b",
   "metadata": {
    "execution": {
     "iopub.execute_input": "2022-11-03T18:22:17.195352Z",
     "iopub.status.busy": "2022-11-03T18:22:17.194880Z",
     "iopub.status.idle": "2022-11-03T18:22:17.202775Z",
     "shell.execute_reply": "2022-11-03T18:22:17.201759Z"
    },
    "papermill": {
     "duration": 0.021468,
     "end_time": "2022-11-03T18:22:17.205176",
     "exception": false,
     "start_time": "2022-11-03T18:22:17.183708",
     "status": "completed"
    },
    "tags": []
   },
   "outputs": [],
   "source": [
    "def correlation_score(y_true, y_pred):\n",
    "    \"\"\"Scores the predictions according to the competition rules. \n",
    "    It is assumed that the predictions are not constant.\n",
    "    Returns the average of each sample's Pearson correlation coefficient\"\"\"\n",
    "    if type(y_true) == pd.DataFrame: y_true = y_true.values\n",
    "    if type(y_pred) == pd.DataFrame: y_pred = y_pred.values\n",
    "    if y_true.shape != y_pred.shape: raise ValueError(\"Shapes are different.\")\n",
    "    corrsum = 0\n",
    "    for i in range(len(y_true)):\n",
    "        corrsum += np.corrcoef(y_true[i], y_pred[i])[1, 0]\n",
    "    return corrsum / len(y_true)"
   ]
  },
  {
   "cell_type": "markdown",
   "id": "0fdead10",
   "metadata": {
    "papermill": {
     "duration": 0.010642,
     "end_time": "2022-11-03T18:22:17.225984",
     "exception": false,
     "start_time": "2022-11-03T18:22:17.215342",
     "status": "completed"
    },
    "tags": []
   },
   "source": [
    "### Modeling"
   ]
  },
  {
   "cell_type": "code",
   "execution_count": 13,
   "id": "79f2e4b8",
   "metadata": {
    "execution": {
     "iopub.execute_input": "2022-11-03T18:22:17.249995Z",
     "iopub.status.busy": "2022-11-03T18:22:17.248629Z",
     "iopub.status.idle": "2022-11-03T18:22:17.255809Z",
     "shell.execute_reply": "2022-11-03T18:22:17.254018Z"
    },
    "papermill": {
     "duration": 0.022445,
     "end_time": "2022-11-03T18:22:17.258938",
     "exception": false,
     "start_time": "2022-11-03T18:22:17.236493",
     "status": "completed"
    },
    "tags": []
   },
   "outputs": [],
   "source": [
    "from sklearn.preprocessing import StandardScaler, Normalizer\n",
    "from sklearn.linear_model import Ridge\n",
    "from sklearn.model_selection import train_test_split"
   ]
  },
  {
   "cell_type": "code",
   "execution_count": 14,
   "id": "b7ce75f8",
   "metadata": {
    "execution": {
     "iopub.execute_input": "2022-11-03T18:22:17.280807Z",
     "iopub.status.busy": "2022-11-03T18:22:17.280329Z",
     "iopub.status.idle": "2022-11-03T18:22:21.986024Z",
     "shell.execute_reply": "2022-11-03T18:22:21.984608Z"
    },
    "papermill": {
     "duration": 4.722033,
     "end_time": "2022-11-03T18:22:21.990823",
     "exception": false,
     "start_time": "2022-11-03T18:22:17.268790",
     "status": "completed"
    },
    "tags": []
   },
   "outputs": [
    {
     "name": "stdout",
     "output_type": "stream",
     "text": [
      "CPU times: user 1.74 s, sys: 2.96 s, total: 4.7 s\n",
      "Wall time: 4.7 s\n"
     ]
    }
   ],
   "source": [
    "%%time\n",
    "X_train, X_val, y_train, y_val = train_test_split(train_inp_val,\n",
    "                                                  train_tar_val,\n",
    "                                                  test_size=0.2,\n",
    "                                                  random_state=42)"
   ]
  },
  {
   "cell_type": "code",
   "execution_count": 15,
   "id": "ac87ce63",
   "metadata": {
    "execution": {
     "iopub.execute_input": "2022-11-03T18:22:22.014810Z",
     "iopub.status.busy": "2022-11-03T18:22:22.014336Z",
     "iopub.status.idle": "2022-11-03T18:22:22.856942Z",
     "shell.execute_reply": "2022-11-03T18:22:22.854906Z"
    },
    "papermill": {
     "duration": 0.859469,
     "end_time": "2022-11-03T18:22:22.861256",
     "exception": false,
     "start_time": "2022-11-03T18:22:22.001787",
     "status": "completed"
    },
    "tags": []
   },
   "outputs": [
    {
     "data": {
      "text/plain": [
       "84"
      ]
     },
     "execution_count": 15,
     "metadata": {},
     "output_type": "execute_result"
    }
   ],
   "source": [
    "del train_inp_val, train_tar_val\n",
    "gc.collect()"
   ]
  },
  {
   "cell_type": "code",
   "execution_count": 16,
   "id": "66546bc7",
   "metadata": {
    "execution": {
     "iopub.execute_input": "2022-11-03T18:22:22.887979Z",
     "iopub.status.busy": "2022-11-03T18:22:22.885977Z",
     "iopub.status.idle": "2022-11-03T18:22:23.797250Z",
     "shell.execute_reply": "2022-11-03T18:22:23.795882Z"
    },
    "papermill": {
     "duration": 0.928378,
     "end_time": "2022-11-03T18:22:23.800704",
     "exception": false,
     "start_time": "2022-11-03T18:22:22.872326",
     "status": "completed"
    },
    "tags": []
   },
   "outputs": [],
   "source": [
    "sc = StandardScaler()\n",
    "X_train = sc.fit_transform(X_train)\n",
    "X_val = sc.transform(X_val)"
   ]
  },
  {
   "cell_type": "code",
   "execution_count": 17,
   "id": "84a1252c",
   "metadata": {
    "execution": {
     "iopub.execute_input": "2022-11-03T18:22:23.825947Z",
     "iopub.status.busy": "2022-11-03T18:22:23.825514Z",
     "iopub.status.idle": "2022-11-03T18:22:47.030423Z",
     "shell.execute_reply": "2022-11-03T18:22:47.028646Z"
    },
    "papermill": {
     "duration": 23.223403,
     "end_time": "2022-11-03T18:22:47.035703",
     "exception": false,
     "start_time": "2022-11-03T18:22:23.812300",
     "status": "completed"
    },
    "tags": []
   },
   "outputs": [
    {
     "name": "stdout",
     "output_type": "stream",
     "text": [
      "CPU times: user 1min 8s, sys: 4.26 s, total: 1min 12s\n",
      "Wall time: 23.2 s\n"
     ]
    },
    {
     "data": {
      "text/plain": [
       "Ridge(copy_X=False, random_state=42)"
      ]
     },
     "execution_count": 17,
     "metadata": {},
     "output_type": "execute_result"
    }
   ],
   "source": [
    "%%time\n",
    "ridge = Ridge(copy_X=False, random_state=42)\n",
    "ridge.fit(X_train, y_train)"
   ]
  },
  {
   "cell_type": "code",
   "execution_count": 18,
   "id": "dfeb44f4",
   "metadata": {
    "execution": {
     "iopub.execute_input": "2022-11-03T18:22:47.076942Z",
     "iopub.status.busy": "2022-11-03T18:22:47.076534Z",
     "iopub.status.idle": "2022-11-03T18:22:47.081048Z",
     "shell.execute_reply": "2022-11-03T18:22:47.079781Z"
    },
    "papermill": {
     "duration": 0.021723,
     "end_time": "2022-11-03T18:22:47.083877",
     "exception": false,
     "start_time": "2022-11-03T18:22:47.062154",
     "status": "completed"
    },
    "tags": []
   },
   "outputs": [],
   "source": [
    "# %%time\n",
    "# correlation_score(ridge.predict(X_train), y_train)"
   ]
  },
  {
   "cell_type": "code",
   "execution_count": 19,
   "id": "afe9555c",
   "metadata": {
    "execution": {
     "iopub.execute_input": "2022-11-03T18:22:47.105723Z",
     "iopub.status.busy": "2022-11-03T18:22:47.105323Z",
     "iopub.status.idle": "2022-11-03T18:22:59.419575Z",
     "shell.execute_reply": "2022-11-03T18:22:59.417864Z"
    },
    "papermill": {
     "duration": 12.328249,
     "end_time": "2022-11-03T18:22:59.422316",
     "exception": false,
     "start_time": "2022-11-03T18:22:47.094067",
     "status": "completed"
    },
    "tags": []
   },
   "outputs": [
    {
     "name": "stdout",
     "output_type": "stream",
     "text": [
      "CPU times: user 22.2 s, sys: 3.2 s, total: 25.4 s\n",
      "Wall time: 12.3 s\n"
     ]
    },
    {
     "data": {
      "text/plain": [
       "0.6632924204983109"
      ]
     },
     "execution_count": 19,
     "metadata": {},
     "output_type": "execute_result"
    }
   ],
   "source": [
    "%%time\n",
    "# dim 512; no scaler; Res: .6632\n",
    "# dim 1024; no scaler; Res: .6609\n",
    "correlation_score(y_val, ridge.predict(X_val))"
   ]
  },
  {
   "cell_type": "code",
   "execution_count": 20,
   "id": "18cafc8c",
   "metadata": {
    "execution": {
     "iopub.execute_input": "2022-11-03T18:22:59.446728Z",
     "iopub.status.busy": "2022-11-03T18:22:59.445919Z",
     "iopub.status.idle": "2022-11-03T18:22:59.603521Z",
     "shell.execute_reply": "2022-11-03T18:22:59.602281Z"
    },
    "papermill": {
     "duration": 0.172659,
     "end_time": "2022-11-03T18:22:59.606038",
     "exception": false,
     "start_time": "2022-11-03T18:22:59.433379",
     "status": "completed"
    },
    "tags": []
   },
   "outputs": [
    {
     "data": {
      "text/plain": [
       "105"
      ]
     },
     "execution_count": 20,
     "metadata": {},
     "output_type": "execute_result"
    }
   ],
   "source": [
    "del X_train, X_val, y_train, y_val\n",
    "gc.collect()"
   ]
  },
  {
   "cell_type": "markdown",
   "id": "9bb32b46",
   "metadata": {
    "papermill": {
     "duration": 0.010693,
     "end_time": "2022-11-03T18:22:59.627638",
     "exception": false,
     "start_time": "2022-11-03T18:22:59.616945",
     "status": "completed"
    },
    "tags": []
   },
   "source": [
    "## Prediction"
   ]
  },
  {
   "cell_type": "code",
   "execution_count": 21,
   "id": "ff430ca1",
   "metadata": {
    "execution": {
     "iopub.execute_input": "2022-11-03T18:22:59.650998Z",
     "iopub.status.busy": "2022-11-03T18:22:59.650101Z",
     "iopub.status.idle": "2022-11-03T18:23:41.188303Z",
     "shell.execute_reply": "2022-11-03T18:23:41.187092Z"
    },
    "papermill": {
     "duration": 41.562212,
     "end_time": "2022-11-03T18:23:41.200283",
     "exception": false,
     "start_time": "2022-11-03T18:22:59.638071",
     "status": "completed"
    },
    "tags": []
   },
   "outputs": [
    {
     "name": "stdout",
     "output_type": "stream",
     "text": [
      "CPU times: user 21.1 s, sys: 1.94 s, total: 23.1 s\n",
      "Wall time: 41.5 s\n"
     ]
    },
    {
     "data": {
      "text/plain": [
       "(55935, 228942)"
      ]
     },
     "execution_count": 21,
     "metadata": {},
     "output_type": "execute_result"
    }
   ],
   "source": [
    "%%time\n",
    "test_inp_val_path = f'{DATA_DIR}/test_multi_inputs_val.sparse.npz'\n",
    "test_inp_val = scipy.sparse.load_npz(test_inp_val_path)\n",
    "test_inp_val.shape"
   ]
  },
  {
   "cell_type": "code",
   "execution_count": 22,
   "id": "9995af4b",
   "metadata": {
    "execution": {
     "iopub.execute_input": "2022-11-03T18:23:41.224635Z",
     "iopub.status.busy": "2022-11-03T18:23:41.224181Z",
     "iopub.status.idle": "2022-11-03T18:25:30.582080Z",
     "shell.execute_reply": "2022-11-03T18:25:30.580958Z"
    },
    "papermill": {
     "duration": 109.384208,
     "end_time": "2022-11-03T18:25:30.595983",
     "exception": false,
     "start_time": "2022-11-03T18:23:41.211775",
     "status": "completed"
    },
    "tags": []
   },
   "outputs": [
    {
     "name": "stdout",
     "output_type": "stream",
     "text": [
      "CPU times: user 1min 48s, sys: 424 ms, total: 1min 49s\n",
      "Wall time: 1min 49s\n"
     ]
    },
    {
     "data": {
      "text/plain": [
       "(55935, 512)"
      ]
     },
     "execution_count": 22,
     "metadata": {},
     "output_type": "execute_result"
    }
   ],
   "source": [
    "%%time\n",
    "test_inp_val = train_inp_tsvd.transform(test_inp_val)\n",
    "test_inp_val.shape"
   ]
  },
  {
   "cell_type": "code",
   "execution_count": 23,
   "id": "929cf9b8",
   "metadata": {
    "execution": {
     "iopub.execute_input": "2022-11-03T18:25:30.619752Z",
     "iopub.status.busy": "2022-11-03T18:25:30.618951Z",
     "iopub.status.idle": "2022-11-03T18:25:43.980447Z",
     "shell.execute_reply": "2022-11-03T18:25:43.979347Z"
    },
    "papermill": {
     "duration": 13.376486,
     "end_time": "2022-11-03T18:25:43.983032",
     "exception": false,
     "start_time": "2022-11-03T18:25:30.606546",
     "status": "completed"
    },
    "tags": []
   },
   "outputs": [
    {
     "name": "stdout",
     "output_type": "stream",
     "text": [
      "CPU times: user 39.7 s, sys: 6.2 s, total: 45.9 s\n",
      "Wall time: 13.4 s\n"
     ]
    },
    {
     "data": {
      "text/plain": [
       "103"
      ]
     },
     "execution_count": 23,
     "metadata": {},
     "output_type": "execute_result"
    }
   ],
   "source": [
    "%%time\n",
    "test_tar_preds = ridge.predict(sc.transform(test_inp_val))\n",
    "del test_inp_val\n",
    "gc.collect()"
   ]
  },
  {
   "cell_type": "markdown",
   "id": "1dc2d051",
   "metadata": {
    "papermill": {
     "duration": 0.010248,
     "end_time": "2022-11-03T18:25:44.004123",
     "exception": false,
     "start_time": "2022-11-03T18:25:43.993875",
     "status": "completed"
    },
    "tags": []
   },
   "source": [
    "## Creating Submission"
   ]
  },
  {
   "cell_type": "code",
   "execution_count": 24,
   "id": "1e2eb565",
   "metadata": {
    "execution": {
     "iopub.execute_input": "2022-11-03T18:25:44.027483Z",
     "iopub.status.busy": "2022-11-03T18:25:44.027036Z",
     "iopub.status.idle": "2022-11-03T18:25:44.211825Z",
     "shell.execute_reply": "2022-11-03T18:25:44.210464Z"
    },
    "papermill": {
     "duration": 0.199566,
     "end_time": "2022-11-03T18:25:44.214398",
     "exception": false,
     "start_time": "2022-11-03T18:25:44.014832",
     "status": "completed"
    },
    "tags": []
   },
   "outputs": [
    {
     "data": {
      "text/plain": [
       "((23418,), (55935,), (55935, 23418))"
      ]
     },
     "execution_count": 24,
     "metadata": {},
     "output_type": "execute_result"
    }
   ],
   "source": [
    "test_tar_cols = np.load(f'{DATA_DIR}/train_multi_targets_idx.npz',\n",
    "                        allow_pickle=True)['columns']\n",
    "test_tar_idx = np.load(f'{DATA_DIR}/test_multi_inputs_idx.npz',\n",
    "                       allow_pickle=True)['index']\n",
    "test_tar_cols.shape, test_tar_idx.shape, test_tar_preds.shape"
   ]
  },
  {
   "cell_type": "code",
   "execution_count": 25,
   "id": "0eddd5c9",
   "metadata": {
    "execution": {
     "iopub.execute_input": "2022-11-03T18:25:44.238005Z",
     "iopub.status.busy": "2022-11-03T18:25:44.237177Z",
     "iopub.status.idle": "2022-11-03T18:26:22.516083Z",
     "shell.execute_reply": "2022-11-03T18:26:22.514701Z"
    },
    "papermill": {
     "duration": 38.304017,
     "end_time": "2022-11-03T18:26:22.529296",
     "exception": false,
     "start_time": "2022-11-03T18:25:44.225279",
     "status": "completed"
    },
    "tags": []
   },
   "outputs": [
    {
     "name": "stdout",
     "output_type": "stream",
     "text": [
      "Start Eval...\n",
      "CPU times: user 31.8 s, sys: 9.09 s, total: 40.9 s\n",
      "Wall time: 38.3 s\n"
     ]
    }
   ],
   "source": [
    "%%time\n",
    "print('Start Eval...')\n",
    "eval_ids = pd.read_parquet(f'{DATA_DIR}/evaluation_ids.parquet')\n",
    "eval_ids.head()\n",
    "\n",
    "eval_ids.cell_id = eval_ids.cell_id.astype(pd.CategoricalDtype())\n",
    "eval_ids.gene_id = eval_ids.gene_id.astype(pd.CategoricalDtype())"
   ]
  },
  {
   "cell_type": "code",
   "execution_count": 26,
   "id": "0154c610",
   "metadata": {
    "execution": {
     "iopub.execute_input": "2022-11-03T18:26:22.554104Z",
     "iopub.status.busy": "2022-11-03T18:26:22.553035Z",
     "iopub.status.idle": "2022-11-03T18:26:47.481837Z",
     "shell.execute_reply": "2022-11-03T18:26:47.480202Z"
    },
    "papermill": {
     "duration": 24.944439,
     "end_time": "2022-11-03T18:26:47.484777",
     "exception": false,
     "start_time": "2022-11-03T18:26:22.540338",
     "status": "completed"
    },
    "tags": []
   },
   "outputs": [
    {
     "name": "stdout",
     "output_type": "stream",
     "text": [
      "CPU times: user 20.8 s, sys: 3.86 s, total: 24.7 s\n",
      "Wall time: 24.7 s\n"
     ]
    },
    {
     "data": {
      "text/plain": [
       "row_id    cell_id       gene_id        \n",
       "0         c2150f55becb  CD86              NaN\n",
       "1         c2150f55becb  CD274             NaN\n",
       "2         c2150f55becb  CD270             NaN\n",
       "3         c2150f55becb  CD155             NaN\n",
       "4         c2150f55becb  CD112             NaN\n",
       "                                           ..\n",
       "65744175  2c53aa67933d  ENSG00000134419   NaN\n",
       "65744176  2c53aa67933d  ENSG00000186862   NaN\n",
       "65744177  2c53aa67933d  ENSG00000170959   NaN\n",
       "65744178  2c53aa67933d  ENSG00000107874   NaN\n",
       "65744179  2c53aa67933d  ENSG00000166012   NaN\n",
       "Name: target, Length: 65744180, dtype: float32"
      ]
     },
     "execution_count": 26,
     "metadata": {},
     "output_type": "execute_result"
    }
   ],
   "source": [
    "%%time\n",
    "sub = pd.Series(name='target',\n",
    "                index=pd.MultiIndex.from_frame(eval_ids), \n",
    "                dtype=np.float32)\n",
    "sub"
   ]
  },
  {
   "cell_type": "code",
   "execution_count": 27,
   "id": "041420cf",
   "metadata": {
    "execution": {
     "iopub.execute_input": "2022-11-03T18:26:47.509076Z",
     "iopub.status.busy": "2022-11-03T18:26:47.508612Z",
     "iopub.status.idle": "2022-11-03T18:26:47.537835Z",
     "shell.execute_reply": "2022-11-03T18:26:47.536873Z"
    },
    "papermill": {
     "duration": 0.044438,
     "end_time": "2022-11-03T18:26:47.540501",
     "exception": false,
     "start_time": "2022-11-03T18:26:47.496063",
     "status": "completed"
    },
    "tags": []
   },
   "outputs": [],
   "source": [
    "cell_id_dict = {cell_id: idx \n",
    "                for idx, cell_id in enumerate(test_tar_idx, 0)}\n",
    "gene_id_dict = {gene_id: idx \n",
    "                for idx, gene_id in enumerate(test_tar_cols, 0)}"
   ]
  },
  {
   "cell_type": "code",
   "execution_count": 28,
   "id": "cfc774d9",
   "metadata": {
    "execution": {
     "iopub.execute_input": "2022-11-03T18:26:47.568351Z",
     "iopub.status.busy": "2022-11-03T18:26:47.567520Z",
     "iopub.status.idle": "2022-11-03T18:26:49.816733Z",
     "shell.execute_reply": "2022-11-03T18:26:49.815472Z"
    },
    "papermill": {
     "duration": 2.266536,
     "end_time": "2022-11-03T18:26:49.819586",
     "exception": false,
     "start_time": "2022-11-03T18:26:47.553050",
     "status": "completed"
    },
    "tags": []
   },
   "outputs": [],
   "source": [
    "eid_cid_idx = eval_ids['cell_id']\\\n",
    "              .apply(lambda x: cell_id_dict.get(x, -1))\n",
    "eid_gid_idx = eval_ids['gene_id']\\\n",
    "              .apply(lambda x: gene_id_dict.get(x, -1))\n",
    "valid_multi_rows = (eid_cid_idx != -1) & (eid_gid_idx != -1)"
   ]
  },
  {
   "cell_type": "code",
   "execution_count": 29,
   "id": "bb97a22a",
   "metadata": {
    "execution": {
     "iopub.execute_input": "2022-11-03T18:26:49.843831Z",
     "iopub.status.busy": "2022-11-03T18:26:49.843377Z",
     "iopub.status.idle": "2022-11-03T18:26:52.440753Z",
     "shell.execute_reply": "2022-11-03T18:26:52.439412Z"
    },
    "papermill": {
     "duration": 2.612551,
     "end_time": "2022-11-03T18:26:52.443283",
     "exception": false,
     "start_time": "2022-11-03T18:26:49.830732",
     "status": "completed"
    },
    "tags": []
   },
   "outputs": [
    {
     "name": "stdout",
     "output_type": "stream",
     "text": [
      "CPU times: user 1.86 s, sys: 726 ms, total: 2.59 s\n",
      "Wall time: 2.59 s\n"
     ]
    }
   ],
   "source": [
    "%%time\n",
    "sub.iloc[valid_multi_rows] = test_tar_preds\\\n",
    "                             [eid_cid_idx[valid_multi_rows].to_numpy(),\n",
    "                              eid_gid_idx[valid_multi_rows].to_numpy()]"
   ]
  },
  {
   "cell_type": "code",
   "execution_count": 30,
   "id": "5a9488f5",
   "metadata": {
    "execution": {
     "iopub.execute_input": "2022-11-03T18:26:52.472252Z",
     "iopub.status.busy": "2022-11-03T18:26:52.471014Z",
     "iopub.status.idle": "2022-11-03T18:26:52.617460Z",
     "shell.execute_reply": "2022-11-03T18:26:52.616222Z"
    },
    "papermill": {
     "duration": 0.163709,
     "end_time": "2022-11-03T18:26:52.620211",
     "exception": false,
     "start_time": "2022-11-03T18:26:52.456502",
     "status": "completed"
    },
    "tags": []
   },
   "outputs": [
    {
     "data": {
      "text/plain": [
       "0"
      ]
     },
     "execution_count": 30,
     "metadata": {},
     "output_type": "execute_result"
    }
   ],
   "source": [
    "del eval_ids, test_tar_idx, test_tar_cols\n",
    "del eid_cid_idx, eid_gid_idx, valid_multi_rows\n",
    "gc.collect()"
   ]
  },
  {
   "cell_type": "code",
   "execution_count": 31,
   "id": "62b1e65c",
   "metadata": {
    "execution": {
     "iopub.execute_input": "2022-11-03T18:26:52.648542Z",
     "iopub.status.busy": "2022-11-03T18:26:52.647557Z",
     "iopub.status.idle": "2022-11-03T18:28:57.109870Z",
     "shell.execute_reply": "2022-11-03T18:28:57.108508Z"
    },
    "papermill": {
     "duration": 124.480193,
     "end_time": "2022-11-03T18:28:57.112845",
     "exception": false,
     "start_time": "2022-11-03T18:26:52.632652",
     "status": "completed"
    },
    "tags": []
   },
   "outputs": [],
   "source": [
    "sub = pd.DataFrame(sub).fillna(0).reset_index()\n",
    "sub.drop(['cell_id', 'gene_id'], axis=1)\\\n",
    "   .to_csv('multi_sub.csv', index=False)"
   ]
  },
  {
   "cell_type": "code",
   "execution_count": null,
   "id": "8c92e782",
   "metadata": {
    "papermill": {
     "duration": 0.010851,
     "end_time": "2022-11-03T18:28:57.135387",
     "exception": false,
     "start_time": "2022-11-03T18:28:57.124536",
     "status": "completed"
    },
    "tags": []
   },
   "outputs": [],
   "source": []
  }
 ],
 "metadata": {
  "kernelspec": {
   "display_name": "Python 3",
   "language": "python",
   "name": "python3"
  },
  "language_info": {
   "codemirror_mode": {
    "name": "ipython",
    "version": 3
   },
   "file_extension": ".py",
   "mimetype": "text/x-python",
   "name": "python",
   "nbconvert_exporter": "python",
   "pygments_lexer": "ipython3",
   "version": "3.7.12"
  },
  "papermill": {
   "default_parameters": {},
   "duration": 4364.187669,
   "end_time": "2022-11-03T18:28:58.180554",
   "environment_variables": {},
   "exception": null,
   "input_path": "__notebook__.ipynb",
   "output_path": "__notebook__.ipynb",
   "parameters": {},
   "start_time": "2022-11-03T17:16:13.992885",
   "version": "2.3.4"
  }
 },
 "nbformat": 4,
 "nbformat_minor": 5
}
