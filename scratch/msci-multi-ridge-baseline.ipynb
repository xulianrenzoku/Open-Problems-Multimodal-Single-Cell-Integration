{
 "cells": [
  {
   "cell_type": "code",
   "execution_count": 1,
   "id": "869c31ab",
   "metadata": {
    "_cell_guid": "b1076dfc-b9ad-4769-8c92-a6c4dae69d19",
    "_uuid": "8f2839f25d086af736a60e9eeb907d3b93b6e0e5",
    "execution": {
     "iopub.execute_input": "2022-10-27T08:11:34.001866Z",
     "iopub.status.busy": "2022-10-27T08:11:34.001404Z",
     "iopub.status.idle": "2022-10-27T08:11:34.096873Z",
     "shell.execute_reply": "2022-10-27T08:11:34.095809Z"
    },
    "papermill": {
     "duration": 0.107418,
     "end_time": "2022-10-27T08:11:34.099262",
     "exception": false,
     "start_time": "2022-10-27T08:11:33.991844",
     "status": "completed"
    },
    "tags": []
   },
   "outputs": [],
   "source": [
    "import os\n",
    "import os.path\n",
    "import gc\n",
    "import numpy as np\n",
    "import pandas as pd\n",
    "import scipy.sparse\n",
    "from tqdm import tqdm"
   ]
  },
  {
   "cell_type": "code",
   "execution_count": 2,
   "id": "1514a889",
   "metadata": {
    "execution": {
     "iopub.execute_input": "2022-10-27T08:11:34.115277Z",
     "iopub.status.busy": "2022-10-27T08:11:34.114899Z",
     "iopub.status.idle": "2022-10-27T08:11:34.119727Z",
     "shell.execute_reply": "2022-10-27T08:11:34.118665Z"
    },
    "papermill": {
     "duration": 0.015068,
     "end_time": "2022-10-27T08:11:34.121741",
     "exception": false,
     "start_time": "2022-10-27T08:11:34.106673",
     "status": "completed"
    },
    "tags": []
   },
   "outputs": [],
   "source": [
    "import warnings \n",
    "warnings.filterwarnings('ignore')"
   ]
  },
  {
   "cell_type": "code",
   "execution_count": 3,
   "id": "c5d60a20",
   "metadata": {
    "execution": {
     "iopub.execute_input": "2022-10-27T08:11:34.138198Z",
     "iopub.status.busy": "2022-10-27T08:11:34.137877Z",
     "iopub.status.idle": "2022-10-27T08:11:34.143320Z",
     "shell.execute_reply": "2022-10-27T08:11:34.142104Z"
    },
    "papermill": {
     "duration": 0.015966,
     "end_time": "2022-10-27T08:11:34.145257",
     "exception": false,
     "start_time": "2022-10-27T08:11:34.129291",
     "status": "completed"
    },
    "tags": []
   },
   "outputs": [],
   "source": [
    "import pickle\n",
    "\n",
    "def dump_pickle(file, filename):\n",
    "    outfile = open(filename, 'wb')\n",
    "    pickle.dump(file, outfile)\n",
    "    outfile.close()\n",
    "\n",
    "def load_pickle(filename):\n",
    "    infile = open(filename, 'rb')\n",
    "    file = pickle.load(infile)\n",
    "    infile.close()\n",
    "    return file"
   ]
  },
  {
   "cell_type": "code",
   "execution_count": 4,
   "id": "8f1048e5",
   "metadata": {
    "execution": {
     "iopub.execute_input": "2022-10-27T08:11:34.161553Z",
     "iopub.status.busy": "2022-10-27T08:11:34.161083Z",
     "iopub.status.idle": "2022-10-27T08:11:34.435175Z",
     "shell.execute_reply": "2022-10-27T08:11:34.434319Z"
    },
    "papermill": {
     "duration": 0.284843,
     "end_time": "2022-10-27T08:11:34.437545",
     "exception": false,
     "start_time": "2022-10-27T08:11:34.152702",
     "status": "completed"
    },
    "tags": []
   },
   "outputs": [
    {
     "name": "stdout",
     "output_type": "stream",
     "text": [
      "total 7.1G\r\n",
      "-rw-r--r-- 1 nobody nogroup  25K Oct 24 17:52 __notebook__.ipynb\r\n",
      "-rw-r--r-- 1 nobody nogroup  25K Oct 24 17:52 __output__.json\r\n",
      "-rw-r--r-- 1 nobody nogroup 293K Oct 24 17:52 __results__.html\r\n",
      "-rw-r--r-- 1 nobody nogroup    0 Oct 24 17:52 custom.css\r\n",
      "-rw-r--r-- 1 nobody nogroup 359M Oct 24 17:52 evaluation_ids.parquet\r\n",
      "-rw-r--r-- 1 nobody nogroup 3.8M Oct 24 17:52 metadata.parquet\r\n",
      "-rw-r--r-- 1 nobody nogroup 108K Oct 24 17:52 metadata_cite_day_2_donor_27678.parquet\r\n",
      "-rw-r--r-- 1 nobody nogroup 252M Oct 24 17:52 sample_submission.parquet\r\n",
      "-rw-r--r-- 1 nobody nogroup 856K Oct 24 17:52 test_cite_inputs_day_2_donor_27678_idx.npz\r\n",
      "-rw-r--r-- 1 nobody nogroup  78M Oct 24 17:52 test_cite_inputs_day_2_donor_27678_val.sparse.npz\r\n",
      "-rw-r--r-- 1 nobody nogroup 1.8M Oct 24 17:52 test_cite_inputs_idx.npz\r\n",
      "-rw-r--r-- 1 nobody nogroup 488M Oct 24 17:52 test_cite_inputs_val.sparse.npz\r\n",
      "-rw-r--r-- 1 nobody nogroup 8.4M Oct 24 17:52 test_multi_inputs_idx.npz\r\n",
      "-rw-r--r-- 1 nobody nogroup 1.7G Oct 24 17:53 test_multi_inputs_val.sparse.npz\r\n",
      "-rw-r--r-- 1 nobody nogroup 2.2M Oct 24 17:52 train_cite_inputs_idx.npz\r\n",
      "-rw-r--r-- 1 nobody nogroup 712M Oct 24 17:52 train_cite_inputs_val.sparse.npz\r\n",
      "-rw-r--r-- 1 nobody nogroup 1.5M Oct 24 17:52 train_cite_targets_idx.npz\r\n",
      "-rw-r--r-- 1 nobody nogroup  36M Oct 24 17:52 train_cite_targets_val.sparse.npz\r\n",
      "-rw-r--r-- 1 nobody nogroup 9.5M Oct 24 17:52 train_multi_inputs_idx.npz\r\n",
      "-rw-r--r-- 1 nobody nogroup 2.8G Oct 24 17:53 train_multi_inputs_val.sparse.npz\r\n",
      "-rw-r--r-- 1 nobody nogroup 2.8M Oct 24 17:52 train_multi_targets_idx.npz\r\n",
      "-rw-r--r-- 1 nobody nogroup 824M Oct 24 17:53 train_multi_targets_val.sparse.npz\r\n"
     ]
    }
   ],
   "source": [
    "DATA_DIR = '../input/msci-h5-sparse-transform'\n",
    "%ls $DATA_DIR -lh"
   ]
  },
  {
   "cell_type": "markdown",
   "id": "375d9404",
   "metadata": {
    "papermill": {
     "duration": 0.007146,
     "end_time": "2022-10-27T08:11:34.452357",
     "exception": false,
     "start_time": "2022-10-27T08:11:34.445211",
     "status": "completed"
    },
    "tags": []
   },
   "source": [
    "## Read Data"
   ]
  },
  {
   "cell_type": "code",
   "execution_count": 5,
   "id": "d9192afc",
   "metadata": {
    "execution": {
     "iopub.execute_input": "2022-10-27T08:11:34.471209Z",
     "iopub.status.busy": "2022-10-27T08:11:34.470553Z",
     "iopub.status.idle": "2022-10-27T08:12:23.202981Z",
     "shell.execute_reply": "2022-10-27T08:12:23.201815Z"
    },
    "papermill": {
     "duration": 48.749568,
     "end_time": "2022-10-27T08:12:23.210675",
     "exception": false,
     "start_time": "2022-10-27T08:11:34.461107",
     "status": "completed"
    },
    "tags": []
   },
   "outputs": [
    {
     "name": "stdout",
     "output_type": "stream",
     "text": [
      "CPU times: user 24 s, sys: 2.38 s, total: 26.3 s\n",
      "Wall time: 48.7 s\n"
     ]
    },
    {
     "data": {
      "text/plain": [
       "(105942, 228942)"
      ]
     },
     "execution_count": 5,
     "metadata": {},
     "output_type": "execute_result"
    }
   ],
   "source": [
    "%%time\n",
    "train_inp_val_path = f'{DATA_DIR}/train_multi_inputs_val.sparse.npz'\n",
    "train_inp_val = scipy.sparse.load_npz(train_inp_val_path)\n",
    "train_inp_val.shape"
   ]
  },
  {
   "cell_type": "code",
   "execution_count": 6,
   "id": "6fbb36a1",
   "metadata": {
    "execution": {
     "iopub.execute_input": "2022-10-27T08:12:23.226869Z",
     "iopub.status.busy": "2022-10-27T08:12:23.226528Z",
     "iopub.status.idle": "2022-10-27T08:12:40.716691Z",
     "shell.execute_reply": "2022-10-27T08:12:40.715302Z"
    },
    "papermill": {
     "duration": 17.500839,
     "end_time": "2022-10-27T08:12:40.718736",
     "exception": false,
     "start_time": "2022-10-27T08:12:23.217897",
     "status": "completed"
    },
    "tags": []
   },
   "outputs": [
    {
     "name": "stdout",
     "output_type": "stream",
     "text": [
      "CPU times: user 10.2 s, sys: 748 ms, total: 10.9 s\n",
      "Wall time: 17.5 s\n"
     ]
    },
    {
     "data": {
      "text/plain": [
       "(105942, 23418)"
      ]
     },
     "execution_count": 6,
     "metadata": {},
     "output_type": "execute_result"
    }
   ],
   "source": [
    "%%time\n",
    "train_tar_val_path = f'{DATA_DIR}/train_multi_targets_val.sparse.npz'\n",
    "train_tar_val = scipy.sparse.load_npz(train_tar_val_path)\n",
    "train_tar_val.shape"
   ]
  },
  {
   "cell_type": "markdown",
   "id": "4a12c177",
   "metadata": {
    "papermill": {
     "duration": 0.007209,
     "end_time": "2022-10-27T08:12:40.733672",
     "exception": false,
     "start_time": "2022-10-27T08:12:40.726463",
     "status": "completed"
    },
    "tags": []
   },
   "source": [
    "## Dimension Reduction"
   ]
  },
  {
   "cell_type": "code",
   "execution_count": 7,
   "id": "a5e96c25",
   "metadata": {
    "execution": {
     "iopub.execute_input": "2022-10-27T08:12:40.750744Z",
     "iopub.status.busy": "2022-10-27T08:12:40.750173Z",
     "iopub.status.idle": "2022-10-27T08:12:41.824322Z",
     "shell.execute_reply": "2022-10-27T08:12:41.823387Z"
    },
    "papermill": {
     "duration": 1.085591,
     "end_time": "2022-10-27T08:12:41.826915",
     "exception": false,
     "start_time": "2022-10-27T08:12:40.741324",
     "status": "completed"
    },
    "tags": []
   },
   "outputs": [],
   "source": [
    "from sklearn.decomposition import PCA, TruncatedSVD"
   ]
  },
  {
   "cell_type": "code",
   "execution_count": 8,
   "id": "9a40b5f4",
   "metadata": {
    "execution": {
     "iopub.execute_input": "2022-10-27T08:12:41.843899Z",
     "iopub.status.busy": "2022-10-27T08:12:41.843499Z",
     "iopub.status.idle": "2022-10-27T08:12:41.847314Z",
     "shell.execute_reply": "2022-10-27T08:12:41.846486Z"
    },
    "papermill": {
     "duration": 0.014283,
     "end_time": "2022-10-27T08:12:41.848997",
     "exception": false,
     "start_time": "2022-10-27T08:12:41.834714",
     "status": "completed"
    },
    "tags": []
   },
   "outputs": [],
   "source": [
    "# %%time\n",
    "# ## Baseline\n",
    "# ## https://www.kaggle.com/code/fabiencrom/msci-multiome-quickstart-w-sparse-matrices\n",
    "# ## Sum of explained variance ratio = 0.00765151\n",
    "# tsvd = TruncatedSVD(n_components=16, \n",
    "#                     random_state=42)\n",
    "# np.sum(tsvd.fit(train_inp_val).explained_variance_ratio_)\n",
    "# gc.collect()"
   ]
  },
  {
   "cell_type": "code",
   "execution_count": 9,
   "id": "469d8fe8",
   "metadata": {
    "execution": {
     "iopub.execute_input": "2022-10-27T08:12:41.865957Z",
     "iopub.status.busy": "2022-10-27T08:12:41.865493Z",
     "iopub.status.idle": "2022-10-27T08:57:26.929888Z",
     "shell.execute_reply": "2022-10-27T08:57:26.928816Z"
    },
    "papermill": {
     "duration": 2685.094028,
     "end_time": "2022-10-27T08:57:26.950804",
     "exception": false,
     "start_time": "2022-10-27T08:12:41.856776",
     "status": "completed"
    },
    "tags": []
   },
   "outputs": [
    {
     "name": "stdout",
     "output_type": "stream",
     "text": [
      "Sum of Explained Variance:  0.021708932\n",
      "CPU times: user 45min 18s, sys: 21.2 s, total: 45min 39s\n",
      "Wall time: 44min 45s\n"
     ]
    },
    {
     "data": {
      "text/plain": [
       "42"
      ]
     },
     "execution_count": 9,
     "metadata": {},
     "output_type": "execute_result"
    }
   ],
   "source": [
    "%%time\n",
    "## Baseline\n",
    "train_inp_tsvd = TruncatedSVD(n_components=512, \n",
    "                              random_state=42)\n",
    "\n",
    "train_inp_val = train_inp_tsvd.fit_transform(train_inp_val)\n",
    "print('Sum of Explained Variance: ',\n",
    "      np.sum(train_inp_tsvd.explained_variance_ratio_))\n",
    "\n",
    "gc.collect()"
   ]
  },
  {
   "cell_type": "code",
   "execution_count": 10,
   "id": "296436a5",
   "metadata": {
    "execution": {
     "iopub.execute_input": "2022-10-27T08:57:26.970045Z",
     "iopub.status.busy": "2022-10-27T08:57:26.969399Z",
     "iopub.status.idle": "2022-10-27T08:57:34.757517Z",
     "shell.execute_reply": "2022-10-27T08:57:34.756284Z"
    },
    "papermill": {
     "duration": 7.80116,
     "end_time": "2022-10-27T08:57:34.760122",
     "exception": false,
     "start_time": "2022-10-27T08:57:26.958962",
     "status": "completed"
    },
    "tags": []
   },
   "outputs": [
    {
     "name": "stdout",
     "output_type": "stream",
     "text": [
      "CPU times: user 2.19 s, sys: 5.59 s, total: 7.78 s\n",
      "Wall time: 7.78 s\n"
     ]
    },
    {
     "data": {
      "text/plain": [
       "21"
      ]
     },
     "execution_count": 10,
     "metadata": {},
     "output_type": "execute_result"
    }
   ],
   "source": [
    "%%time\n",
    "train_tar_val = train_tar_val.todense()\n",
    "gc.collect()"
   ]
  },
  {
   "cell_type": "markdown",
   "id": "6c0cac7a",
   "metadata": {
    "papermill": {
     "duration": 0.007745,
     "end_time": "2022-10-27T08:57:34.776165",
     "exception": false,
     "start_time": "2022-10-27T08:57:34.768420",
     "status": "completed"
    },
    "tags": []
   },
   "source": [
    "## Modeling"
   ]
  },
  {
   "cell_type": "markdown",
   "id": "c8138d59",
   "metadata": {
    "papermill": {
     "duration": 0.007662,
     "end_time": "2022-10-27T08:57:34.791873",
     "exception": false,
     "start_time": "2022-10-27T08:57:34.784211",
     "status": "completed"
    },
    "tags": []
   },
   "source": [
    "### Loss Function"
   ]
  },
  {
   "cell_type": "code",
   "execution_count": 11,
   "id": "7c036d3a",
   "metadata": {
    "execution": {
     "iopub.execute_input": "2022-10-27T08:57:34.809156Z",
     "iopub.status.busy": "2022-10-27T08:57:34.808833Z",
     "iopub.status.idle": "2022-10-27T08:57:34.816083Z",
     "shell.execute_reply": "2022-10-27T08:57:34.815070Z"
    },
    "papermill": {
     "duration": 0.018478,
     "end_time": "2022-10-27T08:57:34.818329",
     "exception": false,
     "start_time": "2022-10-27T08:57:34.799851",
     "status": "completed"
    },
    "tags": []
   },
   "outputs": [],
   "source": [
    "def correlation_score(y_true, y_pred):\n",
    "    \"\"\"Scores the predictions according to the competition rules. \n",
    "    It is assumed that the predictions are not constant.\n",
    "    Returns the average of each sample's Pearson correlation coefficient\"\"\"\n",
    "    if type(y_true) == pd.DataFrame: y_true = y_true.values\n",
    "    if type(y_pred) == pd.DataFrame: y_pred = y_pred.values\n",
    "    if y_true.shape != y_pred.shape: raise ValueError(\"Shapes are different.\")\n",
    "    corrsum = 0\n",
    "    for i in range(len(y_true)):\n",
    "        corrsum += np.corrcoef(y_true[i], y_pred[i])[1, 0]\n",
    "    return corrsum / len(y_true)"
   ]
  },
  {
   "cell_type": "markdown",
   "id": "4424db41",
   "metadata": {
    "papermill": {
     "duration": 0.00765,
     "end_time": "2022-10-27T08:57:34.834250",
     "exception": false,
     "start_time": "2022-10-27T08:57:34.826600",
     "status": "completed"
    },
    "tags": []
   },
   "source": [
    "### Modeling"
   ]
  },
  {
   "cell_type": "code",
   "execution_count": 12,
   "id": "8a253a13",
   "metadata": {
    "execution": {
     "iopub.execute_input": "2022-10-27T08:57:34.852194Z",
     "iopub.status.busy": "2022-10-27T08:57:34.851879Z",
     "iopub.status.idle": "2022-10-27T08:57:34.975272Z",
     "shell.execute_reply": "2022-10-27T08:57:34.974317Z"
    },
    "papermill": {
     "duration": 0.134812,
     "end_time": "2022-10-27T08:57:34.977739",
     "exception": false,
     "start_time": "2022-10-27T08:57:34.842927",
     "status": "completed"
    },
    "tags": []
   },
   "outputs": [],
   "source": [
    "from sklearn.ensemble import RandomForestRegressor\n",
    "from sklearn.linear_model import Ridge\n",
    "from sklearn.model_selection import train_test_split"
   ]
  },
  {
   "cell_type": "code",
   "execution_count": 13,
   "id": "3528abfd",
   "metadata": {
    "execution": {
     "iopub.execute_input": "2022-10-27T08:57:34.996392Z",
     "iopub.status.busy": "2022-10-27T08:57:34.996053Z",
     "iopub.status.idle": "2022-10-27T08:57:36.848644Z",
     "shell.execute_reply": "2022-10-27T08:57:36.847303Z"
    },
    "papermill": {
     "duration": 1.863915,
     "end_time": "2022-10-27T08:57:36.850747",
     "exception": false,
     "start_time": "2022-10-27T08:57:34.986832",
     "status": "completed"
    },
    "tags": []
   },
   "outputs": [
    {
     "name": "stdout",
     "output_type": "stream",
     "text": [
      "CPU times: user 927 ms, sys: 920 ms, total: 1.85 s\n",
      "Wall time: 1.85 s\n"
     ]
    }
   ],
   "source": [
    "%%time\n",
    "X_train, X_val, y_train, y_val = train_test_split(train_inp_val,\n",
    "                                                  train_tar_val,\n",
    "                                                  test_size=0.2,\n",
    "                                                  random_state=42)"
   ]
  },
  {
   "cell_type": "code",
   "execution_count": 14,
   "id": "d87501e9",
   "metadata": {
    "execution": {
     "iopub.execute_input": "2022-10-27T08:57:36.869028Z",
     "iopub.status.busy": "2022-10-27T08:57:36.868625Z",
     "iopub.status.idle": "2022-10-27T08:57:37.427345Z",
     "shell.execute_reply": "2022-10-27T08:57:37.426490Z"
    },
    "papermill": {
     "duration": 0.570004,
     "end_time": "2022-10-27T08:57:37.429422",
     "exception": false,
     "start_time": "2022-10-27T08:57:36.859418",
     "status": "completed"
    },
    "tags": []
   },
   "outputs": [
    {
     "data": {
      "text/plain": [
       "42"
      ]
     },
     "execution_count": 14,
     "metadata": {},
     "output_type": "execute_result"
    }
   ],
   "source": [
    "del train_inp_val, train_tar_val\n",
    "gc.collect()"
   ]
  },
  {
   "cell_type": "code",
   "execution_count": 15,
   "id": "68f2a745",
   "metadata": {
    "execution": {
     "iopub.execute_input": "2022-10-27T08:57:37.448659Z",
     "iopub.status.busy": "2022-10-27T08:57:37.448255Z",
     "iopub.status.idle": "2022-10-27T08:57:51.383886Z",
     "shell.execute_reply": "2022-10-27T08:57:51.382401Z"
    },
    "papermill": {
     "duration": 13.948069,
     "end_time": "2022-10-27T08:57:51.386079",
     "exception": false,
     "start_time": "2022-10-27T08:57:37.438010",
     "status": "completed"
    },
    "tags": []
   },
   "outputs": [
    {
     "name": "stdout",
     "output_type": "stream",
     "text": [
      "CPU times: user 45.9 s, sys: 1.55 s, total: 47.5 s\n",
      "Wall time: 13.9 s\n"
     ]
    },
    {
     "data": {
      "text/plain": [
       "Ridge(copy_X=False, random_state=42)"
      ]
     },
     "execution_count": 15,
     "metadata": {},
     "output_type": "execute_result"
    }
   ],
   "source": [
    "%%time\n",
    "ridge = Ridge(copy_X=False, random_state=42)\n",
    "ridge.fit(X_train, y_train)"
   ]
  },
  {
   "cell_type": "code",
   "execution_count": 16,
   "id": "20c50a2e",
   "metadata": {
    "execution": {
     "iopub.execute_input": "2022-10-27T08:57:51.422916Z",
     "iopub.status.busy": "2022-10-27T08:57:51.422296Z",
     "iopub.status.idle": "2022-10-27T08:57:51.426752Z",
     "shell.execute_reply": "2022-10-27T08:57:51.425985Z"
    },
    "papermill": {
     "duration": 0.028912,
     "end_time": "2022-10-27T08:57:51.428741",
     "exception": false,
     "start_time": "2022-10-27T08:57:51.399829",
     "status": "completed"
    },
    "tags": []
   },
   "outputs": [],
   "source": [
    "# %%time\n",
    "# correlation_score(ridge.predict(X_train), y_train)"
   ]
  },
  {
   "cell_type": "code",
   "execution_count": 17,
   "id": "6780dc96",
   "metadata": {
    "execution": {
     "iopub.execute_input": "2022-10-27T08:57:51.468317Z",
     "iopub.status.busy": "2022-10-27T08:57:51.467230Z",
     "iopub.status.idle": "2022-10-27T08:57:58.900306Z",
     "shell.execute_reply": "2022-10-27T08:57:58.898874Z"
    },
    "papermill": {
     "duration": 7.45067,
     "end_time": "2022-10-27T08:57:58.902408",
     "exception": false,
     "start_time": "2022-10-27T08:57:51.451738",
     "status": "completed"
    },
    "tags": []
   },
   "outputs": [
    {
     "name": "stdout",
     "output_type": "stream",
     "text": [
      "CPU times: user 15.2 s, sys: 1.03 s, total: 16.2 s\n",
      "Wall time: 7.42 s\n"
     ]
    },
    {
     "data": {
      "text/plain": [
       "0.6632924350247889"
      ]
     },
     "execution_count": 17,
     "metadata": {},
     "output_type": "execute_result"
    }
   ],
   "source": [
    "%%time\n",
    "correlation_score(y_val, ridge.predict(X_val))"
   ]
  },
  {
   "cell_type": "code",
   "execution_count": 18,
   "id": "08c26e83",
   "metadata": {
    "execution": {
     "iopub.execute_input": "2022-10-27T08:57:58.920754Z",
     "iopub.status.busy": "2022-10-27T08:57:58.920419Z",
     "iopub.status.idle": "2022-10-27T08:57:59.050677Z",
     "shell.execute_reply": "2022-10-27T08:57:59.049954Z"
    },
    "papermill": {
     "duration": 0.141372,
     "end_time": "2022-10-27T08:57:59.052308",
     "exception": false,
     "start_time": "2022-10-27T08:57:58.910936",
     "status": "completed"
    },
    "tags": []
   },
   "outputs": [
    {
     "data": {
      "text/plain": [
       "84"
      ]
     },
     "execution_count": 18,
     "metadata": {},
     "output_type": "execute_result"
    }
   ],
   "source": [
    "del X_train, X_val, y_train, y_val\n",
    "gc.collect()"
   ]
  },
  {
   "cell_type": "markdown",
   "id": "8440b91d",
   "metadata": {
    "papermill": {
     "duration": 0.008181,
     "end_time": "2022-10-27T08:57:59.069074",
     "exception": false,
     "start_time": "2022-10-27T08:57:59.060893",
     "status": "completed"
    },
    "tags": []
   },
   "source": [
    "## Prediction"
   ]
  },
  {
   "cell_type": "code",
   "execution_count": 19,
   "id": "1aea462f",
   "metadata": {
    "execution": {
     "iopub.execute_input": "2022-10-27T08:57:59.088628Z",
     "iopub.status.busy": "2022-10-27T08:57:59.087494Z",
     "iopub.status.idle": "2022-10-27T08:58:27.084668Z",
     "shell.execute_reply": "2022-10-27T08:58:27.083050Z"
    },
    "papermill": {
     "duration": 28.009234,
     "end_time": "2022-10-27T08:58:27.086941",
     "exception": false,
     "start_time": "2022-10-27T08:57:59.077707",
     "status": "completed"
    },
    "tags": []
   },
   "outputs": [
    {
     "name": "stdout",
     "output_type": "stream",
     "text": [
      "CPU times: user 14 s, sys: 1.01 s, total: 15.1 s\n",
      "Wall time: 28 s\n"
     ]
    },
    {
     "data": {
      "text/plain": [
       "(55935, 228942)"
      ]
     },
     "execution_count": 19,
     "metadata": {},
     "output_type": "execute_result"
    }
   ],
   "source": [
    "%%time\n",
    "test_inp_val_path = f'{DATA_DIR}/test_multi_inputs_val.sparse.npz'\n",
    "test_inp_val = scipy.sparse.load_npz(test_inp_val_path)\n",
    "test_inp_val.shape"
   ]
  },
  {
   "cell_type": "code",
   "execution_count": 20,
   "id": "bcf65668",
   "metadata": {
    "execution": {
     "iopub.execute_input": "2022-10-27T08:58:27.105877Z",
     "iopub.status.busy": "2022-10-27T08:58:27.105444Z",
     "iopub.status.idle": "2022-10-27T09:00:02.964544Z",
     "shell.execute_reply": "2022-10-27T09:00:02.962975Z"
    },
    "papermill": {
     "duration": 95.879941,
     "end_time": "2022-10-27T09:00:02.975606",
     "exception": false,
     "start_time": "2022-10-27T08:58:27.095665",
     "status": "completed"
    },
    "tags": []
   },
   "outputs": [
    {
     "name": "stdout",
     "output_type": "stream",
     "text": [
      "CPU times: user 1min 35s, sys: 219 ms, total: 1min 35s\n",
      "Wall time: 1min 35s\n"
     ]
    },
    {
     "data": {
      "text/plain": [
       "(55935, 512)"
      ]
     },
     "execution_count": 20,
     "metadata": {},
     "output_type": "execute_result"
    }
   ],
   "source": [
    "%%time\n",
    "test_inp_val = train_inp_tsvd.transform(test_inp_val)\n",
    "test_inp_val.shape"
   ]
  },
  {
   "cell_type": "code",
   "execution_count": 21,
   "id": "ab8a462d",
   "metadata": {
    "execution": {
     "iopub.execute_input": "2022-10-27T09:00:02.995445Z",
     "iopub.status.busy": "2022-10-27T09:00:02.995067Z",
     "iopub.status.idle": "2022-10-27T09:00:11.288775Z",
     "shell.execute_reply": "2022-10-27T09:00:11.287876Z"
    },
    "papermill": {
     "duration": 8.305905,
     "end_time": "2022-10-27T09:00:11.290499",
     "exception": false,
     "start_time": "2022-10-27T09:00:02.984594",
     "status": "completed"
    },
    "tags": []
   },
   "outputs": [
    {
     "name": "stdout",
     "output_type": "stream",
     "text": [
      "CPU times: user 28.5 s, sys: 2.02 s, total: 30.5 s\n",
      "Wall time: 8.28 s\n"
     ]
    },
    {
     "data": {
      "text/plain": [
       "103"
      ]
     },
     "execution_count": 21,
     "metadata": {},
     "output_type": "execute_result"
    }
   ],
   "source": [
    "%%time\n",
    "test_tar_preds = ridge.predict(test_inp_val)\n",
    "del test_inp_val\n",
    "gc.collect()"
   ]
  },
  {
   "cell_type": "markdown",
   "id": "8db0df9c",
   "metadata": {
    "papermill": {
     "duration": 0.008647,
     "end_time": "2022-10-27T09:00:11.308034",
     "exception": false,
     "start_time": "2022-10-27T09:00:11.299387",
     "status": "completed"
    },
    "tags": []
   },
   "source": [
    "## Creating Submission"
   ]
  },
  {
   "cell_type": "code",
   "execution_count": 22,
   "id": "5de62670",
   "metadata": {
    "execution": {
     "iopub.execute_input": "2022-10-27T09:00:11.327466Z",
     "iopub.status.busy": "2022-10-27T09:00:11.326889Z",
     "iopub.status.idle": "2022-10-27T09:00:11.440526Z",
     "shell.execute_reply": "2022-10-27T09:00:11.439410Z"
    },
    "papermill": {
     "duration": 0.125754,
     "end_time": "2022-10-27T09:00:11.442421",
     "exception": false,
     "start_time": "2022-10-27T09:00:11.316667",
     "status": "completed"
    },
    "tags": []
   },
   "outputs": [
    {
     "data": {
      "text/plain": [
       "((23418,), (55935,), (55935, 23418))"
      ]
     },
     "execution_count": 22,
     "metadata": {},
     "output_type": "execute_result"
    }
   ],
   "source": [
    "test_tar_cols = np.load(f'{DATA_DIR}/train_multi_targets_idx.npz',\n",
    "                        allow_pickle=True)['columns']\n",
    "test_tar_idx = np.load(f'{DATA_DIR}/test_multi_inputs_idx.npz',\n",
    "                       allow_pickle=True)['index']\n",
    "test_tar_cols.shape, test_tar_idx.shape, test_tar_preds.shape"
   ]
  },
  {
   "cell_type": "code",
   "execution_count": 23,
   "id": "bcb01b8d",
   "metadata": {
    "execution": {
     "iopub.execute_input": "2022-10-27T09:00:11.462203Z",
     "iopub.status.busy": "2022-10-27T09:00:11.461866Z",
     "iopub.status.idle": "2022-10-27T09:00:35.487906Z",
     "shell.execute_reply": "2022-10-27T09:00:35.486249Z"
    },
    "papermill": {
     "duration": 24.038385,
     "end_time": "2022-10-27T09:00:35.490155",
     "exception": false,
     "start_time": "2022-10-27T09:00:11.451770",
     "status": "completed"
    },
    "tags": []
   },
   "outputs": [
    {
     "name": "stdout",
     "output_type": "stream",
     "text": [
      "Start Eval...\n",
      "CPU times: user 21.6 s, sys: 4.28 s, total: 25.9 s\n",
      "Wall time: 24 s\n"
     ]
    }
   ],
   "source": [
    "%%time\n",
    "print('Start Eval...')\n",
    "eval_ids = pd.read_parquet(f'{DATA_DIR}/evaluation_ids.parquet')\n",
    "eval_ids.head()\n",
    "\n",
    "eval_ids.cell_id = eval_ids.cell_id.astype(pd.CategoricalDtype())\n",
    "eval_ids.gene_id = eval_ids.gene_id.astype(pd.CategoricalDtype())"
   ]
  },
  {
   "cell_type": "code",
   "execution_count": 24,
   "id": "58e894b9",
   "metadata": {
    "execution": {
     "iopub.execute_input": "2022-10-27T09:00:35.511253Z",
     "iopub.status.busy": "2022-10-27T09:00:35.510162Z",
     "iopub.status.idle": "2022-10-27T09:00:47.850360Z",
     "shell.execute_reply": "2022-10-27T09:00:47.849086Z"
    },
    "papermill": {
     "duration": 12.352738,
     "end_time": "2022-10-27T09:00:47.852586",
     "exception": false,
     "start_time": "2022-10-27T09:00:35.499848",
     "status": "completed"
    },
    "tags": []
   },
   "outputs": [
    {
     "name": "stdout",
     "output_type": "stream",
     "text": [
      "CPU times: user 10.7 s, sys: 1.5 s, total: 12.2 s\n",
      "Wall time: 12.2 s\n"
     ]
    },
    {
     "data": {
      "text/plain": [
       "row_id    cell_id       gene_id        \n",
       "0         c2150f55becb  CD86              NaN\n",
       "1         c2150f55becb  CD274             NaN\n",
       "2         c2150f55becb  CD270             NaN\n",
       "3         c2150f55becb  CD155             NaN\n",
       "4         c2150f55becb  CD112             NaN\n",
       "                                           ..\n",
       "65744175  2c53aa67933d  ENSG00000134419   NaN\n",
       "65744176  2c53aa67933d  ENSG00000186862   NaN\n",
       "65744177  2c53aa67933d  ENSG00000170959   NaN\n",
       "65744178  2c53aa67933d  ENSG00000107874   NaN\n",
       "65744179  2c53aa67933d  ENSG00000166012   NaN\n",
       "Name: target, Length: 65744180, dtype: float32"
      ]
     },
     "execution_count": 24,
     "metadata": {},
     "output_type": "execute_result"
    }
   ],
   "source": [
    "%%time\n",
    "sub = pd.Series(name='target',\n",
    "                index=pd.MultiIndex.from_frame(eval_ids), \n",
    "                dtype=np.float32)\n",
    "sub"
   ]
  },
  {
   "cell_type": "code",
   "execution_count": 25,
   "id": "311143f5",
   "metadata": {
    "execution": {
     "iopub.execute_input": "2022-10-27T09:00:47.873467Z",
     "iopub.status.busy": "2022-10-27T09:00:47.873112Z",
     "iopub.status.idle": "2022-10-27T09:00:47.893179Z",
     "shell.execute_reply": "2022-10-27T09:00:47.892182Z"
    },
    "papermill": {
     "duration": 0.03281,
     "end_time": "2022-10-27T09:00:47.895158",
     "exception": false,
     "start_time": "2022-10-27T09:00:47.862348",
     "status": "completed"
    },
    "tags": []
   },
   "outputs": [],
   "source": [
    "cell_id_dict = {cell_id: idx \n",
    "                for idx, cell_id in enumerate(test_tar_idx, 0)}\n",
    "gene_id_dict = {gene_id: idx \n",
    "                for idx, gene_id in enumerate(test_tar_cols, 0)}"
   ]
  },
  {
   "cell_type": "code",
   "execution_count": 26,
   "id": "806961be",
   "metadata": {
    "execution": {
     "iopub.execute_input": "2022-10-27T09:00:47.915218Z",
     "iopub.status.busy": "2022-10-27T09:00:47.914892Z",
     "iopub.status.idle": "2022-10-27T09:00:49.264164Z",
     "shell.execute_reply": "2022-10-27T09:00:49.262952Z"
    },
    "papermill": {
     "duration": 1.361971,
     "end_time": "2022-10-27T09:00:49.266668",
     "exception": false,
     "start_time": "2022-10-27T09:00:47.904697",
     "status": "completed"
    },
    "tags": []
   },
   "outputs": [],
   "source": [
    "eid_cid_idx = eval_ids['cell_id']\\\n",
    "              .apply(lambda x: cell_id_dict.get(x, -1))\n",
    "eid_gid_idx = eval_ids['gene_id']\\\n",
    "              .apply(lambda x: gene_id_dict.get(x, -1))\n",
    "valid_multi_rows = (eid_cid_idx != -1) & (eid_gid_idx != -1)"
   ]
  },
  {
   "cell_type": "code",
   "execution_count": 27,
   "id": "ee3b1ce7",
   "metadata": {
    "execution": {
     "iopub.execute_input": "2022-10-27T09:00:49.287076Z",
     "iopub.status.busy": "2022-10-27T09:00:49.286719Z",
     "iopub.status.idle": "2022-10-27T09:00:51.008104Z",
     "shell.execute_reply": "2022-10-27T09:00:51.006523Z"
    },
    "papermill": {
     "duration": 1.733844,
     "end_time": "2022-10-27T09:00:51.009988",
     "exception": false,
     "start_time": "2022-10-27T09:00:49.276144",
     "status": "completed"
    },
    "tags": []
   },
   "outputs": [
    {
     "name": "stdout",
     "output_type": "stream",
     "text": [
      "CPU times: user 1.47 s, sys: 243 ms, total: 1.72 s\n",
      "Wall time: 1.71 s\n"
     ]
    }
   ],
   "source": [
    "%%time\n",
    "sub.iloc[valid_multi_rows] = test_tar_preds\\\n",
    "                             [eid_cid_idx[valid_multi_rows].to_numpy(),\n",
    "                              eid_gid_idx[valid_multi_rows].to_numpy()]"
   ]
  },
  {
   "cell_type": "code",
   "execution_count": 28,
   "id": "0a9ab81d",
   "metadata": {
    "execution": {
     "iopub.execute_input": "2022-10-27T09:00:51.030752Z",
     "iopub.status.busy": "2022-10-27T09:00:51.029583Z",
     "iopub.status.idle": "2022-10-27T09:00:51.150769Z",
     "shell.execute_reply": "2022-10-27T09:00:51.149505Z"
    },
    "papermill": {
     "duration": 0.134271,
     "end_time": "2022-10-27T09:00:51.153507",
     "exception": false,
     "start_time": "2022-10-27T09:00:51.019236",
     "status": "completed"
    },
    "tags": []
   },
   "outputs": [
    {
     "data": {
      "text/plain": [
       "0"
      ]
     },
     "execution_count": 28,
     "metadata": {},
     "output_type": "execute_result"
    }
   ],
   "source": [
    "del eval_ids, test_tar_idx, test_tar_cols\n",
    "del eid_cid_idx, eid_gid_idx, valid_multi_rows\n",
    "gc.collect()"
   ]
  },
  {
   "cell_type": "code",
   "execution_count": 29,
   "id": "8c1c5544",
   "metadata": {
    "execution": {
     "iopub.execute_input": "2022-10-27T09:00:51.174680Z",
     "iopub.status.busy": "2022-10-27T09:00:51.174332Z",
     "iopub.status.idle": "2022-10-27T09:02:19.560622Z",
     "shell.execute_reply": "2022-10-27T09:02:19.559308Z"
    },
    "papermill": {
     "duration": 88.399638,
     "end_time": "2022-10-27T09:02:19.563188",
     "exception": false,
     "start_time": "2022-10-27T09:00:51.163550",
     "status": "completed"
    },
    "tags": []
   },
   "outputs": [],
   "source": [
    "sub = pd.DataFrame(sub).fillna(0).reset_index()\n",
    "sub.drop(['cell_id', 'gene_id'], axis=1)\\\n",
    "   .to_csv('multi_sub.csv', index=False)"
   ]
  },
  {
   "cell_type": "code",
   "execution_count": null,
   "id": "f3448a50",
   "metadata": {
    "papermill": {
     "duration": 0.0091,
     "end_time": "2022-10-27T09:02:19.582305",
     "exception": false,
     "start_time": "2022-10-27T09:02:19.573205",
     "status": "completed"
    },
    "tags": []
   },
   "outputs": [],
   "source": []
  }
 ],
 "metadata": {
  "kernelspec": {
   "display_name": "Python 3",
   "language": "python",
   "name": "python3"
  },
  "language_info": {
   "codemirror_mode": {
    "name": "ipython",
    "version": 3
   },
   "file_extension": ".py",
   "mimetype": "text/x-python",
   "name": "python",
   "nbconvert_exporter": "python",
   "pygments_lexer": "ipython3",
   "version": "3.7.12"
  },
  "papermill": {
   "default_parameters": {},
   "duration": 3053.748454,
   "end_time": "2022-10-27T09:02:20.525628",
   "environment_variables": {},
   "exception": null,
   "input_path": "__notebook__.ipynb",
   "output_path": "__notebook__.ipynb",
   "parameters": {},
   "start_time": "2022-10-27T08:11:26.777174",
   "version": "2.3.4"
  }
 },
 "nbformat": 4,
 "nbformat_minor": 5
}
