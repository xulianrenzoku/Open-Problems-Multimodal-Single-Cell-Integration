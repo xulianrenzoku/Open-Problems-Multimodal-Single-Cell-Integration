{
 "cells": [
  {
   "cell_type": "code",
   "execution_count": 1,
   "id": "5b594826",
   "metadata": {
    "_cell_guid": "b1076dfc-b9ad-4769-8c92-a6c4dae69d19",
    "_uuid": "8f2839f25d086af736a60e9eeb907d3b93b6e0e5",
    "execution": {
     "iopub.execute_input": "2022-10-27T07:16:01.874807Z",
     "iopub.status.busy": "2022-10-27T07:16:01.873806Z",
     "iopub.status.idle": "2022-10-27T07:16:01.969452Z",
     "shell.execute_reply": "2022-10-27T07:16:01.968405Z"
    },
    "papermill": {
     "duration": 0.109814,
     "end_time": "2022-10-27T07:16:01.972107",
     "exception": false,
     "start_time": "2022-10-27T07:16:01.862293",
     "status": "completed"
    },
    "tags": []
   },
   "outputs": [],
   "source": [
    "import os\n",
    "import os.path\n",
    "import gc\n",
    "import numpy as np\n",
    "import pandas as pd\n",
    "import scipy.sparse\n",
    "from tqdm import tqdm"
   ]
  },
  {
   "cell_type": "code",
   "execution_count": 2,
   "id": "40280e4d",
   "metadata": {
    "execution": {
     "iopub.execute_input": "2022-10-27T07:16:01.990396Z",
     "iopub.status.busy": "2022-10-27T07:16:01.989982Z",
     "iopub.status.idle": "2022-10-27T07:16:01.995208Z",
     "shell.execute_reply": "2022-10-27T07:16:01.994150Z"
    },
    "papermill": {
     "duration": 0.016772,
     "end_time": "2022-10-27T07:16:01.997393",
     "exception": false,
     "start_time": "2022-10-27T07:16:01.980621",
     "status": "completed"
    },
    "tags": []
   },
   "outputs": [],
   "source": [
    "import warnings \n",
    "warnings.filterwarnings('ignore')"
   ]
  },
  {
   "cell_type": "code",
   "execution_count": 3,
   "id": "267fdc63",
   "metadata": {
    "execution": {
     "iopub.execute_input": "2022-10-27T07:16:02.015315Z",
     "iopub.status.busy": "2022-10-27T07:16:02.014921Z",
     "iopub.status.idle": "2022-10-27T07:16:02.021061Z",
     "shell.execute_reply": "2022-10-27T07:16:02.020045Z"
    },
    "papermill": {
     "duration": 0.017742,
     "end_time": "2022-10-27T07:16:02.023317",
     "exception": false,
     "start_time": "2022-10-27T07:16:02.005575",
     "status": "completed"
    },
    "tags": []
   },
   "outputs": [],
   "source": [
    "import pickle\n",
    "\n",
    "def dump_pickle(file, filename):\n",
    "    outfile = open(filename, 'wb')\n",
    "    pickle.dump(file, outfile)\n",
    "    outfile.close()\n",
    "\n",
    "def load_pickle(filename):\n",
    "    infile = open(filename, 'rb')\n",
    "    file = pickle.load(infile)\n",
    "    infile.close()\n",
    "    return file"
   ]
  },
  {
   "cell_type": "code",
   "execution_count": 4,
   "id": "904777ca",
   "metadata": {
    "execution": {
     "iopub.execute_input": "2022-10-27T07:16:02.040621Z",
     "iopub.status.busy": "2022-10-27T07:16:02.040275Z",
     "iopub.status.idle": "2022-10-27T07:16:03.142246Z",
     "shell.execute_reply": "2022-10-27T07:16:03.140872Z"
    },
    "papermill": {
     "duration": 1.114046,
     "end_time": "2022-10-27T07:16:03.145386",
     "exception": false,
     "start_time": "2022-10-27T07:16:02.031340",
     "status": "completed"
    },
    "tags": []
   },
   "outputs": [
    {
     "name": "stdout",
     "output_type": "stream",
     "text": [
      "total 7.1G\r\n",
      "-rw-r--r-- 1 nobody nogroup  25K Oct 25 09:30 __notebook__.ipynb\r\n",
      "-rw-r--r-- 1 nobody nogroup  25K Oct 25 09:30 __output__.json\r\n",
      "-rw-r--r-- 1 nobody nogroup 293K Oct 25 09:30 __results__.html\r\n",
      "-rw-r--r-- 1 nobody nogroup    0 Oct 25 09:30 custom.css\r\n",
      "-rw-r--r-- 1 nobody nogroup 359M Oct 25 09:30 evaluation_ids.parquet\r\n",
      "-rw-r--r-- 1 nobody nogroup 3.8M Oct 25 09:30 metadata.parquet\r\n",
      "-rw-r--r-- 1 nobody nogroup 108K Oct 25 09:30 metadata_cite_day_2_donor_27678.parquet\r\n",
      "-rw-r--r-- 1 nobody nogroup 252M Oct 25 09:30 sample_submission.parquet\r\n",
      "-rw-r--r-- 1 nobody nogroup 856K Oct 25 09:30 test_cite_inputs_day_2_donor_27678_idx.npz\r\n",
      "-rw-r--r-- 1 nobody nogroup  78M Oct 25 09:30 test_cite_inputs_day_2_donor_27678_val.sparse.npz\r\n",
      "-rw-r--r-- 1 nobody nogroup 1.8M Oct 25 09:30 test_cite_inputs_idx.npz\r\n",
      "-rw-r--r-- 1 nobody nogroup 488M Oct 25 09:31 test_cite_inputs_val.sparse.npz\r\n",
      "-rw-r--r-- 1 nobody nogroup 8.4M Oct 25 09:30 test_multi_inputs_idx.npz\r\n",
      "-rw-r--r-- 1 nobody nogroup 1.7G Oct 25 09:31 test_multi_inputs_val.sparse.npz\r\n",
      "-rw-r--r-- 1 nobody nogroup 2.2M Oct 25 09:30 train_cite_inputs_idx.npz\r\n",
      "-rw-r--r-- 1 nobody nogroup 712M Oct 25 09:31 train_cite_inputs_val.sparse.npz\r\n",
      "-rw-r--r-- 1 nobody nogroup 1.5M Oct 25 09:30 train_cite_targets_idx.npz\r\n",
      "-rw-r--r-- 1 nobody nogroup  36M Oct 25 09:30 train_cite_targets_val.sparse.npz\r\n",
      "-rw-r--r-- 1 nobody nogroup 9.5M Oct 25 09:30 train_multi_inputs_idx.npz\r\n",
      "-rw-r--r-- 1 nobody nogroup 2.8G Oct 25 09:31 train_multi_inputs_val.sparse.npz\r\n",
      "-rw-r--r-- 1 nobody nogroup 2.8M Oct 25 09:30 train_multi_targets_idx.npz\r\n",
      "-rw-r--r-- 1 nobody nogroup 824M Oct 25 09:31 train_multi_targets_val.sparse.npz\r\n"
     ]
    }
   ],
   "source": [
    "DATA_DIR = '../input/msci-h5-sparse-transform'\n",
    "%ls $DATA_DIR -lh"
   ]
  },
  {
   "cell_type": "markdown",
   "id": "cfb42dd7",
   "metadata": {
    "papermill": {
     "duration": 0.00778,
     "end_time": "2022-10-27T07:16:03.161573",
     "exception": false,
     "start_time": "2022-10-27T07:16:03.153793",
     "status": "completed"
    },
    "tags": []
   },
   "source": [
    "## Read Data"
   ]
  },
  {
   "cell_type": "code",
   "execution_count": 5,
   "id": "20c5eaf6",
   "metadata": {
    "execution": {
     "iopub.execute_input": "2022-10-27T07:16:03.182547Z",
     "iopub.status.busy": "2022-10-27T07:16:03.181725Z",
     "iopub.status.idle": "2022-10-27T07:17:04.091346Z",
     "shell.execute_reply": "2022-10-27T07:17:04.090223Z"
    },
    "papermill": {
     "duration": 60.928073,
     "end_time": "2022-10-27T07:17:04.099174",
     "exception": false,
     "start_time": "2022-10-27T07:16:03.171101",
     "status": "completed"
    },
    "tags": []
   },
   "outputs": [
    {
     "name": "stdout",
     "output_type": "stream",
     "text": [
      "CPU times: user 33.9 s, sys: 3.11 s, total: 37 s\n",
      "Wall time: 1min\n"
     ]
    },
    {
     "data": {
      "text/plain": [
       "(105942, 228942)"
      ]
     },
     "execution_count": 5,
     "metadata": {},
     "output_type": "execute_result"
    }
   ],
   "source": [
    "%%time\n",
    "train_inp_val_path = f'{DATA_DIR}/train_multi_inputs_val.sparse.npz'\n",
    "train_inp_val = scipy.sparse.load_npz(train_inp_val_path)\n",
    "train_inp_val.shape"
   ]
  },
  {
   "cell_type": "code",
   "execution_count": 6,
   "id": "f95f4630",
   "metadata": {
    "execution": {
     "iopub.execute_input": "2022-10-27T07:17:04.117569Z",
     "iopub.status.busy": "2022-10-27T07:17:04.116902Z",
     "iopub.status.idle": "2022-10-27T07:17:27.647902Z",
     "shell.execute_reply": "2022-10-27T07:17:27.646575Z"
    },
    "papermill": {
     "duration": 23.542953,
     "end_time": "2022-10-27T07:17:27.650410",
     "exception": false,
     "start_time": "2022-10-27T07:17:04.107457",
     "status": "completed"
    },
    "tags": []
   },
   "outputs": [
    {
     "name": "stdout",
     "output_type": "stream",
     "text": [
      "CPU times: user 15.4 s, sys: 1.38 s, total: 16.8 s\n",
      "Wall time: 23.5 s\n"
     ]
    },
    {
     "data": {
      "text/plain": [
       "(105942, 23418)"
      ]
     },
     "execution_count": 6,
     "metadata": {},
     "output_type": "execute_result"
    }
   ],
   "source": [
    "%%time\n",
    "train_tar_val_path = f'{DATA_DIR}/train_multi_targets_val.sparse.npz'\n",
    "train_tar_val = scipy.sparse.load_npz(train_tar_val_path)\n",
    "train_tar_val.shape"
   ]
  },
  {
   "cell_type": "markdown",
   "id": "28932d99",
   "metadata": {
    "papermill": {
     "duration": 0.008293,
     "end_time": "2022-10-27T07:17:27.667360",
     "exception": false,
     "start_time": "2022-10-27T07:17:27.659067",
     "status": "completed"
    },
    "tags": []
   },
   "source": [
    "## Dimension Reduction"
   ]
  },
  {
   "cell_type": "code",
   "execution_count": 7,
   "id": "923cce67",
   "metadata": {
    "execution": {
     "iopub.execute_input": "2022-10-27T07:17:27.685940Z",
     "iopub.status.busy": "2022-10-27T07:17:27.685572Z",
     "iopub.status.idle": "2022-10-27T07:17:28.709924Z",
     "shell.execute_reply": "2022-10-27T07:17:28.709063Z"
    },
    "papermill": {
     "duration": 1.036675,
     "end_time": "2022-10-27T07:17:28.712498",
     "exception": false,
     "start_time": "2022-10-27T07:17:27.675823",
     "status": "completed"
    },
    "tags": []
   },
   "outputs": [],
   "source": [
    "from sklearn.decomposition import PCA, TruncatedSVD"
   ]
  },
  {
   "cell_type": "code",
   "execution_count": 8,
   "id": "144ed325",
   "metadata": {
    "execution": {
     "iopub.execute_input": "2022-10-27T07:17:28.730782Z",
     "iopub.status.busy": "2022-10-27T07:17:28.729764Z",
     "iopub.status.idle": "2022-10-27T07:17:28.734664Z",
     "shell.execute_reply": "2022-10-27T07:17:28.733972Z"
    },
    "papermill": {
     "duration": 0.016159,
     "end_time": "2022-10-27T07:17:28.736791",
     "exception": false,
     "start_time": "2022-10-27T07:17:28.720632",
     "status": "completed"
    },
    "tags": []
   },
   "outputs": [],
   "source": [
    "# %%time\n",
    "# ## Baseline\n",
    "# ## https://www.kaggle.com/code/fabiencrom/msci-multiome-quickstart-w-sparse-matrices\n",
    "# ## Sum of explained variance ratio = 0.00765151\n",
    "# tsvd = TruncatedSVD(n_components=16, \n",
    "#                     random_state=42)\n",
    "# np.sum(tsvd.fit(train_inp_val).explained_variance_ratio_)\n",
    "# gc.collect()"
   ]
  },
  {
   "cell_type": "code",
   "execution_count": 9,
   "id": "76671d9e",
   "metadata": {
    "execution": {
     "iopub.execute_input": "2022-10-27T07:17:28.754981Z",
     "iopub.status.busy": "2022-10-27T07:17:28.754329Z",
     "iopub.status.idle": "2022-10-27T07:34:56.669849Z",
     "shell.execute_reply": "2022-10-27T07:34:56.668830Z"
    },
    "papermill": {
     "duration": 1047.935559,
     "end_time": "2022-10-27T07:34:56.680485",
     "exception": false,
     "start_time": "2022-10-27T07:17:28.744926",
     "status": "completed"
    },
    "tags": []
   },
   "outputs": [
    {
     "name": "stdout",
     "output_type": "stream",
     "text": [
      "Sum of Explained Variance:  0.0109976595\n",
      "CPU times: user 17min 36s, sys: 9.74 s, total: 17min 46s\n",
      "Wall time: 17min 27s\n"
     ]
    },
    {
     "data": {
      "text/plain": [
       "42"
      ]
     },
     "execution_count": 9,
     "metadata": {},
     "output_type": "execute_result"
    }
   ],
   "source": [
    "%%time\n",
    "## Baseline\n",
    "train_inp_tsvd = TruncatedSVD(n_components=128, \n",
    "                              random_state=42)\n",
    "\n",
    "train_inp_val = train_inp_tsvd.fit_transform(train_inp_val)\n",
    "print('Sum of Explained Variance: ',\n",
    "      np.sum(train_inp_tsvd.explained_variance_ratio_))\n",
    "\n",
    "gc.collect()"
   ]
  },
  {
   "cell_type": "code",
   "execution_count": 10,
   "id": "8e0783fa",
   "metadata": {
    "execution": {
     "iopub.execute_input": "2022-10-27T07:34:56.698865Z",
     "iopub.status.busy": "2022-10-27T07:34:56.698490Z",
     "iopub.status.idle": "2022-10-27T07:35:12.306664Z",
     "shell.execute_reply": "2022-10-27T07:35:12.305284Z"
    },
    "papermill": {
     "duration": 15.619928,
     "end_time": "2022-10-27T07:35:12.308991",
     "exception": false,
     "start_time": "2022-10-27T07:34:56.689063",
     "status": "completed"
    },
    "tags": []
   },
   "outputs": [
    {
     "name": "stdout",
     "output_type": "stream",
     "text": [
      "CPU times: user 4.81 s, sys: 10.8 s, total: 15.6 s\n",
      "Wall time: 15.6 s\n"
     ]
    },
    {
     "data": {
      "text/plain": [
       "21"
      ]
     },
     "execution_count": 10,
     "metadata": {},
     "output_type": "execute_result"
    }
   ],
   "source": [
    "%%time\n",
    "train_tar_val = train_tar_val.todense()\n",
    "gc.collect()"
   ]
  },
  {
   "cell_type": "markdown",
   "id": "5b19cd00",
   "metadata": {
    "papermill": {
     "duration": 0.008026,
     "end_time": "2022-10-27T07:35:12.325742",
     "exception": false,
     "start_time": "2022-10-27T07:35:12.317716",
     "status": "completed"
    },
    "tags": []
   },
   "source": [
    "## Modeling"
   ]
  },
  {
   "cell_type": "markdown",
   "id": "a9995d7c",
   "metadata": {
    "papermill": {
     "duration": 0.008112,
     "end_time": "2022-10-27T07:35:12.342156",
     "exception": false,
     "start_time": "2022-10-27T07:35:12.334044",
     "status": "completed"
    },
    "tags": []
   },
   "source": [
    "### Loss Function"
   ]
  },
  {
   "cell_type": "code",
   "execution_count": 11,
   "id": "f0e88ef8",
   "metadata": {
    "execution": {
     "iopub.execute_input": "2022-10-27T07:35:12.360655Z",
     "iopub.status.busy": "2022-10-27T07:35:12.360090Z",
     "iopub.status.idle": "2022-10-27T07:35:12.366406Z",
     "shell.execute_reply": "2022-10-27T07:35:12.365694Z"
    },
    "papermill": {
     "duration": 0.017783,
     "end_time": "2022-10-27T07:35:12.368368",
     "exception": false,
     "start_time": "2022-10-27T07:35:12.350585",
     "status": "completed"
    },
    "tags": []
   },
   "outputs": [],
   "source": [
    "def correlation_score(y_true, y_pred):\n",
    "    \"\"\"Scores the predictions according to the competition rules. \n",
    "    It is assumed that the predictions are not constant.\n",
    "    Returns the average of each sample's Pearson correlation coefficient\"\"\"\n",
    "    if type(y_true) == pd.DataFrame: y_true = y_true.values\n",
    "    if type(y_pred) == pd.DataFrame: y_pred = y_pred.values\n",
    "    if y_true.shape != y_pred.shape: raise ValueError(\"Shapes are different.\")\n",
    "    corrsum = 0\n",
    "    for i in range(len(y_true)):\n",
    "        corrsum += np.corrcoef(y_true[i], y_pred[i])[1, 0]\n",
    "    return corrsum / len(y_true)"
   ]
  },
  {
   "cell_type": "markdown",
   "id": "cc03be19",
   "metadata": {
    "papermill": {
     "duration": 0.008054,
     "end_time": "2022-10-27T07:35:12.384579",
     "exception": false,
     "start_time": "2022-10-27T07:35:12.376525",
     "status": "completed"
    },
    "tags": []
   },
   "source": [
    "### Modeling"
   ]
  },
  {
   "cell_type": "code",
   "execution_count": 12,
   "id": "37eacdcc",
   "metadata": {
    "execution": {
     "iopub.execute_input": "2022-10-27T07:35:12.403090Z",
     "iopub.status.busy": "2022-10-27T07:35:12.402652Z",
     "iopub.status.idle": "2022-10-27T07:35:12.506614Z",
     "shell.execute_reply": "2022-10-27T07:35:12.505682Z"
    },
    "papermill": {
     "duration": 0.11618,
     "end_time": "2022-10-27T07:35:12.509156",
     "exception": false,
     "start_time": "2022-10-27T07:35:12.392976",
     "status": "completed"
    },
    "tags": []
   },
   "outputs": [],
   "source": [
    "from sklearn.ensemble import RandomForestRegressor\n",
    "from sklearn.linear_model import Ridge\n",
    "from sklearn.model_selection import train_test_split"
   ]
  },
  {
   "cell_type": "code",
   "execution_count": 13,
   "id": "76cbefdf",
   "metadata": {
    "execution": {
     "iopub.execute_input": "2022-10-27T07:35:12.528072Z",
     "iopub.status.busy": "2022-10-27T07:35:12.527675Z",
     "iopub.status.idle": "2022-10-27T07:35:16.596139Z",
     "shell.execute_reply": "2022-10-27T07:35:16.594839Z"
    },
    "papermill": {
     "duration": 4.081249,
     "end_time": "2022-10-27T07:35:16.599360",
     "exception": false,
     "start_time": "2022-10-27T07:35:12.518111",
     "status": "completed"
    },
    "tags": []
   },
   "outputs": [
    {
     "name": "stdout",
     "output_type": "stream",
     "text": [
      "CPU times: user 1.28 s, sys: 2.78 s, total: 4.06 s\n",
      "Wall time: 4.06 s\n"
     ]
    }
   ],
   "source": [
    "%%time\n",
    "X_train, X_val, y_train, y_val = train_test_split(train_inp_val,\n",
    "                                                  train_tar_val,\n",
    "                                                  test_size=0.2,\n",
    "                                                  random_state=42)"
   ]
  },
  {
   "cell_type": "code",
   "execution_count": 14,
   "id": "9ba3343f",
   "metadata": {
    "execution": {
     "iopub.execute_input": "2022-10-27T07:35:16.627202Z",
     "iopub.status.busy": "2022-10-27T07:35:16.625902Z",
     "iopub.status.idle": "2022-10-27T07:35:17.398017Z",
     "shell.execute_reply": "2022-10-27T07:35:17.396993Z"
    },
    "papermill": {
     "duration": 0.787803,
     "end_time": "2022-10-27T07:35:17.401192",
     "exception": false,
     "start_time": "2022-10-27T07:35:16.613389",
     "status": "completed"
    },
    "tags": []
   },
   "outputs": [
    {
     "data": {
      "text/plain": [
       "42"
      ]
     },
     "execution_count": 14,
     "metadata": {},
     "output_type": "execute_result"
    }
   ],
   "source": [
    "del train_inp_val, train_tar_val\n",
    "gc.collect()"
   ]
  },
  {
   "cell_type": "code",
   "execution_count": 15,
   "id": "cbd3514e",
   "metadata": {
    "execution": {
     "iopub.execute_input": "2022-10-27T07:35:17.425190Z",
     "iopub.status.busy": "2022-10-27T07:35:17.424837Z",
     "iopub.status.idle": "2022-10-27T07:35:29.784867Z",
     "shell.execute_reply": "2022-10-27T07:35:29.782054Z"
    },
    "papermill": {
     "duration": 12.380761,
     "end_time": "2022-10-27T07:35:29.793605",
     "exception": false,
     "start_time": "2022-10-27T07:35:17.412844",
     "status": "completed"
    },
    "tags": []
   },
   "outputs": [
    {
     "name": "stdout",
     "output_type": "stream",
     "text": [
      "CPU times: user 22.5 s, sys: 4.53 s, total: 27 s\n",
      "Wall time: 12.3 s\n"
     ]
    },
    {
     "data": {
      "text/plain": [
       "Ridge(copy_X=False, random_state=42)"
      ]
     },
     "execution_count": 15,
     "metadata": {},
     "output_type": "execute_result"
    }
   ],
   "source": [
    "%%time\n",
    "ridge = Ridge(copy_X=False, random_state=42)\n",
    "ridge.fit(X_train, y_train)"
   ]
  },
  {
   "cell_type": "code",
   "execution_count": 16,
   "id": "6a80c3ef",
   "metadata": {
    "execution": {
     "iopub.execute_input": "2022-10-27T07:35:29.863840Z",
     "iopub.status.busy": "2022-10-27T07:35:29.863440Z",
     "iopub.status.idle": "2022-10-27T07:35:29.868695Z",
     "shell.execute_reply": "2022-10-27T07:35:29.867675Z"
    },
    "papermill": {
     "duration": 0.023927,
     "end_time": "2022-10-27T07:35:29.870886",
     "exception": false,
     "start_time": "2022-10-27T07:35:29.846959",
     "status": "completed"
    },
    "tags": []
   },
   "outputs": [],
   "source": [
    "# %%time\n",
    "# correlation_score(ridge.predict(X_train), y_train)"
   ]
  },
  {
   "cell_type": "code",
   "execution_count": 17,
   "id": "57979672",
   "metadata": {
    "execution": {
     "iopub.execute_input": "2022-10-27T07:35:29.890594Z",
     "iopub.status.busy": "2022-10-27T07:35:29.889895Z",
     "iopub.status.idle": "2022-10-27T07:35:38.411847Z",
     "shell.execute_reply": "2022-10-27T07:35:38.410514Z"
    },
    "papermill": {
     "duration": 8.534348,
     "end_time": "2022-10-27T07:35:38.414243",
     "exception": false,
     "start_time": "2022-10-27T07:35:29.879895",
     "status": "completed"
    },
    "tags": []
   },
   "outputs": [
    {
     "name": "stdout",
     "output_type": "stream",
     "text": [
      "CPU times: user 10.7 s, sys: 1.87 s, total: 12.6 s\n",
      "Wall time: 8.51 s\n"
     ]
    },
    {
     "data": {
      "text/plain": [
       "0.664523262485194"
      ]
     },
     "execution_count": 17,
     "metadata": {},
     "output_type": "execute_result"
    }
   ],
   "source": [
    "%%time\n",
    "correlation_score(y_val, ridge.predict(X_val))"
   ]
  },
  {
   "cell_type": "code",
   "execution_count": 18,
   "id": "90e83c31",
   "metadata": {
    "execution": {
     "iopub.execute_input": "2022-10-27T07:35:38.434546Z",
     "iopub.status.busy": "2022-10-27T07:35:38.434210Z",
     "iopub.status.idle": "2022-10-27T07:35:38.635798Z",
     "shell.execute_reply": "2022-10-27T07:35:38.634818Z"
    },
    "papermill": {
     "duration": 0.214553,
     "end_time": "2022-10-27T07:35:38.638271",
     "exception": false,
     "start_time": "2022-10-27T07:35:38.423718",
     "status": "completed"
    },
    "tags": []
   },
   "outputs": [
    {
     "data": {
      "text/plain": [
       "84"
      ]
     },
     "execution_count": 18,
     "metadata": {},
     "output_type": "execute_result"
    }
   ],
   "source": [
    "del X_train, X_val, y_train, y_val\n",
    "gc.collect()"
   ]
  },
  {
   "cell_type": "markdown",
   "id": "bad0a905",
   "metadata": {
    "papermill": {
     "duration": 0.008919,
     "end_time": "2022-10-27T07:35:38.656743",
     "exception": false,
     "start_time": "2022-10-27T07:35:38.647824",
     "status": "completed"
    },
    "tags": []
   },
   "source": [
    "## Prediction"
   ]
  },
  {
   "cell_type": "code",
   "execution_count": 19,
   "id": "0445977a",
   "metadata": {
    "execution": {
     "iopub.execute_input": "2022-10-27T07:35:38.677053Z",
     "iopub.status.busy": "2022-10-27T07:35:38.676410Z",
     "iopub.status.idle": "2022-10-27T07:36:14.859179Z",
     "shell.execute_reply": "2022-10-27T07:36:14.857971Z"
    },
    "papermill": {
     "duration": 36.204803,
     "end_time": "2022-10-27T07:36:14.870756",
     "exception": false,
     "start_time": "2022-10-27T07:35:38.665953",
     "status": "completed"
    },
    "tags": []
   },
   "outputs": [
    {
     "name": "stdout",
     "output_type": "stream",
     "text": [
      "CPU times: user 19.6 s, sys: 1.35 s, total: 21 s\n",
      "Wall time: 36.2 s\n"
     ]
    },
    {
     "data": {
      "text/plain": [
       "(55935, 228942)"
      ]
     },
     "execution_count": 19,
     "metadata": {},
     "output_type": "execute_result"
    }
   ],
   "source": [
    "%%time\n",
    "test_inp_val_path = f'{DATA_DIR}/test_multi_inputs_val.sparse.npz'\n",
    "test_inp_val = scipy.sparse.load_npz(test_inp_val_path)\n",
    "test_inp_val.shape"
   ]
  },
  {
   "cell_type": "code",
   "execution_count": 20,
   "id": "cc26e127",
   "metadata": {
    "execution": {
     "iopub.execute_input": "2022-10-27T07:36:14.891504Z",
     "iopub.status.busy": "2022-10-27T07:36:14.891158Z",
     "iopub.status.idle": "2022-10-27T07:36:49.590716Z",
     "shell.execute_reply": "2022-10-27T07:36:49.589764Z"
    },
    "papermill": {
     "duration": 34.724249,
     "end_time": "2022-10-27T07:36:49.604473",
     "exception": false,
     "start_time": "2022-10-27T07:36:14.880224",
     "status": "completed"
    },
    "tags": []
   },
   "outputs": [
    {
     "name": "stdout",
     "output_type": "stream",
     "text": [
      "CPU times: user 34.6 s, sys: 68.2 ms, total: 34.7 s\n",
      "Wall time: 34.7 s\n"
     ]
    },
    {
     "data": {
      "text/plain": [
       "(55935, 128)"
      ]
     },
     "execution_count": 20,
     "metadata": {},
     "output_type": "execute_result"
    }
   ],
   "source": [
    "%%time\n",
    "test_inp_val = train_inp_tsvd.transform(test_inp_val)\n",
    "test_inp_val.shape"
   ]
  },
  {
   "cell_type": "code",
   "execution_count": 21,
   "id": "031305a0",
   "metadata": {
    "execution": {
     "iopub.execute_input": "2022-10-27T07:36:49.625033Z",
     "iopub.status.busy": "2022-10-27T07:36:49.624648Z",
     "iopub.status.idle": "2022-10-27T07:36:54.656437Z",
     "shell.execute_reply": "2022-10-27T07:36:54.654861Z"
    },
    "papermill": {
     "duration": 5.0452,
     "end_time": "2022-10-27T07:36:54.659171",
     "exception": false,
     "start_time": "2022-10-27T07:36:49.613971",
     "status": "completed"
    },
    "tags": []
   },
   "outputs": [
    {
     "name": "stdout",
     "output_type": "stream",
     "text": [
      "CPU times: user 11 s, sys: 4.11 s, total: 15.1 s\n",
      "Wall time: 5.02 s\n"
     ]
    },
    {
     "data": {
      "text/plain": [
       "103"
      ]
     },
     "execution_count": 21,
     "metadata": {},
     "output_type": "execute_result"
    }
   ],
   "source": [
    "%%time\n",
    "test_tar_preds = ridge.predict(test_inp_val)\n",
    "del test_inp_val\n",
    "gc.collect()"
   ]
  },
  {
   "cell_type": "markdown",
   "id": "09513c8c",
   "metadata": {
    "papermill": {
     "duration": 0.010499,
     "end_time": "2022-10-27T07:36:54.679891",
     "exception": false,
     "start_time": "2022-10-27T07:36:54.669392",
     "status": "completed"
    },
    "tags": []
   },
   "source": [
    "## Creating Submission"
   ]
  },
  {
   "cell_type": "code",
   "execution_count": 22,
   "id": "c159eed6",
   "metadata": {
    "execution": {
     "iopub.execute_input": "2022-10-27T07:36:54.701861Z",
     "iopub.status.busy": "2022-10-27T07:36:54.700897Z",
     "iopub.status.idle": "2022-10-27T07:36:54.808987Z",
     "shell.execute_reply": "2022-10-27T07:36:54.807461Z"
    },
    "papermill": {
     "duration": 0.122574,
     "end_time": "2022-10-27T07:36:54.812214",
     "exception": false,
     "start_time": "2022-10-27T07:36:54.689640",
     "status": "completed"
    },
    "tags": []
   },
   "outputs": [
    {
     "data": {
      "text/plain": [
       "((23418,), (55935,), (55935, 23418))"
      ]
     },
     "execution_count": 22,
     "metadata": {},
     "output_type": "execute_result"
    }
   ],
   "source": [
    "test_tar_cols = np.load(f'{DATA_DIR}/train_multi_targets_idx.npz',\n",
    "                        allow_pickle=True)['columns']\n",
    "test_tar_idx = np.load(f'{DATA_DIR}/test_multi_inputs_idx.npz',\n",
    "                       allow_pickle=True)['index']\n",
    "test_tar_cols.shape, test_tar_idx.shape, test_tar_preds.shape"
   ]
  },
  {
   "cell_type": "code",
   "execution_count": 23,
   "id": "42cfed9c",
   "metadata": {
    "execution": {
     "iopub.execute_input": "2022-10-27T07:36:54.833776Z",
     "iopub.status.busy": "2022-10-27T07:36:54.833352Z",
     "iopub.status.idle": "2022-10-27T07:37:25.194496Z",
     "shell.execute_reply": "2022-10-27T07:37:25.193143Z"
    },
    "papermill": {
     "duration": 30.385022,
     "end_time": "2022-10-27T07:37:25.207227",
     "exception": false,
     "start_time": "2022-10-27T07:36:54.822205",
     "status": "completed"
    },
    "tags": []
   },
   "outputs": [
    {
     "name": "stdout",
     "output_type": "stream",
     "text": [
      "Start Eval...\n",
      "CPU times: user 26.7 s, sys: 8.22 s, total: 34.9 s\n",
      "Wall time: 30.4 s\n"
     ]
    }
   ],
   "source": [
    "%%time\n",
    "print('Start Eval...')\n",
    "eval_ids = pd.read_parquet(f'{DATA_DIR}/evaluation_ids.parquet')\n",
    "eval_ids.head()\n",
    "\n",
    "eval_ids.cell_id = eval_ids.cell_id.astype(pd.CategoricalDtype())\n",
    "eval_ids.gene_id = eval_ids.gene_id.astype(pd.CategoricalDtype())"
   ]
  },
  {
   "cell_type": "code",
   "execution_count": 24,
   "id": "c35d2f69",
   "metadata": {
    "execution": {
     "iopub.execute_input": "2022-10-27T07:37:25.229383Z",
     "iopub.status.busy": "2022-10-27T07:37:25.228990Z",
     "iopub.status.idle": "2022-10-27T07:37:46.898813Z",
     "shell.execute_reply": "2022-10-27T07:37:46.897572Z"
    },
    "papermill": {
     "duration": 21.683819,
     "end_time": "2022-10-27T07:37:46.901301",
     "exception": false,
     "start_time": "2022-10-27T07:37:25.217482",
     "status": "completed"
    },
    "tags": []
   },
   "outputs": [
    {
     "name": "stdout",
     "output_type": "stream",
     "text": [
      "CPU times: user 18.1 s, sys: 3.33 s, total: 21.4 s\n",
      "Wall time: 21.5 s\n"
     ]
    },
    {
     "data": {
      "text/plain": [
       "row_id    cell_id       gene_id        \n",
       "0         c2150f55becb  CD86              NaN\n",
       "1         c2150f55becb  CD274             NaN\n",
       "2         c2150f55becb  CD270             NaN\n",
       "3         c2150f55becb  CD155             NaN\n",
       "4         c2150f55becb  CD112             NaN\n",
       "                                           ..\n",
       "65744175  2c53aa67933d  ENSG00000134419   NaN\n",
       "65744176  2c53aa67933d  ENSG00000186862   NaN\n",
       "65744177  2c53aa67933d  ENSG00000170959   NaN\n",
       "65744178  2c53aa67933d  ENSG00000107874   NaN\n",
       "65744179  2c53aa67933d  ENSG00000166012   NaN\n",
       "Name: target, Length: 65744180, dtype: float32"
      ]
     },
     "execution_count": 24,
     "metadata": {},
     "output_type": "execute_result"
    }
   ],
   "source": [
    "%%time\n",
    "sub = pd.Series(name='target',\n",
    "                index=pd.MultiIndex.from_frame(eval_ids), \n",
    "                dtype=np.float32)\n",
    "sub"
   ]
  },
  {
   "cell_type": "code",
   "execution_count": 25,
   "id": "8c311fe5",
   "metadata": {
    "execution": {
     "iopub.execute_input": "2022-10-27T07:37:46.923526Z",
     "iopub.status.busy": "2022-10-27T07:37:46.923162Z",
     "iopub.status.idle": "2022-10-27T07:37:46.947424Z",
     "shell.execute_reply": "2022-10-27T07:37:46.946278Z"
    },
    "papermill": {
     "duration": 0.037972,
     "end_time": "2022-10-27T07:37:46.949858",
     "exception": false,
     "start_time": "2022-10-27T07:37:46.911886",
     "status": "completed"
    },
    "tags": []
   },
   "outputs": [],
   "source": [
    "cell_id_dict = {cell_id: idx \n",
    "                for idx, cell_id in enumerate(test_tar_idx, 0)}\n",
    "gene_id_dict = {gene_id: idx \n",
    "                for idx, gene_id in enumerate(test_tar_cols, 0)}"
   ]
  },
  {
   "cell_type": "code",
   "execution_count": 26,
   "id": "c14e154c",
   "metadata": {
    "execution": {
     "iopub.execute_input": "2022-10-27T07:37:46.972013Z",
     "iopub.status.busy": "2022-10-27T07:37:46.971631Z",
     "iopub.status.idle": "2022-10-27T07:37:49.014894Z",
     "shell.execute_reply": "2022-10-27T07:37:49.013840Z"
    },
    "papermill": {
     "duration": 2.057125,
     "end_time": "2022-10-27T07:37:49.017436",
     "exception": false,
     "start_time": "2022-10-27T07:37:46.960311",
     "status": "completed"
    },
    "tags": []
   },
   "outputs": [],
   "source": [
    "eid_cid_idx = eval_ids['cell_id']\\\n",
    "              .apply(lambda x: cell_id_dict.get(x, -1))\n",
    "eid_gid_idx = eval_ids['gene_id']\\\n",
    "              .apply(lambda x: gene_id_dict.get(x, -1))\n",
    "valid_multi_rows = (eid_cid_idx != -1) & (eid_gid_idx != -1)"
   ]
  },
  {
   "cell_type": "code",
   "execution_count": 27,
   "id": "b6caf547",
   "metadata": {
    "execution": {
     "iopub.execute_input": "2022-10-27T07:37:49.039403Z",
     "iopub.status.busy": "2022-10-27T07:37:49.039036Z",
     "iopub.status.idle": "2022-10-27T07:37:51.155424Z",
     "shell.execute_reply": "2022-10-27T07:37:51.154149Z"
    },
    "papermill": {
     "duration": 2.129997,
     "end_time": "2022-10-27T07:37:51.157814",
     "exception": false,
     "start_time": "2022-10-27T07:37:49.027817",
     "status": "completed"
    },
    "tags": []
   },
   "outputs": [
    {
     "name": "stdout",
     "output_type": "stream",
     "text": [
      "CPU times: user 1.63 s, sys: 484 ms, total: 2.11 s\n",
      "Wall time: 2.11 s\n"
     ]
    }
   ],
   "source": [
    "%%time\n",
    "sub.iloc[valid_multi_rows] = test_tar_preds\\\n",
    "                             [eid_cid_idx[valid_multi_rows].to_numpy(),\n",
    "                              eid_gid_idx[valid_multi_rows].to_numpy()]"
   ]
  },
  {
   "cell_type": "code",
   "execution_count": 28,
   "id": "547c30d5",
   "metadata": {
    "execution": {
     "iopub.execute_input": "2022-10-27T07:37:51.181866Z",
     "iopub.status.busy": "2022-10-27T07:37:51.181504Z",
     "iopub.status.idle": "2022-10-27T07:37:51.305960Z",
     "shell.execute_reply": "2022-10-27T07:37:51.304584Z"
    },
    "papermill": {
     "duration": 0.137866,
     "end_time": "2022-10-27T07:37:51.308182",
     "exception": false,
     "start_time": "2022-10-27T07:37:51.170316",
     "status": "completed"
    },
    "tags": []
   },
   "outputs": [
    {
     "data": {
      "text/plain": [
       "0"
      ]
     },
     "execution_count": 28,
     "metadata": {},
     "output_type": "execute_result"
    }
   ],
   "source": [
    "del eval_ids, test_tar_idx, test_tar_cols\n",
    "del eid_cid_idx, eid_gid_idx, valid_multi_rows\n",
    "gc.collect()"
   ]
  },
  {
   "cell_type": "code",
   "execution_count": 29,
   "id": "e495df67",
   "metadata": {
    "execution": {
     "iopub.execute_input": "2022-10-27T07:37:51.330824Z",
     "iopub.status.busy": "2022-10-27T07:37:51.330471Z",
     "iopub.status.idle": "2022-10-27T07:39:48.248079Z",
     "shell.execute_reply": "2022-10-27T07:39:48.246776Z"
    },
    "papermill": {
     "duration": 116.932374,
     "end_time": "2022-10-27T07:39:48.251193",
     "exception": false,
     "start_time": "2022-10-27T07:37:51.318819",
     "status": "completed"
    },
    "tags": []
   },
   "outputs": [],
   "source": [
    "sub = pd.DataFrame(sub).fillna(0).reset_index()\n",
    "sub.drop(['cell_id', 'gene_id'], axis=1)\\\n",
    "   .to_csv('multi_sub.csv', index=False)"
   ]
  },
  {
   "cell_type": "code",
   "execution_count": null,
   "id": "e3457862",
   "metadata": {
    "papermill": {
     "duration": 0.010364,
     "end_time": "2022-10-27T07:39:48.272544",
     "exception": false,
     "start_time": "2022-10-27T07:39:48.262180",
     "status": "completed"
    },
    "tags": []
   },
   "outputs": [],
   "source": []
  }
 ],
 "metadata": {
  "kernelspec": {
   "display_name": "Python 3",
   "language": "python",
   "name": "python3"
  },
  "language_info": {
   "codemirror_mode": {
    "name": "ipython",
    "version": 3
   },
   "file_extension": ".py",
   "mimetype": "text/x-python",
   "name": "python",
   "nbconvert_exporter": "python",
   "pygments_lexer": "ipython3",
   "version": "3.7.12"
  },
  "papermill": {
   "default_parameters": {},
   "duration": 1435.473132,
   "end_time": "2022-10-27T07:39:49.212353",
   "environment_variables": {},
   "exception": null,
   "input_path": "__notebook__.ipynb",
   "output_path": "__notebook__.ipynb",
   "parameters": {},
   "start_time": "2022-10-27T07:15:53.739221",
   "version": "2.3.4"
  }
 },
 "nbformat": 4,
 "nbformat_minor": 5
}
