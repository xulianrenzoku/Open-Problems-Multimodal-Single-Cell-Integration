{
 "cells": [
  {
   "cell_type": "code",
   "execution_count": 1,
   "id": "13757709",
   "metadata": {
    "_cell_guid": "b1076dfc-b9ad-4769-8c92-a6c4dae69d19",
    "_uuid": "8f2839f25d086af736a60e9eeb907d3b93b6e0e5",
    "execution": {
     "iopub.execute_input": "2022-11-07T09:37:26.178146Z",
     "iopub.status.busy": "2022-11-07T09:37:26.177603Z",
     "iopub.status.idle": "2022-11-07T09:37:26.281334Z",
     "shell.execute_reply": "2022-11-07T09:37:26.279618Z"
    },
    "papermill": {
     "duration": 0.115845,
     "end_time": "2022-11-07T09:37:26.285358",
     "exception": false,
     "start_time": "2022-11-07T09:37:26.169513",
     "status": "completed"
    },
    "tags": []
   },
   "outputs": [],
   "source": [
    "import os\n",
    "import os.path\n",
    "import random\n",
    "import gc\n",
    "import numpy as np\n",
    "import pandas as pd\n",
    "import scipy.sparse\n",
    "from tqdm import tqdm"
   ]
  },
  {
   "cell_type": "code",
   "execution_count": 2,
   "id": "25bcb517",
   "metadata": {
    "execution": {
     "iopub.execute_input": "2022-11-07T09:37:26.297834Z",
     "iopub.status.busy": "2022-11-07T09:37:26.297390Z",
     "iopub.status.idle": "2022-11-07T09:37:26.302867Z",
     "shell.execute_reply": "2022-11-07T09:37:26.301446Z"
    },
    "papermill": {
     "duration": 0.014432,
     "end_time": "2022-11-07T09:37:26.305388",
     "exception": false,
     "start_time": "2022-11-07T09:37:26.290956",
     "status": "completed"
    },
    "tags": []
   },
   "outputs": [],
   "source": [
    "import warnings \n",
    "warnings.filterwarnings('ignore')"
   ]
  },
  {
   "cell_type": "code",
   "execution_count": 3,
   "id": "64a5b08b",
   "metadata": {
    "execution": {
     "iopub.execute_input": "2022-11-07T09:37:26.317330Z",
     "iopub.status.busy": "2022-11-07T09:37:26.316932Z",
     "iopub.status.idle": "2022-11-07T09:37:27.402049Z",
     "shell.execute_reply": "2022-11-07T09:37:27.400652Z"
    },
    "papermill": {
     "duration": 1.094776,
     "end_time": "2022-11-07T09:37:27.405214",
     "exception": false,
     "start_time": "2022-11-07T09:37:26.310438",
     "status": "completed"
    },
    "tags": []
   },
   "outputs": [],
   "source": [
    "import seaborn as sns\n",
    "import matplotlib\n",
    "import matplotlib.pyplot as plt\n",
    "from IPython.core.pylabtools import figsize"
   ]
  },
  {
   "cell_type": "code",
   "execution_count": 4,
   "id": "9d0e80b5",
   "metadata": {
    "execution": {
     "iopub.execute_input": "2022-11-07T09:37:27.419226Z",
     "iopub.status.busy": "2022-11-07T09:37:27.417649Z",
     "iopub.status.idle": "2022-11-07T09:37:27.426431Z",
     "shell.execute_reply": "2022-11-07T09:37:27.424670Z"
    },
    "papermill": {
     "duration": 0.018399,
     "end_time": "2022-11-07T09:37:27.428973",
     "exception": false,
     "start_time": "2022-11-07T09:37:27.410574",
     "status": "completed"
    },
    "tags": []
   },
   "outputs": [],
   "source": [
    "sns.set()"
   ]
  },
  {
   "cell_type": "code",
   "execution_count": 5,
   "id": "cc393028",
   "metadata": {
    "execution": {
     "iopub.execute_input": "2022-11-07T09:37:27.442534Z",
     "iopub.status.busy": "2022-11-07T09:37:27.441971Z",
     "iopub.status.idle": "2022-11-07T09:37:27.449926Z",
     "shell.execute_reply": "2022-11-07T09:37:27.448587Z"
    },
    "papermill": {
     "duration": 0.017871,
     "end_time": "2022-11-07T09:37:27.452909",
     "exception": false,
     "start_time": "2022-11-07T09:37:27.435038",
     "status": "completed"
    },
    "tags": []
   },
   "outputs": [],
   "source": [
    "import pickle\n",
    "\n",
    "def dump_pickle(file, filename):\n",
    "    outfile = open(filename, 'wb')\n",
    "    pickle.dump(file, outfile)\n",
    "    outfile.close()\n",
    "\n",
    "def load_pickle(filename):\n",
    "    infile = open(filename, 'rb')\n",
    "    file = pickle.load(infile)\n",
    "    infile.close()\n",
    "    return file"
   ]
  },
  {
   "cell_type": "code",
   "execution_count": 6,
   "id": "3e6702bc",
   "metadata": {
    "execution": {
     "iopub.execute_input": "2022-11-07T09:37:27.465320Z",
     "iopub.status.busy": "2022-11-07T09:37:27.464509Z",
     "iopub.status.idle": "2022-11-07T09:37:28.589104Z",
     "shell.execute_reply": "2022-11-07T09:37:28.587449Z"
    },
    "papermill": {
     "duration": 1.133958,
     "end_time": "2022-11-07T09:37:28.592086",
     "exception": false,
     "start_time": "2022-11-07T09:37:27.458128",
     "status": "completed"
    },
    "tags": []
   },
   "outputs": [
    {
     "name": "stdout",
     "output_type": "stream",
     "text": [
      "total 27G\r\n",
      "-rw-r--r-- 1 nobody nogroup 2.3G Sep  7 19:44 evaluation_ids.csv\r\n",
      "-rw-r--r-- 1 nobody nogroup 9.4M Sep  7 19:43 metadata.csv\r\n",
      "-rw-r--r-- 1 nobody nogroup 230K Sep  7 19:43 metadata_cite_day_2_donor_27678.csv\r\n",
      "-rw-r--r-- 1 nobody nogroup 805M Sep  7 19:43 sample_submission.csv\r\n",
      "-rw-r--r-- 1 nobody nogroup 1.6G Sep  7 19:44 test_cite_inputs.h5\r\n",
      "-rw-r--r-- 1 nobody nogroup 294M Sep  7 19:43 test_cite_inputs_day_2_donor_27678.h5\r\n",
      "-rw-r--r-- 1 nobody nogroup 6.1G Sep  7 19:45 test_multi_inputs.h5\r\n",
      "-rw-r--r-- 1 nobody nogroup 2.4G Sep  7 19:44 train_cite_inputs.h5\r\n",
      "-rw-r--r-- 1 nobody nogroup  37M Sep  7 19:43 train_cite_targets.h5\r\n",
      "-rw-r--r-- 1 nobody nogroup  11G Sep  7 19:46 train_multi_inputs.h5\r\n",
      "-rw-r--r-- 1 nobody nogroup 3.0G Sep  7 19:45 train_multi_targets.h5\r\n"
     ]
    }
   ],
   "source": [
    "DATA_DIR = '../input/open-problems-multimodal'\n",
    "%ls $DATA_DIR -lh"
   ]
  },
  {
   "cell_type": "markdown",
   "id": "4d4a26d1",
   "metadata": {
    "execution": {
     "iopub.execute_input": "2022-10-24T09:53:23.30961Z",
     "iopub.status.busy": "2022-10-24T09:53:23.309238Z",
     "iopub.status.idle": "2022-10-24T09:53:23.315117Z",
     "shell.execute_reply": "2022-10-24T09:53:23.313565Z",
     "shell.execute_reply.started": "2022-10-24T09:53:23.309583Z"
    },
    "papermill": {
     "duration": 0.005273,
     "end_time": "2022-11-07T09:37:28.603257",
     "exception": false,
     "start_time": "2022-11-07T09:37:28.597984",
     "status": "completed"
    },
    "tags": []
   },
   "source": [
    "## Read Data"
   ]
  },
  {
   "cell_type": "code",
   "execution_count": 7,
   "id": "ffad0ed4",
   "metadata": {
    "execution": {
     "iopub.execute_input": "2022-11-07T09:37:28.616620Z",
     "iopub.status.busy": "2022-11-07T09:37:28.616143Z",
     "iopub.status.idle": "2022-11-07T09:38:26.333116Z",
     "shell.execute_reply": "2022-11-07T09:38:26.331520Z"
    },
    "papermill": {
     "duration": 57.730404,
     "end_time": "2022-11-07T09:38:26.339348",
     "exception": false,
     "start_time": "2022-11-07T09:37:28.608944",
     "status": "completed"
    },
    "tags": []
   },
   "outputs": [
    {
     "name": "stdout",
     "output_type": "stream",
     "text": [
      "CPU times: user 30.4 s, sys: 6.6 s, total: 37 s\n",
      "Wall time: 57.7 s\n"
     ]
    }
   ],
   "source": [
    "%%time\n",
    "train_inp = pd.read_hdf(f'{DATA_DIR}/train_cite_inputs.h5')\n",
    "train_inp_cols = train_inp.columns"
   ]
  },
  {
   "cell_type": "code",
   "execution_count": 8,
   "id": "6bc86d70",
   "metadata": {
    "execution": {
     "iopub.execute_input": "2022-11-07T09:38:26.352595Z",
     "iopub.status.busy": "2022-11-07T09:38:26.352128Z",
     "iopub.status.idle": "2022-11-07T09:39:06.874277Z",
     "shell.execute_reply": "2022-11-07T09:39:06.871662Z"
    },
    "papermill": {
     "duration": 40.541033,
     "end_time": "2022-11-07T09:39:06.885854",
     "exception": false,
     "start_time": "2022-11-07T09:38:26.344821",
     "status": "completed"
    },
    "tags": []
   },
   "outputs": [
    {
     "name": "stdout",
     "output_type": "stream",
     "text": [
      "CPU times: user 21.4 s, sys: 4.37 s, total: 25.8 s\n",
      "Wall time: 40.5 s\n"
     ]
    }
   ],
   "source": [
    "%%time\n",
    "test_inp = pd.read_hdf(f'{DATA_DIR}/test_cite_inputs.h5')"
   ]
  },
  {
   "cell_type": "code",
   "execution_count": 9,
   "id": "f05dce7c",
   "metadata": {
    "execution": {
     "iopub.execute_input": "2022-11-07T09:39:06.899829Z",
     "iopub.status.busy": "2022-11-07T09:39:06.899241Z",
     "iopub.status.idle": "2022-11-07T09:39:07.617330Z",
     "shell.execute_reply": "2022-11-07T09:39:07.615612Z"
    },
    "papermill": {
     "duration": 0.729029,
     "end_time": "2022-11-07T09:39:07.620317",
     "exception": false,
     "start_time": "2022-11-07T09:39:06.891288",
     "status": "completed"
    },
    "tags": []
   },
   "outputs": [
    {
     "name": "stdout",
     "output_type": "stream",
     "text": [
      "CPU times: user 203 ms, sys: 50.6 ms, total: 253 ms\n",
      "Wall time: 707 ms\n"
     ]
    }
   ],
   "source": [
    "%%time\n",
    "train_tar = pd.read_hdf(f'{DATA_DIR}/train_cite_targets.h5')\n",
    "train_tar_cols = train_tar.columns"
   ]
  },
  {
   "cell_type": "markdown",
   "id": "d6fed057",
   "metadata": {
    "papermill": {
     "duration": 0.004806,
     "end_time": "2022-11-07T09:39:07.630586",
     "exception": false,
     "start_time": "2022-11-07T09:39:07.625780",
     "status": "completed"
    },
    "tags": []
   },
   "source": [
    "## Data Preprocessing"
   ]
  },
  {
   "cell_type": "markdown",
   "id": "811f0f75",
   "metadata": {
    "papermill": {
     "duration": 0.004862,
     "end_time": "2022-11-07T09:39:07.640660",
     "exception": false,
     "start_time": "2022-11-07T09:39:07.635798",
     "status": "completed"
    },
    "tags": []
   },
   "source": [
    "Find columns with all zeroes"
   ]
  },
  {
   "cell_type": "code",
   "execution_count": 10,
   "id": "5bd6c52f",
   "metadata": {
    "execution": {
     "iopub.execute_input": "2022-11-07T09:39:07.653199Z",
     "iopub.status.busy": "2022-11-07T09:39:07.652789Z",
     "iopub.status.idle": "2022-11-07T09:39:51.175638Z",
     "shell.execute_reply": "2022-11-07T09:39:51.173337Z"
    },
    "papermill": {
     "duration": 43.533124,
     "end_time": "2022-11-07T09:39:51.179145",
     "exception": false,
     "start_time": "2022-11-07T09:39:07.646021",
     "status": "completed"
    },
    "tags": []
   },
   "outputs": [
    {
     "name": "stdout",
     "output_type": "stream",
     "text": [
      "0\n",
      "1000\n",
      "2000\n",
      "3000\n",
      "4000\n",
      "5000\n",
      "6000\n",
      "7000\n",
      "8000\n",
      "9000\n",
      "10000\n",
      "11000\n",
      "12000\n",
      "13000\n",
      "14000\n",
      "15000\n",
      "16000\n",
      "17000\n",
      "18000\n",
      "19000\n",
      "20000\n",
      "21000\n",
      "22000\n",
      "Number of columns with zero values only (Train or Test): 1194\n",
      "CPU times: user 43.1 s, sys: 281 ms, total: 43.4 s\n",
      "Wall time: 43.5 s\n"
     ]
    }
   ],
   "source": [
    "%%time\n",
    "zero_cols = []\n",
    "for idx, col in enumerate(train_inp_cols, 0):\n",
    "    if idx % 1000 == 0:\n",
    "        print(idx)\n",
    "    if len(train_inp[col].unique()) == 1 or len(test_inp[col].unique()) == 1:\n",
    "        zero_cols.append(col)\n",
    "print('Number of columns with zero values only (Train or Test):', \n",
    "      len(zero_cols))"
   ]
  },
  {
   "cell_type": "code",
   "execution_count": 11,
   "id": "2492e948",
   "metadata": {
    "execution": {
     "iopub.execute_input": "2022-11-07T09:39:51.195818Z",
     "iopub.status.busy": "2022-11-07T09:39:51.195295Z",
     "iopub.status.idle": "2022-11-07T09:39:54.965363Z",
     "shell.execute_reply": "2022-11-07T09:39:54.963791Z"
    },
    "papermill": {
     "duration": 3.781857,
     "end_time": "2022-11-07T09:39:54.968299",
     "exception": false,
     "start_time": "2022-11-07T09:39:51.186442",
     "status": "completed"
    },
    "tags": []
   },
   "outputs": [
    {
     "name": "stdout",
     "output_type": "stream",
     "text": [
      "CPU times: user 1.53 s, sys: 2.24 s, total: 3.77 s\n",
      "Wall time: 3.76 s\n"
     ]
    },
    {
     "data": {
      "text/plain": [
       "((70988, 20856), (48663, 20856))"
      ]
     },
     "execution_count": 11,
     "metadata": {},
     "output_type": "execute_result"
    }
   ],
   "source": [
    "%%time\n",
    "train_inp = train_inp.drop(zero_cols, axis=1)\n",
    "train_inp_cols = train_inp.columns\n",
    "test_inp = test_inp.drop(zero_cols, axis=1)\n",
    "train_inp.shape, test_inp.shape"
   ]
  },
  {
   "cell_type": "markdown",
   "id": "afbe2410",
   "metadata": {
    "papermill": {
     "duration": 0.006535,
     "end_time": "2022-11-07T09:39:54.983111",
     "exception": false,
     "start_time": "2022-11-07T09:39:54.976576",
     "status": "completed"
    },
    "tags": []
   },
   "source": [
    "## DF to Sparse Matrix"
   ]
  },
  {
   "cell_type": "code",
   "execution_count": 12,
   "id": "d9e40db4",
   "metadata": {
    "execution": {
     "iopub.execute_input": "2022-11-07T09:39:55.000730Z",
     "iopub.status.busy": "2022-11-07T09:39:54.999746Z",
     "iopub.status.idle": "2022-11-07T09:39:55.007496Z",
     "shell.execute_reply": "2022-11-07T09:39:55.005859Z"
    },
    "papermill": {
     "duration": 0.020946,
     "end_time": "2022-11-07T09:39:55.011179",
     "exception": false,
     "start_time": "2022-11-07T09:39:54.990233",
     "status": "completed"
    },
    "tags": []
   },
   "outputs": [],
   "source": [
    "def df_to_sparse_csr(df, outfile):\n",
    "    scipy.sparse.save_npz(f'{outfile}_val.sparse',\n",
    "                          scipy.sparse.csr_matrix(df.to_numpy()))"
   ]
  },
  {
   "cell_type": "code",
   "execution_count": 13,
   "id": "d144b19f",
   "metadata": {
    "execution": {
     "iopub.execute_input": "2022-11-07T09:39:55.027915Z",
     "iopub.status.busy": "2022-11-07T09:39:55.027421Z",
     "iopub.status.idle": "2022-11-07T09:44:10.457673Z",
     "shell.execute_reply": "2022-11-07T09:44:10.455991Z"
    },
    "papermill": {
     "duration": 255.450487,
     "end_time": "2022-11-07T09:44:10.468869",
     "exception": false,
     "start_time": "2022-11-07T09:39:55.018382",
     "status": "completed"
    },
    "tags": []
   },
   "outputs": [
    {
     "name": "stdout",
     "output_type": "stream",
     "text": [
      "CPU times: user 4min 10s, sys: 4.14 s, total: 4min 14s\n",
      "Wall time: 4min 15s\n"
     ]
    }
   ],
   "source": [
    "%%time\n",
    "df_to_sparse_csr(train_inp, 'train_inp')"
   ]
  },
  {
   "cell_type": "code",
   "execution_count": 14,
   "id": "a4c1113b",
   "metadata": {
    "execution": {
     "iopub.execute_input": "2022-11-07T09:44:10.484593Z",
     "iopub.status.busy": "2022-11-07T09:44:10.484156Z",
     "iopub.status.idle": "2022-11-07T09:47:03.041577Z",
     "shell.execute_reply": "2022-11-07T09:47:03.039804Z"
    },
    "papermill": {
     "duration": 172.578188,
     "end_time": "2022-11-07T09:47:03.053843",
     "exception": false,
     "start_time": "2022-11-07T09:44:10.475655",
     "status": "completed"
    },
    "tags": []
   },
   "outputs": [
    {
     "name": "stdout",
     "output_type": "stream",
     "text": [
      "CPU times: user 2min 49s, sys: 2.66 s, total: 2min 52s\n",
      "Wall time: 2min 52s\n"
     ]
    }
   ],
   "source": [
    "%%time\n",
    "df_to_sparse_csr(test_inp, 'test_inp')"
   ]
  },
  {
   "cell_type": "code",
   "execution_count": null,
   "id": "6be1f5ef",
   "metadata": {
    "papermill": {
     "duration": 0.008556,
     "end_time": "2022-11-07T09:47:03.069731",
     "exception": false,
     "start_time": "2022-11-07T09:47:03.061175",
     "status": "completed"
    },
    "tags": []
   },
   "outputs": [],
   "source": []
  }
 ],
 "metadata": {
  "kernelspec": {
   "display_name": "Python 3",
   "language": "python",
   "name": "python3"
  },
  "language_info": {
   "codemirror_mode": {
    "name": "ipython",
    "version": 3
   },
   "file_extension": ".py",
   "mimetype": "text/x-python",
   "name": "python",
   "nbconvert_exporter": "python",
   "pygments_lexer": "ipython3",
   "version": "3.7.12"
  },
  "papermill": {
   "default_parameters": {},
   "duration": 588.20665,
   "end_time": "2022-11-07T09:47:04.210016",
   "environment_variables": {},
   "exception": null,
   "input_path": "__notebook__.ipynb",
   "output_path": "__notebook__.ipynb",
   "parameters": {},
   "start_time": "2022-11-07T09:37:16.003366",
   "version": "2.3.4"
  }
 },
 "nbformat": 4,
 "nbformat_minor": 5
}
