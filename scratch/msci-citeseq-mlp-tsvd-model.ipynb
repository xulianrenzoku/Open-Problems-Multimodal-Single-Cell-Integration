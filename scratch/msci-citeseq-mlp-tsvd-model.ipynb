{
 "cells": [
  {
   "cell_type": "code",
   "execution_count": 1,
   "id": "9dd2c7f5",
   "metadata": {
    "_cell_guid": "b1076dfc-b9ad-4769-8c92-a6c4dae69d19",
    "_uuid": "8f2839f25d086af736a60e9eeb907d3b93b6e0e5",
    "execution": {
     "iopub.execute_input": "2022-11-10T18:29:23.806324Z",
     "iopub.status.busy": "2022-11-10T18:29:23.805742Z",
     "iopub.status.idle": "2022-11-10T18:29:23.907874Z",
     "shell.execute_reply": "2022-11-10T18:29:23.906180Z"
    },
    "papermill": {
     "duration": 0.119228,
     "end_time": "2022-11-10T18:29:23.911156",
     "exception": false,
     "start_time": "2022-11-10T18:29:23.791928",
     "status": "completed"
    },
    "tags": []
   },
   "outputs": [],
   "source": [
    "import os\n",
    "import os.path\n",
    "import gc\n",
    "import itertools\n",
    "import numpy as np\n",
    "import pandas as pd\n",
    "import scipy.sparse\n",
    "from tqdm import tqdm"
   ]
  },
  {
   "cell_type": "code",
   "execution_count": 2,
   "id": "1afc2066",
   "metadata": {
    "execution": {
     "iopub.execute_input": "2022-11-10T18:29:23.939254Z",
     "iopub.status.busy": "2022-11-10T18:29:23.938186Z",
     "iopub.status.idle": "2022-11-10T18:29:23.942799Z",
     "shell.execute_reply": "2022-11-10T18:29:23.941960Z"
    },
    "papermill": {
     "duration": 0.02053,
     "end_time": "2022-11-10T18:29:23.945042",
     "exception": false,
     "start_time": "2022-11-10T18:29:23.924512",
     "status": "completed"
    },
    "tags": []
   },
   "outputs": [],
   "source": [
    "import warnings \n",
    "warnings.filterwarnings('ignore')"
   ]
  },
  {
   "cell_type": "code",
   "execution_count": 3,
   "id": "fee2b345",
   "metadata": {
    "execution": {
     "iopub.execute_input": "2022-11-10T18:29:23.971260Z",
     "iopub.status.busy": "2022-11-10T18:29:23.970474Z",
     "iopub.status.idle": "2022-11-10T18:29:25.096942Z",
     "shell.execute_reply": "2022-11-10T18:29:25.095655Z"
    },
    "papermill": {
     "duration": 1.144333,
     "end_time": "2022-11-10T18:29:25.100461",
     "exception": false,
     "start_time": "2022-11-10T18:29:23.956128",
     "status": "completed"
    },
    "tags": []
   },
   "outputs": [],
   "source": [
    "import seaborn as sns\n",
    "import matplotlib\n",
    "import matplotlib.pyplot as plt\n",
    "from IPython.core.pylabtools import figsize"
   ]
  },
  {
   "cell_type": "code",
   "execution_count": 4,
   "id": "df9b7488",
   "metadata": {
    "execution": {
     "iopub.execute_input": "2022-11-10T18:29:25.127150Z",
     "iopub.status.busy": "2022-11-10T18:29:25.126686Z",
     "iopub.status.idle": "2022-11-10T18:29:25.133294Z",
     "shell.execute_reply": "2022-11-10T18:29:25.131662Z"
    },
    "papermill": {
     "duration": 0.023341,
     "end_time": "2022-11-10T18:29:25.135958",
     "exception": false,
     "start_time": "2022-11-10T18:29:25.112617",
     "status": "completed"
    },
    "tags": []
   },
   "outputs": [],
   "source": [
    "sns.set()"
   ]
  },
  {
   "cell_type": "code",
   "execution_count": 5,
   "id": "bb681100",
   "metadata": {
    "execution": {
     "iopub.execute_input": "2022-11-10T18:29:25.161989Z",
     "iopub.status.busy": "2022-11-10T18:29:25.161166Z",
     "iopub.status.idle": "2022-11-10T18:29:25.167281Z",
     "shell.execute_reply": "2022-11-10T18:29:25.166185Z"
    },
    "papermill": {
     "duration": 0.022513,
     "end_time": "2022-11-10T18:29:25.170231",
     "exception": false,
     "start_time": "2022-11-10T18:29:25.147718",
     "status": "completed"
    },
    "tags": []
   },
   "outputs": [],
   "source": [
    "import pickle\n",
    "\n",
    "def dump_pickle(file, filename):\n",
    "    outfile = open(filename, 'wb')\n",
    "    pickle.dump(file, outfile)\n",
    "    outfile.close()\n",
    "\n",
    "def load_pickle(filename):\n",
    "    infile = open(filename, 'rb')\n",
    "    file = pickle.load(infile)\n",
    "    infile.close()\n",
    "    return file"
   ]
  },
  {
   "cell_type": "markdown",
   "id": "ee8ad99a",
   "metadata": {
    "papermill": {
     "duration": 0.011094,
     "end_time": "2022-11-10T18:29:25.193413",
     "exception": false,
     "start_time": "2022-11-10T18:29:25.182319",
     "status": "completed"
    },
    "tags": []
   },
   "source": [
    "## Read Data"
   ]
  },
  {
   "cell_type": "code",
   "execution_count": 6,
   "id": "66772121",
   "metadata": {
    "execution": {
     "iopub.execute_input": "2022-11-10T18:29:25.218461Z",
     "iopub.status.busy": "2022-11-10T18:29:25.217521Z",
     "iopub.status.idle": "2022-11-10T18:29:26.089958Z",
     "shell.execute_reply": "2022-11-10T18:29:26.088593Z"
    },
    "papermill": {
     "duration": 0.88874,
     "end_time": "2022-11-10T18:29:26.093530",
     "exception": false,
     "start_time": "2022-11-10T18:29:25.204790",
     "status": "completed"
    },
    "tags": []
   },
   "outputs": [
    {
     "name": "stdout",
     "output_type": "stream",
     "text": [
      "CPU times: user 235 ms, sys: 84.6 ms, total: 320 ms\n",
      "Wall time: 864 ms\n"
     ]
    }
   ],
   "source": [
    "%%time\n",
    "DATA_DIR = '../input/open-problems-multimodal'\n",
    "train_tar = pd.read_hdf(f'{DATA_DIR}/train_cite_targets.h5')\n",
    "train_tar_cols = train_tar.columns"
   ]
  },
  {
   "cell_type": "code",
   "execution_count": 7,
   "id": "60948e81",
   "metadata": {
    "execution": {
     "iopub.execute_input": "2022-11-10T18:29:26.119578Z",
     "iopub.status.busy": "2022-11-10T18:29:26.118810Z",
     "iopub.status.idle": "2022-11-10T18:29:26.125649Z",
     "shell.execute_reply": "2022-11-10T18:29:26.124735Z"
    },
    "papermill": {
     "duration": 0.022999,
     "end_time": "2022-11-10T18:29:26.128179",
     "exception": false,
     "start_time": "2022-11-10T18:29:26.105180",
     "status": "completed"
    },
    "tags": []
   },
   "outputs": [],
   "source": [
    "train_tar = train_tar.values"
   ]
  },
  {
   "cell_type": "code",
   "execution_count": 8,
   "id": "9dc902c5",
   "metadata": {
    "execution": {
     "iopub.execute_input": "2022-11-10T18:29:26.153107Z",
     "iopub.status.busy": "2022-11-10T18:29:26.152290Z",
     "iopub.status.idle": "2022-11-10T18:29:28.698928Z",
     "shell.execute_reply": "2022-11-10T18:29:28.696923Z"
    },
    "papermill": {
     "duration": 2.562257,
     "end_time": "2022-11-10T18:29:28.701504",
     "exception": false,
     "start_time": "2022-11-10T18:29:26.139247",
     "status": "completed"
    },
    "tags": []
   },
   "outputs": [
    {
     "name": "stdout",
     "output_type": "stream",
     "text": [
      "CPU times: user 60.4 ms, sys: 428 ms, total: 488 ms\n",
      "Wall time: 2.54 s\n"
     ]
    }
   ],
   "source": [
    "%%time\n",
    "DATA_DIR = '../input/msci-citeseq-mlp-tsvd'\n",
    "train_inp = load_pickle(f'{DATA_DIR}/train_inp')"
   ]
  },
  {
   "cell_type": "code",
   "execution_count": 9,
   "id": "ac29eb0a",
   "metadata": {
    "execution": {
     "iopub.execute_input": "2022-11-10T18:29:28.728053Z",
     "iopub.status.busy": "2022-11-10T18:29:28.727518Z",
     "iopub.status.idle": "2022-11-10T18:29:28.733066Z",
     "shell.execute_reply": "2022-11-10T18:29:28.731583Z"
    },
    "papermill": {
     "duration": 0.02153,
     "end_time": "2022-11-10T18:29:28.735550",
     "exception": false,
     "start_time": "2022-11-10T18:29:28.714020",
     "status": "completed"
    },
    "tags": []
   },
   "outputs": [],
   "source": [
    "train_inp = train_inp[:, :-7]"
   ]
  },
  {
   "cell_type": "markdown",
   "id": "d03afd19",
   "metadata": {
    "papermill": {
     "duration": 0.010404,
     "end_time": "2022-11-10T18:29:28.756954",
     "exception": false,
     "start_time": "2022-11-10T18:29:28.746550",
     "status": "completed"
    },
    "tags": []
   },
   "source": [
    "## Modeling"
   ]
  },
  {
   "cell_type": "code",
   "execution_count": 10,
   "id": "272b0686",
   "metadata": {
    "execution": {
     "iopub.execute_input": "2022-11-10T18:29:28.781166Z",
     "iopub.status.busy": "2022-11-10T18:29:28.780605Z",
     "iopub.status.idle": "2022-11-10T18:29:30.602170Z",
     "shell.execute_reply": "2022-11-10T18:29:30.600535Z"
    },
    "papermill": {
     "duration": 1.837563,
     "end_time": "2022-11-10T18:29:30.605343",
     "exception": false,
     "start_time": "2022-11-10T18:29:28.767780",
     "status": "completed"
    },
    "tags": []
   },
   "outputs": [],
   "source": [
    "import torch\n",
    "import torch.nn as nn\n",
    "import torch.nn.functional as F\n",
    "import torch.optim as optim\n",
    "from torch.utils.data import DataLoader, TensorDataset, random_split"
   ]
  },
  {
   "cell_type": "markdown",
   "id": "59a59267",
   "metadata": {
    "papermill": {
     "duration": 0.011136,
     "end_time": "2022-11-10T18:29:30.628635",
     "exception": false,
     "start_time": "2022-11-10T18:29:30.617499",
     "status": "completed"
    },
    "tags": []
   },
   "source": [
    "## Dataset & DataLoader"
   ]
  },
  {
   "cell_type": "code",
   "execution_count": 11,
   "id": "264615bc",
   "metadata": {
    "execution": {
     "iopub.execute_input": "2022-11-10T18:29:30.654501Z",
     "iopub.status.busy": "2022-11-10T18:29:30.653067Z",
     "iopub.status.idle": "2022-11-10T18:29:30.661416Z",
     "shell.execute_reply": "2022-11-10T18:29:30.659877Z"
    },
    "papermill": {
     "duration": 0.023944,
     "end_time": "2022-11-10T18:29:30.663883",
     "exception": false,
     "start_time": "2022-11-10T18:29:30.639939",
     "status": "completed"
    },
    "tags": []
   },
   "outputs": [
    {
     "name": "stdout",
     "output_type": "stream",
     "text": [
      "CPU times: user 28 µs, sys: 7 µs, total: 35 µs\n",
      "Wall time: 37.9 µs\n"
     ]
    }
   ],
   "source": [
    "%%time\n",
    "train_inp = torch.from_numpy(train_inp)\n",
    "train_tar = torch.from_numpy(train_tar)"
   ]
  },
  {
   "cell_type": "code",
   "execution_count": 12,
   "id": "c1b95bfd",
   "metadata": {
    "execution": {
     "iopub.execute_input": "2022-11-10T18:29:30.690778Z",
     "iopub.status.busy": "2022-11-10T18:29:30.689468Z",
     "iopub.status.idle": "2022-11-10T18:29:30.706066Z",
     "shell.execute_reply": "2022-11-10T18:29:30.704652Z"
    },
    "papermill": {
     "duration": 0.033384,
     "end_time": "2022-11-10T18:29:30.708933",
     "exception": false,
     "start_time": "2022-11-10T18:29:30.675549",
     "status": "completed"
    },
    "tags": []
   },
   "outputs": [],
   "source": [
    "full_ds = TensorDataset(train_inp, train_tar)\n",
    "train_sz = 56832\n",
    "val_sz = len(full_ds) - train_sz\n",
    "train_ds, val_ds = random_split(full_ds, \n",
    "                                [train_sz, val_sz],\n",
    "                                generator=torch.Generator().manual_seed(42))"
   ]
  },
  {
   "cell_type": "code",
   "execution_count": 13,
   "id": "f5db9dd1",
   "metadata": {
    "execution": {
     "iopub.execute_input": "2022-11-10T18:29:30.733390Z",
     "iopub.status.busy": "2022-11-10T18:29:30.732127Z",
     "iopub.status.idle": "2022-11-10T18:29:30.738883Z",
     "shell.execute_reply": "2022-11-10T18:29:30.737870Z"
    },
    "papermill": {
     "duration": 0.021671,
     "end_time": "2022-11-10T18:29:30.741599",
     "exception": false,
     "start_time": "2022-11-10T18:29:30.719928",
     "status": "completed"
    },
    "tags": []
   },
   "outputs": [],
   "source": [
    "batch_size = 512\n",
    "train_loader = DataLoader(train_ds, batch_size=batch_size, shuffle=True)\n",
    "val_loader = DataLoader(val_ds, batch_size=batch_size, shuffle=False)"
   ]
  },
  {
   "cell_type": "markdown",
   "id": "56fd9cc5",
   "metadata": {
    "papermill": {
     "duration": 0.010514,
     "end_time": "2022-11-10T18:29:30.763364",
     "exception": false,
     "start_time": "2022-11-10T18:29:30.752850",
     "status": "completed"
    },
    "tags": []
   },
   "source": [
    "### Define NN"
   ]
  },
  {
   "cell_type": "code",
   "execution_count": 14,
   "id": "b1e28d8d",
   "metadata": {
    "execution": {
     "iopub.execute_input": "2022-11-10T18:29:30.788301Z",
     "iopub.status.busy": "2022-11-10T18:29:30.787476Z",
     "iopub.status.idle": "2022-11-10T18:29:30.799937Z",
     "shell.execute_reply": "2022-11-10T18:29:30.798506Z"
    },
    "papermill": {
     "duration": 0.028504,
     "end_time": "2022-11-10T18:29:30.802655",
     "exception": false,
     "start_time": "2022-11-10T18:29:30.774151",
     "status": "completed"
    },
    "tags": []
   },
   "outputs": [],
   "source": [
    "class Net(nn.Module):\n",
    "    def __init__(self):\n",
    "        \"\"\"In the constructor we instantiate two nn.Linear modules and assign them as\n",
    "        member variables (self).\n",
    "        \"\"\"\n",
    "        super(Net, self).__init__()\n",
    "#         self.linear1 = nn.Linear(663, 128*2)\n",
    "        self.linear1 = nn.Linear(656, 128*4)\n",
    "        self.bn1 = nn.BatchNorm1d(128*4)\n",
    "        self.linear2 = nn.Linear(128*4, 128*4)\n",
    "        self.bn2 = nn.BatchNorm1d(128*4)\n",
    "        self.linear3 = nn.Linear(128*4, 128*4)\n",
    "        self.bn3 = nn.BatchNorm1d(128*4)\n",
    "        self.linear4 = nn.Linear(128*4, 140)\n",
    "\n",
    "    def forward(self, x):\n",
    "        \"\"\"\n",
    "        In the forward function we accept a Tensor of input data and we must return\n",
    "        a Tensor of output data. We can use Modules defined in the constructor as\n",
    "        well as arbitrary operators on Tensors.\n",
    "        \"\"\"\n",
    "        x = self.linear1(x)\n",
    "        x = self.bn1(x)\n",
    "        x = F.relu(x)\n",
    "        x = self.linear2(x)\n",
    "        x = self.bn2(x)\n",
    "        x = F.relu(x)\n",
    "        x = self.linear3(x)\n",
    "        x = self.bn3(x)\n",
    "        x = F.relu(x)\n",
    "        x = self.linear4(x)\n",
    "        return x"
   ]
  },
  {
   "cell_type": "markdown",
   "id": "07796b1e",
   "metadata": {
    "papermill": {
     "duration": 0.010892,
     "end_time": "2022-11-10T18:29:30.825139",
     "exception": false,
     "start_time": "2022-11-10T18:29:30.814247",
     "status": "completed"
    },
    "tags": []
   },
   "source": [
    "### Find LR"
   ]
  },
  {
   "cell_type": "code",
   "execution_count": 15,
   "id": "e7f02b0d",
   "metadata": {
    "execution": {
     "iopub.execute_input": "2022-11-10T18:29:30.849931Z",
     "iopub.status.busy": "2022-11-10T18:29:30.849455Z",
     "iopub.status.idle": "2022-11-10T18:29:30.862911Z",
     "shell.execute_reply": "2022-11-10T18:29:30.861556Z"
    },
    "papermill": {
     "duration": 0.028707,
     "end_time": "2022-11-10T18:29:30.865453",
     "exception": false,
     "start_time": "2022-11-10T18:29:30.836746",
     "status": "completed"
    },
    "tags": []
   },
   "outputs": [],
   "source": [
    "def find_lr(model, train_loader, optimizer,\n",
    "            init_val=1e-8, final_val=10.0, beta=0.98):\n",
    "    # https://sgugger.github.io/how-do-you-find-a-good-learning-rate.html#how-do-you-find-a-good-learning-rate\n",
    "    \n",
    "    num = len(train_loader)\n",
    "    mult = (final_val / init_val) ** (1 / num)\n",
    "    lr = init_val\n",
    "    optimizer.param_groups[0]['lr'] = lr\n",
    "    \n",
    "    avg_loss = 0\n",
    "    best_loss = 0\n",
    "    batch_num = 0\n",
    "    smoothed_losses = []\n",
    "    raw_losses = []\n",
    "    log_lrs = []\n",
    "    \n",
    "    for i, (x, y) in enumerate(train_loader):\n",
    "        batch_num+=1\n",
    "        batch = x.shape[0]\n",
    "        \n",
    "        optimizer.zero_grad()\n",
    "        \n",
    "        # Prediction\n",
    "        preds = model(x)\n",
    "        vpreds = preds - torch.mean(preds)\n",
    "        vy = y - torch.mean(y)\n",
    "        corr = torch.sum(vpreds * vy) / \\\n",
    "               (torch.sqrt(torch.sum(vpreds ** 2)) *\n",
    "                torch.sqrt(torch.sum(vy ** 2)))\n",
    "        loss = -corr\n",
    "        loss_cpu = float(loss.detach().numpy())\n",
    "        \n",
    "        # Compute the smoothed loss\n",
    "        avg_loss = beta * avg_loss + (1 - beta) * loss_cpu\n",
    "        smoothed_loss = avg_loss / (1 - beta ** batch_num)\n",
    "        \n",
    "        if smoothed_loss < best_loss or batch_num==1:\n",
    "            best_loss = smoothed_loss\n",
    "            \n",
    "        raw_losses.append(loss_cpu)\n",
    "        smoothed_losses.append(smoothed_loss)\n",
    "        log_lrs.append(np.log10(lr))\n",
    "        \n",
    "        loss.backward()\n",
    "        optimizer.step()\n",
    "        \n",
    "        # Update the lr for the next batch\n",
    "        lr*=mult\n",
    "        optimizer.param_groups[0]['lr'] = lr\n",
    "    return log_lrs, raw_losses, smoothed_losses"
   ]
  },
  {
   "cell_type": "code",
   "execution_count": 16,
   "id": "26301465",
   "metadata": {
    "execution": {
     "iopub.execute_input": "2022-11-10T18:29:30.890051Z",
     "iopub.status.busy": "2022-11-10T18:29:30.889564Z",
     "iopub.status.idle": "2022-11-10T18:29:46.744463Z",
     "shell.execute_reply": "2022-11-10T18:29:46.743102Z"
    },
    "papermill": {
     "duration": 15.872151,
     "end_time": "2022-11-10T18:29:46.748881",
     "exception": false,
     "start_time": "2022-11-10T18:29:30.876730",
     "status": "completed"
    },
    "tags": []
   },
   "outputs": [
    {
     "name": "stdout",
     "output_type": "stream",
     "text": [
      "weight decay: 0.01\n",
      "learning rate w/ steepest gradient 0.1892\n",
      "\n",
      "weight decay: 0.001\n",
      "learning rate w/ steepest gradient -3.4595\n",
      "\n",
      "weight decay: 0.0001\n",
      "learning rate w/ steepest gradient -3.4595\n",
      "\n",
      "weight decay: 1e-05\n",
      "learning rate w/ steepest gradient -3.4595\n",
      "\n",
      "CPU times: user 31.1 s, sys: 396 ms, total: 31.5 s\n",
      "Wall time: 15.8 s\n"
     ]
    }
   ],
   "source": [
    "%%time\n",
    "weight_decays = [0.01, 0.001, 0.0001, 0.00001]\n",
    "res = {}\n",
    "\n",
    "for weight_decay in weight_decays:\n",
    "    net = Net()\n",
    "    optimizer = optim.Adam(net.parameters(), \n",
    "                           weight_decay=weight_decay)\n",
    "    log_lrs, raw_losses, smoothed_losses = find_lr(net, \n",
    "                                                   train_loader, \n",
    "                                                   optimizer)\n",
    "    \n",
    "    # Find steepest gradient according to fast.ai\n",
    "    # https://fastai1.fast.ai/callbacks.lr_finder.html\n",
    "    gradients = np.gradient(raw_losses)\n",
    "    min_gradient = gradients.min()\n",
    "    for i in range(len(raw_losses)):\n",
    "        if gradients[i] == min_gradient:\n",
    "            print(f'weight decay: {weight_decay}')\n",
    "            print(f'learning rate w/ steepest gradient {log_lrs[i]:.4f}')\n",
    "            print()\n",
    "            break\n",
    "    \n",
    "    res[weight_decay] = {\n",
    "        'log lrs': log_lrs,\n",
    "        'raw losses': raw_losses,\n",
    "        'smoothed losses': smoothed_losses\n",
    "    }"
   ]
  },
  {
   "cell_type": "code",
   "execution_count": 17,
   "id": "288872ae",
   "metadata": {
    "execution": {
     "iopub.execute_input": "2022-11-10T18:29:46.774007Z",
     "iopub.status.busy": "2022-11-10T18:29:46.773206Z",
     "iopub.status.idle": "2022-11-10T18:29:47.369854Z",
     "shell.execute_reply": "2022-11-10T18:29:47.368803Z"
    },
    "papermill": {
     "duration": 0.611985,
     "end_time": "2022-11-10T18:29:47.372487",
     "exception": false,
     "start_time": "2022-11-10T18:29:46.760502",
     "status": "completed"
    },
    "tags": []
   },
   "outputs": [
    {
     "data": {
      "image/png": "[encoded data removed]",
      "text/plain": [
       "<Figure size 576x576 with 2 Axes>"
      ]
     },
     "metadata": {},
     "output_type": "display_data"
    }
   ],
   "source": [
    "figsize(8, 8)\n",
    "\n",
    "plt.subplot(2, 1, 1)\n",
    "for weight_decay in weight_decays:\n",
    "    plt.plot(res[weight_decay]['log lrs'], \n",
    "             res[weight_decay]['raw losses'],\n",
    "             label=f'wd={weight_decay}')\n",
    "plt.vlines(-2.5, -0.9, 0.1, linestyles='--', colors='black')\n",
    "plt.legend()\n",
    "plt.title('raw losses')\n",
    "\n",
    "plt.subplot(2, 1, 2)\n",
    "for weight_decay in weight_decays:\n",
    "    plt.plot(res[weight_decay]['log lrs'], \n",
    "             res[weight_decay]['smoothed losses'],\n",
    "             label=weight_decay)\n",
    "plt.legend()\n",
    "plt.title('smoothed losses')\n",
    "\n",
    "plt.tight_layout()"
   ]
  },
  {
   "cell_type": "markdown",
   "id": "1425f6d9",
   "metadata": {
    "papermill": {
     "duration": 0.012818,
     "end_time": "2022-11-10T18:29:47.397691",
     "exception": false,
     "start_time": "2022-11-10T18:29:47.384873",
     "status": "completed"
    },
    "tags": []
   },
   "source": [
    "### Train"
   ]
  },
  {
   "cell_type": "code",
   "execution_count": 18,
   "id": "bd7fa015",
   "metadata": {
    "execution": {
     "iopub.execute_input": "2022-11-10T18:29:47.425672Z",
     "iopub.status.busy": "2022-11-10T18:29:47.424697Z",
     "iopub.status.idle": "2022-11-10T18:29:47.434341Z",
     "shell.execute_reply": "2022-11-10T18:29:47.433128Z"
    },
    "papermill": {
     "duration": 0.027044,
     "end_time": "2022-11-10T18:29:47.437450",
     "exception": false,
     "start_time": "2022-11-10T18:29:47.410406",
     "status": "completed"
    },
    "tags": []
   },
   "outputs": [],
   "source": [
    "def train_model(train_loader, model, optimizer, scheduler):\n",
    "    \n",
    "    model.train()\n",
    "    sum_corr = 0.0 # sum_loss = 0.0\n",
    "    total = 0\n",
    "    lrs = []\n",
    "    \n",
    "    for i, (x, y) in enumerate(train_loader):\n",
    "        batch = x.shape[0]\n",
    "        \n",
    "        preds = model(x)\n",
    "        vpreds = preds - torch.mean(preds)\n",
    "        vy = y - torch.mean(y)\n",
    "        corr = torch.sum(vpreds * vy) / \\\n",
    "               (torch.sqrt(torch.sum(vpreds ** 2)) *\n",
    "                torch.sqrt(torch.sum(vy ** 2)))\n",
    "        loss = -corr\n",
    "        \n",
    "        optimizer.zero_grad()\n",
    "        loss.backward()\n",
    "        \n",
    "        optimizer.step()\n",
    "        lrs.append(optimizer.param_groups[0]['lr'])\n",
    "        scheduler.step()\n",
    "        \n",
    "        total += batch\n",
    "        sum_corr += batch * corr\n",
    "    \n",
    "    train_corr = sum_corr/total \n",
    "    return train_corr, lrs"
   ]
  },
  {
   "cell_type": "code",
   "execution_count": 19,
   "id": "037fde50",
   "metadata": {
    "execution": {
     "iopub.execute_input": "2022-11-10T18:29:47.466358Z",
     "iopub.status.busy": "2022-11-10T18:29:47.465360Z",
     "iopub.status.idle": "2022-11-10T18:29:47.476563Z",
     "shell.execute_reply": "2022-11-10T18:29:47.474918Z"
    },
    "papermill": {
     "duration": 0.028201,
     "end_time": "2022-11-10T18:29:47.479081",
     "exception": false,
     "start_time": "2022-11-10T18:29:47.450880",
     "status": "completed"
    },
    "tags": []
   },
   "outputs": [],
   "source": [
    "def model_eval(model, val_loader):\n",
    "    model.eval()\n",
    "    sum_corr = 0.0 # sum_loss = 0.0\n",
    "    total = 0\n",
    "    \n",
    "    for i, (x, y) in enumerate(val_loader):\n",
    "        batch = x.shape[0]\n",
    "        \n",
    "        preds = model(x)\n",
    "        vpreds = preds - torch.mean(preds)\n",
    "        vy = y - torch.mean(y)\n",
    "        corr = torch.sum(vpreds * vy) / \\\n",
    "               (torch.sqrt(torch.sum(vpreds ** 2)) *\n",
    "                torch.sqrt(torch.sum(vy ** 2)))\n",
    "        loss = -corr\n",
    "        \n",
    "        total += batch\n",
    "        sum_corr += batch * corr\n",
    "        \n",
    "    val_corr = sum_corr/total\n",
    "    return val_corr"
   ]
  },
  {
   "cell_type": "code",
   "execution_count": 20,
   "id": "abd95712",
   "metadata": {
    "execution": {
     "iopub.execute_input": "2022-11-10T18:29:47.506256Z",
     "iopub.status.busy": "2022-11-10T18:29:47.505712Z",
     "iopub.status.idle": "2022-11-10T18:29:47.521144Z",
     "shell.execute_reply": "2022-11-10T18:29:47.519888Z"
    },
    "papermill": {
     "duration": 0.032646,
     "end_time": "2022-11-10T18:29:47.524092",
     "exception": false,
     "start_time": "2022-11-10T18:29:47.491446",
     "status": "completed"
    },
    "tags": []
   },
   "outputs": [],
   "source": [
    "net = Net()\n",
    "max_lr = 0.005\n",
    "weight_decay = 0.001 \n",
    "epochs = 20\n",
    "\n",
    "optimizer = optim.Adam(net.parameters(),\n",
    "                       weight_decay=weight_decay)\n",
    "scheduler = torch.optim.lr_scheduler.OneCycleLR(optimizer, \n",
    "                                                max_lr=max_lr,\n",
    "                                                steps_per_epoch=len(train_loader),\n",
    "                                                epochs=epochs)"
   ]
  },
  {
   "cell_type": "code",
   "execution_count": 21,
   "id": "50b8aff5",
   "metadata": {
    "execution": {
     "iopub.execute_input": "2022-11-10T18:29:47.551337Z",
     "iopub.status.busy": "2022-11-10T18:29:47.550859Z",
     "iopub.status.idle": "2022-11-10T18:32:45.556294Z",
     "shell.execute_reply": "2022-11-10T18:32:45.554855Z"
    },
    "papermill": {
     "duration": 178.024581,
     "end_time": "2022-11-10T18:32:45.561427",
     "exception": false,
     "start_time": "2022-11-10T18:29:47.536846",
     "status": "completed"
    },
    "tags": []
   },
   "outputs": [
    {
     "name": "stdout",
     "output_type": "stream",
     "text": [
      "epoch 0\n",
      "train corr: 0.7372\n",
      "val corr: 0.8626\n",
      "\n",
      "epoch 1\n",
      "train corr: 0.8786\n",
      "val corr: 0.8779\n",
      "\n",
      "epoch 2\n",
      "train corr: 0.8822\n",
      "val corr: 0.8786\n",
      "\n",
      "epoch 3\n",
      "train corr: 0.8774\n",
      "val corr: 0.8720\n",
      "\n",
      "epoch 4\n",
      "train corr: 0.8738\n",
      "val corr: 0.8713\n",
      "\n",
      "epoch 5\n",
      "train corr: 0.8729\n",
      "val corr: 0.8729\n",
      "\n",
      "epoch 6\n",
      "train corr: 0.8748\n",
      "val corr: 0.8682\n",
      "\n",
      "epoch 7\n",
      "train corr: 0.8765\n",
      "val corr: 0.8760\n",
      "\n",
      "epoch 8\n",
      "train corr: 0.8783\n",
      "val corr: 0.8776\n",
      "\n",
      "epoch 9\n",
      "train corr: 0.8804\n",
      "val corr: 0.8796\n",
      "\n",
      "epoch 10\n",
      "train corr: 0.8821\n",
      "val corr: 0.8813\n",
      "\n",
      "epoch 11\n",
      "train corr: 0.8841\n",
      "val corr: 0.8837\n",
      "\n",
      "epoch 12\n",
      "train corr: 0.8861\n",
      "val corr: 0.8864\n",
      "\n",
      "epoch 13\n",
      "train corr: 0.8876\n",
      "val corr: 0.8879\n",
      "\n",
      "epoch 14\n",
      "train corr: 0.8898\n",
      "val corr: 0.8886\n",
      "\n",
      "epoch 15\n",
      "train corr: 0.8920\n",
      "val corr: 0.8911\n",
      "\n",
      "epoch 16\n",
      "train corr: 0.8945\n",
      "val corr: 0.8920\n",
      "\n",
      "epoch 17\n",
      "train corr: 0.8969\n",
      "val corr: 0.8929\n",
      "\n",
      "epoch 18\n",
      "train corr: 0.8991\n",
      "val corr: 0.8936\n",
      "\n",
      "epoch 19\n",
      "train corr: 0.9004\n",
      "val corr: 0.8935\n",
      "\n",
      "CPU times: user 5min 52s, sys: 1.79 s, total: 5min 54s\n",
      "Wall time: 2min 57s\n"
     ]
    }
   ],
   "source": [
    "%%time\n",
    "train_corrs = []\n",
    "val_corrs = []\n",
    "best_val_corr = 0.0\n",
    "best_epoch = 0\n",
    "num_epochs_run = 0\n",
    "lrs = []\n",
    "\n",
    "for epoch in range(epochs):\n",
    "    num_epochs_run += 1\n",
    "    \n",
    "    # train\n",
    "    print('epoch', epoch)\n",
    "    train_corr, epoch_lrs = train_model(train_loader, net, optimizer, scheduler)\n",
    "    train_corr = float(train_corr.detach().numpy())\n",
    "    train_corrs.append(train_corr)\n",
    "    lrs.append(epoch_lrs)\n",
    "    print(f'train corr: {train_corr:.4f}')\n",
    "    \n",
    "    # val\n",
    "    val_corr = model_eval(net, val_loader)\n",
    "    val_corr = float(val_corr.detach().numpy())\n",
    "    val_corrs.append(val_corr)\n",
    "    print(f'val corr: {val_corr:.4f}')\n",
    "    print()"
   ]
  },
  {
   "cell_type": "code",
   "execution_count": 22,
   "id": "00a4858c",
   "metadata": {
    "execution": {
     "iopub.execute_input": "2022-11-10T18:32:45.594581Z",
     "iopub.status.busy": "2022-11-10T18:32:45.594099Z",
     "iopub.status.idle": "2022-11-10T18:32:45.798446Z",
     "shell.execute_reply": "2022-11-10T18:32:45.797029Z"
    },
    "papermill": {
     "duration": 0.224222,
     "end_time": "2022-11-10T18:32:45.801469",
     "exception": false,
     "start_time": "2022-11-10T18:32:45.577247",
     "status": "completed"
    },
    "tags": []
   },
   "outputs": [
    {
     "data": {
      "text/plain": [
       "[<matplotlib.lines.Line2D at 0x7f9295173490>]"
      ]
     },
     "execution_count": 22,
     "metadata": {},
     "output_type": "execute_result"
    },
    {
     "data": {
      "image/png": "[encoded data removed]",
      "text/plain": [
       "<Figure size 576x288 with 1 Axes>"
      ]
     },
     "metadata": {},
     "output_type": "display_data"
    }
   ],
   "source": [
    "figsize(8, 4)\n",
    "plt.plot(list(itertools.chain(*lrs)))"
   ]
  },
  {
   "cell_type": "code",
   "execution_count": 23,
   "id": "6ea9d6a8",
   "metadata": {
    "execution": {
     "iopub.execute_input": "2022-11-10T18:32:45.833432Z",
     "iopub.status.busy": "2022-11-10T18:32:45.832972Z",
     "iopub.status.idle": "2022-11-10T18:32:46.150776Z",
     "shell.execute_reply": "2022-11-10T18:32:46.149295Z"
    },
    "papermill": {
     "duration": 0.337306,
     "end_time": "2022-11-10T18:32:46.153841",
     "exception": false,
     "start_time": "2022-11-10T18:32:45.816535",
     "status": "completed"
    },
    "tags": []
   },
   "outputs": [
    {
     "data": {
      "text/plain": [
       "(0.7, 1.0)"
      ]
     },
     "execution_count": 23,
     "metadata": {},
     "output_type": "execute_result"
    },
    {
     "data": {
      "image/png": "[encoded data removed]",
      "text/plain": [
       "<Figure size 576x288 with 1 Axes>"
      ]
     },
     "metadata": {},
     "output_type": "display_data"
    }
   ],
   "source": [
    "figsize(8, 4)\n",
    "plt.scatter(list(range(epochs)), train_corrs, label='training corr')\n",
    "plt.plot(list(range(epochs)), train_corrs)\n",
    "plt.scatter(list(range(epochs)), val_corrs, label='val corr')\n",
    "plt.plot(list(range(epochs)), val_corrs)\n",
    "plt.legend(loc='lower right')\n",
    "plt.title(f'max learning rate = {max_lr} | wd = {weight_decay}')\n",
    "plt.ylim(0.7, 1)"
   ]
  },
  {
   "cell_type": "code",
   "execution_count": 24,
   "id": "293e30e1",
   "metadata": {
    "execution": {
     "iopub.execute_input": "2022-11-10T18:32:46.187313Z",
     "iopub.status.busy": "2022-11-10T18:32:46.186875Z",
     "iopub.status.idle": "2022-11-10T18:32:46.335672Z",
     "shell.execute_reply": "2022-11-10T18:32:46.334424Z"
    },
    "papermill": {
     "duration": 0.168519,
     "end_time": "2022-11-10T18:32:46.338218",
     "exception": false,
     "start_time": "2022-11-10T18:32:46.169699",
     "status": "completed"
    },
    "tags": []
   },
   "outputs": [
    {
     "data": {
      "text/plain": [
       "3575"
      ]
     },
     "execution_count": 24,
     "metadata": {},
     "output_type": "execute_result"
    }
   ],
   "source": [
    "del train_inp, train_tar, full_ds\n",
    "gc.collect()"
   ]
  },
  {
   "cell_type": "markdown",
   "id": "2d1ec35c",
   "metadata": {
    "papermill": {
     "duration": 0.015361,
     "end_time": "2022-11-10T18:32:46.369661",
     "exception": false,
     "start_time": "2022-11-10T18:32:46.354300",
     "status": "completed"
    },
    "tags": []
   },
   "source": [
    "## Prediction"
   ]
  },
  {
   "cell_type": "code",
   "execution_count": 25,
   "id": "ef23cc9b",
   "metadata": {
    "execution": {
     "iopub.execute_input": "2022-11-10T18:32:46.405690Z",
     "iopub.status.busy": "2022-11-10T18:32:46.405264Z",
     "iopub.status.idle": "2022-11-10T18:32:48.155845Z",
     "shell.execute_reply": "2022-11-10T18:32:48.154302Z"
    },
    "papermill": {
     "duration": 1.773454,
     "end_time": "2022-11-10T18:32:48.158994",
     "exception": false,
     "start_time": "2022-11-10T18:32:46.385540",
     "status": "completed"
    },
    "tags": []
   },
   "outputs": [
    {
     "name": "stdout",
     "output_type": "stream",
     "text": [
      "CPU times: user 64.6 ms, sys: 258 ms, total: 322 ms\n",
      "Wall time: 1.74 s\n"
     ]
    }
   ],
   "source": [
    "%%time\n",
    "test_inp = load_pickle(f'{DATA_DIR}/test_inp')\n",
    "test_inp = torch.from_numpy(test_inp)"
   ]
  },
  {
   "cell_type": "code",
   "execution_count": 26,
   "id": "f9f1f29b",
   "metadata": {
    "execution": {
     "iopub.execute_input": "2022-11-10T18:32:48.194310Z",
     "iopub.status.busy": "2022-11-10T18:32:48.193886Z",
     "iopub.status.idle": "2022-11-10T18:32:48.199708Z",
     "shell.execute_reply": "2022-11-10T18:32:48.198139Z"
    },
    "papermill": {
     "duration": 0.026605,
     "end_time": "2022-11-10T18:32:48.202461",
     "exception": false,
     "start_time": "2022-11-10T18:32:48.175856",
     "status": "completed"
    },
    "tags": []
   },
   "outputs": [],
   "source": [
    "test_inp = test_inp[:, :-7]"
   ]
  },
  {
   "cell_type": "code",
   "execution_count": 27,
   "id": "d7b21163",
   "metadata": {
    "execution": {
     "iopub.execute_input": "2022-11-10T18:32:48.236365Z",
     "iopub.status.busy": "2022-11-10T18:32:48.235912Z",
     "iopub.status.idle": "2022-11-10T18:32:53.477788Z",
     "shell.execute_reply": "2022-11-10T18:32:53.476742Z"
    },
    "papermill": {
     "duration": 5.262492,
     "end_time": "2022-11-10T18:32:53.481012",
     "exception": false,
     "start_time": "2022-11-10T18:32:48.218520",
     "status": "completed"
    },
    "tags": []
   },
   "outputs": [],
   "source": [
    "with torch.no_grad():\n",
    "    net.eval()\n",
    "    test_tar_preds = net(test_inp).detach().numpy()"
   ]
  },
  {
   "cell_type": "code",
   "execution_count": 28,
   "id": "d0e23d9d",
   "metadata": {
    "execution": {
     "iopub.execute_input": "2022-11-10T18:32:53.516212Z",
     "iopub.status.busy": "2022-11-10T18:32:53.515722Z",
     "iopub.status.idle": "2022-11-10T18:32:53.669772Z",
     "shell.execute_reply": "2022-11-10T18:32:53.668431Z"
    },
    "papermill": {
     "duration": 0.174271,
     "end_time": "2022-11-10T18:32:53.672621",
     "exception": false,
     "start_time": "2022-11-10T18:32:53.498350",
     "status": "completed"
    },
    "tags": []
   },
   "outputs": [
    {
     "data": {
      "text/plain": [
       "84"
      ]
     },
     "execution_count": 28,
     "metadata": {},
     "output_type": "execute_result"
    }
   ],
   "source": [
    "del test_inp\n",
    "gc.collect()"
   ]
  },
  {
   "cell_type": "markdown",
   "id": "7733dc54",
   "metadata": {
    "papermill": {
     "duration": 0.015652,
     "end_time": "2022-11-10T18:32:53.704279",
     "exception": false,
     "start_time": "2022-11-10T18:32:53.688627",
     "status": "completed"
    },
    "tags": []
   },
   "source": [
    "## Creating Submission"
   ]
  },
  {
   "cell_type": "code",
   "execution_count": 29,
   "id": "3d56276e",
   "metadata": {
    "execution": {
     "iopub.execute_input": "2022-11-10T18:32:53.741297Z",
     "iopub.status.busy": "2022-11-10T18:32:53.740583Z",
     "iopub.status.idle": "2022-11-10T18:32:54.883394Z",
     "shell.execute_reply": "2022-11-10T18:32:54.881806Z"
    },
    "papermill": {
     "duration": 1.166121,
     "end_time": "2022-11-10T18:32:54.886434",
     "exception": false,
     "start_time": "2022-11-10T18:32:53.720313",
     "status": "completed"
    },
    "tags": []
   },
   "outputs": [
    {
     "name": "stdout",
     "output_type": "stream",
     "text": [
      "total 7.1G\r\n",
      "-rw-r--r-- 1 nobody nogroup  25K Oct 25 08:09 __notebook__.ipynb\r\n",
      "-rw-r--r-- 1 nobody nogroup  25K Oct 25 08:09 __output__.json\r\n",
      "-rw-r--r-- 1 nobody nogroup 293K Oct 25 08:09 __results__.html\r\n",
      "-rw-r--r-- 1 nobody nogroup    0 Oct 25 08:09 custom.css\r\n",
      "-rw-r--r-- 1 nobody nogroup 359M Oct 25 08:09 evaluation_ids.parquet\r\n",
      "-rw-r--r-- 1 nobody nogroup 3.8M Oct 25 08:09 metadata.parquet\r\n",
      "-rw-r--r-- 1 nobody nogroup 108K Oct 25 08:09 metadata_cite_day_2_donor_27678.parquet\r\n",
      "-rw-r--r-- 1 nobody nogroup 252M Oct 25 08:09 sample_submission.parquet\r\n",
      "-rw-r--r-- 1 nobody nogroup 856K Oct 25 08:09 test_cite_inputs_day_2_donor_27678_idx.npz\r\n",
      "-rw-r--r-- 1 nobody nogroup  78M Oct 25 08:09 test_cite_inputs_day_2_donor_27678_val.sparse.npz\r\n",
      "-rw-r--r-- 1 nobody nogroup 1.8M Oct 25 08:09 test_cite_inputs_idx.npz\r\n",
      "-rw-r--r-- 1 nobody nogroup 488M Oct 25 08:09 test_cite_inputs_val.sparse.npz\r\n",
      "-rw-r--r-- 1 nobody nogroup 8.4M Oct 25 08:09 test_multi_inputs_idx.npz\r\n",
      "-rw-r--r-- 1 nobody nogroup 1.7G Oct 25 08:09 test_multi_inputs_val.sparse.npz\r\n",
      "-rw-r--r-- 1 nobody nogroup 2.2M Oct 25 08:09 train_cite_inputs_idx.npz\r\n",
      "-rw-r--r-- 1 nobody nogroup 712M Oct 25 08:09 train_cite_inputs_val.sparse.npz\r\n",
      "-rw-r--r-- 1 nobody nogroup 1.5M Oct 25 08:09 train_cite_targets_idx.npz\r\n",
      "-rw-r--r-- 1 nobody nogroup  36M Oct 25 08:09 train_cite_targets_val.sparse.npz\r\n",
      "-rw-r--r-- 1 nobody nogroup 9.5M Oct 25 08:09 train_multi_inputs_idx.npz\r\n",
      "-rw-r--r-- 1 nobody nogroup 2.8G Oct 25 08:10 train_multi_inputs_val.sparse.npz\r\n",
      "-rw-r--r-- 1 nobody nogroup 2.8M Oct 25 08:09 train_multi_targets_idx.npz\r\n",
      "-rw-r--r-- 1 nobody nogroup 824M Oct 25 08:09 train_multi_targets_val.sparse.npz\r\n"
     ]
    }
   ],
   "source": [
    "DATA_DIR = '../input/msci-h5-sparse-transform'\n",
    "%ls $DATA_DIR -lh"
   ]
  },
  {
   "cell_type": "code",
   "execution_count": 30,
   "id": "5bd23237",
   "metadata": {
    "execution": {
     "iopub.execute_input": "2022-11-10T18:32:54.921055Z",
     "iopub.status.busy": "2022-11-10T18:32:54.920554Z",
     "iopub.status.idle": "2022-11-10T18:32:55.013276Z",
     "shell.execute_reply": "2022-11-10T18:32:55.012021Z"
    },
    "papermill": {
     "duration": 0.113864,
     "end_time": "2022-11-10T18:32:55.016437",
     "exception": false,
     "start_time": "2022-11-10T18:32:54.902573",
     "status": "completed"
    },
    "tags": []
   },
   "outputs": [
    {
     "data": {
      "text/plain": [
       "((140,), (48663,), (48663, 140))"
      ]
     },
     "execution_count": 30,
     "metadata": {},
     "output_type": "execute_result"
    }
   ],
   "source": [
    "test_tar_cols = np.load(f'{DATA_DIR}/train_cite_targets_idx.npz',\n",
    "                        allow_pickle=True)['columns']\n",
    "test_tar_idx = np.load(f'{DATA_DIR}/test_cite_inputs_idx.npz',\n",
    "                       allow_pickle=True)['index']\n",
    "test_tar_cols.shape, test_tar_idx.shape, test_tar_preds.shape"
   ]
  },
  {
   "cell_type": "code",
   "execution_count": 31,
   "id": "bb69b168",
   "metadata": {
    "execution": {
     "iopub.execute_input": "2022-11-10T18:32:55.052249Z",
     "iopub.status.busy": "2022-11-10T18:32:55.051764Z",
     "iopub.status.idle": "2022-11-10T18:33:29.688625Z",
     "shell.execute_reply": "2022-11-10T18:33:29.687204Z"
    },
    "papermill": {
     "duration": 34.676212,
     "end_time": "2022-11-10T18:33:29.709764",
     "exception": false,
     "start_time": "2022-11-10T18:32:55.033552",
     "status": "completed"
    },
    "tags": []
   },
   "outputs": [
    {
     "name": "stdout",
     "output_type": "stream",
     "text": [
      "Start Eval...\n",
      "CPU times: user 29.7 s, sys: 10.2 s, total: 39.9 s\n",
      "Wall time: 34.6 s\n"
     ]
    }
   ],
   "source": [
    "%%time\n",
    "print('Start Eval...')\n",
    "eval_ids = pd.read_parquet(f'{DATA_DIR}/evaluation_ids.parquet')\n",
    "eval_ids.cell_id = eval_ids.cell_id.astype(pd.CategoricalDtype())\n",
    "eval_ids.gene_id = eval_ids.gene_id.astype(pd.CategoricalDtype())"
   ]
  },
  {
   "cell_type": "code",
   "execution_count": 32,
   "id": "71f933c7",
   "metadata": {
    "execution": {
     "iopub.execute_input": "2022-11-10T18:33:29.745224Z",
     "iopub.status.busy": "2022-11-10T18:33:29.744761Z",
     "iopub.status.idle": "2022-11-10T18:33:52.899713Z",
     "shell.execute_reply": "2022-11-10T18:33:52.898307Z"
    },
    "papermill": {
     "duration": 23.176917,
     "end_time": "2022-11-10T18:33:52.902967",
     "exception": false,
     "start_time": "2022-11-10T18:33:29.726050",
     "status": "completed"
    },
    "tags": []
   },
   "outputs": [
    {
     "name": "stdout",
     "output_type": "stream",
     "text": [
      "CPU times: user 19.2 s, sys: 3.72 s, total: 22.9 s\n",
      "Wall time: 22.9 s\n"
     ]
    },
    {
     "data": {
      "text/plain": [
       "row_id    cell_id       gene_id        \n",
       "0         c2150f55becb  CD86              NaN\n",
       "1         c2150f55becb  CD274             NaN\n",
       "2         c2150f55becb  CD270             NaN\n",
       "3         c2150f55becb  CD155             NaN\n",
       "4         c2150f55becb  CD112             NaN\n",
       "                                           ..\n",
       "65744175  2c53aa67933d  ENSG00000134419   NaN\n",
       "65744176  2c53aa67933d  ENSG00000186862   NaN\n",
       "65744177  2c53aa67933d  ENSG00000170959   NaN\n",
       "65744178  2c53aa67933d  ENSG00000107874   NaN\n",
       "65744179  2c53aa67933d  ENSG00000166012   NaN\n",
       "Name: target, Length: 65744180, dtype: float32"
      ]
     },
     "execution_count": 32,
     "metadata": {},
     "output_type": "execute_result"
    }
   ],
   "source": [
    "%%time\n",
    "sub = pd.Series(name='target',\n",
    "                index=pd.MultiIndex.from_frame(eval_ids), \n",
    "                dtype=np.float32)\n",
    "sub"
   ]
  },
  {
   "cell_type": "code",
   "execution_count": 33,
   "id": "8629418e",
   "metadata": {
    "execution": {
     "iopub.execute_input": "2022-11-10T18:33:52.939020Z",
     "iopub.status.busy": "2022-11-10T18:33:52.938548Z",
     "iopub.status.idle": "2022-11-10T18:33:52.959383Z",
     "shell.execute_reply": "2022-11-10T18:33:52.958257Z"
    },
    "papermill": {
     "duration": 0.041867,
     "end_time": "2022-11-10T18:33:52.962086",
     "exception": false,
     "start_time": "2022-11-10T18:33:52.920219",
     "status": "completed"
    },
    "tags": []
   },
   "outputs": [],
   "source": [
    "cell_id_dict = {cell_id: idx \n",
    "                for idx, cell_id in enumerate(test_tar_idx, 0)}\n",
    "gene_id_dict = {gene_id: idx \n",
    "                for idx, gene_id in enumerate(test_tar_cols, 0)}"
   ]
  },
  {
   "cell_type": "code",
   "execution_count": 34,
   "id": "aef89b85",
   "metadata": {
    "execution": {
     "iopub.execute_input": "2022-11-10T18:33:52.997416Z",
     "iopub.status.busy": "2022-11-10T18:33:52.997005Z",
     "iopub.status.idle": "2022-11-10T18:33:55.126162Z",
     "shell.execute_reply": "2022-11-10T18:33:55.124911Z"
    },
    "papermill": {
     "duration": 2.15028,
     "end_time": "2022-11-10T18:33:55.129237",
     "exception": false,
     "start_time": "2022-11-10T18:33:52.978957",
     "status": "completed"
    },
    "tags": []
   },
   "outputs": [],
   "source": [
    "eid_cid_idx = eval_ids['cell_id']\\\n",
    "              .apply(lambda x: cell_id_dict.get(x, -1))\n",
    "eid_gid_idx = eval_ids['gene_id']\\\n",
    "              .apply(lambda x: gene_id_dict.get(x, -1))\n",
    "valid_cite_rows = (eid_cid_idx != -1) & (eid_gid_idx != -1)"
   ]
  },
  {
   "cell_type": "code",
   "execution_count": 35,
   "id": "8d71c111",
   "metadata": {
    "execution": {
     "iopub.execute_input": "2022-11-10T18:33:55.164542Z",
     "iopub.status.busy": "2022-11-10T18:33:55.164070Z",
     "iopub.status.idle": "2022-11-10T18:33:55.646359Z",
     "shell.execute_reply": "2022-11-10T18:33:55.644731Z"
    },
    "papermill": {
     "duration": 0.503063,
     "end_time": "2022-11-10T18:33:55.649224",
     "exception": false,
     "start_time": "2022-11-10T18:33:55.146161",
     "status": "completed"
    },
    "tags": []
   },
   "outputs": [
    {
     "name": "stdout",
     "output_type": "stream",
     "text": [
      "CPU times: user 323 ms, sys: 152 ms, total: 474 ms\n",
      "Wall time: 475 ms\n"
     ]
    }
   ],
   "source": [
    "%%time\n",
    "sub.iloc[valid_cite_rows] = test_tar_preds\\\n",
    "                             [eid_cid_idx[valid_cite_rows].to_numpy(),\n",
    "                              eid_gid_idx[valid_cite_rows].to_numpy()]"
   ]
  },
  {
   "cell_type": "code",
   "execution_count": 36,
   "id": "2e2b9dd3",
   "metadata": {
    "execution": {
     "iopub.execute_input": "2022-11-10T18:33:55.685451Z",
     "iopub.status.busy": "2022-11-10T18:33:55.685030Z",
     "iopub.status.idle": "2022-11-10T18:33:55.873634Z",
     "shell.execute_reply": "2022-11-10T18:33:55.872315Z"
    },
    "papermill": {
     "duration": 0.210025,
     "end_time": "2022-11-10T18:33:55.876269",
     "exception": false,
     "start_time": "2022-11-10T18:33:55.666244",
     "status": "completed"
    },
    "tags": []
   },
   "outputs": [
    {
     "data": {
      "text/plain": [
       "97"
      ]
     },
     "execution_count": 36,
     "metadata": {},
     "output_type": "execute_result"
    }
   ],
   "source": [
    "del eval_ids, test_tar_idx, test_tar_cols\n",
    "del eid_cid_idx, eid_gid_idx, valid_cite_rows\n",
    "gc.collect() "
   ]
  },
  {
   "cell_type": "code",
   "execution_count": 37,
   "id": "ec532366",
   "metadata": {
    "execution": {
     "iopub.execute_input": "2022-11-10T18:33:55.911502Z",
     "iopub.status.busy": "2022-11-10T18:33:55.910715Z",
     "iopub.status.idle": "2022-11-10T18:35:33.136604Z",
     "shell.execute_reply": "2022-11-10T18:35:33.134692Z"
    },
    "papermill": {
     "duration": 97.247147,
     "end_time": "2022-11-10T18:35:33.139958",
     "exception": false,
     "start_time": "2022-11-10T18:33:55.892811",
     "status": "completed"
    },
    "tags": []
   },
   "outputs": [],
   "source": [
    "sub = pd.DataFrame(sub).fillna(0).reset_index()\n",
    "sub.drop(['cell_id', 'gene_id'], axis=1)\\\n",
    "   .to_csv('cite_sub.csv', index=False)"
   ]
  },
  {
   "cell_type": "code",
   "execution_count": 38,
   "id": "b94ab618",
   "metadata": {
    "execution": {
     "iopub.execute_input": "2022-11-10T18:35:33.176364Z",
     "iopub.status.busy": "2022-11-10T18:35:33.175924Z",
     "iopub.status.idle": "2022-11-10T18:35:33.192514Z",
     "shell.execute_reply": "2022-11-10T18:35:33.191301Z"
    },
    "papermill": {
     "duration": 0.038187,
     "end_time": "2022-11-10T18:35:33.195243",
     "exception": false,
     "start_time": "2022-11-10T18:35:33.157056",
     "status": "completed"
    },
    "tags": []
   },
   "outputs": [
    {
     "data": {
      "text/html": [
       "<div>\n",
       "<style scoped>\n",
       "    .dataframe tbody tr th:only-of-type {\n",
       "        vertical-align: middle;\n",
       "    }\n",
       "\n",
       "    .dataframe tbody tr th {\n",
       "        vertical-align: top;\n",
       "    }\n",
       "\n",
       "    .dataframe thead th {\n",
       "        text-align: right;\n",
       "    }\n",
       "</style>\n",
       "<table border=\"1\" class=\"dataframe\">\n",
       "  <thead>\n",
       "    <tr style=\"text-align: right;\">\n",
       "      <th></th>\n",
       "      <th>row_id</th>\n",
       "      <th>cell_id</th>\n",
       "      <th>gene_id</th>\n",
       "      <th>target</th>\n",
       "    </tr>\n",
       "  </thead>\n",
       "  <tbody>\n",
       "    <tr>\n",
       "      <th>0</th>\n",
       "      <td>0</td>\n",
       "      <td>c2150f55becb</td>\n",
       "      <td>CD86</td>\n",
       "      <td>-0.011194</td>\n",
       "    </tr>\n",
       "    <tr>\n",
       "      <th>1</th>\n",
       "      <td>1</td>\n",
       "      <td>c2150f55becb</td>\n",
       "      <td>CD274</td>\n",
       "      <td>-0.009213</td>\n",
       "    </tr>\n",
       "    <tr>\n",
       "      <th>2</th>\n",
       "      <td>2</td>\n",
       "      <td>c2150f55becb</td>\n",
       "      <td>CD270</td>\n",
       "      <td>-0.006905</td>\n",
       "    </tr>\n",
       "    <tr>\n",
       "      <th>3</th>\n",
       "      <td>3</td>\n",
       "      <td>c2150f55becb</td>\n",
       "      <td>CD155</td>\n",
       "      <td>0.022184</td>\n",
       "    </tr>\n",
       "    <tr>\n",
       "      <th>4</th>\n",
       "      <td>4</td>\n",
       "      <td>c2150f55becb</td>\n",
       "      <td>CD112</td>\n",
       "      <td>0.032435</td>\n",
       "    </tr>\n",
       "  </tbody>\n",
       "</table>\n",
       "</div>"
      ],
      "text/plain": [
       "   row_id       cell_id gene_id    target\n",
       "0       0  c2150f55becb    CD86 -0.011194\n",
       "1       1  c2150f55becb   CD274 -0.009213\n",
       "2       2  c2150f55becb   CD270 -0.006905\n",
       "3       3  c2150f55becb   CD155  0.022184\n",
       "4       4  c2150f55becb   CD112  0.032435"
      ]
     },
     "execution_count": 38,
     "metadata": {},
     "output_type": "execute_result"
    }
   ],
   "source": [
    "sub.head()"
   ]
  },
  {
   "cell_type": "code",
   "execution_count": null,
   "id": "9bec92ae",
   "metadata": {
    "papermill": {
     "duration": 0.017171,
     "end_time": "2022-11-10T18:35:33.229734",
     "exception": false,
     "start_time": "2022-11-10T18:35:33.212563",
     "status": "completed"
    },
    "tags": []
   },
   "outputs": [],
   "source": []
  }
 ],
 "metadata": {
  "kernelspec": {
   "display_name": "Python 3",
   "language": "python",
   "name": "python3"
  },
  "language_info": {
   "codemirror_mode": {
    "name": "ipython",
    "version": 3
   },
   "file_extension": ".py",
   "mimetype": "text/x-python",
   "name": "python",
   "nbconvert_exporter": "python",
   "pygments_lexer": "ipython3",
   "version": "3.7.12"
  },
  "papermill": {
   "default_parameters": {},
   "duration": 379.97238,
   "end_time": "2022-11-10T18:35:34.474032",
   "environment_variables": {},
   "exception": null,
   "input_path": "__notebook__.ipynb",
   "output_path": "__notebook__.ipynb",
   "parameters": {},
   "start_time": "2022-11-10T18:29:14.501652",
   "version": "2.3.4"
  }
 },
 "nbformat": 4,
 "nbformat_minor": 5
}
