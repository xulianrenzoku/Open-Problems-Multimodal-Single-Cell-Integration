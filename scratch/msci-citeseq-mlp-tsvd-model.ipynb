{
 "cells": [
  {
   "cell_type": "code",
   "execution_count": 1,
   "id": "225fae76",
   "metadata": {
    "_cell_guid": "b1076dfc-b9ad-4769-8c92-a6c4dae69d19",
    "_uuid": "8f2839f25d086af736a60e9eeb907d3b93b6e0e5",
    "execution": {
     "iopub.execute_input": "2022-11-14T17:27:14.927466Z",
     "iopub.status.busy": "2022-11-14T17:27:14.926814Z",
     "iopub.status.idle": "2022-11-14T17:27:15.024796Z",
     "shell.execute_reply": "2022-11-14T17:27:15.023756Z"
    },
    "papermill": {
     "duration": 0.115393,
     "end_time": "2022-11-14T17:27:15.028325",
     "exception": false,
     "start_time": "2022-11-14T17:27:14.912932",
     "status": "completed"
    },
    "tags": []
   },
   "outputs": [],
   "source": [
    "import os\n",
    "import os.path\n",
    "import gc\n",
    "import itertools\n",
    "import numpy as np\n",
    "import pandas as pd\n",
    "import scipy.sparse\n",
    "from tqdm import tqdm"
   ]
  },
  {
   "cell_type": "code",
   "execution_count": 2,
   "id": "30afa211",
   "metadata": {
    "execution": {
     "iopub.execute_input": "2022-11-14T17:27:15.050846Z",
     "iopub.status.busy": "2022-11-14T17:27:15.050400Z",
     "iopub.status.idle": "2022-11-14T17:27:15.055510Z",
     "shell.execute_reply": "2022-11-14T17:27:15.054515Z"
    },
    "papermill": {
     "duration": 0.0187,
     "end_time": "2022-11-14T17:27:15.057690",
     "exception": false,
     "start_time": "2022-11-14T17:27:15.038990",
     "status": "completed"
    },
    "tags": []
   },
   "outputs": [],
   "source": [
    "import warnings \n",
    "warnings.filterwarnings('ignore')"
   ]
  },
  {
   "cell_type": "code",
   "execution_count": 3,
   "id": "89775255",
   "metadata": {
    "execution": {
     "iopub.execute_input": "2022-11-14T17:27:15.082245Z",
     "iopub.status.busy": "2022-11-14T17:27:15.081846Z",
     "iopub.status.idle": "2022-11-14T17:27:16.092720Z",
     "shell.execute_reply": "2022-11-14T17:27:16.090598Z"
    },
    "papermill": {
     "duration": 1.028456,
     "end_time": "2022-11-14T17:27:16.096270",
     "exception": false,
     "start_time": "2022-11-14T17:27:15.067814",
     "status": "completed"
    },
    "tags": []
   },
   "outputs": [],
   "source": [
    "import seaborn as sns\n",
    "import matplotlib\n",
    "import matplotlib.pyplot as plt\n",
    "from IPython.core.pylabtools import figsize"
   ]
  },
  {
   "cell_type": "code",
   "execution_count": 4,
   "id": "f9b9ce99",
   "metadata": {
    "execution": {
     "iopub.execute_input": "2022-11-14T17:27:16.120356Z",
     "iopub.status.busy": "2022-11-14T17:27:16.119857Z",
     "iopub.status.idle": "2022-11-14T17:27:16.126699Z",
     "shell.execute_reply": "2022-11-14T17:27:16.125394Z"
    },
    "papermill": {
     "duration": 0.022333,
     "end_time": "2022-11-14T17:27:16.129488",
     "exception": false,
     "start_time": "2022-11-14T17:27:16.107155",
     "status": "completed"
    },
    "tags": []
   },
   "outputs": [],
   "source": [
    "sns.set()"
   ]
  },
  {
   "cell_type": "code",
   "execution_count": 5,
   "id": "8fdbdf7a",
   "metadata": {
    "execution": {
     "iopub.execute_input": "2022-11-14T17:27:16.152346Z",
     "iopub.status.busy": "2022-11-14T17:27:16.151444Z",
     "iopub.status.idle": "2022-11-14T17:27:16.158399Z",
     "shell.execute_reply": "2022-11-14T17:27:16.157498Z"
    },
    "papermill": {
     "duration": 0.021386,
     "end_time": "2022-11-14T17:27:16.161089",
     "exception": false,
     "start_time": "2022-11-14T17:27:16.139703",
     "status": "completed"
    },
    "tags": []
   },
   "outputs": [],
   "source": [
    "import pickle\n",
    "\n",
    "def dump_pickle(file, filename):\n",
    "    outfile = open(filename, 'wb')\n",
    "    pickle.dump(file, outfile)\n",
    "    outfile.close()\n",
    "\n",
    "def load_pickle(filename):\n",
    "    infile = open(filename, 'rb')\n",
    "    file = pickle.load(infile)\n",
    "    infile.close()\n",
    "    return file"
   ]
  },
  {
   "cell_type": "markdown",
   "id": "69aaaf8a",
   "metadata": {
    "papermill": {
     "duration": 0.009925,
     "end_time": "2022-11-14T17:27:16.181922",
     "exception": false,
     "start_time": "2022-11-14T17:27:16.171997",
     "status": "completed"
    },
    "tags": []
   },
   "source": [
    "## Read Data"
   ]
  },
  {
   "cell_type": "code",
   "execution_count": 6,
   "id": "fb6f7a86",
   "metadata": {
    "execution": {
     "iopub.execute_input": "2022-11-14T17:27:16.208386Z",
     "iopub.status.busy": "2022-11-14T17:27:16.207432Z",
     "iopub.status.idle": "2022-11-14T17:27:17.051300Z",
     "shell.execute_reply": "2022-11-14T17:27:17.049706Z"
    },
    "papermill": {
     "duration": 0.861148,
     "end_time": "2022-11-14T17:27:17.054155",
     "exception": false,
     "start_time": "2022-11-14T17:27:16.193007",
     "status": "completed"
    },
    "tags": []
   },
   "outputs": [
    {
     "name": "stdout",
     "output_type": "stream",
     "text": [
      "CPU times: user 237 ms, sys: 86.1 ms, total: 323 ms\n",
      "Wall time: 832 ms\n"
     ]
    }
   ],
   "source": [
    "%%time\n",
    "DATA_DIR = '../input/open-problems-multimodal'\n",
    "train_tar = pd.read_hdf(f'{DATA_DIR}/train_cite_targets.h5')\n",
    "train_tar_cols = train_tar.columns"
   ]
  },
  {
   "cell_type": "code",
   "execution_count": 7,
   "id": "922a936a",
   "metadata": {
    "execution": {
     "iopub.execute_input": "2022-11-14T17:27:17.077297Z",
     "iopub.status.busy": "2022-11-14T17:27:17.076883Z",
     "iopub.status.idle": "2022-11-14T17:27:17.083039Z",
     "shell.execute_reply": "2022-11-14T17:27:17.082049Z"
    },
    "papermill": {
     "duration": 0.020499,
     "end_time": "2022-11-14T17:27:17.085298",
     "exception": false,
     "start_time": "2022-11-14T17:27:17.064799",
     "status": "completed"
    },
    "tags": []
   },
   "outputs": [],
   "source": [
    "train_tar = train_tar.values"
   ]
  },
  {
   "cell_type": "code",
   "execution_count": 8,
   "id": "523e4335",
   "metadata": {
    "execution": {
     "iopub.execute_input": "2022-11-14T17:27:17.108288Z",
     "iopub.status.busy": "2022-11-14T17:27:17.107606Z",
     "iopub.status.idle": "2022-11-14T17:27:18.869488Z",
     "shell.execute_reply": "2022-11-14T17:27:18.867982Z"
    },
    "papermill": {
     "duration": 1.776629,
     "end_time": "2022-11-14T17:27:18.872247",
     "exception": false,
     "start_time": "2022-11-14T17:27:17.095618",
     "status": "completed"
    },
    "tags": []
   },
   "outputs": [
    {
     "name": "stdout",
     "output_type": "stream",
     "text": [
      "CPU times: user 64.6 ms, sys: 342 ms, total: 406 ms\n",
      "Wall time: 1.75 s\n"
     ]
    }
   ],
   "source": [
    "%%time\n",
    "DATA_DIR = '../input/msci-citeseq-mlp-tsvd'\n",
    "train_inp = load_pickle(f'{DATA_DIR}/train_inp')"
   ]
  },
  {
   "cell_type": "code",
   "execution_count": 9,
   "id": "85c4d80d",
   "metadata": {
    "execution": {
     "iopub.execute_input": "2022-11-14T17:27:18.896220Z",
     "iopub.status.busy": "2022-11-14T17:27:18.895702Z",
     "iopub.status.idle": "2022-11-14T17:27:18.909007Z",
     "shell.execute_reply": "2022-11-14T17:27:18.907971Z"
    },
    "papermill": {
     "duration": 0.028938,
     "end_time": "2022-11-14T17:27:18.911842",
     "exception": false,
     "start_time": "2022-11-14T17:27:18.882904",
     "status": "completed"
    },
    "tags": []
   },
   "outputs": [
    {
     "data": {
      "text/plain": [
       "(70988, 656)"
      ]
     },
     "execution_count": 9,
     "metadata": {},
     "output_type": "execute_result"
    }
   ],
   "source": [
    "train_inp = train_inp[:, :-1]\n",
    "train_inp.shape"
   ]
  },
  {
   "cell_type": "markdown",
   "id": "aba1d66b",
   "metadata": {
    "papermill": {
     "duration": 0.010448,
     "end_time": "2022-11-14T17:27:18.933635",
     "exception": false,
     "start_time": "2022-11-14T17:27:18.923187",
     "status": "completed"
    },
    "tags": []
   },
   "source": [
    "## Modeling"
   ]
  },
  {
   "cell_type": "code",
   "execution_count": 10,
   "id": "220485be",
   "metadata": {
    "execution": {
     "iopub.execute_input": "2022-11-14T17:27:18.957281Z",
     "iopub.status.busy": "2022-11-14T17:27:18.955844Z",
     "iopub.status.idle": "2022-11-14T17:27:20.556271Z",
     "shell.execute_reply": "2022-11-14T17:27:20.554697Z"
    },
    "papermill": {
     "duration": 1.615134,
     "end_time": "2022-11-14T17:27:20.559171",
     "exception": false,
     "start_time": "2022-11-14T17:27:18.944037",
     "status": "completed"
    },
    "tags": []
   },
   "outputs": [],
   "source": [
    "import torch\n",
    "import torch.nn as nn\n",
    "import torch.nn.functional as F\n",
    "import torch.optim as optim\n",
    "from torch.utils.data import DataLoader, TensorDataset, random_split"
   ]
  },
  {
   "cell_type": "markdown",
   "id": "edfb4e3d",
   "metadata": {
    "papermill": {
     "duration": 0.010177,
     "end_time": "2022-11-14T17:27:20.580188",
     "exception": false,
     "start_time": "2022-11-14T17:27:20.570011",
     "status": "completed"
    },
    "tags": []
   },
   "source": [
    "## Dataset & DataLoader"
   ]
  },
  {
   "cell_type": "code",
   "execution_count": 11,
   "id": "8af1e7c0",
   "metadata": {
    "execution": {
     "iopub.execute_input": "2022-11-14T17:27:20.606222Z",
     "iopub.status.busy": "2022-11-14T17:27:20.604385Z",
     "iopub.status.idle": "2022-11-14T17:27:20.613353Z",
     "shell.execute_reply": "2022-11-14T17:27:20.611559Z"
    },
    "papermill": {
     "duration": 0.024581,
     "end_time": "2022-11-14T17:27:20.615888",
     "exception": false,
     "start_time": "2022-11-14T17:27:20.591307",
     "status": "completed"
    },
    "tags": []
   },
   "outputs": [
    {
     "name": "stdout",
     "output_type": "stream",
     "text": [
      "CPU times: user 39 µs, sys: 8 µs, total: 47 µs\n",
      "Wall time: 52.5 µs\n"
     ]
    }
   ],
   "source": [
    "%%time\n",
    "train_inp = torch.from_numpy(train_inp)\n",
    "train_tar = torch.from_numpy(train_tar)"
   ]
  },
  {
   "cell_type": "code",
   "execution_count": 12,
   "id": "1c597dcb",
   "metadata": {
    "execution": {
     "iopub.execute_input": "2022-11-14T17:27:20.640071Z",
     "iopub.status.busy": "2022-11-14T17:27:20.638894Z",
     "iopub.status.idle": "2022-11-14T17:27:20.655144Z",
     "shell.execute_reply": "2022-11-14T17:27:20.653750Z"
    },
    "papermill": {
     "duration": 0.031268,
     "end_time": "2022-11-14T17:27:20.658301",
     "exception": false,
     "start_time": "2022-11-14T17:27:20.627033",
     "status": "completed"
    },
    "tags": []
   },
   "outputs": [],
   "source": [
    "full_ds = TensorDataset(train_inp, train_tar)\n",
    "train_sz = 56832\n",
    "val_sz = len(full_ds) - train_sz\n",
    "train_ds, val_ds = random_split(full_ds, \n",
    "                                [train_sz, val_sz],\n",
    "                                generator=torch.Generator().manual_seed(42))"
   ]
  },
  {
   "cell_type": "code",
   "execution_count": 13,
   "id": "8f51a037",
   "metadata": {
    "execution": {
     "iopub.execute_input": "2022-11-14T17:27:20.681749Z",
     "iopub.status.busy": "2022-11-14T17:27:20.681256Z",
     "iopub.status.idle": "2022-11-14T17:27:20.688743Z",
     "shell.execute_reply": "2022-11-14T17:27:20.687297Z"
    },
    "papermill": {
     "duration": 0.022135,
     "end_time": "2022-11-14T17:27:20.691543",
     "exception": false,
     "start_time": "2022-11-14T17:27:20.669408",
     "status": "completed"
    },
    "tags": []
   },
   "outputs": [],
   "source": [
    "batch_size = 512\n",
    "train_loader = DataLoader(train_ds, batch_size=batch_size, shuffle=True)\n",
    "val_loader = DataLoader(val_ds, batch_size=batch_size, shuffle=False)"
   ]
  },
  {
   "cell_type": "markdown",
   "id": "53937d97",
   "metadata": {
    "papermill": {
     "duration": 0.010918,
     "end_time": "2022-11-14T17:27:20.713995",
     "exception": false,
     "start_time": "2022-11-14T17:27:20.703077",
     "status": "completed"
    },
    "tags": []
   },
   "source": [
    "### Define NN"
   ]
  },
  {
   "cell_type": "code",
   "execution_count": 14,
   "id": "96e6aa39",
   "metadata": {
    "execution": {
     "iopub.execute_input": "2022-11-14T17:27:20.738494Z",
     "iopub.status.busy": "2022-11-14T17:27:20.738074Z",
     "iopub.status.idle": "2022-11-14T17:27:20.745137Z",
     "shell.execute_reply": "2022-11-14T17:27:20.743863Z"
    },
    "papermill": {
     "duration": 0.02224,
     "end_time": "2022-11-14T17:27:20.747681",
     "exception": false,
     "start_time": "2022-11-14T17:27:20.725441",
     "status": "completed"
    },
    "tags": []
   },
   "outputs": [],
   "source": [
    "# class Net(nn.Module):\n",
    "#     def __init__(self):\n",
    "#         \"\"\"In the constructor we instantiate two nn.Linear modules and assign them as\n",
    "#         member variables (self).\n",
    "#         \"\"\"\n",
    "#         super(Net, self).__init__()\n",
    "# #         self.linear1 = nn.Linear(663, 128*2)\n",
    "#         self.linear1 = nn.Linear(656, 128*4)\n",
    "#         self.bn1 = nn.BatchNorm1d(128*4)\n",
    "#         self.linear2 = nn.Linear(128*4, 128*4)\n",
    "#         self.bn2 = nn.BatchNorm1d(128*4)\n",
    "#         self.linear3 = nn.Linear(128*4, 128*4)\n",
    "#         self.bn3 = nn.BatchNorm1d(128*4)\n",
    "#         self.linear4 = nn.Linear(128*4, 140)\n",
    "\n",
    "#     def forward(self, x):\n",
    "#         \"\"\"\n",
    "#         In the forward function we accept a Tensor of input data and we must return\n",
    "#         a Tensor of output data. We can use Modules defined in the constructor as\n",
    "#         well as arbitrary operators on Tensors.\n",
    "#         \"\"\"\n",
    "#         x = self.linear1(x)\n",
    "#         x = self.bn1(x)\n",
    "#         x = F.relu(x)\n",
    "#         x = self.linear2(x)\n",
    "#         x = self.bn2(x)\n",
    "#         x = F.relu(x)\n",
    "#         x = self.linear3(x)\n",
    "#         x = self.bn3(x)\n",
    "#         x = F.relu(x)\n",
    "#         x = self.linear4(x)\n",
    "#         return x"
   ]
  },
  {
   "cell_type": "code",
   "execution_count": 15,
   "id": "ba3c1126",
   "metadata": {
    "execution": {
     "iopub.execute_input": "2022-11-14T17:27:20.770606Z",
     "iopub.status.busy": "2022-11-14T17:27:20.770143Z",
     "iopub.status.idle": "2022-11-14T17:27:20.780981Z",
     "shell.execute_reply": "2022-11-14T17:27:20.779658Z"
    },
    "papermill": {
     "duration": 0.025317,
     "end_time": "2022-11-14T17:27:20.783637",
     "exception": false,
     "start_time": "2022-11-14T17:27:20.758320",
     "status": "completed"
    },
    "tags": []
   },
   "outputs": [],
   "source": [
    "class Net(nn.Module):\n",
    "    def __init__(self):\n",
    "        \"\"\"In the constructor we instantiate two nn.Linear modules and assign them as\n",
    "        member variables (self).\n",
    "        \"\"\"\n",
    "        super(Net, self).__init__()\n",
    "#         self.linear1 = nn.Linear(663, 128*2)\n",
    "        self.linear1 = nn.Linear(656, 128*4)\n",
    "        self.selu1 = nn.SELU(128*4)\n",
    "        self.linear2 = nn.Linear(128*4, 128*4)\n",
    "        self.selu2 = nn.SELU(128*4)\n",
    "        self.linear3 = nn.Linear(128*4, 128*4)\n",
    "        self.selu3 = nn.SELU(128*4)\n",
    "        self.linear4 = nn.Linear(128*4, 140)\n",
    "\n",
    "    def forward(self, x):\n",
    "        \"\"\"\n",
    "        In the forward function we accept a Tensor of input data and we must return\n",
    "        a Tensor of output data. We can use Modules defined in the constructor as\n",
    "        well as arbitrary operators on Tensors.\n",
    "        \"\"\"\n",
    "        x = self.linear1(x)\n",
    "        x = self.selu1(x)\n",
    "        x = self.linear2(x)\n",
    "        x = self.selu2(x)\n",
    "        x = self.linear3(x)\n",
    "        x = self.selu3(x)\n",
    "        x = self.linear4(x)\n",
    "        return x"
   ]
  },
  {
   "cell_type": "markdown",
   "id": "a0aa48d4",
   "metadata": {
    "papermill": {
     "duration": 0.010002,
     "end_time": "2022-11-14T17:27:20.804013",
     "exception": false,
     "start_time": "2022-11-14T17:27:20.794011",
     "status": "completed"
    },
    "tags": []
   },
   "source": [
    "### Find LR"
   ]
  },
  {
   "cell_type": "code",
   "execution_count": 16,
   "id": "9c9a214e",
   "metadata": {
    "execution": {
     "iopub.execute_input": "2022-11-14T17:27:20.828402Z",
     "iopub.status.busy": "2022-11-14T17:27:20.826981Z",
     "iopub.status.idle": "2022-11-14T17:27:20.839755Z",
     "shell.execute_reply": "2022-11-14T17:27:20.838716Z"
    },
    "papermill": {
     "duration": 0.027355,
     "end_time": "2022-11-14T17:27:20.842229",
     "exception": false,
     "start_time": "2022-11-14T17:27:20.814874",
     "status": "completed"
    },
    "tags": []
   },
   "outputs": [],
   "source": [
    "def find_lr(model, train_loader, optimizer,\n",
    "            init_val=1e-8, final_val=10.0, beta=0.98):\n",
    "    # https://sgugger.github.io/how-do-you-find-a-good-learning-rate.html#how-do-you-find-a-good-learning-rate\n",
    "    \n",
    "    num = len(train_loader)\n",
    "    mult = (final_val / init_val) ** (1 / num)\n",
    "    lr = init_val\n",
    "    optimizer.param_groups[0]['lr'] = lr\n",
    "    \n",
    "    avg_loss = 0\n",
    "    best_loss = 0\n",
    "    batch_num = 0\n",
    "    smoothed_losses = []\n",
    "    raw_losses = []\n",
    "    log_lrs = []\n",
    "    \n",
    "    for i, (x, y) in enumerate(train_loader):\n",
    "        batch_num+=1\n",
    "        batch = x.shape[0]\n",
    "        \n",
    "        optimizer.zero_grad()\n",
    "        \n",
    "        # Prediction\n",
    "        preds = model(x)\n",
    "        vpreds = preds - torch.mean(preds)\n",
    "        vy = y - torch.mean(y)\n",
    "        corr = torch.sum(vpreds * vy) / \\\n",
    "               (torch.sqrt(torch.sum(vpreds ** 2)) *\n",
    "                torch.sqrt(torch.sum(vy ** 2)))\n",
    "        loss = -corr\n",
    "        loss_cpu = float(loss.detach().numpy())\n",
    "        \n",
    "        # Compute the smoothed loss\n",
    "        avg_loss = beta * avg_loss + (1 - beta) * loss_cpu\n",
    "        smoothed_loss = avg_loss / (1 - beta ** batch_num)\n",
    "        \n",
    "        if smoothed_loss < best_loss or batch_num==1:\n",
    "            best_loss = smoothed_loss\n",
    "            \n",
    "        raw_losses.append(loss_cpu)\n",
    "        smoothed_losses.append(smoothed_loss)\n",
    "        log_lrs.append(np.log10(lr))\n",
    "        \n",
    "        loss.backward()\n",
    "        optimizer.step()\n",
    "        \n",
    "        # Update the lr for the next batch\n",
    "        lr*=mult\n",
    "        optimizer.param_groups[0]['lr'] = lr\n",
    "    return log_lrs, raw_losses, smoothed_losses"
   ]
  },
  {
   "cell_type": "code",
   "execution_count": 17,
   "id": "2be8557e",
   "metadata": {
    "execution": {
     "iopub.execute_input": "2022-11-14T17:27:20.865776Z",
     "iopub.status.busy": "2022-11-14T17:27:20.865315Z",
     "iopub.status.idle": "2022-11-14T17:27:37.302272Z",
     "shell.execute_reply": "2022-11-14T17:27:37.300737Z"
    },
    "papermill": {
     "duration": 16.452541,
     "end_time": "2022-11-14T17:27:37.305193",
     "exception": false,
     "start_time": "2022-11-14T17:27:20.852652",
     "status": "completed"
    },
    "tags": []
   },
   "outputs": [
    {
     "name": "stdout",
     "output_type": "stream",
     "text": [
      "weight decay: 0.01\n",
      "learning rate w/ steepest gradient 0.6757\n",
      "\n",
      "weight decay: 0.001\n",
      "learning rate w/ steepest gradient -1.5135\n",
      "\n",
      "weight decay: 0.0001\n",
      "learning rate w/ steepest gradient -1.5946\n",
      "\n",
      "weight decay: 1e-05\n",
      "learning rate w/ steepest gradient -1.5135\n",
      "\n",
      "CPU times: user 32.2 s, sys: 196 ms, total: 32.4 s\n",
      "Wall time: 16.4 s\n"
     ]
    }
   ],
   "source": [
    "%%time\n",
    "weight_decays = [0.01, 0.001, 0.0001, 0.00001]\n",
    "res = {}\n",
    "\n",
    "for weight_decay in weight_decays:\n",
    "    net = Net()\n",
    "    optimizer = optim.Adam(net.parameters(), \n",
    "                           weight_decay=weight_decay)\n",
    "    log_lrs, raw_losses, smoothed_losses = find_lr(net, \n",
    "                                                   train_loader, \n",
    "                                                   optimizer)\n",
    "    \n",
    "    # Find steepest gradient according to fast.ai\n",
    "    # https://fastai1.fast.ai/callbacks.lr_finder.html\n",
    "    gradients = np.gradient(raw_losses)\n",
    "    min_gradient = gradients.min()\n",
    "    for i in range(len(raw_losses)):\n",
    "        if gradients[i] == min_gradient:\n",
    "            print(f'weight decay: {weight_decay}')\n",
    "            print(f'learning rate w/ steepest gradient {log_lrs[i]:.4f}')\n",
    "            print()\n",
    "            break\n",
    "    \n",
    "    res[weight_decay] = {\n",
    "        'log lrs': log_lrs,\n",
    "        'raw losses': raw_losses,\n",
    "        'smoothed losses': smoothed_losses\n",
    "    }"
   ]
  },
  {
   "cell_type": "code",
   "execution_count": 18,
   "id": "be1132e8",
   "metadata": {
    "execution": {
     "iopub.execute_input": "2022-11-14T17:27:37.333273Z",
     "iopub.status.busy": "2022-11-14T17:27:37.332313Z",
     "iopub.status.idle": "2022-11-14T17:27:38.094560Z",
     "shell.execute_reply": "2022-11-14T17:27:38.093539Z"
    },
    "papermill": {
     "duration": 0.779043,
     "end_time": "2022-11-14T17:27:38.097383",
     "exception": false,
     "start_time": "2022-11-14T17:27:37.318340",
     "status": "completed"
    },
    "tags": []
   },
   "outputs": [
    {
     "data": {
      "image/png": "[encoded data removed]",
      "text/plain": [
       "<Figure size 576x576 with 2 Axes>"
      ]
     },
     "metadata": {},
     "output_type": "display_data"
    }
   ],
   "source": [
    "figsize(8, 8)\n",
    "\n",
    "plt.subplot(2, 1, 1)\n",
    "for weight_decay in weight_decays:\n",
    "    plt.plot(res[weight_decay]['log lrs'], \n",
    "             res[weight_decay]['raw losses'],\n",
    "             label=f'wd={weight_decay}')\n",
    "plt.vlines(-2.7, -0.9, 0.1, linestyles='--', colors='black')\n",
    "plt.legend()\n",
    "plt.title('raw losses')\n",
    "\n",
    "plt.subplot(2, 1, 2)\n",
    "for weight_decay in weight_decays:\n",
    "    plt.plot(res[weight_decay]['log lrs'], \n",
    "             res[weight_decay]['smoothed losses'],\n",
    "             label=weight_decay)\n",
    "plt.legend()\n",
    "plt.title('smoothed losses')\n",
    "\n",
    "plt.tight_layout()"
   ]
  },
  {
   "cell_type": "markdown",
   "id": "8f408dbf",
   "metadata": {
    "papermill": {
     "duration": 0.012339,
     "end_time": "2022-11-14T17:27:38.123204",
     "exception": false,
     "start_time": "2022-11-14T17:27:38.110865",
     "status": "completed"
    },
    "tags": []
   },
   "source": [
    "### Train"
   ]
  },
  {
   "cell_type": "code",
   "execution_count": 19,
   "id": "d7741789",
   "metadata": {
    "execution": {
     "iopub.execute_input": "2022-11-14T17:27:38.150454Z",
     "iopub.status.busy": "2022-11-14T17:27:38.149806Z",
     "iopub.status.idle": "2022-11-14T17:27:38.159596Z",
     "shell.execute_reply": "2022-11-14T17:27:38.158213Z"
    },
    "papermill": {
     "duration": 0.027468,
     "end_time": "2022-11-14T17:27:38.163015",
     "exception": false,
     "start_time": "2022-11-14T17:27:38.135547",
     "status": "completed"
    },
    "tags": []
   },
   "outputs": [],
   "source": [
    "def train_model(train_loader, model, optimizer, scheduler):\n",
    "    \n",
    "    model.train()\n",
    "    sum_corr = 0.0 # sum_loss = 0.0\n",
    "    total = 0\n",
    "    lrs = []\n",
    "    \n",
    "    for i, (x, y) in enumerate(train_loader):\n",
    "        batch = x.shape[0]\n",
    "        \n",
    "        preds = model(x)\n",
    "        vpreds = preds - torch.mean(preds)\n",
    "        vy = y - torch.mean(y)\n",
    "        corr = torch.sum(vpreds * vy) / \\\n",
    "               (torch.sqrt(torch.sum(vpreds ** 2)) *\n",
    "                torch.sqrt(torch.sum(vy ** 2)))\n",
    "        loss = -corr\n",
    "        \n",
    "        optimizer.zero_grad()\n",
    "        loss.backward()\n",
    "        \n",
    "        optimizer.step()\n",
    "        lrs.append(optimizer.param_groups[0]['lr'])\n",
    "        scheduler.step()\n",
    "        \n",
    "        total += batch\n",
    "        sum_corr += batch * corr\n",
    "    \n",
    "    train_corr = sum_corr/total \n",
    "    return train_corr, lrs"
   ]
  },
  {
   "cell_type": "code",
   "execution_count": 20,
   "id": "4fd13c54",
   "metadata": {
    "execution": {
     "iopub.execute_input": "2022-11-14T17:27:38.190836Z",
     "iopub.status.busy": "2022-11-14T17:27:38.189753Z",
     "iopub.status.idle": "2022-11-14T17:27:38.198635Z",
     "shell.execute_reply": "2022-11-14T17:27:38.197330Z"
    },
    "papermill": {
     "duration": 0.025587,
     "end_time": "2022-11-14T17:27:38.201885",
     "exception": false,
     "start_time": "2022-11-14T17:27:38.176298",
     "status": "completed"
    },
    "tags": []
   },
   "outputs": [],
   "source": [
    "def model_eval(model, val_loader):\n",
    "    model.eval()\n",
    "    sum_corr = 0.0 # sum_loss = 0.0\n",
    "    total = 0\n",
    "    \n",
    "    for i, (x, y) in enumerate(val_loader):\n",
    "        batch = x.shape[0]\n",
    "        \n",
    "        preds = model(x)\n",
    "        vpreds = preds - torch.mean(preds)\n",
    "        vy = y - torch.mean(y)\n",
    "        corr = torch.sum(vpreds * vy) / \\\n",
    "               (torch.sqrt(torch.sum(vpreds ** 2)) *\n",
    "                torch.sqrt(torch.sum(vy ** 2)))\n",
    "        loss = -corr\n",
    "        \n",
    "        total += batch\n",
    "        sum_corr += batch * corr\n",
    "        \n",
    "    val_corr = sum_corr/total\n",
    "    return val_corr"
   ]
  },
  {
   "cell_type": "code",
   "execution_count": 21,
   "id": "0744b234",
   "metadata": {
    "execution": {
     "iopub.execute_input": "2022-11-14T17:27:38.228258Z",
     "iopub.status.busy": "2022-11-14T17:27:38.227817Z",
     "iopub.status.idle": "2022-11-14T17:27:38.235843Z",
     "shell.execute_reply": "2022-11-14T17:27:38.234569Z"
    },
    "papermill": {
     "duration": 0.023939,
     "end_time": "2022-11-14T17:27:38.238321",
     "exception": false,
     "start_time": "2022-11-14T17:27:38.214382",
     "status": "completed"
    },
    "tags": []
   },
   "outputs": [
    {
     "data": {
      "text/plain": [
       "0.001995262314968879"
      ]
     },
     "execution_count": 21,
     "metadata": {},
     "output_type": "execute_result"
    }
   ],
   "source": [
    "10**(-2.7)"
   ]
  },
  {
   "cell_type": "code",
   "execution_count": 22,
   "id": "09d86ce5",
   "metadata": {
    "execution": {
     "iopub.execute_input": "2022-11-14T17:27:38.264297Z",
     "iopub.status.busy": "2022-11-14T17:27:38.263862Z",
     "iopub.status.idle": "2022-11-14T17:27:38.278918Z",
     "shell.execute_reply": "2022-11-14T17:27:38.277690Z"
    },
    "papermill": {
     "duration": 0.031917,
     "end_time": "2022-11-14T17:27:38.282316",
     "exception": false,
     "start_time": "2022-11-14T17:27:38.250399",
     "status": "completed"
    },
    "tags": []
   },
   "outputs": [],
   "source": [
    "net = Net()\n",
    "max_lr = 0.002\n",
    "weight_decay = 0.0001 \n",
    "epochs = 20\n",
    "\n",
    "optimizer = optim.Adam(net.parameters(),\n",
    "                       weight_decay=weight_decay)\n",
    "scheduler = torch.optim.lr_scheduler.OneCycleLR(optimizer, \n",
    "                                                max_lr=max_lr,\n",
    "                                                steps_per_epoch=len(train_loader),\n",
    "                                                epochs=epochs)"
   ]
  },
  {
   "cell_type": "code",
   "execution_count": 23,
   "id": "899ac3a2",
   "metadata": {
    "execution": {
     "iopub.execute_input": "2022-11-14T17:27:38.309731Z",
     "iopub.status.busy": "2022-11-14T17:27:38.309267Z",
     "iopub.status.idle": "2022-11-14T17:29:02.984964Z",
     "shell.execute_reply": "2022-11-14T17:29:02.983615Z"
    },
    "papermill": {
     "duration": 84.691822,
     "end_time": "2022-11-14T17:29:02.987597",
     "exception": false,
     "start_time": "2022-11-14T17:27:38.295775",
     "status": "completed"
    },
    "tags": []
   },
   "outputs": [
    {
     "name": "stdout",
     "output_type": "stream",
     "text": [
      "epoch 0\n",
      "train corr: 0.6839\n",
      "val corr: 0.8458\n",
      "\n",
      "epoch 1\n",
      "train corr: 0.8638\n",
      "val corr: 0.8717\n",
      "\n",
      "epoch 2\n",
      "train corr: 0.8762\n",
      "val corr: 0.8763\n",
      "\n",
      "epoch 3\n",
      "train corr: 0.8792\n",
      "val corr: 0.8775\n",
      "\n",
      "epoch 4\n",
      "train corr: 0.8816\n",
      "val corr: 0.8813\n",
      "\n",
      "epoch 5\n",
      "train corr: 0.8844\n",
      "val corr: 0.8846\n",
      "\n",
      "epoch 6\n",
      "train corr: 0.8870\n",
      "val corr: 0.8862\n",
      "\n",
      "epoch 7\n",
      "train corr: 0.8886\n",
      "val corr: 0.8875\n",
      "\n",
      "epoch 8\n",
      "train corr: 0.8897\n",
      "val corr: 0.8887\n",
      "\n",
      "epoch 9\n",
      "train corr: 0.8910\n",
      "val corr: 0.8891\n",
      "\n",
      "epoch 10\n",
      "train corr: 0.8920\n",
      "val corr: 0.8903\n",
      "\n",
      "epoch 11\n",
      "train corr: 0.8930\n",
      "val corr: 0.8910\n",
      "\n",
      "epoch 12\n",
      "train corr: 0.8942\n",
      "val corr: 0.8910\n",
      "\n",
      "epoch 13\n",
      "train corr: 0.8955\n",
      "val corr: 0.8922\n",
      "\n",
      "epoch 14\n",
      "train corr: 0.8968\n",
      "val corr: 0.8928\n",
      "\n",
      "epoch 15\n",
      "train corr: 0.8983\n",
      "val corr: 0.8935\n",
      "\n",
      "epoch 16\n",
      "train corr: 0.8997\n",
      "val corr: 0.8940\n",
      "\n",
      "epoch 17\n",
      "train corr: 0.9012\n",
      "val corr: 0.8943\n",
      "\n",
      "epoch 18\n",
      "train corr: 0.9024\n",
      "val corr: 0.8946\n",
      "\n",
      "epoch 19\n",
      "train corr: 0.9030\n",
      "val corr: 0.8946\n",
      "\n",
      "CPU times: user 2min 46s, sys: 1.11 s, total: 2min 48s\n",
      "Wall time: 1min 24s\n"
     ]
    }
   ],
   "source": [
    "%%time\n",
    "train_corrs = []\n",
    "val_corrs = []\n",
    "best_val_corr = 0.0\n",
    "best_epoch = 0\n",
    "num_epochs_run = 0\n",
    "lrs = []\n",
    "\n",
    "for epoch in range(epochs):\n",
    "    num_epochs_run += 1\n",
    "    \n",
    "    # train\n",
    "    print('epoch', epoch)\n",
    "    train_corr, epoch_lrs = train_model(train_loader, net, optimizer, scheduler)\n",
    "    train_corr = float(train_corr.detach().numpy())\n",
    "    train_corrs.append(train_corr)\n",
    "    lrs.append(epoch_lrs)\n",
    "    print(f'train corr: {train_corr:.4f}')\n",
    "    \n",
    "    # val\n",
    "    val_corr = model_eval(net, val_loader)\n",
    "    val_corr = float(val_corr.detach().numpy())\n",
    "    val_corrs.append(val_corr)\n",
    "    print(f'val corr: {val_corr:.4f}')\n",
    "    print()"
   ]
  },
  {
   "cell_type": "code",
   "execution_count": 24,
   "id": "880dd926",
   "metadata": {
    "execution": {
     "iopub.execute_input": "2022-11-14T17:29:03.018245Z",
     "iopub.status.busy": "2022-11-14T17:29:03.017792Z",
     "iopub.status.idle": "2022-11-14T17:29:03.305528Z",
     "shell.execute_reply": "2022-11-14T17:29:03.304251Z"
    },
    "papermill": {
     "duration": 0.306303,
     "end_time": "2022-11-14T17:29:03.308255",
     "exception": false,
     "start_time": "2022-11-14T17:29:03.001952",
     "status": "completed"
    },
    "tags": []
   },
   "outputs": [
    {
     "data": {
      "text/plain": [
       "[<matplotlib.lines.Line2D at 0x7f66cb57af50>]"
      ]
     },
     "execution_count": 24,
     "metadata": {},
     "output_type": "execute_result"
    },
    {
     "data": {
      "image/png": "[encoded data removed]",
      "text/plain": [
       "<Figure size 576x288 with 1 Axes>"
      ]
     },
     "metadata": {},
     "output_type": "display_data"
    }
   ],
   "source": [
    "figsize(8, 4)\n",
    "plt.plot(list(itertools.chain(*lrs)))"
   ]
  },
  {
   "cell_type": "code",
   "execution_count": 25,
   "id": "61be771f",
   "metadata": {
    "execution": {
     "iopub.execute_input": "2022-11-14T17:29:03.341721Z",
     "iopub.status.busy": "2022-11-14T17:29:03.341273Z",
     "iopub.status.idle": "2022-11-14T17:29:03.749941Z",
     "shell.execute_reply": "2022-11-14T17:29:03.748553Z"
    },
    "papermill": {
     "duration": 0.429036,
     "end_time": "2022-11-14T17:29:03.752727",
     "exception": false,
     "start_time": "2022-11-14T17:29:03.323691",
     "status": "completed"
    },
    "tags": []
   },
   "outputs": [
    {
     "data": {
      "text/plain": [
       "(0.7, 1.0)"
      ]
     },
     "execution_count": 25,
     "metadata": {},
     "output_type": "execute_result"
    },
    {
     "data": {
      "image/png": "[encoded data removed]",
      "text/plain": [
       "<Figure size 576x288 with 1 Axes>"
      ]
     },
     "metadata": {},
     "output_type": "display_data"
    }
   ],
   "source": [
    "figsize(8, 4)\n",
    "plt.scatter(list(range(epochs)), train_corrs, label='training corr')\n",
    "plt.plot(list(range(epochs)), train_corrs)\n",
    "plt.scatter(list(range(epochs)), val_corrs, label='val corr')\n",
    "plt.plot(list(range(epochs)), val_corrs)\n",
    "plt.legend(loc='lower right')\n",
    "plt.title(f'max learning rate = {max_lr} | wd = {weight_decay}')\n",
    "plt.ylim(0.7, 1)"
   ]
  },
  {
   "cell_type": "code",
   "execution_count": 26,
   "id": "f30d8245",
   "metadata": {
    "execution": {
     "iopub.execute_input": "2022-11-14T17:29:03.785909Z",
     "iopub.status.busy": "2022-11-14T17:29:03.785486Z",
     "iopub.status.idle": "2022-11-14T17:29:03.930749Z",
     "shell.execute_reply": "2022-11-14T17:29:03.929543Z"
    },
    "papermill": {
     "duration": 0.164864,
     "end_time": "2022-11-14T17:29:03.933358",
     "exception": false,
     "start_time": "2022-11-14T17:29:03.768494",
     "status": "completed"
    },
    "tags": []
   },
   "outputs": [
    {
     "data": {
      "text/plain": [
       "3575"
      ]
     },
     "execution_count": 26,
     "metadata": {},
     "output_type": "execute_result"
    }
   ],
   "source": [
    "del train_inp, train_tar, full_ds\n",
    "gc.collect()"
   ]
  },
  {
   "cell_type": "markdown",
   "id": "7026a87c",
   "metadata": {
    "papermill": {
     "duration": 0.015228,
     "end_time": "2022-11-14T17:29:03.964771",
     "exception": false,
     "start_time": "2022-11-14T17:29:03.949543",
     "status": "completed"
    },
    "tags": []
   },
   "source": [
    "## Prediction"
   ]
  },
  {
   "cell_type": "code",
   "execution_count": 27,
   "id": "273a1b9f",
   "metadata": {
    "execution": {
     "iopub.execute_input": "2022-11-14T17:29:03.998437Z",
     "iopub.status.busy": "2022-11-14T17:29:03.998038Z",
     "iopub.status.idle": "2022-11-14T17:29:05.450802Z",
     "shell.execute_reply": "2022-11-14T17:29:05.449326Z"
    },
    "papermill": {
     "duration": 1.473471,
     "end_time": "2022-11-14T17:29:05.453740",
     "exception": false,
     "start_time": "2022-11-14T17:29:03.980269",
     "status": "completed"
    },
    "tags": []
   },
   "outputs": [
    {
     "name": "stdout",
     "output_type": "stream",
     "text": [
      "CPU times: user 58.8 ms, sys: 204 ms, total: 263 ms\n",
      "Wall time: 1.45 s\n"
     ]
    }
   ],
   "source": [
    "%%time\n",
    "test_inp = load_pickle(f'{DATA_DIR}/test_inp')\n",
    "test_inp = torch.from_numpy(test_inp)"
   ]
  },
  {
   "cell_type": "code",
   "execution_count": 28,
   "id": "598b4e4c",
   "metadata": {
    "execution": {
     "iopub.execute_input": "2022-11-14T17:29:05.489448Z",
     "iopub.status.busy": "2022-11-14T17:29:05.489034Z",
     "iopub.status.idle": "2022-11-14T17:29:05.495837Z",
     "shell.execute_reply": "2022-11-14T17:29:05.494544Z"
    },
    "papermill": {
     "duration": 0.02737,
     "end_time": "2022-11-14T17:29:05.498338",
     "exception": false,
     "start_time": "2022-11-14T17:29:05.470968",
     "status": "completed"
    },
    "tags": []
   },
   "outputs": [],
   "source": [
    "test_inp = test_inp[:, :-1]"
   ]
  },
  {
   "cell_type": "code",
   "execution_count": 29,
   "id": "5b40a427",
   "metadata": {
    "execution": {
     "iopub.execute_input": "2022-11-14T17:29:05.532657Z",
     "iopub.status.busy": "2022-11-14T17:29:05.532137Z",
     "iopub.status.idle": "2022-11-14T17:29:06.433363Z",
     "shell.execute_reply": "2022-11-14T17:29:06.432314Z"
    },
    "papermill": {
     "duration": 0.921842,
     "end_time": "2022-11-14T17:29:06.436099",
     "exception": false,
     "start_time": "2022-11-14T17:29:05.514257",
     "status": "completed"
    },
    "tags": []
   },
   "outputs": [],
   "source": [
    "with torch.no_grad():\n",
    "    net.eval()\n",
    "    test_tar_preds = net(test_inp).detach().numpy()"
   ]
  },
  {
   "cell_type": "code",
   "execution_count": 30,
   "id": "d54e9818",
   "metadata": {
    "execution": {
     "iopub.execute_input": "2022-11-14T17:29:06.472749Z",
     "iopub.status.busy": "2022-11-14T17:29:06.471462Z",
     "iopub.status.idle": "2022-11-14T17:29:06.630395Z",
     "shell.execute_reply": "2022-11-14T17:29:06.628999Z"
    },
    "papermill": {
     "duration": 0.180393,
     "end_time": "2022-11-14T17:29:06.633558",
     "exception": false,
     "start_time": "2022-11-14T17:29:06.453165",
     "status": "completed"
    },
    "tags": []
   },
   "outputs": [
    {
     "data": {
      "text/plain": [
       "84"
      ]
     },
     "execution_count": 30,
     "metadata": {},
     "output_type": "execute_result"
    }
   ],
   "source": [
    "del test_inp\n",
    "gc.collect()"
   ]
  },
  {
   "cell_type": "markdown",
   "id": "6a0df1a2",
   "metadata": {
    "papermill": {
     "duration": 0.015478,
     "end_time": "2022-11-14T17:29:06.665817",
     "exception": false,
     "start_time": "2022-11-14T17:29:06.650339",
     "status": "completed"
    },
    "tags": []
   },
   "source": [
    "## Creating Submission"
   ]
  },
  {
   "cell_type": "code",
   "execution_count": 31,
   "id": "955ffaa3",
   "metadata": {
    "execution": {
     "iopub.execute_input": "2022-11-14T17:29:06.699775Z",
     "iopub.status.busy": "2022-11-14T17:29:06.699125Z",
     "iopub.status.idle": "2022-11-14T17:29:07.814498Z",
     "shell.execute_reply": "2022-11-14T17:29:07.813145Z"
    },
    "papermill": {
     "duration": 1.135513,
     "end_time": "2022-11-14T17:29:07.817184",
     "exception": false,
     "start_time": "2022-11-14T17:29:06.681671",
     "status": "completed"
    },
    "tags": []
   },
   "outputs": [
    {
     "name": "stdout",
     "output_type": "stream",
     "text": [
      "total 7.1G\r\n",
      "-rw-r--r-- 1 nobody nogroup  25K Nov 14 17:21 __notebook__.ipynb\r\n",
      "-rw-r--r-- 1 nobody nogroup  25K Nov 14 17:21 __output__.json\r\n",
      "-rw-r--r-- 1 nobody nogroup 293K Nov 14 17:21 __results__.html\r\n",
      "-rw-r--r-- 1 nobody nogroup    0 Nov 14 17:21 custom.css\r\n",
      "-rw-r--r-- 1 nobody nogroup 359M Nov 14 17:21 evaluation_ids.parquet\r\n",
      "-rw-r--r-- 1 nobody nogroup 3.8M Nov 14 17:21 metadata.parquet\r\n",
      "-rw-r--r-- 1 nobody nogroup 108K Nov 14 17:21 metadata_cite_day_2_donor_27678.parquet\r\n",
      "-rw-r--r-- 1 nobody nogroup 252M Nov 14 17:21 sample_submission.parquet\r\n",
      "-rw-r--r-- 1 nobody nogroup 856K Nov 14 17:21 test_cite_inputs_day_2_donor_27678_idx.npz\r\n",
      "-rw-r--r-- 1 nobody nogroup  78M Nov 14 17:21 test_cite_inputs_day_2_donor_27678_val.sparse.npz\r\n",
      "-rw-r--r-- 1 nobody nogroup 1.8M Nov 14 17:21 test_cite_inputs_idx.npz\r\n",
      "-rw-r--r-- 1 nobody nogroup 488M Nov 14 17:21 test_cite_inputs_val.sparse.npz\r\n",
      "-rw-r--r-- 1 nobody nogroup 8.4M Nov 14 17:21 test_multi_inputs_idx.npz\r\n",
      "-rw-r--r-- 1 nobody nogroup 1.7G Nov 14 17:22 test_multi_inputs_val.sparse.npz\r\n",
      "-rw-r--r-- 1 nobody nogroup 2.2M Nov 14 17:21 train_cite_inputs_idx.npz\r\n",
      "-rw-r--r-- 1 nobody nogroup 712M Nov 14 17:21 train_cite_inputs_val.sparse.npz\r\n",
      "-rw-r--r-- 1 nobody nogroup 1.5M Nov 14 17:21 train_cite_targets_idx.npz\r\n",
      "-rw-r--r-- 1 nobody nogroup  36M Nov 14 17:21 train_cite_targets_val.sparse.npz\r\n",
      "-rw-r--r-- 1 nobody nogroup 9.5M Nov 14 17:21 train_multi_inputs_idx.npz\r\n",
      "-rw-r--r-- 1 nobody nogroup 2.8G Nov 14 17:23 train_multi_inputs_val.sparse.npz\r\n",
      "-rw-r--r-- 1 nobody nogroup 2.8M Nov 14 17:21 train_multi_targets_idx.npz\r\n",
      "-rw-r--r-- 1 nobody nogroup 824M Nov 14 17:21 train_multi_targets_val.sparse.npz\r\n"
     ]
    }
   ],
   "source": [
    "DATA_DIR = '../input/msci-h5-sparse-transform'\n",
    "%ls $DATA_DIR -lh"
   ]
  },
  {
   "cell_type": "code",
   "execution_count": 32,
   "id": "a830c895",
   "metadata": {
    "execution": {
     "iopub.execute_input": "2022-11-14T17:29:07.852449Z",
     "iopub.status.busy": "2022-11-14T17:29:07.851127Z",
     "iopub.status.idle": "2022-11-14T17:29:07.928415Z",
     "shell.execute_reply": "2022-11-14T17:29:07.927451Z"
    },
    "papermill": {
     "duration": 0.097415,
     "end_time": "2022-11-14T17:29:07.930775",
     "exception": false,
     "start_time": "2022-11-14T17:29:07.833360",
     "status": "completed"
    },
    "tags": []
   },
   "outputs": [
    {
     "data": {
      "text/plain": [
       "((140,), (48663,), (48663, 140))"
      ]
     },
     "execution_count": 32,
     "metadata": {},
     "output_type": "execute_result"
    }
   ],
   "source": [
    "test_tar_cols = np.load(f'{DATA_DIR}/train_cite_targets_idx.npz',\n",
    "                        allow_pickle=True)['columns']\n",
    "test_tar_idx = np.load(f'{DATA_DIR}/test_cite_inputs_idx.npz',\n",
    "                       allow_pickle=True)['index']\n",
    "test_tar_cols.shape, test_tar_idx.shape, test_tar_preds.shape"
   ]
  },
  {
   "cell_type": "code",
   "execution_count": 33,
   "id": "bbe427ff",
   "metadata": {
    "execution": {
     "iopub.execute_input": "2022-11-14T17:29:07.966716Z",
     "iopub.status.busy": "2022-11-14T17:29:07.965672Z",
     "iopub.status.idle": "2022-11-14T17:29:42.308991Z",
     "shell.execute_reply": "2022-11-14T17:29:42.307488Z"
    },
    "papermill": {
     "duration": 34.379941,
     "end_time": "2022-11-14T17:29:42.327543",
     "exception": false,
     "start_time": "2022-11-14T17:29:07.947602",
     "status": "completed"
    },
    "tags": []
   },
   "outputs": [
    {
     "name": "stdout",
     "output_type": "stream",
     "text": [
      "Start Eval...\n",
      "CPU times: user 30.3 s, sys: 9.27 s, total: 39.6 s\n",
      "Wall time: 34.3 s\n"
     ]
    }
   ],
   "source": [
    "%%time\n",
    "print('Start Eval...')\n",
    "eval_ids = pd.read_parquet(f'{DATA_DIR}/evaluation_ids.parquet')\n",
    "eval_ids.cell_id = eval_ids.cell_id.astype(pd.CategoricalDtype())\n",
    "eval_ids.gene_id = eval_ids.gene_id.astype(pd.CategoricalDtype())"
   ]
  },
  {
   "cell_type": "code",
   "execution_count": 34,
   "id": "30e3535d",
   "metadata": {
    "execution": {
     "iopub.execute_input": "2022-11-14T17:29:42.363265Z",
     "iopub.status.busy": "2022-11-14T17:29:42.362403Z",
     "iopub.status.idle": "2022-11-14T17:30:05.876128Z",
     "shell.execute_reply": "2022-11-14T17:30:05.874695Z"
    },
    "papermill": {
     "duration": 23.534537,
     "end_time": "2022-11-14T17:30:05.878678",
     "exception": false,
     "start_time": "2022-11-14T17:29:42.344141",
     "status": "completed"
    },
    "tags": []
   },
   "outputs": [
    {
     "name": "stdout",
     "output_type": "stream",
     "text": [
      "CPU times: user 19.5 s, sys: 3.73 s, total: 23.3 s\n",
      "Wall time: 23.3 s\n"
     ]
    },
    {
     "data": {
      "text/plain": [
       "row_id    cell_id       gene_id        \n",
       "0         c2150f55becb  CD86              NaN\n",
       "1         c2150f55becb  CD274             NaN\n",
       "2         c2150f55becb  CD270             NaN\n",
       "3         c2150f55becb  CD155             NaN\n",
       "4         c2150f55becb  CD112             NaN\n",
       "                                           ..\n",
       "65744175  2c53aa67933d  ENSG00000134419   NaN\n",
       "65744176  2c53aa67933d  ENSG00000186862   NaN\n",
       "65744177  2c53aa67933d  ENSG00000170959   NaN\n",
       "65744178  2c53aa67933d  ENSG00000107874   NaN\n",
       "65744179  2c53aa67933d  ENSG00000166012   NaN\n",
       "Name: target, Length: 65744180, dtype: float32"
      ]
     },
     "execution_count": 34,
     "metadata": {},
     "output_type": "execute_result"
    }
   ],
   "source": [
    "%%time\n",
    "sub = pd.Series(name='target',\n",
    "                index=pd.MultiIndex.from_frame(eval_ids), \n",
    "                dtype=np.float32)\n",
    "sub"
   ]
  },
  {
   "cell_type": "code",
   "execution_count": 35,
   "id": "9420bf45",
   "metadata": {
    "execution": {
     "iopub.execute_input": "2022-11-14T17:30:05.915355Z",
     "iopub.status.busy": "2022-11-14T17:30:05.914895Z",
     "iopub.status.idle": "2022-11-14T17:30:05.937216Z",
     "shell.execute_reply": "2022-11-14T17:30:05.936056Z"
    },
    "papermill": {
     "duration": 0.043904,
     "end_time": "2022-11-14T17:30:05.940014",
     "exception": false,
     "start_time": "2022-11-14T17:30:05.896110",
     "status": "completed"
    },
    "tags": []
   },
   "outputs": [],
   "source": [
    "cell_id_dict = {cell_id: idx \n",
    "                for idx, cell_id in enumerate(test_tar_idx, 0)}\n",
    "gene_id_dict = {gene_id: idx \n",
    "                for idx, gene_id in enumerate(test_tar_cols, 0)}"
   ]
  },
  {
   "cell_type": "code",
   "execution_count": 36,
   "id": "667e3b46",
   "metadata": {
    "execution": {
     "iopub.execute_input": "2022-11-14T17:30:05.977872Z",
     "iopub.status.busy": "2022-11-14T17:30:05.977395Z",
     "iopub.status.idle": "2022-11-14T17:30:08.194716Z",
     "shell.execute_reply": "2022-11-14T17:30:08.193537Z"
    },
    "papermill": {
     "duration": 2.239332,
     "end_time": "2022-11-14T17:30:08.198015",
     "exception": false,
     "start_time": "2022-11-14T17:30:05.958683",
     "status": "completed"
    },
    "tags": []
   },
   "outputs": [],
   "source": [
    "eid_cid_idx = eval_ids['cell_id']\\\n",
    "              .apply(lambda x: cell_id_dict.get(x, -1))\n",
    "eid_gid_idx = eval_ids['gene_id']\\\n",
    "              .apply(lambda x: gene_id_dict.get(x, -1))\n",
    "valid_cite_rows = (eid_cid_idx != -1) & (eid_gid_idx != -1)"
   ]
  },
  {
   "cell_type": "code",
   "execution_count": 37,
   "id": "9234c2f7",
   "metadata": {
    "execution": {
     "iopub.execute_input": "2022-11-14T17:30:08.238950Z",
     "iopub.status.busy": "2022-11-14T17:30:08.238526Z",
     "iopub.status.idle": "2022-11-14T17:30:08.723077Z",
     "shell.execute_reply": "2022-11-14T17:30:08.721756Z"
    },
    "papermill": {
     "duration": 0.508647,
     "end_time": "2022-11-14T17:30:08.725701",
     "exception": false,
     "start_time": "2022-11-14T17:30:08.217054",
     "status": "completed"
    },
    "tags": []
   },
   "outputs": [
    {
     "name": "stdout",
     "output_type": "stream",
     "text": [
      "CPU times: user 309 ms, sys: 170 ms, total: 478 ms\n",
      "Wall time: 478 ms\n"
     ]
    }
   ],
   "source": [
    "%%time\n",
    "sub.iloc[valid_cite_rows] = test_tar_preds\\\n",
    "                             [eid_cid_idx[valid_cite_rows].to_numpy(),\n",
    "                              eid_gid_idx[valid_cite_rows].to_numpy()]"
   ]
  },
  {
   "cell_type": "code",
   "execution_count": 38,
   "id": "dfec858b",
   "metadata": {
    "execution": {
     "iopub.execute_input": "2022-11-14T17:30:08.764790Z",
     "iopub.status.busy": "2022-11-14T17:30:08.764371Z",
     "iopub.status.idle": "2022-11-14T17:30:08.966083Z",
     "shell.execute_reply": "2022-11-14T17:30:08.964815Z"
    },
    "papermill": {
     "duration": 0.224875,
     "end_time": "2022-11-14T17:30:08.968511",
     "exception": false,
     "start_time": "2022-11-14T17:30:08.743636",
     "status": "completed"
    },
    "tags": []
   },
   "outputs": [
    {
     "data": {
      "text/plain": [
       "97"
      ]
     },
     "execution_count": 38,
     "metadata": {},
     "output_type": "execute_result"
    }
   ],
   "source": [
    "del eval_ids, test_tar_idx, test_tar_cols\n",
    "del eid_cid_idx, eid_gid_idx, valid_cite_rows\n",
    "gc.collect() "
   ]
  },
  {
   "cell_type": "code",
   "execution_count": 39,
   "id": "6e6084c9",
   "metadata": {
    "execution": {
     "iopub.execute_input": "2022-11-14T17:30:09.009954Z",
     "iopub.status.busy": "2022-11-14T17:30:09.009435Z",
     "iopub.status.idle": "2022-11-14T17:31:45.880937Z",
     "shell.execute_reply": "2022-11-14T17:31:45.879547Z"
    },
    "papermill": {
     "duration": 96.897556,
     "end_time": "2022-11-14T17:31:45.883898",
     "exception": false,
     "start_time": "2022-11-14T17:30:08.986342",
     "status": "completed"
    },
    "tags": []
   },
   "outputs": [],
   "source": [
    "sub = pd.DataFrame(sub).fillna(0).reset_index()\n",
    "sub.drop(['cell_id', 'gene_id'], axis=1)\\\n",
    "   .to_csv('cite_sub.csv', index=False)"
   ]
  },
  {
   "cell_type": "code",
   "execution_count": 40,
   "id": "a041c6dc",
   "metadata": {
    "execution": {
     "iopub.execute_input": "2022-11-14T17:31:45.920401Z",
     "iopub.status.busy": "2022-11-14T17:31:45.919947Z",
     "iopub.status.idle": "2022-11-14T17:31:45.936999Z",
     "shell.execute_reply": "2022-11-14T17:31:45.935897Z"
    },
    "papermill": {
     "duration": 0.037777,
     "end_time": "2022-11-14T17:31:45.939296",
     "exception": false,
     "start_time": "2022-11-14T17:31:45.901519",
     "status": "completed"
    },
    "tags": []
   },
   "outputs": [
    {
     "data": {
      "text/html": [
       "<div>\n",
       "<style scoped>\n",
       "    .dataframe tbody tr th:only-of-type {\n",
       "        vertical-align: middle;\n",
       "    }\n",
       "\n",
       "    .dataframe tbody tr th {\n",
       "        vertical-align: top;\n",
       "    }\n",
       "\n",
       "    .dataframe thead th {\n",
       "        text-align: right;\n",
       "    }\n",
       "</style>\n",
       "<table border=\"1\" class=\"dataframe\">\n",
       "  <thead>\n",
       "    <tr style=\"text-align: right;\">\n",
       "      <th></th>\n",
       "      <th>row_id</th>\n",
       "      <th>cell_id</th>\n",
       "      <th>gene_id</th>\n",
       "      <th>target</th>\n",
       "    </tr>\n",
       "  </thead>\n",
       "  <tbody>\n",
       "    <tr>\n",
       "      <th>0</th>\n",
       "      <td>0</td>\n",
       "      <td>c2150f55becb</td>\n",
       "      <td>CD86</td>\n",
       "      <td>-0.212398</td>\n",
       "    </tr>\n",
       "    <tr>\n",
       "      <th>1</th>\n",
       "      <td>1</td>\n",
       "      <td>c2150f55becb</td>\n",
       "      <td>CD274</td>\n",
       "      <td>-0.156992</td>\n",
       "    </tr>\n",
       "    <tr>\n",
       "      <th>2</th>\n",
       "      <td>2</td>\n",
       "      <td>c2150f55becb</td>\n",
       "      <td>CD270</td>\n",
       "      <td>-0.116786</td>\n",
       "    </tr>\n",
       "    <tr>\n",
       "      <th>3</th>\n",
       "      <td>3</td>\n",
       "      <td>c2150f55becb</td>\n",
       "      <td>CD155</td>\n",
       "      <td>0.296620</td>\n",
       "    </tr>\n",
       "    <tr>\n",
       "      <th>4</th>\n",
       "      <td>4</td>\n",
       "      <td>c2150f55becb</td>\n",
       "      <td>CD112</td>\n",
       "      <td>0.506875</td>\n",
       "    </tr>\n",
       "  </tbody>\n",
       "</table>\n",
       "</div>"
      ],
      "text/plain": [
       "   row_id       cell_id gene_id    target\n",
       "0       0  c2150f55becb    CD86 -0.212398\n",
       "1       1  c2150f55becb   CD274 -0.156992\n",
       "2       2  c2150f55becb   CD270 -0.116786\n",
       "3       3  c2150f55becb   CD155  0.296620\n",
       "4       4  c2150f55becb   CD112  0.506875"
      ]
     },
     "execution_count": 40,
     "metadata": {},
     "output_type": "execute_result"
    }
   ],
   "source": [
    "sub.head()"
   ]
  },
  {
   "cell_type": "code",
   "execution_count": null,
   "id": "a1866129",
   "metadata": {
    "papermill": {
     "duration": 0.0167,
     "end_time": "2022-11-14T17:31:45.973237",
     "exception": false,
     "start_time": "2022-11-14T17:31:45.956537",
     "status": "completed"
    },
    "tags": []
   },
   "outputs": [],
   "source": []
  }
 ],
 "metadata": {
  "kernelspec": {
   "display_name": "Python 3",
   "language": "python",
   "name": "python3"
  },
  "language_info": {
   "codemirror_mode": {
    "name": "ipython",
    "version": 3
   },
   "file_extension": ".py",
   "mimetype": "text/x-python",
   "name": "python",
   "nbconvert_exporter": "python",
   "pygments_lexer": "ipython3",
   "version": "3.7.12"
  },
  "papermill": {
   "default_parameters": {},
   "duration": 284.150403,
   "end_time": "2022-11-14T17:31:47.216027",
   "environment_variables": {},
   "exception": null,
   "input_path": "__notebook__.ipynb",
   "output_path": "__notebook__.ipynb",
   "parameters": {},
   "start_time": "2022-11-14T17:27:03.065624",
   "version": "2.3.4"
  }
 },
 "nbformat": 4,
 "nbformat_minor": 5
}
