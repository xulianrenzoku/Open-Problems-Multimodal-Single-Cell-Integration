{
 "cells": [
  {
   "cell_type": "code",
   "execution_count": 1,
   "id": "e6fd3258",
   "metadata": {
    "_cell_guid": "b1076dfc-b9ad-4769-8c92-a6c4dae69d19",
    "_uuid": "8f2839f25d086af736a60e9eeb907d3b93b6e0e5",
    "execution": {
     "iopub.execute_input": "2022-11-05T11:59:15.570089Z",
     "iopub.status.busy": "2022-11-05T11:59:15.569583Z",
     "iopub.status.idle": "2022-11-05T11:59:15.655281Z",
     "shell.execute_reply": "2022-11-05T11:59:15.654292Z"
    },
    "papermill": {
     "duration": 0.101,
     "end_time": "2022-11-05T11:59:15.657685",
     "exception": false,
     "start_time": "2022-11-05T11:59:15.556685",
     "status": "completed"
    },
    "tags": []
   },
   "outputs": [],
   "source": [
    "import os\n",
    "import os.path\n",
    "import random\n",
    "import gc\n",
    "import itertools\n",
    "import numpy as np\n",
    "import pandas as pd\n",
    "import scipy.sparse\n",
    "from tqdm import tqdm"
   ]
  },
  {
   "cell_type": "code",
   "execution_count": 2,
   "id": "f85f8741",
   "metadata": {
    "execution": {
     "iopub.execute_input": "2022-11-05T11:59:15.682257Z",
     "iopub.status.busy": "2022-11-05T11:59:15.681903Z",
     "iopub.status.idle": "2022-11-05T11:59:15.685965Z",
     "shell.execute_reply": "2022-11-05T11:59:15.685014Z"
    },
    "papermill": {
     "duration": 0.019471,
     "end_time": "2022-11-05T11:59:15.688113",
     "exception": false,
     "start_time": "2022-11-05T11:59:15.668642",
     "status": "completed"
    },
    "tags": []
   },
   "outputs": [],
   "source": [
    "import warnings \n",
    "warnings.filterwarnings('ignore')"
   ]
  },
  {
   "cell_type": "code",
   "execution_count": 3,
   "id": "24435a84",
   "metadata": {
    "execution": {
     "iopub.execute_input": "2022-11-05T11:59:15.710858Z",
     "iopub.status.busy": "2022-11-05T11:59:15.710271Z",
     "iopub.status.idle": "2022-11-05T11:59:16.547827Z",
     "shell.execute_reply": "2022-11-05T11:59:16.546467Z"
    },
    "papermill": {
     "duration": 0.851335,
     "end_time": "2022-11-05T11:59:16.550095",
     "exception": false,
     "start_time": "2022-11-05T11:59:15.698760",
     "status": "completed"
    },
    "tags": []
   },
   "outputs": [],
   "source": [
    "import seaborn as sns\n",
    "import matplotlib\n",
    "import matplotlib.pyplot as plt\n",
    "from IPython.core.pylabtools import figsize"
   ]
  },
  {
   "cell_type": "code",
   "execution_count": 4,
   "id": "18206e50",
   "metadata": {
    "execution": {
     "iopub.execute_input": "2022-11-05T11:59:16.572536Z",
     "iopub.status.busy": "2022-11-05T11:59:16.572110Z",
     "iopub.status.idle": "2022-11-05T11:59:16.577479Z",
     "shell.execute_reply": "2022-11-05T11:59:16.576419Z"
    },
    "papermill": {
     "duration": 0.0194,
     "end_time": "2022-11-05T11:59:16.580019",
     "exception": false,
     "start_time": "2022-11-05T11:59:16.560619",
     "status": "completed"
    },
    "tags": []
   },
   "outputs": [],
   "source": [
    "sns.set()"
   ]
  },
  {
   "cell_type": "code",
   "execution_count": 5,
   "id": "fe40dca7",
   "metadata": {
    "execution": {
     "iopub.execute_input": "2022-11-05T11:59:16.603221Z",
     "iopub.status.busy": "2022-11-05T11:59:16.602423Z",
     "iopub.status.idle": "2022-11-05T11:59:16.607194Z",
     "shell.execute_reply": "2022-11-05T11:59:16.606622Z"
    },
    "papermill": {
     "duration": 0.01853,
     "end_time": "2022-11-05T11:59:16.609340",
     "exception": false,
     "start_time": "2022-11-05T11:59:16.590810",
     "status": "completed"
    },
    "tags": []
   },
   "outputs": [],
   "source": [
    "import pickle\n",
    "\n",
    "def dump_pickle(file, filename):\n",
    "    outfile = open(filename, 'wb')\n",
    "    pickle.dump(file, outfile)\n",
    "    outfile.close()\n",
    "\n",
    "def load_pickle(filename):\n",
    "    infile = open(filename, 'rb')\n",
    "    file = pickle.load(infile)\n",
    "    infile.close()\n",
    "    return file"
   ]
  },
  {
   "cell_type": "code",
   "execution_count": 6,
   "id": "7763a828",
   "metadata": {
    "execution": {
     "iopub.execute_input": "2022-11-05T11:59:16.631523Z",
     "iopub.status.busy": "2022-11-05T11:59:16.631090Z",
     "iopub.status.idle": "2022-11-05T11:59:16.904686Z",
     "shell.execute_reply": "2022-11-05T11:59:16.903722Z"
    },
    "papermill": {
     "duration": 0.286897,
     "end_time": "2022-11-05T11:59:16.906788",
     "exception": false,
     "start_time": "2022-11-05T11:59:16.619891",
     "status": "completed"
    },
    "tags": []
   },
   "outputs": [
    {
     "name": "stdout",
     "output_type": "stream",
     "text": [
      "total 27G\r\n",
      "-rw-r--r-- 1 nobody nogroup 2.3G Sep  7 20:28 evaluation_ids.csv\r\n",
      "-rw-r--r-- 1 nobody nogroup 9.4M Sep  7 20:28 metadata.csv\r\n",
      "-rw-r--r-- 1 nobody nogroup 230K Sep  7 20:28 metadata_cite_day_2_donor_27678.csv\r\n",
      "-rw-r--r-- 1 nobody nogroup 805M Sep  7 20:28 sample_submission.csv\r\n",
      "-rw-r--r-- 1 nobody nogroup 1.6G Sep  7 20:28 test_cite_inputs.h5\r\n",
      "-rw-r--r-- 1 nobody nogroup 294M Sep  7 20:28 test_cite_inputs_day_2_donor_27678.h5\r\n",
      "-rw-r--r-- 1 nobody nogroup 6.1G Sep  7 20:29 test_multi_inputs.h5\r\n",
      "-rw-r--r-- 1 nobody nogroup 2.4G Sep  7 20:29 train_cite_inputs.h5\r\n",
      "-rw-r--r-- 1 nobody nogroup  37M Sep  7 20:28 train_cite_targets.h5\r\n",
      "-rw-r--r-- 1 nobody nogroup  11G Sep  7 20:30 train_multi_inputs.h5\r\n",
      "-rw-r--r-- 1 nobody nogroup 3.0G Sep  7 20:29 train_multi_targets.h5\r\n"
     ]
    }
   ],
   "source": [
    "DATA_DIR = '../input/open-problems-multimodal'\n",
    "%ls $DATA_DIR -lh"
   ]
  },
  {
   "cell_type": "markdown",
   "id": "fe4ca109",
   "metadata": {
    "execution": {
     "iopub.execute_input": "2022-10-24T09:53:23.30961Z",
     "iopub.status.busy": "2022-10-24T09:53:23.309238Z",
     "iopub.status.idle": "2022-10-24T09:53:23.315117Z",
     "shell.execute_reply": "2022-10-24T09:53:23.313565Z",
     "shell.execute_reply.started": "2022-10-24T09:53:23.309583Z"
    },
    "papermill": {
     "duration": 0.009869,
     "end_time": "2022-11-05T11:59:16.927211",
     "exception": false,
     "start_time": "2022-11-05T11:59:16.917342",
     "status": "completed"
    },
    "tags": []
   },
   "source": [
    "## Read Data"
   ]
  },
  {
   "cell_type": "code",
   "execution_count": 7,
   "id": "cb984310",
   "metadata": {
    "execution": {
     "iopub.execute_input": "2022-11-05T11:59:16.949436Z",
     "iopub.status.busy": "2022-11-05T11:59:16.949061Z",
     "iopub.status.idle": "2022-11-05T11:59:56.326261Z",
     "shell.execute_reply": "2022-11-05T11:59:56.324969Z"
    },
    "papermill": {
     "duration": 39.397581,
     "end_time": "2022-11-05T11:59:56.334888",
     "exception": false,
     "start_time": "2022-11-05T11:59:16.937307",
     "status": "completed"
    },
    "tags": []
   },
   "outputs": [
    {
     "name": "stdout",
     "output_type": "stream",
     "text": [
      "CPU times: user 16.1 s, sys: 2.42 s, total: 18.5 s\n",
      "Wall time: 39.4 s\n"
     ]
    }
   ],
   "source": [
    "%%time\n",
    "train_inp = pd.read_hdf(f'{DATA_DIR}/train_cite_inputs.h5')\n",
    "train_inp_cols = train_inp.columns"
   ]
  },
  {
   "cell_type": "code",
   "execution_count": 8,
   "id": "7e70182a",
   "metadata": {
    "execution": {
     "iopub.execute_input": "2022-11-05T11:59:56.356810Z",
     "iopub.status.busy": "2022-11-05T11:59:56.356481Z",
     "iopub.status.idle": "2022-11-05T12:00:23.465200Z",
     "shell.execute_reply": "2022-11-05T12:00:23.463798Z"
    },
    "papermill": {
     "duration": 27.122532,
     "end_time": "2022-11-05T12:00:23.467627",
     "exception": false,
     "start_time": "2022-11-05T11:59:56.345095",
     "status": "completed"
    },
    "tags": []
   },
   "outputs": [
    {
     "name": "stdout",
     "output_type": "stream",
     "text": [
      "CPU times: user 11.3 s, sys: 1.49 s, total: 12.8 s\n",
      "Wall time: 27.1 s\n"
     ]
    }
   ],
   "source": [
    "%%time\n",
    "test_inp = pd.read_hdf(f'{DATA_DIR}/test_cite_inputs.h5')"
   ]
  },
  {
   "cell_type": "code",
   "execution_count": 9,
   "id": "8d3ac9b2",
   "metadata": {
    "execution": {
     "iopub.execute_input": "2022-11-05T12:00:23.490431Z",
     "iopub.status.busy": "2022-11-05T12:00:23.490096Z",
     "iopub.status.idle": "2022-11-05T12:00:24.036938Z",
     "shell.execute_reply": "2022-11-05T12:00:24.035121Z"
    },
    "papermill": {
     "duration": 0.560939,
     "end_time": "2022-11-05T12:00:24.039258",
     "exception": false,
     "start_time": "2022-11-05T12:00:23.478319",
     "status": "completed"
    },
    "tags": []
   },
   "outputs": [
    {
     "name": "stdout",
     "output_type": "stream",
     "text": [
      "CPU times: user 136 ms, sys: 24.8 ms, total: 160 ms\n",
      "Wall time: 541 ms\n"
     ]
    }
   ],
   "source": [
    "%%time\n",
    "train_tar = pd.read_hdf(f'{DATA_DIR}/train_cite_targets.h5')\n",
    "train_tar_cols = train_tar.columns"
   ]
  },
  {
   "cell_type": "markdown",
   "id": "e57e2f56",
   "metadata": {
    "papermill": {
     "duration": 0.010261,
     "end_time": "2022-11-05T12:00:24.060319",
     "exception": false,
     "start_time": "2022-11-05T12:00:24.050058",
     "status": "completed"
    },
    "tags": []
   },
   "source": [
    "## Data Preprocessing"
   ]
  },
  {
   "cell_type": "markdown",
   "id": "fc2ba6a7",
   "metadata": {
    "papermill": {
     "duration": 0.010025,
     "end_time": "2022-11-05T12:00:24.080603",
     "exception": false,
     "start_time": "2022-11-05T12:00:24.070578",
     "status": "completed"
    },
    "tags": []
   },
   "source": [
    "Find columns with all zeroes"
   ]
  },
  {
   "cell_type": "code",
   "execution_count": 10,
   "id": "dc42f81a",
   "metadata": {
    "execution": {
     "iopub.execute_input": "2022-11-05T12:00:24.102668Z",
     "iopub.status.busy": "2022-11-05T12:00:24.102300Z",
     "iopub.status.idle": "2022-11-05T12:00:54.826032Z",
     "shell.execute_reply": "2022-11-05T12:00:54.824552Z"
    },
    "papermill": {
     "duration": 30.748636,
     "end_time": "2022-11-05T12:00:54.839532",
     "exception": false,
     "start_time": "2022-11-05T12:00:24.090896",
     "status": "completed"
    },
    "tags": []
   },
   "outputs": [
    {
     "name": "stdout",
     "output_type": "stream",
     "text": [
      "0\n",
      "1000\n",
      "2000\n",
      "3000\n",
      "4000\n",
      "5000\n",
      "6000\n",
      "7000\n",
      "8000\n",
      "9000\n",
      "10000\n",
      "11000\n",
      "12000\n",
      "13000\n",
      "14000\n",
      "15000\n",
      "16000\n",
      "17000\n",
      "18000\n",
      "19000\n",
      "20000\n",
      "21000\n",
      "22000\n",
      "Number of columns with zero values only (Train or Test): 1194\n",
      "CPU times: user 30.6 s, sys: 104 ms, total: 30.7 s\n",
      "Wall time: 30.7 s\n"
     ]
    }
   ],
   "source": [
    "%%time\n",
    "zero_cols = []\n",
    "for idx, col in enumerate(train_inp_cols, 0):\n",
    "    if idx % 1000 == 0:\n",
    "        print(idx)\n",
    "    if len(train_inp[col].unique()) == 1 or len(test_inp[col].unique()) == 1:\n",
    "        zero_cols.append(col)\n",
    "print('Number of columns with zero values only (Train or Test):', \n",
    "      len(zero_cols))"
   ]
  },
  {
   "cell_type": "code",
   "execution_count": 11,
   "id": "caf6953d",
   "metadata": {
    "execution": {
     "iopub.execute_input": "2022-11-05T12:00:54.866359Z",
     "iopub.status.busy": "2022-11-05T12:00:54.865452Z",
     "iopub.status.idle": "2022-11-05T12:00:56.565550Z",
     "shell.execute_reply": "2022-11-05T12:00:56.564278Z"
    },
    "papermill": {
     "duration": 1.715355,
     "end_time": "2022-11-05T12:00:56.567463",
     "exception": false,
     "start_time": "2022-11-05T12:00:54.852108",
     "status": "completed"
    },
    "tags": []
   },
   "outputs": [
    {
     "name": "stdout",
     "output_type": "stream",
     "text": [
      "CPU times: user 585 ms, sys: 1.1 s, total: 1.69 s\n",
      "Wall time: 1.69 s\n"
     ]
    },
    {
     "data": {
      "text/plain": [
       "((70988, 20856), (48663, 20856))"
      ]
     },
     "execution_count": 11,
     "metadata": {},
     "output_type": "execute_result"
    }
   ],
   "source": [
    "%%time\n",
    "train_inp = train_inp.drop(zero_cols, axis=1)\n",
    "train_inp_cols = train_inp.columns\n",
    "test_inp = test_inp.drop(zero_cols, axis=1)\n",
    "train_inp.shape, test_inp.shape"
   ]
  },
  {
   "cell_type": "code",
   "execution_count": 12,
   "id": "be59602e",
   "metadata": {
    "execution": {
     "iopub.execute_input": "2022-11-05T12:00:56.593154Z",
     "iopub.status.busy": "2022-11-05T12:00:56.592803Z",
     "iopub.status.idle": "2022-11-05T12:00:56.597120Z",
     "shell.execute_reply": "2022-11-05T12:00:56.596265Z"
    },
    "papermill": {
     "duration": 0.019262,
     "end_time": "2022-11-05T12:00:56.598870",
     "exception": false,
     "start_time": "2022-11-05T12:00:56.579608",
     "status": "completed"
    },
    "tags": []
   },
   "outputs": [],
   "source": [
    "# %%time\n",
    "# np.min(train_inp.min().unique()), np.max(train_inp.max().unique())"
   ]
  },
  {
   "cell_type": "code",
   "execution_count": 13,
   "id": "bdf80718",
   "metadata": {
    "execution": {
     "iopub.execute_input": "2022-11-05T12:00:56.624565Z",
     "iopub.status.busy": "2022-11-05T12:00:56.623814Z",
     "iopub.status.idle": "2022-11-05T12:00:56.754830Z",
     "shell.execute_reply": "2022-11-05T12:00:56.753939Z"
    },
    "papermill": {
     "duration": 0.146184,
     "end_time": "2022-11-05T12:00:56.756962",
     "exception": false,
     "start_time": "2022-11-05T12:00:56.610778",
     "status": "completed"
    },
    "tags": []
   },
   "outputs": [],
   "source": [
    "from sklearn.preprocessing import StandardScaler, Normalizer"
   ]
  },
  {
   "cell_type": "code",
   "execution_count": 14,
   "id": "e622b43e",
   "metadata": {
    "execution": {
     "iopub.execute_input": "2022-11-05T12:00:56.782198Z",
     "iopub.status.busy": "2022-11-05T12:00:56.781881Z",
     "iopub.status.idle": "2022-11-05T12:01:10.875304Z",
     "shell.execute_reply": "2022-11-05T12:01:10.874341Z"
    },
    "papermill": {
     "duration": 14.108438,
     "end_time": "2022-11-05T12:01:10.877597",
     "exception": false,
     "start_time": "2022-11-05T12:00:56.769159",
     "status": "completed"
    },
    "tags": []
   },
   "outputs": [],
   "source": [
    "sc = StandardScaler()\n",
    "train_inp = sc.fit_transform(train_inp)\n",
    "test_inp = sc.transform(test_inp)"
   ]
  },
  {
   "cell_type": "code",
   "execution_count": 15,
   "id": "4d8457ba",
   "metadata": {
    "execution": {
     "iopub.execute_input": "2022-11-05T12:01:10.903290Z",
     "iopub.status.busy": "2022-11-05T12:01:10.902323Z",
     "iopub.status.idle": "2022-11-05T12:01:11.016977Z",
     "shell.execute_reply": "2022-11-05T12:01:11.016017Z"
    },
    "papermill": {
     "duration": 0.129483,
     "end_time": "2022-11-05T12:01:11.019070",
     "exception": false,
     "start_time": "2022-11-05T12:01:10.889587",
     "status": "completed"
    },
    "tags": []
   },
   "outputs": [
    {
     "data": {
      "text/plain": [
       "42"
      ]
     },
     "execution_count": 15,
     "metadata": {},
     "output_type": "execute_result"
    }
   ],
   "source": [
    "del sc\n",
    "gc.collect()"
   ]
  },
  {
   "cell_type": "code",
   "execution_count": 16,
   "id": "82a2bd67",
   "metadata": {
    "execution": {
     "iopub.execute_input": "2022-11-05T12:01:11.045070Z",
     "iopub.status.busy": "2022-11-05T12:01:11.044706Z",
     "iopub.status.idle": "2022-11-05T12:01:11.325677Z",
     "shell.execute_reply": "2022-11-05T12:01:11.324691Z"
    },
    "papermill": {
     "duration": 0.296588,
     "end_time": "2022-11-05T12:01:11.327925",
     "exception": false,
     "start_time": "2022-11-05T12:01:11.031337",
     "status": "completed"
    },
    "tags": []
   },
   "outputs": [],
   "source": [
    "%mkdir ../tmp"
   ]
  },
  {
   "cell_type": "code",
   "execution_count": 17,
   "id": "ef3de995",
   "metadata": {
    "execution": {
     "iopub.execute_input": "2022-11-05T12:01:11.353936Z",
     "iopub.status.busy": "2022-11-05T12:01:11.353431Z",
     "iopub.status.idle": "2022-11-05T12:01:19.659112Z",
     "shell.execute_reply": "2022-11-05T12:01:19.658254Z"
    },
    "papermill": {
     "duration": 8.321034,
     "end_time": "2022-11-05T12:01:19.661093",
     "exception": false,
     "start_time": "2022-11-05T12:01:11.340059",
     "status": "completed"
    },
    "tags": []
   },
   "outputs": [
    {
     "data": {
      "text/plain": [
       "42"
      ]
     },
     "execution_count": 17,
     "metadata": {},
     "output_type": "execute_result"
    }
   ],
   "source": [
    "dump_pickle(test_inp, '../tmp/test_inp')\n",
    "del test_inp\n",
    "gc.collect()"
   ]
  },
  {
   "cell_type": "code",
   "execution_count": 18,
   "id": "d6b1d4ff",
   "metadata": {
    "execution": {
     "iopub.execute_input": "2022-11-05T12:01:19.689210Z",
     "iopub.status.busy": "2022-11-05T12:01:19.688308Z",
     "iopub.status.idle": "2022-11-05T12:01:19.694905Z",
     "shell.execute_reply": "2022-11-05T12:01:19.693749Z"
    },
    "papermill": {
     "duration": 0.022852,
     "end_time": "2022-11-05T12:01:19.696841",
     "exception": false,
     "start_time": "2022-11-05T12:01:19.673989",
     "status": "completed"
    },
    "tags": []
   },
   "outputs": [],
   "source": [
    "train_tar = train_tar.values"
   ]
  },
  {
   "cell_type": "markdown",
   "id": "03ca5ab8",
   "metadata": {
    "papermill": {
     "duration": 0.012082,
     "end_time": "2022-11-05T12:01:19.722420",
     "exception": false,
     "start_time": "2022-11-05T12:01:19.710338",
     "status": "completed"
    },
    "tags": []
   },
   "source": [
    "## Modeling"
   ]
  },
  {
   "cell_type": "code",
   "execution_count": 19,
   "id": "971c463e",
   "metadata": {
    "execution": {
     "iopub.execute_input": "2022-11-05T12:01:19.748833Z",
     "iopub.status.busy": "2022-11-05T12:01:19.748304Z",
     "iopub.status.idle": "2022-11-05T12:01:21.751850Z",
     "shell.execute_reply": "2022-11-05T12:01:21.749669Z"
    },
    "papermill": {
     "duration": 2.020068,
     "end_time": "2022-11-05T12:01:21.754681",
     "exception": false,
     "start_time": "2022-11-05T12:01:19.734613",
     "status": "completed"
    },
    "tags": []
   },
   "outputs": [],
   "source": [
    "import torch\n",
    "import torch.nn as nn\n",
    "import torch.nn.functional as F\n",
    "import torch.optim as optim\n",
    "from torchvision import datasets, transforms\n",
    "from torch.utils.data import DataLoader, TensorDataset, random_split"
   ]
  },
  {
   "cell_type": "code",
   "execution_count": 20,
   "id": "3c8b24f3",
   "metadata": {
    "execution": {
     "iopub.execute_input": "2022-11-05T12:01:21.794217Z",
     "iopub.status.busy": "2022-11-05T12:01:21.793073Z",
     "iopub.status.idle": "2022-11-05T12:01:21.796961Z",
     "shell.execute_reply": "2022-11-05T12:01:21.796285Z"
    },
    "papermill": {
     "duration": 0.025434,
     "end_time": "2022-11-05T12:01:21.798803",
     "exception": false,
     "start_time": "2022-11-05T12:01:21.773369",
     "status": "completed"
    },
    "tags": []
   },
   "outputs": [],
   "source": [
    "# torch.manual_seed(42)\n",
    "# torch.backends.cudnn.deterministic = True"
   ]
  },
  {
   "cell_type": "code",
   "execution_count": 21,
   "id": "bdb457ee",
   "metadata": {
    "execution": {
     "iopub.execute_input": "2022-11-05T12:01:21.829119Z",
     "iopub.status.busy": "2022-11-05T12:01:21.828576Z",
     "iopub.status.idle": "2022-11-05T12:01:21.834928Z",
     "shell.execute_reply": "2022-11-05T12:01:21.833274Z"
    },
    "papermill": {
     "duration": 0.021611,
     "end_time": "2022-11-05T12:01:21.837026",
     "exception": false,
     "start_time": "2022-11-05T12:01:21.815415",
     "status": "completed"
    },
    "tags": []
   },
   "outputs": [
    {
     "name": "stdout",
     "output_type": "stream",
     "text": [
      "CPU times: user 26 µs, sys: 5 µs, total: 31 µs\n",
      "Wall time: 34.3 µs\n"
     ]
    }
   ],
   "source": [
    "%%time\n",
    "train_inp = torch.from_numpy(train_inp)\n",
    "train_tar = torch.from_numpy(train_tar)"
   ]
  },
  {
   "cell_type": "code",
   "execution_count": 22,
   "id": "7b057bb3",
   "metadata": {
    "execution": {
     "iopub.execute_input": "2022-11-05T12:01:21.863620Z",
     "iopub.status.busy": "2022-11-05T12:01:21.862077Z",
     "iopub.status.idle": "2022-11-05T12:01:21.876432Z",
     "shell.execute_reply": "2022-11-05T12:01:21.875721Z"
    },
    "papermill": {
     "duration": 0.030103,
     "end_time": "2022-11-05T12:01:21.879010",
     "exception": false,
     "start_time": "2022-11-05T12:01:21.848907",
     "status": "completed"
    },
    "tags": []
   },
   "outputs": [],
   "source": [
    "full_ds = TensorDataset(train_inp, train_tar)\n",
    "train_sz = 56832 # 111*512\n",
    "val_sz = len(full_ds) - train_sz\n",
    "train_ds, val_ds = random_split(full_ds, \n",
    "                                [train_sz, val_sz],\n",
    "                                generator=torch.Generator().manual_seed(42))"
   ]
  },
  {
   "cell_type": "code",
   "execution_count": 23,
   "id": "58c831e7",
   "metadata": {
    "execution": {
     "iopub.execute_input": "2022-11-05T12:01:21.912317Z",
     "iopub.status.busy": "2022-11-05T12:01:21.911931Z",
     "iopub.status.idle": "2022-11-05T12:01:21.917813Z",
     "shell.execute_reply": "2022-11-05T12:01:21.916574Z"
    },
    "papermill": {
     "duration": 0.023601,
     "end_time": "2022-11-05T12:01:21.920259",
     "exception": false,
     "start_time": "2022-11-05T12:01:21.896658",
     "status": "completed"
    },
    "tags": []
   },
   "outputs": [],
   "source": [
    "batch_size = 512\n",
    "train_loader = DataLoader(train_ds, batch_size=batch_size, shuffle=True)\n",
    "val_loader = DataLoader(val_ds, batch_size=batch_size, shuffle=False)"
   ]
  },
  {
   "cell_type": "code",
   "execution_count": 24,
   "id": "4a5b242f",
   "metadata": {
    "execution": {
     "iopub.execute_input": "2022-11-05T12:01:21.955723Z",
     "iopub.status.busy": "2022-11-05T12:01:21.955343Z",
     "iopub.status.idle": "2022-11-05T12:01:21.964197Z",
     "shell.execute_reply": "2022-11-05T12:01:21.963330Z"
    },
    "papermill": {
     "duration": 0.030414,
     "end_time": "2022-11-05T12:01:21.965885",
     "exception": false,
     "start_time": "2022-11-05T12:01:21.935471",
     "status": "completed"
    },
    "tags": []
   },
   "outputs": [],
   "source": [
    "class Net(nn.Module):\n",
    "    def __init__(self):\n",
    "        \"\"\"In the constructor we instantiate two nn.Linear modules and assign them as\n",
    "        member variables (self).\n",
    "        \"\"\"\n",
    "        super(Net, self).__init__()\n",
    "        self.linear1 = nn.Linear(20856, 128)\n",
    "        self.bn1 = nn.BatchNorm1d(128)\n",
    "        self.linear2 = nn.Linear(128, 128)\n",
    "        self.bn2 = nn.BatchNorm1d(128)\n",
    "        self.linear3 = nn.Linear(128, 128)\n",
    "        self.bn3 = nn.BatchNorm1d(128)\n",
    "        self.linear4 = nn.Linear(128, 140)\n",
    "\n",
    "    def forward(self, x):\n",
    "        \"\"\"\n",
    "        In the forward function we accept a Tensor of input data and we must return\n",
    "        a Tensor of output data. We can use Modules defined in the constructor as\n",
    "        well as arbitrary operators on Tensors.\n",
    "        \"\"\"\n",
    "        x = self.linear1(x)\n",
    "        x = self.bn1(x)\n",
    "        x = F.relu(x)\n",
    "        x = self.linear2(x)\n",
    "        x = self.bn2(x)\n",
    "        x = F.relu(x)\n",
    "        x = self.linear3(x)\n",
    "        x = self.bn3(x)\n",
    "        x = F.relu(x)\n",
    "        x = self.linear4(x)\n",
    "        return x"
   ]
  },
  {
   "cell_type": "code",
   "execution_count": 25,
   "id": "0162968d",
   "metadata": {
    "execution": {
     "iopub.execute_input": "2022-11-05T12:01:21.995294Z",
     "iopub.status.busy": "2022-11-05T12:01:21.994662Z",
     "iopub.status.idle": "2022-11-05T12:01:21.998691Z",
     "shell.execute_reply": "2022-11-05T12:01:21.997624Z"
    },
    "papermill": {
     "duration": 0.021185,
     "end_time": "2022-11-05T12:01:22.000849",
     "exception": false,
     "start_time": "2022-11-05T12:01:21.979664",
     "status": "completed"
    },
    "tags": []
   },
   "outputs": [],
   "source": [
    "# preds = net(x)\n",
    "# vpreds = preds - torch.mean(preds)\n",
    "# vy = y - torch.mean(y)\n",
    "# loss = torch.sum(vpreds * vy) / \\\n",
    "#        (torch.sqrt(torch.sum(vpreds ** 2)) *\n",
    "#         torch.sqrt(torch.sum(vy ** 2)))\n",
    "# loss"
   ]
  },
  {
   "cell_type": "code",
   "execution_count": 26,
   "id": "2bba0e01",
   "metadata": {
    "execution": {
     "iopub.execute_input": "2022-11-05T12:01:22.037185Z",
     "iopub.status.busy": "2022-11-05T12:01:22.036612Z",
     "iopub.status.idle": "2022-11-05T12:01:22.045123Z",
     "shell.execute_reply": "2022-11-05T12:01:22.044329Z"
    },
    "papermill": {
     "duration": 0.027522,
     "end_time": "2022-11-05T12:01:22.046960",
     "exception": false,
     "start_time": "2022-11-05T12:01:22.019438",
     "status": "completed"
    },
    "tags": []
   },
   "outputs": [],
   "source": [
    "def train_model(train_loader, model, optimizer, scheduler):\n",
    "    \n",
    "    model.train()\n",
    "    sum_corr = 0.0 # sum_loss = 0.0\n",
    "    total = 0\n",
    "    lrs = []\n",
    "    \n",
    "    for i, (x, y) in enumerate(train_loader):\n",
    "        batch = x.shape[0]\n",
    "        \n",
    "        preds = model(x)\n",
    "        vpreds = preds - torch.mean(preds)\n",
    "        vy = y - torch.mean(y)\n",
    "        corr = torch.sum(vpreds * vy) / \\\n",
    "               (torch.sqrt(torch.sum(vpreds ** 2)) *\n",
    "                torch.sqrt(torch.sum(vy ** 2)))\n",
    "        loss = -corr\n",
    "        \n",
    "        optimizer.zero_grad()\n",
    "        loss.backward()\n",
    "        \n",
    "        optimizer.step()\n",
    "        lrs.append(optimizer.param_groups[0]['lr'])\n",
    "        scheduler.step()\n",
    "        \n",
    "        total += batch\n",
    "        sum_corr += batch * corr\n",
    "    \n",
    "    train_corr = sum_corr/total \n",
    "    return train_corr, lrs"
   ]
  },
  {
   "cell_type": "code",
   "execution_count": 27,
   "id": "d7f93d6a",
   "metadata": {
    "execution": {
     "iopub.execute_input": "2022-11-05T12:01:22.078185Z",
     "iopub.status.busy": "2022-11-05T12:01:22.077633Z",
     "iopub.status.idle": "2022-11-05T12:01:22.085070Z",
     "shell.execute_reply": "2022-11-05T12:01:22.084187Z"
    },
    "papermill": {
     "duration": 0.027289,
     "end_time": "2022-11-05T12:01:22.087917",
     "exception": false,
     "start_time": "2022-11-05T12:01:22.060628",
     "status": "completed"
    },
    "tags": []
   },
   "outputs": [],
   "source": [
    "def model_eval(model, val_loader):\n",
    "    model.eval()\n",
    "    sum_corr = 0.0 # sum_loss = 0.0\n",
    "    total = 0\n",
    "    \n",
    "    for i, (x, y) in enumerate(val_loader):\n",
    "        batch = x.shape[0]\n",
    "        \n",
    "        preds = model(x)\n",
    "        vpreds = preds - torch.mean(preds)\n",
    "        vy = y - torch.mean(y)\n",
    "        corr = torch.sum(vpreds * vy) / \\\n",
    "               (torch.sqrt(torch.sum(vpreds ** 2)) *\n",
    "                torch.sqrt(torch.sum(vy ** 2)))\n",
    "        loss = -corr\n",
    "        \n",
    "        total += batch\n",
    "        sum_corr += batch * corr\n",
    "        \n",
    "    val_corr = sum_corr/total\n",
    "    return val_corr"
   ]
  },
  {
   "cell_type": "code",
   "execution_count": 28,
   "id": "c3bd71e4",
   "metadata": {
    "execution": {
     "iopub.execute_input": "2022-11-05T12:01:22.116139Z",
     "iopub.status.busy": "2022-11-05T12:01:22.115024Z",
     "iopub.status.idle": "2022-11-05T12:01:22.143547Z",
     "shell.execute_reply": "2022-11-05T12:01:22.142862Z"
    },
    "papermill": {
     "duration": 0.044042,
     "end_time": "2022-11-05T12:01:22.145644",
     "exception": false,
     "start_time": "2022-11-05T12:01:22.101602",
     "status": "completed"
    },
    "tags": []
   },
   "outputs": [],
   "source": [
    "net = Net()\n",
    "learning_rate = 0.01\n",
    "weight_decay = 0.0001 \n",
    "optimizer = optim.Adam(net.parameters(),\n",
    "                       lr=learning_rate,\n",
    "                       weight_decay=weight_decay)\n",
    "scheduler = torch.optim.lr_scheduler.OneCycleLR(optimizer, \n",
    "                                                max_lr=0.01,\n",
    "                                                steps_per_epoch=len(train_loader),\n",
    "                                                epochs=70)"
   ]
  },
  {
   "cell_type": "code",
   "execution_count": 29,
   "id": "ca98b335",
   "metadata": {
    "execution": {
     "iopub.execute_input": "2022-11-05T12:01:22.172308Z",
     "iopub.status.busy": "2022-11-05T12:01:22.171207Z",
     "iopub.status.idle": "2022-11-05T12:22:36.051788Z",
     "shell.execute_reply": "2022-11-05T12:22:36.050825Z"
    },
    "papermill": {
     "duration": 1273.896524,
     "end_time": "2022-11-05T12:22:36.054457",
     "exception": false,
     "start_time": "2022-11-05T12:01:22.157933",
     "status": "completed"
    },
    "tags": []
   },
   "outputs": [
    {
     "name": "stdout",
     "output_type": "stream",
     "text": [
      "epoch 0\n",
      "train corr: 0.7291\n",
      "val corr: 0.8589\n",
      "\n",
      "epoch 1\n",
      "train corr: 0.8768\n",
      "val corr: 0.8747\n",
      "\n",
      "epoch 2\n",
      "train corr: 0.8949\n",
      "val corr: 0.8761\n",
      "\n",
      "epoch 3\n",
      "train corr: 0.9074\n",
      "val corr: 0.8755\n",
      "\n",
      "epoch 4\n",
      "train corr: 0.9126\n",
      "val corr: 0.8762\n",
      "\n",
      "epoch 5\n",
      "train corr: 0.9144\n",
      "val corr: 0.8763\n",
      "\n",
      "epoch 6\n",
      "train corr: 0.9150\n",
      "val corr: 0.8769\n",
      "\n",
      "epoch 7\n",
      "train corr: 0.9125\n",
      "val corr: 0.8792\n",
      "\n",
      "epoch 8\n",
      "train corr: 0.9100\n",
      "val corr: 0.8793\n",
      "\n",
      "epoch 9\n",
      "train corr: 0.9069\n",
      "val corr: 0.8821\n",
      "\n",
      "epoch 10\n",
      "train corr: 0.9037\n",
      "val corr: 0.8818\n",
      "\n",
      "epoch 11\n",
      "train corr: 0.9006\n",
      "val corr: 0.8828\n",
      "\n",
      "epoch 12\n",
      "train corr: 0.8979\n",
      "val corr: 0.8845\n",
      "\n",
      "epoch 13\n",
      "train corr: 0.8958\n",
      "val corr: 0.8854\n",
      "\n",
      "epoch 14\n",
      "train corr: 0.8937\n",
      "val corr: 0.8849\n",
      "\n",
      "epoch 15\n",
      "train corr: 0.8925\n",
      "val corr: 0.8840\n",
      "\n",
      "epoch 16\n",
      "train corr: 0.8917\n",
      "val corr: 0.8845\n",
      "\n",
      "epoch 17\n",
      "train corr: 0.8907\n",
      "val corr: 0.8845\n",
      "\n",
      "epoch 18\n",
      "train corr: 0.8901\n",
      "val corr: 0.8820\n",
      "\n",
      "epoch 19\n",
      "train corr: 0.8894\n",
      "val corr: 0.8825\n",
      "\n",
      "epoch 20\n",
      "train corr: 0.8892\n",
      "val corr: 0.8858\n",
      "\n",
      "epoch 21\n",
      "train corr: 0.8891\n",
      "val corr: 0.8820\n",
      "\n",
      "epoch 22\n",
      "train corr: 0.8887\n",
      "val corr: 0.8843\n",
      "\n",
      "epoch 23\n",
      "train corr: 0.8889\n",
      "val corr: 0.8833\n",
      "\n",
      "epoch 24\n",
      "train corr: 0.8889\n",
      "val corr: 0.8852\n",
      "\n",
      "epoch 25\n",
      "train corr: 0.8891\n",
      "val corr: 0.8841\n",
      "\n",
      "epoch 26\n",
      "train corr: 0.8891\n",
      "val corr: 0.8834\n",
      "\n",
      "epoch 27\n",
      "train corr: 0.8893\n",
      "val corr: 0.8854\n",
      "\n",
      "epoch 28\n",
      "train corr: 0.8893\n",
      "val corr: 0.8848\n",
      "\n",
      "epoch 29\n",
      "train corr: 0.8897\n",
      "val corr: 0.8847\n",
      "\n",
      "epoch 30\n",
      "train corr: 0.8899\n",
      "val corr: 0.8857\n",
      "\n",
      "epoch 31\n",
      "train corr: 0.8899\n",
      "val corr: 0.8863\n",
      "\n",
      "epoch 32\n",
      "train corr: 0.8905\n",
      "val corr: 0.8835\n",
      "\n",
      "epoch 33\n",
      "train corr: 0.8906\n",
      "val corr: 0.8853\n",
      "\n",
      "epoch 34\n",
      "train corr: 0.8910\n",
      "val corr: 0.8861\n",
      "\n",
      "epoch 35\n",
      "train corr: 0.8912\n",
      "val corr: 0.8860\n",
      "\n",
      "epoch 36\n",
      "train corr: 0.8916\n",
      "val corr: 0.8866\n",
      "\n",
      "epoch 37\n",
      "train corr: 0.8923\n",
      "val corr: 0.8868\n",
      "\n",
      "epoch 38\n",
      "train corr: 0.8925\n",
      "val corr: 0.8857\n",
      "\n",
      "epoch 39\n",
      "train corr: 0.8927\n",
      "val corr: 0.8865\n",
      "\n",
      "epoch 40\n",
      "train corr: 0.8935\n",
      "val corr: 0.8849\n",
      "\n",
      "epoch 41\n",
      "train corr: 0.8942\n",
      "val corr: 0.8870\n",
      "\n",
      "epoch 42\n",
      "train corr: 0.8948\n",
      "val corr: 0.8871\n",
      "\n",
      "epoch 43\n",
      "train corr: 0.8956\n",
      "val corr: 0.8871\n",
      "\n",
      "epoch 44\n",
      "train corr: 0.8967\n",
      "val corr: 0.8871\n",
      "\n",
      "epoch 45\n",
      "train corr: 0.8972\n",
      "val corr: 0.8883\n",
      "\n",
      "**Early Stoppage** We are stopping at epoch 45...\n",
      "\n",
      "CPU times: user 32min 18s, sys: 1min 33s, total: 33min 52s\n",
      "Wall time: 21min 13s\n"
     ]
    }
   ],
   "source": [
    "%%time\n",
    "epochs = 70\n",
    "train_corrs = []\n",
    "val_corrs = []\n",
    "best_val_corr = 0.0\n",
    "best_epoch = 0\n",
    "num_epochs_run = 0\n",
    "lrs = []\n",
    "\n",
    "for epoch in range(epochs):\n",
    "    num_epochs_run += 1\n",
    "    \n",
    "    # train\n",
    "    print('epoch', epoch)\n",
    "    train_corr, epoch_lrs = train_model(train_loader, net, optimizer, scheduler)\n",
    "    train_corr = float(train_corr.detach().numpy())\n",
    "    train_corrs.append(train_corr)\n",
    "    lrs.append(epoch_lrs)\n",
    "    print(f'train corr: {train_corr:.4f}')\n",
    "    \n",
    "    # val\n",
    "    val_corr = model_eval(net, val_loader)\n",
    "    val_corr = float(val_corr.detach().numpy())\n",
    "    val_corrs.append(val_corr)\n",
    "    print(f'val corr: {val_corr:.4f}')\n",
    "    print()\n",
    "    \n",
    "    # early stoppage\n",
    "    if val_corr >= 0.8880:\n",
    "        print(f'**Early Stoppage** We are stopping at epoch {epoch}...')\n",
    "#         print(f'Best epoch: epoch {best_epoch}')\n",
    "#         print(f'Best val correlation: {best_val_corr: .4f}')\n",
    "        print()\n",
    "        break\n",
    "            \n",
    "#     # update\n",
    "#     if val_corr > best_val_corr:\n",
    "#         best_val_corr = max([best_val_corr, val_corr])\n",
    "#         best_epoch = epoch\n",
    "#         print(epoch, best_epoch, best_val_corr)\n",
    "#         print()"
   ]
  },
  {
   "cell_type": "code",
   "execution_count": 30,
   "id": "59609e3d",
   "metadata": {
    "execution": {
     "iopub.execute_input": "2022-11-05T12:22:36.092017Z",
     "iopub.status.busy": "2022-11-05T12:22:36.091057Z",
     "iopub.status.idle": "2022-11-05T12:22:36.095527Z",
     "shell.execute_reply": "2022-11-05T12:22:36.094458Z"
    },
    "papermill": {
     "duration": 0.025653,
     "end_time": "2022-11-05T12:22:36.097739",
     "exception": false,
     "start_time": "2022-11-05T12:22:36.072086",
     "status": "completed"
    },
    "tags": []
   },
   "outputs": [],
   "source": [
    "# figsize(8, 8)\n",
    "# plt.plot(list(itertools.chain(*lrs)))"
   ]
  },
  {
   "cell_type": "code",
   "execution_count": 31,
   "id": "760948de",
   "metadata": {
    "execution": {
     "iopub.execute_input": "2022-11-05T12:22:36.133970Z",
     "iopub.status.busy": "2022-11-05T12:22:36.133430Z",
     "iopub.status.idle": "2022-11-05T12:22:36.137120Z",
     "shell.execute_reply": "2022-11-05T12:22:36.136368Z"
    },
    "papermill": {
     "duration": 0.023788,
     "end_time": "2022-11-05T12:22:36.138850",
     "exception": false,
     "start_time": "2022-11-05T12:22:36.115062",
     "status": "completed"
    },
    "tags": []
   },
   "outputs": [],
   "source": [
    "# figsize(8, 8)\n",
    "# plt.scatter(list(range(num_epochs_run)), train_corrs, label='training corr')\n",
    "# plt.plot(list(range(num_epochs_run)), train_corrs)\n",
    "# plt.scatter(list(range(num_epochs_run)), val_corrs, label='val corr')\n",
    "# plt.plot(list(range(num_epochs_run)), val_corrs)\n",
    "# plt.legend(loc='lower right')\n",
    "# # plt.title(f'lr = {learning_rate} | wd = {weight_decay}')\n",
    "# plt.ylim(0, 1)"
   ]
  },
  {
   "cell_type": "code",
   "execution_count": 32,
   "id": "99852b64",
   "metadata": {
    "execution": {
     "iopub.execute_input": "2022-11-05T12:22:36.175407Z",
     "iopub.status.busy": "2022-11-05T12:22:36.175038Z",
     "iopub.status.idle": "2022-11-05T12:22:36.179376Z",
     "shell.execute_reply": "2022-11-05T12:22:36.178262Z"
    },
    "papermill": {
     "duration": 0.025152,
     "end_time": "2022-11-05T12:22:36.181600",
     "exception": false,
     "start_time": "2022-11-05T12:22:36.156448",
     "status": "completed"
    },
    "tags": []
   },
   "outputs": [],
   "source": [
    "# train_inp[:1]"
   ]
  },
  {
   "cell_type": "code",
   "execution_count": 33,
   "id": "6b5c89f3",
   "metadata": {
    "execution": {
     "iopub.execute_input": "2022-11-05T12:22:36.218377Z",
     "iopub.status.busy": "2022-11-05T12:22:36.217950Z",
     "iopub.status.idle": "2022-11-05T12:22:36.221957Z",
     "shell.execute_reply": "2022-11-05T12:22:36.221143Z"
    },
    "papermill": {
     "duration": 0.024416,
     "end_time": "2022-11-05T12:22:36.223803",
     "exception": false,
     "start_time": "2022-11-05T12:22:36.199387",
     "status": "completed"
    },
    "tags": []
   },
   "outputs": [],
   "source": [
    "# with torch.no_grad():\n",
    "#     net.eval()\n",
    "#     train_tar_preds = net(train_inp[:5]).detach().numpy().flatten()"
   ]
  },
  {
   "cell_type": "code",
   "execution_count": 34,
   "id": "32fd3d49",
   "metadata": {
    "execution": {
     "iopub.execute_input": "2022-11-05T12:22:36.260069Z",
     "iopub.status.busy": "2022-11-05T12:22:36.259726Z",
     "iopub.status.idle": "2022-11-05T12:22:36.263712Z",
     "shell.execute_reply": "2022-11-05T12:22:36.262875Z"
    },
    "papermill": {
     "duration": 0.02419,
     "end_time": "2022-11-05T12:22:36.265449",
     "exception": false,
     "start_time": "2022-11-05T12:22:36.241259",
     "status": "completed"
    },
    "tags": []
   },
   "outputs": [],
   "source": [
    "# np.corrcoef(train_tar_preds, train_tar[:5].detach().numpy().flatten())"
   ]
  },
  {
   "cell_type": "code",
   "execution_count": 35,
   "id": "9bdada22",
   "metadata": {
    "execution": {
     "iopub.execute_input": "2022-11-05T12:22:36.301721Z",
     "iopub.status.busy": "2022-11-05T12:22:36.301406Z",
     "iopub.status.idle": "2022-11-05T12:22:36.430846Z",
     "shell.execute_reply": "2022-11-05T12:22:36.430050Z"
    },
    "papermill": {
     "duration": 0.149871,
     "end_time": "2022-11-05T12:22:36.432750",
     "exception": false,
     "start_time": "2022-11-05T12:22:36.282879",
     "status": "completed"
    },
    "tags": []
   },
   "outputs": [
    {
     "data": {
      "text/plain": [
       "126"
      ]
     },
     "execution_count": 35,
     "metadata": {},
     "output_type": "execute_result"
    }
   ],
   "source": [
    "del train_inp, train_tar, full_ds\n",
    "gc.collect()"
   ]
  },
  {
   "cell_type": "markdown",
   "id": "71fddc94",
   "metadata": {
    "papermill": {
     "duration": 0.016774,
     "end_time": "2022-11-05T12:22:36.466943",
     "exception": false,
     "start_time": "2022-11-05T12:22:36.450169",
     "status": "completed"
    },
    "tags": []
   },
   "source": [
    "## Prediction"
   ]
  },
  {
   "cell_type": "code",
   "execution_count": 36,
   "id": "ac008a8f",
   "metadata": {
    "execution": {
     "iopub.execute_input": "2022-11-05T12:22:36.502927Z",
     "iopub.status.busy": "2022-11-05T12:22:36.502572Z",
     "iopub.status.idle": "2022-11-05T12:22:43.378170Z",
     "shell.execute_reply": "2022-11-05T12:22:43.376693Z"
    },
    "papermill": {
     "duration": 6.896411,
     "end_time": "2022-11-05T12:22:43.380380",
     "exception": false,
     "start_time": "2022-11-05T12:22:36.483969",
     "status": "completed"
    },
    "tags": []
   },
   "outputs": [
    {
     "name": "stdout",
     "output_type": "stream",
     "text": [
      "CPU times: user 395 ms, sys: 6.49 s, total: 6.88 s\n",
      "Wall time: 6.87 s\n"
     ]
    }
   ],
   "source": [
    "%%time\n",
    "test_inp = load_pickle('../tmp/test_inp')\n",
    "test_inp = torch.from_numpy(test_inp)"
   ]
  },
  {
   "cell_type": "code",
   "execution_count": 37,
   "id": "e09a347f",
   "metadata": {
    "execution": {
     "iopub.execute_input": "2022-11-05T12:22:43.417802Z",
     "iopub.status.busy": "2022-11-05T12:22:43.417394Z",
     "iopub.status.idle": "2022-11-05T12:22:49.405535Z",
     "shell.execute_reply": "2022-11-05T12:22:49.404470Z"
    },
    "papermill": {
     "duration": 6.010011,
     "end_time": "2022-11-05T12:22:49.407882",
     "exception": false,
     "start_time": "2022-11-05T12:22:43.397871",
     "status": "completed"
    },
    "tags": []
   },
   "outputs": [],
   "source": [
    "with torch.no_grad():\n",
    "    net.eval()\n",
    "    test_tar_preds = net(test_inp).detach().numpy()"
   ]
  },
  {
   "cell_type": "code",
   "execution_count": 38,
   "id": "5a54bbdf",
   "metadata": {
    "execution": {
     "iopub.execute_input": "2022-11-05T12:22:49.444276Z",
     "iopub.status.busy": "2022-11-05T12:22:49.443921Z",
     "iopub.status.idle": "2022-11-05T12:22:49.742883Z",
     "shell.execute_reply": "2022-11-05T12:22:49.741898Z"
    },
    "papermill": {
     "duration": 0.31979,
     "end_time": "2022-11-05T12:22:49.745272",
     "exception": false,
     "start_time": "2022-11-05T12:22:49.425482",
     "status": "completed"
    },
    "tags": []
   },
   "outputs": [
    {
     "data": {
      "text/plain": [
       "63"
      ]
     },
     "execution_count": 38,
     "metadata": {},
     "output_type": "execute_result"
    }
   ],
   "source": [
    "del test_inp\n",
    "gc.collect()"
   ]
  },
  {
   "cell_type": "markdown",
   "id": "228b9d3a",
   "metadata": {
    "papermill": {
     "duration": 0.017221,
     "end_time": "2022-11-05T12:22:49.780556",
     "exception": false,
     "start_time": "2022-11-05T12:22:49.763335",
     "status": "completed"
    },
    "tags": []
   },
   "source": [
    "## Creating Submission"
   ]
  },
  {
   "cell_type": "code",
   "execution_count": 39,
   "id": "465fb9fb",
   "metadata": {
    "execution": {
     "iopub.execute_input": "2022-11-05T12:22:49.817393Z",
     "iopub.status.busy": "2022-11-05T12:22:49.816997Z",
     "iopub.status.idle": "2022-11-05T12:22:50.114930Z",
     "shell.execute_reply": "2022-11-05T12:22:50.114045Z"
    },
    "papermill": {
     "duration": 0.319216,
     "end_time": "2022-11-05T12:22:50.117198",
     "exception": false,
     "start_time": "2022-11-05T12:22:49.797982",
     "status": "completed"
    },
    "tags": []
   },
   "outputs": [
    {
     "name": "stdout",
     "output_type": "stream",
     "text": [
      "total 7.1G\r\n",
      "-rw-r--r-- 1 nobody nogroup  25K Nov  2 12:50 __notebook__.ipynb\r\n",
      "-rw-r--r-- 1 nobody nogroup  25K Nov  2 12:50 __output__.json\r\n",
      "-rw-r--r-- 1 nobody nogroup 293K Nov  2 12:50 __results__.html\r\n",
      "-rw-r--r-- 1 nobody nogroup    0 Nov  2 12:50 custom.css\r\n",
      "-rw-r--r-- 1 nobody nogroup 359M Nov  2 12:50 evaluation_ids.parquet\r\n",
      "-rw-r--r-- 1 nobody nogroup 3.8M Nov  2 12:50 metadata.parquet\r\n",
      "-rw-r--r-- 1 nobody nogroup 108K Nov  2 12:50 metadata_cite_day_2_donor_27678.parquet\r\n",
      "-rw-r--r-- 1 nobody nogroup 252M Nov  2 12:50 sample_submission.parquet\r\n",
      "-rw-r--r-- 1 nobody nogroup 856K Nov  2 12:50 test_cite_inputs_day_2_donor_27678_idx.npz\r\n",
      "-rw-r--r-- 1 nobody nogroup  78M Nov  2 12:50 test_cite_inputs_day_2_donor_27678_val.sparse.npz\r\n",
      "-rw-r--r-- 1 nobody nogroup 1.8M Nov  2 12:50 test_cite_inputs_idx.npz\r\n",
      "-rw-r--r-- 1 nobody nogroup 488M Nov  2 12:51 test_cite_inputs_val.sparse.npz\r\n",
      "-rw-r--r-- 1 nobody nogroup 8.4M Nov  2 12:50 test_multi_inputs_idx.npz\r\n",
      "-rw-r--r-- 1 nobody nogroup 1.7G Nov  2 12:51 test_multi_inputs_val.sparse.npz\r\n",
      "-rw-r--r-- 1 nobody nogroup 2.2M Nov  2 12:50 train_cite_inputs_idx.npz\r\n",
      "-rw-r--r-- 1 nobody nogroup 712M Nov  2 12:51 train_cite_inputs_val.sparse.npz\r\n",
      "-rw-r--r-- 1 nobody nogroup 1.5M Nov  2 12:50 train_cite_targets_idx.npz\r\n",
      "-rw-r--r-- 1 nobody nogroup  36M Nov  2 12:50 train_cite_targets_val.sparse.npz\r\n",
      "-rw-r--r-- 1 nobody nogroup 9.5M Nov  2 12:50 train_multi_inputs_idx.npz\r\n",
      "-rw-r--r-- 1 nobody nogroup 2.8G Nov  2 12:52 train_multi_inputs_val.sparse.npz\r\n",
      "-rw-r--r-- 1 nobody nogroup 2.8M Nov  2 12:50 train_multi_targets_idx.npz\r\n",
      "-rw-r--r-- 1 nobody nogroup 824M Nov  2 12:51 train_multi_targets_val.sparse.npz\r\n"
     ]
    }
   ],
   "source": [
    "DATA_DIR = '../input/msci-h5-sparse-transform'\n",
    "%ls $DATA_DIR -lh"
   ]
  },
  {
   "cell_type": "code",
   "execution_count": 40,
   "id": "2ec41377",
   "metadata": {
    "execution": {
     "iopub.execute_input": "2022-11-05T12:22:50.154982Z",
     "iopub.status.busy": "2022-11-05T12:22:50.154343Z",
     "iopub.status.idle": "2022-11-05T12:22:50.261795Z",
     "shell.execute_reply": "2022-11-05T12:22:50.260934Z"
    },
    "papermill": {
     "duration": 0.128403,
     "end_time": "2022-11-05T12:22:50.263570",
     "exception": false,
     "start_time": "2022-11-05T12:22:50.135167",
     "status": "completed"
    },
    "tags": []
   },
   "outputs": [
    {
     "data": {
      "text/plain": [
       "((140,), (48663,), (48663, 140))"
      ]
     },
     "execution_count": 40,
     "metadata": {},
     "output_type": "execute_result"
    }
   ],
   "source": [
    "test_tar_cols = np.load(f'{DATA_DIR}/train_cite_targets_idx.npz',\n",
    "                        allow_pickle=True)['columns']\n",
    "test_tar_idx = np.load(f'{DATA_DIR}/test_cite_inputs_idx.npz',\n",
    "                       allow_pickle=True)['index']\n",
    "test_tar_cols.shape, test_tar_idx.shape, test_tar_preds.shape"
   ]
  },
  {
   "cell_type": "code",
   "execution_count": 41,
   "id": "ff40628c",
   "metadata": {
    "execution": {
     "iopub.execute_input": "2022-11-05T12:22:50.301968Z",
     "iopub.status.busy": "2022-11-05T12:22:50.301110Z",
     "iopub.status.idle": "2022-11-05T12:23:29.209245Z",
     "shell.execute_reply": "2022-11-05T12:23:29.207830Z"
    },
    "papermill": {
     "duration": 38.949652,
     "end_time": "2022-11-05T12:23:29.231396",
     "exception": false,
     "start_time": "2022-11-05T12:22:50.281744",
     "status": "completed"
    },
    "tags": []
   },
   "outputs": [
    {
     "name": "stdout",
     "output_type": "stream",
     "text": [
      "Start Eval...\n",
      "CPU times: user 31.4 s, sys: 16.4 s, total: 47.9 s\n",
      "Wall time: 38.9 s\n"
     ]
    }
   ],
   "source": [
    "%%time\n",
    "print('Start Eval...')\n",
    "eval_ids = pd.read_parquet(f'{DATA_DIR}/evaluation_ids.parquet')\n",
    "eval_ids.cell_id = eval_ids.cell_id.astype(pd.CategoricalDtype())\n",
    "eval_ids.gene_id = eval_ids.gene_id.astype(pd.CategoricalDtype())"
   ]
  },
  {
   "cell_type": "code",
   "execution_count": 42,
   "id": "13beb8f7",
   "metadata": {
    "execution": {
     "iopub.execute_input": "2022-11-05T12:23:29.270484Z",
     "iopub.status.busy": "2022-11-05T12:23:29.269066Z",
     "iopub.status.idle": "2022-11-05T12:23:46.130955Z",
     "shell.execute_reply": "2022-11-05T12:23:46.129347Z"
    },
    "papermill": {
     "duration": 16.884237,
     "end_time": "2022-11-05T12:23:46.133621",
     "exception": false,
     "start_time": "2022-11-05T12:23:29.249384",
     "status": "completed"
    },
    "tags": []
   },
   "outputs": [
    {
     "name": "stdout",
     "output_type": "stream",
     "text": [
      "CPU times: user 12.2 s, sys: 4.49 s, total: 16.7 s\n",
      "Wall time: 16.7 s\n"
     ]
    },
    {
     "data": {
      "text/plain": [
       "row_id    cell_id       gene_id        \n",
       "0         c2150f55becb  CD86              NaN\n",
       "1         c2150f55becb  CD274             NaN\n",
       "2         c2150f55becb  CD270             NaN\n",
       "3         c2150f55becb  CD155             NaN\n",
       "4         c2150f55becb  CD112             NaN\n",
       "                                           ..\n",
       "65744175  2c53aa67933d  ENSG00000134419   NaN\n",
       "65744176  2c53aa67933d  ENSG00000186862   NaN\n",
       "65744177  2c53aa67933d  ENSG00000170959   NaN\n",
       "65744178  2c53aa67933d  ENSG00000107874   NaN\n",
       "65744179  2c53aa67933d  ENSG00000166012   NaN\n",
       "Name: target, Length: 65744180, dtype: float32"
      ]
     },
     "execution_count": 42,
     "metadata": {},
     "output_type": "execute_result"
    }
   ],
   "source": [
    "%%time\n",
    "sub = pd.Series(name='target',\n",
    "                index=pd.MultiIndex.from_frame(eval_ids), \n",
    "                dtype=np.float32)\n",
    "sub"
   ]
  },
  {
   "cell_type": "code",
   "execution_count": 43,
   "id": "313cb02c",
   "metadata": {
    "execution": {
     "iopub.execute_input": "2022-11-05T12:23:46.173093Z",
     "iopub.status.busy": "2022-11-05T12:23:46.172737Z",
     "iopub.status.idle": "2022-11-05T12:23:46.189071Z",
     "shell.execute_reply": "2022-11-05T12:23:46.187923Z"
    },
    "papermill": {
     "duration": 0.039487,
     "end_time": "2022-11-05T12:23:46.191927",
     "exception": false,
     "start_time": "2022-11-05T12:23:46.152440",
     "status": "completed"
    },
    "tags": []
   },
   "outputs": [],
   "source": [
    "cell_id_dict = {cell_id: idx \n",
    "                for idx, cell_id in enumerate(test_tar_idx, 0)}\n",
    "gene_id_dict = {gene_id: idx \n",
    "                for idx, gene_id in enumerate(test_tar_cols, 0)}"
   ]
  },
  {
   "cell_type": "code",
   "execution_count": 44,
   "id": "a22b3636",
   "metadata": {
    "execution": {
     "iopub.execute_input": "2022-11-05T12:23:46.230414Z",
     "iopub.status.busy": "2022-11-05T12:23:46.229999Z",
     "iopub.status.idle": "2022-11-05T12:23:47.659937Z",
     "shell.execute_reply": "2022-11-05T12:23:47.658605Z"
    },
    "papermill": {
     "duration": 1.452582,
     "end_time": "2022-11-05T12:23:47.662801",
     "exception": false,
     "start_time": "2022-11-05T12:23:46.210219",
     "status": "completed"
    },
    "tags": []
   },
   "outputs": [],
   "source": [
    "eid_cid_idx = eval_ids['cell_id']\\\n",
    "              .apply(lambda x: cell_id_dict.get(x, -1))\n",
    "eid_gid_idx = eval_ids['gene_id']\\\n",
    "              .apply(lambda x: gene_id_dict.get(x, -1))\n",
    "valid_cite_rows = (eid_cid_idx != -1) & (eid_gid_idx != -1)"
   ]
  },
  {
   "cell_type": "code",
   "execution_count": 45,
   "id": "bc62d001",
   "metadata": {
    "execution": {
     "iopub.execute_input": "2022-11-05T12:23:47.701991Z",
     "iopub.status.busy": "2022-11-05T12:23:47.701613Z",
     "iopub.status.idle": "2022-11-05T12:23:47.962987Z",
     "shell.execute_reply": "2022-11-05T12:23:47.961171Z"
    },
    "papermill": {
     "duration": 0.284205,
     "end_time": "2022-11-05T12:23:47.965859",
     "exception": false,
     "start_time": "2022-11-05T12:23:47.681654",
     "status": "completed"
    },
    "tags": []
   },
   "outputs": [
    {
     "name": "stdout",
     "output_type": "stream",
     "text": [
      "CPU times: user 195 ms, sys: 60 ms, total: 255 ms\n",
      "Wall time: 254 ms\n"
     ]
    }
   ],
   "source": [
    "%%time\n",
    "sub.iloc[valid_cite_rows] = test_tar_preds\\\n",
    "                             [eid_cid_idx[valid_cite_rows].to_numpy(),\n",
    "                              eid_gid_idx[valid_cite_rows].to_numpy()]"
   ]
  },
  {
   "cell_type": "code",
   "execution_count": 46,
   "id": "82b008e2",
   "metadata": {
    "execution": {
     "iopub.execute_input": "2022-11-05T12:23:48.004240Z",
     "iopub.status.busy": "2022-11-05T12:23:48.003177Z",
     "iopub.status.idle": "2022-11-05T12:23:48.203140Z",
     "shell.execute_reply": "2022-11-05T12:23:48.202148Z"
    },
    "papermill": {
     "duration": 0.220963,
     "end_time": "2022-11-05T12:23:48.205089",
     "exception": false,
     "start_time": "2022-11-05T12:23:47.984126",
     "status": "completed"
    },
    "tags": []
   },
   "outputs": [
    {
     "data": {
      "text/plain": [
       "97"
      ]
     },
     "execution_count": 46,
     "metadata": {},
     "output_type": "execute_result"
    }
   ],
   "source": [
    "del eval_ids, test_tar_idx, test_tar_cols\n",
    "del eid_cid_idx, eid_gid_idx, valid_cite_rows\n",
    "gc.collect() "
   ]
  },
  {
   "cell_type": "code",
   "execution_count": 47,
   "id": "b860a783",
   "metadata": {
    "execution": {
     "iopub.execute_input": "2022-11-05T12:23:48.248875Z",
     "iopub.status.busy": "2022-11-05T12:23:48.248013Z",
     "iopub.status.idle": "2022-11-05T12:25:01.315636Z",
     "shell.execute_reply": "2022-11-05T12:25:01.313770Z"
    },
    "papermill": {
     "duration": 73.094577,
     "end_time": "2022-11-05T12:25:01.318445",
     "exception": false,
     "start_time": "2022-11-05T12:23:48.223868",
     "status": "completed"
    },
    "tags": []
   },
   "outputs": [],
   "source": [
    "sub = pd.DataFrame(sub).fillna(0).reset_index()\n",
    "sub.drop(['cell_id', 'gene_id'], axis=1)\\\n",
    "   .to_csv('cite_sub.csv', index=False)"
   ]
  },
  {
   "cell_type": "code",
   "execution_count": 48,
   "id": "94ee9827",
   "metadata": {
    "execution": {
     "iopub.execute_input": "2022-11-05T12:25:01.357528Z",
     "iopub.status.busy": "2022-11-05T12:25:01.356876Z",
     "iopub.status.idle": "2022-11-05T12:25:01.372847Z",
     "shell.execute_reply": "2022-11-05T12:25:01.371702Z"
    },
    "papermill": {
     "duration": 0.037914,
     "end_time": "2022-11-05T12:25:01.375217",
     "exception": false,
     "start_time": "2022-11-05T12:25:01.337303",
     "status": "completed"
    },
    "tags": []
   },
   "outputs": [
    {
     "data": {
      "text/html": [
       "<div>\n",
       "<style scoped>\n",
       "    .dataframe tbody tr th:only-of-type {\n",
       "        vertical-align: middle;\n",
       "    }\n",
       "\n",
       "    .dataframe tbody tr th {\n",
       "        vertical-align: top;\n",
       "    }\n",
       "\n",
       "    .dataframe thead th {\n",
       "        text-align: right;\n",
       "    }\n",
       "</style>\n",
       "<table border=\"1\" class=\"dataframe\">\n",
       "  <thead>\n",
       "    <tr style=\"text-align: right;\">\n",
       "      <th></th>\n",
       "      <th>row_id</th>\n",
       "      <th>cell_id</th>\n",
       "      <th>gene_id</th>\n",
       "      <th>target</th>\n",
       "    </tr>\n",
       "  </thead>\n",
       "  <tbody>\n",
       "    <tr>\n",
       "      <th>0</th>\n",
       "      <td>0</td>\n",
       "      <td>c2150f55becb</td>\n",
       "      <td>CD86</td>\n",
       "      <td>-0.072532</td>\n",
       "    </tr>\n",
       "    <tr>\n",
       "      <th>1</th>\n",
       "      <td>1</td>\n",
       "      <td>c2150f55becb</td>\n",
       "      <td>CD274</td>\n",
       "      <td>-0.063299</td>\n",
       "    </tr>\n",
       "    <tr>\n",
       "      <th>2</th>\n",
       "      <td>2</td>\n",
       "      <td>c2150f55becb</td>\n",
       "      <td>CD270</td>\n",
       "      <td>-0.057439</td>\n",
       "    </tr>\n",
       "    <tr>\n",
       "      <th>3</th>\n",
       "      <td>3</td>\n",
       "      <td>c2150f55becb</td>\n",
       "      <td>CD155</td>\n",
       "      <td>0.157071</td>\n",
       "    </tr>\n",
       "    <tr>\n",
       "      <th>4</th>\n",
       "      <td>4</td>\n",
       "      <td>c2150f55becb</td>\n",
       "      <td>CD112</td>\n",
       "      <td>0.174948</td>\n",
       "    </tr>\n",
       "  </tbody>\n",
       "</table>\n",
       "</div>"
      ],
      "text/plain": [
       "   row_id       cell_id gene_id    target\n",
       "0       0  c2150f55becb    CD86 -0.072532\n",
       "1       1  c2150f55becb   CD274 -0.063299\n",
       "2       2  c2150f55becb   CD270 -0.057439\n",
       "3       3  c2150f55becb   CD155  0.157071\n",
       "4       4  c2150f55becb   CD112  0.174948"
      ]
     },
     "execution_count": 48,
     "metadata": {},
     "output_type": "execute_result"
    }
   ],
   "source": [
    "sub.head()"
   ]
  }
 ],
 "metadata": {
  "kernelspec": {
   "display_name": "Python 3",
   "language": "python",
   "name": "python3"
  },
  "language_info": {
   "codemirror_mode": {
    "name": "ipython",
    "version": 3
   },
   "file_extension": ".py",
   "mimetype": "text/x-python",
   "name": "python",
   "nbconvert_exporter": "python",
   "pygments_lexer": "ipython3",
   "version": "3.7.12"
  },
  "papermill": {
   "default_parameters": {},
   "duration": 1554.279938,
   "end_time": "2022-11-05T12:25:02.722969",
   "environment_variables": {},
   "exception": null,
   "input_path": "__notebook__.ipynb",
   "output_path": "__notebook__.ipynb",
   "parameters": {},
   "start_time": "2022-11-05T11:59:08.443031",
   "version": "2.3.4"
  }
 },
 "nbformat": 4,
 "nbformat_minor": 5
}
