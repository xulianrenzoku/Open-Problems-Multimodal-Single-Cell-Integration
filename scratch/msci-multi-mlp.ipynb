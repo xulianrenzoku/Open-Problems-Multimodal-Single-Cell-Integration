{
 "cells": [
  {
   "cell_type": "code",
   "execution_count": 1,
   "id": "b54795fb",
   "metadata": {
    "_cell_guid": "b1076dfc-b9ad-4769-8c92-a6c4dae69d19",
    "_uuid": "8f2839f25d086af736a60e9eeb907d3b93b6e0e5",
    "execution": {
     "iopub.execute_input": "2022-11-05T13:19:12.809350Z",
     "iopub.status.busy": "2022-11-05T13:19:12.808869Z",
     "iopub.status.idle": "2022-11-05T13:19:12.921660Z",
     "shell.execute_reply": "2022-11-05T13:19:12.920198Z"
    },
    "papermill": {
     "duration": 0.130985,
     "end_time": "2022-11-05T13:19:12.925160",
     "exception": false,
     "start_time": "2022-11-05T13:19:12.794175",
     "status": "completed"
    },
    "tags": []
   },
   "outputs": [],
   "source": [
    "import os\n",
    "import os.path\n",
    "import random\n",
    "import gc\n",
    "import numpy as np\n",
    "import pandas as pd\n",
    "import scipy.sparse\n",
    "from tqdm import tqdm"
   ]
  },
  {
   "cell_type": "code",
   "execution_count": 2,
   "id": "15ca8e1a",
   "metadata": {
    "execution": {
     "iopub.execute_input": "2022-11-05T13:19:12.946537Z",
     "iopub.status.busy": "2022-11-05T13:19:12.946073Z",
     "iopub.status.idle": "2022-11-05T13:19:12.953046Z",
     "shell.execute_reply": "2022-11-05T13:19:12.951253Z"
    },
    "papermill": {
     "duration": 0.021203,
     "end_time": "2022-11-05T13:19:12.956146",
     "exception": false,
     "start_time": "2022-11-05T13:19:12.934943",
     "status": "completed"
    },
    "tags": []
   },
   "outputs": [],
   "source": [
    "import warnings \n",
    "warnings.filterwarnings('ignore')"
   ]
  },
  {
   "cell_type": "code",
   "execution_count": 3,
   "id": "728954ee",
   "metadata": {
    "execution": {
     "iopub.execute_input": "2022-11-05T13:19:12.981143Z",
     "iopub.status.busy": "2022-11-05T13:19:12.980292Z",
     "iopub.status.idle": "2022-11-05T13:19:14.193562Z",
     "shell.execute_reply": "2022-11-05T13:19:14.191942Z"
    },
    "papermill": {
     "duration": 1.227056,
     "end_time": "2022-11-05T13:19:14.196720",
     "exception": false,
     "start_time": "2022-11-05T13:19:12.969664",
     "status": "completed"
    },
    "tags": []
   },
   "outputs": [],
   "source": [
    "import seaborn as sns\n",
    "import matplotlib\n",
    "import matplotlib.pyplot as plt\n",
    "from IPython.core.pylabtools import figsize"
   ]
  },
  {
   "cell_type": "code",
   "execution_count": 4,
   "id": "b8dd80be",
   "metadata": {
    "execution": {
     "iopub.execute_input": "2022-11-05T13:19:14.218018Z",
     "iopub.status.busy": "2022-11-05T13:19:14.216175Z",
     "iopub.status.idle": "2022-11-05T13:19:14.225408Z",
     "shell.execute_reply": "2022-11-05T13:19:14.223548Z"
    },
    "papermill": {
     "duration": 0.022127,
     "end_time": "2022-11-05T13:19:14.228112",
     "exception": false,
     "start_time": "2022-11-05T13:19:14.205985",
     "status": "completed"
    },
    "tags": []
   },
   "outputs": [],
   "source": [
    "sns.set()"
   ]
  },
  {
   "cell_type": "code",
   "execution_count": 5,
   "id": "a06d2675",
   "metadata": {
    "execution": {
     "iopub.execute_input": "2022-11-05T13:19:14.251055Z",
     "iopub.status.busy": "2022-11-05T13:19:14.250635Z",
     "iopub.status.idle": "2022-11-05T13:19:14.257660Z",
     "shell.execute_reply": "2022-11-05T13:19:14.256032Z"
    },
    "papermill": {
     "duration": 0.021494,
     "end_time": "2022-11-05T13:19:14.260894",
     "exception": false,
     "start_time": "2022-11-05T13:19:14.239400",
     "status": "completed"
    },
    "tags": []
   },
   "outputs": [],
   "source": [
    "import pickle\n",
    "\n",
    "def dump_pickle(file, filename):\n",
    "    outfile = open(filename, 'wb')\n",
    "    pickle.dump(file, outfile)\n",
    "    outfile.close()\n",
    "\n",
    "def load_pickle(filename):\n",
    "    infile = open(filename, 'rb')\n",
    "    file = pickle.load(infile)\n",
    "    infile.close()\n",
    "    return file"
   ]
  },
  {
   "cell_type": "markdown",
   "id": "f17640b2",
   "metadata": {
    "papermill": {
     "duration": 0.00921,
     "end_time": "2022-11-05T13:19:14.279583",
     "exception": false,
     "start_time": "2022-11-05T13:19:14.270373",
     "status": "completed"
    },
    "tags": []
   },
   "source": [
    "## Read Data"
   ]
  },
  {
   "cell_type": "code",
   "execution_count": 6,
   "id": "a00e8f74",
   "metadata": {
    "execution": {
     "iopub.execute_input": "2022-11-05T13:19:14.301215Z",
     "iopub.status.busy": "2022-11-05T13:19:14.300812Z",
     "iopub.status.idle": "2022-11-05T13:19:15.416466Z",
     "shell.execute_reply": "2022-11-05T13:19:15.414770Z"
    },
    "papermill": {
     "duration": 1.130143,
     "end_time": "2022-11-05T13:19:15.419708",
     "exception": false,
     "start_time": "2022-11-05T13:19:14.289565",
     "status": "completed"
    },
    "tags": []
   },
   "outputs": [
    {
     "name": "stdout",
     "output_type": "stream",
     "text": [
      "total 5.0G\r\n",
      "-rw-r--r-- 1 nobody nogroup  19K Nov  4 12:17 __notebook__.ipynb\r\n",
      "-rw-r--r-- 1 nobody nogroup 6.1K Nov  4 12:17 __output__.json\r\n",
      "-rw-r--r-- 1 nobody nogroup 286K Nov  4 12:17 __results__.html\r\n",
      "-rw-r--r-- 1 nobody nogroup    0 Nov  4 12:17 custom.css\r\n",
      "-rw-r--r-- 1 nobody nogroup 1.8G Nov  4 12:17 test_inp\r\n",
      "-rw-r--r-- 1 nobody nogroup 3.3G Nov  4 12:18 train_inp\r\n"
     ]
    }
   ],
   "source": [
    "DATA_DIR = '../input/msci-multi-mlp-tsvd'\n",
    "%ls $DATA_DIR -lh"
   ]
  },
  {
   "cell_type": "code",
   "execution_count": 7,
   "id": "9b089fc3",
   "metadata": {
    "execution": {
     "iopub.execute_input": "2022-11-05T13:19:15.442972Z",
     "iopub.status.busy": "2022-11-05T13:19:15.441247Z",
     "iopub.status.idle": "2022-11-05T13:19:52.729312Z",
     "shell.execute_reply": "2022-11-05T13:19:52.727387Z"
    },
    "papermill": {
     "duration": 37.30754,
     "end_time": "2022-11-05T13:19:52.737143",
     "exception": false,
     "start_time": "2022-11-05T13:19:15.429603",
     "status": "completed"
    },
    "tags": []
   },
   "outputs": [
    {
     "name": "stdout",
     "output_type": "stream",
     "text": [
      "CPU times: user 1.29 s, sys: 8.7 s, total: 9.98 s\n",
      "Wall time: 37.3 s\n"
     ]
    },
    {
     "data": {
      "text/plain": [
       "(105942, 8192)"
      ]
     },
     "execution_count": 7,
     "metadata": {},
     "output_type": "execute_result"
    }
   ],
   "source": [
    "%%time\n",
    "train_inp = load_pickle(f'{DATA_DIR}/train_inp')\n",
    "train_inp.shape"
   ]
  },
  {
   "cell_type": "code",
   "execution_count": 8,
   "id": "634e641e",
   "metadata": {
    "execution": {
     "iopub.execute_input": "2022-11-05T13:19:52.757426Z",
     "iopub.status.busy": "2022-11-05T13:19:52.756950Z",
     "iopub.status.idle": "2022-11-05T13:19:53.990157Z",
     "shell.execute_reply": "2022-11-05T13:19:53.987269Z"
    },
    "papermill": {
     "duration": 1.247925,
     "end_time": "2022-11-05T13:19:53.994134",
     "exception": false,
     "start_time": "2022-11-05T13:19:52.746209",
     "status": "completed"
    },
    "tags": []
   },
   "outputs": [
    {
     "name": "stdout",
     "output_type": "stream",
     "text": [
      "total 27G\r\n",
      "-rw-r--r-- 1 nobody nogroup 2.3G Sep  7 19:44 evaluation_ids.csv\r\n",
      "-rw-r--r-- 1 nobody nogroup 9.4M Sep  7 19:43 metadata.csv\r\n",
      "-rw-r--r-- 1 nobody nogroup 230K Sep  7 19:43 metadata_cite_day_2_donor_27678.csv\r\n",
      "-rw-r--r-- 1 nobody nogroup 805M Sep  7 19:43 sample_submission.csv\r\n",
      "-rw-r--r-- 1 nobody nogroup 1.6G Sep  7 19:44 test_cite_inputs.h5\r\n",
      "-rw-r--r-- 1 nobody nogroup 294M Sep  7 19:43 test_cite_inputs_day_2_donor_27678.h5\r\n",
      "-rw-r--r-- 1 nobody nogroup 6.1G Sep  7 19:45 test_multi_inputs.h5\r\n",
      "-rw-r--r-- 1 nobody nogroup 2.4G Sep  7 19:44 train_cite_inputs.h5\r\n",
      "-rw-r--r-- 1 nobody nogroup  37M Sep  7 19:43 train_cite_targets.h5\r\n",
      "-rw-r--r-- 1 nobody nogroup  11G Sep  7 19:46 train_multi_inputs.h5\r\n",
      "-rw-r--r-- 1 nobody nogroup 3.0G Sep  7 19:45 train_multi_targets.h5\r\n"
     ]
    }
   ],
   "source": [
    "DATA_DIR = '../input/open-problems-multimodal'\n",
    "%ls $DATA_DIR -lh"
   ]
  },
  {
   "cell_type": "code",
   "execution_count": 9,
   "id": "40f86f40",
   "metadata": {
    "execution": {
     "iopub.execute_input": "2022-11-05T13:19:54.020900Z",
     "iopub.status.busy": "2022-11-05T13:19:54.019854Z",
     "iopub.status.idle": "2022-11-05T13:21:30.817556Z",
     "shell.execute_reply": "2022-11-05T13:21:30.816186Z"
    },
    "papermill": {
     "duration": 96.823783,
     "end_time": "2022-11-05T13:21:30.830017",
     "exception": false,
     "start_time": "2022-11-05T13:19:54.006234",
     "status": "completed"
    },
    "tags": []
   },
   "outputs": [
    {
     "name": "stdout",
     "output_type": "stream",
     "text": [
      "CPU times: user 57.5 s, sys: 14 s, total: 1min 11s\n",
      "Wall time: 1min 36s\n"
     ]
    },
    {
     "data": {
      "text/plain": [
       "(105942, 23418)"
      ]
     },
     "execution_count": 9,
     "metadata": {},
     "output_type": "execute_result"
    }
   ],
   "source": [
    "%%time\n",
    "train_tar = pd.read_hdf(f'{DATA_DIR}/train_multi_targets.h5')\n",
    "train_tar.shape"
   ]
  },
  {
   "cell_type": "code",
   "execution_count": 10,
   "id": "4f9c359d",
   "metadata": {
    "execution": {
     "iopub.execute_input": "2022-11-05T13:21:30.851467Z",
     "iopub.status.busy": "2022-11-05T13:21:30.850206Z",
     "iopub.status.idle": "2022-11-05T13:21:30.859699Z",
     "shell.execute_reply": "2022-11-05T13:21:30.858381Z"
    },
    "papermill": {
     "duration": 0.022985,
     "end_time": "2022-11-05T13:21:30.862254",
     "exception": false,
     "start_time": "2022-11-05T13:21:30.839269",
     "status": "completed"
    },
    "tags": []
   },
   "outputs": [],
   "source": [
    "train_tar = train_tar.values"
   ]
  },
  {
   "cell_type": "markdown",
   "id": "a3a8c409",
   "metadata": {
    "papermill": {
     "duration": 0.010119,
     "end_time": "2022-11-05T13:21:30.881824",
     "exception": false,
     "start_time": "2022-11-05T13:21:30.871705",
     "status": "completed"
    },
    "tags": []
   },
   "source": [
    "## Modeling"
   ]
  },
  {
   "cell_type": "code",
   "execution_count": 11,
   "id": "dc1324a5",
   "metadata": {
    "execution": {
     "iopub.execute_input": "2022-11-05T13:21:30.903881Z",
     "iopub.status.busy": "2022-11-05T13:21:30.902182Z",
     "iopub.status.idle": "2022-11-05T13:21:33.085535Z",
     "shell.execute_reply": "2022-11-05T13:21:33.084107Z"
    },
    "papermill": {
     "duration": 2.197741,
     "end_time": "2022-11-05T13:21:33.089235",
     "exception": false,
     "start_time": "2022-11-05T13:21:30.891494",
     "status": "completed"
    },
    "tags": []
   },
   "outputs": [],
   "source": [
    "import torch\n",
    "import torch.nn as nn\n",
    "import torch.nn.functional as F\n",
    "import torch.optim as optim\n",
    "from torchvision import datasets, transforms\n",
    "from torch.utils.data import DataLoader, TensorDataset, random_split"
   ]
  },
  {
   "cell_type": "code",
   "execution_count": 12,
   "id": "b47128ec",
   "metadata": {
    "execution": {
     "iopub.execute_input": "2022-11-05T13:21:33.111241Z",
     "iopub.status.busy": "2022-11-05T13:21:33.110482Z",
     "iopub.status.idle": "2022-11-05T13:21:33.118511Z",
     "shell.execute_reply": "2022-11-05T13:21:33.116763Z"
    },
    "papermill": {
     "duration": 0.023616,
     "end_time": "2022-11-05T13:21:33.122525",
     "exception": false,
     "start_time": "2022-11-05T13:21:33.098909",
     "status": "completed"
    },
    "tags": []
   },
   "outputs": [
    {
     "name": "stdout",
     "output_type": "stream",
     "text": [
      "CPU times: user 27 µs, sys: 9 µs, total: 36 µs\n",
      "Wall time: 40.3 µs\n"
     ]
    }
   ],
   "source": [
    "%%time\n",
    "train_inp = torch.from_numpy(train_inp)\n",
    "train_tar = torch.from_numpy(train_tar)"
   ]
  },
  {
   "cell_type": "code",
   "execution_count": 13,
   "id": "f983a5f0",
   "metadata": {
    "execution": {
     "iopub.execute_input": "2022-11-05T13:21:33.145730Z",
     "iopub.status.busy": "2022-11-05T13:21:33.145268Z",
     "iopub.status.idle": "2022-11-05T13:21:33.164277Z",
     "shell.execute_reply": "2022-11-05T13:21:33.163007Z"
    },
    "papermill": {
     "duration": 0.033554,
     "end_time": "2022-11-05T13:21:33.166846",
     "exception": false,
     "start_time": "2022-11-05T13:21:33.133292",
     "status": "completed"
    },
    "tags": []
   },
   "outputs": [],
   "source": [
    "full_ds = TensorDataset(train_inp, train_tar)\n",
    "train_sz = 84992\n",
    "val_sz = len(full_ds) - train_sz\n",
    "train_ds, val_ds = random_split(full_ds, \n",
    "                                [train_sz, val_sz],\n",
    "                                generator=torch.Generator().manual_seed(42))"
   ]
  },
  {
   "cell_type": "code",
   "execution_count": 14,
   "id": "41fb8fb9",
   "metadata": {
    "execution": {
     "iopub.execute_input": "2022-11-05T13:21:33.189047Z",
     "iopub.status.busy": "2022-11-05T13:21:33.188026Z",
     "iopub.status.idle": "2022-11-05T13:21:33.195479Z",
     "shell.execute_reply": "2022-11-05T13:21:33.194448Z"
    },
    "papermill": {
     "duration": 0.022593,
     "end_time": "2022-11-05T13:21:33.198740",
     "exception": false,
     "start_time": "2022-11-05T13:21:33.176147",
     "status": "completed"
    },
    "tags": []
   },
   "outputs": [],
   "source": [
    "batch_size = 512\n",
    "train_loader = DataLoader(train_ds, batch_size=batch_size, shuffle=True)\n",
    "val_loader = DataLoader(val_ds, batch_size=batch_size, shuffle=False)"
   ]
  },
  {
   "cell_type": "code",
   "execution_count": 15,
   "id": "0abb74fe",
   "metadata": {
    "execution": {
     "iopub.execute_input": "2022-11-05T13:21:33.220352Z",
     "iopub.status.busy": "2022-11-05T13:21:33.218959Z",
     "iopub.status.idle": "2022-11-05T13:21:33.232958Z",
     "shell.execute_reply": "2022-11-05T13:21:33.231529Z"
    },
    "papermill": {
     "duration": 0.028713,
     "end_time": "2022-11-05T13:21:33.236824",
     "exception": false,
     "start_time": "2022-11-05T13:21:33.208111",
     "status": "completed"
    },
    "tags": []
   },
   "outputs": [],
   "source": [
    "class Net(nn.Module):\n",
    "    def __init__(self):\n",
    "        \"\"\"In the constructor we instantiate two nn.Linear modules and assign them as\n",
    "        member variables (self).\n",
    "        \"\"\"\n",
    "        super(Net, self).__init__()\n",
    "        self.linear1 = nn.Linear(8192, 128)\n",
    "        self.bn1 = nn.BatchNorm1d(128)\n",
    "        self.linear2 = nn.Linear(128, 128)\n",
    "        self.bn2 = nn.BatchNorm1d(128)\n",
    "        self.linear3 = nn.Linear(128, 128)\n",
    "        self.bn3 = nn.BatchNorm1d(128)\n",
    "        self.linear4 = nn.Linear(128, 23418)\n",
    "\n",
    "\n",
    "    def forward(self, x):\n",
    "        \"\"\"\n",
    "        In the forward function we accept a Tensor of input data and we must return\n",
    "        a Tensor of output data. We can use Modules defined in the constructor as\n",
    "        well as arbitrary operators on Tensors.\n",
    "        \"\"\"\n",
    "        x = self.linear1(x)\n",
    "        x = self.bn1(x)\n",
    "        x = F.relu(x)\n",
    "        x = self.linear2(x)\n",
    "        x = self.bn2(x)\n",
    "        x = F.relu(x)\n",
    "        x = self.linear3(x)\n",
    "        x = self.bn3(x)\n",
    "        x = F.relu(x)\n",
    "        x = self.linear4(x)\n",
    "        x = F.relu(x)\n",
    "\n",
    "        return x"
   ]
  },
  {
   "cell_type": "code",
   "execution_count": 16,
   "id": "7ccf9bc9",
   "metadata": {
    "execution": {
     "iopub.execute_input": "2022-11-05T13:21:33.258790Z",
     "iopub.status.busy": "2022-11-05T13:21:33.258055Z",
     "iopub.status.idle": "2022-11-05T13:21:33.267079Z",
     "shell.execute_reply": "2022-11-05T13:21:33.265564Z"
    },
    "papermill": {
     "duration": 0.023264,
     "end_time": "2022-11-05T13:21:33.269806",
     "exception": false,
     "start_time": "2022-11-05T13:21:33.246542",
     "status": "completed"
    },
    "tags": []
   },
   "outputs": [],
   "source": [
    "def train_model(train_loader, model, optimizer):\n",
    "    \n",
    "    model.train()\n",
    "    sum_corr = 0.0 # sum_loss = 0.0\n",
    "    total = 0\n",
    "    \n",
    "    for i, (x, y) in enumerate(train_loader):\n",
    "        batch = x.shape[0]\n",
    "        \n",
    "        preds = model(x)\n",
    "        vpreds = preds - torch.mean(preds)\n",
    "        vy = y - torch.mean(y)\n",
    "        corr = torch.sum(vpreds * vy) / \\\n",
    "               (torch.sqrt(torch.sum(vpreds ** 2)) *\n",
    "                torch.sqrt(torch.sum(vy ** 2)))\n",
    "        loss = -corr\n",
    "        \n",
    "        optimizer.zero_grad()\n",
    "        loss.backward()\n",
    "        \n",
    "        optimizer.step()\n",
    "        \n",
    "        total += batch\n",
    "        sum_corr += batch * corr\n",
    "    \n",
    "    train_corr = sum_corr/total \n",
    "    return train_corr"
   ]
  },
  {
   "cell_type": "code",
   "execution_count": 17,
   "id": "dea5aacd",
   "metadata": {
    "execution": {
     "iopub.execute_input": "2022-11-05T13:21:33.292374Z",
     "iopub.status.busy": "2022-11-05T13:21:33.291875Z",
     "iopub.status.idle": "2022-11-05T13:21:33.301629Z",
     "shell.execute_reply": "2022-11-05T13:21:33.299815Z"
    },
    "papermill": {
     "duration": 0.024104,
     "end_time": "2022-11-05T13:21:33.304402",
     "exception": false,
     "start_time": "2022-11-05T13:21:33.280298",
     "status": "completed"
    },
    "tags": []
   },
   "outputs": [],
   "source": [
    "def model_eval(model, val_loader):\n",
    "    model.eval()\n",
    "    sum_corr = 0.0 # sum_loss = 0.0\n",
    "    total = 0\n",
    "    \n",
    "    for i, (x, y) in enumerate(val_loader):\n",
    "        batch = x.shape[0]\n",
    "        \n",
    "        preds = model(x)\n",
    "        vpreds = preds - torch.mean(preds)\n",
    "        vy = y - torch.mean(y)\n",
    "        corr = torch.sum(vpreds * vy) / \\\n",
    "               (torch.sqrt(torch.sum(vpreds ** 2)) *\n",
    "                torch.sqrt(torch.sum(vy ** 2)))\n",
    "        loss = -corr\n",
    "        \n",
    "        total += batch\n",
    "        sum_corr += batch * corr\n",
    "        \n",
    "    val_corr = sum_corr/total\n",
    "    return val_corr"
   ]
  },
  {
   "cell_type": "code",
   "execution_count": 18,
   "id": "5f746b4e",
   "metadata": {
    "execution": {
     "iopub.execute_input": "2022-11-05T13:21:33.326273Z",
     "iopub.status.busy": "2022-11-05T13:21:33.325143Z",
     "iopub.status.idle": "2022-11-05T13:21:33.332135Z",
     "shell.execute_reply": "2022-11-05T13:21:33.330542Z"
    },
    "papermill": {
     "duration": 0.020727,
     "end_time": "2022-11-05T13:21:33.334572",
     "exception": false,
     "start_time": "2022-11-05T13:21:33.313845",
     "status": "completed"
    },
    "tags": []
   },
   "outputs": [],
   "source": [
    "# res = []\n",
    "# lrs = [0.01, 0.001, 0.0001, 0.00001]\n",
    "# wds = [0.1, 0.01]\n",
    "# epochs = 15\n",
    "\n",
    "# for learning_rate in lrs:\n",
    "#     for weight_decay in wds:\n",
    "#         print('------')\n",
    "#         print(f'learning rate: {learning_rate}')\n",
    "#         print(f'weight decay: {weight_decay}')\n",
    "#         print()\n",
    "        \n",
    "#         net = Net()\n",
    "#         optimizer = optim.Adam(net.parameters(),\n",
    "#                     lr=learning_rate,\n",
    "#                     weight_decay=weight_decay)\n",
    "        \n",
    "#         train_corrs = []\n",
    "#         val_corrs = []\n",
    "        \n",
    "#         for epoch in range(epochs):\n",
    "#             # train\n",
    "#             print('epoch', epoch)\n",
    "#             train_corr = train_model(train_loader, net, optimizer)\n",
    "#             train_corr = float(train_corr.detach().numpy())\n",
    "#             train_corrs.append(train_corr)\n",
    "#             print(f'train corr: {train_corr:.4f}')\n",
    "\n",
    "#             # val\n",
    "#             val_corr = model_eval(net, val_loader)\n",
    "#             val_corr = float(val_corr.detach().numpy())\n",
    "#             val_corrs.append(val_corr)\n",
    "#             print(f'val corr: {val_corr:.4f}')\n",
    "#             print()\n",
    "        \n",
    "#         res.append([train_corrs, val_corrs, \n",
    "#                     learning_rate, weight_decay])   \n",
    "        \n",
    "# del net, train_corrs, val_corrs\n",
    "# gc.collect()"
   ]
  },
  {
   "cell_type": "code",
   "execution_count": 19,
   "id": "0833b67b",
   "metadata": {
    "execution": {
     "iopub.execute_input": "2022-11-05T13:21:33.356165Z",
     "iopub.status.busy": "2022-11-05T13:21:33.355774Z",
     "iopub.status.idle": "2022-11-05T13:21:33.362210Z",
     "shell.execute_reply": "2022-11-05T13:21:33.360865Z"
    },
    "papermill": {
     "duration": 0.02028,
     "end_time": "2022-11-05T13:21:33.364707",
     "exception": false,
     "start_time": "2022-11-05T13:21:33.344427",
     "status": "completed"
    },
    "tags": []
   },
   "outputs": [],
   "source": [
    "# figsize(8, 16)\n",
    "# for i in range(8):\n",
    "#     train_corrs, val_corrs, learning_rate, weight_decay = res[i]\n",
    "#     print('------')\n",
    "#     print(f'learning rate: {learning_rate}')\n",
    "#     print(f'weight decay: {weight_decay}')\n",
    "#     print(f'best score on val set: {np.max(val_corrs):.4f}')\n",
    "#     print()\n",
    "    \n",
    "#     plt.subplot(4, 2, i+1)\n",
    "#     plt.scatter(list(range(epochs)), \n",
    "#                 train_corrs, \n",
    "#                 label='training corr')\n",
    "#     plt.plot(list(range(epochs)), \n",
    "#              train_corrs)\n",
    "#     plt.scatter(list(range(epochs)), \n",
    "#                 val_corrs, \n",
    "#                 label='val corr')\n",
    "#     plt.plot(list(range(epochs)), \n",
    "#              val_corrs)\n",
    "#     plt.legend(loc='lower right')\n",
    "#     plt.title(f'lr = {learning_rate} | wd = {weight_decay}')\n",
    "#     plt.ylim(0.5, 1)\n",
    "# plt.tight_layout()\n",
    "\n",
    "# del train_corrs, val_corrs\n",
    "# gc.collect()"
   ]
  },
  {
   "cell_type": "code",
   "execution_count": 20,
   "id": "7afabf93",
   "metadata": {
    "execution": {
     "iopub.execute_input": "2022-11-05T13:21:33.385976Z",
     "iopub.status.busy": "2022-11-05T13:21:33.385581Z",
     "iopub.status.idle": "2022-11-05T13:21:33.425684Z",
     "shell.execute_reply": "2022-11-05T13:21:33.424637Z"
    },
    "papermill": {
     "duration": 0.054322,
     "end_time": "2022-11-05T13:21:33.428262",
     "exception": false,
     "start_time": "2022-11-05T13:21:33.373940",
     "status": "completed"
    },
    "tags": []
   },
   "outputs": [],
   "source": [
    "net = Net()\n",
    "learning_rate = 0.001\n",
    "weight_decay = 0.01 \n",
    "optimizer = optim.Adam(net.parameters(),\n",
    "                       lr=learning_rate,\n",
    "                       weight_decay=weight_decay)"
   ]
  },
  {
   "cell_type": "code",
   "execution_count": 21,
   "id": "27b43225",
   "metadata": {
    "execution": {
     "iopub.execute_input": "2022-11-05T13:21:33.450243Z",
     "iopub.status.busy": "2022-11-05T13:21:33.449362Z",
     "iopub.status.idle": "2022-11-05T16:45:41.909304Z",
     "shell.execute_reply": "2022-11-05T16:45:41.907121Z"
    },
    "papermill": {
     "duration": 12248.486245,
     "end_time": "2022-11-05T16:45:41.924661",
     "exception": false,
     "start_time": "2022-11-05T13:21:33.438416",
     "status": "completed"
    },
    "tags": []
   },
   "outputs": [
    {
     "name": "stdout",
     "output_type": "stream",
     "text": [
      "epoch 0\n",
      "train corr: 0.4855\n",
      "val corr: 0.6286\n",
      "\n",
      "epoch 1\n",
      "train corr: 0.6371\n",
      "val corr: 0.6396\n",
      "\n",
      "epoch 2\n",
      "train corr: 0.6424\n",
      "val corr: 0.6445\n",
      "\n",
      "epoch 3\n",
      "train corr: 0.6457\n",
      "val corr: 0.6462\n",
      "\n",
      "epoch 4\n",
      "train corr: 0.6478\n",
      "val corr: 0.6462\n",
      "\n",
      "epoch 5\n",
      "train corr: 0.6497\n",
      "val corr: 0.6496\n",
      "\n",
      "epoch 6\n",
      "train corr: 0.6520\n",
      "val corr: 0.6522\n",
      "\n",
      "epoch 7\n",
      "train corr: 0.6536\n",
      "val corr: 0.6529\n",
      "\n",
      "epoch 8\n",
      "train corr: 0.6542\n",
      "val corr: 0.6536\n",
      "\n",
      "epoch 9\n",
      "train corr: 0.6544\n",
      "val corr: 0.6533\n",
      "\n",
      "epoch 10\n",
      "train corr: 0.6542\n",
      "val corr: 0.6531\n",
      "\n",
      "epoch 11\n",
      "train corr: 0.6541\n",
      "val corr: 0.6533\n",
      "\n",
      "epoch 12\n",
      "train corr: 0.6539\n",
      "val corr: 0.6530\n",
      "\n",
      "epoch 13\n",
      "train corr: 0.6540\n",
      "val corr: 0.6530\n",
      "\n",
      "epoch 14\n",
      "train corr: 0.6541\n",
      "val corr: 0.6532\n",
      "\n",
      "epoch 15\n",
      "train corr: 0.6542\n",
      "val corr: 0.6531\n",
      "\n",
      "epoch 16\n",
      "train corr: 0.6543\n",
      "val corr: 0.6536\n",
      "\n",
      "epoch 17\n",
      "train corr: 0.6543\n",
      "val corr: 0.6536\n",
      "\n",
      "epoch 18\n",
      "train corr: 0.6545\n",
      "val corr: 0.6537\n",
      "\n",
      "epoch 19\n",
      "train corr: 0.6545\n",
      "val corr: 0.6539\n",
      "\n",
      "epoch 20\n",
      "train corr: 0.6546\n",
      "val corr: 0.6536\n",
      "\n",
      "epoch 21\n",
      "train corr: 0.6546\n",
      "val corr: 0.6538\n",
      "\n",
      "epoch 22\n",
      "train corr: 0.6546\n",
      "val corr: 0.6538\n",
      "\n",
      "epoch 23\n",
      "train corr: 0.6546\n",
      "val corr: 0.6537\n",
      "\n",
      "epoch 24\n",
      "train corr: 0.6547\n",
      "val corr: 0.6537\n",
      "\n",
      "epoch 25\n",
      "train corr: 0.6546\n",
      "val corr: 0.6541\n",
      "\n",
      "epoch 26\n",
      "train corr: 0.6547\n",
      "val corr: 0.6539\n",
      "\n",
      "epoch 27\n",
      "train corr: 0.6547\n",
      "val corr: 0.6535\n",
      "\n",
      "epoch 28\n",
      "train corr: 0.6547\n",
      "val corr: 0.6538\n",
      "\n",
      "epoch 29\n",
      "train corr: 0.6547\n",
      "val corr: 0.6539\n",
      "\n",
      "CPU times: user 4h 59min 3s, sys: 53min 13s, total: 5h 52min 17s\n",
      "Wall time: 3h 24min 8s\n"
     ]
    }
   ],
   "source": [
    "%%time\n",
    "epochs = 30\n",
    "train_corrs = []\n",
    "val_corrs = []\n",
    "best_val_corr = 0.0\n",
    "best_epoch = 0\n",
    "\n",
    "for epoch in range(epochs):\n",
    "    # train\n",
    "    print('epoch', epoch)\n",
    "    train_corr = train_model(train_loader, net, optimizer)\n",
    "    train_corr = float(train_corr.detach().numpy())\n",
    "    train_corrs.append(train_corr)\n",
    "    print(f'train corr: {train_corr:.4f}')\n",
    "    \n",
    "    # val\n",
    "    val_corr = model_eval(net, val_loader)\n",
    "    val_corr = float(val_corr.detach().numpy())\n",
    "    val_corrs.append(val_corr)\n",
    "    print(f'val corr: {val_corr:.4f}')\n",
    "    print()\n",
    "    \n",
    "    # early stoppage\n",
    "#     if epoch - best_epoch > 3:\n",
    "#         if val_corr < best_val_corr:\n",
    "#             print(f'**Early Stoppage** We are stopping at epoch {epoch}...')\n",
    "#             print(f'Best epoch: epoch {best_epoch}')\n",
    "#             print(f'Best val correlation: {val_corr: .4f}')\n",
    "#             break\n",
    "            \n",
    "#     # update\n",
    "#     if val_corr > best_val_corr:\n",
    "#         best_val_corr = max([best_val_corr, val_corr])\n",
    "#         best_epoch = epoch\n",
    "# #         print(epoch, best_epoch, best_val_corr)\n",
    "# #         print()"
   ]
  },
  {
   "cell_type": "code",
   "execution_count": 22,
   "id": "edfe1d15",
   "metadata": {
    "execution": {
     "iopub.execute_input": "2022-11-05T16:45:41.957545Z",
     "iopub.status.busy": "2022-11-05T16:45:41.957000Z",
     "iopub.status.idle": "2022-11-05T16:45:42.465179Z",
     "shell.execute_reply": "2022-11-05T16:45:42.464112Z"
    },
    "papermill": {
     "duration": 0.527941,
     "end_time": "2022-11-05T16:45:42.467822",
     "exception": false,
     "start_time": "2022-11-05T16:45:41.939881",
     "status": "completed"
    },
    "tags": []
   },
   "outputs": [
    {
     "data": {
      "text/plain": [
       "(0.0, 1.0)"
      ]
     },
     "execution_count": 22,
     "metadata": {},
     "output_type": "execute_result"
    },
    {
     "data": {
      "image/png": "[encoded data removed]",
      "text/plain": [
       "<Figure size 576x576 with 1 Axes>"
      ]
     },
     "metadata": {},
     "output_type": "display_data"
    }
   ],
   "source": [
    "figsize(8, 8)\n",
    "plt.scatter(list(range(epochs)), train_corrs, label='training corr')\n",
    "plt.plot(list(range(epochs)), train_corrs)\n",
    "plt.scatter(list(range(epochs)), val_corrs, label='val corr')\n",
    "plt.plot(list(range(epochs)), val_corrs)\n",
    "plt.legend(loc='lower right')\n",
    "plt.title(f'lr = {learning_rate} | wd = {weight_decay}')\n",
    "plt.ylim(0, 1)"
   ]
  },
  {
   "cell_type": "code",
   "execution_count": 23,
   "id": "9e985fee",
   "metadata": {
    "execution": {
     "iopub.execute_input": "2022-11-05T16:45:42.499093Z",
     "iopub.status.busy": "2022-11-05T16:45:42.498438Z",
     "iopub.status.idle": "2022-11-05T16:45:42.661732Z",
     "shell.execute_reply": "2022-11-05T16:45:42.660483Z"
    },
    "papermill": {
     "duration": 0.181424,
     "end_time": "2022-11-05T16:45:42.664172",
     "exception": false,
     "start_time": "2022-11-05T16:45:42.482748",
     "status": "completed"
    },
    "tags": []
   },
   "outputs": [
    {
     "data": {
      "text/plain": [
       "3424"
      ]
     },
     "execution_count": 23,
     "metadata": {},
     "output_type": "execute_result"
    }
   ],
   "source": [
    "del train_inp, train_tar, full_ds\n",
    "gc.collect()"
   ]
  },
  {
   "cell_type": "markdown",
   "id": "3fc8369e",
   "metadata": {
    "papermill": {
     "duration": 0.013785,
     "end_time": "2022-11-05T16:45:42.691610",
     "exception": false,
     "start_time": "2022-11-05T16:45:42.677825",
     "status": "completed"
    },
    "tags": []
   },
   "source": [
    "## Prediction"
   ]
  },
  {
   "cell_type": "code",
   "execution_count": 24,
   "id": "06cbfa61",
   "metadata": {
    "execution": {
     "iopub.execute_input": "2022-11-05T16:45:42.721620Z",
     "iopub.status.busy": "2022-11-05T16:45:42.720904Z",
     "iopub.status.idle": "2022-11-05T16:45:44.013534Z",
     "shell.execute_reply": "2022-11-05T16:45:44.011405Z"
    },
    "papermill": {
     "duration": 1.311762,
     "end_time": "2022-11-05T16:45:44.017083",
     "exception": false,
     "start_time": "2022-11-05T16:45:42.705321",
     "status": "completed"
    },
    "tags": []
   },
   "outputs": [
    {
     "name": "stdout",
     "output_type": "stream",
     "text": [
      "total 5.0G\r\n",
      "-rw-r--r-- 1 nobody nogroup  19K Nov  4 12:17 __notebook__.ipynb\r\n",
      "-rw-r--r-- 1 nobody nogroup 6.1K Nov  4 12:17 __output__.json\r\n",
      "-rw-r--r-- 1 nobody nogroup 286K Nov  4 12:17 __results__.html\r\n",
      "-rw-r--r-- 1 nobody nogroup    0 Nov  4 12:17 custom.css\r\n",
      "-rw-r--r-- 1 nobody nogroup 1.8G Nov  4 12:17 test_inp\r\n",
      "-rw-r--r-- 1 nobody nogroup 3.3G Nov  4 12:18 train_inp\r\n"
     ]
    }
   ],
   "source": [
    "DATA_DIR = '../input/msci-multi-mlp-tsvd'\n",
    "%ls $DATA_DIR -lh"
   ]
  },
  {
   "cell_type": "code",
   "execution_count": 25,
   "id": "969e2056",
   "metadata": {
    "execution": {
     "iopub.execute_input": "2022-11-05T16:45:44.047861Z",
     "iopub.status.busy": "2022-11-05T16:45:44.047402Z",
     "iopub.status.idle": "2022-11-05T16:46:12.777664Z",
     "shell.execute_reply": "2022-11-05T16:46:12.775044Z"
    },
    "papermill": {
     "duration": 28.751764,
     "end_time": "2022-11-05T16:46:12.782889",
     "exception": false,
     "start_time": "2022-11-05T16:45:44.031125",
     "status": "completed"
    },
    "tags": []
   },
   "outputs": [
    {
     "name": "stdout",
     "output_type": "stream",
     "text": [
      "CPU times: user 801 ms, sys: 9.34 s, total: 10.1 s\n",
      "Wall time: 28.7 s\n"
     ]
    }
   ],
   "source": [
    "%%time\n",
    "test_inp = load_pickle(f'{DATA_DIR}/test_inp')\n",
    "test_inp = torch.from_numpy(test_inp)"
   ]
  },
  {
   "cell_type": "code",
   "execution_count": 26,
   "id": "cd8cc818",
   "metadata": {
    "execution": {
     "iopub.execute_input": "2022-11-05T16:46:12.816462Z",
     "iopub.status.busy": "2022-11-05T16:46:12.815935Z",
     "iopub.status.idle": "2022-11-05T16:50:36.495740Z",
     "shell.execute_reply": "2022-11-05T16:50:36.493546Z"
    },
    "papermill": {
     "duration": 263.700308,
     "end_time": "2022-11-05T16:50:36.499370",
     "exception": false,
     "start_time": "2022-11-05T16:46:12.799062",
     "status": "completed"
    },
    "tags": []
   },
   "outputs": [],
   "source": [
    "with torch.no_grad():\n",
    "    net.eval()\n",
    "    test_tar_preds = net(test_inp).detach().numpy()"
   ]
  },
  {
   "cell_type": "code",
   "execution_count": 27,
   "id": "fb910a9e",
   "metadata": {
    "execution": {
     "iopub.execute_input": "2022-11-05T16:50:36.534525Z",
     "iopub.status.busy": "2022-11-05T16:50:36.532874Z",
     "iopub.status.idle": "2022-11-05T16:50:36.922767Z",
     "shell.execute_reply": "2022-11-05T16:50:36.921464Z"
    },
    "papermill": {
     "duration": 0.410762,
     "end_time": "2022-11-05T16:50:36.925451",
     "exception": false,
     "start_time": "2022-11-05T16:50:36.514689",
     "status": "completed"
    },
    "tags": []
   },
   "outputs": [
    {
     "data": {
      "text/plain": [
       "84"
      ]
     },
     "execution_count": 27,
     "metadata": {},
     "output_type": "execute_result"
    }
   ],
   "source": [
    "del test_inp\n",
    "gc.collect()"
   ]
  },
  {
   "cell_type": "markdown",
   "id": "50689703",
   "metadata": {
    "papermill": {
     "duration": 0.016153,
     "end_time": "2022-11-05T16:50:36.956425",
     "exception": false,
     "start_time": "2022-11-05T16:50:36.940272",
     "status": "completed"
    },
    "tags": []
   },
   "source": [
    "## Creating Submission"
   ]
  },
  {
   "cell_type": "code",
   "execution_count": 28,
   "id": "a4e504a5",
   "metadata": {
    "execution": {
     "iopub.execute_input": "2022-11-05T16:50:36.989689Z",
     "iopub.status.busy": "2022-11-05T16:50:36.989028Z",
     "iopub.status.idle": "2022-11-05T16:50:38.393062Z",
     "shell.execute_reply": "2022-11-05T16:50:38.391700Z"
    },
    "papermill": {
     "duration": 1.423836,
     "end_time": "2022-11-05T16:50:38.396298",
     "exception": false,
     "start_time": "2022-11-05T16:50:36.972462",
     "status": "completed"
    },
    "tags": []
   },
   "outputs": [
    {
     "name": "stdout",
     "output_type": "stream",
     "text": [
      "total 7.1G\r\n",
      "-rw-r--r-- 1 nobody nogroup  25K Oct 25 09:30 __notebook__.ipynb\r\n",
      "-rw-r--r-- 1 nobody nogroup  25K Oct 25 09:30 __output__.json\r\n",
      "-rw-r--r-- 1 nobody nogroup 293K Oct 25 09:30 __results__.html\r\n",
      "-rw-r--r-- 1 nobody nogroup    0 Oct 25 09:30 custom.css\r\n",
      "-rw-r--r-- 1 nobody nogroup 359M Oct 25 09:30 evaluation_ids.parquet\r\n",
      "-rw-r--r-- 1 nobody nogroup 3.8M Oct 25 09:30 metadata.parquet\r\n",
      "-rw-r--r-- 1 nobody nogroup 108K Oct 25 09:30 metadata_cite_day_2_donor_27678.parquet\r\n",
      "-rw-r--r-- 1 nobody nogroup 252M Oct 25 09:30 sample_submission.parquet\r\n",
      "-rw-r--r-- 1 nobody nogroup 856K Oct 25 09:30 test_cite_inputs_day_2_donor_27678_idx.npz\r\n",
      "-rw-r--r-- 1 nobody nogroup  78M Oct 25 09:30 test_cite_inputs_day_2_donor_27678_val.sparse.npz\r\n",
      "-rw-r--r-- 1 nobody nogroup 1.8M Oct 25 09:30 test_cite_inputs_idx.npz\r\n",
      "-rw-r--r-- 1 nobody nogroup 488M Oct 25 09:31 test_cite_inputs_val.sparse.npz\r\n",
      "-rw-r--r-- 1 nobody nogroup 8.4M Oct 25 09:30 test_multi_inputs_idx.npz\r\n",
      "-rw-r--r-- 1 nobody nogroup 1.7G Oct 25 09:31 test_multi_inputs_val.sparse.npz\r\n",
      "-rw-r--r-- 1 nobody nogroup 2.2M Oct 25 09:30 train_cite_inputs_idx.npz\r\n",
      "-rw-r--r-- 1 nobody nogroup 712M Oct 25 09:31 train_cite_inputs_val.sparse.npz\r\n",
      "-rw-r--r-- 1 nobody nogroup 1.5M Oct 25 09:30 train_cite_targets_idx.npz\r\n",
      "-rw-r--r-- 1 nobody nogroup  36M Oct 25 09:30 train_cite_targets_val.sparse.npz\r\n",
      "-rw-r--r-- 1 nobody nogroup 9.5M Oct 25 09:30 train_multi_inputs_idx.npz\r\n",
      "-rw-r--r-- 1 nobody nogroup 2.8G Oct 25 09:31 train_multi_inputs_val.sparse.npz\r\n",
      "-rw-r--r-- 1 nobody nogroup 2.8M Oct 25 09:30 train_multi_targets_idx.npz\r\n",
      "-rw-r--r-- 1 nobody nogroup 824M Oct 25 09:31 train_multi_targets_val.sparse.npz\r\n"
     ]
    }
   ],
   "source": [
    "DATA_DIR = '../input/msci-h5-sparse-transform'\n",
    "%ls $DATA_DIR -lh"
   ]
  },
  {
   "cell_type": "code",
   "execution_count": 29,
   "id": "4a29774c",
   "metadata": {
    "execution": {
     "iopub.execute_input": "2022-11-05T16:50:38.429192Z",
     "iopub.status.busy": "2022-11-05T16:50:38.428286Z",
     "iopub.status.idle": "2022-11-05T16:50:38.562061Z",
     "shell.execute_reply": "2022-11-05T16:50:38.559871Z"
    },
    "papermill": {
     "duration": 0.154987,
     "end_time": "2022-11-05T16:50:38.566254",
     "exception": false,
     "start_time": "2022-11-05T16:50:38.411267",
     "status": "completed"
    },
    "tags": []
   },
   "outputs": [
    {
     "data": {
      "text/plain": [
       "((23418,), (55935,), (55935, 23418))"
      ]
     },
     "execution_count": 29,
     "metadata": {},
     "output_type": "execute_result"
    }
   ],
   "source": [
    "test_tar_cols = np.load(f'{DATA_DIR}/train_multi_targets_idx.npz',\n",
    "                        allow_pickle=True)['columns']\n",
    "test_tar_idx = np.load(f'{DATA_DIR}/test_multi_inputs_idx.npz',\n",
    "                       allow_pickle=True)['index']\n",
    "test_tar_cols.shape, test_tar_idx.shape, test_tar_preds.shape"
   ]
  },
  {
   "cell_type": "code",
   "execution_count": 30,
   "id": "2d117e5f",
   "metadata": {
    "execution": {
     "iopub.execute_input": "2022-11-05T16:50:38.607939Z",
     "iopub.status.busy": "2022-11-05T16:50:38.606354Z",
     "iopub.status.idle": "2022-11-05T16:51:18.668856Z",
     "shell.execute_reply": "2022-11-05T16:51:18.667164Z"
    },
    "papermill": {
     "duration": 40.098411,
     "end_time": "2022-11-05T16:51:18.682695",
     "exception": false,
     "start_time": "2022-11-05T16:50:38.584284",
     "status": "completed"
    },
    "tags": []
   },
   "outputs": [
    {
     "name": "stdout",
     "output_type": "stream",
     "text": [
      "Start Eval...\n",
      "CPU times: user 34.1 s, sys: 9.46 s, total: 43.6 s\n",
      "Wall time: 40 s\n"
     ]
    }
   ],
   "source": [
    "%%time\n",
    "print('Start Eval...')\n",
    "eval_ids = pd.read_parquet(f'{DATA_DIR}/evaluation_ids.parquet')\n",
    "eval_ids.cell_id = eval_ids.cell_id.astype(pd.CategoricalDtype())\n",
    "eval_ids.gene_id = eval_ids.gene_id.astype(pd.CategoricalDtype())"
   ]
  },
  {
   "cell_type": "code",
   "execution_count": 31,
   "id": "61ca42af",
   "metadata": {
    "execution": {
     "iopub.execute_input": "2022-11-05T16:51:18.715651Z",
     "iopub.status.busy": "2022-11-05T16:51:18.714909Z",
     "iopub.status.idle": "2022-11-05T16:51:49.963694Z",
     "shell.execute_reply": "2022-11-05T16:51:49.961719Z"
    },
    "papermill": {
     "duration": 31.268704,
     "end_time": "2022-11-05T16:51:49.966897",
     "exception": false,
     "start_time": "2022-11-05T16:51:18.698193",
     "status": "completed"
    },
    "tags": []
   },
   "outputs": [
    {
     "name": "stdout",
     "output_type": "stream",
     "text": [
      "CPU times: user 24.7 s, sys: 6.29 s, total: 30.9 s\n",
      "Wall time: 31 s\n"
     ]
    },
    {
     "data": {
      "text/plain": [
       "row_id    cell_id       gene_id        \n",
       "0         c2150f55becb  CD86              NaN\n",
       "1         c2150f55becb  CD274             NaN\n",
       "2         c2150f55becb  CD270             NaN\n",
       "3         c2150f55becb  CD155             NaN\n",
       "4         c2150f55becb  CD112             NaN\n",
       "                                           ..\n",
       "65744175  2c53aa67933d  ENSG00000134419   NaN\n",
       "65744176  2c53aa67933d  ENSG00000186862   NaN\n",
       "65744177  2c53aa67933d  ENSG00000170959   NaN\n",
       "65744178  2c53aa67933d  ENSG00000107874   NaN\n",
       "65744179  2c53aa67933d  ENSG00000166012   NaN\n",
       "Name: target, Length: 65744180, dtype: float32"
      ]
     },
     "execution_count": 31,
     "metadata": {},
     "output_type": "execute_result"
    }
   ],
   "source": [
    "%%time\n",
    "sub = pd.Series(name='target',\n",
    "                index=pd.MultiIndex.from_frame(eval_ids), \n",
    "                dtype=np.float32)\n",
    "sub"
   ]
  },
  {
   "cell_type": "code",
   "execution_count": 32,
   "id": "05c4091c",
   "metadata": {
    "execution": {
     "iopub.execute_input": "2022-11-05T16:51:50.001243Z",
     "iopub.status.busy": "2022-11-05T16:51:50.000512Z",
     "iopub.status.idle": "2022-11-05T16:51:50.026555Z",
     "shell.execute_reply": "2022-11-05T16:51:50.024939Z"
    },
    "papermill": {
     "duration": 0.046848,
     "end_time": "2022-11-05T16:51:50.030227",
     "exception": false,
     "start_time": "2022-11-05T16:51:49.983379",
     "status": "completed"
    },
    "tags": []
   },
   "outputs": [],
   "source": [
    "cell_id_dict = {cell_id: idx \n",
    "                for idx, cell_id in enumerate(test_tar_idx, 0)}\n",
    "gene_id_dict = {gene_id: idx \n",
    "                for idx, gene_id in enumerate(test_tar_cols, 0)}"
   ]
  },
  {
   "cell_type": "code",
   "execution_count": 33,
   "id": "b066db01",
   "metadata": {
    "execution": {
     "iopub.execute_input": "2022-11-05T16:51:50.064785Z",
     "iopub.status.busy": "2022-11-05T16:51:50.063451Z",
     "iopub.status.idle": "2022-11-05T16:51:52.397091Z",
     "shell.execute_reply": "2022-11-05T16:51:52.395784Z"
    },
    "papermill": {
     "duration": 2.354553,
     "end_time": "2022-11-05T16:51:52.401032",
     "exception": false,
     "start_time": "2022-11-05T16:51:50.046479",
     "status": "completed"
    },
    "tags": []
   },
   "outputs": [],
   "source": [
    "eid_cid_idx = eval_ids['cell_id']\\\n",
    "              .apply(lambda x: cell_id_dict.get(x, -1))\n",
    "eid_gid_idx = eval_ids['gene_id']\\\n",
    "              .apply(lambda x: gene_id_dict.get(x, -1))\n",
    "valid_multi_rows = (eid_cid_idx != -1) & (eid_gid_idx != -1)"
   ]
  },
  {
   "cell_type": "code",
   "execution_count": 34,
   "id": "bd186087",
   "metadata": {
    "execution": {
     "iopub.execute_input": "2022-11-05T16:51:52.441458Z",
     "iopub.status.busy": "2022-11-05T16:51:52.441014Z",
     "iopub.status.idle": "2022-11-05T16:51:56.391778Z",
     "shell.execute_reply": "2022-11-05T16:51:56.389355Z"
    },
    "papermill": {
     "duration": 3.972023,
     "end_time": "2022-11-05T16:51:56.395010",
     "exception": false,
     "start_time": "2022-11-05T16:51:52.422987",
     "status": "completed"
    },
    "tags": []
   },
   "outputs": [
    {
     "name": "stdout",
     "output_type": "stream",
     "text": [
      "CPU times: user 1.88 s, sys: 2.03 s, total: 3.92 s\n",
      "Wall time: 3.94 s\n"
     ]
    }
   ],
   "source": [
    "%%time\n",
    "sub.iloc[valid_multi_rows] = test_tar_preds\\\n",
    "                             [eid_cid_idx[valid_multi_rows].to_numpy(),\n",
    "                              eid_gid_idx[valid_multi_rows].to_numpy()]"
   ]
  },
  {
   "cell_type": "code",
   "execution_count": 35,
   "id": "d093c5f3",
   "metadata": {
    "execution": {
     "iopub.execute_input": "2022-11-05T16:51:56.430253Z",
     "iopub.status.busy": "2022-11-05T16:51:56.429847Z",
     "iopub.status.idle": "2022-11-05T16:51:56.634447Z",
     "shell.execute_reply": "2022-11-05T16:51:56.632798Z"
    },
    "papermill": {
     "duration": 0.227499,
     "end_time": "2022-11-05T16:51:56.638004",
     "exception": false,
     "start_time": "2022-11-05T16:51:56.410505",
     "status": "completed"
    },
    "tags": []
   },
   "outputs": [
    {
     "data": {
      "text/plain": [
       "97"
      ]
     },
     "execution_count": 35,
     "metadata": {},
     "output_type": "execute_result"
    }
   ],
   "source": [
    "del eval_ids, test_tar_idx, test_tar_cols\n",
    "del eid_cid_idx, eid_gid_idx, valid_multi_rows\n",
    "gc.collect()"
   ]
  },
  {
   "cell_type": "code",
   "execution_count": 36,
   "id": "1950c438",
   "metadata": {
    "execution": {
     "iopub.execute_input": "2022-11-05T16:51:56.673061Z",
     "iopub.status.busy": "2022-11-05T16:51:56.672638Z",
     "iopub.status.idle": "2022-11-05T16:53:49.518363Z",
     "shell.execute_reply": "2022-11-05T16:53:49.516523Z"
    },
    "papermill": {
     "duration": 112.866918,
     "end_time": "2022-11-05T16:53:49.521549",
     "exception": false,
     "start_time": "2022-11-05T16:51:56.654631",
     "status": "completed"
    },
    "tags": []
   },
   "outputs": [],
   "source": [
    "sub = pd.DataFrame(sub).fillna(0).reset_index()\n",
    "sub.drop(['cell_id', 'gene_id'], axis=1)\\\n",
    "   .to_csv('multi_sub.csv', index=False)"
   ]
  },
  {
   "cell_type": "code",
   "execution_count": 37,
   "id": "85917a03",
   "metadata": {
    "execution": {
     "iopub.execute_input": "2022-11-05T16:53:49.556567Z",
     "iopub.status.busy": "2022-11-05T16:53:49.555221Z",
     "iopub.status.idle": "2022-11-05T16:53:49.579478Z",
     "shell.execute_reply": "2022-11-05T16:53:49.577969Z"
    },
    "papermill": {
     "duration": 0.0451,
     "end_time": "2022-11-05T16:53:49.582871",
     "exception": false,
     "start_time": "2022-11-05T16:53:49.537771",
     "status": "completed"
    },
    "tags": []
   },
   "outputs": [
    {
     "data": {
      "text/html": [
       "<div>\n",
       "<style scoped>\n",
       "    .dataframe tbody tr th:only-of-type {\n",
       "        vertical-align: middle;\n",
       "    }\n",
       "\n",
       "    .dataframe tbody tr th {\n",
       "        vertical-align: top;\n",
       "    }\n",
       "\n",
       "    .dataframe thead th {\n",
       "        text-align: right;\n",
       "    }\n",
       "</style>\n",
       "<table border=\"1\" class=\"dataframe\">\n",
       "  <thead>\n",
       "    <tr style=\"text-align: right;\">\n",
       "      <th></th>\n",
       "      <th>row_id</th>\n",
       "      <th>cell_id</th>\n",
       "      <th>gene_id</th>\n",
       "      <th>target</th>\n",
       "    </tr>\n",
       "  </thead>\n",
       "  <tbody>\n",
       "    <tr>\n",
       "      <th>65744175</th>\n",
       "      <td>65744175</td>\n",
       "      <td>2c53aa67933d</td>\n",
       "      <td>ENSG00000134419</td>\n",
       "      <td>0.011557</td>\n",
       "    </tr>\n",
       "    <tr>\n",
       "      <th>65744176</th>\n",
       "      <td>65744176</td>\n",
       "      <td>2c53aa67933d</td>\n",
       "      <td>ENSG00000186862</td>\n",
       "      <td>0.000000</td>\n",
       "    </tr>\n",
       "    <tr>\n",
       "      <th>65744177</th>\n",
       "      <td>65744177</td>\n",
       "      <td>2c53aa67933d</td>\n",
       "      <td>ENSG00000170959</td>\n",
       "      <td>0.000000</td>\n",
       "    </tr>\n",
       "    <tr>\n",
       "      <th>65744178</th>\n",
       "      <td>65744178</td>\n",
       "      <td>2c53aa67933d</td>\n",
       "      <td>ENSG00000107874</td>\n",
       "      <td>0.002184</td>\n",
       "    </tr>\n",
       "    <tr>\n",
       "      <th>65744179</th>\n",
       "      <td>65744179</td>\n",
       "      <td>2c53aa67933d</td>\n",
       "      <td>ENSG00000166012</td>\n",
       "      <td>0.008486</td>\n",
       "    </tr>\n",
       "  </tbody>\n",
       "</table>\n",
       "</div>"
      ],
      "text/plain": [
       "            row_id       cell_id          gene_id    target\n",
       "65744175  65744175  2c53aa67933d  ENSG00000134419  0.011557\n",
       "65744176  65744176  2c53aa67933d  ENSG00000186862  0.000000\n",
       "65744177  65744177  2c53aa67933d  ENSG00000170959  0.000000\n",
       "65744178  65744178  2c53aa67933d  ENSG00000107874  0.002184\n",
       "65744179  65744179  2c53aa67933d  ENSG00000166012  0.008486"
      ]
     },
     "execution_count": 37,
     "metadata": {},
     "output_type": "execute_result"
    }
   ],
   "source": [
    "sub.tail()"
   ]
  },
  {
   "cell_type": "code",
   "execution_count": null,
   "id": "267958cf",
   "metadata": {
    "papermill": {
     "duration": 0.016506,
     "end_time": "2022-11-05T16:53:49.617221",
     "exception": false,
     "start_time": "2022-11-05T16:53:49.600715",
     "status": "completed"
    },
    "tags": []
   },
   "outputs": [],
   "source": []
  }
 ],
 "metadata": {
  "kernelspec": {
   "display_name": "Python 3",
   "language": "python",
   "name": "python3"
  },
  "language_info": {
   "codemirror_mode": {
    "name": "ipython",
    "version": 3
   },
   "file_extension": ".py",
   "mimetype": "text/x-python",
   "name": "python",
   "nbconvert_exporter": "python",
   "pygments_lexer": "ipython3",
   "version": "3.7.12"
  },
  "papermill": {
   "default_parameters": {},
   "duration": 12890.246734,
   "end_time": "2022-11-05T16:53:52.383482",
   "environment_variables": {},
   "exception": null,
   "input_path": "__notebook__.ipynb",
   "output_path": "__notebook__.ipynb",
   "parameters": {},
   "start_time": "2022-11-05T13:19:02.136748",
   "version": "2.3.4"
  }
 },
 "nbformat": 4,
 "nbformat_minor": 5
}
