{
 "cells": [
  {
   "cell_type": "code",
   "execution_count": 1,
   "id": "0489efa4",
   "metadata": {
    "_cell_guid": "b1076dfc-b9ad-4769-8c92-a6c4dae69d19",
    "_uuid": "8f2839f25d086af736a60e9eeb907d3b93b6e0e5",
    "execution": {
     "iopub.execute_input": "2022-11-06T17:01:38.508639Z",
     "iopub.status.busy": "2022-11-06T17:01:38.507892Z",
     "iopub.status.idle": "2022-11-06T17:01:38.575457Z",
     "shell.execute_reply": "2022-11-06T17:01:38.574613Z"
    },
    "papermill": {
     "duration": 0.081516,
     "end_time": "2022-11-06T17:01:38.577682",
     "exception": false,
     "start_time": "2022-11-06T17:01:38.496166",
     "status": "completed"
    },
    "tags": []
   },
   "outputs": [],
   "source": [
    "import os\n",
    "import os.path\n",
    "import random\n",
    "import gc\n",
    "import numpy as np\n",
    "import pandas as pd\n",
    "import scipy.sparse\n",
    "from tqdm import tqdm"
   ]
  },
  {
   "cell_type": "code",
   "execution_count": 2,
   "id": "7d71a376",
   "metadata": {
    "execution": {
     "iopub.execute_input": "2022-11-06T17:01:38.597085Z",
     "iopub.status.busy": "2022-11-06T17:01:38.596203Z",
     "iopub.status.idle": "2022-11-06T17:01:38.600872Z",
     "shell.execute_reply": "2022-11-06T17:01:38.600053Z"
    },
    "papermill": {
     "duration": 0.015994,
     "end_time": "2022-11-06T17:01:38.602765",
     "exception": false,
     "start_time": "2022-11-06T17:01:38.586771",
     "status": "completed"
    },
    "tags": []
   },
   "outputs": [],
   "source": [
    "import warnings \n",
    "warnings.filterwarnings('ignore')"
   ]
  },
  {
   "cell_type": "code",
   "execution_count": 3,
   "id": "0679aac4",
   "metadata": {
    "execution": {
     "iopub.execute_input": "2022-11-06T17:01:38.623273Z",
     "iopub.status.busy": "2022-11-06T17:01:38.622483Z",
     "iopub.status.idle": "2022-11-06T17:01:39.368888Z",
     "shell.execute_reply": "2022-11-06T17:01:39.367943Z"
    },
    "papermill": {
     "duration": 0.758019,
     "end_time": "2022-11-06T17:01:39.371139",
     "exception": false,
     "start_time": "2022-11-06T17:01:38.613120",
     "status": "completed"
    },
    "tags": []
   },
   "outputs": [],
   "source": [
    "import seaborn as sns\n",
    "import matplotlib\n",
    "import matplotlib.pyplot as plt\n",
    "from IPython.core.pylabtools import figsize"
   ]
  },
  {
   "cell_type": "code",
   "execution_count": 4,
   "id": "04a604a5",
   "metadata": {
    "execution": {
     "iopub.execute_input": "2022-11-06T17:01:39.391385Z",
     "iopub.status.busy": "2022-11-06T17:01:39.389924Z",
     "iopub.status.idle": "2022-11-06T17:01:39.396018Z",
     "shell.execute_reply": "2022-11-06T17:01:39.395209Z"
    },
    "papermill": {
     "duration": 0.017616,
     "end_time": "2022-11-06T17:01:39.397986",
     "exception": false,
     "start_time": "2022-11-06T17:01:39.380370",
     "status": "completed"
    },
    "tags": []
   },
   "outputs": [],
   "source": [
    "sns.set()"
   ]
  },
  {
   "cell_type": "code",
   "execution_count": 5,
   "id": "f9dfb52d",
   "metadata": {
    "execution": {
     "iopub.execute_input": "2022-11-06T17:01:39.416541Z",
     "iopub.status.busy": "2022-11-06T17:01:39.415770Z",
     "iopub.status.idle": "2022-11-06T17:01:39.421253Z",
     "shell.execute_reply": "2022-11-06T17:01:39.420447Z"
    },
    "papermill": {
     "duration": 0.016722,
     "end_time": "2022-11-06T17:01:39.423159",
     "exception": false,
     "start_time": "2022-11-06T17:01:39.406437",
     "status": "completed"
    },
    "tags": []
   },
   "outputs": [],
   "source": [
    "import pickle\n",
    "\n",
    "def dump_pickle(file, filename):\n",
    "    outfile = open(filename, 'wb')\n",
    "    pickle.dump(file, outfile)\n",
    "    outfile.close()\n",
    "\n",
    "def load_pickle(filename):\n",
    "    infile = open(filename, 'rb')\n",
    "    file = pickle.load(infile)\n",
    "    infile.close()\n",
    "    return file"
   ]
  },
  {
   "cell_type": "markdown",
   "id": "b3a73fc8",
   "metadata": {
    "papermill": {
     "duration": 0.008388,
     "end_time": "2022-11-06T17:01:39.440090",
     "exception": false,
     "start_time": "2022-11-06T17:01:39.431702",
     "status": "completed"
    },
    "tags": []
   },
   "source": [
    "## Read Data"
   ]
  },
  {
   "cell_type": "code",
   "execution_count": 6,
   "id": "3de17247",
   "metadata": {
    "execution": {
     "iopub.execute_input": "2022-11-06T17:01:39.468741Z",
     "iopub.status.busy": "2022-11-06T17:01:39.468367Z",
     "iopub.status.idle": "2022-11-06T17:01:40.497456Z",
     "shell.execute_reply": "2022-11-06T17:01:40.496173Z"
    },
    "papermill": {
     "duration": 1.049469,
     "end_time": "2022-11-06T17:01:40.499733",
     "exception": false,
     "start_time": "2022-11-06T17:01:39.450264",
     "status": "completed"
    },
    "tags": []
   },
   "outputs": [
    {
     "name": "stdout",
     "output_type": "stream",
     "text": [
      "total 7.1G\r\n",
      "-rw-r--r-- 1 nobody nogroup  25K Nov  2 12:50 __notebook__.ipynb\r\n",
      "-rw-r--r-- 1 nobody nogroup  25K Nov  2 12:50 __output__.json\r\n",
      "-rw-r--r-- 1 nobody nogroup 293K Nov  2 12:50 __results__.html\r\n",
      "-rw-r--r-- 1 nobody nogroup    0 Nov  2 12:50 custom.css\r\n",
      "-rw-r--r-- 1 nobody nogroup 359M Nov  2 12:50 evaluation_ids.parquet\r\n",
      "-rw-r--r-- 1 nobody nogroup 3.8M Nov  2 12:50 metadata.parquet\r\n",
      "-rw-r--r-- 1 nobody nogroup 108K Nov  2 12:50 metadata_cite_day_2_donor_27678.parquet\r\n",
      "-rw-r--r-- 1 nobody nogroup 252M Nov  2 12:50 sample_submission.parquet\r\n",
      "-rw-r--r-- 1 nobody nogroup 856K Nov  2 12:50 test_cite_inputs_day_2_donor_27678_idx.npz\r\n",
      "-rw-r--r-- 1 nobody nogroup  78M Nov  2 12:50 test_cite_inputs_day_2_donor_27678_val.sparse.npz\r\n",
      "-rw-r--r-- 1 nobody nogroup 1.8M Nov  2 12:50 test_cite_inputs_idx.npz\r\n",
      "-rw-r--r-- 1 nobody nogroup 488M Nov  2 12:51 test_cite_inputs_val.sparse.npz\r\n",
      "-rw-r--r-- 1 nobody nogroup 8.4M Nov  2 12:50 test_multi_inputs_idx.npz\r\n",
      "-rw-r--r-- 1 nobody nogroup 1.7G Nov  2 12:51 test_multi_inputs_val.sparse.npz\r\n",
      "-rw-r--r-- 1 nobody nogroup 2.2M Nov  2 12:50 train_cite_inputs_idx.npz\r\n",
      "-rw-r--r-- 1 nobody nogroup 712M Nov  2 12:51 train_cite_inputs_val.sparse.npz\r\n",
      "-rw-r--r-- 1 nobody nogroup 1.5M Nov  2 12:50 train_cite_targets_idx.npz\r\n",
      "-rw-r--r-- 1 nobody nogroup  36M Nov  2 12:50 train_cite_targets_val.sparse.npz\r\n",
      "-rw-r--r-- 1 nobody nogroup 9.5M Nov  2 12:50 train_multi_inputs_idx.npz\r\n",
      "-rw-r--r-- 1 nobody nogroup 2.8G Nov  2 12:52 train_multi_inputs_val.sparse.npz\r\n",
      "-rw-r--r-- 1 nobody nogroup 2.8M Nov  2 12:50 train_multi_targets_idx.npz\r\n",
      "-rw-r--r-- 1 nobody nogroup 824M Nov  2 12:51 train_multi_targets_val.sparse.npz\r\n"
     ]
    }
   ],
   "source": [
    "DATA_DIR = '../input/msci-h5-sparse-transform'\n",
    "%ls $DATA_DIR -lh"
   ]
  },
  {
   "cell_type": "code",
   "execution_count": 7,
   "id": "f650e394",
   "metadata": {
    "execution": {
     "iopub.execute_input": "2022-11-06T17:01:40.519122Z",
     "iopub.status.busy": "2022-11-06T17:01:40.518791Z",
     "iopub.status.idle": "2022-11-06T17:02:39.231980Z",
     "shell.execute_reply": "2022-11-06T17:02:39.231021Z"
    },
    "papermill": {
     "duration": 58.735249,
     "end_time": "2022-11-06T17:02:39.244057",
     "exception": false,
     "start_time": "2022-11-06T17:01:40.508808",
     "status": "completed"
    },
    "tags": []
   },
   "outputs": [
    {
     "name": "stdout",
     "output_type": "stream",
     "text": [
      "CPU times: user 28.5 s, sys: 2.02 s, total: 30.6 s\n",
      "Wall time: 58.7 s\n"
     ]
    },
    {
     "data": {
      "text/plain": [
       "(105942, 228942)"
      ]
     },
     "execution_count": 7,
     "metadata": {},
     "output_type": "execute_result"
    }
   ],
   "source": [
    "%%time\n",
    "train_inp = scipy.sparse.load_npz(f'{DATA_DIR}/train_multi_inputs_val.sparse.npz')\n",
    "train_inp.shape"
   ]
  },
  {
   "cell_type": "code",
   "execution_count": 8,
   "id": "2963d09b",
   "metadata": {
    "execution": {
     "iopub.execute_input": "2022-11-06T17:02:39.263716Z",
     "iopub.status.busy": "2022-11-06T17:02:39.263429Z",
     "iopub.status.idle": "2022-11-06T17:03:02.139744Z",
     "shell.execute_reply": "2022-11-06T17:03:02.138474Z"
    },
    "papermill": {
     "duration": 22.889305,
     "end_time": "2022-11-06T17:03:02.142568",
     "exception": false,
     "start_time": "2022-11-06T17:02:39.253263",
     "status": "completed"
    },
    "tags": []
   },
   "outputs": [
    {
     "name": "stdout",
     "output_type": "stream",
     "text": [
      "CPU times: user 12.8 s, sys: 1.86 s, total: 14.7 s\n",
      "Wall time: 22.9 s\n"
     ]
    },
    {
     "data": {
      "text/plain": [
       "(105942, 23418)"
      ]
     },
     "execution_count": 8,
     "metadata": {},
     "output_type": "execute_result"
    }
   ],
   "source": [
    "%%time\n",
    "train_tar = scipy.sparse.load_npz(f'{DATA_DIR}/train_multi_targets_val.sparse.npz')\n",
    "train_tar.shape"
   ]
  },
  {
   "cell_type": "markdown",
   "id": "45b5f8fd",
   "metadata": {
    "papermill": {
     "duration": 0.008985,
     "end_time": "2022-11-06T17:03:02.161168",
     "exception": false,
     "start_time": "2022-11-06T17:03:02.152183",
     "status": "completed"
    },
    "tags": []
   },
   "source": [
    "## Modeling"
   ]
  },
  {
   "cell_type": "code",
   "execution_count": 9,
   "id": "ab0a835e",
   "metadata": {
    "execution": {
     "iopub.execute_input": "2022-11-06T17:03:02.180664Z",
     "iopub.status.busy": "2022-11-06T17:03:02.180350Z",
     "iopub.status.idle": "2022-11-06T17:03:03.659407Z",
     "shell.execute_reply": "2022-11-06T17:03:03.658410Z"
    },
    "papermill": {
     "duration": 1.491384,
     "end_time": "2022-11-06T17:03:03.661831",
     "exception": false,
     "start_time": "2022-11-06T17:03:02.170447",
     "status": "completed"
    },
    "tags": []
   },
   "outputs": [],
   "source": [
    "import torch\n",
    "import torch.nn as nn\n",
    "import torch.nn.functional as F\n",
    "import torch.optim as optim\n",
    "from torch.utils.data import DataLoader, TensorDataset, Dataset, random_split"
   ]
  },
  {
   "cell_type": "code",
   "execution_count": 10,
   "id": "a0d6cb55",
   "metadata": {
    "execution": {
     "iopub.execute_input": "2022-11-06T17:03:03.682544Z",
     "iopub.status.busy": "2022-11-06T17:03:03.681857Z",
     "iopub.status.idle": "2022-11-06T17:03:03.746319Z",
     "shell.execute_reply": "2022-11-06T17:03:03.745489Z"
    },
    "papermill": {
     "duration": 0.076617,
     "end_time": "2022-11-06T17:03:03.748328",
     "exception": false,
     "start_time": "2022-11-06T17:03:03.671711",
     "status": "completed"
    },
    "tags": []
   },
   "outputs": [
    {
     "data": {
      "text/plain": [
       "device(type='cuda')"
      ]
     },
     "execution_count": 10,
     "metadata": {},
     "output_type": "execute_result"
    }
   ],
   "source": [
    "def get_default_device():\n",
    "    \"\"\"Pick GPU if available, else CPU\"\"\"\n",
    "    if torch.cuda.is_available():\n",
    "        return torch.device('cuda')\n",
    "    else:\n",
    "        return torch.device('cpu')\n",
    "\n",
    "device = get_default_device()\n",
    "device"
   ]
  },
  {
   "cell_type": "code",
   "execution_count": 11,
   "id": "2586a348",
   "metadata": {
    "execution": {
     "iopub.execute_input": "2022-11-06T17:03:03.768575Z",
     "iopub.status.busy": "2022-11-06T17:03:03.767763Z",
     "iopub.status.idle": "2022-11-06T17:03:03.773494Z",
     "shell.execute_reply": "2022-11-06T17:03:03.772454Z"
    },
    "papermill": {
     "duration": 0.017979,
     "end_time": "2022-11-06T17:03:03.775526",
     "exception": false,
     "start_time": "2022-11-06T17:03:03.757547",
     "status": "completed"
    },
    "tags": []
   },
   "outputs": [],
   "source": [
    "class SparseDataset(TensorDataset):\n",
    "    # https://discuss.pytorch.org/t/dataloader-loads-data-very-slow-on-sparse-tensor/117391/2\n",
    "    def __init__(self, inputs, targets):\n",
    "        self.inputs = inputs\n",
    "        self.targets = targets\n",
    "    \n",
    "    def __getitem__(self, index):\n",
    "        return self.inputs[index], self.targets[index]\n",
    "    \n",
    "    def __len__(self):\n",
    "        return self.inputs.shape[0]"
   ]
  },
  {
   "cell_type": "code",
   "execution_count": 12,
   "id": "a4887b0a",
   "metadata": {
    "execution": {
     "iopub.execute_input": "2022-11-06T17:03:03.794977Z",
     "iopub.status.busy": "2022-11-06T17:03:03.794703Z",
     "iopub.status.idle": "2022-11-06T17:03:03.799934Z",
     "shell.execute_reply": "2022-11-06T17:03:03.799031Z"
    },
    "papermill": {
     "duration": 0.017363,
     "end_time": "2022-11-06T17:03:03.802058",
     "exception": false,
     "start_time": "2022-11-06T17:03:03.784695",
     "status": "completed"
    },
    "tags": []
   },
   "outputs": [],
   "source": [
    "def sparse_coo_to_tensor(coo):\n",
    "    values = coo.data\n",
    "    indices = np.vstack((coo.row, coo.col))\n",
    "    shape = coo.shape\n",
    "    \n",
    "    i = torch.LongTensor(indices)\n",
    "    v = torch.FloatTensor(values)\n",
    "    s = torch.Size(shape)\n",
    "    \n",
    "    return torch.sparse.FloatTensor(i, v, s)"
   ]
  },
  {
   "cell_type": "code",
   "execution_count": 13,
   "id": "588dfe01",
   "metadata": {
    "execution": {
     "iopub.execute_input": "2022-11-06T17:03:03.821725Z",
     "iopub.status.busy": "2022-11-06T17:03:03.820967Z",
     "iopub.status.idle": "2022-11-06T17:03:03.825772Z",
     "shell.execute_reply": "2022-11-06T17:03:03.824914Z"
    },
    "papermill": {
     "duration": 0.016602,
     "end_time": "2022-11-06T17:03:03.827704",
     "exception": false,
     "start_time": "2022-11-06T17:03:03.811102",
     "status": "completed"
    },
    "tags": []
   },
   "outputs": [],
   "source": [
    "def sparse_batch_collate(batch):\n",
    "    inputs_batch, targets_batch = zip(*batch)\n",
    "    inputs_batch = sparse_coo_to_tensor(scipy.sparse.vstack(inputs_batch).tocoo())\n",
    "    targets_batch = sparse_coo_to_tensor(scipy.sparse.vstack(targets_batch).tocoo())\n",
    "    return inputs_batch, targets_batch"
   ]
  },
  {
   "cell_type": "code",
   "execution_count": 14,
   "id": "e705ce4a",
   "metadata": {
    "execution": {
     "iopub.execute_input": "2022-11-06T17:03:03.847700Z",
     "iopub.status.busy": "2022-11-06T17:03:03.846949Z",
     "iopub.status.idle": "2022-11-06T17:03:03.861458Z",
     "shell.execute_reply": "2022-11-06T17:03:03.860642Z"
    },
    "papermill": {
     "duration": 0.026662,
     "end_time": "2022-11-06T17:03:03.863539",
     "exception": false,
     "start_time": "2022-11-06T17:03:03.836877",
     "status": "completed"
    },
    "tags": []
   },
   "outputs": [],
   "source": [
    "full_ds = SparseDataset(train_inp, train_tar)\n",
    "train_sz = 84992\n",
    "val_sz = len(full_ds) - train_sz\n",
    "train_ds, val_ds = random_split(full_ds, \n",
    "                                [train_sz, val_sz],\n",
    "                                generator=torch.Generator().manual_seed(42))"
   ]
  },
  {
   "cell_type": "code",
   "execution_count": 15,
   "id": "8c511006",
   "metadata": {
    "execution": {
     "iopub.execute_input": "2022-11-06T17:03:03.883066Z",
     "iopub.status.busy": "2022-11-06T17:03:03.882360Z",
     "iopub.status.idle": "2022-11-06T17:03:03.887122Z",
     "shell.execute_reply": "2022-11-06T17:03:03.886246Z"
    },
    "papermill": {
     "duration": 0.016529,
     "end_time": "2022-11-06T17:03:03.889063",
     "exception": false,
     "start_time": "2022-11-06T17:03:03.872534",
     "status": "completed"
    },
    "tags": []
   },
   "outputs": [],
   "source": [
    "batch_size = 1024\n",
    "train_loader = DataLoader(train_ds, \n",
    "                          batch_size=batch_size, \n",
    "                          shuffle=True,\n",
    "                          collate_fn=sparse_batch_collate)\n",
    "val_loader = DataLoader(val_ds, \n",
    "                        batch_size=batch_size, \n",
    "                        shuffle=False,\n",
    "                        collate_fn=sparse_batch_collate)"
   ]
  },
  {
   "cell_type": "code",
   "execution_count": 16,
   "id": "8bd8dc4b",
   "metadata": {
    "execution": {
     "iopub.execute_input": "2022-11-06T17:03:03.909318Z",
     "iopub.status.busy": "2022-11-06T17:03:03.907967Z",
     "iopub.status.idle": "2022-11-06T17:03:03.917125Z",
     "shell.execute_reply": "2022-11-06T17:03:03.916137Z"
    },
    "papermill": {
     "duration": 0.021029,
     "end_time": "2022-11-06T17:03:03.919058",
     "exception": false,
     "start_time": "2022-11-06T17:03:03.898029",
     "status": "completed"
    },
    "tags": []
   },
   "outputs": [],
   "source": [
    "class Net(nn.Module):\n",
    "    def __init__(self):\n",
    "        \"\"\"In the constructor we instantiate two nn.Linear modules and assign them as\n",
    "        member variables (self).\n",
    "        \"\"\"\n",
    "        super(Net, self).__init__()\n",
    "        self.linear1 = nn.Linear(228942, 128)\n",
    "        self.bn1 = nn.BatchNorm1d(128)\n",
    "        self.linear2 = nn.Linear(128, 128)\n",
    "        self.bn2 = nn.BatchNorm1d(128)\n",
    "        self.linear3 = nn.Linear(128, 128)\n",
    "        self.bn3 = nn.BatchNorm1d(128)\n",
    "        self.linear4 = nn.Linear(128, 23418)\n",
    "\n",
    "\n",
    "    def forward(self, x):\n",
    "        \"\"\"\n",
    "        In the forward function we accept a Tensor of input data and we must return\n",
    "        a Tensor of output data. We can use Modules defined in the constructor as\n",
    "        well as arbitrary operators on Tensors.\n",
    "        \"\"\"\n",
    "        x = self.linear1(x)\n",
    "        x = self.bn1(x)\n",
    "        x = F.relu(x)\n",
    "        x = self.linear2(x)\n",
    "        x = self.bn2(x)\n",
    "        x = F.relu(x)\n",
    "        x = self.linear3(x)\n",
    "        x = self.bn3(x)\n",
    "        x = F.relu(x)\n",
    "        x = self.linear4(x)\n",
    "        x = F.relu(x)\n",
    "\n",
    "        return x"
   ]
  },
  {
   "cell_type": "code",
   "execution_count": 17,
   "id": "0e843473",
   "metadata": {
    "execution": {
     "iopub.execute_input": "2022-11-06T17:03:03.939057Z",
     "iopub.status.busy": "2022-11-06T17:03:03.938307Z",
     "iopub.status.idle": "2022-11-06T17:03:03.945671Z",
     "shell.execute_reply": "2022-11-06T17:03:03.944846Z"
    },
    "papermill": {
     "duration": 0.019398,
     "end_time": "2022-11-06T17:03:03.947612",
     "exception": false,
     "start_time": "2022-11-06T17:03:03.928214",
     "status": "completed"
    },
    "tags": []
   },
   "outputs": [],
   "source": [
    "def train_model(train_loader, model, optimizer):\n",
    "    \n",
    "    model.train()\n",
    "    sum_corr = 0.0 # sum_loss = 0.0\n",
    "    total = 0\n",
    "    \n",
    "    for i, (x, y) in enumerate(train_loader):\n",
    "        x = x.to(device)\n",
    "        y = y.to(device)\n",
    "        \n",
    "        batch = x.shape[0]\n",
    "        \n",
    "        preds = model(x)\n",
    "        vpreds = preds - torch.mean(preds)\n",
    "        y = y.to_dense()\n",
    "        vy = y - torch.mean(y)\n",
    "        corr = torch.sum(vpreds * vy) / \\\n",
    "               (torch.sqrt(torch.sum(vpreds ** 2)) *\n",
    "                torch.sqrt(torch.sum(vy ** 2)))\n",
    "        loss = -corr\n",
    "        \n",
    "        optimizer.zero_grad()\n",
    "        loss.backward()\n",
    "        \n",
    "        optimizer.step()\n",
    "        \n",
    "        total += batch\n",
    "        sum_corr += batch * corr\n",
    "    \n",
    "    train_corr = sum_corr/total \n",
    "    return train_corr"
   ]
  },
  {
   "cell_type": "code",
   "execution_count": 18,
   "id": "f8369574",
   "metadata": {
    "execution": {
     "iopub.execute_input": "2022-11-06T17:03:03.967188Z",
     "iopub.status.busy": "2022-11-06T17:03:03.966459Z",
     "iopub.status.idle": "2022-11-06T17:03:03.973410Z",
     "shell.execute_reply": "2022-11-06T17:03:03.972618Z"
    },
    "papermill": {
     "duration": 0.018646,
     "end_time": "2022-11-06T17:03:03.975292",
     "exception": false,
     "start_time": "2022-11-06T17:03:03.956646",
     "status": "completed"
    },
    "tags": []
   },
   "outputs": [],
   "source": [
    "def model_eval(model, val_loader):\n",
    "    model.eval()\n",
    "    sum_corr = 0.0 # sum_loss = 0.0\n",
    "    total = 0\n",
    "    \n",
    "    for i, (x, y) in enumerate(val_loader):\n",
    "        x = x.to(device)\n",
    "        y = y.to(device)\n",
    "        \n",
    "        batch = x.shape[0]\n",
    "        \n",
    "        preds = model(x)\n",
    "        vpreds = preds - torch.mean(preds)\n",
    "        y = y.to_dense()\n",
    "        vy = y - torch.mean(y)\n",
    "        corr = torch.sum(vpreds * vy) / \\\n",
    "               (torch.sqrt(torch.sum(vpreds ** 2)) *\n",
    "                torch.sqrt(torch.sum(vy ** 2)))\n",
    "        loss = -corr\n",
    "        \n",
    "        total += batch\n",
    "        sum_corr += batch * corr\n",
    "        \n",
    "    val_corr = sum_corr/total\n",
    "    return val_corr"
   ]
  },
  {
   "cell_type": "code",
   "execution_count": 19,
   "id": "341538cc",
   "metadata": {
    "execution": {
     "iopub.execute_input": "2022-11-06T17:03:03.994964Z",
     "iopub.status.busy": "2022-11-06T17:03:03.994111Z",
     "iopub.status.idle": "2022-11-06T17:03:07.046353Z",
     "shell.execute_reply": "2022-11-06T17:03:07.045410Z"
    },
    "papermill": {
     "duration": 3.064401,
     "end_time": "2022-11-06T17:03:07.048739",
     "exception": false,
     "start_time": "2022-11-06T17:03:03.984338",
     "status": "completed"
    },
    "tags": []
   },
   "outputs": [],
   "source": [
    "net = Net().to(device)\n",
    "learning_rate = 0.0001\n",
    "weight_decay = 0.001 \n",
    "optimizer = optim.Adam(net.parameters(),\n",
    "                       lr=learning_rate,\n",
    "                       weight_decay=weight_decay)"
   ]
  },
  {
   "cell_type": "code",
   "execution_count": 20,
   "id": "f5c5c196",
   "metadata": {
    "execution": {
     "iopub.execute_input": "2022-11-06T17:03:07.070062Z",
     "iopub.status.busy": "2022-11-06T17:03:07.068362Z",
     "iopub.status.idle": "2022-11-06T18:51:58.850887Z",
     "shell.execute_reply": "2022-11-06T18:51:58.848687Z"
    },
    "papermill": {
     "duration": 6531.794782,
     "end_time": "2022-11-06T18:51:58.853067",
     "exception": false,
     "start_time": "2022-11-06T17:03:07.058285",
     "status": "completed"
    },
    "tags": []
   },
   "outputs": [
    {
     "name": "stdout",
     "output_type": "stream",
     "text": [
      "epoch 0\n",
      "train corr: 0.1536\n",
      "val corr: 0.3528\n",
      "\n",
      "epoch 1\n",
      "train corr: 0.4829\n",
      "val corr: 0.5495\n",
      "\n",
      "epoch 2\n",
      "train corr: 0.5761\n",
      "val corr: 0.5824\n",
      "\n",
      "epoch 3\n",
      "train corr: 0.5962\n",
      "val corr: 0.5923\n",
      "\n",
      "epoch 4\n",
      "train corr: 0.6030\n",
      "val corr: 0.5962\n",
      "\n",
      "epoch 5\n",
      "train corr: 0.6053\n",
      "val corr: 0.5992\n",
      "\n",
      "epoch 6\n",
      "train corr: 0.6078\n",
      "val corr: 0.6008\n",
      "\n",
      "epoch 7\n",
      "train corr: 0.6102\n",
      "val corr: 0.6035\n",
      "\n",
      "epoch 8\n",
      "train corr: 0.6134\n",
      "val corr: 0.6083\n",
      "\n",
      "epoch 9\n",
      "train corr: 0.6200\n",
      "val corr: 0.6166\n",
      "\n",
      "epoch 10\n",
      "train corr: 0.6287\n",
      "val corr: 0.6254\n",
      "\n",
      "epoch 11\n",
      "train corr: 0.6368\n",
      "val corr: 0.6324\n",
      "\n",
      "epoch 12\n",
      "train corr: 0.6435\n",
      "val corr: 0.6378\n",
      "\n",
      "epoch 13\n",
      "train corr: 0.6488\n",
      "val corr: 0.6423\n",
      "\n",
      "epoch 14\n",
      "train corr: 0.6537\n",
      "val corr: 0.6464\n",
      "\n",
      "epoch 15\n",
      "train corr: 0.6583\n",
      "val corr: 0.6511\n",
      "\n",
      "epoch 16\n",
      "train corr: 0.6626\n",
      "val corr: 0.6552\n",
      "\n",
      "epoch 17\n",
      "train corr: 0.6674\n",
      "val corr: 0.6600\n",
      "\n",
      "epoch 18\n",
      "train corr: 0.6712\n",
      "val corr: 0.6623\n",
      "\n",
      "epoch 19\n",
      "train corr: 0.6734\n",
      "val corr: 0.6638\n",
      "\n",
      "epoch 20\n",
      "train corr: 0.6751\n",
      "val corr: 0.6655\n",
      "\n",
      "epoch 21\n",
      "train corr: 0.6764\n",
      "val corr: 0.6665\n",
      "\n",
      "epoch 22\n",
      "train corr: 0.6774\n",
      "val corr: 0.6675\n",
      "\n",
      "epoch 23\n",
      "train corr: 0.6784\n",
      "val corr: 0.6679\n",
      "\n",
      "epoch 24\n",
      "train corr: 0.6787\n",
      "val corr: 0.6682\n",
      "\n",
      "epoch 25\n",
      "train corr: 0.6790\n",
      "val corr: 0.6683\n",
      "\n",
      "epoch 26\n",
      "train corr: 0.6795\n",
      "val corr: 0.6686\n",
      "\n",
      "epoch 27\n",
      "train corr: 0.6797\n",
      "val corr: 0.6687\n",
      "\n",
      "epoch 28\n",
      "train corr: 0.6798\n",
      "val corr: 0.6691\n",
      "\n",
      "epoch 29\n",
      "train corr: 0.6800\n",
      "val corr: 0.6687\n",
      "\n",
      "epoch 30\n",
      "train corr: 0.6803\n",
      "val corr: 0.6693\n",
      "\n",
      "epoch 31\n",
      "train corr: 0.6804\n",
      "val corr: 0.6692\n",
      "\n",
      "epoch 32\n",
      "train corr: 0.6805\n",
      "val corr: 0.6694\n",
      "\n",
      "epoch 33\n",
      "train corr: 0.6806\n",
      "val corr: 0.6696\n",
      "\n",
      "epoch 34\n",
      "train corr: 0.6807\n",
      "val corr: 0.6696\n",
      "\n",
      "epoch 35\n",
      "train corr: 0.6808\n",
      "val corr: 0.6695\n",
      "\n",
      "epoch 36\n",
      "train corr: 0.6809\n",
      "val corr: 0.6696\n",
      "\n",
      "epoch 37\n",
      "train corr: 0.6809\n",
      "val corr: 0.6697\n",
      "\n",
      "epoch 38\n",
      "train corr: 0.6810\n",
      "val corr: 0.6698\n",
      "\n",
      "epoch 39\n",
      "train corr: 0.6811\n",
      "val corr: 0.6699\n",
      "\n",
      "epoch 40\n",
      "train corr: 0.6811\n",
      "val corr: 0.6698\n",
      "\n",
      "epoch 41\n",
      "train corr: 0.6812\n",
      "val corr: 0.6698\n",
      "\n",
      "epoch 42\n",
      "train corr: 0.6812\n",
      "val corr: 0.6699\n",
      "\n",
      "epoch 43\n",
      "train corr: 0.6813\n",
      "val corr: 0.6700\n",
      "\n",
      "epoch 44\n",
      "train corr: 0.6814\n",
      "val corr: 0.6699\n",
      "\n",
      "epoch 45\n",
      "train corr: 0.6814\n",
      "val corr: 0.6700\n",
      "\n",
      "epoch 46\n",
      "train corr: 0.6815\n",
      "val corr: 0.6700\n",
      "\n",
      "epoch 47\n",
      "train corr: 0.6815\n",
      "val corr: 0.6698\n",
      "\n",
      "epoch 48\n",
      "train corr: 0.6815\n",
      "val corr: 0.6700\n",
      "\n",
      "epoch 49\n",
      "train corr: 0.6816\n",
      "val corr: 0.6701\n",
      "\n",
      "epoch 50\n",
      "train corr: 0.6817\n",
      "val corr: 0.6703\n",
      "\n",
      "epoch 51\n",
      "train corr: 0.6817\n",
      "val corr: 0.6701\n",
      "\n",
      "epoch 52\n",
      "train corr: 0.6817\n",
      "val corr: 0.6699\n",
      "\n",
      "epoch 53\n",
      "train corr: 0.6817\n",
      "val corr: 0.6701\n",
      "\n",
      "epoch 54\n",
      "train corr: 0.6818\n",
      "val corr: 0.6700\n",
      "\n",
      "epoch 55\n",
      "train corr: 0.6819\n",
      "val corr: 0.6700\n",
      "\n",
      "epoch 56\n",
      "train corr: 0.6819\n",
      "val corr: 0.6701\n",
      "\n",
      "epoch 57\n",
      "train corr: 0.6819\n",
      "val corr: 0.6702\n",
      "\n",
      "epoch 58\n",
      "train corr: 0.6819\n",
      "val corr: 0.6698\n",
      "\n",
      "epoch 59\n",
      "train corr: 0.6819\n",
      "val corr: 0.6702\n",
      "\n",
      "epoch 60\n",
      "train corr: 0.6820\n",
      "val corr: 0.6702\n",
      "\n",
      "epoch 61\n",
      "train corr: 0.6821\n",
      "val corr: 0.6703\n",
      "\n",
      "epoch 62\n",
      "train corr: 0.6821\n",
      "val corr: 0.6700\n",
      "\n",
      "epoch 63\n",
      "train corr: 0.6821\n",
      "val corr: 0.6701\n",
      "\n",
      "epoch 64\n",
      "train corr: 0.6820\n",
      "val corr: 0.6703\n",
      "\n",
      "epoch 65\n",
      "train corr: 0.6821\n",
      "val corr: 0.6705\n",
      "\n",
      "epoch 66\n",
      "train corr: 0.6822\n",
      "val corr: 0.6704\n",
      "\n",
      "epoch 67\n",
      "train corr: 0.6822\n",
      "val corr: 0.6703\n",
      "\n",
      "epoch 68\n",
      "train corr: 0.6822\n",
      "val corr: 0.6699\n",
      "\n",
      "epoch 69\n",
      "train corr: 0.6822\n",
      "val corr: 0.6704\n",
      "\n",
      "epoch 70\n",
      "train corr: 0.6823\n",
      "val corr: 0.6703\n",
      "\n",
      "epoch 71\n",
      "train corr: 0.6824\n",
      "val corr: 0.6703\n",
      "\n",
      "epoch 72\n",
      "train corr: 0.6824\n",
      "val corr: 0.6704\n",
      "\n",
      "epoch 73\n",
      "train corr: 0.6824\n",
      "val corr: 0.6705\n",
      "\n",
      "epoch 74\n",
      "train corr: 0.6826\n",
      "val corr: 0.6704\n",
      "\n",
      "epoch 75\n",
      "train corr: 0.6827\n",
      "val corr: 0.6701\n",
      "\n",
      "epoch 76\n",
      "train corr: 0.6826\n",
      "val corr: 0.6704\n",
      "\n",
      "epoch 77\n",
      "train corr: 0.6826\n",
      "val corr: 0.6705\n",
      "\n",
      "epoch 78\n",
      "train corr: 0.6826\n",
      "val corr: 0.6703\n",
      "\n",
      "epoch 79\n",
      "train corr: 0.6827\n",
      "val corr: 0.6706\n",
      "\n",
      "epoch 80\n",
      "train corr: 0.6827\n",
      "val corr: 0.6705\n",
      "\n",
      "epoch 81\n",
      "train corr: 0.6827\n",
      "val corr: 0.6708\n",
      "\n",
      "epoch 82\n",
      "train corr: 0.6827\n",
      "val corr: 0.6702\n",
      "\n",
      "epoch 83\n",
      "train corr: 0.6827\n",
      "val corr: 0.6705\n",
      "\n",
      "epoch 84\n",
      "train corr: 0.6828\n",
      "val corr: 0.6702\n",
      "\n",
      "epoch 85\n",
      "train corr: 0.6828\n",
      "val corr: 0.6704\n",
      "\n",
      "epoch 86\n",
      "train corr: 0.6828\n",
      "val corr: 0.6702\n",
      "\n",
      "epoch 87\n",
      "train corr: 0.6828\n",
      "val corr: 0.6703\n",
      "\n",
      "epoch 88\n",
      "train corr: 0.6828\n",
      "val corr: 0.6704\n",
      "\n",
      "epoch 89\n",
      "train corr: 0.6828\n",
      "val corr: 0.6704\n",
      "\n",
      "epoch 90\n",
      "train corr: 0.6829\n",
      "val corr: 0.6705\n",
      "\n",
      "epoch 91\n",
      "train corr: 0.6829\n",
      "val corr: 0.6705\n",
      "\n",
      "epoch 92\n",
      "train corr: 0.6828\n",
      "val corr: 0.6705\n",
      "\n",
      "epoch 93\n",
      "train corr: 0.6829\n",
      "val corr: 0.6706\n",
      "\n",
      "epoch 94\n",
      "train corr: 0.6829\n",
      "val corr: 0.6702\n",
      "\n",
      "epoch 95\n",
      "train corr: 0.6829\n",
      "val corr: 0.6706\n",
      "\n",
      "epoch 96\n",
      "train corr: 0.6830\n",
      "val corr: 0.6705\n",
      "\n",
      "epoch 97\n",
      "train corr: 0.6830\n",
      "val corr: 0.6703\n",
      "\n",
      "epoch 98\n",
      "train corr: 0.6830\n",
      "val corr: 0.6705\n",
      "\n",
      "epoch 99\n",
      "train corr: 0.6830\n",
      "val corr: 0.6704\n",
      "\n",
      "CPU times: user 1h 35min 13s, sys: 13min 13s, total: 1h 48min 26s\n",
      "Wall time: 1h 48min 51s\n"
     ]
    }
   ],
   "source": [
    "%%time\n",
    "epochs = 100\n",
    "train_corrs = []\n",
    "val_corrs = []\n",
    "best_val_corr = 0.0\n",
    "best_epoch = 0\n",
    "\n",
    "for epoch in range(epochs):\n",
    "    # train\n",
    "    print('epoch', epoch)\n",
    "    train_corr = train_model(train_loader, net, optimizer)\n",
    "    train_corr = float(train_corr.to('cpu').detach().numpy())\n",
    "    train_corrs.append(train_corr)\n",
    "    print(f'train corr: {train_corr:.4f}')\n",
    "    \n",
    "    # val\n",
    "    val_corr = model_eval(net, val_loader)\n",
    "    val_corr = float(val_corr.to('cpu').detach().numpy())\n",
    "    val_corrs.append(val_corr)\n",
    "    print(f'val corr: {val_corr:.4f}')\n",
    "    print()\n",
    "    \n",
    "    # early stoppage\n",
    "#     if epoch - best_epoch > 3:\n",
    "#         if val_corr < best_val_corr:\n",
    "#             print(f'**Early Stoppage** We are stopping at epoch {epoch}...')\n",
    "#             print(f'Best epoch: epoch {best_epoch}')\n",
    "#             print(f'Best val correlation: {val_corr: .4f}')\n",
    "#             break\n",
    "            \n",
    "#     # update\n",
    "#     if val_corr > best_val_corr:\n",
    "#         best_val_corr = max([best_val_corr, val_corr])\n",
    "#         best_epoch = epoch\n",
    "# #         print(epoch, best_epoch, best_val_corr)\n",
    "# #         print()"
   ]
  },
  {
   "cell_type": "code",
   "execution_count": 21,
   "id": "6ce28f51",
   "metadata": {
    "execution": {
     "iopub.execute_input": "2022-11-06T18:51:58.892704Z",
     "iopub.status.busy": "2022-11-06T18:51:58.892372Z",
     "iopub.status.idle": "2022-11-06T18:51:59.224175Z",
     "shell.execute_reply": "2022-11-06T18:51:59.223261Z"
    },
    "papermill": {
     "duration": 0.353819,
     "end_time": "2022-11-06T18:51:59.226231",
     "exception": false,
     "start_time": "2022-11-06T18:51:58.872412",
     "status": "completed"
    },
    "tags": []
   },
   "outputs": [
    {
     "data": {
      "text/plain": [
       "(0.0, 1.0)"
      ]
     },
     "execution_count": 21,
     "metadata": {},
     "output_type": "execute_result"
    },
    {
     "data": {
      "image/png": "[encoded data removed]",
      "text/plain": [
       "<Figure size 576x576 with 1 Axes>"
      ]
     },
     "metadata": {},
     "output_type": "display_data"
    }
   ],
   "source": [
    "figsize(8, 8)\n",
    "plt.scatter(list(range(epochs)), train_corrs, label='training corr')\n",
    "plt.plot(list(range(epochs)), train_corrs)\n",
    "plt.scatter(list(range(epochs)), val_corrs, label='val corr')\n",
    "plt.plot(list(range(epochs)), val_corrs)\n",
    "plt.legend(loc='lower right')\n",
    "plt.title(f'lr = {learning_rate} | wd = {weight_decay}')\n",
    "plt.ylim(0, 1)"
   ]
  },
  {
   "cell_type": "code",
   "execution_count": 22,
   "id": "4742afbb",
   "metadata": {
    "execution": {
     "iopub.execute_input": "2022-11-06T18:51:59.267296Z",
     "iopub.status.busy": "2022-11-06T18:51:59.265892Z",
     "iopub.status.idle": "2022-11-06T18:51:59.392271Z",
     "shell.execute_reply": "2022-11-06T18:51:59.391409Z"
    },
    "papermill": {
     "duration": 0.148878,
     "end_time": "2022-11-06T18:51:59.394420",
     "exception": false,
     "start_time": "2022-11-06T18:51:59.245542",
     "status": "completed"
    },
    "tags": []
   },
   "outputs": [
    {
     "data": {
      "text/plain": [
       "3343"
      ]
     },
     "execution_count": 22,
     "metadata": {},
     "output_type": "execute_result"
    }
   ],
   "source": [
    "del train_inp, train_tar, full_ds, train_ds, val_ds, train_loader, val_loader\n",
    "gc.collect()"
   ]
  },
  {
   "cell_type": "code",
   "execution_count": 23,
   "id": "87764361",
   "metadata": {
    "execution": {
     "iopub.execute_input": "2022-11-06T18:51:59.435214Z",
     "iopub.status.busy": "2022-11-06T18:51:59.434376Z",
     "iopub.status.idle": "2022-11-06T18:51:59.800459Z",
     "shell.execute_reply": "2022-11-06T18:51:59.799232Z"
    },
    "papermill": {
     "duration": 0.389021,
     "end_time": "2022-11-06T18:51:59.803217",
     "exception": false,
     "start_time": "2022-11-06T18:51:59.414196",
     "status": "completed"
    },
    "tags": []
   },
   "outputs": [
    {
     "name": "stdout",
     "output_type": "stream",
     "text": [
      "CPU times: user 124 ms, sys: 232 ms, total: 355 ms\n",
      "Wall time: 359 ms\n"
     ]
    }
   ],
   "source": [
    "%%time\n",
    "torch.save(net, 'mlp_multi.pt')"
   ]
  },
  {
   "cell_type": "markdown",
   "id": "5aed30c3",
   "metadata": {
    "papermill": {
     "duration": 0.019107,
     "end_time": "2022-11-06T18:51:59.842665",
     "exception": false,
     "start_time": "2022-11-06T18:51:59.823558",
     "status": "completed"
    },
    "tags": []
   },
   "source": [
    "## Prediction"
   ]
  },
  {
   "cell_type": "code",
   "execution_count": 24,
   "id": "a9629104",
   "metadata": {
    "execution": {
     "iopub.execute_input": "2022-11-06T18:51:59.883944Z",
     "iopub.status.busy": "2022-11-06T18:51:59.882495Z",
     "iopub.status.idle": "2022-11-06T18:51:59.887771Z",
     "shell.execute_reply": "2022-11-06T18:51:59.886938Z"
    },
    "papermill": {
     "duration": 0.027442,
     "end_time": "2022-11-06T18:51:59.889628",
     "exception": false,
     "start_time": "2022-11-06T18:51:59.862186",
     "status": "completed"
    },
    "tags": []
   },
   "outputs": [],
   "source": [
    "# %%time\n",
    "# test_inp = scipy.sparse.load_npz(f'{DATA_DIR}/test_multi_inputs_val.sparse.npz')\n",
    "# test_inp.shape"
   ]
  },
  {
   "cell_type": "code",
   "execution_count": 25,
   "id": "7509d8d8",
   "metadata": {
    "execution": {
     "iopub.execute_input": "2022-11-06T18:51:59.929655Z",
     "iopub.status.busy": "2022-11-06T18:51:59.928900Z",
     "iopub.status.idle": "2022-11-06T18:51:59.934184Z",
     "shell.execute_reply": "2022-11-06T18:51:59.933320Z"
    },
    "papermill": {
     "duration": 0.027381,
     "end_time": "2022-11-06T18:51:59.936086",
     "exception": false,
     "start_time": "2022-11-06T18:51:59.908705",
     "status": "completed"
    },
    "tags": []
   },
   "outputs": [],
   "source": [
    "# class SparsePredDataset(TensorDataset):\n",
    "#     # https://discuss.pytorch.org/t/dataloader-loads-data-very-slow-on-sparse-tensor/117391/2\n",
    "#     def __init__(self, inputs):\n",
    "#         self.inputs = inputs\n",
    "    \n",
    "#     def __getitem__(self, index):\n",
    "#         return self.inputs[index]\n",
    "    \n",
    "#     def __len__(self):\n",
    "#         return self.inputs.shape[0]"
   ]
  },
  {
   "cell_type": "code",
   "execution_count": 26,
   "id": "cda4a1c0",
   "metadata": {
    "execution": {
     "iopub.execute_input": "2022-11-06T18:51:59.976592Z",
     "iopub.status.busy": "2022-11-06T18:51:59.975173Z",
     "iopub.status.idle": "2022-11-06T18:51:59.979713Z",
     "shell.execute_reply": "2022-11-06T18:51:59.978859Z"
    },
    "papermill": {
     "duration": 0.026623,
     "end_time": "2022-11-06T18:51:59.981683",
     "exception": false,
     "start_time": "2022-11-06T18:51:59.955060",
     "status": "completed"
    },
    "tags": []
   },
   "outputs": [],
   "source": [
    "# def sparse_batch_collate_pred(batch):\n",
    "#     return sparse_coo_to_tensor(scipy.sparse.vstack(batch).tocoo())"
   ]
  },
  {
   "cell_type": "code",
   "execution_count": 27,
   "id": "9cd2d396",
   "metadata": {
    "execution": {
     "iopub.execute_input": "2022-11-06T18:52:00.021346Z",
     "iopub.status.busy": "2022-11-06T18:52:00.020655Z",
     "iopub.status.idle": "2022-11-06T18:52:00.024524Z",
     "shell.execute_reply": "2022-11-06T18:52:00.023577Z"
    },
    "papermill": {
     "duration": 0.025703,
     "end_time": "2022-11-06T18:52:00.026485",
     "exception": false,
     "start_time": "2022-11-06T18:52:00.000782",
     "status": "completed"
    },
    "tags": []
   },
   "outputs": [],
   "source": [
    "# test_ds = SparsePredDataset(test_inp)\n",
    "# test_loader = DataLoader(test_ds, \n",
    "#                          batch_size=batch_size, \n",
    "#                          shuffle=False,\n",
    "#                          collate_fn=sparse_batch_collate_pred)"
   ]
  },
  {
   "cell_type": "code",
   "execution_count": 28,
   "id": "fb1d7c4e",
   "metadata": {
    "execution": {
     "iopub.execute_input": "2022-11-06T18:52:00.066572Z",
     "iopub.status.busy": "2022-11-06T18:52:00.065795Z",
     "iopub.status.idle": "2022-11-06T18:52:00.069796Z",
     "shell.execute_reply": "2022-11-06T18:52:00.068860Z"
    },
    "papermill": {
     "duration": 0.025722,
     "end_time": "2022-11-06T18:52:00.071676",
     "exception": false,
     "start_time": "2022-11-06T18:52:00.045954",
     "status": "completed"
    },
    "tags": []
   },
   "outputs": [],
   "source": [
    "# %%time\n",
    "# with torch.no_grad():\n",
    "#     net.eval()\n",
    "#     test_tar_preds = []\n",
    "    \n",
    "#     for i, x in enumerate(test_loader):\n",
    "#         x = x.to(device)\n",
    "#         batch_preds = net(x).to('cpu').detach().numpy()\n",
    "#         test_tar_preds.append(batch_preds)"
   ]
  },
  {
   "cell_type": "code",
   "execution_count": 29,
   "id": "2c88f868",
   "metadata": {
    "execution": {
     "iopub.execute_input": "2022-11-06T18:52:00.111650Z",
     "iopub.status.busy": "2022-11-06T18:52:00.110913Z",
     "iopub.status.idle": "2022-11-06T18:52:00.114851Z",
     "shell.execute_reply": "2022-11-06T18:52:00.114056Z"
    },
    "papermill": {
     "duration": 0.026089,
     "end_time": "2022-11-06T18:52:00.116779",
     "exception": false,
     "start_time": "2022-11-06T18:52:00.090690",
     "status": "completed"
    },
    "tags": []
   },
   "outputs": [],
   "source": [
    "# del test_inp, test_ds, test_loader\n",
    "# gc.collect()"
   ]
  },
  {
   "cell_type": "code",
   "execution_count": 30,
   "id": "daa49ef2",
   "metadata": {
    "execution": {
     "iopub.execute_input": "2022-11-06T18:52:00.156559Z",
     "iopub.status.busy": "2022-11-06T18:52:00.155835Z",
     "iopub.status.idle": "2022-11-06T18:52:00.159978Z",
     "shell.execute_reply": "2022-11-06T18:52:00.159171Z"
    },
    "papermill": {
     "duration": 0.025913,
     "end_time": "2022-11-06T18:52:00.161723",
     "exception": false,
     "start_time": "2022-11-06T18:52:00.135810",
     "status": "completed"
    },
    "tags": []
   },
   "outputs": [],
   "source": [
    "# test_tar_preds = np.vstack(test_tar_preds)\n",
    "# print(test_tar_preds.shape)"
   ]
  },
  {
   "cell_type": "code",
   "execution_count": 31,
   "id": "f789f842",
   "metadata": {
    "execution": {
     "iopub.execute_input": "2022-11-06T18:52:00.201559Z",
     "iopub.status.busy": "2022-11-06T18:52:00.200880Z",
     "iopub.status.idle": "2022-11-06T18:52:00.205058Z",
     "shell.execute_reply": "2022-11-06T18:52:00.204232Z"
    },
    "papermill": {
     "duration": 0.025869,
     "end_time": "2022-11-06T18:52:00.207033",
     "exception": false,
     "start_time": "2022-11-06T18:52:00.181164",
     "status": "completed"
    },
    "tags": []
   },
   "outputs": [],
   "source": [
    "# gc.collect()"
   ]
  },
  {
   "cell_type": "code",
   "execution_count": 32,
   "id": "b8a299f3",
   "metadata": {
    "execution": {
     "iopub.execute_input": "2022-11-06T18:52:00.246422Z",
     "iopub.status.busy": "2022-11-06T18:52:00.245695Z",
     "iopub.status.idle": "2022-11-06T18:52:00.249759Z",
     "shell.execute_reply": "2022-11-06T18:52:00.248953Z"
    },
    "papermill": {
     "duration": 0.025628,
     "end_time": "2022-11-06T18:52:00.251648",
     "exception": false,
     "start_time": "2022-11-06T18:52:00.226020",
     "status": "completed"
    },
    "tags": []
   },
   "outputs": [],
   "source": [
    "# dump_pickle(test_tar_preds, 'test_tar_preds')"
   ]
  },
  {
   "cell_type": "markdown",
   "id": "cf383163",
   "metadata": {
    "papermill": {
     "duration": 0.019109,
     "end_time": "2022-11-06T18:52:00.290182",
     "exception": false,
     "start_time": "2022-11-06T18:52:00.271073",
     "status": "completed"
    },
    "tags": []
   },
   "source": [
    "## Creating Submission"
   ]
  },
  {
   "cell_type": "code",
   "execution_count": 33,
   "id": "e4958501",
   "metadata": {
    "execution": {
     "iopub.execute_input": "2022-11-06T18:52:00.329662Z",
     "iopub.status.busy": "2022-11-06T18:52:00.328940Z",
     "iopub.status.idle": "2022-11-06T18:52:00.332960Z",
     "shell.execute_reply": "2022-11-06T18:52:00.332077Z"
    },
    "papermill": {
     "duration": 0.02565,
     "end_time": "2022-11-06T18:52:00.334896",
     "exception": false,
     "start_time": "2022-11-06T18:52:00.309246",
     "status": "completed"
    },
    "tags": []
   },
   "outputs": [],
   "source": [
    "# DATA_DIR = '../input/msci-h5-sparse-transform'\n",
    "# %ls $DATA_DIR -lh"
   ]
  },
  {
   "cell_type": "code",
   "execution_count": 34,
   "id": "fe6f1949",
   "metadata": {
    "execution": {
     "iopub.execute_input": "2022-11-06T18:52:00.374539Z",
     "iopub.status.busy": "2022-11-06T18:52:00.373813Z",
     "iopub.status.idle": "2022-11-06T18:52:00.378128Z",
     "shell.execute_reply": "2022-11-06T18:52:00.377210Z"
    },
    "papermill": {
     "duration": 0.026116,
     "end_time": "2022-11-06T18:52:00.380138",
     "exception": false,
     "start_time": "2022-11-06T18:52:00.354022",
     "status": "completed"
    },
    "tags": []
   },
   "outputs": [],
   "source": [
    "# test_tar_cols = np.load(f'{DATA_DIR}/train_multi_targets_idx.npz',\n",
    "#                         allow_pickle=True)['columns']\n",
    "# test_tar_idx = np.load(f'{DATA_DIR}/test_multi_inputs_idx.npz',\n",
    "#                        allow_pickle=True)['index']\n",
    "# test_tar_cols.shape, test_tar_idx.shape, test_tar_preds.shape"
   ]
  },
  {
   "cell_type": "code",
   "execution_count": 35,
   "id": "4fd8e8b8",
   "metadata": {
    "execution": {
     "iopub.execute_input": "2022-11-06T18:52:00.420348Z",
     "iopub.status.busy": "2022-11-06T18:52:00.419603Z",
     "iopub.status.idle": "2022-11-06T18:52:00.423881Z",
     "shell.execute_reply": "2022-11-06T18:52:00.423073Z"
    },
    "papermill": {
     "duration": 0.026256,
     "end_time": "2022-11-06T18:52:00.425858",
     "exception": false,
     "start_time": "2022-11-06T18:52:00.399602",
     "status": "completed"
    },
    "tags": []
   },
   "outputs": [],
   "source": [
    "# %%time\n",
    "# print('Start Eval...')\n",
    "# eval_ids = pd.read_parquet(f'{DATA_DIR}/evaluation_ids.parquet')\n",
    "# eval_ids.cell_id = eval_ids.cell_id.astype(pd.CategoricalDtype())\n",
    "# eval_ids.gene_id = eval_ids.gene_id.astype(pd.CategoricalDtype())"
   ]
  },
  {
   "cell_type": "code",
   "execution_count": 36,
   "id": "1bac8b1a",
   "metadata": {
    "execution": {
     "iopub.execute_input": "2022-11-06T18:52:00.465701Z",
     "iopub.status.busy": "2022-11-06T18:52:00.465181Z",
     "iopub.status.idle": "2022-11-06T18:52:00.468892Z",
     "shell.execute_reply": "2022-11-06T18:52:00.468042Z"
    },
    "papermill": {
     "duration": 0.025935,
     "end_time": "2022-11-06T18:52:00.470805",
     "exception": false,
     "start_time": "2022-11-06T18:52:00.444870",
     "status": "completed"
    },
    "tags": []
   },
   "outputs": [],
   "source": [
    "# %%time\n",
    "# sub = pd.Series(name='target',\n",
    "#                 index=pd.MultiIndex.from_frame(eval_ids), \n",
    "#                 dtype=np.float32)\n",
    "# sub"
   ]
  },
  {
   "cell_type": "code",
   "execution_count": 37,
   "id": "96786c5a",
   "metadata": {
    "execution": {
     "iopub.execute_input": "2022-11-06T18:52:00.511550Z",
     "iopub.status.busy": "2022-11-06T18:52:00.510810Z",
     "iopub.status.idle": "2022-11-06T18:52:00.515216Z",
     "shell.execute_reply": "2022-11-06T18:52:00.514261Z"
    },
    "papermill": {
     "duration": 0.026159,
     "end_time": "2022-11-06T18:52:00.517125",
     "exception": false,
     "start_time": "2022-11-06T18:52:00.490966",
     "status": "completed"
    },
    "tags": []
   },
   "outputs": [],
   "source": [
    "# cell_id_dict = {cell_id: idx \n",
    "#                 for idx, cell_id in enumerate(test_tar_idx, 0)}\n",
    "# gene_id_dict = {gene_id: idx \n",
    "#                 for idx, gene_id in enumerate(test_tar_cols, 0)}"
   ]
  },
  {
   "cell_type": "code",
   "execution_count": 38,
   "id": "3690154f",
   "metadata": {
    "execution": {
     "iopub.execute_input": "2022-11-06T18:52:00.557622Z",
     "iopub.status.busy": "2022-11-06T18:52:00.556787Z",
     "iopub.status.idle": "2022-11-06T18:52:00.561315Z",
     "shell.execute_reply": "2022-11-06T18:52:00.560555Z"
    },
    "papermill": {
     "duration": 0.026335,
     "end_time": "2022-11-06T18:52:00.563128",
     "exception": false,
     "start_time": "2022-11-06T18:52:00.536793",
     "status": "completed"
    },
    "tags": []
   },
   "outputs": [],
   "source": [
    "# eid_cid_idx = eval_ids['cell_id']\\\n",
    "#               .apply(lambda x: cell_id_dict.get(x, -1))\n",
    "# eid_gid_idx = eval_ids['gene_id']\\\n",
    "#               .apply(lambda x: gene_id_dict.get(x, -1))\n",
    "# valid_multi_rows = (eid_cid_idx != -1) & (eid_gid_idx != -1)"
   ]
  },
  {
   "cell_type": "code",
   "execution_count": 39,
   "id": "a60a12c4",
   "metadata": {
    "execution": {
     "iopub.execute_input": "2022-11-06T18:52:00.603141Z",
     "iopub.status.busy": "2022-11-06T18:52:00.602418Z",
     "iopub.status.idle": "2022-11-06T18:52:00.606369Z",
     "shell.execute_reply": "2022-11-06T18:52:00.605568Z"
    },
    "papermill": {
     "duration": 0.025689,
     "end_time": "2022-11-06T18:52:00.608322",
     "exception": false,
     "start_time": "2022-11-06T18:52:00.582633",
     "status": "completed"
    },
    "tags": []
   },
   "outputs": [],
   "source": [
    "# del eval_ids\n",
    "# gc.collect()"
   ]
  },
  {
   "cell_type": "code",
   "execution_count": 40,
   "id": "71eda94d",
   "metadata": {
    "execution": {
     "iopub.execute_input": "2022-11-06T18:52:00.648242Z",
     "iopub.status.busy": "2022-11-06T18:52:00.647537Z",
     "iopub.status.idle": "2022-11-06T18:52:00.651710Z",
     "shell.execute_reply": "2022-11-06T18:52:00.650885Z"
    },
    "papermill": {
     "duration": 0.02622,
     "end_time": "2022-11-06T18:52:00.653579",
     "exception": false,
     "start_time": "2022-11-06T18:52:00.627359",
     "status": "completed"
    },
    "tags": []
   },
   "outputs": [],
   "source": [
    "# %%time\n",
    "# sub.iloc[valid_multi_rows] = test_tar_preds\\\n",
    "#                              [eid_cid_idx[valid_multi_rows].to_numpy(),\n",
    "#                               eid_gid_idx[valid_multi_rows].to_numpy()]"
   ]
  },
  {
   "cell_type": "code",
   "execution_count": 41,
   "id": "c9f47f1f",
   "metadata": {
    "execution": {
     "iopub.execute_input": "2022-11-06T18:52:00.693190Z",
     "iopub.status.busy": "2022-11-06T18:52:00.692475Z",
     "iopub.status.idle": "2022-11-06T18:52:00.696476Z",
     "shell.execute_reply": "2022-11-06T18:52:00.695686Z"
    },
    "papermill": {
     "duration": 0.025989,
     "end_time": "2022-11-06T18:52:00.698684",
     "exception": false,
     "start_time": "2022-11-06T18:52:00.672695",
     "status": "completed"
    },
    "tags": []
   },
   "outputs": [],
   "source": [
    "# del test_tar_idx, test_tar_cols\n",
    "# del eid_cid_idx, eid_gid_idx, valid_multi_rows\n",
    "# gc.collect()"
   ]
  },
  {
   "cell_type": "code",
   "execution_count": 42,
   "id": "be383366",
   "metadata": {
    "execution": {
     "iopub.execute_input": "2022-11-06T18:52:00.737840Z",
     "iopub.status.busy": "2022-11-06T18:52:00.737034Z",
     "iopub.status.idle": "2022-11-06T18:52:00.741219Z",
     "shell.execute_reply": "2022-11-06T18:52:00.740434Z"
    },
    "papermill": {
     "duration": 0.025764,
     "end_time": "2022-11-06T18:52:00.743149",
     "exception": false,
     "start_time": "2022-11-06T18:52:00.717385",
     "status": "completed"
    },
    "tags": []
   },
   "outputs": [],
   "source": [
    "# sub = pd.DataFrame(sub).fillna(0).reset_index()\n",
    "# sub.drop(['cell_id', 'gene_id'], axis=1)\\\n",
    "#    .to_csv('multi_sub.csv', index=False)"
   ]
  },
  {
   "cell_type": "code",
   "execution_count": 43,
   "id": "a675ea5f",
   "metadata": {
    "execution": {
     "iopub.execute_input": "2022-11-06T18:52:00.782845Z",
     "iopub.status.busy": "2022-11-06T18:52:00.782123Z",
     "iopub.status.idle": "2022-11-06T18:52:00.786218Z",
     "shell.execute_reply": "2022-11-06T18:52:00.785437Z"
    },
    "papermill": {
     "duration": 0.025759,
     "end_time": "2022-11-06T18:52:00.788003",
     "exception": false,
     "start_time": "2022-11-06T18:52:00.762244",
     "status": "completed"
    },
    "tags": []
   },
   "outputs": [],
   "source": [
    "# sub.tail()"
   ]
  },
  {
   "cell_type": "code",
   "execution_count": null,
   "id": "4d32fd70",
   "metadata": {
    "papermill": {
     "duration": 0.018885,
     "end_time": "2022-11-06T18:52:00.825949",
     "exception": false,
     "start_time": "2022-11-06T18:52:00.807064",
     "status": "completed"
    },
    "tags": []
   },
   "outputs": [],
   "source": []
  }
 ],
 "metadata": {
  "kernelspec": {
   "display_name": "Python 3",
   "language": "python",
   "name": "python3"
  },
  "language_info": {
   "codemirror_mode": {
    "name": "ipython",
    "version": 3
   },
   "file_extension": ".py",
   "mimetype": "text/x-python",
   "name": "python",
   "nbconvert_exporter": "python",
   "pygments_lexer": "ipython3",
   "version": "3.7.12"
  },
  "papermill": {
   "default_parameters": {},
   "duration": 6630.961638,
   "end_time": "2022-11-06T18:52:01.975094",
   "environment_variables": {},
   "exception": null,
   "input_path": "__notebook__.ipynb",
   "output_path": "__notebook__.ipynb",
   "parameters": {},
   "start_time": "2022-11-06T17:01:31.013456",
   "version": "2.3.4"
  }
 },
 "nbformat": 4,
 "nbformat_minor": 5
}
