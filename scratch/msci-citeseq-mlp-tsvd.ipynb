{
 "cells": [
  {
   "cell_type": "code",
   "execution_count": 1,
   "id": "e7e2f010",
   "metadata": {
    "_cell_guid": "b1076dfc-b9ad-4769-8c92-a6c4dae69d19",
    "_uuid": "8f2839f25d086af736a60e9eeb907d3b93b6e0e5",
    "execution": {
     "iopub.execute_input": "2022-11-10T09:10:24.510554Z",
     "iopub.status.busy": "2022-11-10T09:10:24.509337Z",
     "iopub.status.idle": "2022-11-10T09:10:24.624876Z",
     "shell.execute_reply": "2022-11-10T09:10:24.623060Z"
    },
    "papermill": {
     "duration": 0.134358,
     "end_time": "2022-11-10T09:10:24.629064",
     "exception": false,
     "start_time": "2022-11-10T09:10:24.494706",
     "status": "completed"
    },
    "tags": []
   },
   "outputs": [],
   "source": [
    "import os\n",
    "import os.path\n",
    "import gc\n",
    "import numpy as np\n",
    "import pandas as pd\n",
    "import scipy.sparse\n",
    "from tqdm import tqdm"
   ]
  },
  {
   "cell_type": "code",
   "execution_count": 2,
   "id": "158f359f",
   "metadata": {
    "execution": {
     "iopub.execute_input": "2022-11-10T09:10:24.658478Z",
     "iopub.status.busy": "2022-11-10T09:10:24.657901Z",
     "iopub.status.idle": "2022-11-10T09:10:24.663687Z",
     "shell.execute_reply": "2022-11-10T09:10:24.662546Z"
    },
    "papermill": {
     "duration": 0.023664,
     "end_time": "2022-11-10T09:10:24.666456",
     "exception": false,
     "start_time": "2022-11-10T09:10:24.642792",
     "status": "completed"
    },
    "tags": []
   },
   "outputs": [],
   "source": [
    "import warnings \n",
    "warnings.filterwarnings('ignore')"
   ]
  },
  {
   "cell_type": "code",
   "execution_count": 3,
   "id": "c795cccc",
   "metadata": {
    "execution": {
     "iopub.execute_input": "2022-11-10T09:10:24.697067Z",
     "iopub.status.busy": "2022-11-10T09:10:24.696589Z",
     "iopub.status.idle": "2022-11-10T09:10:24.704358Z",
     "shell.execute_reply": "2022-11-10T09:10:24.702742Z"
    },
    "papermill": {
     "duration": 0.028219,
     "end_time": "2022-11-10T09:10:24.706997",
     "exception": false,
     "start_time": "2022-11-10T09:10:24.678778",
     "status": "completed"
    },
    "tags": []
   },
   "outputs": [],
   "source": [
    "import pickle\n",
    "\n",
    "def dump_pickle(file, filename):\n",
    "    outfile = open(filename, 'wb')\n",
    "    pickle.dump(file, outfile)\n",
    "    outfile.close()\n",
    "\n",
    "def load_pickle(filename):\n",
    "    infile = open(filename, 'rb')\n",
    "    file = pickle.load(infile)\n",
    "    infile.close()\n",
    "    return file"
   ]
  },
  {
   "cell_type": "code",
   "execution_count": 4,
   "id": "64c8456c",
   "metadata": {
    "execution": {
     "iopub.execute_input": "2022-11-10T09:10:24.728959Z",
     "iopub.status.busy": "2022-11-10T09:10:24.728481Z",
     "iopub.status.idle": "2022-11-10T09:10:25.841800Z",
     "shell.execute_reply": "2022-11-10T09:10:25.840619Z"
    },
    "papermill": {
     "duration": 1.127431,
     "end_time": "2022-11-10T09:10:25.844367",
     "exception": false,
     "start_time": "2022-11-10T09:10:24.716936",
     "status": "completed"
    },
    "tags": []
   },
   "outputs": [
    {
     "name": "stdout",
     "output_type": "stream",
     "text": [
      "total 27G\r\n",
      "-rw-r--r-- 1 nobody nogroup 2.3G Sep  7 19:44 evaluation_ids.csv\r\n",
      "-rw-r--r-- 1 nobody nogroup 9.4M Sep  7 19:43 metadata.csv\r\n",
      "-rw-r--r-- 1 nobody nogroup 230K Sep  7 19:43 metadata_cite_day_2_donor_27678.csv\r\n",
      "-rw-r--r-- 1 nobody nogroup 805M Sep  7 19:43 sample_submission.csv\r\n",
      "-rw-r--r-- 1 nobody nogroup 1.6G Sep  7 19:44 test_cite_inputs.h5\r\n",
      "-rw-r--r-- 1 nobody nogroup 294M Sep  7 19:43 test_cite_inputs_day_2_donor_27678.h5\r\n",
      "-rw-r--r-- 1 nobody nogroup 6.1G Sep  7 19:45 test_multi_inputs.h5\r\n",
      "-rw-r--r-- 1 nobody nogroup 2.4G Sep  7 19:44 train_cite_inputs.h5\r\n",
      "-rw-r--r-- 1 nobody nogroup  37M Sep  7 19:43 train_cite_targets.h5\r\n",
      "-rw-r--r-- 1 nobody nogroup  11G Sep  7 19:46 train_multi_inputs.h5\r\n",
      "-rw-r--r-- 1 nobody nogroup 3.0G Sep  7 19:45 train_multi_targets.h5\r\n"
     ]
    }
   ],
   "source": [
    "DATA_DIR = '../input/open-problems-multimodal'\n",
    "%ls $DATA_DIR -lh"
   ]
  },
  {
   "cell_type": "markdown",
   "id": "0b15bd61",
   "metadata": {
    "execution": {
     "iopub.execute_input": "2022-10-24T09:53:23.30961Z",
     "iopub.status.busy": "2022-10-24T09:53:23.309238Z",
     "iopub.status.idle": "2022-10-24T09:53:23.315117Z",
     "shell.execute_reply": "2022-10-24T09:53:23.313565Z",
     "shell.execute_reply.started": "2022-10-24T09:53:23.309583Z"
    },
    "papermill": {
     "duration": 0.009474,
     "end_time": "2022-11-10T09:10:25.864485",
     "exception": false,
     "start_time": "2022-11-10T09:10:25.855011",
     "status": "completed"
    },
    "tags": []
   },
   "source": [
    "## Read Data"
   ]
  },
  {
   "cell_type": "code",
   "execution_count": 5,
   "id": "eef1ff17",
   "metadata": {
    "execution": {
     "iopub.execute_input": "2022-11-10T09:10:25.886381Z",
     "iopub.status.busy": "2022-11-10T09:10:25.885962Z",
     "iopub.status.idle": "2022-11-10T09:11:22.164343Z",
     "shell.execute_reply": "2022-11-10T09:11:22.162953Z"
    },
    "papermill": {
     "duration": 56.302633,
     "end_time": "2022-11-10T09:11:22.176925",
     "exception": false,
     "start_time": "2022-11-10T09:10:25.874292",
     "status": "completed"
    },
    "tags": []
   },
   "outputs": [
    {
     "name": "stdout",
     "output_type": "stream",
     "text": [
      "CPU times: user 29.3 s, sys: 6.92 s, total: 36.3 s\n",
      "Wall time: 56.3 s\n"
     ]
    }
   ],
   "source": [
    "%%time\n",
    "train_inp = pd.read_hdf(f'{DATA_DIR}/train_cite_inputs.h5')\n",
    "train_inp_cols = train_inp.columns"
   ]
  },
  {
   "cell_type": "code",
   "execution_count": 6,
   "id": "6846afdf",
   "metadata": {
    "execution": {
     "iopub.execute_input": "2022-11-10T09:11:22.199941Z",
     "iopub.status.busy": "2022-11-10T09:11:22.199398Z",
     "iopub.status.idle": "2022-11-10T09:12:00.764803Z",
     "shell.execute_reply": "2022-11-10T09:12:00.762866Z"
    },
    "papermill": {
     "duration": 38.594825,
     "end_time": "2022-11-10T09:12:00.782954",
     "exception": false,
     "start_time": "2022-11-10T09:11:22.188129",
     "status": "completed"
    },
    "tags": []
   },
   "outputs": [
    {
     "name": "stdout",
     "output_type": "stream",
     "text": [
      "CPU times: user 20.3 s, sys: 4.05 s, total: 24.4 s\n",
      "Wall time: 38.6 s\n"
     ]
    }
   ],
   "source": [
    "%%time\n",
    "test_inp = pd.read_hdf(f'{DATA_DIR}/test_cite_inputs.h5')"
   ]
  },
  {
   "cell_type": "code",
   "execution_count": 7,
   "id": "1d92bde8",
   "metadata": {
    "execution": {
     "iopub.execute_input": "2022-11-10T09:12:00.805642Z",
     "iopub.status.busy": "2022-11-10T09:12:00.805140Z",
     "iopub.status.idle": "2022-11-10T09:12:01.574880Z",
     "shell.execute_reply": "2022-11-10T09:12:01.573465Z"
    },
    "papermill": {
     "duration": 0.784574,
     "end_time": "2022-11-10T09:12:01.577486",
     "exception": false,
     "start_time": "2022-11-10T09:12:00.792912",
     "status": "completed"
    },
    "tags": []
   },
   "outputs": [
    {
     "name": "stdout",
     "output_type": "stream",
     "text": [
      "CPU times: user 183 ms, sys: 43.2 ms, total: 226 ms\n",
      "Wall time: 760 ms\n"
     ]
    }
   ],
   "source": [
    "%%time\n",
    "train_tar = pd.read_hdf(f'{DATA_DIR}/train_cite_targets.h5')\n",
    "train_tar_cols = train_tar.columns"
   ]
  },
  {
   "cell_type": "markdown",
   "id": "6fe09445",
   "metadata": {
    "papermill": {
     "duration": 0.00953,
     "end_time": "2022-11-10T09:12:01.597132",
     "exception": false,
     "start_time": "2022-11-10T09:12:01.587602",
     "status": "completed"
    },
    "tags": []
   },
   "source": [
    "## Feature Engineering"
   ]
  },
  {
   "cell_type": "markdown",
   "id": "9f7f055f",
   "metadata": {
    "papermill": {
     "duration": 0.00975,
     "end_time": "2022-11-10T09:12:01.616916",
     "exception": false,
     "start_time": "2022-11-10T09:12:01.607166",
     "status": "completed"
    },
    "tags": []
   },
   "source": [
    "### Remove Features"
   ]
  },
  {
   "cell_type": "markdown",
   "id": "59977ccf",
   "metadata": {
    "papermill": {
     "duration": 0.009484,
     "end_time": "2022-11-10T09:12:01.636292",
     "exception": false,
     "start_time": "2022-11-10T09:12:01.626808",
     "status": "completed"
    },
    "tags": []
   },
   "source": [
    "Find and remove columns with all zeroes"
   ]
  },
  {
   "cell_type": "code",
   "execution_count": 8,
   "id": "e5debe87",
   "metadata": {
    "execution": {
     "iopub.execute_input": "2022-11-10T09:12:01.658780Z",
     "iopub.status.busy": "2022-11-10T09:12:01.658078Z",
     "iopub.status.idle": "2022-11-10T09:12:42.226586Z",
     "shell.execute_reply": "2022-11-10T09:12:42.225151Z"
    },
    "papermill": {
     "duration": 40.583625,
     "end_time": "2022-11-10T09:12:42.229759",
     "exception": false,
     "start_time": "2022-11-10T09:12:01.646134",
     "status": "completed"
    },
    "tags": []
   },
   "outputs": [
    {
     "name": "stdout",
     "output_type": "stream",
     "text": [
      "0\n",
      "1000\n",
      "2000\n",
      "3000\n",
      "4000\n",
      "5000\n",
      "6000\n",
      "7000\n",
      "8000\n",
      "9000\n",
      "10000\n",
      "11000\n",
      "12000\n",
      "13000\n",
      "14000\n",
      "15000\n",
      "16000\n",
      "17000\n",
      "18000\n",
      "19000\n",
      "20000\n",
      "21000\n",
      "22000\n",
      "Number of columns with zero values only (Train or Test): 1194\n",
      "CPU times: user 40.1 s, sys: 442 ms, total: 40.6 s\n",
      "Wall time: 40.6 s\n"
     ]
    }
   ],
   "source": [
    "%%time\n",
    "zero_cols = []\n",
    "for idx, col in enumerate(train_inp_cols, 0):\n",
    "    if idx % 1000 == 0:\n",
    "        print(idx)\n",
    "    if len(train_inp[col].unique()) == 1 or len(test_inp[col].unique()) == 1:\n",
    "        zero_cols.append(col)\n",
    "print('Number of columns with zero values only (Train or Test):', \n",
    "      len(zero_cols))"
   ]
  },
  {
   "cell_type": "code",
   "execution_count": 9,
   "id": "89f60121",
   "metadata": {
    "execution": {
     "iopub.execute_input": "2022-11-10T09:12:42.254303Z",
     "iopub.status.busy": "2022-11-10T09:12:42.253846Z",
     "iopub.status.idle": "2022-11-10T09:12:45.626921Z",
     "shell.execute_reply": "2022-11-10T09:12:45.626085Z"
    },
    "papermill": {
     "duration": 3.389074,
     "end_time": "2022-11-10T09:12:45.630174",
     "exception": false,
     "start_time": "2022-11-10T09:12:42.241100",
     "status": "completed"
    },
    "tags": []
   },
   "outputs": [
    {
     "name": "stdout",
     "output_type": "stream",
     "text": [
      "CPU times: user 1.38 s, sys: 2.01 s, total: 3.38 s\n",
      "Wall time: 3.36 s\n"
     ]
    },
    {
     "data": {
      "text/plain": [
       "((70988, 20856), (48663, 20856))"
      ]
     },
     "execution_count": 9,
     "metadata": {},
     "output_type": "execute_result"
    }
   ],
   "source": [
    "%%time\n",
    "train_inp = train_inp.drop(zero_cols, axis=1)\n",
    "train_inp_cols = train_inp.columns\n",
    "test_inp = test_inp.drop(zero_cols, axis=1)\n",
    "train_inp.shape, test_inp.shape"
   ]
  },
  {
   "cell_type": "markdown",
   "id": "cb9b1cce",
   "metadata": {
    "papermill": {
     "duration": 0.011003,
     "end_time": "2022-11-10T09:12:45.652851",
     "exception": false,
     "start_time": "2022-11-10T09:12:45.641848",
     "status": "completed"
    },
    "tags": []
   },
   "source": [
    "### Introduce Metadata"
   ]
  },
  {
   "cell_type": "code",
   "execution_count": 10,
   "id": "0a899d02",
   "metadata": {
    "execution": {
     "iopub.execute_input": "2022-11-10T09:12:45.677677Z",
     "iopub.status.busy": "2022-11-10T09:12:45.677021Z",
     "iopub.status.idle": "2022-11-10T09:12:46.798348Z",
     "shell.execute_reply": "2022-11-10T09:12:46.797210Z"
    },
    "papermill": {
     "duration": 1.136803,
     "end_time": "2022-11-10T09:12:46.800979",
     "exception": false,
     "start_time": "2022-11-10T09:12:45.664176",
     "status": "completed"
    },
    "tags": []
   },
   "outputs": [
    {
     "name": "stdout",
     "output_type": "stream",
     "text": [
      "total 7.1G\r\n",
      "-rw-r--r-- 1 nobody nogroup  25K Oct 25 09:30 __notebook__.ipynb\r\n",
      "-rw-r--r-- 1 nobody nogroup  25K Oct 25 09:30 __output__.json\r\n",
      "-rw-r--r-- 1 nobody nogroup 293K Oct 25 09:30 __results__.html\r\n",
      "-rw-r--r-- 1 nobody nogroup    0 Oct 25 09:30 custom.css\r\n",
      "-rw-r--r-- 1 nobody nogroup 359M Oct 25 09:30 evaluation_ids.parquet\r\n",
      "-rw-r--r-- 1 nobody nogroup 3.8M Oct 25 09:30 metadata.parquet\r\n",
      "-rw-r--r-- 1 nobody nogroup 108K Oct 25 09:30 metadata_cite_day_2_donor_27678.parquet\r\n",
      "-rw-r--r-- 1 nobody nogroup 252M Oct 25 09:30 sample_submission.parquet\r\n",
      "-rw-r--r-- 1 nobody nogroup 856K Oct 25 09:30 test_cite_inputs_day_2_donor_27678_idx.npz\r\n",
      "-rw-r--r-- 1 nobody nogroup  78M Oct 25 09:30 test_cite_inputs_day_2_donor_27678_val.sparse.npz\r\n",
      "-rw-r--r-- 1 nobody nogroup 1.8M Oct 25 09:30 test_cite_inputs_idx.npz\r\n",
      "-rw-r--r-- 1 nobody nogroup 488M Oct 25 09:31 test_cite_inputs_val.sparse.npz\r\n",
      "-rw-r--r-- 1 nobody nogroup 8.4M Oct 25 09:30 test_multi_inputs_idx.npz\r\n",
      "-rw-r--r-- 1 nobody nogroup 1.7G Oct 25 09:31 test_multi_inputs_val.sparse.npz\r\n",
      "-rw-r--r-- 1 nobody nogroup 2.2M Oct 25 09:30 train_cite_inputs_idx.npz\r\n",
      "-rw-r--r-- 1 nobody nogroup 712M Oct 25 09:31 train_cite_inputs_val.sparse.npz\r\n",
      "-rw-r--r-- 1 nobody nogroup 1.5M Oct 25 09:30 train_cite_targets_idx.npz\r\n",
      "-rw-r--r-- 1 nobody nogroup  36M Oct 25 09:30 train_cite_targets_val.sparse.npz\r\n",
      "-rw-r--r-- 1 nobody nogroup 9.5M Oct 25 09:30 train_multi_inputs_idx.npz\r\n",
      "-rw-r--r-- 1 nobody nogroup 2.8G Oct 25 09:31 train_multi_inputs_val.sparse.npz\r\n",
      "-rw-r--r-- 1 nobody nogroup 2.8M Oct 25 09:30 train_multi_targets_idx.npz\r\n",
      "-rw-r--r-- 1 nobody nogroup 824M Oct 25 09:31 train_multi_targets_val.sparse.npz\r\n"
     ]
    }
   ],
   "source": [
    "DATA_DIR = '../input/msci-h5-sparse-transform'\n",
    "%ls $DATA_DIR -lh"
   ]
  },
  {
   "cell_type": "code",
   "execution_count": 11,
   "id": "8832b7ba",
   "metadata": {
    "execution": {
     "iopub.execute_input": "2022-11-10T09:12:46.826745Z",
     "iopub.status.busy": "2022-11-10T09:12:46.825826Z",
     "iopub.status.idle": "2022-11-10T09:12:47.284863Z",
     "shell.execute_reply": "2022-11-10T09:12:47.283343Z"
    },
    "papermill": {
     "duration": 0.47462,
     "end_time": "2022-11-10T09:12:47.287292",
     "exception": false,
     "start_time": "2022-11-10T09:12:46.812672",
     "status": "completed"
    },
    "tags": []
   },
   "outputs": [
    {
     "name": "stdout",
     "output_type": "stream",
     "text": [
      "(119651, 5)\n",
      "CPU times: user 220 ms, sys: 135 ms, total: 355 ms\n",
      "Wall time: 438 ms\n"
     ]
    },
    {
     "data": {
      "text/html": [
       "<div>\n",
       "<style scoped>\n",
       "    .dataframe tbody tr th:only-of-type {\n",
       "        vertical-align: middle;\n",
       "    }\n",
       "\n",
       "    .dataframe tbody tr th {\n",
       "        vertical-align: top;\n",
       "    }\n",
       "\n",
       "    .dataframe thead th {\n",
       "        text-align: right;\n",
       "    }\n",
       "</style>\n",
       "<table border=\"1\" class=\"dataframe\">\n",
       "  <thead>\n",
       "    <tr style=\"text-align: right;\">\n",
       "      <th></th>\n",
       "      <th>cell_id</th>\n",
       "      <th>day</th>\n",
       "      <th>donor</th>\n",
       "      <th>cell_type</th>\n",
       "      <th>technology</th>\n",
       "    </tr>\n",
       "  </thead>\n",
       "  <tbody>\n",
       "    <tr>\n",
       "      <th>0</th>\n",
       "      <td>c2150f55becb</td>\n",
       "      <td>2</td>\n",
       "      <td>27678</td>\n",
       "      <td>HSC</td>\n",
       "      <td>citeseq</td>\n",
       "    </tr>\n",
       "    <tr>\n",
       "      <th>1</th>\n",
       "      <td>65b7edf8a4da</td>\n",
       "      <td>2</td>\n",
       "      <td>27678</td>\n",
       "      <td>HSC</td>\n",
       "      <td>citeseq</td>\n",
       "    </tr>\n",
       "    <tr>\n",
       "      <th>2</th>\n",
       "      <td>c1b26cb1057b</td>\n",
       "      <td>2</td>\n",
       "      <td>27678</td>\n",
       "      <td>EryP</td>\n",
       "      <td>citeseq</td>\n",
       "    </tr>\n",
       "    <tr>\n",
       "      <th>3</th>\n",
       "      <td>917168fa6f83</td>\n",
       "      <td>2</td>\n",
       "      <td>27678</td>\n",
       "      <td>NeuP</td>\n",
       "      <td>citeseq</td>\n",
       "    </tr>\n",
       "    <tr>\n",
       "      <th>4</th>\n",
       "      <td>2b29feeca86d</td>\n",
       "      <td>2</td>\n",
       "      <td>27678</td>\n",
       "      <td>EryP</td>\n",
       "      <td>citeseq</td>\n",
       "    </tr>\n",
       "  </tbody>\n",
       "</table>\n",
       "</div>"
      ],
      "text/plain": [
       "        cell_id  day  donor cell_type technology\n",
       "0  c2150f55becb    2  27678       HSC    citeseq\n",
       "1  65b7edf8a4da    2  27678       HSC    citeseq\n",
       "2  c1b26cb1057b    2  27678      EryP    citeseq\n",
       "3  917168fa6f83    2  27678      NeuP    citeseq\n",
       "4  2b29feeca86d    2  27678      EryP    citeseq"
      ]
     },
     "execution_count": 11,
     "metadata": {},
     "output_type": "execute_result"
    }
   ],
   "source": [
    "%%time\n",
    "meta_data = pd.read_parquet(f'{DATA_DIR}/metadata.parquet')\n",
    "meta_data_cite = meta_data[meta_data['technology'] == 'citeseq']\n",
    "print(meta_data_cite.shape)\n",
    "meta_data.head()"
   ]
  },
  {
   "cell_type": "code",
   "execution_count": 12,
   "id": "af59ad77",
   "metadata": {
    "execution": {
     "iopub.execute_input": "2022-11-10T09:12:47.312879Z",
     "iopub.status.busy": "2022-11-10T09:12:47.312432Z",
     "iopub.status.idle": "2022-11-10T09:12:47.454253Z",
     "shell.execute_reply": "2022-11-10T09:12:47.453077Z"
    },
    "papermill": {
     "duration": 0.157354,
     "end_time": "2022-11-10T09:12:47.456681",
     "exception": false,
     "start_time": "2022-11-10T09:12:47.299327",
     "status": "completed"
    },
    "tags": []
   },
   "outputs": [
    {
     "data": {
      "text/plain": [
       "21"
      ]
     },
     "execution_count": 12,
     "metadata": {},
     "output_type": "execute_result"
    }
   ],
   "source": [
    "del meta_data\n",
    "gc.collect()"
   ]
  },
  {
   "cell_type": "code",
   "execution_count": 13,
   "id": "91a8a08f",
   "metadata": {
    "execution": {
     "iopub.execute_input": "2022-11-10T09:12:47.482417Z",
     "iopub.status.busy": "2022-11-10T09:12:47.481997Z",
     "iopub.status.idle": "2022-11-10T09:12:48.384573Z",
     "shell.execute_reply": "2022-11-10T09:12:48.383603Z"
    },
    "papermill": {
     "duration": 0.918525,
     "end_time": "2022-11-10T09:12:48.387180",
     "exception": false,
     "start_time": "2022-11-10T09:12:47.468655",
     "status": "completed"
    },
    "tags": []
   },
   "outputs": [],
   "source": [
    "from sklearn.preprocessing import OneHotEncoder"
   ]
  },
  {
   "cell_type": "code",
   "execution_count": 14,
   "id": "c07653a2",
   "metadata": {
    "execution": {
     "iopub.execute_input": "2022-11-10T09:12:48.413249Z",
     "iopub.status.busy": "2022-11-10T09:12:48.412587Z",
     "iopub.status.idle": "2022-11-10T09:12:48.494544Z",
     "shell.execute_reply": "2022-11-10T09:12:48.493397Z"
    },
    "papermill": {
     "duration": 0.097691,
     "end_time": "2022-11-10T09:12:48.496934",
     "exception": false,
     "start_time": "2022-11-10T09:12:48.399243",
     "status": "completed"
    },
    "tags": []
   },
   "outputs": [
    {
     "data": {
      "text/html": [
       "<div>\n",
       "<style scoped>\n",
       "    .dataframe tbody tr th:only-of-type {\n",
       "        vertical-align: middle;\n",
       "    }\n",
       "\n",
       "    .dataframe tbody tr th {\n",
       "        vertical-align: top;\n",
       "    }\n",
       "\n",
       "    .dataframe thead th {\n",
       "        text-align: right;\n",
       "    }\n",
       "</style>\n",
       "<table border=\"1\" class=\"dataframe\">\n",
       "  <thead>\n",
       "    <tr style=\"text-align: right;\">\n",
       "      <th></th>\n",
       "      <th>cell_id</th>\n",
       "      <th>day</th>\n",
       "      <th>donor</th>\n",
       "      <th>cell_type</th>\n",
       "      <th>technology</th>\n",
       "      <th>x0_BP</th>\n",
       "      <th>x0_EryP</th>\n",
       "      <th>x0_HSC</th>\n",
       "      <th>x0_MasP</th>\n",
       "      <th>x0_MkP</th>\n",
       "      <th>x0_MoP</th>\n",
       "      <th>x0_NeuP</th>\n",
       "    </tr>\n",
       "  </thead>\n",
       "  <tbody>\n",
       "    <tr>\n",
       "      <th>0</th>\n",
       "      <td>c2150f55becb</td>\n",
       "      <td>2</td>\n",
       "      <td>27678</td>\n",
       "      <td>HSC</td>\n",
       "      <td>citeseq</td>\n",
       "      <td>0.0</td>\n",
       "      <td>0.0</td>\n",
       "      <td>1.0</td>\n",
       "      <td>0.0</td>\n",
       "      <td>0.0</td>\n",
       "      <td>0.0</td>\n",
       "      <td>0.0</td>\n",
       "    </tr>\n",
       "    <tr>\n",
       "      <th>1</th>\n",
       "      <td>65b7edf8a4da</td>\n",
       "      <td>2</td>\n",
       "      <td>27678</td>\n",
       "      <td>HSC</td>\n",
       "      <td>citeseq</td>\n",
       "      <td>0.0</td>\n",
       "      <td>0.0</td>\n",
       "      <td>1.0</td>\n",
       "      <td>0.0</td>\n",
       "      <td>0.0</td>\n",
       "      <td>0.0</td>\n",
       "      <td>0.0</td>\n",
       "    </tr>\n",
       "    <tr>\n",
       "      <th>2</th>\n",
       "      <td>c1b26cb1057b</td>\n",
       "      <td>2</td>\n",
       "      <td>27678</td>\n",
       "      <td>EryP</td>\n",
       "      <td>citeseq</td>\n",
       "      <td>0.0</td>\n",
       "      <td>1.0</td>\n",
       "      <td>0.0</td>\n",
       "      <td>0.0</td>\n",
       "      <td>0.0</td>\n",
       "      <td>0.0</td>\n",
       "      <td>0.0</td>\n",
       "    </tr>\n",
       "    <tr>\n",
       "      <th>3</th>\n",
       "      <td>917168fa6f83</td>\n",
       "      <td>2</td>\n",
       "      <td>27678</td>\n",
       "      <td>NeuP</td>\n",
       "      <td>citeseq</td>\n",
       "      <td>0.0</td>\n",
       "      <td>0.0</td>\n",
       "      <td>0.0</td>\n",
       "      <td>0.0</td>\n",
       "      <td>0.0</td>\n",
       "      <td>0.0</td>\n",
       "      <td>1.0</td>\n",
       "    </tr>\n",
       "    <tr>\n",
       "      <th>4</th>\n",
       "      <td>2b29feeca86d</td>\n",
       "      <td>2</td>\n",
       "      <td>27678</td>\n",
       "      <td>EryP</td>\n",
       "      <td>citeseq</td>\n",
       "      <td>0.0</td>\n",
       "      <td>1.0</td>\n",
       "      <td>0.0</td>\n",
       "      <td>0.0</td>\n",
       "      <td>0.0</td>\n",
       "      <td>0.0</td>\n",
       "      <td>0.0</td>\n",
       "    </tr>\n",
       "  </tbody>\n",
       "</table>\n",
       "</div>"
      ],
      "text/plain": [
       "        cell_id  day  donor cell_type technology  x0_BP  x0_EryP  x0_HSC  \\\n",
       "0  c2150f55becb    2  27678       HSC    citeseq    0.0      0.0     1.0   \n",
       "1  65b7edf8a4da    2  27678       HSC    citeseq    0.0      0.0     1.0   \n",
       "2  c1b26cb1057b    2  27678      EryP    citeseq    0.0      1.0     0.0   \n",
       "3  917168fa6f83    2  27678      NeuP    citeseq    0.0      0.0     0.0   \n",
       "4  2b29feeca86d    2  27678      EryP    citeseq    0.0      1.0     0.0   \n",
       "\n",
       "   x0_MasP  x0_MkP  x0_MoP  x0_NeuP  \n",
       "0      0.0     0.0     0.0      0.0  \n",
       "1      0.0     0.0     0.0      0.0  \n",
       "2      0.0     0.0     0.0      0.0  \n",
       "3      0.0     0.0     0.0      1.0  \n",
       "4      0.0     0.0     0.0      0.0  "
      ]
     },
     "execution_count": 14,
     "metadata": {},
     "output_type": "execute_result"
    }
   ],
   "source": [
    "cell_type_df = meta_data_cite[['cell_type']].copy()\n",
    "ohe = OneHotEncoder()\n",
    "cell_type_df = ohe.fit_transform(cell_type_df)\n",
    "cell_type_df = pd.DataFrame(cell_type_df.todense(), \n",
    "                            columns=ohe.get_feature_names())\n",
    "meta_data_cite = pd.concat([meta_data_cite, cell_type_df], axis=1)\n",
    "meta_data_cite.head()"
   ]
  },
  {
   "cell_type": "code",
   "execution_count": 15,
   "id": "896bde62",
   "metadata": {
    "execution": {
     "iopub.execute_input": "2022-11-10T09:12:48.523237Z",
     "iopub.status.busy": "2022-11-10T09:12:48.522629Z",
     "iopub.status.idle": "2022-11-10T09:12:48.646683Z",
     "shell.execute_reply": "2022-11-10T09:12:48.645385Z"
    },
    "papermill": {
     "duration": 0.140152,
     "end_time": "2022-11-10T09:12:48.649075",
     "exception": false,
     "start_time": "2022-11-10T09:12:48.508923",
     "status": "completed"
    },
    "tags": []
   },
   "outputs": [
    {
     "data": {
      "text/plain": [
       "21"
      ]
     },
     "execution_count": 15,
     "metadata": {},
     "output_type": "execute_result"
    }
   ],
   "source": [
    "del cell_type_df\n",
    "gc.collect()"
   ]
  },
  {
   "cell_type": "code",
   "execution_count": 16,
   "id": "1544b07c",
   "metadata": {
    "execution": {
     "iopub.execute_input": "2022-11-10T09:12:48.675770Z",
     "iopub.status.busy": "2022-11-10T09:12:48.675071Z",
     "iopub.status.idle": "2022-11-10T09:12:48.700578Z",
     "shell.execute_reply": "2022-11-10T09:12:48.699397Z"
    },
    "papermill": {
     "duration": 0.041988,
     "end_time": "2022-11-10T09:12:48.703327",
     "exception": false,
     "start_time": "2022-11-10T09:12:48.661339",
     "status": "completed"
    },
    "tags": []
   },
   "outputs": [],
   "source": [
    "meta_data_cite = meta_data_cite.drop(['day', 'donor', \n",
    "                                      'cell_type', 'technology'],\n",
    "                                     axis=1)\n",
    "cell_ids = meta_data_cite['cell_id']\n",
    "meta_data_cite = meta_data_cite.drop('cell_id', axis=1)\n",
    "meta_data_cite.index = cell_ids"
   ]
  },
  {
   "cell_type": "code",
   "execution_count": 17,
   "id": "a7919130",
   "metadata": {
    "execution": {
     "iopub.execute_input": "2022-11-10T09:12:48.729489Z",
     "iopub.status.busy": "2022-11-10T09:12:48.729073Z",
     "iopub.status.idle": "2022-11-10T09:12:48.737083Z",
     "shell.execute_reply": "2022-11-10T09:12:48.735821Z"
    },
    "papermill": {
     "duration": 0.023746,
     "end_time": "2022-11-10T09:12:48.739403",
     "exception": false,
     "start_time": "2022-11-10T09:12:48.715657",
     "status": "completed"
    },
    "tags": []
   },
   "outputs": [
    {
     "data": {
      "text/plain": [
       "['x0_BP', 'x0_EryP', 'x0_HSC', 'x0_MasP', 'x0_MkP', 'x0_MoP', 'x0_NeuP']"
      ]
     },
     "execution_count": 17,
     "metadata": {},
     "output_type": "execute_result"
    }
   ],
   "source": [
    "meta_data_cols = [col for col in meta_data_cite.columns\n",
    "                  if col != 'cell_id']\n",
    "meta_data_cols"
   ]
  },
  {
   "cell_type": "code",
   "execution_count": 18,
   "id": "8518ca70",
   "metadata": {
    "execution": {
     "iopub.execute_input": "2022-11-10T09:12:48.767487Z",
     "iopub.status.busy": "2022-11-10T09:12:48.767044Z",
     "iopub.status.idle": "2022-11-10T09:12:49.535490Z",
     "shell.execute_reply": "2022-11-10T09:12:49.534255Z"
    },
    "papermill": {
     "duration": 0.786168,
     "end_time": "2022-11-10T09:12:49.538136",
     "exception": false,
     "start_time": "2022-11-10T09:12:48.751968",
     "status": "completed"
    },
    "tags": []
   },
   "outputs": [
    {
     "data": {
      "text/plain": [
       "0"
      ]
     },
     "execution_count": 18,
     "metadata": {},
     "output_type": "execute_result"
    }
   ],
   "source": [
    "meta_data_cite_dict = meta_data_cite.to_dict('index')\n",
    "del meta_data_cite, cell_ids\n",
    "gc.collect()"
   ]
  },
  {
   "cell_type": "code",
   "execution_count": 19,
   "id": "d7d44f12",
   "metadata": {
    "execution": {
     "iopub.execute_input": "2022-11-10T09:12:49.565320Z",
     "iopub.status.busy": "2022-11-10T09:12:49.564896Z",
     "iopub.status.idle": "2022-11-10T09:12:49.572407Z",
     "shell.execute_reply": "2022-11-10T09:12:49.571269Z"
    },
    "papermill": {
     "duration": 0.023511,
     "end_time": "2022-11-10T09:12:49.574646",
     "exception": false,
     "start_time": "2022-11-10T09:12:49.551135",
     "status": "completed"
    },
    "tags": []
   },
   "outputs": [
    {
     "data": {
      "text/plain": [
       "((70988, 20856), (48663, 20856))"
      ]
     },
     "execution_count": 19,
     "metadata": {},
     "output_type": "execute_result"
    }
   ],
   "source": [
    "train_inp.shape, test_inp.shape"
   ]
  },
  {
   "cell_type": "code",
   "execution_count": 20,
   "id": "d0dddca2",
   "metadata": {
    "execution": {
     "iopub.execute_input": "2022-11-10T09:12:49.601576Z",
     "iopub.status.busy": "2022-11-10T09:12:49.601158Z",
     "iopub.status.idle": "2022-11-10T09:12:50.357962Z",
     "shell.execute_reply": "2022-11-10T09:12:50.356594Z"
    },
    "papermill": {
     "duration": 0.773746,
     "end_time": "2022-11-10T09:12:50.360835",
     "exception": false,
     "start_time": "2022-11-10T09:12:49.587089",
     "status": "completed"
    },
    "tags": []
   },
   "outputs": [],
   "source": [
    "for col in meta_data_cols:\n",
    "    train_inp[col] = train_inp.index.to_series()\\\n",
    "                              .apply(lambda x: meta_data_cite_dict[x][col])\\\n",
    "                              .astype('float32')\n",
    "    test_inp[col] = test_inp.index.to_series()\\\n",
    "                            .apply(lambda x: meta_data_cite_dict[x][col])\\\n",
    "                            .astype('float32')"
   ]
  },
  {
   "cell_type": "code",
   "execution_count": 21,
   "id": "76d39410",
   "metadata": {
    "execution": {
     "iopub.execute_input": "2022-11-10T09:12:50.388338Z",
     "iopub.status.busy": "2022-11-10T09:12:50.387938Z",
     "iopub.status.idle": "2022-11-10T09:12:50.537948Z",
     "shell.execute_reply": "2022-11-10T09:12:50.536694Z"
    },
    "papermill": {
     "duration": 0.166974,
     "end_time": "2022-11-10T09:12:50.540582",
     "exception": false,
     "start_time": "2022-11-10T09:12:50.373608",
     "status": "completed"
    },
    "tags": []
   },
   "outputs": [
    {
     "data": {
      "text/plain": [
       "63"
      ]
     },
     "execution_count": 21,
     "metadata": {},
     "output_type": "execute_result"
    }
   ],
   "source": [
    "del meta_data_cite_dict\n",
    "gc.collect()"
   ]
  },
  {
   "cell_type": "markdown",
   "id": "b8cbb977",
   "metadata": {
    "papermill": {
     "duration": 0.012358,
     "end_time": "2022-11-10T09:12:50.565832",
     "exception": false,
     "start_time": "2022-11-10T09:12:50.553474",
     "status": "completed"
    },
    "tags": []
   },
   "source": [
    "### Dimension Reduction"
   ]
  },
  {
   "cell_type": "markdown",
   "id": "a934a39e",
   "metadata": {
    "papermill": {
     "duration": 0.012389,
     "end_time": "2022-11-10T09:12:50.591020",
     "exception": false,
     "start_time": "2022-11-10T09:12:50.578631",
     "status": "completed"
    },
    "tags": []
   },
   "source": [
    "Find features in target columns that are related to input columns due to identical names"
   ]
  },
  {
   "cell_type": "code",
   "execution_count": 22,
   "id": "3f04b216",
   "metadata": {
    "execution": {
     "iopub.execute_input": "2022-11-10T09:12:50.619446Z",
     "iopub.status.busy": "2022-11-10T09:12:50.618540Z",
     "iopub.status.idle": "2022-11-10T09:12:51.242579Z",
     "shell.execute_reply": "2022-11-10T09:12:51.240882Z"
    },
    "papermill": {
     "duration": 0.642711,
     "end_time": "2022-11-10T09:12:51.246611",
     "exception": false,
     "start_time": "2022-11-10T09:12:50.603900",
     "status": "completed"
    },
    "tags": []
   },
   "outputs": [
    {
     "name": "stdout",
     "output_type": "stream",
     "text": [
      "Number of target columns shown in training columns: 144\n",
      "CPU times: user 614 ms, sys: 0 ns, total: 614 ms\n",
      "Wall time: 616 ms\n"
     ]
    }
   ],
   "source": [
    "%%time\n",
    "same_name_cols = []\n",
    "for tar_col in train_tar_cols:\n",
    "    for inp_col in train_inp_cols:\n",
    "        if tar_col in inp_col:\n",
    "            same_name_cols.append(inp_col)\n",
    "print('Number of target columns shown in training columns:', \n",
    "      len(same_name_cols))"
   ]
  },
  {
   "cell_type": "markdown",
   "id": "83c40840",
   "metadata": {
    "papermill": {
     "duration": 0.013138,
     "end_time": "2022-11-10T09:12:51.273095",
     "exception": false,
     "start_time": "2022-11-10T09:12:51.259957",
     "status": "completed"
    },
    "tags": []
   },
   "source": [
    "Keep identical name columns and transform the rest to sparse matrices"
   ]
  },
  {
   "cell_type": "code",
   "execution_count": 23,
   "id": "4f97a0cd",
   "metadata": {
    "execution": {
     "iopub.execute_input": "2022-11-10T09:12:51.302246Z",
     "iopub.status.busy": "2022-11-10T09:12:51.301490Z",
     "iopub.status.idle": "2022-11-10T09:13:00.143781Z",
     "shell.execute_reply": "2022-11-10T09:13:00.142394Z"
    },
    "papermill": {
     "duration": 8.860322,
     "end_time": "2022-11-10T09:13:00.146499",
     "exception": false,
     "start_time": "2022-11-10T09:12:51.286177",
     "status": "completed"
    },
    "tags": []
   },
   "outputs": [
    {
     "data": {
      "text/plain": [
       "((70988, 144), (48663, 144))"
      ]
     },
     "execution_count": 23,
     "metadata": {},
     "output_type": "execute_result"
    }
   ],
   "source": [
    "train_inp_sn = train_inp[same_name_cols].values\n",
    "test_inp_sn = test_inp[same_name_cols].values\n",
    "train_inp_sn.shape, test_inp_sn.shape"
   ]
  },
  {
   "cell_type": "code",
   "execution_count": 24,
   "id": "5861f11a",
   "metadata": {
    "execution": {
     "iopub.execute_input": "2022-11-10T09:13:00.174452Z",
     "iopub.status.busy": "2022-11-10T09:13:00.174022Z",
     "iopub.status.idle": "2022-11-10T09:13:00.184689Z",
     "shell.execute_reply": "2022-11-10T09:13:00.183459Z"
    },
    "papermill": {
     "duration": 0.027433,
     "end_time": "2022-11-10T09:13:00.186992",
     "exception": false,
     "start_time": "2022-11-10T09:13:00.159559",
     "status": "completed"
    },
    "tags": []
   },
   "outputs": [
    {
     "data": {
      "text/plain": [
       "((70988, 7), (48663, 7))"
      ]
     },
     "execution_count": 24,
     "metadata": {},
     "output_type": "execute_result"
    }
   ],
   "source": [
    "train_inp_ct = train_inp[meta_data_cols].values\n",
    "test_inp_ct = test_inp[meta_data_cols].values\n",
    "train_inp_ct.shape, test_inp_ct.shape"
   ]
  },
  {
   "cell_type": "code",
   "execution_count": 25,
   "id": "cc391b6c",
   "metadata": {
    "execution": {
     "iopub.execute_input": "2022-11-10T09:13:00.215183Z",
     "iopub.status.busy": "2022-11-10T09:13:00.214744Z",
     "iopub.status.idle": "2022-11-10T09:14:26.946571Z",
     "shell.execute_reply": "2022-11-10T09:14:26.945078Z"
    },
    "papermill": {
     "duration": 86.761251,
     "end_time": "2022-11-10T09:14:26.961402",
     "exception": false,
     "start_time": "2022-11-10T09:13:00.200151",
     "status": "completed"
    },
    "tags": []
   },
   "outputs": [
    {
     "name": "stdout",
     "output_type": "stream",
     "text": [
      "CPU times: user 1min 17s, sys: 8.85 s, total: 1min 26s\n",
      "Wall time: 1min 26s\n"
     ]
    },
    {
     "data": {
      "text/plain": [
       "84"
      ]
     },
     "execution_count": 25,
     "metadata": {},
     "output_type": "execute_result"
    }
   ],
   "source": [
    "%%time\n",
    "train_inp = train_inp.drop(same_name_cols, axis=1)\\\n",
    "                     .drop(meta_data_cols, axis=1)\n",
    "train_inp = scipy.sparse.csr_matrix(train_inp.values)\n",
    "test_inp = test_inp.drop(same_name_cols, axis=1)\\\n",
    "                   .drop(meta_data_cols, axis=1)\n",
    "test_inp = scipy.sparse.csr_matrix(test_inp.values)\n",
    "gc.collect()"
   ]
  },
  {
   "cell_type": "markdown",
   "id": "8fb3ffd0",
   "metadata": {
    "papermill": {
     "duration": 0.012754,
     "end_time": "2022-11-10T09:14:26.987372",
     "exception": false,
     "start_time": "2022-11-10T09:14:26.974618",
     "status": "completed"
    },
    "tags": []
   },
   "source": [
    "Reduce dimension"
   ]
  },
  {
   "cell_type": "code",
   "execution_count": 26,
   "id": "845a0b67",
   "metadata": {
    "execution": {
     "iopub.execute_input": "2022-11-10T09:14:27.016844Z",
     "iopub.status.busy": "2022-11-10T09:14:27.015576Z",
     "iopub.status.idle": "2022-11-10T09:14:27.188379Z",
     "shell.execute_reply": "2022-11-10T09:14:27.186963Z"
    },
    "papermill": {
     "duration": 0.191156,
     "end_time": "2022-11-10T09:14:27.191630",
     "exception": false,
     "start_time": "2022-11-10T09:14:27.000474",
     "status": "completed"
    },
    "tags": []
   },
   "outputs": [],
   "source": [
    "from sklearn.decomposition import TruncatedSVD"
   ]
  },
  {
   "cell_type": "code",
   "execution_count": 27,
   "id": "e3dcc3c9",
   "metadata": {
    "execution": {
     "iopub.execute_input": "2022-11-10T09:14:27.221594Z",
     "iopub.status.busy": "2022-11-10T09:14:27.221132Z",
     "iopub.status.idle": "2022-11-10T09:37:33.669414Z",
     "shell.execute_reply": "2022-11-10T09:37:33.666953Z"
    },
    "papermill": {
     "duration": 1386.482203,
     "end_time": "2022-11-10T09:37:33.687871",
     "exception": false,
     "start_time": "2022-11-10T09:14:27.205668",
     "status": "completed"
    },
    "tags": []
   },
   "outputs": [
    {
     "name": "stdout",
     "output_type": "stream",
     "text": [
      "Sum of Explained Variance:  0.19528116\n",
      "CPU times: user 23min 20s, sys: 16.8 s, total: 23min 36s\n",
      "Wall time: 23min 6s\n"
     ]
    }
   ],
   "source": [
    "%%time\n",
    "## Baseline\n",
    "train_inp_tsvd = TruncatedSVD(n_components=512, \n",
    "                              random_state=42)\n",
    "\n",
    "train_inp = train_inp_tsvd.fit_transform(train_inp)\n",
    "print('Sum of Explained Variance: ',\n",
    "      np.sum(train_inp_tsvd.explained_variance_ratio_))\n",
    "test_inp = train_inp_tsvd.transform(test_inp)"
   ]
  },
  {
   "cell_type": "markdown",
   "id": "1872ece0",
   "metadata": {
    "papermill": {
     "duration": 0.014113,
     "end_time": "2022-11-10T09:37:33.717540",
     "exception": false,
     "start_time": "2022-11-10T09:37:33.703427",
     "status": "completed"
    },
    "tags": []
   },
   "source": [
    "### Standardization"
   ]
  },
  {
   "cell_type": "code",
   "execution_count": 28,
   "id": "bec311fb",
   "metadata": {
    "execution": {
     "iopub.execute_input": "2022-11-10T09:37:33.750291Z",
     "iopub.status.busy": "2022-11-10T09:37:33.748871Z",
     "iopub.status.idle": "2022-11-10T09:37:33.756900Z",
     "shell.execute_reply": "2022-11-10T09:37:33.755666Z"
    },
    "papermill": {
     "duration": 0.028187,
     "end_time": "2022-11-10T09:37:33.759843",
     "exception": false,
     "start_time": "2022-11-10T09:37:33.731656",
     "status": "completed"
    },
    "tags": []
   },
   "outputs": [],
   "source": [
    "from sklearn.preprocessing import StandardScaler"
   ]
  },
  {
   "cell_type": "code",
   "execution_count": 29,
   "id": "915a5a50",
   "metadata": {
    "execution": {
     "iopub.execute_input": "2022-11-10T09:37:33.789969Z",
     "iopub.status.busy": "2022-11-10T09:37:33.788652Z",
     "iopub.status.idle": "2022-11-10T09:37:34.050303Z",
     "shell.execute_reply": "2022-11-10T09:37:34.048955Z"
    },
    "papermill": {
     "duration": 0.280054,
     "end_time": "2022-11-10T09:37:34.053617",
     "exception": false,
     "start_time": "2022-11-10T09:37:33.773563",
     "status": "completed"
    },
    "tags": []
   },
   "outputs": [],
   "source": [
    "train_inp = np.hstack([train_inp, train_inp_sn])\n",
    "test_inp = np.hstack([test_inp, test_inp_sn])"
   ]
  },
  {
   "cell_type": "code",
   "execution_count": 30,
   "id": "3cdeb683",
   "metadata": {
    "execution": {
     "iopub.execute_input": "2022-11-10T09:37:34.082764Z",
     "iopub.status.busy": "2022-11-10T09:37:34.082251Z",
     "iopub.status.idle": "2022-11-10T09:37:34.411171Z",
     "shell.execute_reply": "2022-11-10T09:37:34.409879Z"
    },
    "papermill": {
     "duration": 0.346934,
     "end_time": "2022-11-10T09:37:34.413887",
     "exception": false,
     "start_time": "2022-11-10T09:37:34.066953",
     "status": "completed"
    },
    "tags": []
   },
   "outputs": [
    {
     "data": {
      "text/plain": [
       "84"
      ]
     },
     "execution_count": 30,
     "metadata": {},
     "output_type": "execute_result"
    }
   ],
   "source": [
    "del train_inp_sn, test_inp_sn\n",
    "gc.collect()"
   ]
  },
  {
   "cell_type": "code",
   "execution_count": 31,
   "id": "65f01fac",
   "metadata": {
    "execution": {
     "iopub.execute_input": "2022-11-10T09:37:34.443773Z",
     "iopub.status.busy": "2022-11-10T09:37:34.443289Z",
     "iopub.status.idle": "2022-11-10T09:37:35.320463Z",
     "shell.execute_reply": "2022-11-10T09:37:35.319295Z"
    },
    "papermill": {
     "duration": 0.895676,
     "end_time": "2022-11-10T09:37:35.323465",
     "exception": false,
     "start_time": "2022-11-10T09:37:34.427789",
     "status": "completed"
    },
    "tags": []
   },
   "outputs": [
    {
     "name": "stdout",
     "output_type": "stream",
     "text": [
      "CPU times: user 720 ms, sys: 151 ms, total: 871 ms\n",
      "Wall time: 870 ms\n"
     ]
    }
   ],
   "source": [
    "%%time\n",
    "sc = StandardScaler()\n",
    "train_inp = sc.fit_transform(train_inp)\n",
    "test_inp = sc.transform(test_inp)"
   ]
  },
  {
   "cell_type": "code",
   "execution_count": 32,
   "id": "d98a388e",
   "metadata": {
    "execution": {
     "iopub.execute_input": "2022-11-10T09:37:35.354063Z",
     "iopub.status.busy": "2022-11-10T09:37:35.353636Z",
     "iopub.status.idle": "2022-11-10T09:37:35.478205Z",
     "shell.execute_reply": "2022-11-10T09:37:35.476994Z"
    },
    "papermill": {
     "duration": 0.14386,
     "end_time": "2022-11-10T09:37:35.481559",
     "exception": false,
     "start_time": "2022-11-10T09:37:35.337699",
     "status": "completed"
    },
    "tags": []
   },
   "outputs": [],
   "source": [
    "train_inp = np.hstack([train_inp, train_inp_ct])\n",
    "test_inp = np.hstack([test_inp, test_inp_ct])"
   ]
  },
  {
   "cell_type": "code",
   "execution_count": 33,
   "id": "43a21032",
   "metadata": {
    "execution": {
     "iopub.execute_input": "2022-11-10T09:37:35.511532Z",
     "iopub.status.busy": "2022-11-10T09:37:35.511100Z",
     "iopub.status.idle": "2022-11-10T09:37:35.662090Z",
     "shell.execute_reply": "2022-11-10T09:37:35.660834Z"
    },
    "papermill": {
     "duration": 0.169586,
     "end_time": "2022-11-10T09:37:35.665256",
     "exception": false,
     "start_time": "2022-11-10T09:37:35.495670",
     "status": "completed"
    },
    "tags": []
   },
   "outputs": [
    {
     "data": {
      "text/plain": [
       "63"
      ]
     },
     "execution_count": 33,
     "metadata": {},
     "output_type": "execute_result"
    }
   ],
   "source": [
    "del train_inp_ct, test_inp_ct\n",
    "gc.collect()"
   ]
  },
  {
   "cell_type": "code",
   "execution_count": 34,
   "id": "a4796723",
   "metadata": {
    "execution": {
     "iopub.execute_input": "2022-11-10T09:37:35.696200Z",
     "iopub.status.busy": "2022-11-10T09:37:35.695756Z",
     "iopub.status.idle": "2022-11-10T09:37:35.704416Z",
     "shell.execute_reply": "2022-11-10T09:37:35.703266Z"
    },
    "papermill": {
     "duration": 0.027219,
     "end_time": "2022-11-10T09:37:35.706983",
     "exception": false,
     "start_time": "2022-11-10T09:37:35.679764",
     "status": "completed"
    },
    "tags": []
   },
   "outputs": [
    {
     "data": {
      "text/plain": [
       "((70988, 663), (48663, 663))"
      ]
     },
     "execution_count": 34,
     "metadata": {},
     "output_type": "execute_result"
    }
   ],
   "source": [
    "train_inp.shape, test_inp.shape"
   ]
  },
  {
   "cell_type": "code",
   "execution_count": 35,
   "id": "b69f8b49",
   "metadata": {
    "execution": {
     "iopub.execute_input": "2022-11-10T09:37:35.738192Z",
     "iopub.status.busy": "2022-11-10T09:37:35.737794Z",
     "iopub.status.idle": "2022-11-10T09:37:36.546937Z",
     "shell.execute_reply": "2022-11-10T09:37:36.545590Z"
    },
    "papermill": {
     "duration": 0.828504,
     "end_time": "2022-11-10T09:37:36.549482",
     "exception": false,
     "start_time": "2022-11-10T09:37:35.720978",
     "status": "completed"
    },
    "tags": []
   },
   "outputs": [
    {
     "name": "stdout",
     "output_type": "stream",
     "text": [
      "CPU times: user 121 ms, sys: 683 ms, total: 803 ms\n",
      "Wall time: 802 ms\n"
     ]
    }
   ],
   "source": [
    "%%time\n",
    "dump_pickle(train_inp, 'train_inp')\n",
    "dump_pickle(test_inp, 'test_inp')"
   ]
  }
 ],
 "metadata": {
  "kernelspec": {
   "display_name": "Python 3",
   "language": "python",
   "name": "python3"
  },
  "language_info": {
   "codemirror_mode": {
    "name": "ipython",
    "version": 3
   },
   "file_extension": ".py",
   "mimetype": "text/x-python",
   "name": "python",
   "nbconvert_exporter": "python",
   "pygments_lexer": "ipython3",
   "version": "3.7.12"
  },
  "papermill": {
   "default_parameters": {},
   "duration": 1642.086049,
   "end_time": "2022-11-10T09:37:37.496859",
   "environment_variables": {},
   "exception": null,
   "input_path": "__notebook__.ipynb",
   "output_path": "__notebook__.ipynb",
   "parameters": {},
   "start_time": "2022-11-10T09:10:15.410810",
   "version": "2.3.4"
  }
 },
 "nbformat": 4,
 "nbformat_minor": 5
}
