{
 "cells": [
  {
   "cell_type": "code",
   "execution_count": 1,
   "id": "bac1cda7",
   "metadata": {
    "_cell_guid": "b1076dfc-b9ad-4769-8c92-a6c4dae69d19",
    "_uuid": "8f2839f25d086af736a60e9eeb907d3b93b6e0e5",
    "execution": {
     "iopub.execute_input": "2022-11-14T16:20:05.151234Z",
     "iopub.status.busy": "2022-11-14T16:20:05.150581Z",
     "iopub.status.idle": "2022-11-14T16:20:05.288015Z",
     "shell.execute_reply": "2022-11-14T16:20:05.286444Z"
    },
    "papermill": {
     "duration": 0.157957,
     "end_time": "2022-11-14T16:20:05.291815",
     "exception": false,
     "start_time": "2022-11-14T16:20:05.133858",
     "status": "completed"
    },
    "tags": []
   },
   "outputs": [],
   "source": [
    "import os\n",
    "import os.path\n",
    "import gc\n",
    "import numpy as np\n",
    "import pandas as pd\n",
    "import scipy.sparse\n",
    "from tqdm import tqdm"
   ]
  },
  {
   "cell_type": "code",
   "execution_count": 2,
   "id": "9f14b198",
   "metadata": {
    "execution": {
     "iopub.execute_input": "2022-11-14T16:20:05.325202Z",
     "iopub.status.busy": "2022-11-14T16:20:05.324219Z",
     "iopub.status.idle": "2022-11-14T16:20:05.332394Z",
     "shell.execute_reply": "2022-11-14T16:20:05.330928Z"
    },
    "papermill": {
     "duration": 0.031002,
     "end_time": "2022-11-14T16:20:05.335382",
     "exception": false,
     "start_time": "2022-11-14T16:20:05.304380",
     "status": "completed"
    },
    "tags": []
   },
   "outputs": [],
   "source": [
    "import warnings \n",
    "warnings.filterwarnings('ignore')"
   ]
  },
  {
   "cell_type": "code",
   "execution_count": 3,
   "id": "e2e28299",
   "metadata": {
    "execution": {
     "iopub.execute_input": "2022-11-14T16:20:05.367050Z",
     "iopub.status.busy": "2022-11-14T16:20:05.365761Z",
     "iopub.status.idle": "2022-11-14T16:20:05.375032Z",
     "shell.execute_reply": "2022-11-14T16:20:05.373786Z"
    },
    "papermill": {
     "duration": 0.027493,
     "end_time": "2022-11-14T16:20:05.377816",
     "exception": false,
     "start_time": "2022-11-14T16:20:05.350323",
     "status": "completed"
    },
    "tags": []
   },
   "outputs": [],
   "source": [
    "import pickle\n",
    "\n",
    "def dump_pickle(file, filename):\n",
    "    outfile = open(filename, 'wb')\n",
    "    pickle.dump(file, outfile)\n",
    "    outfile.close()\n",
    "\n",
    "def load_pickle(filename):\n",
    "    infile = open(filename, 'rb')\n",
    "    file = pickle.load(infile)\n",
    "    infile.close()\n",
    "    return file"
   ]
  },
  {
   "cell_type": "code",
   "execution_count": 4,
   "id": "8466271a",
   "metadata": {
    "execution": {
     "iopub.execute_input": "2022-11-14T16:20:05.403272Z",
     "iopub.status.busy": "2022-11-14T16:20:05.402145Z",
     "iopub.status.idle": "2022-11-14T16:20:06.521216Z",
     "shell.execute_reply": "2022-11-14T16:20:06.519669Z"
    },
    "papermill": {
     "duration": 1.135363,
     "end_time": "2022-11-14T16:20:06.524220",
     "exception": false,
     "start_time": "2022-11-14T16:20:05.388857",
     "status": "completed"
    },
    "tags": []
   },
   "outputs": [
    {
     "name": "stdout",
     "output_type": "stream",
     "text": [
      "total 27G\r\n",
      "-rw-r--r-- 1 nobody nogroup 2.3G Sep  7 19:44 evaluation_ids.csv\r\n",
      "-rw-r--r-- 1 nobody nogroup 9.4M Sep  7 19:43 metadata.csv\r\n",
      "-rw-r--r-- 1 nobody nogroup 230K Sep  7 19:43 metadata_cite_day_2_donor_27678.csv\r\n",
      "-rw-r--r-- 1 nobody nogroup 805M Sep  7 19:43 sample_submission.csv\r\n",
      "-rw-r--r-- 1 nobody nogroup 1.6G Sep  7 19:44 test_cite_inputs.h5\r\n",
      "-rw-r--r-- 1 nobody nogroup 294M Sep  7 19:43 test_cite_inputs_day_2_donor_27678.h5\r\n",
      "-rw-r--r-- 1 nobody nogroup 6.1G Sep  7 19:45 test_multi_inputs.h5\r\n",
      "-rw-r--r-- 1 nobody nogroup 2.4G Sep  7 19:44 train_cite_inputs.h5\r\n",
      "-rw-r--r-- 1 nobody nogroup  37M Sep  7 19:43 train_cite_targets.h5\r\n",
      "-rw-r--r-- 1 nobody nogroup  11G Sep  7 19:46 train_multi_inputs.h5\r\n",
      "-rw-r--r-- 1 nobody nogroup 3.0G Sep  7 19:45 train_multi_targets.h5\r\n"
     ]
    }
   ],
   "source": [
    "DATA_DIR = '../input/open-problems-multimodal'\n",
    "%ls $DATA_DIR -lh"
   ]
  },
  {
   "cell_type": "markdown",
   "id": "65157d19",
   "metadata": {
    "execution": {
     "iopub.execute_input": "2022-10-24T09:53:23.30961Z",
     "iopub.status.busy": "2022-10-24T09:53:23.309238Z",
     "iopub.status.idle": "2022-10-24T09:53:23.315117Z",
     "shell.execute_reply": "2022-10-24T09:53:23.313565Z",
     "shell.execute_reply.started": "2022-10-24T09:53:23.309583Z"
    },
    "papermill": {
     "duration": 0.01053,
     "end_time": "2022-11-14T16:20:06.546326",
     "exception": false,
     "start_time": "2022-11-14T16:20:06.535796",
     "status": "completed"
    },
    "tags": []
   },
   "source": [
    "## Read Data"
   ]
  },
  {
   "cell_type": "code",
   "execution_count": 5,
   "id": "9abc19ef",
   "metadata": {
    "execution": {
     "iopub.execute_input": "2022-11-14T16:20:06.570732Z",
     "iopub.status.busy": "2022-11-14T16:20:06.570192Z",
     "iopub.status.idle": "2022-11-14T16:21:09.180557Z",
     "shell.execute_reply": "2022-11-14T16:21:09.178286Z"
    },
    "papermill": {
     "duration": 62.636824,
     "end_time": "2022-11-14T16:21:09.194021",
     "exception": false,
     "start_time": "2022-11-14T16:20:06.557197",
     "status": "completed"
    },
    "tags": []
   },
   "outputs": [
    {
     "name": "stdout",
     "output_type": "stream",
     "text": [
      "CPU times: user 32.8 s, sys: 9.46 s, total: 42.3 s\n",
      "Wall time: 1min 2s\n"
     ]
    }
   ],
   "source": [
    "%%time\n",
    "train_inp = pd.read_hdf(f'{DATA_DIR}/train_cite_inputs.h5')\n",
    "train_inp_cols = train_inp.columns"
   ]
  },
  {
   "cell_type": "code",
   "execution_count": 6,
   "id": "8c5314b1",
   "metadata": {
    "execution": {
     "iopub.execute_input": "2022-11-14T16:21:09.220165Z",
     "iopub.status.busy": "2022-11-14T16:21:09.219661Z",
     "iopub.status.idle": "2022-11-14T16:21:49.772469Z",
     "shell.execute_reply": "2022-11-14T16:21:49.771052Z"
    },
    "papermill": {
     "duration": 40.580872,
     "end_time": "2022-11-14T16:21:49.786936",
     "exception": false,
     "start_time": "2022-11-14T16:21:09.206064",
     "status": "completed"
    },
    "tags": []
   },
   "outputs": [
    {
     "name": "stdout",
     "output_type": "stream",
     "text": [
      "CPU times: user 21.9 s, sys: 4.72 s, total: 26.7 s\n",
      "Wall time: 40.5 s\n"
     ]
    }
   ],
   "source": [
    "%%time\n",
    "test_inp = pd.read_hdf(f'{DATA_DIR}/test_cite_inputs.h5')"
   ]
  },
  {
   "cell_type": "code",
   "execution_count": 7,
   "id": "4f62eb06",
   "metadata": {
    "execution": {
     "iopub.execute_input": "2022-11-14T16:21:49.813923Z",
     "iopub.status.busy": "2022-11-14T16:21:49.813105Z",
     "iopub.status.idle": "2022-11-14T16:21:50.604036Z",
     "shell.execute_reply": "2022-11-14T16:21:50.601693Z"
    },
    "papermill": {
     "duration": 0.808724,
     "end_time": "2022-11-14T16:21:50.607701",
     "exception": false,
     "start_time": "2022-11-14T16:21:49.798977",
     "status": "completed"
    },
    "tags": []
   },
   "outputs": [
    {
     "name": "stdout",
     "output_type": "stream",
     "text": [
      "CPU times: user 202 ms, sys: 65.8 ms, total: 268 ms\n",
      "Wall time: 781 ms\n"
     ]
    }
   ],
   "source": [
    "%%time\n",
    "train_tar = pd.read_hdf(f'{DATA_DIR}/train_cite_targets.h5')\n",
    "train_tar_cols = train_tar.columns"
   ]
  },
  {
   "cell_type": "markdown",
   "id": "6dcbb8e9",
   "metadata": {
    "papermill": {
     "duration": 0.011354,
     "end_time": "2022-11-14T16:21:50.630465",
     "exception": false,
     "start_time": "2022-11-14T16:21:50.619111",
     "status": "completed"
    },
    "tags": []
   },
   "source": [
    "## Feature Engineering"
   ]
  },
  {
   "cell_type": "markdown",
   "id": "a5ab76e3",
   "metadata": {
    "papermill": {
     "duration": 0.010605,
     "end_time": "2022-11-14T16:21:50.652326",
     "exception": false,
     "start_time": "2022-11-14T16:21:50.641721",
     "status": "completed"
    },
    "tags": []
   },
   "source": [
    "### Remove Features"
   ]
  },
  {
   "cell_type": "markdown",
   "id": "4db3d1d5",
   "metadata": {
    "papermill": {
     "duration": 0.010519,
     "end_time": "2022-11-14T16:21:50.673677",
     "exception": false,
     "start_time": "2022-11-14T16:21:50.663158",
     "status": "completed"
    },
    "tags": []
   },
   "source": [
    "Find and remove columns with all zeroes"
   ]
  },
  {
   "cell_type": "code",
   "execution_count": 8,
   "id": "f9c16241",
   "metadata": {
    "execution": {
     "iopub.execute_input": "2022-11-14T16:21:50.698471Z",
     "iopub.status.busy": "2022-11-14T16:21:50.696879Z",
     "iopub.status.idle": "2022-11-14T16:22:33.012908Z",
     "shell.execute_reply": "2022-11-14T16:22:33.011834Z"
    },
    "papermill": {
     "duration": 42.331323,
     "end_time": "2022-11-14T16:22:33.015783",
     "exception": false,
     "start_time": "2022-11-14T16:21:50.684460",
     "status": "completed"
    },
    "tags": []
   },
   "outputs": [
    {
     "name": "stdout",
     "output_type": "stream",
     "text": [
      "0\n",
      "1000\n",
      "2000\n",
      "3000\n",
      "4000\n",
      "5000\n",
      "6000\n",
      "7000\n",
      "8000\n",
      "9000\n",
      "10000\n",
      "11000\n",
      "12000\n",
      "13000\n",
      "14000\n",
      "15000\n",
      "16000\n",
      "17000\n",
      "18000\n",
      "19000\n",
      "20000\n",
      "21000\n",
      "22000\n",
      "Number of columns with zero values only (Train or Test): 1194\n",
      "CPU times: user 42.1 s, sys: 190 ms, total: 42.3 s\n",
      "Wall time: 42.3 s\n"
     ]
    }
   ],
   "source": [
    "%%time\n",
    "zero_cols = []\n",
    "for idx, col in enumerate(train_inp_cols, 0):\n",
    "    if idx % 1000 == 0:\n",
    "        print(idx)\n",
    "    if len(train_inp[col].unique()) == 1 or len(test_inp[col].unique()) == 1:\n",
    "        zero_cols.append(col)\n",
    "print('Number of columns with zero values only (Train or Test):', \n",
    "      len(zero_cols))"
   ]
  },
  {
   "cell_type": "code",
   "execution_count": 9,
   "id": "28e51ffb",
   "metadata": {
    "execution": {
     "iopub.execute_input": "2022-11-14T16:22:33.042579Z",
     "iopub.status.busy": "2022-11-14T16:22:33.042120Z",
     "iopub.status.idle": "2022-11-14T16:22:37.595059Z",
     "shell.execute_reply": "2022-11-14T16:22:37.592395Z"
    },
    "papermill": {
     "duration": 4.570096,
     "end_time": "2022-11-14T16:22:37.598320",
     "exception": false,
     "start_time": "2022-11-14T16:22:33.028224",
     "status": "completed"
    },
    "tags": []
   },
   "outputs": [
    {
     "name": "stdout",
     "output_type": "stream",
     "text": [
      "CPU times: user 1.82 s, sys: 2.75 s, total: 4.58 s\n",
      "Wall time: 4.54 s\n"
     ]
    },
    {
     "data": {
      "text/plain": [
       "((70988, 20856), (48663, 20856))"
      ]
     },
     "execution_count": 9,
     "metadata": {},
     "output_type": "execute_result"
    }
   ],
   "source": [
    "%%time\n",
    "train_inp = train_inp.drop(zero_cols, axis=1)\n",
    "train_inp_cols = train_inp.columns\n",
    "test_inp = test_inp.drop(zero_cols, axis=1)\n",
    "train_inp.shape, test_inp.shape"
   ]
  },
  {
   "cell_type": "markdown",
   "id": "94fa68a5",
   "metadata": {
    "papermill": {
     "duration": 0.012307,
     "end_time": "2022-11-14T16:22:37.623391",
     "exception": false,
     "start_time": "2022-11-14T16:22:37.611084",
     "status": "completed"
    },
    "tags": []
   },
   "source": [
    "### Introduce Metadata"
   ]
  },
  {
   "cell_type": "code",
   "execution_count": 10,
   "id": "e7df2ac4",
   "metadata": {
    "execution": {
     "iopub.execute_input": "2022-11-14T16:22:37.650853Z",
     "iopub.status.busy": "2022-11-14T16:22:37.650405Z",
     "iopub.status.idle": "2022-11-14T16:22:38.769688Z",
     "shell.execute_reply": "2022-11-14T16:22:38.768160Z"
    },
    "papermill": {
     "duration": 1.136839,
     "end_time": "2022-11-14T16:22:38.773315",
     "exception": false,
     "start_time": "2022-11-14T16:22:37.636476",
     "status": "completed"
    },
    "tags": []
   },
   "outputs": [
    {
     "name": "stdout",
     "output_type": "stream",
     "text": [
      "total 7.1G\r\n",
      "-rw-r--r-- 1 nobody nogroup  25K Nov 14 16:09 __notebook__.ipynb\r\n",
      "-rw-r--r-- 1 nobody nogroup  25K Nov 14 16:09 __output__.json\r\n",
      "-rw-r--r-- 1 nobody nogroup 293K Nov 14 16:09 __results__.html\r\n",
      "-rw-r--r-- 1 nobody nogroup    0 Nov 14 16:09 custom.css\r\n",
      "-rw-r--r-- 1 nobody nogroup 359M Nov 14 16:09 evaluation_ids.parquet\r\n",
      "-rw-r--r-- 1 nobody nogroup 3.8M Nov 14 16:09 metadata.parquet\r\n",
      "-rw-r--r-- 1 nobody nogroup 108K Nov 14 16:09 metadata_cite_day_2_donor_27678.parquet\r\n",
      "-rw-r--r-- 1 nobody nogroup 252M Nov 14 16:09 sample_submission.parquet\r\n",
      "-rw-r--r-- 1 nobody nogroup 856K Nov 14 16:09 test_cite_inputs_day_2_donor_27678_idx.npz\r\n",
      "-rw-r--r-- 1 nobody nogroup  78M Nov 14 16:09 test_cite_inputs_day_2_donor_27678_val.sparse.npz\r\n",
      "-rw-r--r-- 1 nobody nogroup 1.8M Nov 14 16:09 test_cite_inputs_idx.npz\r\n",
      "-rw-r--r-- 1 nobody nogroup 488M Nov 14 16:09 test_cite_inputs_val.sparse.npz\r\n",
      "-rw-r--r-- 1 nobody nogroup 8.4M Nov 14 16:09 test_multi_inputs_idx.npz\r\n",
      "-rw-r--r-- 1 nobody nogroup 1.7G Nov 14 16:10 test_multi_inputs_val.sparse.npz\r\n",
      "-rw-r--r-- 1 nobody nogroup 2.2M Nov 14 16:09 train_cite_inputs_idx.npz\r\n",
      "-rw-r--r-- 1 nobody nogroup 712M Nov 14 16:09 train_cite_inputs_val.sparse.npz\r\n",
      "-rw-r--r-- 1 nobody nogroup 1.5M Nov 14 16:09 train_cite_targets_idx.npz\r\n",
      "-rw-r--r-- 1 nobody nogroup  36M Nov 14 16:09 train_cite_targets_val.sparse.npz\r\n",
      "-rw-r--r-- 1 nobody nogroup 9.5M Nov 14 16:09 train_multi_inputs_idx.npz\r\n",
      "-rw-r--r-- 1 nobody nogroup 2.8G Nov 14 16:10 train_multi_inputs_val.sparse.npz\r\n",
      "-rw-r--r-- 1 nobody nogroup 2.8M Nov 14 16:09 train_multi_targets_idx.npz\r\n",
      "-rw-r--r-- 1 nobody nogroup 824M Nov 14 16:10 train_multi_targets_val.sparse.npz\r\n"
     ]
    }
   ],
   "source": [
    "DATA_DIR = '../input/msci-h5-sparse-transform'\n",
    "%ls $DATA_DIR -lh"
   ]
  },
  {
   "cell_type": "code",
   "execution_count": 11,
   "id": "8138f007",
   "metadata": {
    "execution": {
     "iopub.execute_input": "2022-11-14T16:22:38.803505Z",
     "iopub.status.busy": "2022-11-14T16:22:38.803013Z",
     "iopub.status.idle": "2022-11-14T16:22:39.346159Z",
     "shell.execute_reply": "2022-11-14T16:22:39.344090Z"
    },
    "papermill": {
     "duration": 0.562137,
     "end_time": "2022-11-14T16:22:39.349439",
     "exception": false,
     "start_time": "2022-11-14T16:22:38.787302",
     "status": "completed"
    },
    "tags": []
   },
   "outputs": [
    {
     "name": "stdout",
     "output_type": "stream",
     "text": [
      "(119651, 5)\n",
      "CPU times: user 233 ms, sys: 143 ms, total: 376 ms\n",
      "Wall time: 518 ms\n"
     ]
    },
    {
     "data": {
      "text/html": [
       "<div>\n",
       "<style scoped>\n",
       "    .dataframe tbody tr th:only-of-type {\n",
       "        vertical-align: middle;\n",
       "    }\n",
       "\n",
       "    .dataframe tbody tr th {\n",
       "        vertical-align: top;\n",
       "    }\n",
       "\n",
       "    .dataframe thead th {\n",
       "        text-align: right;\n",
       "    }\n",
       "</style>\n",
       "<table border=\"1\" class=\"dataframe\">\n",
       "  <thead>\n",
       "    <tr style=\"text-align: right;\">\n",
       "      <th></th>\n",
       "      <th>cell_id</th>\n",
       "      <th>day</th>\n",
       "      <th>donor</th>\n",
       "      <th>cell_type</th>\n",
       "      <th>technology</th>\n",
       "    </tr>\n",
       "  </thead>\n",
       "  <tbody>\n",
       "    <tr>\n",
       "      <th>0</th>\n",
       "      <td>c2150f55becb</td>\n",
       "      <td>2</td>\n",
       "      <td>27678</td>\n",
       "      <td>HSC</td>\n",
       "      <td>citeseq</td>\n",
       "    </tr>\n",
       "    <tr>\n",
       "      <th>1</th>\n",
       "      <td>65b7edf8a4da</td>\n",
       "      <td>2</td>\n",
       "      <td>27678</td>\n",
       "      <td>HSC</td>\n",
       "      <td>citeseq</td>\n",
       "    </tr>\n",
       "    <tr>\n",
       "      <th>2</th>\n",
       "      <td>c1b26cb1057b</td>\n",
       "      <td>2</td>\n",
       "      <td>27678</td>\n",
       "      <td>EryP</td>\n",
       "      <td>citeseq</td>\n",
       "    </tr>\n",
       "    <tr>\n",
       "      <th>3</th>\n",
       "      <td>917168fa6f83</td>\n",
       "      <td>2</td>\n",
       "      <td>27678</td>\n",
       "      <td>NeuP</td>\n",
       "      <td>citeseq</td>\n",
       "    </tr>\n",
       "    <tr>\n",
       "      <th>4</th>\n",
       "      <td>2b29feeca86d</td>\n",
       "      <td>2</td>\n",
       "      <td>27678</td>\n",
       "      <td>EryP</td>\n",
       "      <td>citeseq</td>\n",
       "    </tr>\n",
       "  </tbody>\n",
       "</table>\n",
       "</div>"
      ],
      "text/plain": [
       "        cell_id  day  donor cell_type technology\n",
       "0  c2150f55becb    2  27678       HSC    citeseq\n",
       "1  65b7edf8a4da    2  27678       HSC    citeseq\n",
       "2  c1b26cb1057b    2  27678      EryP    citeseq\n",
       "3  917168fa6f83    2  27678      NeuP    citeseq\n",
       "4  2b29feeca86d    2  27678      EryP    citeseq"
      ]
     },
     "execution_count": 11,
     "metadata": {},
     "output_type": "execute_result"
    }
   ],
   "source": [
    "%%time\n",
    "meta_data = pd.read_parquet(f'{DATA_DIR}/metadata.parquet')\n",
    "meta_data_cite = meta_data[meta_data['technology'] == 'citeseq']\n",
    "print(meta_data_cite.shape)\n",
    "meta_data.head()"
   ]
  },
  {
   "cell_type": "code",
   "execution_count": 12,
   "id": "b64ee8a3",
   "metadata": {
    "execution": {
     "iopub.execute_input": "2022-11-14T16:22:39.379214Z",
     "iopub.status.busy": "2022-11-14T16:22:39.378808Z",
     "iopub.status.idle": "2022-11-14T16:22:39.546188Z",
     "shell.execute_reply": "2022-11-14T16:22:39.545024Z"
    },
    "papermill": {
     "duration": 0.185435,
     "end_time": "2022-11-14T16:22:39.548594",
     "exception": false,
     "start_time": "2022-11-14T16:22:39.363159",
     "status": "completed"
    },
    "tags": []
   },
   "outputs": [
    {
     "data": {
      "text/plain": [
       "21"
      ]
     },
     "execution_count": 12,
     "metadata": {},
     "output_type": "execute_result"
    }
   ],
   "source": [
    "del meta_data\n",
    "gc.collect()"
   ]
  },
  {
   "cell_type": "code",
   "execution_count": 13,
   "id": "96b71357",
   "metadata": {
    "execution": {
     "iopub.execute_input": "2022-11-14T16:22:39.577806Z",
     "iopub.status.busy": "2022-11-14T16:22:39.577321Z",
     "iopub.status.idle": "2022-11-14T16:22:39.582032Z",
     "shell.execute_reply": "2022-11-14T16:22:39.581158Z"
    },
    "papermill": {
     "duration": 0.022003,
     "end_time": "2022-11-14T16:22:39.584232",
     "exception": false,
     "start_time": "2022-11-14T16:22:39.562229",
     "status": "completed"
    },
    "tags": []
   },
   "outputs": [],
   "source": [
    "# from sklearn.preprocessing import OneHotEncoder"
   ]
  },
  {
   "cell_type": "code",
   "execution_count": 14,
   "id": "fbeab61e",
   "metadata": {
    "execution": {
     "iopub.execute_input": "2022-11-14T16:22:39.612823Z",
     "iopub.status.busy": "2022-11-14T16:22:39.612382Z",
     "iopub.status.idle": "2022-11-14T16:22:39.616790Z",
     "shell.execute_reply": "2022-11-14T16:22:39.615925Z"
    },
    "papermill": {
     "duration": 0.021524,
     "end_time": "2022-11-14T16:22:39.619078",
     "exception": false,
     "start_time": "2022-11-14T16:22:39.597554",
     "status": "completed"
    },
    "tags": []
   },
   "outputs": [],
   "source": [
    "# cell_type_df = meta_data_cite[['cell_type']].copy()\n",
    "# ohe = OneHotEncoder()\n",
    "# cell_type_df = ohe.fit_transform(cell_type_df)\n",
    "# cell_type_df = pd.DataFrame(cell_type_df.todense(), \n",
    "#                             columns=ohe.get_feature_names())\n",
    "# meta_data_cite = pd.concat([meta_data_cite, cell_type_df], axis=1)\n",
    "# meta_data_cite.head()"
   ]
  },
  {
   "cell_type": "code",
   "execution_count": 15,
   "id": "49928a07",
   "metadata": {
    "execution": {
     "iopub.execute_input": "2022-11-14T16:22:39.649334Z",
     "iopub.status.busy": "2022-11-14T16:22:39.648887Z",
     "iopub.status.idle": "2022-11-14T16:22:39.653843Z",
     "shell.execute_reply": "2022-11-14T16:22:39.652651Z"
    },
    "papermill": {
     "duration": 0.023038,
     "end_time": "2022-11-14T16:22:39.656378",
     "exception": false,
     "start_time": "2022-11-14T16:22:39.633340",
     "status": "completed"
    },
    "tags": []
   },
   "outputs": [],
   "source": [
    "# del cell_type_df\n",
    "# gc.collect()"
   ]
  },
  {
   "cell_type": "code",
   "execution_count": 16,
   "id": "e1e690fb",
   "metadata": {
    "execution": {
     "iopub.execute_input": "2022-11-14T16:22:39.686628Z",
     "iopub.status.busy": "2022-11-14T16:22:39.685891Z",
     "iopub.status.idle": "2022-11-14T16:22:39.690253Z",
     "shell.execute_reply": "2022-11-14T16:22:39.689460Z"
    },
    "papermill": {
     "duration": 0.022,
     "end_time": "2022-11-14T16:22:39.692533",
     "exception": false,
     "start_time": "2022-11-14T16:22:39.670533",
     "status": "completed"
    },
    "tags": []
   },
   "outputs": [],
   "source": [
    "# meta_data_cite = meta_data_cite.drop(['day', 'donor',\n",
    "#                                       'cell_type', 'technology'],\n",
    "#                                      axis=1)\n",
    "# cell_ids = meta_data_cite['cell_id']\n",
    "# meta_data_cite = meta_data_cite.drop('cell_id', axis=1)\n",
    "# meta_data_cite.index = cell_ids"
   ]
  },
  {
   "cell_type": "code",
   "execution_count": 17,
   "id": "fcab93d7",
   "metadata": {
    "execution": {
     "iopub.execute_input": "2022-11-14T16:22:39.722679Z",
     "iopub.status.busy": "2022-11-14T16:22:39.721849Z",
     "iopub.status.idle": "2022-11-14T16:22:39.726682Z",
     "shell.execute_reply": "2022-11-14T16:22:39.725425Z"
    },
    "papermill": {
     "duration": 0.023343,
     "end_time": "2022-11-14T16:22:39.729768",
     "exception": false,
     "start_time": "2022-11-14T16:22:39.706425",
     "status": "completed"
    },
    "tags": []
   },
   "outputs": [],
   "source": [
    "# meta_data_cols = [col for col in meta_data_cite.columns\n",
    "#                   if col != 'cell_id']\n",
    "# meta_data_cols"
   ]
  },
  {
   "cell_type": "code",
   "execution_count": 18,
   "id": "a9a74734",
   "metadata": {
    "execution": {
     "iopub.execute_input": "2022-11-14T16:22:39.758613Z",
     "iopub.status.busy": "2022-11-14T16:22:39.757505Z",
     "iopub.status.idle": "2022-11-14T16:22:39.762486Z",
     "shell.execute_reply": "2022-11-14T16:22:39.761638Z"
    },
    "papermill": {
     "duration": 0.022248,
     "end_time": "2022-11-14T16:22:39.765327",
     "exception": false,
     "start_time": "2022-11-14T16:22:39.743079",
     "status": "completed"
    },
    "tags": []
   },
   "outputs": [],
   "source": [
    "# meta_data_cite_dict = meta_data_cite.to_dict('index')\n",
    "# del meta_data_cite, cell_ids\n",
    "# gc.collect()"
   ]
  },
  {
   "cell_type": "code",
   "execution_count": 19,
   "id": "a23773a3",
   "metadata": {
    "execution": {
     "iopub.execute_input": "2022-11-14T16:22:39.793529Z",
     "iopub.status.busy": "2022-11-14T16:22:39.793117Z",
     "iopub.status.idle": "2022-11-14T16:22:39.801653Z",
     "shell.execute_reply": "2022-11-14T16:22:39.800055Z"
    },
    "papermill": {
     "duration": 0.026025,
     "end_time": "2022-11-14T16:22:39.804258",
     "exception": false,
     "start_time": "2022-11-14T16:22:39.778233",
     "status": "completed"
    },
    "tags": []
   },
   "outputs": [
    {
     "data": {
      "text/plain": [
       "((70988, 20856), (48663, 20856))"
      ]
     },
     "execution_count": 19,
     "metadata": {},
     "output_type": "execute_result"
    }
   ],
   "source": [
    "train_inp.shape, test_inp.shape"
   ]
  },
  {
   "cell_type": "code",
   "execution_count": 20,
   "id": "1a174e0a",
   "metadata": {
    "execution": {
     "iopub.execute_input": "2022-11-14T16:22:39.834650Z",
     "iopub.status.busy": "2022-11-14T16:22:39.833265Z",
     "iopub.status.idle": "2022-11-14T16:22:39.925458Z",
     "shell.execute_reply": "2022-11-14T16:22:39.923767Z"
    },
    "papermill": {
     "duration": 0.110514,
     "end_time": "2022-11-14T16:22:39.928497",
     "exception": false,
     "start_time": "2022-11-14T16:22:39.817983",
     "status": "completed"
    },
    "tags": []
   },
   "outputs": [],
   "source": [
    "donor_dict = {row[0]: row[1]\n",
    "              for row in meta_data_cite[['cell_id', 'donor']].values} "
   ]
  },
  {
   "cell_type": "code",
   "execution_count": 21,
   "id": "3472afdf",
   "metadata": {
    "execution": {
     "iopub.execute_input": "2022-11-14T16:22:39.957642Z",
     "iopub.status.busy": "2022-11-14T16:22:39.957119Z",
     "iopub.status.idle": "2022-11-14T16:22:40.192411Z",
     "shell.execute_reply": "2022-11-14T16:22:40.190798Z"
    },
    "papermill": {
     "duration": 0.253264,
     "end_time": "2022-11-14T16:22:40.195415",
     "exception": false,
     "start_time": "2022-11-14T16:22:39.942151",
     "status": "completed"
    },
    "tags": []
   },
   "outputs": [],
   "source": [
    "train_inp['donor'] = train_inp.index.to_series().map(donor_dict)\\\n",
    "                                                .astype('float32')\n",
    "test_inp['donor'] = test_inp.index.to_series().map(donor_dict)\\\n",
    "                                              .astype('float32')"
   ]
  },
  {
   "cell_type": "code",
   "execution_count": 22,
   "id": "7a2c6239",
   "metadata": {
    "execution": {
     "iopub.execute_input": "2022-11-14T16:22:40.224615Z",
     "iopub.status.busy": "2022-11-14T16:22:40.223542Z",
     "iopub.status.idle": "2022-11-14T16:22:40.402963Z",
     "shell.execute_reply": "2022-11-14T16:22:40.401579Z"
    },
    "papermill": {
     "duration": 0.197499,
     "end_time": "2022-11-14T16:22:40.406036",
     "exception": false,
     "start_time": "2022-11-14T16:22:40.208537",
     "status": "completed"
    },
    "tags": []
   },
   "outputs": [
    {
     "data": {
      "text/plain": [
       "210"
      ]
     },
     "execution_count": 22,
     "metadata": {},
     "output_type": "execute_result"
    }
   ],
   "source": [
    "del donor_dict\n",
    "gc.collect()"
   ]
  },
  {
   "cell_type": "code",
   "execution_count": 23,
   "id": "290f53ac",
   "metadata": {
    "execution": {
     "iopub.execute_input": "2022-11-14T16:22:40.435883Z",
     "iopub.status.busy": "2022-11-14T16:22:40.435367Z",
     "iopub.status.idle": "2022-11-14T16:22:40.442251Z",
     "shell.execute_reply": "2022-11-14T16:22:40.440452Z"
    },
    "papermill": {
     "duration": 0.025349,
     "end_time": "2022-11-14T16:22:40.445144",
     "exception": false,
     "start_time": "2022-11-14T16:22:40.419795",
     "status": "completed"
    },
    "tags": []
   },
   "outputs": [],
   "source": [
    "# for col in meta_data_cols:\n",
    "#     train_inp[col] = train_inp.index.to_series()\\\n",
    "#                               .apply(lambda x: meta_data_cite_dict[x][col])\\\n",
    "#                               .astype('float32')\n",
    "#     test_inp[col] = test_inp.index.to_series()\\\n",
    "#                             .apply(lambda x: meta_data_cite_dict[x][col])\\\n",
    "#                             .astype('float32')"
   ]
  },
  {
   "cell_type": "code",
   "execution_count": 24,
   "id": "6f7915ed",
   "metadata": {
    "execution": {
     "iopub.execute_input": "2022-11-14T16:22:40.475933Z",
     "iopub.status.busy": "2022-11-14T16:22:40.475138Z",
     "iopub.status.idle": "2022-11-14T16:22:40.480045Z",
     "shell.execute_reply": "2022-11-14T16:22:40.478678Z"
    },
    "papermill": {
     "duration": 0.024068,
     "end_time": "2022-11-14T16:22:40.483392",
     "exception": false,
     "start_time": "2022-11-14T16:22:40.459324",
     "status": "completed"
    },
    "tags": []
   },
   "outputs": [],
   "source": [
    "# del meta_data_cite_dict\n",
    "# gc.collect()"
   ]
  },
  {
   "cell_type": "markdown",
   "id": "61407962",
   "metadata": {
    "papermill": {
     "duration": 0.01292,
     "end_time": "2022-11-14T16:22:40.509826",
     "exception": false,
     "start_time": "2022-11-14T16:22:40.496906",
     "status": "completed"
    },
    "tags": []
   },
   "source": [
    "### Dimension Reduction"
   ]
  },
  {
   "cell_type": "markdown",
   "id": "18161944",
   "metadata": {
    "papermill": {
     "duration": 0.012976,
     "end_time": "2022-11-14T16:22:40.536095",
     "exception": false,
     "start_time": "2022-11-14T16:22:40.523119",
     "status": "completed"
    },
    "tags": []
   },
   "source": [
    "Find features in target columns that are related to input columns due to identical names"
   ]
  },
  {
   "cell_type": "code",
   "execution_count": 25,
   "id": "8284f042",
   "metadata": {
    "execution": {
     "iopub.execute_input": "2022-11-14T16:22:40.565186Z",
     "iopub.status.busy": "2022-11-14T16:22:40.564638Z",
     "iopub.status.idle": "2022-11-14T16:22:41.145685Z",
     "shell.execute_reply": "2022-11-14T16:22:41.143391Z"
    },
    "papermill": {
     "duration": 0.59907,
     "end_time": "2022-11-14T16:22:41.148819",
     "exception": false,
     "start_time": "2022-11-14T16:22:40.549749",
     "status": "completed"
    },
    "tags": []
   },
   "outputs": [
    {
     "name": "stdout",
     "output_type": "stream",
     "text": [
      "Number of target columns shown in training columns: 144\n",
      "CPU times: user 572 ms, sys: 3.82 ms, total: 575 ms\n",
      "Wall time: 572 ms\n"
     ]
    }
   ],
   "source": [
    "%%time\n",
    "same_name_cols = []\n",
    "for tar_col in train_tar_cols:\n",
    "    for inp_col in train_inp_cols:\n",
    "        if tar_col in inp_col:\n",
    "            same_name_cols.append(inp_col)\n",
    "print('Number of target columns shown in training columns:', \n",
    "      len(same_name_cols))"
   ]
  },
  {
   "cell_type": "markdown",
   "id": "23e0a3d2",
   "metadata": {
    "papermill": {
     "duration": 0.01372,
     "end_time": "2022-11-14T16:22:41.177043",
     "exception": false,
     "start_time": "2022-11-14T16:22:41.163323",
     "status": "completed"
    },
    "tags": []
   },
   "source": [
    "Keep identical name columns and transform the rest to sparse matrices"
   ]
  },
  {
   "cell_type": "code",
   "execution_count": 26,
   "id": "60e1431e",
   "metadata": {
    "execution": {
     "iopub.execute_input": "2022-11-14T16:22:41.207059Z",
     "iopub.status.busy": "2022-11-14T16:22:41.206595Z",
     "iopub.status.idle": "2022-11-14T16:22:52.298265Z",
     "shell.execute_reply": "2022-11-14T16:22:52.296671Z"
    },
    "papermill": {
     "duration": 11.110766,
     "end_time": "2022-11-14T16:22:52.301654",
     "exception": false,
     "start_time": "2022-11-14T16:22:41.190888",
     "status": "completed"
    },
    "tags": []
   },
   "outputs": [
    {
     "data": {
      "text/plain": [
       "((70988, 144), (48663, 144))"
      ]
     },
     "execution_count": 26,
     "metadata": {},
     "output_type": "execute_result"
    }
   ],
   "source": [
    "train_inp_sn = train_inp[same_name_cols].values\n",
    "test_inp_sn = test_inp[same_name_cols].values\n",
    "train_inp_sn.shape, test_inp_sn.shape"
   ]
  },
  {
   "cell_type": "code",
   "execution_count": 27,
   "id": "893318eb",
   "metadata": {
    "execution": {
     "iopub.execute_input": "2022-11-14T16:22:52.331826Z",
     "iopub.status.busy": "2022-11-14T16:22:52.331309Z",
     "iopub.status.idle": "2022-11-14T16:22:52.343762Z",
     "shell.execute_reply": "2022-11-14T16:22:52.342049Z"
    },
    "papermill": {
     "duration": 0.030915,
     "end_time": "2022-11-14T16:22:52.346628",
     "exception": false,
     "start_time": "2022-11-14T16:22:52.315713",
     "status": "completed"
    },
    "tags": []
   },
   "outputs": [
    {
     "data": {
      "text/plain": [
       "((70988, 1), (48663, 1))"
      ]
     },
     "execution_count": 27,
     "metadata": {},
     "output_type": "execute_result"
    }
   ],
   "source": [
    "train_inp_dn = train_inp[['donor']].values\n",
    "test_inp_dn = test_inp[['donor']].values\n",
    "train_inp_dn.shape, test_inp_dn.shape"
   ]
  },
  {
   "cell_type": "code",
   "execution_count": 28,
   "id": "983dca95",
   "metadata": {
    "execution": {
     "iopub.execute_input": "2022-11-14T16:22:52.377834Z",
     "iopub.status.busy": "2022-11-14T16:22:52.377295Z",
     "iopub.status.idle": "2022-11-14T16:22:52.383825Z",
     "shell.execute_reply": "2022-11-14T16:22:52.381994Z"
    },
    "papermill": {
     "duration": 0.025288,
     "end_time": "2022-11-14T16:22:52.386686",
     "exception": false,
     "start_time": "2022-11-14T16:22:52.361398",
     "status": "completed"
    },
    "tags": []
   },
   "outputs": [],
   "source": [
    "# train_inp_ct = train_inp[meta_data_cols].values\n",
    "# test_inp_ct = test_inp[meta_data_cols].values\n",
    "# train_inp_ct.shape, test_inp_ct.shape"
   ]
  },
  {
   "cell_type": "code",
   "execution_count": 29,
   "id": "c25547d6",
   "metadata": {
    "execution": {
     "iopub.execute_input": "2022-11-14T16:22:52.417191Z",
     "iopub.status.busy": "2022-11-14T16:22:52.416750Z",
     "iopub.status.idle": "2022-11-14T16:24:34.964736Z",
     "shell.execute_reply": "2022-11-14T16:24:34.963376Z"
    },
    "papermill": {
     "duration": 102.582034,
     "end_time": "2022-11-14T16:24:34.982918",
     "exception": false,
     "start_time": "2022-11-14T16:22:52.400884",
     "status": "completed"
    },
    "tags": []
   },
   "outputs": [
    {
     "name": "stdout",
     "output_type": "stream",
     "text": [
      "CPU times: user 1min 28s, sys: 13.7 s, total: 1min 42s\n",
      "Wall time: 1min 42s\n"
     ]
    },
    {
     "data": {
      "text/plain": [
       "147"
      ]
     },
     "execution_count": 29,
     "metadata": {},
     "output_type": "execute_result"
    }
   ],
   "source": [
    "%%time\n",
    "train_inp = train_inp.drop(same_name_cols, axis=1)\\\n",
    "                     .drop(['donor'], axis=1)\n",
    "train_inp = scipy.sparse.csr_matrix(train_inp.values)\n",
    "test_inp = test_inp.drop(same_name_cols, axis=1)\\\n",
    "                   .drop(['donor'], axis=1)\n",
    "test_inp = scipy.sparse.csr_matrix(test_inp.values)\n",
    "gc.collect()"
   ]
  },
  {
   "cell_type": "markdown",
   "id": "3774c4dd",
   "metadata": {
    "papermill": {
     "duration": 0.015868,
     "end_time": "2022-11-14T16:24:35.013909",
     "exception": false,
     "start_time": "2022-11-14T16:24:34.998041",
     "status": "completed"
    },
    "tags": []
   },
   "source": [
    "Reduce dimension"
   ]
  },
  {
   "cell_type": "code",
   "execution_count": 30,
   "id": "567a9a9e",
   "metadata": {
    "execution": {
     "iopub.execute_input": "2022-11-14T16:24:35.045764Z",
     "iopub.status.busy": "2022-11-14T16:24:35.044889Z",
     "iopub.status.idle": "2022-11-14T16:24:36.205543Z",
     "shell.execute_reply": "2022-11-14T16:24:36.204090Z"
    },
    "papermill": {
     "duration": 1.1799,
     "end_time": "2022-11-14T16:24:36.208345",
     "exception": false,
     "start_time": "2022-11-14T16:24:35.028445",
     "status": "completed"
    },
    "tags": []
   },
   "outputs": [],
   "source": [
    "from sklearn.decomposition import TruncatedSVD"
   ]
  },
  {
   "cell_type": "code",
   "execution_count": 31,
   "id": "dba4b068",
   "metadata": {
    "execution": {
     "iopub.execute_input": "2022-11-14T16:24:36.238967Z",
     "iopub.status.busy": "2022-11-14T16:24:36.238164Z",
     "iopub.status.idle": "2022-11-14T16:53:54.468416Z",
     "shell.execute_reply": "2022-11-14T16:53:54.466225Z"
    },
    "papermill": {
     "duration": 1758.263122,
     "end_time": "2022-11-14T16:53:54.485876",
     "exception": false,
     "start_time": "2022-11-14T16:24:36.222754",
     "status": "completed"
    },
    "tags": []
   },
   "outputs": [
    {
     "name": "stdout",
     "output_type": "stream",
     "text": [
      "Sum of Explained Variance:  0.19528116\n",
      "CPU times: user 29min 25s, sys: 17 s, total: 29min 42s\n",
      "Wall time: 29min 18s\n"
     ]
    }
   ],
   "source": [
    "%%time\n",
    "## Baseline\n",
    "train_inp_tsvd = TruncatedSVD(n_components=512, \n",
    "                              random_state=42)\n",
    "\n",
    "train_inp = train_inp_tsvd.fit_transform(train_inp)\n",
    "print('Sum of Explained Variance: ',\n",
    "      np.sum(train_inp_tsvd.explained_variance_ratio_))\n",
    "test_inp = train_inp_tsvd.transform(test_inp)"
   ]
  },
  {
   "cell_type": "markdown",
   "id": "3719362f",
   "metadata": {
    "papermill": {
     "duration": 0.013763,
     "end_time": "2022-11-14T16:53:54.514666",
     "exception": false,
     "start_time": "2022-11-14T16:53:54.500903",
     "status": "completed"
    },
    "tags": []
   },
   "source": [
    "### Standardization"
   ]
  },
  {
   "cell_type": "code",
   "execution_count": 32,
   "id": "a8d81169",
   "metadata": {
    "execution": {
     "iopub.execute_input": "2022-11-14T16:53:54.545923Z",
     "iopub.status.busy": "2022-11-14T16:53:54.545384Z",
     "iopub.status.idle": "2022-11-14T16:53:54.553089Z",
     "shell.execute_reply": "2022-11-14T16:53:54.551806Z"
    },
    "papermill": {
     "duration": 0.027188,
     "end_time": "2022-11-14T16:53:54.555628",
     "exception": false,
     "start_time": "2022-11-14T16:53:54.528440",
     "status": "completed"
    },
    "tags": []
   },
   "outputs": [],
   "source": [
    "from sklearn.preprocessing import StandardScaler"
   ]
  },
  {
   "cell_type": "code",
   "execution_count": 33,
   "id": "e2bf0ae0",
   "metadata": {
    "execution": {
     "iopub.execute_input": "2022-11-14T16:53:54.586298Z",
     "iopub.status.busy": "2022-11-14T16:53:54.585861Z",
     "iopub.status.idle": "2022-11-14T16:53:54.787194Z",
     "shell.execute_reply": "2022-11-14T16:53:54.786111Z"
    },
    "papermill": {
     "duration": 0.219903,
     "end_time": "2022-11-14T16:53:54.789850",
     "exception": false,
     "start_time": "2022-11-14T16:53:54.569947",
     "status": "completed"
    },
    "tags": []
   },
   "outputs": [],
   "source": [
    "train_inp = np.hstack([train_inp, train_inp_sn])\n",
    "test_inp = np.hstack([test_inp, test_inp_sn])"
   ]
  },
  {
   "cell_type": "code",
   "execution_count": 34,
   "id": "4e5972c1",
   "metadata": {
    "execution": {
     "iopub.execute_input": "2022-11-14T16:53:54.820679Z",
     "iopub.status.busy": "2022-11-14T16:53:54.819706Z",
     "iopub.status.idle": "2022-11-14T16:53:55.062459Z",
     "shell.execute_reply": "2022-11-14T16:53:55.061335Z"
    },
    "papermill": {
     "duration": 0.261495,
     "end_time": "2022-11-14T16:53:55.065272",
     "exception": false,
     "start_time": "2022-11-14T16:53:54.803777",
     "status": "completed"
    },
    "tags": []
   },
   "outputs": [
    {
     "data": {
      "text/plain": [
       "84"
      ]
     },
     "execution_count": 34,
     "metadata": {},
     "output_type": "execute_result"
    }
   ],
   "source": [
    "del train_inp_sn, test_inp_sn\n",
    "gc.collect()"
   ]
  },
  {
   "cell_type": "code",
   "execution_count": 35,
   "id": "0a4aeacc",
   "metadata": {
    "execution": {
     "iopub.execute_input": "2022-11-14T16:53:55.095220Z",
     "iopub.status.busy": "2022-11-14T16:53:55.094790Z",
     "iopub.status.idle": "2022-11-14T16:53:55.963212Z",
     "shell.execute_reply": "2022-11-14T16:53:55.961610Z"
    },
    "papermill": {
     "duration": 0.886732,
     "end_time": "2022-11-14T16:53:55.966038",
     "exception": false,
     "start_time": "2022-11-14T16:53:55.079306",
     "status": "completed"
    },
    "tags": []
   },
   "outputs": [
    {
     "name": "stdout",
     "output_type": "stream",
     "text": [
      "CPU times: user 716 ms, sys: 145 ms, total: 861 ms\n",
      "Wall time: 861 ms\n"
     ]
    }
   ],
   "source": [
    "%%time\n",
    "sc = StandardScaler()\n",
    "train_inp = sc.fit_transform(train_inp)\n",
    "test_inp = sc.transform(test_inp)"
   ]
  },
  {
   "cell_type": "code",
   "execution_count": 36,
   "id": "528ca58f",
   "metadata": {
    "execution": {
     "iopub.execute_input": "2022-11-14T16:53:55.996476Z",
     "iopub.status.busy": "2022-11-14T16:53:55.996026Z",
     "iopub.status.idle": "2022-11-14T16:53:56.109221Z",
     "shell.execute_reply": "2022-11-14T16:53:56.108066Z"
    },
    "papermill": {
     "duration": 0.131818,
     "end_time": "2022-11-14T16:53:56.112003",
     "exception": false,
     "start_time": "2022-11-14T16:53:55.980185",
     "status": "completed"
    },
    "tags": []
   },
   "outputs": [],
   "source": [
    "train_inp = np.hstack([train_inp, train_inp_dn])\n",
    "test_inp = np.hstack([test_inp, test_inp_dn])"
   ]
  },
  {
   "cell_type": "code",
   "execution_count": 37,
   "id": "5507192d",
   "metadata": {
    "execution": {
     "iopub.execute_input": "2022-11-14T16:53:56.141949Z",
     "iopub.status.busy": "2022-11-14T16:53:56.141500Z",
     "iopub.status.idle": "2022-11-14T16:53:56.305246Z",
     "shell.execute_reply": "2022-11-14T16:53:56.303782Z"
    },
    "papermill": {
     "duration": 0.181924,
     "end_time": "2022-11-14T16:53:56.307955",
     "exception": false,
     "start_time": "2022-11-14T16:53:56.126031",
     "status": "completed"
    },
    "tags": []
   },
   "outputs": [
    {
     "data": {
      "text/plain": [
       "63"
      ]
     },
     "execution_count": 37,
     "metadata": {},
     "output_type": "execute_result"
    }
   ],
   "source": [
    "del train_inp_dn, test_inp_dn\n",
    "gc.collect()"
   ]
  },
  {
   "cell_type": "code",
   "execution_count": 38,
   "id": "1fccd271",
   "metadata": {
    "execution": {
     "iopub.execute_input": "2022-11-14T16:53:56.340090Z",
     "iopub.status.busy": "2022-11-14T16:53:56.338341Z",
     "iopub.status.idle": "2022-11-14T16:53:56.347025Z",
     "shell.execute_reply": "2022-11-14T16:53:56.345953Z"
    },
    "papermill": {
     "duration": 0.027373,
     "end_time": "2022-11-14T16:53:56.349306",
     "exception": false,
     "start_time": "2022-11-14T16:53:56.321933",
     "status": "completed"
    },
    "tags": []
   },
   "outputs": [
    {
     "data": {
      "text/plain": [
       "((70988, 657), (48663, 657))"
      ]
     },
     "execution_count": 38,
     "metadata": {},
     "output_type": "execute_result"
    }
   ],
   "source": [
    "train_inp.shape, test_inp.shape"
   ]
  },
  {
   "cell_type": "code",
   "execution_count": 39,
   "id": "f0088f84",
   "metadata": {
    "execution": {
     "iopub.execute_input": "2022-11-14T16:53:56.380538Z",
     "iopub.status.busy": "2022-11-14T16:53:56.379366Z",
     "iopub.status.idle": "2022-11-14T16:53:57.199214Z",
     "shell.execute_reply": "2022-11-14T16:53:57.197860Z"
    },
    "papermill": {
     "duration": 0.838927,
     "end_time": "2022-11-14T16:53:57.202418",
     "exception": false,
     "start_time": "2022-11-14T16:53:56.363491",
     "status": "completed"
    },
    "tags": []
   },
   "outputs": [
    {
     "name": "stdout",
     "output_type": "stream",
     "text": [
      "CPU times: user 155 ms, sys: 657 ms, total: 811 ms\n",
      "Wall time: 812 ms\n"
     ]
    }
   ],
   "source": [
    "%%time\n",
    "dump_pickle(train_inp, 'train_inp')\n",
    "dump_pickle(test_inp, 'test_inp')"
   ]
  }
 ],
 "metadata": {
  "kernelspec": {
   "display_name": "Python 3",
   "language": "python",
   "name": "python3"
  },
  "language_info": {
   "codemirror_mode": {
    "name": "ipython",
    "version": 3
   },
   "file_extension": ".py",
   "mimetype": "text/x-python",
   "name": "python",
   "nbconvert_exporter": "python",
   "pygments_lexer": "ipython3",
   "version": "3.7.12"
  },
  "papermill": {
   "default_parameters": {},
   "duration": 2047.832374,
   "end_time": "2022-11-14T16:54:00.652771",
   "environment_variables": {},
   "exception": null,
   "input_path": "__notebook__.ipynb",
   "output_path": "__notebook__.ipynb",
   "parameters": {},
   "start_time": "2022-11-14T16:19:52.820397",
   "version": "2.3.4"
  }
 },
 "nbformat": 4,
 "nbformat_minor": 5
}
