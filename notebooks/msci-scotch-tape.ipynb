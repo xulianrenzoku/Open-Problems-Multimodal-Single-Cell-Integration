{
 "cells": [
  {
   "cell_type": "code",
   "execution_count": 1,
   "id": "d3b936aa",
   "metadata": {
    "_cell_guid": "b1076dfc-b9ad-4769-8c92-a6c4dae69d19",
    "_uuid": "8f2839f25d086af736a60e9eeb907d3b93b6e0e5",
    "execution": {
     "iopub.execute_input": "2022-11-15T13:51:13.099566Z",
     "iopub.status.busy": "2022-11-15T13:51:13.099095Z",
     "iopub.status.idle": "2022-11-15T13:51:13.109627Z",
     "shell.execute_reply": "2022-11-15T13:51:13.108454Z"
    },
    "papermill": {
     "duration": 0.020401,
     "end_time": "2022-11-15T13:51:13.112056",
     "exception": false,
     "start_time": "2022-11-15T13:51:13.091655",
     "status": "completed"
    },
    "tags": []
   },
   "outputs": [],
   "source": [
    "import pandas as pd\n",
    "import numpy as np\n",
    "import gc"
   ]
  },
  {
   "cell_type": "markdown",
   "id": "35ad88c0",
   "metadata": {
    "papermill": {
     "duration": 0.00435,
     "end_time": "2022-11-15T13:51:13.121333",
     "exception": false,
     "start_time": "2022-11-15T13:51:13.116983",
     "status": "completed"
    },
    "tags": []
   },
   "source": [
    "## Single Model"
   ]
  },
  {
   "cell_type": "markdown",
   "id": "1048e315",
   "metadata": {
    "papermill": {
     "duration": 0.004235,
     "end_time": "2022-11-15T13:51:13.130114",
     "exception": false,
     "start_time": "2022-11-15T13:51:13.125879",
     "status": "completed"
    },
    "tags": []
   },
   "source": [
    "### citeseq"
   ]
  },
  {
   "cell_type": "markdown",
   "id": "aab9930d",
   "metadata": {
    "papermill": {
     "duration": 0.004311,
     "end_time": "2022-11-15T13:51:13.138889",
     "exception": false,
     "start_time": "2022-11-15T13:51:13.134578",
     "status": "completed"
    },
    "tags": []
   },
   "source": [
    "`msci-citeseq-mlp-tsvd-model-kf2`\n",
    "- CPU\n",
    "- MLP\n",
    "- Public Score: .\n",
    "- Train Correlation: .8980\n",
    "- Val Correlation: .8887"
   ]
  },
  {
   "cell_type": "code",
   "execution_count": 2,
   "id": "d90b9dd3",
   "metadata": {
    "execution": {
     "iopub.execute_input": "2022-11-15T13:51:13.149387Z",
     "iopub.status.busy": "2022-11-15T13:51:13.149026Z",
     "iopub.status.idle": "2022-11-15T13:51:32.192110Z",
     "shell.execute_reply": "2022-11-15T13:51:32.190642Z"
    },
    "papermill": {
     "duration": 19.05263,
     "end_time": "2022-11-15T13:51:32.196060",
     "exception": false,
     "start_time": "2022-11-15T13:51:13.143430",
     "status": "completed"
    },
    "tags": []
   },
   "outputs": [
    {
     "name": "stdout",
     "output_type": "stream",
     "text": [
      "CPU times: user 9.21 s, sys: 2.29 s, total: 11.5 s\n",
      "Wall time: 19 s\n"
     ]
    },
    {
     "data": {
      "text/plain": [
       "(65744180, 2)"
      ]
     },
     "execution_count": 2,
     "metadata": {},
     "output_type": "execute_result"
    }
   ],
   "source": [
    "%%time\n",
    "cite_sub = pd.read_csv('../input/msci-citeseq-mlp-tsvd-model-kf2/cite_sub.csv')\\\n",
    "             .rename(columns={'target': 'target_cite'})\n",
    "cite_sub.shape"
   ]
  },
  {
   "cell_type": "code",
   "execution_count": 3,
   "id": "055c071a",
   "metadata": {
    "execution": {
     "iopub.execute_input": "2022-11-15T13:51:32.208252Z",
     "iopub.status.busy": "2022-11-15T13:51:32.207807Z",
     "iopub.status.idle": "2022-11-15T13:51:32.212392Z",
     "shell.execute_reply": "2022-11-15T13:51:32.211293Z"
    },
    "papermill": {
     "duration": 0.013718,
     "end_time": "2022-11-15T13:51:32.214878",
     "exception": false,
     "start_time": "2022-11-15T13:51:32.201160",
     "status": "completed"
    },
    "tags": []
   },
   "outputs": [],
   "source": [
    "# cite_sub.head()"
   ]
  },
  {
   "cell_type": "markdown",
   "id": "766e0909",
   "metadata": {
    "papermill": {
     "duration": 0.004604,
     "end_time": "2022-11-15T13:51:32.224390",
     "exception": false,
     "start_time": "2022-11-15T13:51:32.219786",
     "status": "completed"
    },
    "tags": []
   },
   "source": [
    "`msci-citeseq-mlp-tsvd-model`\n",
    "- CPU\n",
    "- MLP\n",
    "- Public Score: .\n",
    "- Train Correlation: .9030\n",
    "- Val Correlation: .8946"
   ]
  },
  {
   "cell_type": "code",
   "execution_count": 4,
   "id": "f98e163a",
   "metadata": {
    "execution": {
     "iopub.execute_input": "2022-11-15T13:51:32.235606Z",
     "iopub.status.busy": "2022-11-15T13:51:32.235241Z",
     "iopub.status.idle": "2022-11-15T13:51:32.239618Z",
     "shell.execute_reply": "2022-11-15T13:51:32.238612Z"
    },
    "papermill": {
     "duration": 0.012872,
     "end_time": "2022-11-15T13:51:32.241914",
     "exception": false,
     "start_time": "2022-11-15T13:51:32.229042",
     "status": "completed"
    },
    "tags": []
   },
   "outputs": [],
   "source": [
    "# %%time\n",
    "# cite_sub = pd.read_csv('../input/msci-citeseq-mlp-tsvd-model/cite_sub.csv')\\\n",
    "#              .rename(columns={'target': 'target_cite'})\n",
    "# cite_sub.shape"
   ]
  },
  {
   "cell_type": "markdown",
   "id": "a0195bd2",
   "metadata": {
    "papermill": {
     "duration": 0.004433,
     "end_time": "2022-11-15T13:51:32.251315",
     "exception": false,
     "start_time": "2022-11-15T13:51:32.246882",
     "status": "completed"
    },
    "tags": []
   },
   "source": [
    "`msci-citeseq-mlp-lrs`\n",
    "- CPU\n",
    "- MLP\n",
    "- Public Score: .243\n",
    "- Train Correlation: .8972\n",
    "- Val Correlation: .8883"
   ]
  },
  {
   "cell_type": "code",
   "execution_count": 5,
   "id": "c23ec4d3",
   "metadata": {
    "execution": {
     "iopub.execute_input": "2022-11-15T13:51:32.264240Z",
     "iopub.status.busy": "2022-11-15T13:51:32.263486Z",
     "iopub.status.idle": "2022-11-15T13:51:32.267609Z",
     "shell.execute_reply": "2022-11-15T13:51:32.266864Z"
    },
    "papermill": {
     "duration": 0.01367,
     "end_time": "2022-11-15T13:51:32.269679",
     "exception": false,
     "start_time": "2022-11-15T13:51:32.256009",
     "status": "completed"
    },
    "tags": []
   },
   "outputs": [],
   "source": [
    "# %%time\n",
    "# cite_sub = pd.read_csv('../input/msci-citeseq-mlp-lrs/cite_sub.csv')\\\n",
    "#              .rename(columns={'target': 'target_cite'})\n",
    "# cite_sub.shape"
   ]
  },
  {
   "cell_type": "markdown",
   "id": "8a287cd5",
   "metadata": {
    "papermill": {
     "duration": 0.004532,
     "end_time": "2022-11-15T13:51:32.278996",
     "exception": false,
     "start_time": "2022-11-15T13:51:32.274464",
     "status": "completed"
    },
    "tags": []
   },
   "source": [
    "`msci-citeseq-ct`\n",
    "- CPU\n",
    "- Ridge\n",
    "- Public Score: .242\n",
    "- Train Correlation: .8947\n",
    "- Val Correlation: .8929"
   ]
  },
  {
   "cell_type": "code",
   "execution_count": 6,
   "id": "aea0f1c9",
   "metadata": {
    "execution": {
     "iopub.execute_input": "2022-11-15T13:51:32.290229Z",
     "iopub.status.busy": "2022-11-15T13:51:32.289831Z",
     "iopub.status.idle": "2022-11-15T13:51:32.294345Z",
     "shell.execute_reply": "2022-11-15T13:51:32.293298Z"
    },
    "papermill": {
     "duration": 0.012772,
     "end_time": "2022-11-15T13:51:32.296421",
     "exception": false,
     "start_time": "2022-11-15T13:51:32.283649",
     "status": "completed"
    },
    "tags": []
   },
   "outputs": [],
   "source": [
    "# %%time\n",
    "# tmp = pd.read_csv('../input/msci-citeseq-ct/cite_sub.csv')\\\n",
    "#         .rename(columns={'target': 'target_cite'})\n",
    "# cite_sub['target_cite'] = 0.5 * (cite_sub['target_cite'] + \n",
    "#                                  tmp['target_cite'])\n",
    "# del tmp\n",
    "# gc.collect()"
   ]
  },
  {
   "cell_type": "code",
   "execution_count": 7,
   "id": "e44e191f",
   "metadata": {
    "execution": {
     "iopub.execute_input": "2022-11-15T13:51:32.307791Z",
     "iopub.status.busy": "2022-11-15T13:51:32.307390Z",
     "iopub.status.idle": "2022-11-15T13:51:32.311910Z",
     "shell.execute_reply": "2022-11-15T13:51:32.310871Z"
    },
    "papermill": {
     "duration": 0.012919,
     "end_time": "2022-11-15T13:51:32.314317",
     "exception": false,
     "start_time": "2022-11-15T13:51:32.301398",
     "status": "completed"
    },
    "tags": []
   },
   "outputs": [],
   "source": [
    "# cite_sub.shape"
   ]
  },
  {
   "cell_type": "markdown",
   "id": "cf772fc6",
   "metadata": {
    "papermill": {
     "duration": 0.005211,
     "end_time": "2022-11-15T13:51:32.324974",
     "exception": false,
     "start_time": "2022-11-15T13:51:32.319763",
     "status": "completed"
    },
    "tags": []
   },
   "source": [
    "### multi"
   ]
  },
  {
   "cell_type": "markdown",
   "id": "43ad256d",
   "metadata": {
    "papermill": {
     "duration": 0.004485,
     "end_time": "2022-11-15T13:51:32.334659",
     "exception": false,
     "start_time": "2022-11-15T13:51:32.330174",
     "status": "completed"
    },
    "tags": []
   },
   "source": [
    "`msci-multi-mlp-sparse-lrs-inference`\n",
    "- GPU\n",
    "- Public Score: -.438\n",
    "- Train Correlation: .6899\n",
    "- Val Correlation: .6732"
   ]
  },
  {
   "cell_type": "code",
   "execution_count": 8,
   "id": "f208cf6d",
   "metadata": {
    "execution": {
     "iopub.execute_input": "2022-11-15T13:51:32.346118Z",
     "iopub.status.busy": "2022-11-15T13:51:32.345692Z",
     "iopub.status.idle": "2022-11-15T13:52:01.560392Z",
     "shell.execute_reply": "2022-11-15T13:52:01.558957Z"
    },
    "papermill": {
     "duration": 29.223346,
     "end_time": "2022-11-15T13:52:01.562956",
     "exception": false,
     "start_time": "2022-11-15T13:51:32.339610",
     "status": "completed"
    },
    "tags": []
   },
   "outputs": [
    {
     "name": "stdout",
     "output_type": "stream",
     "text": [
      "CPU times: user 11.3 s, sys: 1.95 s, total: 13.3 s\n",
      "Wall time: 29.2 s\n"
     ]
    },
    {
     "data": {
      "text/plain": [
       "(65744180, 2)"
      ]
     },
     "execution_count": 8,
     "metadata": {},
     "output_type": "execute_result"
    }
   ],
   "source": [
    "%%time\n",
    "multi_sub = pd.read_csv('../input/msci-multi-mlp-sparse-lrs-inference/multi_sub.csv')\\\n",
    "              .rename(columns={'target': 'target_multi'})\n",
    "multi_sub.shape"
   ]
  },
  {
   "cell_type": "markdown",
   "id": "c0cab687",
   "metadata": {
    "papermill": {
     "duration": 0.004852,
     "end_time": "2022-11-15T13:52:01.573092",
     "exception": false,
     "start_time": "2022-11-15T13:52:01.568240",
     "status": "completed"
    },
    "tags": []
   },
   "source": [
    "`msci-multi`\n",
    "- CPU\n",
    "- Public Score: -.440\n",
    "- Train Correlation: \n",
    "- Val Correlation: .6632"
   ]
  },
  {
   "cell_type": "code",
   "execution_count": 9,
   "id": "84d533e8",
   "metadata": {
    "execution": {
     "iopub.execute_input": "2022-11-15T13:52:01.585484Z",
     "iopub.status.busy": "2022-11-15T13:52:01.584442Z",
     "iopub.status.idle": "2022-11-15T13:52:01.588717Z",
     "shell.execute_reply": "2022-11-15T13:52:01.587873Z"
    },
    "papermill": {
     "duration": 0.01301,
     "end_time": "2022-11-15T13:52:01.591159",
     "exception": false,
     "start_time": "2022-11-15T13:52:01.578149",
     "status": "completed"
    },
    "tags": []
   },
   "outputs": [],
   "source": [
    "# tmp = pd.read_csv('../input/msci-multi/multi_sub.csv')\\\n",
    "#         .rename(columns={'target': 'target_multi'})\n",
    "# multi_sub['target_multi'] = 0.5 * (multi_sub['target_multi'] + \n",
    "#                                    tmp['target_multi'])\n",
    "# del tmp\n",
    "# gc.collect()"
   ]
  },
  {
   "cell_type": "code",
   "execution_count": 10,
   "id": "01934ff1",
   "metadata": {
    "execution": {
     "iopub.execute_input": "2022-11-15T13:52:01.603727Z",
     "iopub.status.busy": "2022-11-15T13:52:01.602596Z",
     "iopub.status.idle": "2022-11-15T13:52:01.607093Z",
     "shell.execute_reply": "2022-11-15T13:52:01.606110Z"
    },
    "papermill": {
     "duration": 0.013104,
     "end_time": "2022-11-15T13:52:01.609415",
     "exception": false,
     "start_time": "2022-11-15T13:52:01.596311",
     "status": "completed"
    },
    "tags": []
   },
   "outputs": [],
   "source": [
    "# multi_sub.shape"
   ]
  },
  {
   "cell_type": "markdown",
   "id": "568ccbc8",
   "metadata": {
    "papermill": {
     "duration": 0.005005,
     "end_time": "2022-11-15T13:52:01.619903",
     "exception": false,
     "start_time": "2022-11-15T13:52:01.614898",
     "status": "completed"
    },
    "tags": []
   },
   "source": [
    "## Scotch Tape"
   ]
  },
  {
   "cell_type": "code",
   "execution_count": 11,
   "id": "0127bb90",
   "metadata": {
    "execution": {
     "iopub.execute_input": "2022-11-15T13:52:01.632273Z",
     "iopub.status.busy": "2022-11-15T13:52:01.631876Z",
     "iopub.status.idle": "2022-11-15T13:52:04.976417Z",
     "shell.execute_reply": "2022-11-15T13:52:04.975098Z"
    },
    "papermill": {
     "duration": 3.353768,
     "end_time": "2022-11-15T13:52:04.978892",
     "exception": false,
     "start_time": "2022-11-15T13:52:01.625124",
     "status": "completed"
    },
    "tags": []
   },
   "outputs": [
    {
     "name": "stdout",
     "output_type": "stream",
     "text": [
      "CPU times: user 1.93 s, sys: 1.65 s, total: 3.58 s\n",
      "Wall time: 3.32 s\n"
     ]
    },
    {
     "data": {
      "text/html": [
       "<div>\n",
       "<style scoped>\n",
       "    .dataframe tbody tr th:only-of-type {\n",
       "        vertical-align: middle;\n",
       "    }\n",
       "\n",
       "    .dataframe tbody tr th {\n",
       "        vertical-align: top;\n",
       "    }\n",
       "\n",
       "    .dataframe thead th {\n",
       "        text-align: right;\n",
       "    }\n",
       "</style>\n",
       "<table border=\"1\" class=\"dataframe\">\n",
       "  <thead>\n",
       "    <tr style=\"text-align: right;\">\n",
       "      <th></th>\n",
       "      <th>row_id</th>\n",
       "      <th>target</th>\n",
       "    </tr>\n",
       "  </thead>\n",
       "  <tbody>\n",
       "    <tr>\n",
       "      <th>0</th>\n",
       "      <td>0</td>\n",
       "      <td>-0.916719</td>\n",
       "    </tr>\n",
       "    <tr>\n",
       "      <th>1</th>\n",
       "      <td>1</td>\n",
       "      <td>-0.868232</td>\n",
       "    </tr>\n",
       "    <tr>\n",
       "      <th>2</th>\n",
       "      <td>2</td>\n",
       "      <td>-0.674110</td>\n",
       "    </tr>\n",
       "    <tr>\n",
       "      <th>3</th>\n",
       "      <td>3</td>\n",
       "      <td>1.288434</td>\n",
       "    </tr>\n",
       "    <tr>\n",
       "      <th>4</th>\n",
       "      <td>4</td>\n",
       "      <td>1.902697</td>\n",
       "    </tr>\n",
       "  </tbody>\n",
       "</table>\n",
       "</div>"
      ],
      "text/plain": [
       "   row_id    target\n",
       "0       0 -0.916719\n",
       "1       1 -0.868232\n",
       "2       2 -0.674110\n",
       "3       3  1.288434\n",
       "4       4  1.902697"
      ]
     },
     "execution_count": 11,
     "metadata": {},
     "output_type": "execute_result"
    }
   ],
   "source": [
    "%%time\n",
    "sub = pd.concat([cite_sub, multi_sub.drop('row_id', axis=1)], axis=1)\n",
    "sub['target'] = sub['target_cite'] + sub['target_multi']\n",
    "sub.drop(['target_cite', 'target_multi'], inplace=True, axis=1)\n",
    "sub.head()"
   ]
  },
  {
   "cell_type": "code",
   "execution_count": 12,
   "id": "c44a7c7c",
   "metadata": {
    "execution": {
     "iopub.execute_input": "2022-11-15T13:52:04.991754Z",
     "iopub.status.busy": "2022-11-15T13:52:04.991274Z",
     "iopub.status.idle": "2022-11-15T13:53:53.479509Z",
     "shell.execute_reply": "2022-11-15T13:53:53.477672Z"
    },
    "papermill": {
     "duration": 108.498932,
     "end_time": "2022-11-15T13:53:53.483363",
     "exception": false,
     "start_time": "2022-11-15T13:52:04.984431",
     "status": "completed"
    },
    "tags": []
   },
   "outputs": [],
   "source": [
    "sub.to_csv('submission.csv', index=False)"
   ]
  }
 ],
 "metadata": {
  "kernelspec": {
   "display_name": "Python 3",
   "language": "python",
   "name": "python3"
  },
  "language_info": {
   "codemirror_mode": {
    "name": "ipython",
    "version": 3
   },
   "file_extension": ".py",
   "mimetype": "text/x-python",
   "name": "python",
   "nbconvert_exporter": "python",
   "pygments_lexer": "ipython3",
   "version": "3.7.12"
  },
  "papermill": {
   "default_parameters": {},
   "duration": 169.476091,
   "end_time": "2022-11-15T13:53:54.115582",
   "environment_variables": {},
   "exception": null,
   "input_path": "__notebook__.ipynb",
   "output_path": "__notebook__.ipynb",
   "parameters": {},
   "start_time": "2022-11-15T13:51:04.639491",
   "version": "2.3.4"
  }
 },
 "nbformat": 4,
 "nbformat_minor": 5
}
