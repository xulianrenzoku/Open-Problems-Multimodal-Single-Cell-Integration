{
 "cells": [
  {
   "cell_type": "code",
   "execution_count": 1,
   "id": "ff9ab472",
   "metadata": {
    "_cell_guid": "b1076dfc-b9ad-4769-8c92-a6c4dae69d19",
    "_uuid": "8f2839f25d086af736a60e9eeb907d3b93b6e0e5",
    "execution": {
     "iopub.execute_input": "2022-10-24T16:42:50.318361Z",
     "iopub.status.busy": "2022-10-24T16:42:50.317883Z",
     "iopub.status.idle": "2022-10-24T16:42:50.327777Z",
     "shell.execute_reply": "2022-10-24T16:42:50.326554Z"
    },
    "papermill": {
     "duration": 0.019687,
     "end_time": "2022-10-24T16:42:50.330449",
     "exception": false,
     "start_time": "2022-10-24T16:42:50.310762",
     "status": "completed"
    },
    "tags": []
   },
   "outputs": [],
   "source": [
    "import os\n",
    "import numpy as np\n",
    "import pandas as pd\n",
    "from tqdm import tqdm"
   ]
  },
  {
   "cell_type": "code",
   "execution_count": 2,
   "id": "13edfe6d",
   "metadata": {
    "execution": {
     "iopub.execute_input": "2022-10-24T16:42:50.340820Z",
     "iopub.status.busy": "2022-10-24T16:42:50.340143Z",
     "iopub.status.idle": "2022-10-24T16:42:50.345166Z",
     "shell.execute_reply": "2022-10-24T16:42:50.344218Z"
    },
    "papermill": {
     "duration": 0.012751,
     "end_time": "2022-10-24T16:42:50.347482",
     "exception": false,
     "start_time": "2022-10-24T16:42:50.334731",
     "status": "completed"
    },
    "tags": []
   },
   "outputs": [],
   "source": [
    "import warnings \n",
    "warnings.filterwarnings('ignore')"
   ]
  },
  {
   "cell_type": "code",
   "execution_count": 3,
   "id": "59a0d633",
   "metadata": {
    "execution": {
     "iopub.execute_input": "2022-10-24T16:42:50.357345Z",
     "iopub.status.busy": "2022-10-24T16:42:50.356930Z",
     "iopub.status.idle": "2022-10-24T16:42:50.362956Z",
     "shell.execute_reply": "2022-10-24T16:42:50.361906Z"
    },
    "papermill": {
     "duration": 0.013601,
     "end_time": "2022-10-24T16:42:50.365205",
     "exception": false,
     "start_time": "2022-10-24T16:42:50.351604",
     "status": "completed"
    },
    "tags": []
   },
   "outputs": [],
   "source": [
    "import pickle\n",
    "\n",
    "def dump_pickle(file, filename):\n",
    "    outfile = open(filename, 'wb')\n",
    "    pickle.dump(file, outfile)\n",
    "    outfile.close()\n",
    "\n",
    "def load_pickle(filename):\n",
    "    infile = open(filename, 'rb')\n",
    "    file = pickle.load(infile)\n",
    "    infile.close()\n",
    "    return file"
   ]
  },
  {
   "cell_type": "code",
   "execution_count": 4,
   "id": "16537999",
   "metadata": {
    "execution": {
     "iopub.execute_input": "2022-10-24T16:42:50.375111Z",
     "iopub.status.busy": "2022-10-24T16:42:50.374435Z",
     "iopub.status.idle": "2022-10-24T16:42:51.491356Z",
     "shell.execute_reply": "2022-10-24T16:42:51.490099Z"
    },
    "papermill": {
     "duration": 1.125114,
     "end_time": "2022-10-24T16:42:51.494442",
     "exception": false,
     "start_time": "2022-10-24T16:42:50.369328",
     "status": "completed"
    },
    "tags": []
   },
   "outputs": [
    {
     "name": "stdout",
     "output_type": "stream",
     "text": [
      "total 27G\r\n",
      "-rw-r--r-- 1 nobody nogroup 2.3G Sep  7 21:12 evaluation_ids.csv\r\n",
      "-rw-r--r-- 1 nobody nogroup 9.4M Sep  7 21:10 metadata.csv\r\n",
      "-rw-r--r-- 1 nobody nogroup 230K Sep  7 21:10 metadata_cite_day_2_donor_27678.csv\r\n",
      "-rw-r--r-- 1 nobody nogroup 805M Sep  7 21:11 sample_submission.csv\r\n",
      "-rw-r--r-- 1 nobody nogroup 1.6G Sep  7 21:12 test_cite_inputs.h5\r\n",
      "-rw-r--r-- 1 nobody nogroup 294M Sep  7 21:10 test_cite_inputs_day_2_donor_27678.h5\r\n",
      "-rw-r--r-- 1 nobody nogroup 6.1G Sep  7 21:13 test_multi_inputs.h5\r\n",
      "-rw-r--r-- 1 nobody nogroup 2.4G Sep  7 21:12 train_cite_inputs.h5\r\n",
      "-rw-r--r-- 1 nobody nogroup  37M Sep  7 21:10 train_cite_targets.h5\r\n",
      "-rw-r--r-- 1 nobody nogroup  11G Sep  7 21:13 train_multi_inputs.h5\r\n",
      "-rw-r--r-- 1 nobody nogroup 3.0G Sep  7 21:12 train_multi_targets.h5\r\n"
     ]
    }
   ],
   "source": [
    "DATA_DIR = '../input/open-problems-multimodal'\n",
    "%ls $DATA_DIR -lh"
   ]
  },
  {
   "cell_type": "markdown",
   "id": "9cb5298e",
   "metadata": {
    "papermill": {
     "duration": 0.004048,
     "end_time": "2022-10-24T16:42:51.502899",
     "exception": false,
     "start_time": "2022-10-24T16:42:51.498851",
     "status": "completed"
    },
    "tags": []
   },
   "source": [
    "## CSV --> Parquet"
   ]
  },
  {
   "cell_type": "code",
   "execution_count": 5,
   "id": "d7d3037c",
   "metadata": {
    "execution": {
     "iopub.execute_input": "2022-10-24T16:42:51.513716Z",
     "iopub.status.busy": "2022-10-24T16:42:51.512961Z",
     "iopub.status.idle": "2022-10-24T16:42:51.519158Z",
     "shell.execute_reply": "2022-10-24T16:42:51.518280Z"
    },
    "papermill": {
     "duration": 0.014291,
     "end_time": "2022-10-24T16:42:51.521349",
     "exception": false,
     "start_time": "2022-10-24T16:42:51.507058",
     "status": "completed"
    },
    "tags": []
   },
   "outputs": [],
   "source": [
    "def convert_csv_to_parquet(filename, \n",
    "                           DATA_DIR=DATA_DIR):\n",
    "    # Rewrite based on the following notebook\n",
    "    # https://www.kaggle.com/code/fabiencrom/multimodal-single-cell-creating-sparse-data/\n",
    "    \n",
    "    print(f'### Start | {filename} ###')\n",
    "    \n",
    "    filepath = f'{DATA_DIR}/{filename}'\n",
    "    outfilename = filename.replace('.csv', '.parquet')\n",
    "    pd.read_csv(filepath).to_parquet(outfilename)\n",
    "    \n",
    "    print('### End ###')\n",
    "    print()"
   ]
  },
  {
   "cell_type": "code",
   "execution_count": 6,
   "id": "c4226d49",
   "metadata": {
    "execution": {
     "iopub.execute_input": "2022-10-24T16:42:51.533488Z",
     "iopub.status.busy": "2022-10-24T16:42:51.532413Z",
     "iopub.status.idle": "2022-10-24T16:42:51.546983Z",
     "shell.execute_reply": "2022-10-24T16:42:51.545407Z"
    },
    "papermill": {
     "duration": 0.023976,
     "end_time": "2022-10-24T16:42:51.549930",
     "exception": false,
     "start_time": "2022-10-24T16:42:51.525954",
     "status": "completed"
    },
    "tags": []
   },
   "outputs": [
    {
     "data": {
      "text/plain": [
       "['sample_submission.csv',\n",
       " 'metadata_cite_day_2_donor_27678.csv',\n",
       " 'evaluation_ids.csv',\n",
       " 'metadata.csv']"
      ]
     },
     "execution_count": 6,
     "metadata": {},
     "output_type": "execute_result"
    }
   ],
   "source": [
    "csv_files = [f for f in os.listdir(DATA_DIR)\n",
    "             if '.csv' in f]\n",
    "csv_files"
   ]
  },
  {
   "cell_type": "code",
   "execution_count": 7,
   "id": "14531e41",
   "metadata": {
    "execution": {
     "iopub.execute_input": "2022-10-24T16:42:51.562356Z",
     "iopub.status.busy": "2022-10-24T16:42:51.561429Z",
     "iopub.status.idle": "2022-10-24T16:44:38.208297Z",
     "shell.execute_reply": "2022-10-24T16:44:38.206635Z"
    },
    "papermill": {
     "duration": 106.65603,
     "end_time": "2022-10-24T16:44:38.210871",
     "exception": false,
     "start_time": "2022-10-24T16:42:51.554841",
     "status": "completed"
    },
    "tags": []
   },
   "outputs": [
    {
     "name": "stdout",
     "output_type": "stream",
     "text": [
      "### Start | sample_submission.csv ###\n",
      "### End ###\n",
      "\n",
      "### Start | metadata_cite_day_2_donor_27678.csv ###\n",
      "### End ###\n",
      "\n",
      "### Start | evaluation_ids.csv ###\n",
      "### End ###\n",
      "\n",
      "### Start | metadata.csv ###\n",
      "### End ###\n",
      "\n",
      "CPU times: user 1min, sys: 10.9 s, total: 1min 10s\n",
      "Wall time: 1min 46s\n"
     ]
    }
   ],
   "source": [
    "%%time\n",
    "for filename in csv_files:\n",
    "    convert_csv_to_parquet(filename)"
   ]
  },
  {
   "cell_type": "markdown",
   "id": "7b285d9b",
   "metadata": {
    "papermill": {
     "duration": 0.004278,
     "end_time": "2022-10-24T16:44:38.219812",
     "exception": false,
     "start_time": "2022-10-24T16:44:38.215534",
     "status": "completed"
    },
    "tags": []
   },
   "source": [
    "## H5 --> Sparse "
   ]
  },
  {
   "cell_type": "code",
   "execution_count": 8,
   "id": "6c5eb69f",
   "metadata": {
    "execution": {
     "iopub.execute_input": "2022-10-24T16:44:38.231347Z",
     "iopub.status.busy": "2022-10-24T16:44:38.230147Z",
     "iopub.status.idle": "2022-10-24T16:44:38.327741Z",
     "shell.execute_reply": "2022-10-24T16:44:38.326500Z"
    },
    "papermill": {
     "duration": 0.106122,
     "end_time": "2022-10-24T16:44:38.330430",
     "exception": false,
     "start_time": "2022-10-24T16:44:38.224308",
     "status": "completed"
    },
    "tags": []
   },
   "outputs": [],
   "source": [
    "import scipy.sparse"
   ]
  },
  {
   "cell_type": "code",
   "execution_count": 9,
   "id": "7b664cf1",
   "metadata": {
    "execution": {
     "iopub.execute_input": "2022-10-24T16:44:38.341419Z",
     "iopub.status.busy": "2022-10-24T16:44:38.341032Z",
     "iopub.status.idle": "2022-10-24T16:44:38.353035Z",
     "shell.execute_reply": "2022-10-24T16:44:38.351821Z"
    },
    "papermill": {
     "duration": 0.020341,
     "end_time": "2022-10-24T16:44:38.355519",
     "exception": false,
     "start_time": "2022-10-24T16:44:38.335178",
     "status": "completed"
    },
    "tags": []
   },
   "outputs": [],
   "source": [
    "def convert_h5_to_sparse_csr(filename, \n",
    "                             chunksize=2500, \n",
    "                             DATA_DIR=DATA_DIR):\n",
    "    # Rewrite based on the following notebook\n",
    "    # https://www.kaggle.com/code/fabiencrom/multimodal-single-cell-creating-sparse-data/\n",
    "    \n",
    "    filepath = f'{DATA_DIR}/{filename}'\n",
    "    \n",
    "    start = 0\n",
    "    total_rows = 0\n",
    "    \n",
    "    chunks_val_list = []\n",
    "    chunks_idx_list = []\n",
    "    cols = None\n",
    "    \n",
    "    print(f'### Start | {filename} ###')\n",
    "    print('Start Reading...')\n",
    "    \n",
    "    while True:\n",
    "        chunk_df = pd.read_hdf(filepath, \n",
    "                               start=start,\n",
    "                               stop=start+chunksize)\n",
    "        chunk_nrows = len(chunk_df)\n",
    "        \n",
    "        # Stop\n",
    "        if chunk_nrows == 0:\n",
    "            break\n",
    "        \n",
    "        chunk_val = scipy.sparse.csr_matrix(chunk_df.to_numpy())\n",
    "        chunks_val_list.append(chunk_val)\n",
    "        chunk_idx = chunk_df.index.to_numpy()\n",
    "        chunks_idx_list.append(chunk_idx)\n",
    "        \n",
    "        if cols is None:\n",
    "            cols = chunk_df.columns.to_numpy()\n",
    "        else:\n",
    "            assert np.all(cols==chunk_df.columns.to_numpy())\n",
    "        \n",
    "        total_rows += chunk_nrows\n",
    "        print(f'We are at row {total_rows}')\n",
    "        \n",
    "        del chunk_df\n",
    "        \n",
    "        # Stop\n",
    "        if chunk_nrows < chunksize:\n",
    "            break\n",
    "        \n",
    "        # Update start\n",
    "        start+=chunksize\n",
    "        \n",
    "    print('Done.')\n",
    "    print('Start saving files...')    \n",
    "    \n",
    "    outfilename = filename.replace('.h5', '')\n",
    "    \n",
    "    scipy.sparse.save_npz(f'{outfilename}_val.sparse',\n",
    "                          scipy.sparse.vstack(chunks_val_list))\n",
    "    del chunks_val_list\n",
    "    \n",
    "    np.savez(f'{outfilename}_idx.npz',\n",
    "             index=np.hstack(chunks_idx_list),\n",
    "             columns=cols)\n",
    "    del chunks_idx_list\n",
    "    \n",
    "    print('Done.')\n",
    "    print('### End ###')\n",
    "    print()\n",
    "    "
   ]
  },
  {
   "cell_type": "code",
   "execution_count": 10,
   "id": "1e21e111",
   "metadata": {
    "execution": {
     "iopub.execute_input": "2022-10-24T16:44:38.366683Z",
     "iopub.status.busy": "2022-10-24T16:44:38.365754Z",
     "iopub.status.idle": "2022-10-24T16:44:38.372747Z",
     "shell.execute_reply": "2022-10-24T16:44:38.371989Z"
    },
    "papermill": {
     "duration": 0.014546,
     "end_time": "2022-10-24T16:44:38.374739",
     "exception": false,
     "start_time": "2022-10-24T16:44:38.360193",
     "status": "completed"
    },
    "tags": []
   },
   "outputs": [
    {
     "data": {
      "text/plain": [
       "['train_cite_targets.h5',\n",
       " 'test_multi_inputs.h5',\n",
       " 'train_cite_inputs.h5',\n",
       " 'train_multi_targets.h5',\n",
       " 'train_multi_inputs.h5',\n",
       " 'test_cite_inputs_day_2_donor_27678.h5',\n",
       " 'test_cite_inputs.h5']"
      ]
     },
     "execution_count": 10,
     "metadata": {},
     "output_type": "execute_result"
    }
   ],
   "source": [
    "h5_files = [f for f in os.listdir(DATA_DIR)\n",
    "            if '.h5' in f]\n",
    "h5_files"
   ]
  },
  {
   "cell_type": "code",
   "execution_count": 11,
   "id": "73e42fce",
   "metadata": {
    "execution": {
     "iopub.execute_input": "2022-10-24T16:44:38.386196Z",
     "iopub.status.busy": "2022-10-24T16:44:38.385561Z",
     "iopub.status.idle": "2022-10-24T17:40:08.975056Z",
     "shell.execute_reply": "2022-10-24T17:40:08.972117Z"
    },
    "papermill": {
     "duration": 3330.613121,
     "end_time": "2022-10-24T17:40:08.992922",
     "exception": false,
     "start_time": "2022-10-24T16:44:38.379801",
     "status": "completed"
    },
    "tags": []
   },
   "outputs": [
    {
     "name": "stdout",
     "output_type": "stream",
     "text": [
      "### Start | train_cite_targets.h5 ###\n",
      "Start Reading...\n",
      "We are at row 2500\n",
      "We are at row 5000\n",
      "We are at row 7500\n",
      "We are at row 10000\n",
      "We are at row 12500\n",
      "We are at row 15000\n",
      "We are at row 17500\n",
      "We are at row 20000\n",
      "We are at row 22500\n",
      "We are at row 25000\n",
      "We are at row 27500\n",
      "We are at row 30000\n",
      "We are at row 32500\n",
      "We are at row 35000\n",
      "We are at row 37500\n",
      "We are at row 40000\n",
      "We are at row 42500\n",
      "We are at row 45000\n",
      "We are at row 47500\n",
      "We are at row 50000\n",
      "We are at row 52500\n",
      "We are at row 55000\n",
      "We are at row 57500\n",
      "We are at row 60000\n",
      "We are at row 62500\n",
      "We are at row 65000\n",
      "We are at row 67500\n",
      "We are at row 70000\n",
      "We are at row 70988\n",
      "Done.\n",
      "Start saving files...\n",
      "Done.\n",
      "### End ###\n",
      "\n",
      "### Start | test_multi_inputs.h5 ###\n",
      "Start Reading...\n",
      "We are at row 2500\n",
      "We are at row 5000\n",
      "We are at row 7500\n",
      "We are at row 10000\n",
      "We are at row 12500\n",
      "We are at row 15000\n",
      "We are at row 17500\n",
      "We are at row 20000\n",
      "We are at row 22500\n",
      "We are at row 25000\n",
      "We are at row 27500\n",
      "We are at row 30000\n",
      "We are at row 32500\n",
      "We are at row 35000\n",
      "We are at row 37500\n",
      "We are at row 40000\n",
      "We are at row 42500\n",
      "We are at row 45000\n",
      "We are at row 47500\n",
      "We are at row 50000\n",
      "We are at row 52500\n",
      "We are at row 55000\n",
      "We are at row 55935\n",
      "Done.\n",
      "Start saving files...\n",
      "Done.\n",
      "### End ###\n",
      "\n",
      "### Start | train_cite_inputs.h5 ###\n",
      "Start Reading...\n",
      "We are at row 2500\n",
      "We are at row 5000\n",
      "We are at row 7500\n",
      "We are at row 10000\n",
      "We are at row 12500\n",
      "We are at row 15000\n",
      "We are at row 17500\n",
      "We are at row 20000\n",
      "We are at row 22500\n",
      "We are at row 25000\n",
      "We are at row 27500\n",
      "We are at row 30000\n",
      "We are at row 32500\n",
      "We are at row 35000\n",
      "We are at row 37500\n",
      "We are at row 40000\n",
      "We are at row 42500\n",
      "We are at row 45000\n",
      "We are at row 47500\n",
      "We are at row 50000\n",
      "We are at row 52500\n",
      "We are at row 55000\n",
      "We are at row 57500\n",
      "We are at row 60000\n",
      "We are at row 62500\n",
      "We are at row 65000\n",
      "We are at row 67500\n",
      "We are at row 70000\n",
      "We are at row 70988\n",
      "Done.\n",
      "Start saving files...\n",
      "Done.\n",
      "### End ###\n",
      "\n",
      "### Start | train_multi_targets.h5 ###\n",
      "Start Reading...\n",
      "We are at row 2500\n",
      "We are at row 5000\n",
      "We are at row 7500\n",
      "We are at row 10000\n",
      "We are at row 12500\n",
      "We are at row 15000\n",
      "We are at row 17500\n",
      "We are at row 20000\n",
      "We are at row 22500\n",
      "We are at row 25000\n",
      "We are at row 27500\n",
      "We are at row 30000\n",
      "We are at row 32500\n",
      "We are at row 35000\n",
      "We are at row 37500\n",
      "We are at row 40000\n",
      "We are at row 42500\n",
      "We are at row 45000\n",
      "We are at row 47500\n",
      "We are at row 50000\n",
      "We are at row 52500\n",
      "We are at row 55000\n",
      "We are at row 57500\n",
      "We are at row 60000\n",
      "We are at row 62500\n",
      "We are at row 65000\n",
      "We are at row 67500\n",
      "We are at row 70000\n",
      "We are at row 72500\n",
      "We are at row 75000\n",
      "We are at row 77500\n",
      "We are at row 80000\n",
      "We are at row 82500\n",
      "We are at row 85000\n",
      "We are at row 87500\n",
      "We are at row 90000\n",
      "We are at row 92500\n",
      "We are at row 95000\n",
      "We are at row 97500\n",
      "We are at row 100000\n",
      "We are at row 102500\n",
      "We are at row 105000\n",
      "We are at row 105942\n",
      "Done.\n",
      "Start saving files...\n",
      "Done.\n",
      "### End ###\n",
      "\n",
      "### Start | train_multi_inputs.h5 ###\n",
      "Start Reading...\n",
      "We are at row 2500\n",
      "We are at row 5000\n",
      "We are at row 7500\n",
      "We are at row 10000\n",
      "We are at row 12500\n",
      "We are at row 15000\n",
      "We are at row 17500\n",
      "We are at row 20000\n",
      "We are at row 22500\n",
      "We are at row 25000\n",
      "We are at row 27500\n",
      "We are at row 30000\n",
      "We are at row 32500\n",
      "We are at row 35000\n",
      "We are at row 37500\n",
      "We are at row 40000\n",
      "We are at row 42500\n",
      "We are at row 45000\n",
      "We are at row 47500\n",
      "We are at row 50000\n",
      "We are at row 52500\n",
      "We are at row 55000\n",
      "We are at row 57500\n",
      "We are at row 60000\n",
      "We are at row 62500\n",
      "We are at row 65000\n",
      "We are at row 67500\n",
      "We are at row 70000\n",
      "We are at row 72500\n",
      "We are at row 75000\n",
      "We are at row 77500\n",
      "We are at row 80000\n",
      "We are at row 82500\n",
      "We are at row 85000\n",
      "We are at row 87500\n",
      "We are at row 90000\n",
      "We are at row 92500\n",
      "We are at row 95000\n",
      "We are at row 97500\n",
      "We are at row 100000\n",
      "We are at row 102500\n",
      "We are at row 105000\n",
      "We are at row 105942\n",
      "Done.\n",
      "Start saving files...\n",
      "Done.\n",
      "### End ###\n",
      "\n",
      "### Start | test_cite_inputs_day_2_donor_27678.h5 ###\n",
      "Start Reading...\n",
      "We are at row 2500\n",
      "We are at row 5000\n",
      "We are at row 7016\n",
      "Done.\n",
      "Start saving files...\n",
      "Done.\n",
      "### End ###\n",
      "\n",
      "### Start | test_cite_inputs.h5 ###\n",
      "Start Reading...\n",
      "We are at row 2500\n",
      "We are at row 5000\n",
      "We are at row 7500\n",
      "We are at row 10000\n",
      "We are at row 12500\n",
      "We are at row 15000\n",
      "We are at row 17500\n",
      "We are at row 20000\n",
      "We are at row 22500\n",
      "We are at row 25000\n",
      "We are at row 27500\n",
      "We are at row 30000\n",
      "We are at row 32500\n",
      "We are at row 35000\n",
      "We are at row 37500\n",
      "We are at row 40000\n",
      "We are at row 42500\n",
      "We are at row 45000\n",
      "We are at row 47500\n",
      "We are at row 48663\n",
      "Done.\n",
      "Start saving files...\n",
      "Done.\n",
      "### End ###\n",
      "\n"
     ]
    }
   ],
   "source": [
    "for filename in h5_files:\n",
    "    convert_h5_to_sparse_csr(filename)"
   ]
  },
  {
   "cell_type": "markdown",
   "id": "2b46a734",
   "metadata": {
    "papermill": {
     "duration": 0.01531,
     "end_time": "2022-10-24T17:40:09.023436",
     "exception": false,
     "start_time": "2022-10-24T17:40:09.008126",
     "status": "completed"
    },
    "tags": []
   },
   "source": [
    "## Summary"
   ]
  },
  {
   "cell_type": "code",
   "execution_count": 12,
   "id": "4f609bf1",
   "metadata": {
    "execution": {
     "iopub.execute_input": "2022-10-24T17:40:09.058992Z",
     "iopub.status.busy": "2022-10-24T17:40:09.058448Z",
     "iopub.status.idle": "2022-10-24T17:40:10.189774Z",
     "shell.execute_reply": "2022-10-24T17:40:10.188092Z"
    },
    "papermill": {
     "duration": 1.154494,
     "end_time": "2022-10-24T17:40:10.193136",
     "exception": false,
     "start_time": "2022-10-24T17:40:09.038642",
     "status": "completed"
    },
    "tags": []
   },
   "outputs": [
    {
     "name": "stdout",
     "output_type": "stream",
     "text": [
      "total 7.1G\r\n",
      "---------- 1 root root  38K Oct 24 17:40 __notebook__.ipynb\r\n",
      "-rw-r--r-- 1 root root 359M Oct 24 16:44 evaluation_ids.parquet\r\n",
      "-rw-r--r-- 1 root root 3.8M Oct 24 16:44 metadata.parquet\r\n",
      "-rw-r--r-- 1 root root 108K Oct 24 16:43 metadata_cite_day_2_donor_27678.parquet\r\n",
      "-rw-r--r-- 1 root root 252M Oct 24 16:43 sample_submission.parquet\r\n",
      "-rw-r--r-- 1 root root 856K Oct 24 17:36 test_cite_inputs_day_2_donor_27678_idx.npz\r\n",
      "-rw-r--r-- 1 root root  78M Oct 24 17:36 test_cite_inputs_day_2_donor_27678_val.sparse.npz\r\n",
      "-rw-r--r-- 1 root root 1.8M Oct 24 17:40 test_cite_inputs_idx.npz\r\n",
      "-rw-r--r-- 1 root root 488M Oct 24 17:40 test_cite_inputs_val.sparse.npz\r\n",
      "-rw-r--r-- 1 root root 8.4M Oct 24 16:57 test_multi_inputs_idx.npz\r\n",
      "-rw-r--r-- 1 root root 1.7G Oct 24 16:57 test_multi_inputs_val.sparse.npz\r\n",
      "-rw-r--r-- 1 root root 2.2M Oct 24 17:02 train_cite_inputs_idx.npz\r\n",
      "-rw-r--r-- 1 root root 712M Oct 24 17:02 train_cite_inputs_val.sparse.npz\r\n",
      "-rw-r--r-- 1 root root 1.5M Oct 24 16:44 train_cite_targets_idx.npz\r\n",
      "-rw-r--r-- 1 root root  36M Oct 24 16:44 train_cite_targets_val.sparse.npz\r\n",
      "-rw-r--r-- 1 root root 9.5M Oct 24 17:36 train_multi_inputs_idx.npz\r\n",
      "-rw-r--r-- 1 root root 2.8G Oct 24 17:36 train_multi_inputs_val.sparse.npz\r\n",
      "-rw-r--r-- 1 root root 2.8M Oct 24 17:09 train_multi_targets_idx.npz\r\n",
      "-rw-r--r-- 1 root root 824M Oct 24 17:09 train_multi_targets_val.sparse.npz\r\n"
     ]
    }
   ],
   "source": [
    "%ls -lh"
   ]
  }
 ],
 "metadata": {
  "kernelspec": {
   "display_name": "Python 3",
   "language": "python",
   "name": "python3"
  },
  "language_info": {
   "codemirror_mode": {
    "name": "ipython",
    "version": 3
   },
   "file_extension": ".py",
   "mimetype": "text/x-python",
   "name": "python",
   "nbconvert_exporter": "python",
   "pygments_lexer": "ipython3",
   "version": "3.7.12"
  },
  "papermill": {
   "default_parameters": {},
   "duration": 3449.685868,
   "end_time": "2022-10-24T17:40:11.144244",
   "environment_variables": {},
   "exception": null,
   "input_path": "__notebook__.ipynb",
   "output_path": "__notebook__.ipynb",
   "parameters": {},
   "start_time": "2022-10-24T16:42:41.458376",
   "version": "2.3.4"
  }
 },
 "nbformat": 4,
 "nbformat_minor": 5
}
