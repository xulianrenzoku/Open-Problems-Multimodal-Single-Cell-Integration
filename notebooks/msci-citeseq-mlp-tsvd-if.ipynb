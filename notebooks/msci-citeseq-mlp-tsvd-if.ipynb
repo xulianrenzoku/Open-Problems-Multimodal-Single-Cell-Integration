{
 "cells": [
  {
   "cell_type": "code",
   "execution_count": 1,
   "id": "3ed878ea",
   "metadata": {
    "_cell_guid": "b1076dfc-b9ad-4769-8c92-a6c4dae69d19",
    "_uuid": "8f2839f25d086af736a60e9eeb907d3b93b6e0e5",
    "execution": {
     "iopub.execute_input": "2022-11-15T05:05:01.257183Z",
     "iopub.status.busy": "2022-11-15T05:05:01.256430Z",
     "iopub.status.idle": "2022-11-15T05:05:01.348763Z",
     "shell.execute_reply": "2022-11-15T05:05:01.347814Z"
    },
    "papermill": {
     "duration": 0.108811,
     "end_time": "2022-11-15T05:05:01.351381",
     "exception": false,
     "start_time": "2022-11-15T05:05:01.242570",
     "status": "completed"
    },
    "tags": []
   },
   "outputs": [],
   "source": [
    "import os\n",
    "import os.path\n",
    "import gc\n",
    "import numpy as np\n",
    "import pandas as pd\n",
    "import scipy.sparse\n",
    "from tqdm import tqdm"
   ]
  },
  {
   "cell_type": "code",
   "execution_count": 2,
   "id": "43c20a63",
   "metadata": {
    "execution": {
     "iopub.execute_input": "2022-11-15T05:05:01.373063Z",
     "iopub.status.busy": "2022-11-15T05:05:01.372355Z",
     "iopub.status.idle": "2022-11-15T05:05:01.376134Z",
     "shell.execute_reply": "2022-11-15T05:05:01.375563Z"
    },
    "papermill": {
     "duration": 0.017189,
     "end_time": "2022-11-15T05:05:01.377891",
     "exception": false,
     "start_time": "2022-11-15T05:05:01.360702",
     "status": "completed"
    },
    "tags": []
   },
   "outputs": [],
   "source": [
    "import warnings \n",
    "warnings.filterwarnings('ignore')"
   ]
  },
  {
   "cell_type": "code",
   "execution_count": 3,
   "id": "63327121",
   "metadata": {
    "execution": {
     "iopub.execute_input": "2022-11-15T05:05:01.397767Z",
     "iopub.status.busy": "2022-11-15T05:05:01.397320Z",
     "iopub.status.idle": "2022-11-15T05:05:01.401631Z",
     "shell.execute_reply": "2022-11-15T05:05:01.401063Z"
    },
    "papermill": {
     "duration": 0.016154,
     "end_time": "2022-11-15T05:05:01.403386",
     "exception": false,
     "start_time": "2022-11-15T05:05:01.387232",
     "status": "completed"
    },
    "tags": []
   },
   "outputs": [],
   "source": [
    "import pickle\n",
    "\n",
    "def dump_pickle(file, filename):\n",
    "    outfile = open(filename, 'wb')\n",
    "    pickle.dump(file, outfile)\n",
    "    outfile.close()\n",
    "\n",
    "def load_pickle(filename):\n",
    "    infile = open(filename, 'rb')\n",
    "    file = pickle.load(infile)\n",
    "    infile.close()\n",
    "    return file"
   ]
  },
  {
   "cell_type": "code",
   "execution_count": 4,
   "id": "d7be5911",
   "metadata": {
    "execution": {
     "iopub.execute_input": "2022-11-15T05:05:01.422794Z",
     "iopub.status.busy": "2022-11-15T05:05:01.422310Z",
     "iopub.status.idle": "2022-11-15T05:05:02.443383Z",
     "shell.execute_reply": "2022-11-15T05:05:02.442023Z"
    },
    "papermill": {
     "duration": 1.033812,
     "end_time": "2022-11-15T05:05:02.446183",
     "exception": false,
     "start_time": "2022-11-15T05:05:01.412371",
     "status": "completed"
    },
    "tags": []
   },
   "outputs": [
    {
     "name": "stdout",
     "output_type": "stream",
     "text": [
      "total 27G\r\n",
      "-rw-r--r-- 1 nobody nogroup 2.3G Sep  7 20:28 evaluation_ids.csv\r\n",
      "-rw-r--r-- 1 nobody nogroup 9.4M Sep  7 20:28 metadata.csv\r\n",
      "-rw-r--r-- 1 nobody nogroup 230K Sep  7 20:28 metadata_cite_day_2_donor_27678.csv\r\n",
      "-rw-r--r-- 1 nobody nogroup 805M Sep  7 20:28 sample_submission.csv\r\n",
      "-rw-r--r-- 1 nobody nogroup 1.6G Sep  7 20:28 test_cite_inputs.h5\r\n",
      "-rw-r--r-- 1 nobody nogroup 294M Sep  7 20:28 test_cite_inputs_day_2_donor_27678.h5\r\n",
      "-rw-r--r-- 1 nobody nogroup 6.1G Sep  7 20:29 test_multi_inputs.h5\r\n",
      "-rw-r--r-- 1 nobody nogroup 2.4G Sep  7 20:29 train_cite_inputs.h5\r\n",
      "-rw-r--r-- 1 nobody nogroup  37M Sep  7 20:28 train_cite_targets.h5\r\n",
      "-rw-r--r-- 1 nobody nogroup  11G Sep  7 20:30 train_multi_inputs.h5\r\n",
      "-rw-r--r-- 1 nobody nogroup 3.0G Sep  7 20:29 train_multi_targets.h5\r\n"
     ]
    }
   ],
   "source": [
    "DATA_DIR = '../input/open-problems-multimodal'\n",
    "%ls $DATA_DIR -lh"
   ]
  },
  {
   "cell_type": "markdown",
   "id": "70bcade9",
   "metadata": {
    "execution": {
     "iopub.execute_input": "2022-10-24T09:53:23.30961Z",
     "iopub.status.busy": "2022-10-24T09:53:23.309238Z",
     "iopub.status.idle": "2022-10-24T09:53:23.315117Z",
     "shell.execute_reply": "2022-10-24T09:53:23.313565Z",
     "shell.execute_reply.started": "2022-10-24T09:53:23.309583Z"
    },
    "papermill": {
     "duration": 0.009532,
     "end_time": "2022-11-15T05:05:02.466021",
     "exception": false,
     "start_time": "2022-11-15T05:05:02.456489",
     "status": "completed"
    },
    "tags": []
   },
   "source": [
    "## Read Data"
   ]
  },
  {
   "cell_type": "code",
   "execution_count": 5,
   "id": "52531bf9",
   "metadata": {
    "execution": {
     "iopub.execute_input": "2022-11-15T05:05:02.487998Z",
     "iopub.status.busy": "2022-11-15T05:05:02.487338Z",
     "iopub.status.idle": "2022-11-15T05:05:52.216291Z",
     "shell.execute_reply": "2022-11-15T05:05:52.214977Z"
    },
    "papermill": {
     "duration": 49.75132,
     "end_time": "2022-11-15T05:05:52.227000",
     "exception": false,
     "start_time": "2022-11-15T05:05:02.475680",
     "status": "completed"
    },
    "tags": []
   },
   "outputs": [
    {
     "name": "stdout",
     "output_type": "stream",
     "text": [
      "CPU times: user 25.2 s, sys: 5.02 s, total: 30.2 s\n",
      "Wall time: 49.7 s\n"
     ]
    }
   ],
   "source": [
    "%%time\n",
    "train_inp = pd.read_hdf(f'{DATA_DIR}/train_cite_inputs.h5')\n",
    "train_inp_cols = train_inp.columns"
   ]
  },
  {
   "cell_type": "code",
   "execution_count": 6,
   "id": "92e92c83",
   "metadata": {
    "execution": {
     "iopub.execute_input": "2022-11-15T05:05:52.249063Z",
     "iopub.status.busy": "2022-11-15T05:05:52.248733Z",
     "iopub.status.idle": "2022-11-15T05:06:26.057071Z",
     "shell.execute_reply": "2022-11-15T05:06:26.055967Z"
    },
    "papermill": {
     "duration": 33.829199,
     "end_time": "2022-11-15T05:06:26.066583",
     "exception": false,
     "start_time": "2022-11-15T05:05:52.237384",
     "status": "completed"
    },
    "tags": []
   },
   "outputs": [
    {
     "name": "stdout",
     "output_type": "stream",
     "text": [
      "CPU times: user 17.2 s, sys: 2.76 s, total: 20 s\n",
      "Wall time: 33.8 s\n"
     ]
    }
   ],
   "source": [
    "%%time\n",
    "test_inp = pd.read_hdf(f'{DATA_DIR}/test_cite_inputs.h5')"
   ]
  },
  {
   "cell_type": "code",
   "execution_count": 7,
   "id": "578d3c5b",
   "metadata": {
    "execution": {
     "iopub.execute_input": "2022-11-15T05:06:26.087988Z",
     "iopub.status.busy": "2022-11-15T05:06:26.087613Z",
     "iopub.status.idle": "2022-11-15T05:06:26.668757Z",
     "shell.execute_reply": "2022-11-15T05:06:26.666544Z"
    },
    "papermill": {
     "duration": 0.594326,
     "end_time": "2022-11-15T05:06:26.671057",
     "exception": false,
     "start_time": "2022-11-15T05:06:26.076731",
     "status": "completed"
    },
    "tags": []
   },
   "outputs": [
    {
     "name": "stdout",
     "output_type": "stream",
     "text": [
      "CPU times: user 160 ms, sys: 35.9 ms, total: 196 ms\n",
      "Wall time: 574 ms\n"
     ]
    }
   ],
   "source": [
    "%%time\n",
    "train_tar = pd.read_hdf(f'{DATA_DIR}/train_cite_targets.h5')\n",
    "train_tar_cols = train_tar.columns"
   ]
  },
  {
   "cell_type": "markdown",
   "id": "36042dbf",
   "metadata": {
    "papermill": {
     "duration": 0.009502,
     "end_time": "2022-11-15T05:06:26.690255",
     "exception": false,
     "start_time": "2022-11-15T05:06:26.680753",
     "status": "completed"
    },
    "tags": []
   },
   "source": [
    "## Feature Engineering"
   ]
  },
  {
   "cell_type": "markdown",
   "id": "85f53bc4",
   "metadata": {
    "papermill": {
     "duration": 0.009638,
     "end_time": "2022-11-15T05:06:26.709957",
     "exception": false,
     "start_time": "2022-11-15T05:06:26.700319",
     "status": "completed"
    },
    "tags": []
   },
   "source": [
    "### Remove Features"
   ]
  },
  {
   "cell_type": "markdown",
   "id": "3823d13e",
   "metadata": {
    "papermill": {
     "duration": 0.009149,
     "end_time": "2022-11-15T05:06:26.728656",
     "exception": false,
     "start_time": "2022-11-15T05:06:26.719507",
     "status": "completed"
    },
    "tags": []
   },
   "source": [
    "Find and remove columns with all zeroes"
   ]
  },
  {
   "cell_type": "code",
   "execution_count": 8,
   "id": "5dfef056",
   "metadata": {
    "execution": {
     "iopub.execute_input": "2022-11-15T05:06:26.748743Z",
     "iopub.status.busy": "2022-11-15T05:06:26.748405Z",
     "iopub.status.idle": "2022-11-15T05:07:03.085416Z",
     "shell.execute_reply": "2022-11-15T05:07:03.084144Z"
    },
    "papermill": {
     "duration": 36.350019,
     "end_time": "2022-11-15T05:07:03.087705",
     "exception": false,
     "start_time": "2022-11-15T05:06:26.737686",
     "status": "completed"
    },
    "tags": []
   },
   "outputs": [
    {
     "name": "stdout",
     "output_type": "stream",
     "text": [
      "0\n",
      "1000\n",
      "2000\n",
      "3000\n",
      "4000\n",
      "5000\n",
      "6000\n",
      "7000\n",
      "8000\n",
      "9000\n",
      "10000\n",
      "11000\n",
      "12000\n",
      "13000\n",
      "14000\n",
      "15000\n",
      "16000\n",
      "17000\n",
      "18000\n",
      "19000\n",
      "20000\n",
      "21000\n",
      "22000\n",
      "Number of columns with zero values only (Train or Test): 1194\n",
      "CPU times: user 36.2 s, sys: 154 ms, total: 36.3 s\n",
      "Wall time: 36.3 s\n"
     ]
    }
   ],
   "source": [
    "%%time\n",
    "zero_cols = []\n",
    "for idx, col in enumerate(train_inp_cols, 0):\n",
    "    if idx % 1000 == 0:\n",
    "        print(idx)\n",
    "    if len(train_inp[col].unique()) == 1 or len(test_inp[col].unique()) == 1:\n",
    "        zero_cols.append(col)\n",
    "print('Number of columns with zero values only (Train or Test):', \n",
    "      len(zero_cols))"
   ]
  },
  {
   "cell_type": "code",
   "execution_count": 9,
   "id": "b31130f3",
   "metadata": {
    "execution": {
     "iopub.execute_input": "2022-11-15T05:07:03.111645Z",
     "iopub.status.busy": "2022-11-15T05:07:03.110974Z",
     "iopub.status.idle": "2022-11-15T05:07:06.243029Z",
     "shell.execute_reply": "2022-11-15T05:07:06.241996Z"
    },
    "papermill": {
     "duration": 3.146656,
     "end_time": "2022-11-15T05:07:06.245490",
     "exception": false,
     "start_time": "2022-11-15T05:07:03.098834",
     "status": "completed"
    },
    "tags": []
   },
   "outputs": [
    {
     "name": "stdout",
     "output_type": "stream",
     "text": [
      "CPU times: user 1.17 s, sys: 1.97 s, total: 3.13 s\n",
      "Wall time: 3.12 s\n"
     ]
    },
    {
     "data": {
      "text/plain": [
       "((70988, 20856), (48663, 20856))"
      ]
     },
     "execution_count": 9,
     "metadata": {},
     "output_type": "execute_result"
    }
   ],
   "source": [
    "%%time\n",
    "train_inp = train_inp.drop(zero_cols, axis=1)\n",
    "train_inp_cols = train_inp.columns\n",
    "test_inp = test_inp.drop(zero_cols, axis=1)\n",
    "train_inp.shape, test_inp.shape"
   ]
  },
  {
   "cell_type": "markdown",
   "id": "c81f8091",
   "metadata": {
    "papermill": {
     "duration": 0.010971,
     "end_time": "2022-11-15T05:07:06.268154",
     "exception": false,
     "start_time": "2022-11-15T05:07:06.257183",
     "status": "completed"
    },
    "tags": []
   },
   "source": [
    "### Introduce Metadata"
   ]
  },
  {
   "cell_type": "code",
   "execution_count": 10,
   "id": "e3feda64",
   "metadata": {
    "execution": {
     "iopub.execute_input": "2022-11-15T05:07:06.292603Z",
     "iopub.status.busy": "2022-11-15T05:07:06.291664Z",
     "iopub.status.idle": "2022-11-15T05:07:07.338109Z",
     "shell.execute_reply": "2022-11-15T05:07:07.336779Z"
    },
    "papermill": {
     "duration": 1.06193,
     "end_time": "2022-11-15T05:07:07.341074",
     "exception": false,
     "start_time": "2022-11-15T05:07:06.279144",
     "status": "completed"
    },
    "tags": []
   },
   "outputs": [
    {
     "name": "stdout",
     "output_type": "stream",
     "text": [
      "total 7.1G\r\n",
      "-rw-r--r-- 1 nobody nogroup  25K Nov  2 12:50 __notebook__.ipynb\r\n",
      "-rw-r--r-- 1 nobody nogroup  25K Nov  2 12:50 __output__.json\r\n",
      "-rw-r--r-- 1 nobody nogroup 293K Nov  2 12:50 __results__.html\r\n",
      "-rw-r--r-- 1 nobody nogroup    0 Nov  2 12:50 custom.css\r\n",
      "-rw-r--r-- 1 nobody nogroup 359M Nov  2 12:50 evaluation_ids.parquet\r\n",
      "-rw-r--r-- 1 nobody nogroup 3.8M Nov  2 12:50 metadata.parquet\r\n",
      "-rw-r--r-- 1 nobody nogroup 108K Nov  2 12:50 metadata_cite_day_2_donor_27678.parquet\r\n",
      "-rw-r--r-- 1 nobody nogroup 252M Nov  2 12:50 sample_submission.parquet\r\n",
      "-rw-r--r-- 1 nobody nogroup 856K Nov  2 12:50 test_cite_inputs_day_2_donor_27678_idx.npz\r\n",
      "-rw-r--r-- 1 nobody nogroup  78M Nov  2 12:50 test_cite_inputs_day_2_donor_27678_val.sparse.npz\r\n",
      "-rw-r--r-- 1 nobody nogroup 1.8M Nov  2 12:50 test_cite_inputs_idx.npz\r\n",
      "-rw-r--r-- 1 nobody nogroup 488M Nov  2 12:51 test_cite_inputs_val.sparse.npz\r\n",
      "-rw-r--r-- 1 nobody nogroup 8.4M Nov  2 12:50 test_multi_inputs_idx.npz\r\n",
      "-rw-r--r-- 1 nobody nogroup 1.7G Nov  2 12:51 test_multi_inputs_val.sparse.npz\r\n",
      "-rw-r--r-- 1 nobody nogroup 2.2M Nov  2 12:50 train_cite_inputs_idx.npz\r\n",
      "-rw-r--r-- 1 nobody nogroup 712M Nov  2 12:51 train_cite_inputs_val.sparse.npz\r\n",
      "-rw-r--r-- 1 nobody nogroup 1.5M Nov  2 12:50 train_cite_targets_idx.npz\r\n",
      "-rw-r--r-- 1 nobody nogroup  36M Nov  2 12:50 train_cite_targets_val.sparse.npz\r\n",
      "-rw-r--r-- 1 nobody nogroup 9.5M Nov  2 12:50 train_multi_inputs_idx.npz\r\n",
      "-rw-r--r-- 1 nobody nogroup 2.8G Nov  2 12:52 train_multi_inputs_val.sparse.npz\r\n",
      "-rw-r--r-- 1 nobody nogroup 2.8M Nov  2 12:50 train_multi_targets_idx.npz\r\n",
      "-rw-r--r-- 1 nobody nogroup 824M Nov  2 12:51 train_multi_targets_val.sparse.npz\r\n"
     ]
    }
   ],
   "source": [
    "DATA_DIR = '../input/msci-h5-sparse-transform'\n",
    "%ls $DATA_DIR -lh"
   ]
  },
  {
   "cell_type": "code",
   "execution_count": 11,
   "id": "534c470a",
   "metadata": {
    "execution": {
     "iopub.execute_input": "2022-11-15T05:07:07.366857Z",
     "iopub.status.busy": "2022-11-15T05:07:07.366508Z",
     "iopub.status.idle": "2022-11-15T05:07:07.729634Z",
     "shell.execute_reply": "2022-11-15T05:07:07.728446Z"
    },
    "papermill": {
     "duration": 0.378857,
     "end_time": "2022-11-15T05:07:07.732064",
     "exception": false,
     "start_time": "2022-11-15T05:07:07.353207",
     "status": "completed"
    },
    "tags": []
   },
   "outputs": [
    {
     "name": "stdout",
     "output_type": "stream",
     "text": [
      "(119651, 5)\n",
      "CPU times: user 170 ms, sys: 90.8 ms, total: 260 ms\n",
      "Wall time: 347 ms\n"
     ]
    },
    {
     "data": {
      "text/html": [
       "<div>\n",
       "<style scoped>\n",
       "    .dataframe tbody tr th:only-of-type {\n",
       "        vertical-align: middle;\n",
       "    }\n",
       "\n",
       "    .dataframe tbody tr th {\n",
       "        vertical-align: top;\n",
       "    }\n",
       "\n",
       "    .dataframe thead th {\n",
       "        text-align: right;\n",
       "    }\n",
       "</style>\n",
       "<table border=\"1\" class=\"dataframe\">\n",
       "  <thead>\n",
       "    <tr style=\"text-align: right;\">\n",
       "      <th></th>\n",
       "      <th>cell_id</th>\n",
       "      <th>day</th>\n",
       "      <th>donor</th>\n",
       "      <th>cell_type</th>\n",
       "      <th>technology</th>\n",
       "    </tr>\n",
       "  </thead>\n",
       "  <tbody>\n",
       "    <tr>\n",
       "      <th>0</th>\n",
       "      <td>c2150f55becb</td>\n",
       "      <td>2</td>\n",
       "      <td>27678</td>\n",
       "      <td>HSC</td>\n",
       "      <td>citeseq</td>\n",
       "    </tr>\n",
       "    <tr>\n",
       "      <th>1</th>\n",
       "      <td>65b7edf8a4da</td>\n",
       "      <td>2</td>\n",
       "      <td>27678</td>\n",
       "      <td>HSC</td>\n",
       "      <td>citeseq</td>\n",
       "    </tr>\n",
       "    <tr>\n",
       "      <th>2</th>\n",
       "      <td>c1b26cb1057b</td>\n",
       "      <td>2</td>\n",
       "      <td>27678</td>\n",
       "      <td>EryP</td>\n",
       "      <td>citeseq</td>\n",
       "    </tr>\n",
       "    <tr>\n",
       "      <th>3</th>\n",
       "      <td>917168fa6f83</td>\n",
       "      <td>2</td>\n",
       "      <td>27678</td>\n",
       "      <td>NeuP</td>\n",
       "      <td>citeseq</td>\n",
       "    </tr>\n",
       "    <tr>\n",
       "      <th>4</th>\n",
       "      <td>2b29feeca86d</td>\n",
       "      <td>2</td>\n",
       "      <td>27678</td>\n",
       "      <td>EryP</td>\n",
       "      <td>citeseq</td>\n",
       "    </tr>\n",
       "  </tbody>\n",
       "</table>\n",
       "</div>"
      ],
      "text/plain": [
       "        cell_id  day  donor cell_type technology\n",
       "0  c2150f55becb    2  27678       HSC    citeseq\n",
       "1  65b7edf8a4da    2  27678       HSC    citeseq\n",
       "2  c1b26cb1057b    2  27678      EryP    citeseq\n",
       "3  917168fa6f83    2  27678      NeuP    citeseq\n",
       "4  2b29feeca86d    2  27678      EryP    citeseq"
      ]
     },
     "execution_count": 11,
     "metadata": {},
     "output_type": "execute_result"
    }
   ],
   "source": [
    "%%time\n",
    "meta_data = pd.read_parquet(f'{DATA_DIR}/metadata.parquet')\n",
    "meta_data_cite = meta_data[meta_data['technology'] == 'citeseq']\n",
    "print(meta_data_cite.shape)\n",
    "meta_data.head()"
   ]
  },
  {
   "cell_type": "code",
   "execution_count": 12,
   "id": "568a406d",
   "metadata": {
    "execution": {
     "iopub.execute_input": "2022-11-15T05:07:07.756737Z",
     "iopub.status.busy": "2022-11-15T05:07:07.756437Z",
     "iopub.status.idle": "2022-11-15T05:07:07.876836Z",
     "shell.execute_reply": "2022-11-15T05:07:07.875809Z"
    },
    "papermill": {
     "duration": 0.135234,
     "end_time": "2022-11-15T05:07:07.878996",
     "exception": false,
     "start_time": "2022-11-15T05:07:07.743762",
     "status": "completed"
    },
    "tags": []
   },
   "outputs": [
    {
     "data": {
      "text/plain": [
       "21"
      ]
     },
     "execution_count": 12,
     "metadata": {},
     "output_type": "execute_result"
    }
   ],
   "source": [
    "del meta_data\n",
    "gc.collect()"
   ]
  },
  {
   "cell_type": "code",
   "execution_count": 13,
   "id": "5e09f4e7",
   "metadata": {
    "execution": {
     "iopub.execute_input": "2022-11-15T05:07:07.903704Z",
     "iopub.status.busy": "2022-11-15T05:07:07.903423Z",
     "iopub.status.idle": "2022-11-15T05:07:07.907273Z",
     "shell.execute_reply": "2022-11-15T05:07:07.906307Z"
    },
    "papermill": {
     "duration": 0.018306,
     "end_time": "2022-11-15T05:07:07.909169",
     "exception": false,
     "start_time": "2022-11-15T05:07:07.890863",
     "status": "completed"
    },
    "tags": []
   },
   "outputs": [],
   "source": [
    "# from sklearn.preprocessing import OneHotEncoder"
   ]
  },
  {
   "cell_type": "code",
   "execution_count": 14,
   "id": "a47ecb3f",
   "metadata": {
    "execution": {
     "iopub.execute_input": "2022-11-15T05:07:07.933155Z",
     "iopub.status.busy": "2022-11-15T05:07:07.932882Z",
     "iopub.status.idle": "2022-11-15T05:07:07.936763Z",
     "shell.execute_reply": "2022-11-15T05:07:07.935676Z"
    },
    "papermill": {
     "duration": 0.018315,
     "end_time": "2022-11-15T05:07:07.938640",
     "exception": false,
     "start_time": "2022-11-15T05:07:07.920325",
     "status": "completed"
    },
    "tags": []
   },
   "outputs": [],
   "source": [
    "# cell_type_df = meta_data_cite[['cell_type']].copy()\n",
    "# ohe = OneHotEncoder()\n",
    "# cell_type_df = ohe.fit_transform(cell_type_df)\n",
    "# cell_type_df = pd.DataFrame(cell_type_df.todense(), \n",
    "#                             columns=ohe.get_feature_names())\n",
    "# meta_data_cite = pd.concat([meta_data_cite, cell_type_df], axis=1)\n",
    "# meta_data_cite.head()"
   ]
  },
  {
   "cell_type": "code",
   "execution_count": 15,
   "id": "7ff98c82",
   "metadata": {
    "execution": {
     "iopub.execute_input": "2022-11-15T05:07:07.962761Z",
     "iopub.status.busy": "2022-11-15T05:07:07.961883Z",
     "iopub.status.idle": "2022-11-15T05:07:07.965443Z",
     "shell.execute_reply": "2022-11-15T05:07:07.964807Z"
    },
    "papermill": {
     "duration": 0.017244,
     "end_time": "2022-11-15T05:07:07.967223",
     "exception": false,
     "start_time": "2022-11-15T05:07:07.949979",
     "status": "completed"
    },
    "tags": []
   },
   "outputs": [],
   "source": [
    "# del cell_type_df\n",
    "# gc.collect()"
   ]
  },
  {
   "cell_type": "code",
   "execution_count": 16,
   "id": "03c01d86",
   "metadata": {
    "execution": {
     "iopub.execute_input": "2022-11-15T05:07:07.991525Z",
     "iopub.status.busy": "2022-11-15T05:07:07.991207Z",
     "iopub.status.idle": "2022-11-15T05:07:07.994908Z",
     "shell.execute_reply": "2022-11-15T05:07:07.994043Z"
    },
    "papermill": {
     "duration": 0.018282,
     "end_time": "2022-11-15T05:07:07.996826",
     "exception": false,
     "start_time": "2022-11-15T05:07:07.978544",
     "status": "completed"
    },
    "tags": []
   },
   "outputs": [],
   "source": [
    "# meta_data_cite = meta_data_cite.drop(['day', 'donor',\n",
    "#                                       'cell_type', 'technology'],\n",
    "#                                      axis=1)\n",
    "# cell_ids = meta_data_cite['cell_id']\n",
    "# meta_data_cite = meta_data_cite.drop('cell_id', axis=1)\n",
    "# meta_data_cite.index = cell_ids"
   ]
  },
  {
   "cell_type": "code",
   "execution_count": 17,
   "id": "2363190b",
   "metadata": {
    "execution": {
     "iopub.execute_input": "2022-11-15T05:07:08.021516Z",
     "iopub.status.busy": "2022-11-15T05:07:08.021193Z",
     "iopub.status.idle": "2022-11-15T05:07:08.024328Z",
     "shell.execute_reply": "2022-11-15T05:07:08.023689Z"
    },
    "papermill": {
     "duration": 0.017851,
     "end_time": "2022-11-15T05:07:08.026202",
     "exception": false,
     "start_time": "2022-11-15T05:07:08.008351",
     "status": "completed"
    },
    "tags": []
   },
   "outputs": [],
   "source": [
    "# meta_data_cols = [col for col in meta_data_cite.columns\n",
    "#                   if col != 'cell_id']\n",
    "# meta_data_cols"
   ]
  },
  {
   "cell_type": "code",
   "execution_count": 18,
   "id": "2202320b",
   "metadata": {
    "execution": {
     "iopub.execute_input": "2022-11-15T05:07:08.050563Z",
     "iopub.status.busy": "2022-11-15T05:07:08.049712Z",
     "iopub.status.idle": "2022-11-15T05:07:08.053833Z",
     "shell.execute_reply": "2022-11-15T05:07:08.052956Z"
    },
    "papermill": {
     "duration": 0.01799,
     "end_time": "2022-11-15T05:07:08.055620",
     "exception": false,
     "start_time": "2022-11-15T05:07:08.037630",
     "status": "completed"
    },
    "tags": []
   },
   "outputs": [],
   "source": [
    "# meta_data_cite_dict = meta_data_cite.to_dict('index')\n",
    "# del meta_data_cite, cell_ids\n",
    "# gc.collect()"
   ]
  },
  {
   "cell_type": "code",
   "execution_count": 19,
   "id": "d1d4a1e5",
   "metadata": {
    "execution": {
     "iopub.execute_input": "2022-11-15T05:07:08.080213Z",
     "iopub.status.busy": "2022-11-15T05:07:08.079897Z",
     "iopub.status.idle": "2022-11-15T05:07:08.085544Z",
     "shell.execute_reply": "2022-11-15T05:07:08.084848Z"
    },
    "papermill": {
     "duration": 0.020124,
     "end_time": "2022-11-15T05:07:08.087350",
     "exception": false,
     "start_time": "2022-11-15T05:07:08.067226",
     "status": "completed"
    },
    "tags": []
   },
   "outputs": [
    {
     "data": {
      "text/plain": [
       "((70988, 20856), (48663, 20856))"
      ]
     },
     "execution_count": 19,
     "metadata": {},
     "output_type": "execute_result"
    }
   ],
   "source": [
    "train_inp.shape, test_inp.shape"
   ]
  },
  {
   "cell_type": "code",
   "execution_count": 20,
   "id": "76cd0d23",
   "metadata": {
    "execution": {
     "iopub.execute_input": "2022-11-15T05:07:08.112228Z",
     "iopub.status.busy": "2022-11-15T05:07:08.111953Z",
     "iopub.status.idle": "2022-11-15T05:07:08.172829Z",
     "shell.execute_reply": "2022-11-15T05:07:08.171654Z"
    },
    "papermill": {
     "duration": 0.076233,
     "end_time": "2022-11-15T05:07:08.175364",
     "exception": false,
     "start_time": "2022-11-15T05:07:08.099131",
     "status": "completed"
    },
    "tags": []
   },
   "outputs": [],
   "source": [
    "donor_dict = {row[0]: row[1]\n",
    "              for row in meta_data_cite[['cell_id', 'donor']].values} "
   ]
  },
  {
   "cell_type": "code",
   "execution_count": 21,
   "id": "e8e6c256",
   "metadata": {
    "execution": {
     "iopub.execute_input": "2022-11-15T05:07:08.201286Z",
     "iopub.status.busy": "2022-11-15T05:07:08.200884Z",
     "iopub.status.idle": "2022-11-15T05:07:08.339768Z",
     "shell.execute_reply": "2022-11-15T05:07:08.338672Z"
    },
    "papermill": {
     "duration": 0.154403,
     "end_time": "2022-11-15T05:07:08.342295",
     "exception": false,
     "start_time": "2022-11-15T05:07:08.187892",
     "status": "completed"
    },
    "tags": []
   },
   "outputs": [],
   "source": [
    "train_inp['donor'] = train_inp.index.to_series().map(donor_dict)\\\n",
    "                                                .astype('float32')\n",
    "test_inp['donor'] = test_inp.index.to_series().map(donor_dict)\\\n",
    "                                              .astype('float32')"
   ]
  },
  {
   "cell_type": "code",
   "execution_count": 22,
   "id": "ad0ac74d",
   "metadata": {
    "execution": {
     "iopub.execute_input": "2022-11-15T05:07:08.366125Z",
     "iopub.status.busy": "2022-11-15T05:07:08.365823Z",
     "iopub.status.idle": "2022-11-15T05:07:08.461538Z",
     "shell.execute_reply": "2022-11-15T05:07:08.460505Z"
    },
    "papermill": {
     "duration": 0.109938,
     "end_time": "2022-11-15T05:07:08.463766",
     "exception": false,
     "start_time": "2022-11-15T05:07:08.353828",
     "status": "completed"
    },
    "tags": []
   },
   "outputs": [
    {
     "data": {
      "text/plain": [
       "210"
      ]
     },
     "execution_count": 22,
     "metadata": {},
     "output_type": "execute_result"
    }
   ],
   "source": [
    "del donor_dict\n",
    "gc.collect()"
   ]
  },
  {
   "cell_type": "code",
   "execution_count": 23,
   "id": "3c8167ef",
   "metadata": {
    "execution": {
     "iopub.execute_input": "2022-11-15T05:07:08.489374Z",
     "iopub.status.busy": "2022-11-15T05:07:08.489037Z",
     "iopub.status.idle": "2022-11-15T05:07:08.493493Z",
     "shell.execute_reply": "2022-11-15T05:07:08.492409Z"
    },
    "papermill": {
     "duration": 0.019319,
     "end_time": "2022-11-15T05:07:08.495531",
     "exception": false,
     "start_time": "2022-11-15T05:07:08.476212",
     "status": "completed"
    },
    "tags": []
   },
   "outputs": [],
   "source": [
    "# for col in meta_data_cols:\n",
    "#     train_inp[col] = train_inp.index.to_series()\\\n",
    "#                               .apply(lambda x: meta_data_cite_dict[x][col])\\\n",
    "#                               .astype('float32')\n",
    "#     test_inp[col] = test_inp.index.to_series()\\\n",
    "#                             .apply(lambda x: meta_data_cite_dict[x][col])\\\n",
    "#                             .astype('float32')"
   ]
  },
  {
   "cell_type": "code",
   "execution_count": 24,
   "id": "2eecb4ed",
   "metadata": {
    "execution": {
     "iopub.execute_input": "2022-11-15T05:07:08.521608Z",
     "iopub.status.busy": "2022-11-15T05:07:08.521249Z",
     "iopub.status.idle": "2022-11-15T05:07:08.525198Z",
     "shell.execute_reply": "2022-11-15T05:07:08.524308Z"
    },
    "papermill": {
     "duration": 0.019068,
     "end_time": "2022-11-15T05:07:08.527001",
     "exception": false,
     "start_time": "2022-11-15T05:07:08.507933",
     "status": "completed"
    },
    "tags": []
   },
   "outputs": [],
   "source": [
    "# del meta_data_cite_dict\n",
    "# gc.collect()"
   ]
  },
  {
   "cell_type": "markdown",
   "id": "9c07b6c4",
   "metadata": {
    "papermill": {
     "duration": 0.011964,
     "end_time": "2022-11-15T05:07:08.551305",
     "exception": false,
     "start_time": "2022-11-15T05:07:08.539341",
     "status": "completed"
    },
    "tags": []
   },
   "source": [
    "### Dimension Reduction"
   ]
  },
  {
   "cell_type": "markdown",
   "id": "0251ab56",
   "metadata": {
    "papermill": {
     "duration": 0.012259,
     "end_time": "2022-11-15T05:07:08.575907",
     "exception": false,
     "start_time": "2022-11-15T05:07:08.563648",
     "status": "completed"
    },
    "tags": []
   },
   "source": [
    "Find features in target columns that are related to input columns due to identical names"
   ]
  },
  {
   "cell_type": "code",
   "execution_count": 25,
   "id": "7f957bd8",
   "metadata": {
    "execution": {
     "iopub.execute_input": "2022-11-15T05:07:08.602544Z",
     "iopub.status.busy": "2022-11-15T05:07:08.601910Z",
     "iopub.status.idle": "2022-11-15T05:07:08.605917Z",
     "shell.execute_reply": "2022-11-15T05:07:08.604960Z"
    },
    "papermill": {
     "duration": 0.019803,
     "end_time": "2022-11-15T05:07:08.608043",
     "exception": false,
     "start_time": "2022-11-15T05:07:08.588240",
     "status": "completed"
    },
    "tags": []
   },
   "outputs": [],
   "source": [
    "# %%time\n",
    "# same_name_cols = []\n",
    "# for tar_col in train_tar_cols:\n",
    "#     for inp_col in train_inp_cols:\n",
    "#         if tar_col in inp_col:\n",
    "#             same_name_cols.append(inp_col)\n",
    "# print('Number of target columns shown in training columns:', \n",
    "#       len(same_name_cols))"
   ]
  },
  {
   "cell_type": "markdown",
   "id": "79eb3257",
   "metadata": {
    "papermill": {
     "duration": 0.011529,
     "end_time": "2022-11-15T05:07:08.631148",
     "exception": false,
     "start_time": "2022-11-15T05:07:08.619619",
     "status": "completed"
    },
    "tags": []
   },
   "source": [
    "Keep identical name columns and transform the rest to sparse matrices"
   ]
  },
  {
   "cell_type": "code",
   "execution_count": 26,
   "id": "7e4c3553",
   "metadata": {
    "execution": {
     "iopub.execute_input": "2022-11-15T05:07:08.657172Z",
     "iopub.status.busy": "2022-11-15T05:07:08.656807Z",
     "iopub.status.idle": "2022-11-15T05:07:08.669494Z",
     "shell.execute_reply": "2022-11-15T05:07:08.668539Z"
    },
    "papermill": {
     "duration": 0.028168,
     "end_time": "2022-11-15T05:07:08.671485",
     "exception": false,
     "start_time": "2022-11-15T05:07:08.643317",
     "status": "completed"
    },
    "tags": []
   },
   "outputs": [
    {
     "data": {
      "text/plain": [
       "84"
      ]
     },
     "execution_count": 26,
     "metadata": {},
     "output_type": "execute_result"
    }
   ],
   "source": [
    "# https://www.kaggle.com/code/pourchot/all-in-one-citeseq-multiome-with-keras/notebook\n",
    "same_name_cols = ['ENSG00000135218_CD36',\n",
    " 'ENSG00000010278_CD9',\n",
    " 'ENSG00000204287_HLA-DRA',\n",
    " 'ENSG00000117091_CD48',\n",
    " 'ENSG00000004468_CD38',\n",
    " 'ENSG00000173762_CD7',\n",
    " 'ENSG00000137101_CD72',\n",
    " 'ENSG00000019582_CD74',\n",
    " 'ENSG00000169442_CD52',\n",
    " 'ENSG00000170458_CD14',\n",
    " 'ENSG00000272398_CD24',\n",
    " 'ENSG00000026508_CD44',\n",
    " 'ENSG00000114013_CD86',\n",
    " 'ENSG00000174059_CD34',\n",
    " 'ENSG00000139193_CD27',\n",
    " 'ENSG00000105383_CD33',\n",
    " 'ENSG00000085117_CD82',\n",
    " 'ENSG00000177455_CD19',\n",
    " 'ENSG00000002586_CD99',\n",
    " 'ENSG00000196126_HLA-DRB1',\n",
    " 'ENSG00000135404_CD63',\n",
    " 'ENSG00000012124_CD22',\n",
    " 'ENSG00000134061_CD180',\n",
    " 'ENSG00000105369_CD79A',\n",
    " 'ENSG00000116824_CD2',\n",
    " 'ENSG00000010610_CD4',\n",
    " 'ENSG00000139187_KLRG1',\n",
    " 'ENSG00000204592_HLA-E',\n",
    " 'ENSG00000090470_PDCD7',\n",
    " 'ENSG00000206531_CD200R1L',\n",
    "'ENSG00000166710_B2M',\n",
    " 'ENSG00000198034_RPS4X',\n",
    "'ENSG00000188404_SELL',\n",
    " 'ENSG00000130303_BST2',\n",
    " 'ENSG00000128040_SPINK2',\n",
    " 'ENSG00000206503_HLA-A',\n",
    " 'ENSG00000108107_RPL28',\n",
    " 'ENSG00000143226_FCGR2A',\n",
    " 'ENSG00000133112_TPT1',\n",
    " 'ENSG00000166091_CMTM5',\n",
    " 'ENSG00000026025_VIM',\n",
    " 'ENSG00000205542_TMSB4X',\n",
    " 'ENSG00000109099_PMP22',\n",
    " 'ENSG00000145425_RPS3A',\n",
    " 'ENSG00000172247_C1QTNF4',\n",
    " 'ENSG00000072274_TFRC',\n",
    " 'ENSG00000234745_HLA-B',\n",
    " 'ENSG00000075340_ADD2',\n",
    " 'ENSG00000119865_CNRIP1',\n",
    " 'ENSG00000198938_MT-CO3',\n",
    " 'ENSG00000135046_ANXA1',\n",
    " 'ENSG00000235169_SMIM1',\n",
    " 'ENSG00000101200_AVP',\n",
    " 'ENSG00000167996_FTH1',\n",
    " 'ENSG00000163565_IFI16',\n",
    " 'ENSG00000117450_PRDX1',\n",
    " 'ENSG00000124570_SERPINB6',\n",
    " 'ENSG00000112077_RHAG',\n",
    " 'ENSG00000051523_CYBA',\n",
    "'ENSG00000107130_NCS1',\n",
    " 'ENSG00000055118_KCNH2',\n",
    " 'ENSG00000029534_ANK1',\n",
    " 'ENSG00000169567_HINT1',\n",
    " 'ENSG00000142089_IFITM3',\n",
    " 'ENSG00000139278_GLIPR1',\n",
    " 'ENSG00000142227_EMP3',\n",
    " 'ENSG00000076662_ICAM3',\n",
    " 'ENSG00000143627_PKLR',\n",
    " 'ENSG00000130755_GMFG',\n",
    " 'ENSG00000160593_JAML',\n",
    " 'ENSG00000095932_SMIM24',\n",
    " 'ENSG00000197956_S100A6',\n",
    " 'ENSG00000171476_HOPX',\n",
    " 'ENSG00000116675_DNAJC6',\n",
    " 'ENSG00000100448_CTSG',\n",
    " 'ENSG00000100368_CSF2RB',\n",
    " 'ENSG00000047648_ARHGAP6',\n",
    " 'ENSG00000198918_RPL39',\n",
    " 'ENSG00000196154_S100A4',\n",
    " 'ENSG00000233968_AL157895.1',\n",
    " 'ENSG00000137642_SORL1',\n",
    " 'ENSG00000133816_MICAL2',\n",
    " 'ENSG00000130208_APOC1',\n",
    " 'ENSG00000105610_KLF1']\n",
    "len(same_name_cols)"
   ]
  },
  {
   "cell_type": "code",
   "execution_count": 27,
   "id": "d71ada0c",
   "metadata": {
    "execution": {
     "iopub.execute_input": "2022-11-15T05:07:08.697112Z",
     "iopub.status.busy": "2022-11-15T05:07:08.696734Z",
     "iopub.status.idle": "2022-11-15T05:07:15.691211Z",
     "shell.execute_reply": "2022-11-15T05:07:15.689829Z"
    },
    "papermill": {
     "duration": 7.009794,
     "end_time": "2022-11-15T05:07:15.693542",
     "exception": false,
     "start_time": "2022-11-15T05:07:08.683748",
     "status": "completed"
    },
    "tags": []
   },
   "outputs": [
    {
     "data": {
      "text/plain": [
       "((70988, 84), (48663, 84))"
      ]
     },
     "execution_count": 27,
     "metadata": {},
     "output_type": "execute_result"
    }
   ],
   "source": [
    "train_inp_sn = train_inp[same_name_cols].values\n",
    "test_inp_sn = test_inp[same_name_cols].values\n",
    "train_inp_sn.shape, test_inp_sn.shape"
   ]
  },
  {
   "cell_type": "code",
   "execution_count": 28,
   "id": "ba591398",
   "metadata": {
    "execution": {
     "iopub.execute_input": "2022-11-15T05:07:15.719386Z",
     "iopub.status.busy": "2022-11-15T05:07:15.719059Z",
     "iopub.status.idle": "2022-11-15T05:07:15.726697Z",
     "shell.execute_reply": "2022-11-15T05:07:15.725835Z"
    },
    "papermill": {
     "duration": 0.022632,
     "end_time": "2022-11-15T05:07:15.728550",
     "exception": false,
     "start_time": "2022-11-15T05:07:15.705918",
     "status": "completed"
    },
    "tags": []
   },
   "outputs": [
    {
     "data": {
      "text/plain": [
       "((70988, 1), (48663, 1))"
      ]
     },
     "execution_count": 28,
     "metadata": {},
     "output_type": "execute_result"
    }
   ],
   "source": [
    "train_inp_dn = train_inp[['donor']].values\n",
    "test_inp_dn = test_inp[['donor']].values\n",
    "train_inp_dn.shape, test_inp_dn.shape"
   ]
  },
  {
   "cell_type": "code",
   "execution_count": 29,
   "id": "40d93026",
   "metadata": {
    "execution": {
     "iopub.execute_input": "2022-11-15T05:07:15.753392Z",
     "iopub.status.busy": "2022-11-15T05:07:15.753113Z",
     "iopub.status.idle": "2022-11-15T05:07:15.756655Z",
     "shell.execute_reply": "2022-11-15T05:07:15.755870Z"
    },
    "papermill": {
     "duration": 0.01801,
     "end_time": "2022-11-15T05:07:15.758426",
     "exception": false,
     "start_time": "2022-11-15T05:07:15.740416",
     "status": "completed"
    },
    "tags": []
   },
   "outputs": [],
   "source": [
    "# train_inp_ct = train_inp[meta_data_cols].values\n",
    "# test_inp_ct = test_inp[meta_data_cols].values\n",
    "# train_inp_ct.shape, test_inp_ct.shape"
   ]
  },
  {
   "cell_type": "code",
   "execution_count": 30,
   "id": "01526072",
   "metadata": {
    "execution": {
     "iopub.execute_input": "2022-11-15T05:07:15.782479Z",
     "iopub.status.busy": "2022-11-15T05:07:15.782175Z",
     "iopub.status.idle": "2022-11-15T05:08:28.152427Z",
     "shell.execute_reply": "2022-11-15T05:08:28.151300Z"
    },
    "papermill": {
     "duration": 72.39948,
     "end_time": "2022-11-15T05:08:28.169465",
     "exception": false,
     "start_time": "2022-11-15T05:07:15.769985",
     "status": "completed"
    },
    "tags": []
   },
   "outputs": [
    {
     "name": "stdout",
     "output_type": "stream",
     "text": [
      "CPU times: user 1min 5s, sys: 7.13 s, total: 1min 12s\n",
      "Wall time: 1min 12s\n"
     ]
    },
    {
     "data": {
      "text/plain": [
       "84"
      ]
     },
     "execution_count": 30,
     "metadata": {},
     "output_type": "execute_result"
    }
   ],
   "source": [
    "%%time\n",
    "train_inp = train_inp.drop(same_name_cols, axis=1)\\\n",
    "                     .drop(['donor'], axis=1)\n",
    "train_inp = scipy.sparse.csr_matrix(train_inp.values)\n",
    "test_inp = test_inp.drop(same_name_cols, axis=1)\\\n",
    "                   .drop(['donor'], axis=1)\n",
    "test_inp = scipy.sparse.csr_matrix(test_inp.values)\n",
    "gc.collect()"
   ]
  },
  {
   "cell_type": "markdown",
   "id": "bbf27cbd",
   "metadata": {
    "papermill": {
     "duration": 0.012545,
     "end_time": "2022-11-15T05:08:28.195551",
     "exception": false,
     "start_time": "2022-11-15T05:08:28.183006",
     "status": "completed"
    },
    "tags": []
   },
   "source": [
    "Reduce dimension"
   ]
  },
  {
   "cell_type": "code",
   "execution_count": 31,
   "id": "f6f4b30f",
   "metadata": {
    "execution": {
     "iopub.execute_input": "2022-11-15T05:08:28.222017Z",
     "iopub.status.busy": "2022-11-15T05:08:28.221712Z",
     "iopub.status.idle": "2022-11-15T05:08:29.114669Z",
     "shell.execute_reply": "2022-11-15T05:08:29.113685Z"
    },
    "papermill": {
     "duration": 0.908867,
     "end_time": "2022-11-15T05:08:29.117065",
     "exception": false,
     "start_time": "2022-11-15T05:08:28.208198",
     "status": "completed"
    },
    "tags": []
   },
   "outputs": [],
   "source": [
    "from sklearn.decomposition import TruncatedSVD"
   ]
  },
  {
   "cell_type": "code",
   "execution_count": 32,
   "id": "0b4cf168",
   "metadata": {
    "execution": {
     "iopub.execute_input": "2022-11-15T05:08:29.142328Z",
     "iopub.status.busy": "2022-11-15T05:08:29.142018Z",
     "iopub.status.idle": "2022-11-15T05:10:42.076135Z",
     "shell.execute_reply": "2022-11-15T05:10:42.074605Z"
    },
    "papermill": {
     "duration": 132.949562,
     "end_time": "2022-11-15T05:10:42.078752",
     "exception": false,
     "start_time": "2022-11-15T05:08:29.129190",
     "status": "completed"
    },
    "tags": []
   },
   "outputs": [
    {
     "name": "stdout",
     "output_type": "stream",
     "text": [
      "Sum of Explained Variance:  0.123098195\n",
      "CPU times: user 2min 15s, sys: 3.41 s, total: 2min 18s\n",
      "Wall time: 2min 12s\n"
     ]
    }
   ],
   "source": [
    "%%time\n",
    "## Baseline\n",
    "train_inp_tsvd = TruncatedSVD(n_components=64, \n",
    "                              random_state=42)\n",
    "\n",
    "train_inp = train_inp_tsvd.fit_transform(train_inp)\n",
    "print('Sum of Explained Variance: ',\n",
    "      np.sum(train_inp_tsvd.explained_variance_ratio_))\n",
    "test_inp = train_inp_tsvd.transform(test_inp)"
   ]
  },
  {
   "cell_type": "markdown",
   "id": "5454fb4d",
   "metadata": {
    "papermill": {
     "duration": 0.01202,
     "end_time": "2022-11-15T05:10:42.103427",
     "exception": false,
     "start_time": "2022-11-15T05:10:42.091407",
     "status": "completed"
    },
    "tags": []
   },
   "source": [
    "### Standardization"
   ]
  },
  {
   "cell_type": "code",
   "execution_count": 33,
   "id": "4ec87213",
   "metadata": {
    "execution": {
     "iopub.execute_input": "2022-11-15T05:10:42.128460Z",
     "iopub.status.busy": "2022-11-15T05:10:42.127836Z",
     "iopub.status.idle": "2022-11-15T05:10:42.131875Z",
     "shell.execute_reply": "2022-11-15T05:10:42.131136Z"
    },
    "papermill": {
     "duration": 0.01844,
     "end_time": "2022-11-15T05:10:42.133611",
     "exception": false,
     "start_time": "2022-11-15T05:10:42.115171",
     "status": "completed"
    },
    "tags": []
   },
   "outputs": [],
   "source": [
    "from sklearn.preprocessing import StandardScaler"
   ]
  },
  {
   "cell_type": "code",
   "execution_count": 34,
   "id": "c260464d",
   "metadata": {
    "execution": {
     "iopub.execute_input": "2022-11-15T05:10:42.158385Z",
     "iopub.status.busy": "2022-11-15T05:10:42.157759Z",
     "iopub.status.idle": "2022-11-15T05:10:42.202807Z",
     "shell.execute_reply": "2022-11-15T05:10:42.201482Z"
    },
    "papermill": {
     "duration": 0.06031,
     "end_time": "2022-11-15T05:10:42.205460",
     "exception": false,
     "start_time": "2022-11-15T05:10:42.145150",
     "status": "completed"
    },
    "tags": []
   },
   "outputs": [],
   "source": [
    "train_inp = np.hstack([train_inp, train_inp_sn])\n",
    "test_inp = np.hstack([test_inp, test_inp_sn])"
   ]
  },
  {
   "cell_type": "code",
   "execution_count": 35,
   "id": "a0d01d07",
   "metadata": {
    "execution": {
     "iopub.execute_input": "2022-11-15T05:10:42.232117Z",
     "iopub.status.busy": "2022-11-15T05:10:42.231460Z",
     "iopub.status.idle": "2022-11-15T05:10:42.343273Z",
     "shell.execute_reply": "2022-11-15T05:10:42.342114Z"
    },
    "papermill": {
     "duration": 0.127915,
     "end_time": "2022-11-15T05:10:42.345545",
     "exception": false,
     "start_time": "2022-11-15T05:10:42.217630",
     "status": "completed"
    },
    "tags": []
   },
   "outputs": [
    {
     "data": {
      "text/plain": [
       "84"
      ]
     },
     "execution_count": 35,
     "metadata": {},
     "output_type": "execute_result"
    }
   ],
   "source": [
    "del train_inp_sn, test_inp_sn\n",
    "gc.collect()"
   ]
  },
  {
   "cell_type": "code",
   "execution_count": 36,
   "id": "d29ef800",
   "metadata": {
    "execution": {
     "iopub.execute_input": "2022-11-15T05:10:42.372587Z",
     "iopub.status.busy": "2022-11-15T05:10:42.371581Z",
     "iopub.status.idle": "2022-11-15T05:10:42.561129Z",
     "shell.execute_reply": "2022-11-15T05:10:42.559984Z"
    },
    "papermill": {
     "duration": 0.206125,
     "end_time": "2022-11-15T05:10:42.564445",
     "exception": false,
     "start_time": "2022-11-15T05:10:42.358320",
     "status": "completed"
    },
    "tags": []
   },
   "outputs": [
    {
     "name": "stdout",
     "output_type": "stream",
     "text": [
      "CPU times: user 157 ms, sys: 27.1 ms, total: 184 ms\n",
      "Wall time: 183 ms\n"
     ]
    }
   ],
   "source": [
    "%%time\n",
    "sc = StandardScaler()\n",
    "train_inp = sc.fit_transform(train_inp)\n",
    "test_inp = sc.transform(test_inp)"
   ]
  },
  {
   "cell_type": "code",
   "execution_count": 37,
   "id": "baa2d45e",
   "metadata": {
    "execution": {
     "iopub.execute_input": "2022-11-15T05:10:42.590963Z",
     "iopub.status.busy": "2022-11-15T05:10:42.590620Z",
     "iopub.status.idle": "2022-11-15T05:10:42.620510Z",
     "shell.execute_reply": "2022-11-15T05:10:42.619147Z"
    },
    "papermill": {
     "duration": 0.045672,
     "end_time": "2022-11-15T05:10:42.623149",
     "exception": false,
     "start_time": "2022-11-15T05:10:42.577477",
     "status": "completed"
    },
    "tags": []
   },
   "outputs": [],
   "source": [
    "train_inp = np.hstack([train_inp, train_inp_dn])\n",
    "test_inp = np.hstack([test_inp, test_inp_dn])"
   ]
  },
  {
   "cell_type": "code",
   "execution_count": 38,
   "id": "b6c18359",
   "metadata": {
    "execution": {
     "iopub.execute_input": "2022-11-15T05:10:42.648792Z",
     "iopub.status.busy": "2022-11-15T05:10:42.648232Z",
     "iopub.status.idle": "2022-11-15T05:10:42.755190Z",
     "shell.execute_reply": "2022-11-15T05:10:42.754051Z"
    },
    "papermill": {
     "duration": 0.122176,
     "end_time": "2022-11-15T05:10:42.757489",
     "exception": false,
     "start_time": "2022-11-15T05:10:42.635313",
     "status": "completed"
    },
    "tags": []
   },
   "outputs": [
    {
     "data": {
      "text/plain": [
       "63"
      ]
     },
     "execution_count": 38,
     "metadata": {},
     "output_type": "execute_result"
    }
   ],
   "source": [
    "del train_inp_dn, test_inp_dn\n",
    "gc.collect()"
   ]
  },
  {
   "cell_type": "code",
   "execution_count": 39,
   "id": "0bf8b433",
   "metadata": {
    "execution": {
     "iopub.execute_input": "2022-11-15T05:10:42.785502Z",
     "iopub.status.busy": "2022-11-15T05:10:42.784948Z",
     "iopub.status.idle": "2022-11-15T05:10:42.791413Z",
     "shell.execute_reply": "2022-11-15T05:10:42.790540Z"
    },
    "papermill": {
     "duration": 0.023306,
     "end_time": "2022-11-15T05:10:42.793720",
     "exception": false,
     "start_time": "2022-11-15T05:10:42.770414",
     "status": "completed"
    },
    "tags": []
   },
   "outputs": [
    {
     "data": {
      "text/plain": [
       "((70988, 149), (48663, 149))"
      ]
     },
     "execution_count": 39,
     "metadata": {},
     "output_type": "execute_result"
    }
   ],
   "source": [
    "train_inp.shape, test_inp.shape"
   ]
  },
  {
   "cell_type": "code",
   "execution_count": 40,
   "id": "f32f62bb",
   "metadata": {
    "execution": {
     "iopub.execute_input": "2022-11-15T05:10:42.821206Z",
     "iopub.status.busy": "2022-11-15T05:10:42.820921Z",
     "iopub.status.idle": "2022-11-15T05:10:42.945983Z",
     "shell.execute_reply": "2022-11-15T05:10:42.944925Z"
    },
    "papermill": {
     "duration": 0.14087,
     "end_time": "2022-11-15T05:10:42.947891",
     "exception": false,
     "start_time": "2022-11-15T05:10:42.807021",
     "status": "completed"
    },
    "tags": []
   },
   "outputs": [
    {
     "name": "stdout",
     "output_type": "stream",
     "text": [
      "CPU times: user 21.8 ms, sys: 99 ms, total: 121 ms\n",
      "Wall time: 120 ms\n"
     ]
    }
   ],
   "source": [
    "%%time\n",
    "dump_pickle(train_inp, 'train_inp')\n",
    "dump_pickle(test_inp, 'test_inp')"
   ]
  }
 ],
 "metadata": {
  "kernelspec": {
   "display_name": "Python 3",
   "language": "python",
   "name": "python3"
  },
  "language_info": {
   "codemirror_mode": {
    "name": "ipython",
    "version": 3
   },
   "file_extension": ".py",
   "mimetype": "text/x-python",
   "name": "python",
   "nbconvert_exporter": "python",
   "pygments_lexer": "ipython3",
   "version": "3.7.12"
  },
  "papermill": {
   "default_parameters": {},
   "duration": 349.94637,
   "end_time": "2022-11-15T05:10:43.581948",
   "environment_variables": {},
   "exception": null,
   "input_path": "__notebook__.ipynb",
   "output_path": "__notebook__.ipynb",
   "parameters": {},
   "start_time": "2022-11-15T05:04:53.635578",
   "version": "2.3.4"
  }
 },
 "nbformat": 4,
 "nbformat_minor": 5
}
